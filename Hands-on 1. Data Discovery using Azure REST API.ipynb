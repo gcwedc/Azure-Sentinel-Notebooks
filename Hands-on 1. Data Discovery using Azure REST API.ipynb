{
  "cells": [
    {
      "attachments": {},
      "cell_type": "markdown",
      "metadata": {
        "nteract": {
          "transient": {
            "deleting": false
          }
        }
      },
      "source": [
        "# Hands on - Data Discovery using Azure REST API\n",
        "\n",
        "__Notebook Version:__ 1.0<br>\n",
        "__Python Version:__ Python 3.8 - AzureML<br>\n",
        "__Required Packages:__ No<br>\n",
        "__Platforms Supported:__  Azure Machine Learning Notebooks\n",
        "     \n",
        "__Data Source Required:__ Log Analytics tables \n",
        "    \n",
        "### Description\n",
        "This notebook will provide step-by-step instructions and sample code to guide you through Azure authentication, Microsoft Sentinel data discovery by using Azure REST API.<br>\n",
        "*** No need to download and install any other Python modules. ***<br>\n",
        "*** Please run the cells sequentially to avoid errors. *** <br>\n",
        "\n",
        "## Table of Contents\n",
        "1. Warm-up\n",
        "2. Azure Authentication\n",
        "3. List Microsoft Sentinel Watchlists Using API\n",
        "4. List Microsoft Sentinel Incidents Using API"
      ]
    },
    {
      "attachments": {},
      "cell_type": "markdown",
      "metadata": {
        "nteract": {
          "transient": {
            "deleting": false
          }
        }
      },
      "source": [
        "## 1. Warm-up"
      ]
    },
    {
      "cell_type": "code",
      "execution_count": null,
      "metadata": {
        "collapsed": true,
        "gather": {
          "logged": 1627596066714
        },
        "jupyter": {
          "outputs_hidden": false,
          "source_hidden": false
        },
        "nteract": {
          "transient": {
            "deleting": false
          }
        }
      },
      "outputs": [],
      "source": [
        "# If you need to know what Python modules are available, you may run this:\n",
        "# help(\"modules\")"
      ]
    },
    {
      "cell_type": "code",
      "execution_count": 1,
      "metadata": {
        "collapsed": true,
        "gather": {
          "logged": 1685047925340
        },
        "jupyter": {
          "outputs_hidden": false,
          "source_hidden": false
        },
        "nteract": {
          "transient": {
            "deleting": false
          }
        }
      },
      "outputs": [],
      "source": [
        "# Loading Python libraries\n",
        "from azure.identity import AzureCliCredential\n",
        "\n",
        "import requests\n",
        "import json\n",
        "import pandas\n",
        "from IPython.display import display, HTML, Markdown"
      ]
    },
    {
      "cell_type": "code",
      "execution_count": 6,
      "metadata": {
        "collapsed": true,
        "gather": {
          "logged": 1685047927231
        },
        "jupyter": {
          "outputs_hidden": false,
          "source_hidden": false
        },
        "nteract": {
          "transient": {
            "deleting": false
          }
        }
      },
      "outputs": [],
      "source": [
        "# Functions will be used in this notebook\n",
        "def read_config_values(file_path):\n",
        "    \"This loads pre-generated parameters for Microsoft Sentinel Workspace\"\n",
        "    with open(file_path) as json_file:\n",
        "        if json_file:\n",
        "            json_config = json.load(json_file)\n",
        "            return (json_config[\"tenant_id\"],\n",
        "                    json_config[\"subscription_id\"],\n",
        "                    json_config[\"resource_group\"],\n",
        "                    json_config[\"workspace_id\"],\n",
        "                    json_config[\"workspace_name\"],\n",
        "                    json_config[\"user_alias\"],\n",
        "                    json_config[\"user_object_id\"])\n",
        "    return None\n",
        "\n",
        "def has_valid_token():\n",
        "    \"Check to see if there is a valid AAD token\"\n",
        "    try:\n",
        "        error = \"Please run 'az login'\"\n",
        "        expired = \"AADSTS70043: The refresh token has expired or is invalid\"\n",
        "        failed = \"failed\"\n",
        "        validator = !az account get-access-token\n",
        "        \n",
        "        if any(expired in item for item in validator.get_list()):\n",
        "            return '**The refresh token has expired. <br> Please continue your login process. Then: <br> 1. If you plan to run multiple notebooks on the same compute instance today, you may restart the compute instance by clicking \"Compute\" on left menu, then select the instance, clicking \"Restart\"; <br> 2. Otherwise, you may just restart the kernel from top menu. <br> Finally, close and re-load the notebook, then re-run cells one by one from the top.**'\n",
        "        elif any(error in item for item in validator.get_list()) or any(failed in item for item in validator.get_list()):\n",
        "            return \"Please run 'az login' to setup account\"\n",
        "        else:\n",
        "            return None\n",
        "    except:\n",
        "        return \"Please login\"\n",
        "        \n",
        "# Calling Microsoft Sentinel API for List, the same template can be used for calling other Azure REST APIs with different parameters.\n",
        "# For different environments, such as national clouds, you may need to use different root_url, please contact with your admins.\n",
        "# It can be ---.azure.us, ---.azure.microsoft.scloud, ---.azure.eaglex.ic.gov, etc.\n",
        "def call_azure_rest_api_for_list(token, resource_name, api_version):\n",
        "    \"Calling Microsoft Sentinel REST API\"\n",
        "    headers = {\"Authorization\": token, \"content-type\":\"application/json\" }\n",
        "    provider_name = \"Microsoft.OperationalInsights\"\n",
        "    provider2_name = \"Microsoft.SecurityInsights\"\n",
        "    target_resource_name = resource_name\n",
        "    api_version = api_version\n",
        "    root_url = \"https://management.azure.com\"\n",
        "    arm_rest_url_template_for_list = \"{0}/subscriptions/{1}/resourceGroups/{2}/providers/{3}/workspaces/{4}/providers/{5}/{6}?api-version={7}\"\n",
        "    arm_rest_url = arm_rest_url_template_for_list.format(root_url, subscription_id, resource_group, provider_name, workspace_name, provider2_name, target_resource_name, api_version)\n",
        "    response = requests.get(arm_rest_url, headers=headers, verify=True)\n",
        "    return response\n",
        "\n",
        "def display_result_name(response):\n",
        "    \"Default to display column - name, you may change it to other columns\"\n",
        "    column_name = \"name\"\n",
        "    if response != None:\n",
        "        entries = [item[column_name] for item in response.json()[\"value\"]] \n",
        "        display(entries)\n",
        "\n",
        "def display_result(response):\n",
        "    \"Display the result set as pandas.DataFrame\"\n",
        "    if response != None:\n",
        "        df = pandas.DataFrame(response.json()[\"value\"])\n",
        "        display(df)"
      ]
    },
    {
      "cell_type": "code",
      "execution_count": 7,
      "metadata": {
        "collapsed": true,
        "gather": {
          "logged": 1685047930472
        },
        "jupyter": {
          "outputs_hidden": false,
          "source_hidden": false
        },
        "nteract": {
          "transient": {
            "deleting": false
          }
        }
      },
      "outputs": [
        {
          "ename": "NameError",
          "evalue": "name 'json' is not defined",
          "output_type": "error",
          "traceback": [
            "\u001b[1;31m---------------------------------------------------------------------------\u001b[0m",
            "\u001b[1;31mNameError\u001b[0m                                 Traceback (most recent call last)",
            "\u001b[1;32mc:\\WEDCVisualStudio\\Jupyter Notebooks\\Azure-Sentinel-Notebooks\\Hands-on 1. Data Discovery using Azure REST API.ipynb Cell 6\u001b[0m in \u001b[0;36m3\n\u001b[0;32m      <a href='vscode-notebook-cell:/c%3A/WEDCVisualStudio/Jupyter%20Notebooks/Azure-Sentinel-Notebooks/Hands-on%201.%20Data%20Discovery%20using%20Azure%20REST%20API.ipynb#W5sZmlsZQ%3D%3D?line=0'>1</a>\u001b[0m \u001b[39m# Calling the above function to populate Microsoft Sentinel workspace parameters\u001b[39;00m\n\u001b[0;32m      <a href='vscode-notebook-cell:/c%3A/WEDCVisualStudio/Jupyter%20Notebooks/Azure-Sentinel-Notebooks/Hands-on%201.%20Data%20Discovery%20using%20Azure%20REST%20API.ipynb#W5sZmlsZQ%3D%3D?line=1'>2</a>\u001b[0m \u001b[39m# The file, config.json, was generated by the system, however, you may modify the values, or manually set the variables\u001b[39;00m\n\u001b[1;32m----> <a href='vscode-notebook-cell:/c%3A/WEDCVisualStudio/Jupyter%20Notebooks/Azure-Sentinel-Notebooks/Hands-on%201.%20Data%20Discovery%20using%20Azure%20REST%20API.ipynb#W5sZmlsZQ%3D%3D?line=2'>3</a>\u001b[0m tenant_id, subscription_id, resource_group, workspace_id, workspace_name, user_alias, user_object_id \u001b[39m=\u001b[39m read_config_values(\u001b[39m'\u001b[39;49m\u001b[39mconfig.json\u001b[39;49m\u001b[39m'\u001b[39;49m)\n",
            "\u001b[1;32mc:\\WEDCVisualStudio\\Jupyter Notebooks\\Azure-Sentinel-Notebooks\\Hands-on 1. Data Discovery using Azure REST API.ipynb Cell 6\u001b[0m in \u001b[0;36m6\n\u001b[0;32m      <a href='vscode-notebook-cell:/c%3A/WEDCVisualStudio/Jupyter%20Notebooks/Azure-Sentinel-Notebooks/Hands-on%201.%20Data%20Discovery%20using%20Azure%20REST%20API.ipynb#W5sZmlsZQ%3D%3D?line=3'>4</a>\u001b[0m \u001b[39mwith\u001b[39;00m \u001b[39mopen\u001b[39m(file_path) \u001b[39mas\u001b[39;00m json_file:\n\u001b[0;32m      <a href='vscode-notebook-cell:/c%3A/WEDCVisualStudio/Jupyter%20Notebooks/Azure-Sentinel-Notebooks/Hands-on%201.%20Data%20Discovery%20using%20Azure%20REST%20API.ipynb#W5sZmlsZQ%3D%3D?line=4'>5</a>\u001b[0m     \u001b[39mif\u001b[39;00m json_file:\n\u001b[1;32m----> <a href='vscode-notebook-cell:/c%3A/WEDCVisualStudio/Jupyter%20Notebooks/Azure-Sentinel-Notebooks/Hands-on%201.%20Data%20Discovery%20using%20Azure%20REST%20API.ipynb#W5sZmlsZQ%3D%3D?line=5'>6</a>\u001b[0m         json_config \u001b[39m=\u001b[39m json\u001b[39m.\u001b[39mload(json_file)\n\u001b[0;32m      <a href='vscode-notebook-cell:/c%3A/WEDCVisualStudio/Jupyter%20Notebooks/Azure-Sentinel-Notebooks/Hands-on%201.%20Data%20Discovery%20using%20Azure%20REST%20API.ipynb#W5sZmlsZQ%3D%3D?line=6'>7</a>\u001b[0m         \u001b[39mreturn\u001b[39;00m (json_config[\u001b[39m\"\u001b[39m\u001b[39mtenant_id\u001b[39m\u001b[39m\"\u001b[39m],\n\u001b[0;32m      <a href='vscode-notebook-cell:/c%3A/WEDCVisualStudio/Jupyter%20Notebooks/Azure-Sentinel-Notebooks/Hands-on%201.%20Data%20Discovery%20using%20Azure%20REST%20API.ipynb#W5sZmlsZQ%3D%3D?line=7'>8</a>\u001b[0m                 json_config[\u001b[39m\"\u001b[39m\u001b[39msubscription_id\u001b[39m\u001b[39m\"\u001b[39m],\n\u001b[0;32m      <a href='vscode-notebook-cell:/c%3A/WEDCVisualStudio/Jupyter%20Notebooks/Azure-Sentinel-Notebooks/Hands-on%201.%20Data%20Discovery%20using%20Azure%20REST%20API.ipynb#W5sZmlsZQ%3D%3D?line=8'>9</a>\u001b[0m                 json_config[\u001b[39m\"\u001b[39m\u001b[39mresource_group\u001b[39m\u001b[39m\"\u001b[39m],\n\u001b[1;32m   (...)\u001b[0m\n\u001b[0;32m     <a href='vscode-notebook-cell:/c%3A/WEDCVisualStudio/Jupyter%20Notebooks/Azure-Sentinel-Notebooks/Hands-on%201.%20Data%20Discovery%20using%20Azure%20REST%20API.ipynb#W5sZmlsZQ%3D%3D?line=11'>12</a>\u001b[0m                 json_config[\u001b[39m\"\u001b[39m\u001b[39muser_alias\u001b[39m\u001b[39m\"\u001b[39m],\n\u001b[0;32m     <a href='vscode-notebook-cell:/c%3A/WEDCVisualStudio/Jupyter%20Notebooks/Azure-Sentinel-Notebooks/Hands-on%201.%20Data%20Discovery%20using%20Azure%20REST%20API.ipynb#W5sZmlsZQ%3D%3D?line=12'>13</a>\u001b[0m                 json_config[\u001b[39m\"\u001b[39m\u001b[39muser_object_id\u001b[39m\u001b[39m\"\u001b[39m])\n\u001b[0;32m     <a href='vscode-notebook-cell:/c%3A/WEDCVisualStudio/Jupyter%20Notebooks/Azure-Sentinel-Notebooks/Hands-on%201.%20Data%20Discovery%20using%20Azure%20REST%20API.ipynb#W5sZmlsZQ%3D%3D?line=13'>14</a>\u001b[0m \u001b[39mreturn\u001b[39;00m \u001b[39mNone\u001b[39;00m\n",
            "\u001b[1;31mNameError\u001b[0m: name 'json' is not defined"
          ]
        }
      ],
      "source": [
        "# Calling the above function to populate Microsoft Sentinel workspace parameters\n",
        "# The file, config.json, was generated by the system, however, you may modify the values, or manually set the variables\n",
        "tenant_id, subscription_id, resource_group, workspace_id, workspace_name, user_alias, user_object_id = read_config_values('config.json');"
      ]
    },
    {
      "attachments": {},
      "cell_type": "markdown",
      "metadata": {
        "nteract": {
          "transient": {
            "deleting": false
          }
        }
      },
      "source": [
        "## 2. Azure Authentication"
      ]
    },
    {
      "cell_type": "code",
      "execution_count": 8,
      "metadata": {
        "gather": {
          "logged": 1685047932761
        }
      },
      "outputs": [
        {
          "ename": "NameError",
          "evalue": "name 'Markdown' is not defined",
          "output_type": "error",
          "traceback": [
            "\u001b[1;31m---------------------------------------------------------------------------\u001b[0m",
            "\u001b[1;31mNameError\u001b[0m                                 Traceback (most recent call last)",
            "\u001b[1;32mc:\\WEDCVisualStudio\\Jupyter Notebooks\\Azure-Sentinel-Notebooks\\Hands-on 1. Data Discovery using Azure REST API.ipynb Cell 8\u001b[0m in \u001b[0;36m5\n\u001b[0;32m      <a href='vscode-notebook-cell:/c%3A/WEDCVisualStudio/Jupyter%20Notebooks/Azure-Sentinel-Notebooks/Hands-on%201.%20Data%20Discovery%20using%20Azure%20REST%20API.ipynb#X10sZmlsZQ%3D%3D?line=2'>3</a>\u001b[0m \u001b[39mif\u001b[39;00m has_valid_token() \u001b[39m!=\u001b[39m \u001b[39mNone\u001b[39;00m:\n\u001b[0;32m      <a href='vscode-notebook-cell:/c%3A/WEDCVisualStudio/Jupyter%20Notebooks/Azure-Sentinel-Notebooks/Hands-on%201.%20Data%20Discovery%20using%20Azure%20REST%20API.ipynb#X10sZmlsZQ%3D%3D?line=3'>4</a>\u001b[0m     message \u001b[39m=\u001b[39m \u001b[39m'\u001b[39m\u001b[39m**The refresh token has expired. <br> Please continue your login process. Then: <br> 1. If you plan to run multiple notebooks on the same compute instance today, you may restart the compute instance by clicking \u001b[39m\u001b[39m\"\u001b[39m\u001b[39mCompute\u001b[39m\u001b[39m\"\u001b[39m\u001b[39m on left menu, then select the instance, clicking \u001b[39m\u001b[39m\"\u001b[39m\u001b[39mRestart\u001b[39m\u001b[39m\"\u001b[39m\u001b[39m; <br> 2. Otherwise, you may just restart the kernel from top menu. <br> Finally, close and re-load the notebook, then re-run cells one by one from the top.**\u001b[39m\u001b[39m'\u001b[39m\n\u001b[1;32m----> <a href='vscode-notebook-cell:/c%3A/WEDCVisualStudio/Jupyter%20Notebooks/Azure-Sentinel-Notebooks/Hands-on%201.%20Data%20Discovery%20using%20Azure%20REST%20API.ipynb#X10sZmlsZQ%3D%3D?line=4'>5</a>\u001b[0m     display(Markdown(message))\n\u001b[0;32m      <a href='vscode-notebook-cell:/c%3A/WEDCVisualStudio/Jupyter%20Notebooks/Azure-Sentinel-Notebooks/Hands-on%201.%20Data%20Discovery%20using%20Azure%20REST%20API.ipynb#X10sZmlsZQ%3D%3D?line=5'>6</a>\u001b[0m     get_ipython()\u001b[39m.\u001b[39msystem(\u001b[39m\"\u001b[39m\u001b[39mecho -e \u001b[39m\u001b[39m'\u001b[39m\u001b[39m\\\\\u001b[39;00m\u001b[39me[42m\u001b[39m\u001b[39m'\u001b[39m\u001b[39m\"\u001b[39m)\n\u001b[0;32m      <a href='vscode-notebook-cell:/c%3A/WEDCVisualStudio/Jupyter%20Notebooks/Azure-Sentinel-Notebooks/Hands-on%201.%20Data%20Discovery%20using%20Azure%20REST%20API.ipynb#X10sZmlsZQ%3D%3D?line=6'>7</a>\u001b[0m     get_ipython()\u001b[39m.\u001b[39msystem(\u001b[39m'\u001b[39m\u001b[39maz login --tenant $tenant_id --use-device-code\u001b[39m\u001b[39m'\u001b[39m)\n",
            "\u001b[1;31mNameError\u001b[0m: name 'Markdown' is not defined"
          ]
        }
      ],
      "source": [
        "# Azure CLI is used to get device code to login into Azure, you need to copy the code and open the DeviceLogin site.\n",
        "# You may add [--tenant $tenant_id] to the command\n",
        "if has_valid_token() != None:\n",
        "    message = '**The refresh token has expired. <br> Please continue your login process. Then: <br> 1. If you plan to run multiple notebooks on the same compute instance today, you may restart the compute instance by clicking \"Compute\" on left menu, then select the instance, clicking \"Restart\"; <br> 2. Otherwise, you may just restart the kernel from top menu. <br> Finally, close and re-load the notebook, then re-run cells one by one from the top.**'\n",
        "    display(Markdown(message))\n",
        "    !echo -e '\\e[42m'\n",
        "    !az login --tenant $tenant_id --use-device-code"
      ]
    },
    {
      "cell_type": "code",
      "execution_count": 8,
      "metadata": {
        "collapsed": true,
        "gather": {
          "logged": 1685047935295
        },
        "jupyter": {
          "outputs_hidden": false,
          "source_hidden": false
        },
        "nteract": {
          "transient": {
            "deleting": false
          }
        }
      },
      "outputs": [
        {
          "name": "stderr",
          "output_type": "stream",
          "text": [
            "AzureCliCredential.get_token failed: Failed to invoke the Azure CLI\n"
          ]
        },
        {
          "ename": "CredentialUnavailableError",
          "evalue": "Failed to invoke the Azure CLI",
          "output_type": "error",
          "traceback": [
            "\u001b[1;31m---------------------------------------------------------------------------\u001b[0m",
            "\u001b[1;31mTimeoutExpired\u001b[0m                            Traceback (most recent call last)",
            "File \u001b[1;32mc:\\WEDCVisualStudio\\Jupyter Notebooks\\Azure-Sentinel-Notebooks\\.venv\\lib\\site-packages\\azure\\identity\\_credentials\\azure_cli.py:149\u001b[0m, in \u001b[0;36m_run_command\u001b[1;34m(command)\u001b[0m\n\u001b[0;32m    147\u001b[0m         kwargs[\u001b[39m\"\u001b[39m\u001b[39mtimeout\u001b[39m\u001b[39m\"\u001b[39m] \u001b[39m=\u001b[39m \u001b[39m10\u001b[39m\n\u001b[1;32m--> 149\u001b[0m     \u001b[39mreturn\u001b[39;00m subprocess\u001b[39m.\u001b[39mcheck_output(args, \u001b[39m*\u001b[39m\u001b[39m*\u001b[39mkwargs)\n\u001b[0;32m    150\u001b[0m \u001b[39mexcept\u001b[39;00m subprocess\u001b[39m.\u001b[39mCalledProcessError \u001b[39mas\u001b[39;00m ex:\n\u001b[0;32m    151\u001b[0m     \u001b[39m# non-zero return from shell\u001b[39;00m\n",
            "File \u001b[1;32mC:\\Program Files\\Python39\\lib\\subprocess.py:424\u001b[0m, in \u001b[0;36mcheck_output\u001b[1;34m(timeout, *popenargs, **kwargs)\u001b[0m\n\u001b[0;32m    422\u001b[0m     kwargs[\u001b[39m'\u001b[39m\u001b[39minput\u001b[39m\u001b[39m'\u001b[39m] \u001b[39m=\u001b[39m empty\n\u001b[1;32m--> 424\u001b[0m \u001b[39mreturn\u001b[39;00m run(\u001b[39m*\u001b[39mpopenargs, stdout\u001b[39m=\u001b[39mPIPE, timeout\u001b[39m=\u001b[39mtimeout, check\u001b[39m=\u001b[39m\u001b[39mTrue\u001b[39;00m,\n\u001b[0;32m    425\u001b[0m            \u001b[39m*\u001b[39m\u001b[39m*\u001b[39mkwargs)\u001b[39m.\u001b[39mstdout\n",
            "File \u001b[1;32mC:\\Program Files\\Python39\\lib\\subprocess.py:507\u001b[0m, in \u001b[0;36mrun\u001b[1;34m(input, capture_output, timeout, check, *popenargs, **kwargs)\u001b[0m\n\u001b[0;32m    506\u001b[0m \u001b[39mtry\u001b[39;00m:\n\u001b[1;32m--> 507\u001b[0m     stdout, stderr \u001b[39m=\u001b[39m process\u001b[39m.\u001b[39;49mcommunicate(\u001b[39minput\u001b[39;49m, timeout\u001b[39m=\u001b[39;49mtimeout)\n\u001b[0;32m    508\u001b[0m \u001b[39mexcept\u001b[39;00m TimeoutExpired \u001b[39mas\u001b[39;00m exc:\n",
            "File \u001b[1;32mC:\\Program Files\\Python39\\lib\\subprocess.py:1134\u001b[0m, in \u001b[0;36mPopen.communicate\u001b[1;34m(self, input, timeout)\u001b[0m\n\u001b[0;32m   1133\u001b[0m \u001b[39mtry\u001b[39;00m:\n\u001b[1;32m-> 1134\u001b[0m     stdout, stderr \u001b[39m=\u001b[39m \u001b[39mself\u001b[39;49m\u001b[39m.\u001b[39;49m_communicate(\u001b[39minput\u001b[39;49m, endtime, timeout)\n\u001b[0;32m   1135\u001b[0m \u001b[39mexcept\u001b[39;00m \u001b[39mKeyboardInterrupt\u001b[39;00m:\n\u001b[0;32m   1136\u001b[0m     \u001b[39m# https://bugs.python.org/issue25942\u001b[39;00m\n\u001b[0;32m   1137\u001b[0m     \u001b[39m# See the detailed comment in .wait().\u001b[39;00m\n",
            "File \u001b[1;32mC:\\Program Files\\Python39\\lib\\subprocess.py:1510\u001b[0m, in \u001b[0;36mPopen._communicate\u001b[1;34m(self, input, endtime, orig_timeout)\u001b[0m\n\u001b[0;32m   1509\u001b[0m     \u001b[39mif\u001b[39;00m \u001b[39mself\u001b[39m\u001b[39m.\u001b[39mstdout_thread\u001b[39m.\u001b[39mis_alive():\n\u001b[1;32m-> 1510\u001b[0m         \u001b[39mraise\u001b[39;00m TimeoutExpired(\u001b[39mself\u001b[39m\u001b[39m.\u001b[39margs, orig_timeout)\n\u001b[0;32m   1511\u001b[0m \u001b[39mif\u001b[39;00m \u001b[39mself\u001b[39m\u001b[39m.\u001b[39mstderr \u001b[39mis\u001b[39;00m \u001b[39mnot\u001b[39;00m \u001b[39mNone\u001b[39;00m:\n",
            "\u001b[1;31mTimeoutExpired\u001b[0m: Command '['cmd', '/c', 'az account get-access-token --output json --resource https://management.azure.com']' timed out after 10 seconds",
            "\nThe above exception was the direct cause of the following exception:\n",
            "\u001b[1;31mCredentialUnavailableError\u001b[0m                Traceback (most recent call last)",
            "\u001b[1;32mc:\\WEDCVisualStudio\\Jupyter Notebooks\\Azure-Sentinel-Notebooks\\Hands-on 1. Data Discovery using Azure REST API.ipynb Cell 9\u001b[0m in \u001b[0;36m2\n\u001b[0;32m      <a href='vscode-notebook-cell:/c%3A/WEDCVisualStudio/Jupyter%20Notebooks/Azure-Sentinel-Notebooks/Hands-on%201.%20Data%20Discovery%20using%20Azure%20REST%20API.ipynb#X11sZmlsZQ%3D%3D?line=0'>1</a>\u001b[0m \u001b[39m# Extract access token, which will be used to access Microsoft Sentinel Watchlist API for your Watchlist data.  \u001b[39;00m\n\u001b[1;32m----> <a href='vscode-notebook-cell:/c%3A/WEDCVisualStudio/Jupyter%20Notebooks/Azure-Sentinel-Notebooks/Hands-on%201.%20Data%20Discovery%20using%20Azure%20REST%20API.ipynb#X11sZmlsZQ%3D%3D?line=1'>2</a>\u001b[0m token \u001b[39m=\u001b[39m AzureCliCredential()\u001b[39m.\u001b[39;49mget_token(\u001b[39m'\u001b[39;49m\u001b[39mhttps://management.azure.com\u001b[39;49m\u001b[39m'\u001b[39;49m)\n\u001b[0;32m      <a href='vscode-notebook-cell:/c%3A/WEDCVisualStudio/Jupyter%20Notebooks/Azure-Sentinel-Notebooks/Hands-on%201.%20Data%20Discovery%20using%20Azure%20REST%20API.ipynb#X11sZmlsZQ%3D%3D?line=2'>3</a>\u001b[0m access_token \u001b[39m=\u001b[39m token\u001b[39m.\u001b[39mtoken\n\u001b[0;32m      <a href='vscode-notebook-cell:/c%3A/WEDCVisualStudio/Jupyter%20Notebooks/Azure-Sentinel-Notebooks/Hands-on%201.%20Data%20Discovery%20using%20Azure%20REST%20API.ipynb#X11sZmlsZQ%3D%3D?line=3'>4</a>\u001b[0m header_token_value \u001b[39m=\u001b[39m \u001b[39m\"\u001b[39m\u001b[39mBearer \u001b[39m\u001b[39m{}\u001b[39;00m\u001b[39m\"\u001b[39m\u001b[39m.\u001b[39mformat(access_token)\n",
            "File \u001b[1;32mc:\\WEDCVisualStudio\\Jupyter Notebooks\\Azure-Sentinel-Notebooks\\.venv\\lib\\site-packages\\azure\\identity\\_internal\\decorators.py:32\u001b[0m, in \u001b[0;36mlog_get_token.<locals>.decorator.<locals>.wrapper\u001b[1;34m(*args, **kwargs)\u001b[0m\n\u001b[0;32m     29\u001b[0m \u001b[39m@functools\u001b[39m\u001b[39m.\u001b[39mwraps(fn)\n\u001b[0;32m     30\u001b[0m \u001b[39mdef\u001b[39;00m \u001b[39mwrapper\u001b[39m(\u001b[39m*\u001b[39margs, \u001b[39m*\u001b[39m\u001b[39m*\u001b[39mkwargs):\n\u001b[0;32m     31\u001b[0m     \u001b[39mtry\u001b[39;00m:\n\u001b[1;32m---> 32\u001b[0m         token \u001b[39m=\u001b[39m fn(\u001b[39m*\u001b[39margs, \u001b[39m*\u001b[39m\u001b[39m*\u001b[39mkwargs)\n\u001b[0;32m     33\u001b[0m         _LOGGER\u001b[39m.\u001b[39mlog(\n\u001b[0;32m     34\u001b[0m             logging\u001b[39m.\u001b[39mDEBUG \u001b[39mif\u001b[39;00m within_credential_chain\u001b[39m.\u001b[39mget() \u001b[39melse\u001b[39;00m logging\u001b[39m.\u001b[39mINFO, \u001b[39m\"\u001b[39m\u001b[39m%s\u001b[39;00m\u001b[39m succeeded\u001b[39m\u001b[39m\"\u001b[39m, qualified_name\n\u001b[0;32m     35\u001b[0m         )\n\u001b[0;32m     36\u001b[0m         \u001b[39mif\u001b[39;00m _LOGGER\u001b[39m.\u001b[39misEnabledFor(logging\u001b[39m.\u001b[39mDEBUG):\n",
            "File \u001b[1;32mc:\\WEDCVisualStudio\\Jupyter Notebooks\\Azure-Sentinel-Notebooks\\.venv\\lib\\site-packages\\azure\\identity\\_credentials\\azure_cli.py:81\u001b[0m, in \u001b[0;36mAzureCliCredential.get_token\u001b[1;34m(self, *scopes, **kwargs)\u001b[0m\n\u001b[0;32m     79\u001b[0m \u001b[39mif\u001b[39;00m tenant:\n\u001b[0;32m     80\u001b[0m     command \u001b[39m+\u001b[39m\u001b[39m=\u001b[39m \u001b[39m\"\u001b[39m\u001b[39m --tenant \u001b[39m\u001b[39m\"\u001b[39m \u001b[39m+\u001b[39m tenant\n\u001b[1;32m---> 81\u001b[0m output \u001b[39m=\u001b[39m _run_command(command)\n\u001b[0;32m     83\u001b[0m token \u001b[39m=\u001b[39m parse_token(output)\n\u001b[0;32m     84\u001b[0m \u001b[39mif\u001b[39;00m \u001b[39mnot\u001b[39;00m token:\n",
            "File \u001b[1;32mc:\\WEDCVisualStudio\\Jupyter Notebooks\\Azure-Sentinel-Notebooks\\.venv\\lib\\site-packages\\azure\\identity\\_credentials\\azure_cli.py:170\u001b[0m, in \u001b[0;36m_run_command\u001b[1;34m(command)\u001b[0m\n\u001b[0;32m    167\u001b[0m \u001b[39mexcept\u001b[39;00m \u001b[39mException\u001b[39;00m \u001b[39mas\u001b[39;00m ex:  \u001b[39m# pylint:disable=broad-except\u001b[39;00m\n\u001b[0;32m    168\u001b[0m     \u001b[39m# could be a timeout, for example\u001b[39;00m\n\u001b[0;32m    169\u001b[0m     error \u001b[39m=\u001b[39m CredentialUnavailableError(message\u001b[39m=\u001b[39m\u001b[39m\"\u001b[39m\u001b[39mFailed to invoke the Azure CLI\u001b[39m\u001b[39m\"\u001b[39m)\n\u001b[1;32m--> 170\u001b[0m     six\u001b[39m.\u001b[39;49mraise_from(error, ex)\n",
            "File \u001b[1;32m<string>:3\u001b[0m, in \u001b[0;36mraise_from\u001b[1;34m(value, from_value)\u001b[0m\n",
            "\u001b[1;31mCredentialUnavailableError\u001b[0m: Failed to invoke the Azure CLI"
          ]
        }
      ],
      "source": [
        "# Extract access token, which will be used to access Microsoft Sentinel Watchlist API for your Watchlist data.  \n",
        "token = AzureCliCredential().get_token('https://management.azure.com')\n",
        "access_token = token.token\n",
        "header_token_value = \"Bearer {}\".format(access_token)"
      ]
    },
    {
      "attachments": {},
      "cell_type": "markdown",
      "metadata": {
        "nteract": {
          "transient": {
            "deleting": false
          }
        }
      },
      "source": [
        "## 3. List Microsoft Sentinel Watchlists Using API"
      ]
    },
    {
      "cell_type": "code",
      "execution_count": 6,
      "metadata": {
        "collapsed": true,
        "gather": {
          "logged": 1685047938197
        },
        "jupyter": {
          "outputs_hidden": false,
          "source_hidden": false
        },
        "nteract": {
          "transient": {
            "deleting": false
          }
        }
      },
      "outputs": [
        {
          "ename": "NameError",
          "evalue": "name 'header_token_value' is not defined",
          "output_type": "error",
          "traceback": [
            "\u001b[1;31m---------------------------------------------------------------------------\u001b[0m",
            "\u001b[1;31mNameError\u001b[0m                                 Traceback (most recent call last)",
            "\u001b[1;32mc:\\WEDCVisualStudio\\Jupyter Notebooks\\Azure-Sentinel-Notebooks\\Hands-on 1. Data Discovery using Azure REST API.ipynb Cell 11\u001b[0m in \u001b[0;36m3\n\u001b[0;32m      <a href='vscode-notebook-cell:/c%3A/WEDCVisualStudio/Jupyter%20Notebooks/Azure-Sentinel-Notebooks/Hands-on%201.%20Data%20Discovery%20using%20Azure%20REST%20API.ipynb#X13sZmlsZQ%3D%3D?line=0'>1</a>\u001b[0m \u001b[39m# Calling Microsoft Sentinel Watchlist API\u001b[39;00m\n\u001b[0;32m      <a href='vscode-notebook-cell:/c%3A/WEDCVisualStudio/Jupyter%20Notebooks/Azure-Sentinel-Notebooks/Hands-on%201.%20Data%20Discovery%20using%20Azure%20REST%20API.ipynb#X13sZmlsZQ%3D%3D?line=1'>2</a>\u001b[0m \u001b[39m# If you don't have Watchlist, you may create one, or try to access different features, such as Bookmarks.\u001b[39;00m\n\u001b[1;32m----> <a href='vscode-notebook-cell:/c%3A/WEDCVisualStudio/Jupyter%20Notebooks/Azure-Sentinel-Notebooks/Hands-on%201.%20Data%20Discovery%20using%20Azure%20REST%20API.ipynb#X13sZmlsZQ%3D%3D?line=2'>3</a>\u001b[0m response_watchlist \u001b[39m=\u001b[39m call_azure_rest_api_for_list(header_token_value, \u001b[39m\"\u001b[39m\u001b[39mwatchlists\u001b[39m\u001b[39m\"\u001b[39m, \u001b[39m\"\u001b[39m\u001b[39m2023-02-01\u001b[39m\u001b[39m\"\u001b[39m)\n",
            "\u001b[1;31mNameError\u001b[0m: name 'header_token_value' is not defined"
          ]
        }
      ],
      "source": [
        "# Calling Microsoft Sentinel Watchlist API\n",
        "# If you don't have Watchlist, you may create one, or try to access different features, such as Bookmarks.\n",
        "response_watchlist = call_azure_rest_api_for_list(header_token_value, \"watchlists\", \"2023-02-01\")"
      ]
    },
    {
      "cell_type": "code",
      "execution_count": null,
      "metadata": {
        "collapsed": true,
        "gather": {
          "logged": 1685047939840
        },
        "jupyter": {
          "outputs_hidden": false,
          "source_hidden": false
        },
        "nteract": {
          "transient": {
            "deleting": false
          }
        }
      },
      "outputs": [],
      "source": [
        "# Display the result\n",
        "display_result_name(response_watchlist)"
      ]
    },
    {
      "attachments": {},
      "cell_type": "markdown",
      "metadata": {
        "nteract": {
          "transient": {
            "deleting": false
          }
        }
      },
      "source": [
        "## 4. List Microsoft Sentinel Incidents Using API"
      ]
    },
    {
      "cell_type": "code",
      "execution_count": null,
      "metadata": {
        "collapsed": true,
        "gather": {
          "logged": 1632434901252
        },
        "jupyter": {
          "outputs_hidden": false,
          "source_hidden": false
        },
        "nteract": {
          "transient": {
            "deleting": false
          }
        }
      },
      "outputs": [],
      "source": [
        "# Calling Microsoft Sentinel Incident API\n",
        "# If you don't have incidents, you may create one through Azure Portal.\n",
        "response_incident = call_azure_rest_api_for_list(header_token_value, \"incidents\", \"2020-01-01\")"
      ]
    },
    {
      "cell_type": "code",
      "execution_count": null,
      "metadata": {
        "collapsed": true,
        "gather": {
          "logged": 1632434904269
        },
        "jupyter": {
          "outputs_hidden": false,
          "source_hidden": false
        },
        "nteract": {
          "transient": {
            "deleting": false
          }
        }
      },
      "outputs": [],
      "source": [
        "# Display the result\n",
        "display_result(response_incident)"
      ]
    },
    {
      "attachments": {},
      "cell_type": "markdown",
      "metadata": {
        "nteract": {
          "transient": {
            "deleting": false
          }
        }
      },
      "source": [
        "Thanks for coming along all the way to the end.  In the next Hands-on notebook, I will show you how to access data using Azure SDK for Python.  And keep one of the watchlist name, it will be used in the next notebook.  A la prochaine."
      ]
    }
  ],
  "metadata": {
    "celltoolbar": "Tags",
    "kernel_info": {
      "name": "python38-azureml"
    },
    "kernelspec": {
      "display_name": ".venv",
      "language": "python",
      "name": "python3"
    },
    "language_info": {
      "codemirror_mode": {
        "name": "ipython",
        "version": 3
      },
      "file_extension": ".py",
      "mimetype": "text/x-python",
      "name": "python",
      "nbconvert_exporter": "python",
      "pygments_lexer": "ipython3",
      "version": "3.9.13"
    },
    "microsoft": {
      "host": {
        "AzureML": {
          "notebookHasBeenCompleted": true
        }
      },
      "ms_spell_check": {
        "ms_spell_check_language": "en"
      }
    },
    "nteract": {
      "version": "nteract-front-end@1.0.0"
    }
  },
  "nbformat": 4,
  "nbformat_minor": 0
}
