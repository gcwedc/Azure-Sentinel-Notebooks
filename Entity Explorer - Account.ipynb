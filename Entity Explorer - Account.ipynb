{
 "cells": [
  {
   "attachments": {},
   "cell_type": "markdown",
   "metadata": {},
   "source": [
    "# Entity Explorer - Account\n",
    " <details>\n",
    "     <summary>&nbsp;<u>Notebook Details...</u></summary>\n",
    "\n",
    " **Notebook Version:** 2.0<br>\n",
    " **Python Version:** Python 3.8+<br>\n",
    " **Required Packages**: msticpy, msticnb<br>\n",
    "\n",
    " **Data Sources Required**:\n",
    " - Sentinel - SecurityAlert, SecurityEvent, HuntingBookmark, Syslog, AAD SigninLogs, AzureActivity, OfficeActivity, ThreatIndicator\n",
    " - (Optional) - VirusTotal, AlienVault OTX, IBM XForce, Open Page Rank, (all require accounts and API keys)\n",
    " </details>\n",
    "\n",
    "Brings together a series of queries and visualizations to help you determine the security state of an Account. \n",
    "\n",
    "The account can be a Windows or Linux account or an Azure Active Directory/Office 365 account.\n",
    "\n",
    "The notebook uses the [MSTIC notebooklets](https://msticnb.readthedocs.io) package to run most of the functionality.\n",
    "Summarized data is returned when it is run and more detailed information is contained in the returned `result` class."
   ]
  },
  {
   "attachments": {},
   "cell_type": "markdown",
   "metadata": {
    "toc": true
   },
   "source": [
    "<!DOCTYPE html>\n",
    "<html>\n",
    "  <head>\n",
    "  </head>\n",
    "  <body>\n",
    "    <h1>Contents<span class=\"tocSkip\"></span></h1>\n",
    "    <div class=\"toc\">\n",
    "      <ul class=\"toc-item\">\n",
    "        <li><span><a href=\"#Hunting-Hypothesis\">Hunting Hypothesis</a></span></li>\n",
    "        <li><span><a href=\"#Notebook-initialization\">Notebook initialization</a></span></li>\n",
    "        <li><span><a href=\"#Enter-account-name-and-query-time\">Enter account\n",
    "              name and query time</a></span></li>\n",
    "        <li><span><a href=\"#Run-the-main-account_summary-function\">Run the main\n",
    "              account_summary function</a></span></li>\n",
    "        <li><span><a href=\"#Retrieve-additional-data-for-the-selected-account\">Retrieve\n",
    "              additional data for the selected account</a></span></li>\n",
    "        <li><span><a href=\"#Browse-alerts\">Browse alerts</a></span></li>\n",
    "        <li><span><a href=\"#Browse-other-event-data\">Browse other event data</a></span></li>\n",
    "        <li><span><a href=\"#More-operations-available\">\n",
    "              Using additional properties and methods of the result object<br>\n",
    "            </a></span></li>\n",
    "        <li><span><a href=\"#More-information\">More information</a></span></li>\n",
    "      </ul>\n",
    "    </div>\n",
    "    \n",
    "  </body>\n",
    "</html>\n"
   ]
  },
  {
   "attachments": {},
   "cell_type": "markdown",
   "metadata": {},
   "source": [
    "## Hunting Hypothesis\n",
    "Our broad initial hunting hypothesis is that a we have received account name entity which is suspected to be compromised and is being used malicious manner in internal networks, we will need to hunt from a range of different positions to validate or disprove this hypothesis."
   ]
  },
  {
   "attachments": {},
   "cell_type": "markdown",
   "metadata": {},
   "source": [
    "---\n",
    "# Notebook initialization\n",
    "This should complete without errors. If you encounter errors or warnings look at the following notebooks:\n",
    "\n",
    "- <a href=\"https://github.com/Azure/Azure-Sentinel-Notebooks/blob/master/A%20Getting%20Started%20Guide%20For%20Azure%20Sentinel%20ML%20Notebooks.ipynb\">Getting Started Notebook</a>\n",
    "- [TroubleShootingNotebooks](https://github.com/Azure/Azure-Sentinel-Notebooks/blob/master/TroubleShootingNotebooks.ipynb)\n",
    "- [ConfiguringNotebookEnvironment](https://github.com/Azure/Azure-Sentinel-Notebooks/blob/master/ConfiguringNotebookEnvironment.ipynb)\n",
    "\n",
    "<details>\n",
    "    <summary>&nbsp;<u>Details...</u></summary>\n",
    "The next cell:\n",
    "- Checks for the correct Python version\n",
    "- Checks versions and optionally installs required packages\n",
    "- Imports the required packages into the notebook\n",
    "- Sets a number of configuration options.\n",
    "\n",
    "If you are running in the Azure Sentinel Notebooks environment (Azure Notebooks or Azure ML) you can run live versions of these notebooks:\n",
    "- [Getting Started](./A Getting Started Guide For Azure Sentinel ML Notebooks.ipynb)\n",
    "- [Run TroubleShootingNotebooks](./TroubleShootingNotebooks.ipynb)\n",
    "- [Run ConfiguringNotebookEnvironment](./ConfiguringNotebookEnvironment.ipynb)\n",
    "\n",
    "You may also need to do some additional configuration to successfully use functions such as Threat Intelligence service lookup and Geo IP lookup. \n",
    "There are more details about this in the `ConfiguringNotebookEnvironment` notebook and in these documents:\n",
    "- [msticpy configuration](https://msticpy.readthedocs.io/en/latest/getting_started/msticpyconfig.html)\n",
    "- [Threat intelligence provider configuration](https://msticpy.readthedocs.io/en/latest/data_acquisition/TIProviders.html#configuration-file)\n",
    "</details>"
   ]
  },
  {
   "cell_type": "code",
   "execution_count": 1,
   "metadata": {},
   "outputs": [],
   "source": [
    "from datetime import datetime, timedelta, timezone\n",
    "\n",
    "REQ_PYTHON_VER = \"3.8\"\n",
    "REQ_MSTICPY_VER = \"1.8.0\"\n",
    "\n",
    "\n",
    "# %pip install --upgrade msticpy\n",
    "\n",
    "import msticpy\n",
    "msticpy.init_notebook(\n",
    "    namespace=globals(),\n",
    "    additional_packages=[\"msticnb>=1.0\"],\n",
    "    verbosity=0,\n",
    ");\n"
   ]
  },
  {
   "cell_type": "code",
   "execution_count": 2,
   "metadata": {
    "tags": [
     "parameters"
    ]
   },
   "outputs": [],
   "source": [
    "# papermill default parameters\n",
    "ws_name = \"Default\"\n",
    "account_name = \"\"\n",
    "account_types = [\"All\"]  # Windows, Linux, Azure, All\n",
    "end = datetime.now(timezone.utc)\n",
    "start = end - timedelta(days=2)\n"
   ]
  },
  {
   "attachments": {},
   "cell_type": "markdown",
   "metadata": {},
   "source": [
    "### Get Workspace and Authenticate\n",
    "\n",
    "<details>\n",
    "    <summary><u>Authentication help...</u></summary>\n",
    "    If you want to use a workspace other than one you have defined in your<br>\n",
    "msticpyconfig.yaml create a connection string with your AAD TENANT_ID and<br>\n",
    "your WORKSPACE_ID (these should both be quoted UUID strings).\n",
    "\n",
    "```python\n",
    "  workspace_cs = \"loganalytics://code().tenant('TENANT_ID').workspace('WORKSPACE_ID')\"\n",
    "```\n",
    "e.g.\n",
    "```python\n",
    "  workspace_cs = \"loganalytics://code().tenant('c3de0f06-dcb8-40fb-9d1a-b62faea29d9d').workspace('c62d3dc5-11e6-4e29-aa67-eac88d5e6cf6')\"\n",
    "```\n",
    "Then in the Authentication cell replace\n",
    "the call to `qry_prov.connect` with the following:\n",
    "```python\n",
    "  qry_prov.connect(connect_str=workspace_cs)\n",
    "```\n",
    "The cell should now look like this:\n",
    "\n",
    "```python\n",
    "...\n",
    "  # Authentication\n",
    "  qry_prov = QueryProvider(data_environment=\"MSSentinel\")\n",
    "  qry_prov.connect(connect_str=workspace_cs)\n",
    "...\n",
    "```\n",
    "\n",
    "On successful authentication you should see a ```popup schema``` button.\n",
    "To find your Workspace Id go to [Log Analytics](https://ms.portal.azure.com/#blade/HubsExtension/Resources/resourceType/Microsoft.OperationalInsights%2Fworkspaces). Look at the workspace properties to find the ID.\n",
    "</details>"
   ]
  },
  {
   "cell_type": "code",
   "execution_count": 3,
   "metadata": {},
   "outputs": [
    {
     "name": "stdout",
     "output_type": "stream",
     "text": [
      "Configured workspaces:  Default\n"
     ]
    },
    {
     "data": {
      "application/vnd.jupyter.widget-view+json": {
       "model_id": "9c40c1c3cf0d4d53be7f67b170b14c32",
       "version_major": 2,
       "version_minor": 0
      },
      "text/plain": [
       "Combobox(value='Default', description='Workspace Name', options=('Default',))"
      ]
     },
     "metadata": {},
     "output_type": "display_data"
    }
   ],
   "source": [
    "print(\"Configured workspaces: \", \", \".join(msticpy.settings.get_config(\"AzureSentinel.Workspaces\").keys()))\n",
    "import ipywidgets as widgets\n",
    "ws_param = widgets.Combobox(\n",
    "    description=\"Workspace Name\",\n",
    "    value=ws_name,\n",
    "    options=list(msticpy.settings.get_config(\"AzureSentinel.Workspaces\").keys())\n",
    ")\n",
    "ws_param"
   ]
  },
  {
   "cell_type": "code",
   "execution_count": 4,
   "metadata": {},
   "outputs": [
    {
     "name": "stdout",
     "output_type": "stream",
     "text": [
      "try_azcli_login=True;enable_add_items_to_help=False\n",
      "{'try_azcli_login': 'True', 'enable_add_items_to_help': 'False'}\n",
      "try_azcli_login=True;enable_add_items_to_help=False\n",
      "Connecting... "
     ]
    },
    {
     "data": {
      "text/html": [
       "<!DOCTYPE html>\n",
       "            <html><body>\n",
       "            <div style=''>\n",
       "            <b>RHPLPYEWY</b>&nbsp;<a href='https://microsoft.com/devicelogin' style='padding: 2px 6px 2px 6px; color: #333333; background-color: #EEEEEE; border-top: 1px solid #CCCCCC; border-right: 1px solid #333333; border-bottom: 1px solid #333333; border-left: 1px solid #CCCCCC' target='verification_url'>Copy code to clipboard and authenticate</a>\n",
       "            </div>\n",
       "            </body></html>"
      ],
      "text/plain": [
       "<IPython.core.display.HTML object>"
      ]
     },
     "metadata": {},
     "output_type": "display_data"
    },
    {
     "data": {
      "text/html": [
       "<!DOCTYPE html>\n",
       "                            <html><body><script>\n",
       "\n",
       "                                // close authentication window\n",
       "                                if (kql_MagicUserCodeAuthWindow && kql_MagicUserCodeAuthWindow.opener != null && !kql_MagicUserCodeAuthWindow.closed) {\n",
       "                                    kql_MagicUserCodeAuthWindow.close()\n",
       "                                }\n",
       "                                // TODO: make sure, you clear the right cell. BTW, not sure it is a must to do any clearing\n",
       "\n",
       "                                // clear output cell\n",
       "                                Jupyter.notebook.clear_output(Jupyter.notebook.get_selected_index())\n",
       "\n",
       "                                // TODO: if in run all mode, move to last cell, otherwise move to next cell\n",
       "                                // move to next cell\n",
       "\n",
       "                            </script></body></html>"
      ],
      "text/plain": [
       "<IPython.core.display.HTML object>"
      ]
     },
     "metadata": {},
     "output_type": "display_data"
    },
    {
     "data": {
      "text/html": [
       "<!DOCTYPE html>\n",
       "            <html><body>\n",
       "            <div style=''>\n",
       "            <a href='file:///C:/Users/gcass/.kqlmagic/temp_files/v2-26596830u97Q5h7BM/_a97557b5-b341-450d-ac71-cdd5658a7e03_at_loganalytics_schema.html' style='padding: 2px 6px 2px 6px; color: #333333; background-color: #EEEEEE; border-top: 1px solid #CCCCCC; border-right: 1px solid #333333; border-bottom: 1px solid #333333; border-left: 1px solid #CCCCCC' target='_a97557b5-b341-450d-ac71-cdd5658a7e03_at_loganalytics_schema'>popup schema a97557b5-b341-450d-ac71-cdd5658a7e03@loganalytics</a>\n",
       "            </div>\n",
       "            </body></html>"
      ],
      "text/plain": [
       "<IPython.core.display.HTML object>"
      ]
     },
     "metadata": {},
     "output_type": "display_data"
    },
    {
     "name": "stdout",
     "output_type": "stream",
     "text": [
      "connected\n"
     ]
    },
    {
     "data": {
      "text/html": [
       "<p style=''><hr></p>"
      ],
      "text/plain": [
       "<IPython.core.display.HTML object>"
      ]
     },
     "metadata": {},
     "output_type": "display_data"
    },
    {
     "data": {
      "text/html": [
       "<p style='font-weight: bold'>Confirm time range to search</p>"
      ],
      "text/plain": [
       "<IPython.core.display.HTML object>"
      ]
     },
     "metadata": {},
     "output_type": "display_data"
    },
    {
     "data": {
      "application/vnd.jupyter.widget-view+json": {
       "model_id": "eb8cd234e99c4fec92bfe85935b789e5",
       "version_major": 2,
       "version_minor": 0
      },
      "text/plain": [
       "VBox(children=(HTML(value='<h4>Set query time boundaries</h4>'), HBox(children=(DatePicker(value=datetime.date…"
      ]
     },
     "metadata": {},
     "output_type": "display_data"
    }
   ],
   "source": [
    "from msticpy.common.timespan import TimeSpan\n",
    "\n",
    "# Authentication\n",
    "qry_prov = QueryProvider(data_environment=\"MSSentinel\")\n",
    "qry_prov.connect(WorkspaceConfig(workspace=ws_param.value))\n",
    "\n",
    "nb_timespan = TimeSpan(start, end)\n",
    "qry_prov.query_time.timespan = nb_timespan\n",
    "md(\"<hr>\")\n",
    "md(\"Confirm time range to search\", \"bold\")\n",
    "qry_prov.query_time"
   ]
  },
  {
   "attachments": {},
   "cell_type": "markdown",
   "metadata": {},
   "source": [
    "#### Authentication and Configuration problems?\n",
    "\n",
    "If you are having problems, expand the details section below\n",
    "<br>\n",
    "<details>\n",
    "    <summary>Click for details about configuring your authentication parameters</summary>\n",
    "    \n",
    "    \n",
    "The notebook is expecting your Azure Sentinel Tenant ID and Workspace ID to be configured in one of the following places:\n",
    "- `msticpyconfig.yaml` in the current folder or location specified by `MSTICPYCONFIG` environment variable.\n",
    "- `config.json` in the current folder\n",
    "    \n",
    "For help with setting up your configuration (if this hasn't been done automatically) see the [Getting Started](./A Getting Started Guide For Azure Sentinel ML Notebooks.ipynb) notebook in the root folder of your Azure-Sentinel-Notebooks project.\n",
    "</details>"
   ]
  },
  {
   "attachments": {},
   "cell_type": "markdown",
   "metadata": {},
   "source": [
    "## Import and initialize notebooklets\n",
    "\n",
    "This imports the **msticnb** package and the notebooklets classes.\n",
    "\n",
    "These are needed for the notebook operations"
   ]
  },
  {
   "cell_type": "code",
   "execution_count": 5,
   "metadata": {},
   "outputs": [
    {
     "name": "stdout",
     "output_type": "stream",
     "text": [
      "Notebooklets: 11 notebooklets loaded.\n",
      "try_azcli_login=True;enable_add_items_to_help=False\n",
      "{'try_azcli_login': 'True', 'enable_add_items_to_help': 'False'}\n",
      "try_azcli_login=True;enable_add_items_to_help=False\n",
      "Notebooklets: Loaded providers: MSSentinel, geolitelookup, tilookup\n"
     ]
    }
   ],
   "source": [
    "import msticnb as nb\n",
    "\n",
    "nb.init(query_provider=qry_prov)\n",
    "pivot.timespan = qry_prov.query_time.timespan"
   ]
  },
  {
   "attachments": {},
   "cell_type": "markdown",
   "metadata": {},
   "source": [
    "# Enter account name and query time window\n",
    "Type the account name that you want to search for and the time bounds over which you want to search. \n",
    "\n",
    "You can specify the account as:\n",
    "\n",
    "- a simple user name (e.g. `alice`)\n",
    "- a user principal name (`alice@contoso.com`)\n",
    "- a qualified windows user name `mydomain\\alice`\n",
    "\n",
    "In the second two cases the domain qualifier will be stripped off before the search. The search is not case sensitive and will match full substrings. E.g. `bob` will match `domain\\bob` and `bob@contoso.com` but not `bobg` or `bo`."
   ]
  },
  {
   "cell_type": "code",
   "execution_count": 6,
   "metadata": {},
   "outputs": [
    {
     "data": {
      "application/vnd.jupyter.widget-view+json": {
       "model_id": "5716f02ad7d246bd86fa93ce30acdd90",
       "version_major": 2,
       "version_minor": 0
      },
      "text/plain": [
       "Text(value='', description='Enter the Account name to search for:', layout=Layout(width='50%'), style=Descript…"
      ]
     },
     "metadata": {},
     "output_type": "display_data"
    },
    {
     "data": {
      "text/html": [
       "<p style=''><hr></p>"
      ],
      "text/plain": [
       "<IPython.core.display.HTML object>"
      ]
     },
     "metadata": {},
     "output_type": "display_data"
    }
   ],
   "source": [
    "account_txt = nbwidgets.GetText(prompt='Enter the Account name to search for:', value=account_name)\n",
    "\n",
    "display(account_txt)\n",
    "md(\"<hr>\")"
   ]
  },
  {
   "attachments": {},
   "cell_type": "markdown",
   "metadata": {},
   "source": [
    "You can opt to search all data types or just a subset.\n",
    "For example, if you know the account activity that you are interested in is only Windows host activity, you can select \"Windows\".\n",
    "\n",
    "The default is All Data but other options are:\n",
    "- Azure (includes Office365 activity, Active Directory Signin logs and Azure audit activity)\n",
    "- Office365 - only Office365 activity\n",
    "- AzureActiveDirectory - only signin logs\n",
    "- Azure - only Azure resource/audit activity\n",
    "- Windows - only Windows host event logs\n",
    "- Linux - only Linux host syslog"
   ]
  },
  {
   "cell_type": "code",
   "execution_count": 7,
   "metadata": {},
   "outputs": [
    {
     "data": {
      "application/vnd.jupyter.widget-view+json": {
       "model_id": "ce8df4dbe91b49388024487a0f7c16f7",
       "version_major": 2,
       "version_minor": 0
      },
      "text/plain": [
       "SelectMultiple(description='Select Account types to search', index=(6,), layout=Layout(width='95%'), options=(…"
      ]
     },
     "metadata": {},
     "output_type": "display_data"
    }
   ],
   "source": [
    "from msticnb.nb.azsent.account.account_summary import AccountType\n",
    "acct_types = [item.name for item in AccountType]\n",
    "import ipywidgets as widgets\n",
    "acct_types_select = widgets.SelectMultiple(\n",
    "    description=\"Select Account types to search\",\n",
    "    options=acct_types,\n",
    "    value=account_types or acct_types,\n",
    "    **WIDGET_DEFAULTS,\n",
    ")\n",
    "acct_types_select\n"
   ]
  },
  {
   "attachments": {},
   "cell_type": "markdown",
   "metadata": {},
   "source": [
    "# Run the main *account_summary* notebooklet `run` method\n",
    "\n",
    "The notebooklet will search Azure, Windows host and Linux host data,\n",
    "searching for account matches.\n",
    "\n",
    "**Note**: Different result properties will populated for different account types.\n",
    "\n",
    "It will display a *summary* of the information retrieved as it is running.\n",
    "You can find information on accessing the full data later in the notebook.\n",
    "\n",
    "**Note:** If more than one matching account name is found, all matches will be shown.<br>\n",
    "You can select each of these matching accounts to view more details about the account.<br>\n",
    "Once selected, you can retrieve more detailed information about that account.\n",
    "\n",
    "<details>\n",
    "<summary><b>Running the notebooklet as a Pivot Function</b></summary>\n",
    "This can also be run as a pivot function from the Account entity.<br>\n",
    "The pivot function `account_summary` is in the `nblt` container\n",
    "of the `Account` entity.\n",
    "\n",
    "```python\n",
    "    Account = entities.Account\n",
    "    acc_result = Account.nblt.account_summary(\n",
    "        value=account_txt.value,\n",
    "        account_types=acct_types_select.value\n",
    "    )\n",
    "```\n",
    "\n",
    "In this case you do not have direct access to the methods\n",
    "of the \"AccountSummary\".<br>\n",
    "However, all methods and properties\n",
    "of the notebooklet class are accessible via the results class.\n",
    "```python\n",
    "   acct_nb.get_additional_data()\n",
    "```\n",
    "is equivalent to\n",
    "```python\n",
    "   acc_result.get_additional_data()\n",
    "```\n",
    "</details>"
   ]
  },
  {
   "cell_type": "code",
   "execution_count": 8,
   "metadata": {},
   "outputs": [
    {
     "data": {
      "text/html": [
       "<p style='font-size: 130%;font-weight: bold'></p>"
      ],
      "text/plain": [
       "<IPython.core.display.HTML object>"
      ]
     },
     "metadata": {},
     "output_type": "display_data"
    },
    {
     "data": {
      "text/html": [
       "<h1>Account Summary</h1>"
      ],
      "text/plain": [
       "<IPython.core.display.HTML object>"
      ]
     },
     "metadata": {},
     "output_type": "display_data"
    },
    {
     "data": {
      "text/html": [
       "This function searches Active Directory, Azure, Office365, Windows and Linux logs for matching accounts.<br>If any matches are found you can choose an account to explore, viewing the times of recent event types, any alerts and hunting bookmarks that relate to the account name.<br>You can also retrieve recent details of the logon activity or cloud activity for the account.<br>For further investigation use the host_logons_summary notebooklet for Windows and Linux host logons."
      ],
      "text/plain": [
       "<IPython.core.display.HTML object>"
      ]
     },
     "metadata": {},
     "output_type": "display_data"
    },
    {
     "data": {
      "text/html": [
       "<h3>Querying for account matches.</h3>"
      ],
      "text/plain": [
       "<IPython.core.display.HTML object>"
      ]
     },
     "metadata": {},
     "output_type": "display_data"
    },
    {
     "data": {
      "text/html": [
       " Searching through Active Directory, Windows and Linux events. This may take a few moments to complete. "
      ],
      "text/plain": [
       "<IPython.core.display.HTML object>"
      ]
     },
     "metadata": {},
     "output_type": "display_data"
    },
    {
     "data": {
      "text/html": [
       "<p style=''>Getting data from AADSignin...</p>"
      ],
      "text/plain": [
       "<IPython.core.display.HTML object>"
      ]
     },
     "metadata": {},
     "output_type": "display_data"
    },
    {
     "data": {
      "text/html": [
       "<p style=''>  1 records in AAD</p>"
      ],
      "text/plain": [
       "<IPython.core.display.HTML object>"
      ]
     },
     "metadata": {},
     "output_type": "display_data"
    },
    {
     "data": {
      "text/html": [
       "<p style=''>Getting data from Office365Activity...</p>"
      ],
      "text/plain": [
       "<IPython.core.display.HTML object>"
      ]
     },
     "metadata": {},
     "output_type": "display_data"
    },
    {
     "data": {
      "text/html": [
       "<p style=''>  1 records in Office Activity</p>"
      ],
      "text/plain": [
       "<IPython.core.display.HTML object>"
      ]
     },
     "metadata": {},
     "output_type": "display_data"
    },
    {
     "data": {
      "text/html": [
       "<p style=''>Getting data from Windows Logon activity...</p>"
      ],
      "text/plain": [
       "<IPython.core.display.HTML object>"
      ]
     },
     "metadata": {},
     "output_type": "display_data"
    },
    {
     "data": {
      "text/html": [
       "<p style=''>  0 records in Windows logon data</p>"
      ],
      "text/plain": [
       "<IPython.core.display.HTML object>"
      ]
     },
     "metadata": {},
     "output_type": "display_data"
    },
    {
     "data": {
      "text/html": [
       "<p style=''>Getting data from Linux logon activity...</p>"
      ],
      "text/plain": [
       "<IPython.core.display.HTML object>"
      ]
     },
     "metadata": {},
     "output_type": "display_data"
    },
    {
     "data": {
      "text/html": [
       "<p style=''>  0 records in Linux logon data</p>"
      ],
      "text/plain": [
       "<IPython.core.display.HTML object>"
      ]
     },
     "metadata": {},
     "output_type": "display_data"
    },
    {
     "data": {
      "text/html": [
       "<p style=''>Found 2 total records.</p>"
      ],
      "text/plain": [
       "<IPython.core.display.HTML object>"
      ]
     },
     "metadata": {},
     "output_type": "display_data"
    },
    {
     "data": {
      "text/html": [
       "<p style=''><hr></p>"
      ],
      "text/plain": [
       "<IPython.core.display.HTML object>"
      ]
     },
     "metadata": {},
     "output_type": "display_data"
    },
    {
     "data": {
      "text/html": [
       "<p style='font-size: 130%'>Multiple matching accounts found, select one to see details.</p>"
      ],
      "text/plain": [
       "<IPython.core.display.HTML object>"
      ]
     },
     "metadata": {},
     "output_type": "display_data"
    },
    {
     "data": {
      "application/vnd.jupyter.widget-view+json": {
       "model_id": "d9b65611ab98475a86fb250e894a7967",
       "version_major": 2,
       "version_minor": 0
      },
      "text/plain": [
       "VBox(children=(Text(value='griffin.cass@wedc.org   AzureActiveDirectory (Last activity: 2023-06-23 19:54:39.13…"
      ]
     },
     "metadata": {},
     "output_type": "display_data"
    },
    {
     "data": {
      "text/html": [
       "<hr>"
      ],
      "text/plain": [
       "<IPython.core.display.HTML object>"
      ]
     },
     "metadata": {},
     "output_type": "display_data"
    },
    {
     "name": "stdout",
     "output_type": "stream",
     "text": [
      "No local Maxmind City Database found.  Attempting to downloading new database to C:\\Users\\gcass\\.msticpy\n",
      "Downloading and extracting GeoLite DB archive from MaxMind....\n",
      "Extraction complete. Local Maxmind city DB: C:\\Users\\gcass\\.msticpy\\GeoLite2-City.mmdb.16988.tar.gz\n"
     ]
    },
    {
     "data": {
      "text/html": [
       "<p style=''>Getting data from Alerts...</p>"
      ],
      "text/plain": [
       "<IPython.core.display.HTML object>"
      ]
     },
     "metadata": {},
     "output_type": "display_data"
    },
    {
     "data": {
      "text/html": [
       "<p style=''>Getting data from Bookmarks...</p>"
      ],
      "text/plain": [
       "<IPython.core.display.HTML object>"
      ]
     },
     "metadata": {},
     "output_type": "display_data"
    },
    {
     "data": {
      "text/html": [
       "<h3>Account Entity</h3>"
      ],
      "text/plain": [
       "<IPython.core.display.HTML object>"
      ]
     },
     "metadata": {},
     "output_type": "display_data"
    },
    {
     "data": {
      "text/html": [
       "<h3>account</h3>{&nbsp;'AadTenantId':&nbsp;'a4d0c603-9c7f-4293-b89c-a08c1a8eb571',<br>&nbsp;&nbsp;'AadUserId':&nbsp;'36a4c34a-dd20-4357-b32c-77007b86bbc4',<br>&nbsp;&nbsp;'DeviceDetail':&nbsp;{&nbsp;'browser':&nbsp;'Edge&nbsp;114.0.1823',<br>&nbsp;&nbsp;&nbsp;&nbsp;&nbsp;&nbsp;&nbsp;&nbsp;&nbsp;&nbsp;&nbsp;&nbsp;&nbsp;&nbsp;&nbsp;&nbsp;&nbsp;&nbsp;&nbsp;&nbsp;'deviceId':&nbsp;'f5aab843-4156-41b8-96fc-6e5ab3d7769c',<br>&nbsp;&nbsp;&nbsp;&nbsp;&nbsp;&nbsp;&nbsp;&nbsp;&nbsp;&nbsp;&nbsp;&nbsp;&nbsp;&nbsp;&nbsp;&nbsp;&nbsp;&nbsp;&nbsp;&nbsp;'displayName':&nbsp;'LT178',<br>&nbsp;&nbsp;&nbsp;&nbsp;&nbsp;&nbsp;&nbsp;&nbsp;&nbsp;&nbsp;&nbsp;&nbsp;&nbsp;&nbsp;&nbsp;&nbsp;&nbsp;&nbsp;&nbsp;&nbsp;'isCompliant':&nbsp;True,<br>&nbsp;&nbsp;&nbsp;&nbsp;&nbsp;&nbsp;&nbsp;&nbsp;&nbsp;&nbsp;&nbsp;&nbsp;&nbsp;&nbsp;&nbsp;&nbsp;&nbsp;&nbsp;&nbsp;&nbsp;'isManaged':&nbsp;True,<br>&nbsp;&nbsp;&nbsp;&nbsp;&nbsp;&nbsp;&nbsp;&nbsp;&nbsp;&nbsp;&nbsp;&nbsp;&nbsp;&nbsp;&nbsp;&nbsp;&nbsp;&nbsp;&nbsp;&nbsp;'operatingSystem':&nbsp;'Windows&nbsp;10',<br>&nbsp;&nbsp;&nbsp;&nbsp;&nbsp;&nbsp;&nbsp;&nbsp;&nbsp;&nbsp;&nbsp;&nbsp;&nbsp;&nbsp;&nbsp;&nbsp;&nbsp;&nbsp;&nbsp;&nbsp;'trustType':&nbsp;'Hybrid&nbsp;Azure&nbsp;AD&nbsp;joined'},<br>&nbsp;&nbsp;'DisplayName':&nbsp;'Griffin&nbsp;Cass',<br>&nbsp;&nbsp;'IpAddress':&nbsp;{&nbsp;'Address':&nbsp;'69.130.255.13',<br>&nbsp;&nbsp;&nbsp;&nbsp;&nbsp;&nbsp;&nbsp;&nbsp;&nbsp;&nbsp;&nbsp;&nbsp;&nbsp;&nbsp;&nbsp;&nbsp;&nbsp;'FirstSeen':&nbsp;Timestamp('2023-06-23&nbsp;19:54:39.132402200+0000',&nbsp;tz='UTC'),<br>&nbsp;&nbsp;&nbsp;&nbsp;&nbsp;&nbsp;&nbsp;&nbsp;&nbsp;&nbsp;&nbsp;&nbsp;&nbsp;&nbsp;&nbsp;&nbsp;&nbsp;'LastSeen':&nbsp;Timestamp('2023-06-23&nbsp;19:54:39.132402200+0000',&nbsp;tz='UTC'),<br>&nbsp;&nbsp;&nbsp;&nbsp;&nbsp;&nbsp;&nbsp;&nbsp;&nbsp;&nbsp;&nbsp;&nbsp;&nbsp;&nbsp;&nbsp;&nbsp;&nbsp;'Location':&nbsp;{&nbsp;'City':&nbsp;'Middleton',<br>&nbsp;&nbsp;&nbsp;&nbsp;&nbsp;&nbsp;&nbsp;&nbsp;&nbsp;&nbsp;&nbsp;&nbsp;&nbsp;&nbsp;&nbsp;&nbsp;&nbsp;&nbsp;&nbsp;&nbsp;&nbsp;&nbsp;&nbsp;&nbsp;&nbsp;&nbsp;&nbsp;&nbsp;&nbsp;&nbsp;&nbsp;'CountryCode':&nbsp;'US',<br>&nbsp;&nbsp;&nbsp;&nbsp;&nbsp;&nbsp;&nbsp;&nbsp;&nbsp;&nbsp;&nbsp;&nbsp;&nbsp;&nbsp;&nbsp;&nbsp;&nbsp;&nbsp;&nbsp;&nbsp;&nbsp;&nbsp;&nbsp;&nbsp;&nbsp;&nbsp;&nbsp;&nbsp;&nbsp;&nbsp;&nbsp;'CountryName':&nbsp;'United&nbsp;States',<br>&nbsp;&nbsp;&nbsp;&nbsp;&nbsp;&nbsp;&nbsp;&nbsp;&nbsp;&nbsp;&nbsp;&nbsp;&nbsp;&nbsp;&nbsp;&nbsp;&nbsp;&nbsp;&nbsp;&nbsp;&nbsp;&nbsp;&nbsp;&nbsp;&nbsp;&nbsp;&nbsp;&nbsp;&nbsp;&nbsp;&nbsp;'Latitude':&nbsp;43.103,<br>&nbsp;&nbsp;&nbsp;&nbsp;&nbsp;&nbsp;&nbsp;&nbsp;&nbsp;&nbsp;&nbsp;&nbsp;&nbsp;&nbsp;&nbsp;&nbsp;&nbsp;&nbsp;&nbsp;&nbsp;&nbsp;&nbsp;&nbsp;&nbsp;&nbsp;&nbsp;&nbsp;&nbsp;&nbsp;&nbsp;&nbsp;'Longitude':&nbsp;-89.5073,<br>&nbsp;&nbsp;&nbsp;&nbsp;&nbsp;&nbsp;&nbsp;&nbsp;&nbsp;&nbsp;&nbsp;&nbsp;&nbsp;&nbsp;&nbsp;&nbsp;&nbsp;&nbsp;&nbsp;&nbsp;&nbsp;&nbsp;&nbsp;&nbsp;&nbsp;&nbsp;&nbsp;&nbsp;&nbsp;&nbsp;&nbsp;'State':&nbsp;'Wisconsin',<br>&nbsp;&nbsp;&nbsp;&nbsp;&nbsp;&nbsp;&nbsp;&nbsp;&nbsp;&nbsp;&nbsp;&nbsp;&nbsp;&nbsp;&nbsp;&nbsp;&nbsp;&nbsp;&nbsp;&nbsp;&nbsp;&nbsp;&nbsp;&nbsp;&nbsp;&nbsp;&nbsp;&nbsp;&nbsp;&nbsp;&nbsp;'TimeGenerated':&nbsp;datetime.datetime(2023,&nbsp;6,&nbsp;23,&nbsp;20,&nbsp;1,&nbsp;41,&nbsp;60355),<br>&nbsp;&nbsp;&nbsp;&nbsp;&nbsp;&nbsp;&nbsp;&nbsp;&nbsp;&nbsp;&nbsp;&nbsp;&nbsp;&nbsp;&nbsp;&nbsp;&nbsp;&nbsp;&nbsp;&nbsp;&nbsp;&nbsp;&nbsp;&nbsp;&nbsp;&nbsp;&nbsp;&nbsp;&nbsp;&nbsp;&nbsp;'Type':&nbsp;'geolocation'},<br>&nbsp;&nbsp;&nbsp;&nbsp;&nbsp;&nbsp;&nbsp;&nbsp;&nbsp;&nbsp;&nbsp;&nbsp;&nbsp;&nbsp;&nbsp;&nbsp;&nbsp;'TimeGenerated':&nbsp;datetime.datetime(2023,&nbsp;6,&nbsp;23,&nbsp;20,&nbsp;1,&nbsp;41,&nbsp;60355),<br>&nbsp;&nbsp;&nbsp;&nbsp;&nbsp;&nbsp;&nbsp;&nbsp;&nbsp;&nbsp;&nbsp;&nbsp;&nbsp;&nbsp;&nbsp;&nbsp;&nbsp;'Type':&nbsp;'ipaddress'},<br>&nbsp;&nbsp;'Location':&nbsp;{&nbsp;'city':&nbsp;'Middleton',<br>&nbsp;&nbsp;&nbsp;&nbsp;&nbsp;&nbsp;&nbsp;&nbsp;&nbsp;&nbsp;&nbsp;&nbsp;&nbsp;&nbsp;&nbsp;&nbsp;'countryOrRegion':&nbsp;'US',<br>&nbsp;&nbsp;&nbsp;&nbsp;&nbsp;&nbsp;&nbsp;&nbsp;&nbsp;&nbsp;&nbsp;&nbsp;&nbsp;&nbsp;&nbsp;&nbsp;'geoCoordinates':&nbsp;{'latitude':&nbsp;43.0932502746582,&nbsp;'longitude':&nbsp;-89.51020812988281},<br>&nbsp;&nbsp;&nbsp;&nbsp;&nbsp;&nbsp;&nbsp;&nbsp;&nbsp;&nbsp;&nbsp;&nbsp;&nbsp;&nbsp;&nbsp;&nbsp;'state':&nbsp;'Wisconsin'},<br>&nbsp;&nbsp;'Name':&nbsp;'griffin.cass@wedc.org',<br>&nbsp;&nbsp;'TimeGenerated':&nbsp;datetime.datetime(2023,&nbsp;6,&nbsp;23,&nbsp;20,&nbsp;1,&nbsp;37,&nbsp;586601),<br>&nbsp;&nbsp;'Type':&nbsp;'account',<br>&nbsp;&nbsp;'UPNSuffix':&nbsp;'wedc.org',<br>&nbsp;&nbsp;'UserAgent':&nbsp;'Mozilla/5.0&nbsp;(Windows&nbsp;NT&nbsp;10.0;&nbsp;Win64;&nbsp;x64)&nbsp;AppleWebKit/537.36&nbsp;(KHTML,&nbsp;like&nbsp;Gecko)&nbsp;'<br>&nbsp;&nbsp;&nbsp;&nbsp;&nbsp;&nbsp;&nbsp;&nbsp;&nbsp;&nbsp;&nbsp;&nbsp;&nbsp;&nbsp;&nbsp;'Chrome/114.0.0.0&nbsp;Safari/537.36&nbsp;Edg/114.0.1823.51'}"
      ],
      "text/plain": [
       "Account(Name=griffin.cass@wedc.org, UPNSuffix=wedc.org, AadTenantId=a4d0c603-9c7f-4293-b...)"
      ]
     },
     "metadata": {},
     "output_type": "display_data"
    },
    {
     "data": {
      "text/html": [
       "<h3>Account last activity</h3>"
      ],
      "text/plain": [
       "<IPython.core.display.HTML object>"
      ]
     },
     "metadata": {},
     "output_type": "display_data"
    },
    {
     "data": {
      "text/html": [
       "<b>griffin.cass@wedc.org (source: AzureActiveDirectory)</b>"
      ],
      "text/plain": [
       "<IPython.core.display.HTML object>"
      ]
     },
     "metadata": {},
     "output_type": "display_data"
    },
    {
     "data": {
      "text/html": [
       "<div>\n",
       "<style scoped>\n",
       "    .dataframe tbody tr th:only-of-type {\n",
       "        vertical-align: middle;\n",
       "    }\n",
       "\n",
       "    .dataframe tbody tr th {\n",
       "        vertical-align: top;\n",
       "    }\n",
       "\n",
       "    .dataframe thead th {\n",
       "        text-align: right;\n",
       "    }\n",
       "</style>\n",
       "<table border=\"1\" class=\"dataframe\">\n",
       "  <thead>\n",
       "    <tr style=\"text-align: right;\">\n",
       "      <th></th>\n",
       "      <th>TimeGenerated</th>\n",
       "      <th>TenantId</th>\n",
       "      <th>SourceSystem</th>\n",
       "      <th>ResourceId</th>\n",
       "      <th>OperationName</th>\n",
       "      <th>OperationVersion</th>\n",
       "      <th>Category</th>\n",
       "      <th>ResultType</th>\n",
       "      <th>ResultSignature</th>\n",
       "      <th>ResultDescription</th>\n",
       "      <th>DurationMs</th>\n",
       "      <th>CorrelationId</th>\n",
       "      <th>Resource</th>\n",
       "      <th>ResourceGroup</th>\n",
       "      <th>ResourceProvider</th>\n",
       "      <th>Identity</th>\n",
       "      <th>Level</th>\n",
       "      <th>Location</th>\n",
       "      <th>AlternateSignInName</th>\n",
       "      <th>AppDisplayName</th>\n",
       "      <th>AppId</th>\n",
       "      <th>AuthenticationContextClassReferences</th>\n",
       "      <th>AuthenticationDetails</th>\n",
       "      <th>AppliedEventListeners</th>\n",
       "      <th>AuthenticationMethodsUsed</th>\n",
       "      <th>...</th>\n",
       "      <th>Status</th>\n",
       "      <th>TokenIssuerName</th>\n",
       "      <th>TokenIssuerType</th>\n",
       "      <th>UserAgent</th>\n",
       "      <th>UserDisplayName</th>\n",
       "      <th>UserId</th>\n",
       "      <th>UserPrincipalName</th>\n",
       "      <th>AADTenantId</th>\n",
       "      <th>UserType</th>\n",
       "      <th>FlaggedForReview</th>\n",
       "      <th>IPAddressFromResourceProvider</th>\n",
       "      <th>SignInIdentifier</th>\n",
       "      <th>SignInIdentifierType</th>\n",
       "      <th>ResourceTenantId</th>\n",
       "      <th>HomeTenantId</th>\n",
       "      <th>UniqueTokenIdentifier</th>\n",
       "      <th>SessionLifetimePolicies</th>\n",
       "      <th>AutonomousSystemNumber</th>\n",
       "      <th>AuthenticationProtocol</th>\n",
       "      <th>CrossTenantAccessType</th>\n",
       "      <th>AppliedConditionalAccessPolicies</th>\n",
       "      <th>RiskLevel</th>\n",
       "      <th>Type</th>\n",
       "      <th>AccountName</th>\n",
       "      <th>Source</th>\n",
       "    </tr>\n",
       "  </thead>\n",
       "  <tbody>\n",
       "    <tr>\n",
       "      <th>0</th>\n",
       "      <td>2023-06-23 19:54:39.132402200+00:00</td>\n",
       "      <td>a97557b5-b341-450d-ac71-cdd5658a7e03</td>\n",
       "      <td>Azure AD</td>\n",
       "      <td>/tenants/a4d0c603-9c7f-4293-b89c-a08c1a8eb571/providers/Microsoft.aadiam</td>\n",
       "      <td>Sign-in activity</td>\n",
       "      <td>1.0</td>\n",
       "      <td>SignInLogs</td>\n",
       "      <td>0</td>\n",
       "      <td>None</td>\n",
       "      <td></td>\n",
       "      <td>0</td>\n",
       "      <td>afce81f3-0eab-427f-9151-5effe253ab90</td>\n",
       "      <td>Microsoft.aadiam</td>\n",
       "      <td>Microsoft.aadiam</td>\n",
       "      <td></td>\n",
       "      <td>Griffin Cass</td>\n",
       "      <td>4</td>\n",
       "      <td>US</td>\n",
       "      <td></td>\n",
       "      <td>Office365 Shell WCSS-Client</td>\n",
       "      <td>89bee1f7-5e6e-4d8a-9f3d-ecd601259da7</td>\n",
       "      <td>[{\"id\":\"c1\",\"detail\":\"previouslySatisfied\"}]</td>\n",
       "      <td>[{\"authenticationStepDateTime\":\"2023-06-23T19:52:51.7802923+00:00\",\"authenticationMethod\":\"Previ...</td>\n",
       "      <td>None</td>\n",
       "      <td></td>\n",
       "      <td>...</td>\n",
       "      <td>{'errorCode': 0, 'additionalDetails': 'MFA requirement satisfied by claim in the token'}</td>\n",
       "      <td></td>\n",
       "      <td>AzureAD</td>\n",
       "      <td>Mozilla/5.0 (Windows NT 10.0; Win64; x64) AppleWebKit/537.36 (KHTML, like Gecko) Chrome/114.0.0....</td>\n",
       "      <td>Griffin Cass</td>\n",
       "      <td>36a4c34a-dd20-4357-b32c-77007b86bbc4</td>\n",
       "      <td>griffin.cass@wedc.org</td>\n",
       "      <td>a4d0c603-9c7f-4293-b89c-a08c1a8eb571</td>\n",
       "      <td>Member</td>\n",
       "      <td>None</td>\n",
       "      <td></td>\n",
       "      <td></td>\n",
       "      <td></td>\n",
       "      <td>a4d0c603-9c7f-4293-b89c-a08c1a8eb571</td>\n",
       "      <td>a4d0c603-9c7f-4293-b89c-a08c1a8eb571</td>\n",
       "      <td>bT8Q965qPkG1nSJAOuBQAA</td>\n",
       "      <td>[]</td>\n",
       "      <td>4181</td>\n",
       "      <td>none</td>\n",
       "      <td>none</td>\n",
       "      <td></td>\n",
       "      <td></td>\n",
       "      <td>SigninLogs</td>\n",
       "      <td>griffin.cass@wedc.org</td>\n",
       "      <td>AzureActiveDirectory</td>\n",
       "    </tr>\n",
       "  </tbody>\n",
       "</table>\n",
       "<p>1 rows × 78 columns</p>\n",
       "</div>"
      ],
      "text/plain": [
       "                        TimeGenerated                              TenantId  \\\n",
       "0 2023-06-23 19:54:39.132402200+00:00  a97557b5-b341-450d-ac71-cdd5658a7e03   \n",
       "\n",
       "  SourceSystem  \\\n",
       "0     Azure AD   \n",
       "\n",
       "                                                                 ResourceId  \\\n",
       "0  /tenants/a4d0c603-9c7f-4293-b89c-a08c1a8eb571/providers/Microsoft.aadiam   \n",
       "\n",
       "      OperationName OperationVersion    Category ResultType ResultSignature  \\\n",
       "0  Sign-in activity              1.0  SignInLogs          0            None   \n",
       "\n",
       "  ResultDescription  DurationMs                         CorrelationId  \\\n",
       "0                             0  afce81f3-0eab-427f-9151-5effe253ab90   \n",
       "\n",
       "           Resource     ResourceGroup ResourceProvider      Identity Level  \\\n",
       "0  Microsoft.aadiam  Microsoft.aadiam                   Griffin Cass     4   \n",
       "\n",
       "  Location AlternateSignInName               AppDisplayName  \\\n",
       "0       US                      Office365 Shell WCSS-Client   \n",
       "\n",
       "                                  AppId  \\\n",
       "0  89bee1f7-5e6e-4d8a-9f3d-ecd601259da7   \n",
       "\n",
       "           AuthenticationContextClassReferences  \\\n",
       "0  [{\"id\":\"c1\",\"detail\":\"previouslySatisfied\"}]   \n",
       "\n",
       "                                                                                 AuthenticationDetails  \\\n",
       "0  [{\"authenticationStepDateTime\":\"2023-06-23T19:52:51.7802923+00:00\",\"authenticationMethod\":\"Previ...   \n",
       "\n",
       "  AppliedEventListeners AuthenticationMethodsUsed  ...  \\\n",
       "0                  None                            ...   \n",
       "\n",
       "                                                                                     Status  \\\n",
       "0  {'errorCode': 0, 'additionalDetails': 'MFA requirement satisfied by claim in the token'}   \n",
       "\n",
       "  TokenIssuerName TokenIssuerType  \\\n",
       "0                         AzureAD   \n",
       "\n",
       "                                                                                             UserAgent  \\\n",
       "0  Mozilla/5.0 (Windows NT 10.0; Win64; x64) AppleWebKit/537.36 (KHTML, like Gecko) Chrome/114.0.0....   \n",
       "\n",
       "  UserDisplayName                                UserId  \\\n",
       "0    Griffin Cass  36a4c34a-dd20-4357-b32c-77007b86bbc4   \n",
       "\n",
       "       UserPrincipalName                           AADTenantId  UserType  \\\n",
       "0  griffin.cass@wedc.org  a4d0c603-9c7f-4293-b89c-a08c1a8eb571    Member   \n",
       "\n",
       "  FlaggedForReview IPAddressFromResourceProvider SignInIdentifier  \\\n",
       "0             None                                                  \n",
       "\n",
       "  SignInIdentifierType                      ResourceTenantId  \\\n",
       "0                       a4d0c603-9c7f-4293-b89c-a08c1a8eb571   \n",
       "\n",
       "                           HomeTenantId   UniqueTokenIdentifier  \\\n",
       "0  a4d0c603-9c7f-4293-b89c-a08c1a8eb571  bT8Q965qPkG1nSJAOuBQAA   \n",
       "\n",
       "  SessionLifetimePolicies AutonomousSystemNumber AuthenticationProtocol  \\\n",
       "0                      []                   4181                   none   \n",
       "\n",
       "  CrossTenantAccessType AppliedConditionalAccessPolicies RiskLevel  \\\n",
       "0                  none                                              \n",
       "\n",
       "         Type            AccountName                Source  \n",
       "0  SigninLogs  griffin.cass@wedc.org  AzureActiveDirectory  \n",
       "\n",
       "[1 rows x 78 columns]"
      ]
     },
     "metadata": {},
     "output_type": "display_data"
    },
    {
     "data": {
      "text/html": [
       "<br><b>No alerts for this account</b>"
      ],
      "text/plain": [
       "<IPython.core.display.HTML object>"
      ]
     },
     "metadata": {},
     "output_type": "display_data"
    },
    {
     "data": {
      "text/html": [
       "<br><b>No bookmarks for this account</b>"
      ],
      "text/plain": [
       "<IPython.core.display.HTML object>"
      ]
     },
     "metadata": {},
     "output_type": "display_data"
    },
    {
     "data": {
      "text/html": [
       "<p style=''><hr></p>"
      ],
      "text/plain": [
       "<IPython.core.display.HTML object>"
      ]
     },
     "metadata": {},
     "output_type": "display_data"
    },
    {
     "data": {
      "text/html": [
       "<p style=''><h3>Use <i>result.notebooklet.get_additional_data()</i> to retrieve more data.</p>"
      ],
      "text/plain": [
       "<IPython.core.display.HTML object>"
      ]
     },
     "metadata": {},
     "output_type": "display_data"
    },
    {
     "data": {
      "text/html": [
       "<p style=''>Additional methods for this class:<br>az_activity_timeline_by_ip - 'Display Azure activity timeline by IP address.'<br>az_activity_timeline_by_operation - 'Display Azure activity timeline by operation.'<br>az_activity_timeline_by_provider - 'Display Azure activity timeline by provider.'<br>browse_accounts - 'Return the accounts browser/viewer.'<br>browse_alerts - 'Return alert browser/viewer.'<br>browse_bookmarks - 'Return bookmark browser/viewer.'<br>display_alert_timeline - 'Display the alert timeline.'<br>get_additional_data - 'Find additional data for the selected account.'<br>get_geoip_map - 'Return Folium map of IP activity.'<br>host_logon_timeline - 'Display IP address summary.'<br>run - 'Return account activity summary.'<br>show_ip_summary - 'Display Azure activity timeline by operation.'</p>"
      ],
      "text/plain": [
       "<IPython.core.display.HTML object>"
      ]
     },
     "metadata": {},
     "output_type": "display_data"
    }
   ],
   "source": [
    "acct_nb = nb.nblts.azsent.account.AccountSummary()\n",
    "\n",
    "md(\n",
    "    \"\",\n",
    "    \"large, bold\"\n",
    "    )\n",
    "acc_result = acct_nb.run(\n",
    "    value=account_txt.value,\n",
    "    timespan=qry_prov.query_time.timespan,\n",
    "    account_types=acct_types_select.value,\n",
    ")"
   ]
  },
  {
   "cell_type": "code",
   "execution_count": 9,
   "metadata": {},
   "outputs": [
    {
     "data": {
      "text/html": [
       "<p style='font-weight: bold;;font-size: 130%'>Warning: Multiple matches found for account. Running on first listed account</p>"
      ],
      "text/plain": [
       "<IPython.core.display.HTML object>"
      ]
     },
     "metadata": {},
     "output_type": "display_data"
    }
   ],
   "source": [
    "if len(acc_result.account_selector.options) > 1:\n",
    "    md_warn(\"Multiple matches found for account. Running on first listed account\")"
   ]
  },
  {
   "attachments": {},
   "cell_type": "markdown",
   "metadata": {},
   "source": [
    "# Retrieve additional data for the selected account\n",
    "\n",
    "The result returned from the last cell has a number of properties and methods that you can use\n",
    "to retrieve and view further information.\n",
    "\n",
    "The main one for this notebooklet is `get_additional_data`.\n",
    "Depending on the account type (Azure, Windows or Linux), it will retrieve more detailed\n",
    "data about recent activity"
   ]
  },
  {
   "cell_type": "code",
   "execution_count": 10,
   "metadata": {},
   "outputs": [
    {
     "data": {
      "text/html": [
       "<p style=''>Getting data from AADSignin...</p>"
      ],
      "text/plain": [
       "<IPython.core.display.HTML object>"
      ]
     },
     "metadata": {},
     "output_type": "display_data"
    },
    {
     "data": {
      "text/html": [
       "<p style=''>Getting data from AzureActivity...</p>"
      ],
      "text/plain": [
       "<IPython.core.display.HTML object>"
      ]
     },
     "metadata": {},
     "output_type": "display_data"
    },
    {
     "data": {
      "text/html": [
       "<p style=''>Getting data from Office365Activity...</p>"
      ],
      "text/plain": [
       "<IPython.core.display.HTML object>"
      ]
     },
     "metadata": {},
     "output_type": "display_data"
    },
    {
     "data": {
      "text/html": [
       "<div class=\"bk-root\">\n",
       "        <a href=\"https://bokeh.org\" target=\"_blank\" class=\"bk-logo bk-logo-small bk-logo-notebook\"></a>\n",
       "        <span id=\"1002\">Loading BokehJS ...</span>\n",
       "    </div>\n"
      ]
     },
     "metadata": {},
     "output_type": "display_data"
    },
    {
     "data": {
      "application/javascript": "(function(root) {\n  function now() {\n    return new Date();\n  }\n\n  const force = true;\n\n  if (typeof root._bokeh_onload_callbacks === \"undefined\" || force === true) {\n    root._bokeh_onload_callbacks = [];\n    root._bokeh_is_loading = undefined;\n  }\n\nconst JS_MIME_TYPE = 'application/javascript';\n  const HTML_MIME_TYPE = 'text/html';\n  const EXEC_MIME_TYPE = 'application/vnd.bokehjs_exec.v0+json';\n  const CLASS_NAME = 'output_bokeh rendered_html';\n\n  /**\n   * Render data to the DOM node\n   */\n  function render(props, node) {\n    const script = document.createElement(\"script\");\n    node.appendChild(script);\n  }\n\n  /**\n   * Handle when an output is cleared or removed\n   */\n  function handleClearOutput(event, handle) {\n    const cell = handle.cell;\n\n    const id = cell.output_area._bokeh_element_id;\n    const server_id = cell.output_area._bokeh_server_id;\n    // Clean up Bokeh references\n    if (id != null && id in Bokeh.index) {\n      Bokeh.index[id].model.document.clear();\n      delete Bokeh.index[id];\n    }\n\n    if (server_id !== undefined) {\n      // Clean up Bokeh references\n      const cmd_clean = \"from bokeh.io.state import curstate; print(curstate().uuid_to_server['\" + server_id + \"'].get_sessions()[0].document.roots[0]._id)\";\n      cell.notebook.kernel.execute(cmd_clean, {\n        iopub: {\n          output: function(msg) {\n            const id = msg.content.text.trim();\n            if (id in Bokeh.index) {\n              Bokeh.index[id].model.document.clear();\n              delete Bokeh.index[id];\n            }\n          }\n        }\n      });\n      // Destroy server and session\n      const cmd_destroy = \"import bokeh.io.notebook as ion; ion.destroy_server('\" + server_id + \"')\";\n      cell.notebook.kernel.execute(cmd_destroy);\n    }\n  }\n\n  /**\n   * Handle when a new output is added\n   */\n  function handleAddOutput(event, handle) {\n    const output_area = handle.output_area;\n    const output = handle.output;\n\n    // limit handleAddOutput to display_data with EXEC_MIME_TYPE content only\n    if ((output.output_type != \"display_data\") || (!Object.prototype.hasOwnProperty.call(output.data, EXEC_MIME_TYPE))) {\n      return\n    }\n\n    const toinsert = output_area.element.find(\".\" + CLASS_NAME.split(' ')[0]);\n\n    if (output.metadata[EXEC_MIME_TYPE][\"id\"] !== undefined) {\n      toinsert[toinsert.length - 1].firstChild.textContent = output.data[JS_MIME_TYPE];\n      // store reference to embed id on output_area\n      output_area._bokeh_element_id = output.metadata[EXEC_MIME_TYPE][\"id\"];\n    }\n    if (output.metadata[EXEC_MIME_TYPE][\"server_id\"] !== undefined) {\n      const bk_div = document.createElement(\"div\");\n      bk_div.innerHTML = output.data[HTML_MIME_TYPE];\n      const script_attrs = bk_div.children[0].attributes;\n      for (let i = 0; i < script_attrs.length; i++) {\n        toinsert[toinsert.length - 1].firstChild.setAttribute(script_attrs[i].name, script_attrs[i].value);\n        toinsert[toinsert.length - 1].firstChild.textContent = bk_div.children[0].textContent\n      }\n      // store reference to server id on output_area\n      output_area._bokeh_server_id = output.metadata[EXEC_MIME_TYPE][\"server_id\"];\n    }\n  }\n\n  function register_renderer(events, OutputArea) {\n\n    function append_mime(data, metadata, element) {\n      // create a DOM node to render to\n      const toinsert = this.create_output_subarea(\n        metadata,\n        CLASS_NAME,\n        EXEC_MIME_TYPE\n      );\n      this.keyboard_manager.register_events(toinsert);\n      // Render to node\n      const props = {data: data, metadata: metadata[EXEC_MIME_TYPE]};\n      render(props, toinsert[toinsert.length - 1]);\n      element.append(toinsert);\n      return toinsert\n    }\n\n    /* Handle when an output is cleared or removed */\n    events.on('clear_output.CodeCell', handleClearOutput);\n    events.on('delete.Cell', handleClearOutput);\n\n    /* Handle when a new output is added */\n    events.on('output_added.OutputArea', handleAddOutput);\n\n    /**\n     * Register the mime type and append_mime function with output_area\n     */\n    OutputArea.prototype.register_mime_type(EXEC_MIME_TYPE, append_mime, {\n      /* Is output safe? */\n      safe: true,\n      /* Index of renderer in `output_area.display_order` */\n      index: 0\n    });\n  }\n\n  // register the mime type if in Jupyter Notebook environment and previously unregistered\n  if (root.Jupyter !== undefined) {\n    const events = require('base/js/events');\n    const OutputArea = require('notebook/js/outputarea').OutputArea;\n\n    if (OutputArea.prototype.mime_types().indexOf(EXEC_MIME_TYPE) == -1) {\n      register_renderer(events, OutputArea);\n    }\n  }\n  if (typeof (root._bokeh_timeout) === \"undefined\" || force === true) {\n    root._bokeh_timeout = Date.now() + 5000;\n    root._bokeh_failed_load = false;\n  }\n\n  const NB_LOAD_WARNING = {'data': {'text/html':\n     \"<div style='background-color: #fdd'>\\n\"+\n     \"<p>\\n\"+\n     \"BokehJS does not appear to have successfully loaded. If loading BokehJS from CDN, this \\n\"+\n     \"may be due to a slow or bad network connection. Possible fixes:\\n\"+\n     \"</p>\\n\"+\n     \"<ul>\\n\"+\n     \"<li>re-rerun `output_notebook()` to attempt to load from CDN again, or</li>\\n\"+\n     \"<li>use INLINE resources instead, as so:</li>\\n\"+\n     \"</ul>\\n\"+\n     \"<code>\\n\"+\n     \"from bokeh.resources import INLINE\\n\"+\n     \"output_notebook(resources=INLINE)\\n\"+\n     \"</code>\\n\"+\n     \"</div>\"}};\n\n  function display_loaded() {\n    const el = document.getElementById(\"1002\");\n    if (el != null) {\n      el.textContent = \"BokehJS is loading...\";\n    }\n    if (root.Bokeh !== undefined) {\n      if (el != null) {\n        el.textContent = \"BokehJS \" + root.Bokeh.version + \" successfully loaded.\";\n      }\n    } else if (Date.now() < root._bokeh_timeout) {\n      setTimeout(display_loaded, 100)\n    }\n  }\n\n  function run_callbacks() {\n    try {\n      root._bokeh_onload_callbacks.forEach(function(callback) {\n        if (callback != null)\n          callback();\n      });\n    } finally {\n      delete root._bokeh_onload_callbacks\n    }\n    console.debug(\"Bokeh: all callbacks have finished\");\n  }\n\n  function load_libs(css_urls, js_urls, callback) {\n    if (css_urls == null) css_urls = [];\n    if (js_urls == null) js_urls = [];\n\n    root._bokeh_onload_callbacks.push(callback);\n    if (root._bokeh_is_loading > 0) {\n      console.debug(\"Bokeh: BokehJS is being loaded, scheduling callback at\", now());\n      return null;\n    }\n    if (js_urls == null || js_urls.length === 0) {\n      run_callbacks();\n      return null;\n    }\n    console.debug(\"Bokeh: BokehJS not loaded, scheduling load and callback at\", now());\n    root._bokeh_is_loading = css_urls.length + js_urls.length;\n\n    function on_load() {\n      root._bokeh_is_loading--;\n      if (root._bokeh_is_loading === 0) {\n        console.debug(\"Bokeh: all BokehJS libraries/stylesheets loaded\");\n        run_callbacks()\n      }\n    }\n\n    function on_error(url) {\n      console.error(\"failed to load \" + url);\n    }\n\n    for (let i = 0; i < css_urls.length; i++) {\n      const url = css_urls[i];\n      const element = document.createElement(\"link\");\n      element.onload = on_load;\n      element.onerror = on_error.bind(null, url);\n      element.rel = \"stylesheet\";\n      element.type = \"text/css\";\n      element.href = url;\n      console.debug(\"Bokeh: injecting link tag for BokehJS stylesheet: \", url);\n      document.body.appendChild(element);\n    }\n\n    for (let i = 0; i < js_urls.length; i++) {\n      const url = js_urls[i];\n      const element = document.createElement('script');\n      element.onload = on_load;\n      element.onerror = on_error.bind(null, url);\n      element.async = false;\n      element.src = url;\n      console.debug(\"Bokeh: injecting script tag for BokehJS library: \", url);\n      document.head.appendChild(element);\n    }\n  };\n\n  function inject_raw_css(css) {\n    const element = document.createElement(\"style\");\n    element.appendChild(document.createTextNode(css));\n    document.body.appendChild(element);\n  }\n\n  const js_urls = [\"https://cdn.bokeh.org/bokeh/release/bokeh-2.4.3.min.js\", \"https://cdn.bokeh.org/bokeh/release/bokeh-gl-2.4.3.min.js\", \"https://cdn.bokeh.org/bokeh/release/bokeh-widgets-2.4.3.min.js\", \"https://cdn.bokeh.org/bokeh/release/bokeh-tables-2.4.3.min.js\", \"https://cdn.bokeh.org/bokeh/release/bokeh-mathjax-2.4.3.min.js\"];\n  const css_urls = [];\n\n  const inline_js = [    function(Bokeh) {\n      Bokeh.set_log_level(\"info\");\n    },\nfunction(Bokeh) {\n    }\n  ];\n\n  function run_inline_js() {\n    if (root.Bokeh !== undefined || force === true) {\n          for (let i = 0; i < inline_js.length; i++) {\n      inline_js[i].call(root, root.Bokeh);\n    }\nif (force === true) {\n        display_loaded();\n      }} else if (Date.now() < root._bokeh_timeout) {\n      setTimeout(run_inline_js, 100);\n    } else if (!root._bokeh_failed_load) {\n      console.log(\"Bokeh: BokehJS failed to load within specified timeout.\");\n      root._bokeh_failed_load = true;\n    } else if (force !== true) {\n      const cell = $(document.getElementById(\"1002\")).parents('.cell').data().cell;\n      cell.output_area.append_execute_result(NB_LOAD_WARNING)\n    }\n  }\n\n  if (root._bokeh_is_loading === 0) {\n    console.debug(\"Bokeh: BokehJS loaded, going straight to plotting\");\n    run_inline_js();\n  } else {\n    load_libs(css_urls, js_urls, function() {\n      console.debug(\"Bokeh: BokehJS plotting callback run at\", now());\n      run_inline_js();\n    });\n  }\n}(window));",
      "application/vnd.bokehjs_load.v0+json": ""
     },
     "metadata": {},
     "output_type": "display_data"
    },
    {
     "data": {
      "text/html": [
       "\n",
       "  <div class=\"bk-root\" id=\"35e57cef-01f5-416b-a99b-a46c13b62923\" data-root-id=\"1399\"></div>\n"
      ]
     },
     "metadata": {},
     "output_type": "display_data"
    },
    {
     "data": {
      "application/javascript": "(function(root) {\n  function embed_document(root) {\n  const docs_json = {\"124b2774-10a4-4442-9a6c-6a53ff0ddefd\":{\"defs\":[],\"roots\":{\"references\":[{\"attributes\":{\"children\":[{\"id\":\"1028\"},{\"id\":\"1060\"}]},\"id\":\"1399\",\"type\":\"Column\"},{\"attributes\":{\"coordinates\":null,\"data_source\":{\"id\":\"1020\"},\"glyph\":{\"id\":\"1350\"},\"group\":null,\"hover_glyph\":null,\"muted_glyph\":{\"id\":\"1352\"},\"nonselection_glyph\":{\"id\":\"1351\"},\"view\":{\"id\":\"1354\"}},\"id\":\"1353\",\"type\":\"GlyphRenderer\"},{\"attributes\":{\"fill_alpha\":{\"value\":0.1},\"fill_color\":{\"value\":\"#35B778\"},\"hatch_alpha\":{\"value\":0.1},\"hatch_color\":{\"value\":\"#35B778\"},\"line_alpha\":{\"value\":0.1},\"line_color\":{\"value\":\"#35B778\"},\"marker\":{\"value\":\"diamond\"},\"size\":{\"value\":10},\"x\":{\"field\":\"TimeGenerated\"},\"y\":{\"field\":\"y_index\"}},\"id\":\"1358\",\"type\":\"Scatter\"},{\"attributes\":{\"fill_alpha\":{\"value\":0.1},\"fill_color\":{\"value\":\"#39548B\"},\"hatch_alpha\":{\"value\":0.1},\"hatch_color\":{\"value\":\"#39548B\"},\"line_alpha\":{\"value\":0.1},\"line_color\":{\"value\":\"#39548B\"},\"marker\":{\"value\":\"diamond\"},\"size\":{\"value\":10},\"x\":{\"field\":\"TimeGenerated\"},\"y\":{\"field\":\"y_index\"}},\"id\":\"1281\",\"type\":\"Scatter\"},{\"attributes\":{\"fill_alpha\":{\"value\":0.2},\"fill_color\":{\"value\":\"#39548B\"},\"hatch_alpha\":{\"value\":0.2},\"hatch_color\":{\"value\":\"#39548B\"},\"line_alpha\":{\"value\":0.2},\"line_color\":{\"value\":\"#39548B\"},\"marker\":{\"value\":\"diamond\"},\"size\":{\"value\":10},\"x\":{\"field\":\"TimeGenerated\"},\"y\":{\"field\":\"y_index\"}},\"id\":\"1282\",\"type\":\"Scatter\"},{\"attributes\":{\"fill_alpha\":{\"value\":0.2},\"fill_color\":{\"value\":\"#35B778\"},\"hatch_alpha\":{\"value\":0.2},\"hatch_color\":{\"value\":\"#35B778\"},\"line_alpha\":{\"value\":0.2},\"line_color\":{\"value\":\"#35B778\"},\"marker\":{\"value\":\"diamond\"},\"size\":{\"value\":10},\"x\":{\"field\":\"TimeGenerated\"},\"y\":{\"field\":\"y_index\"}},\"id\":\"1359\",\"type\":\"Scatter\"},{\"attributes\":{\"coordinates\":null,\"data_source\":{\"id\":\"1010\"},\"glyph\":{\"id\":\"1280\"},\"group\":null,\"hover_glyph\":null,\"muted_glyph\":{\"id\":\"1282\"},\"nonselection_glyph\":{\"id\":\"1281\"},\"view\":{\"id\":\"1284\"}},\"id\":\"1283\",\"type\":\"GlyphRenderer\"},{\"attributes\":{\"coordinates\":null,\"data_source\":{\"id\":\"1021\"},\"glyph\":{\"id\":\"1357\"},\"group\":null,\"hover_glyph\":null,\"muted_glyph\":{\"id\":\"1359\"},\"nonselection_glyph\":{\"id\":\"1358\"},\"view\":{\"id\":\"1361\"}},\"id\":\"1360\",\"type\":\"GlyphRenderer\"},{\"attributes\":{\"fill_alpha\":{\"value\":0.1},\"fill_color\":{\"value\":\"#355D8C\"},\"hatch_alpha\":{\"value\":0.1},\"hatch_color\":{\"value\":\"#355D8C\"},\"line_alpha\":{\"value\":0.1},\"line_color\":{\"value\":\"#355D8C\"},\"marker\":{\"value\":\"diamond\"},\"size\":{\"value\":10},\"x\":{\"field\":\"TimeGenerated\"},\"y\":{\"field\":\"y_index\"}},\"id\":\"1288\",\"type\":\"Scatter\"},{\"attributes\":{\"fill_alpha\":{\"value\":0.1},\"fill_color\":{\"value\":\"#44BE70\"},\"hatch_alpha\":{\"value\":0.1},\"hatch_color\":{\"value\":\"#44BE70\"},\"line_alpha\":{\"value\":0.1},\"line_color\":{\"value\":\"#44BE70\"},\"marker\":{\"value\":\"diamond\"},\"size\":{\"value\":10},\"x\":{\"field\":\"TimeGenerated\"},\"y\":{\"field\":\"y_index\"}},\"id\":\"1365\",\"type\":\"Scatter\"},{\"attributes\":{\"label\":{\"value\":\"Salesforce\"},\"renderers\":[{\"id\":\"1360\"}]},\"id\":\"1362\",\"type\":\"LegendItem\"},{\"attributes\":{\"label\":{\"value\":\"Microsoft App Access Panel\"},\"renderers\":[{\"id\":\"1283\"}]},\"id\":\"1285\",\"type\":\"LegendItem\"},{\"attributes\":{\"source\":{\"id\":\"1010\"}},\"id\":\"1284\",\"type\":\"CDSView\"},{\"attributes\":{\"source\":{\"id\":\"1021\"}},\"id\":\"1361\",\"type\":\"CDSView\"},{\"attributes\":{\"fill_alpha\":{\"value\":0.5},\"fill_color\":{\"value\":\"#355D8C\"},\"hatch_alpha\":{\"value\":0.5},\"hatch_color\":{\"value\":\"#355D8C\"},\"line_alpha\":{\"value\":0.5},\"line_color\":{\"value\":\"#355D8C\"},\"marker\":{\"value\":\"diamond\"},\"size\":{\"value\":10},\"x\":{\"field\":\"TimeGenerated\"},\"y\":{\"field\":\"y_index\"}},\"id\":\"1287\",\"type\":\"Scatter\"},{\"attributes\":{\"fill_alpha\":{\"value\":0.5},\"fill_color\":{\"value\":\"#44BE70\"},\"hatch_alpha\":{\"value\":0.5},\"hatch_color\":{\"value\":\"#44BE70\"},\"line_alpha\":{\"value\":0.5},\"line_color\":{\"value\":\"#44BE70\"},\"marker\":{\"value\":\"diamond\"},\"size\":{\"value\":10},\"x\":{\"field\":\"TimeGenerated\"},\"y\":{\"field\":\"y_index\"}},\"id\":\"1364\",\"type\":\"Scatter\"},{\"attributes\":{},\"id\":\"1455\",\"type\":\"UnionRenderers\"},{\"attributes\":{},\"id\":\"1456\",\"type\":\"Selection\"},{\"attributes\":{\"fill_alpha\":{\"value\":0.2},\"fill_color\":{\"value\":\"#355D8C\"},\"hatch_alpha\":{\"value\":0.2},\"hatch_color\":{\"value\":\"#355D8C\"},\"line_alpha\":{\"value\":0.2},\"line_color\":{\"value\":\"#355D8C\"},\"marker\":{\"value\":\"diamond\"},\"size\":{\"value\":10},\"x\":{\"field\":\"TimeGenerated\"},\"y\":{\"field\":\"y_index\"}},\"id\":\"1289\",\"type\":\"Scatter\"},{\"attributes\":{\"fill_alpha\":{\"value\":0.2},\"fill_color\":{\"value\":\"#44BE70\"},\"hatch_alpha\":{\"value\":0.2},\"hatch_color\":{\"value\":\"#44BE70\"},\"line_alpha\":{\"value\":0.2},\"line_color\":{\"value\":\"#44BE70\"},\"marker\":{\"value\":\"diamond\"},\"size\":{\"value\":10},\"x\":{\"field\":\"TimeGenerated\"},\"y\":{\"field\":\"y_index\"}},\"id\":\"1366\",\"type\":\"Scatter\"},{\"attributes\":{\"fill_alpha\":{\"value\":0.2},\"fill_color\":{\"value\":\"#28AE7F\"},\"hatch_alpha\":{\"value\":0.2},\"hatch_color\":{\"value\":\"#28AE7F\"},\"line_alpha\":{\"value\":0.2},\"line_color\":{\"value\":\"#28AE7F\"},\"marker\":{\"value\":\"diamond\"},\"size\":{\"value\":10},\"x\":{\"field\":\"TimeGenerated\"},\"y\":{\"field\":\"y_index\"}},\"id\":\"1352\",\"type\":\"Scatter\"},{\"attributes\":{\"coordinates\":null,\"data_source\":{\"id\":\"1011\"},\"glyph\":{\"id\":\"1287\"},\"group\":null,\"hover_glyph\":null,\"muted_glyph\":{\"id\":\"1289\"},\"nonselection_glyph\":{\"id\":\"1288\"},\"view\":{\"id\":\"1291\"}},\"id\":\"1290\",\"type\":\"GlyphRenderer\"},{\"attributes\":{\"coordinates\":null,\"data_source\":{\"id\":\"1022\"},\"glyph\":{\"id\":\"1364\"},\"group\":null,\"hover_glyph\":null,\"muted_glyph\":{\"id\":\"1366\"},\"nonselection_glyph\":{\"id\":\"1365\"},\"view\":{\"id\":\"1368\"}},\"id\":\"1367\",\"type\":\"GlyphRenderer\"},{\"attributes\":{\"fill_alpha\":{\"value\":0.1},\"fill_color\":{\"value\":\"#30678D\"},\"hatch_alpha\":{\"value\":0.1},\"hatch_color\":{\"value\":\"#30678D\"},\"line_alpha\":{\"value\":0.1},\"line_color\":{\"value\":\"#30678D\"},\"marker\":{\"value\":\"diamond\"},\"size\":{\"value\":10},\"x\":{\"field\":\"TimeGenerated\"},\"y\":{\"field\":\"y_index\"}},\"id\":\"1295\",\"type\":\"Scatter\"},{\"attributes\":{\"fill_alpha\":{\"value\":0.1},\"fill_color\":{\"value\":\"#55C666\"},\"hatch_alpha\":{\"value\":0.1},\"hatch_color\":{\"value\":\"#55C666\"},\"line_alpha\":{\"value\":0.1},\"line_color\":{\"value\":\"#55C666\"},\"marker\":{\"value\":\"diamond\"},\"size\":{\"value\":10},\"x\":{\"field\":\"TimeGenerated\"},\"y\":{\"field\":\"y_index\"}},\"id\":\"1372\",\"type\":\"Scatter\"},{\"attributes\":{\"label\":{\"value\":\"Salesforce Partial\"},\"renderers\":[{\"id\":\"1367\"}]},\"id\":\"1369\",\"type\":\"LegendItem\"},{\"attributes\":{\"label\":{\"value\":\"MicrosoftTeams\"},\"renderers\":[{\"id\":\"1290\"}]},\"id\":\"1292\",\"type\":\"LegendItem\"},{\"attributes\":{\"source\":{\"id\":\"1011\"}},\"id\":\"1291\",\"type\":\"CDSView\"},{\"attributes\":{\"source\":{\"id\":\"1022\"}},\"id\":\"1368\",\"type\":\"CDSView\"},{\"attributes\":{\"fill_alpha\":{\"value\":0.5},\"fill_color\":{\"value\":\"#30678D\"},\"hatch_alpha\":{\"value\":0.5},\"hatch_color\":{\"value\":\"#30678D\"},\"line_alpha\":{\"value\":0.5},\"line_color\":{\"value\":\"#30678D\"},\"marker\":{\"value\":\"diamond\"},\"size\":{\"value\":10},\"x\":{\"field\":\"TimeGenerated\"},\"y\":{\"field\":\"y_index\"}},\"id\":\"1294\",\"type\":\"Scatter\"},{\"attributes\":{\"fill_alpha\":{\"value\":0.5},\"fill_color\":{\"value\":\"#55C666\"},\"hatch_alpha\":{\"value\":0.5},\"hatch_color\":{\"value\":\"#55C666\"},\"line_alpha\":{\"value\":0.5},\"line_color\":{\"value\":\"#55C666\"},\"marker\":{\"value\":\"diamond\"},\"size\":{\"value\":10},\"x\":{\"field\":\"TimeGenerated\"},\"y\":{\"field\":\"y_index\"}},\"id\":\"1371\",\"type\":\"Scatter\"},{\"attributes\":{\"fill_alpha\":{\"value\":0.5},\"fill_color\":{\"value\":\"#28AE7F\"},\"hatch_alpha\":{\"value\":0.5},\"hatch_color\":{\"value\":\"#28AE7F\"},\"line_alpha\":{\"value\":0.5},\"line_color\":{\"value\":\"#28AE7F\"},\"marker\":{\"value\":\"diamond\"},\"size\":{\"value\":10},\"x\":{\"field\":\"TimeGenerated\"},\"y\":{\"field\":\"y_index\"}},\"id\":\"1350\",\"type\":\"Scatter\"},{\"attributes\":{\"fill_alpha\":{\"value\":0.2},\"fill_color\":{\"value\":\"#30678D\"},\"hatch_alpha\":{\"value\":0.2},\"hatch_color\":{\"value\":\"#30678D\"},\"line_alpha\":{\"value\":0.2},\"line_color\":{\"value\":\"#30678D\"},\"marker\":{\"value\":\"diamond\"},\"size\":{\"value\":10},\"x\":{\"field\":\"TimeGenerated\"},\"y\":{\"field\":\"y_index\"}},\"id\":\"1296\",\"type\":\"Scatter\"},{\"attributes\":{\"fill_alpha\":{\"value\":0.2},\"fill_color\":{\"value\":\"#55C666\"},\"hatch_alpha\":{\"value\":0.2},\"hatch_color\":{\"value\":\"#55C666\"},\"line_alpha\":{\"value\":0.2},\"line_color\":{\"value\":\"#55C666\"},\"marker\":{\"value\":\"diamond\"},\"size\":{\"value\":10},\"x\":{\"field\":\"TimeGenerated\"},\"y\":{\"field\":\"y_index\"}},\"id\":\"1373\",\"type\":\"Scatter\"},{\"attributes\":{\"coordinates\":null,\"data_source\":{\"id\":\"1012\"},\"glyph\":{\"id\":\"1294\"},\"group\":null,\"hover_glyph\":null,\"muted_glyph\":{\"id\":\"1296\"},\"nonselection_glyph\":{\"id\":\"1295\"},\"view\":{\"id\":\"1298\"}},\"id\":\"1297\",\"type\":\"GlyphRenderer\"},{\"attributes\":{\"coordinates\":null,\"data_source\":{\"id\":\"1023\"},\"glyph\":{\"id\":\"1371\"},\"group\":null,\"hover_glyph\":null,\"muted_glyph\":{\"id\":\"1373\"},\"nonselection_glyph\":{\"id\":\"1372\"},\"view\":{\"id\":\"1375\"}},\"id\":\"1374\",\"type\":\"GlyphRenderer\"},{\"attributes\":{\"fill_alpha\":{\"value\":0.1},\"fill_color\":{\"value\":\"#2C708E\"},\"hatch_alpha\":{\"value\":0.1},\"hatch_color\":{\"value\":\"#2C708E\"},\"line_alpha\":{\"value\":0.1},\"line_color\":{\"value\":\"#2C708E\"},\"marker\":{\"value\":\"diamond\"},\"size\":{\"value\":10},\"x\":{\"field\":\"TimeGenerated\"},\"y\":{\"field\":\"y_index\"}},\"id\":\"1302\",\"type\":\"Scatter\"},{\"attributes\":{\"fill_alpha\":{\"value\":0.1},\"fill_color\":{\"value\":\"#6BCD59\"},\"hatch_alpha\":{\"value\":0.1},\"hatch_color\":{\"value\":\"#6BCD59\"},\"line_alpha\":{\"value\":0.1},\"line_color\":{\"value\":\"#6BCD59\"},\"marker\":{\"value\":\"diamond\"},\"size\":{\"value\":10},\"x\":{\"field\":\"TimeGenerated\"},\"y\":{\"field\":\"y_index\"}},\"id\":\"1379\",\"type\":\"Scatter\"},{\"attributes\":{\"label\":{\"value\":\"SharePoint\"},\"renderers\":[{\"id\":\"1374\"}]},\"id\":\"1376\",\"type\":\"LegendItem\"},{\"attributes\":{\"label\":{\"value\":\"My Apps\"},\"renderers\":[{\"id\":\"1297\"}]},\"id\":\"1299\",\"type\":\"LegendItem\"},{\"attributes\":{\"source\":{\"id\":\"1012\"}},\"id\":\"1298\",\"type\":\"CDSView\"},{\"attributes\":{\"source\":{\"id\":\"1023\"}},\"id\":\"1375\",\"type\":\"CDSView\"},{\"attributes\":{\"fill_alpha\":{\"value\":0.5},\"fill_color\":{\"value\":\"#2C708E\"},\"hatch_alpha\":{\"value\":0.5},\"hatch_color\":{\"value\":\"#2C708E\"},\"line_alpha\":{\"value\":0.5},\"line_color\":{\"value\":\"#2C708E\"},\"marker\":{\"value\":\"diamond\"},\"size\":{\"value\":10},\"x\":{\"field\":\"TimeGenerated\"},\"y\":{\"field\":\"y_index\"}},\"id\":\"1301\",\"type\":\"Scatter\"},{\"attributes\":{\"fill_alpha\":{\"value\":0.5},\"fill_color\":{\"value\":\"#6BCD59\"},\"hatch_alpha\":{\"value\":0.5},\"hatch_color\":{\"value\":\"#6BCD59\"},\"line_alpha\":{\"value\":0.5},\"line_color\":{\"value\":\"#6BCD59\"},\"marker\":{\"value\":\"diamond\"},\"size\":{\"value\":10},\"x\":{\"field\":\"TimeGenerated\"},\"y\":{\"field\":\"y_index\"}},\"id\":\"1378\",\"type\":\"Scatter\"},{\"attributes\":{\"base\":60,\"mantissas\":[1,2,5,10,15,20,30],\"max_interval\":1800000.0,\"min_interval\":1000.0,\"num_minor_ticks\":0},\"id\":\"1472\",\"type\":\"AdaptiveTicker\"},{\"attributes\":{\"mantissas\":[1,2,5],\"max_interval\":500.0,\"num_minor_ticks\":0},\"id\":\"1471\",\"type\":\"AdaptiveTicker\"},{\"attributes\":{\"base\":24,\"mantissas\":[1,2,4,6,8,12],\"max_interval\":43200000.0,\"min_interval\":3600000.0,\"num_minor_ticks\":0},\"id\":\"1473\",\"type\":\"AdaptiveTicker\"},{\"attributes\":{\"fill_alpha\":{\"value\":0.2},\"fill_color\":{\"value\":\"#2C708E\"},\"hatch_alpha\":{\"value\":0.2},\"hatch_color\":{\"value\":\"#2C708E\"},\"line_alpha\":{\"value\":0.2},\"line_color\":{\"value\":\"#2C708E\"},\"marker\":{\"value\":\"diamond\"},\"size\":{\"value\":10},\"x\":{\"field\":\"TimeGenerated\"},\"y\":{\"field\":\"y_index\"}},\"id\":\"1303\",\"type\":\"Scatter\"},{\"attributes\":{\"fill_alpha\":{\"value\":0.2},\"fill_color\":{\"value\":\"#6BCD59\"},\"hatch_alpha\":{\"value\":0.2},\"hatch_color\":{\"value\":\"#6BCD59\"},\"line_alpha\":{\"value\":0.2},\"line_color\":{\"value\":\"#6BCD59\"},\"marker\":{\"value\":\"diamond\"},\"size\":{\"value\":10},\"x\":{\"field\":\"TimeGenerated\"},\"y\":{\"field\":\"y_index\"}},\"id\":\"1380\",\"type\":\"Scatter\"},{\"attributes\":{},\"id\":\"1482\",\"type\":\"YearsTicker\"},{\"attributes\":{\"source\":{\"id\":\"1019\"}},\"id\":\"1347\",\"type\":\"CDSView\"},{\"attributes\":{\"months\":[0,1,2,3,4,5,6,7,8,9,10,11]},\"id\":\"1478\",\"type\":\"MonthsTicker\"},{\"attributes\":{\"coordinates\":null,\"data_source\":{\"id\":\"1013\"},\"glyph\":{\"id\":\"1301\"},\"group\":null,\"hover_glyph\":null,\"muted_glyph\":{\"id\":\"1303\"},\"nonselection_glyph\":{\"id\":\"1302\"},\"view\":{\"id\":\"1305\"}},\"id\":\"1304\",\"type\":\"GlyphRenderer\"},{\"attributes\":{\"coordinates\":null,\"data_source\":{\"id\":\"1024\"},\"glyph\":{\"id\":\"1378\"},\"group\":null,\"hover_glyph\":null,\"muted_glyph\":{\"id\":\"1380\"},\"nonselection_glyph\":{\"id\":\"1379\"},\"view\":{\"id\":\"1382\"}},\"id\":\"1381\",\"type\":\"GlyphRenderer\"},{\"attributes\":{\"days\":[1,15]},\"id\":\"1477\",\"type\":\"DaysTicker\"},{\"attributes\":{\"fill_alpha\":{\"value\":0.1},\"fill_color\":{\"value\":\"#29798E\"},\"hatch_alpha\":{\"value\":0.1},\"hatch_color\":{\"value\":\"#29798E\"},\"line_alpha\":{\"value\":0.1},\"line_color\":{\"value\":\"#29798E\"},\"marker\":{\"value\":\"diamond\"},\"size\":{\"value\":10},\"x\":{\"field\":\"TimeGenerated\"},\"y\":{\"field\":\"y_index\"}},\"id\":\"1309\",\"type\":\"Scatter\"},{\"attributes\":{\"fill_alpha\":{\"value\":0.1},\"fill_color\":{\"value\":\"#81D34C\"},\"hatch_alpha\":{\"value\":0.1},\"hatch_color\":{\"value\":\"#81D34C\"},\"line_alpha\":{\"value\":0.1},\"line_color\":{\"value\":\"#81D34C\"},\"marker\":{\"value\":\"diamond\"},\"size\":{\"value\":10},\"x\":{\"field\":\"TimeGenerated\"},\"y\":{\"field\":\"y_index\"}},\"id\":\"1386\",\"type\":\"Scatter\"},{\"attributes\":{\"days\":[1,2,3,4,5,6,7,8,9,10,11,12,13,14,15,16,17,18,19,20,21,22,23,24,25,26,27,28,29,30,31]},\"id\":\"1474\",\"type\":\"DaysTicker\"},{\"attributes\":{\"label\":{\"value\":\"SharePoint Online Web Client Extensibility\"},\"renderers\":[{\"id\":\"1381\"}]},\"id\":\"1383\",\"type\":\"LegendItem\"},{\"attributes\":{\"label\":{\"value\":\"Office 365 SharePoint Online\"},\"renderers\":[{\"id\":\"1304\"}]},\"id\":\"1306\",\"type\":\"LegendItem\"},{\"attributes\":{\"days\":[1,4,7,10,13,16,19,22,25,28]},\"id\":\"1475\",\"type\":\"DaysTicker\"},{\"attributes\":{\"days\":[1,8,15,22]},\"id\":\"1476\",\"type\":\"DaysTicker\"},{\"attributes\":{\"source\":{\"id\":\"1013\"}},\"id\":\"1305\",\"type\":\"CDSView\"},{\"attributes\":{\"source\":{\"id\":\"1024\"}},\"id\":\"1382\",\"type\":\"CDSView\"},{\"attributes\":{\"months\":[0,6]},\"id\":\"1481\",\"type\":\"MonthsTicker\"},{\"attributes\":{\"fill_alpha\":{\"value\":0.5},\"fill_color\":{\"value\":\"#29798E\"},\"hatch_alpha\":{\"value\":0.5},\"hatch_color\":{\"value\":\"#29798E\"},\"line_alpha\":{\"value\":0.5},\"line_color\":{\"value\":\"#29798E\"},\"marker\":{\"value\":\"diamond\"},\"size\":{\"value\":10},\"x\":{\"field\":\"TimeGenerated\"},\"y\":{\"field\":\"y_index\"}},\"id\":\"1308\",\"type\":\"Scatter\"},{\"attributes\":{\"fill_alpha\":{\"value\":0.5},\"fill_color\":{\"value\":\"#81D34C\"},\"hatch_alpha\":{\"value\":0.5},\"hatch_color\":{\"value\":\"#81D34C\"},\"line_alpha\":{\"value\":0.5},\"line_color\":{\"value\":\"#81D34C\"},\"marker\":{\"value\":\"diamond\"},\"size\":{\"value\":10},\"x\":{\"field\":\"TimeGenerated\"},\"y\":{\"field\":\"y_index\"}},\"id\":\"1385\",\"type\":\"Scatter\"},{\"attributes\":{\"months\":[0,2,4,6,8,10]},\"id\":\"1479\",\"type\":\"MonthsTicker\"},{\"attributes\":{\"fill_alpha\":{\"value\":0.1},\"fill_color\":{\"value\":\"#28AE7F\"},\"hatch_alpha\":{\"value\":0.1},\"hatch_color\":{\"value\":\"#28AE7F\"},\"line_alpha\":{\"value\":0.1},\"line_color\":{\"value\":\"#28AE7F\"},\"marker\":{\"value\":\"diamond\"},\"size\":{\"value\":10},\"x\":{\"field\":\"TimeGenerated\"},\"y\":{\"field\":\"y_index\"}},\"id\":\"1351\",\"type\":\"Scatter\"},{\"attributes\":{\"fill_alpha\":{\"value\":0.2},\"fill_color\":{\"value\":\"#29798E\"},\"hatch_alpha\":{\"value\":0.2},\"hatch_color\":{\"value\":\"#29798E\"},\"line_alpha\":{\"value\":0.2},\"line_color\":{\"value\":\"#29798E\"},\"marker\":{\"value\":\"diamond\"},\"size\":{\"value\":10},\"x\":{\"field\":\"TimeGenerated\"},\"y\":{\"field\":\"y_index\"}},\"id\":\"1310\",\"type\":\"Scatter\"},{\"attributes\":{\"fill_alpha\":{\"value\":0.2},\"fill_color\":{\"value\":\"#81D34C\"},\"hatch_alpha\":{\"value\":0.2},\"hatch_color\":{\"value\":\"#81D34C\"},\"line_alpha\":{\"value\":0.2},\"line_color\":{\"value\":\"#81D34C\"},\"marker\":{\"value\":\"diamond\"},\"size\":{\"value\":10},\"x\":{\"field\":\"TimeGenerated\"},\"y\":{\"field\":\"y_index\"}},\"id\":\"1387\",\"type\":\"Scatter\"},{\"attributes\":{\"months\":[0,4,8]},\"id\":\"1480\",\"type\":\"MonthsTicker\"},{\"attributes\":{\"label\":{\"value\":\"OneDrive\"},\"renderers\":[{\"id\":\"1346\"}]},\"id\":\"1348\",\"type\":\"LegendItem\"},{\"attributes\":{\"coordinates\":null,\"data_source\":{\"id\":\"1014\"},\"glyph\":{\"id\":\"1308\"},\"group\":null,\"hover_glyph\":null,\"muted_glyph\":{\"id\":\"1310\"},\"nonselection_glyph\":{\"id\":\"1309\"},\"view\":{\"id\":\"1312\"}},\"id\":\"1311\",\"type\":\"GlyphRenderer\"},{\"attributes\":{\"coordinates\":null,\"data_source\":{\"id\":\"1025\"},\"glyph\":{\"id\":\"1385\"},\"group\":null,\"hover_glyph\":null,\"muted_glyph\":{\"id\":\"1387\"},\"nonselection_glyph\":{\"id\":\"1386\"},\"view\":{\"id\":\"1389\"}},\"id\":\"1388\",\"type\":\"GlyphRenderer\"},{\"attributes\":{\"fill_alpha\":{\"value\":0.1},\"fill_color\":{\"value\":\"#25828E\"},\"hatch_alpha\":{\"value\":0.1},\"hatch_color\":{\"value\":\"#25828E\"},\"line_alpha\":{\"value\":0.1},\"line_color\":{\"value\":\"#25828E\"},\"marker\":{\"value\":\"diamond\"},\"size\":{\"value\":10},\"x\":{\"field\":\"TimeGenerated\"},\"y\":{\"field\":\"y_index\"}},\"id\":\"1316\",\"type\":\"Scatter\"},{\"attributes\":{\"fill_alpha\":{\"value\":0.1},\"fill_color\":{\"value\":\"#9AD83C\"},\"hatch_alpha\":{\"value\":0.1},\"hatch_color\":{\"value\":\"#9AD83C\"},\"line_alpha\":{\"value\":0.1},\"line_color\":{\"value\":\"#9AD83C\"},\"marker\":{\"value\":\"diamond\"},\"size\":{\"value\":10},\"x\":{\"field\":\"TimeGenerated\"},\"y\":{\"field\":\"y_index\"}},\"id\":\"1393\",\"type\":\"Scatter\"},{\"attributes\":{\"label\":{\"value\":\"WEDC Service Desk\"},\"renderers\":[{\"id\":\"1388\"}]},\"id\":\"1390\",\"type\":\"LegendItem\"},{\"attributes\":{\"label\":{\"value\":\"Office Online Augmentation Loop SSO\"},\"renderers\":[{\"id\":\"1311\"}]},\"id\":\"1313\",\"type\":\"LegendItem\"},{\"attributes\":{\"source\":{\"id\":\"1014\"}},\"id\":\"1312\",\"type\":\"CDSView\"},{\"attributes\":{\"source\":{\"id\":\"1025\"}},\"id\":\"1389\",\"type\":\"CDSView\"},{\"attributes\":{\"fill_alpha\":{\"value\":0.5},\"fill_color\":{\"value\":\"#25828E\"},\"hatch_alpha\":{\"value\":0.5},\"hatch_color\":{\"value\":\"#25828E\"},\"line_alpha\":{\"value\":0.5},\"line_color\":{\"value\":\"#25828E\"},\"marker\":{\"value\":\"diamond\"},\"size\":{\"value\":10},\"x\":{\"field\":\"TimeGenerated\"},\"y\":{\"field\":\"y_index\"}},\"id\":\"1315\",\"type\":\"Scatter\"},{\"attributes\":{\"fill_alpha\":{\"value\":0.5},\"fill_color\":{\"value\":\"#9AD83C\"},\"hatch_alpha\":{\"value\":0.5},\"hatch_color\":{\"value\":\"#9AD83C\"},\"line_alpha\":{\"value\":0.5},\"line_color\":{\"value\":\"#9AD83C\"},\"marker\":{\"value\":\"diamond\"},\"size\":{\"value\":10},\"x\":{\"field\":\"TimeGenerated\"},\"y\":{\"field\":\"y_index\"}},\"id\":\"1392\",\"type\":\"Scatter\"},{\"attributes\":{\"data\":{\"AppResourceProvider\":[\"Microsoft 365 Security and Compliance Center\"],\"IPAddress\":[\"69.130.255.13\"],\"Operation\":[\"Sign-in activity\"],\"TimeGenerated\":{\"__ndarray__\":\"MYzQDp2OeEI=\",\"dtype\":\"float64\",\"order\":\"little\",\"shape\":[1]},\"index\":[17],\"y_index\":[5]},\"selected\":{\"id\":\"1420\"},\"selection_policy\":{\"id\":\"1419\"}},\"id\":\"1008\",\"type\":\"ColumnDataSource\"},{\"attributes\":{\"fill_alpha\":{\"value\":0.2},\"fill_color\":{\"value\":\"#25828E\"},\"hatch_alpha\":{\"value\":0.2},\"hatch_color\":{\"value\":\"#25828E\"},\"line_alpha\":{\"value\":0.2},\"line_color\":{\"value\":\"#25828E\"},\"marker\":{\"value\":\"diamond\"},\"size\":{\"value\":10},\"x\":{\"field\":\"TimeGenerated\"},\"y\":{\"field\":\"y_index\"}},\"id\":\"1317\",\"type\":\"Scatter\"},{\"attributes\":{\"fill_alpha\":{\"value\":0.2},\"fill_color\":{\"value\":\"#9AD83C\"},\"hatch_alpha\":{\"value\":0.2},\"hatch_color\":{\"value\":\"#9AD83C\"},\"line_alpha\":{\"value\":0.2},\"line_color\":{\"value\":\"#9AD83C\"},\"marker\":{\"value\":\"diamond\"},\"size\":{\"value\":10},\"x\":{\"field\":\"TimeGenerated\"},\"y\":{\"field\":\"y_index\"}},\"id\":\"1394\",\"type\":\"Scatter\"},{\"attributes\":{\"coordinates\":null,\"data_source\":{\"id\":\"1019\"},\"glyph\":{\"id\":\"1343\"},\"group\":null,\"hover_glyph\":null,\"muted_glyph\":{\"id\":\"1345\"},\"nonselection_glyph\":{\"id\":\"1344\"},\"view\":{\"id\":\"1347\"}},\"id\":\"1346\",\"type\":\"GlyphRenderer\"},{\"attributes\":{\"coordinates\":null,\"data_source\":{\"id\":\"1015\"},\"glyph\":{\"id\":\"1315\"},\"group\":null,\"hover_glyph\":null,\"muted_glyph\":{\"id\":\"1317\"},\"nonselection_glyph\":{\"id\":\"1316\"},\"view\":{\"id\":\"1319\"}},\"id\":\"1318\",\"type\":\"GlyphRenderer\"},{\"attributes\":{\"coordinates\":null,\"data_source\":{\"id\":\"1026\"},\"glyph\":{\"id\":\"1392\"},\"group\":null,\"hover_glyph\":null,\"muted_glyph\":{\"id\":\"1394\"},\"nonselection_glyph\":{\"id\":\"1393\"},\"view\":{\"id\":\"1396\"}},\"id\":\"1395\",\"type\":\"GlyphRenderer\"},{\"attributes\":{\"fill_alpha\":{\"value\":0.1},\"fill_color\":{\"value\":\"#228A8D\"},\"hatch_alpha\":{\"value\":0.1},\"hatch_color\":{\"value\":\"#228A8D\"},\"line_alpha\":{\"value\":0.1},\"line_color\":{\"value\":\"#228A8D\"},\"marker\":{\"value\":\"diamond\"},\"size\":{\"value\":10},\"x\":{\"field\":\"TimeGenerated\"},\"y\":{\"field\":\"y_index\"}},\"id\":\"1323\",\"type\":\"Scatter\"},{\"attributes\":{\"label\":{\"value\":\"Windows Sign In\"},\"renderers\":[{\"id\":\"1395\"}]},\"id\":\"1397\",\"type\":\"LegendItem\"},{\"attributes\":{\"label\":{\"value\":\"Office Online Core SSO\"},\"renderers\":[{\"id\":\"1318\"}]},\"id\":\"1320\",\"type\":\"LegendItem\"},{\"attributes\":{\"data\":{\"AppResourceProvider\":[\"Microsoft Account Controls V2\",\"Microsoft Account Controls V2\"],\"IPAddress\":[\"69.130.255.13\",\"69.130.255.13\"],\"Operation\":[\"Sign-in activity\",\"Sign-in activity\"],\"TimeGenerated\":{\"__ndarray__\":\"NWoTgkyOeEJW6h2QTI54Qg==\",\"dtype\":\"float64\",\"order\":\"little\",\"shape\":[2]},\"index\":[85,86],\"y_index\":[6,6]},\"selected\":{\"id\":\"1422\"},\"selection_policy\":{\"id\":\"1421\"}},\"id\":\"1009\",\"type\":\"ColumnDataSource\"},{\"attributes\":{\"source\":{\"id\":\"1015\"}},\"id\":\"1319\",\"type\":\"CDSView\"},{\"attributes\":{\"source\":{\"id\":\"1026\"}},\"id\":\"1396\",\"type\":\"CDSView\"},{\"attributes\":{\"fill_alpha\":{\"value\":0.5},\"fill_color\":{\"value\":\"#228A8D\"},\"hatch_alpha\":{\"value\":0.5},\"hatch_color\":{\"value\":\"#228A8D\"},\"line_alpha\":{\"value\":0.5},\"line_color\":{\"value\":\"#228A8D\"},\"marker\":{\"value\":\"diamond\"},\"size\":{\"value\":10},\"x\":{\"field\":\"TimeGenerated\"},\"y\":{\"field\":\"y_index\"}},\"id\":\"1322\",\"type\":\"Scatter\"},{\"attributes\":{\"fill_alpha\":{\"value\":0.2},\"fill_color\":{\"value\":\"#228A8D\"},\"hatch_alpha\":{\"value\":0.2},\"hatch_color\":{\"value\":\"#228A8D\"},\"line_alpha\":{\"value\":0.2},\"line_color\":{\"value\":\"#228A8D\"},\"marker\":{\"value\":\"diamond\"},\"size\":{\"value\":10},\"x\":{\"field\":\"TimeGenerated\"},\"y\":{\"field\":\"y_index\"}},\"id\":\"1324\",\"type\":\"Scatter\"},{\"attributes\":{\"click_policy\":\"hide\",\"coordinates\":null,\"group\":null,\"items\":[{\"id\":\"1397\"},{\"id\":\"1390\"},{\"id\":\"1383\"},{\"id\":\"1376\"},{\"id\":\"1369\"},{\"id\":\"1362\"},{\"id\":\"1355\"},{\"id\":\"1348\"},{\"id\":\"1341\"},{\"id\":\"1334\"},{\"id\":\"1327\"},{\"id\":\"1320\"},{\"id\":\"1313\"},{\"id\":\"1306\"},{\"id\":\"1299\"},{\"id\":\"1292\"},{\"id\":\"1285\"},{\"id\":\"1278\"},{\"id\":\"1271\"},{\"id\":\"1264\"},{\"id\":\"1257\"},{\"id\":\"1250\"},{\"id\":\"1243\"},{\"id\":\"1236\"}],\"label_text_font_size\":\"8pt\",\"location\":\"center\"},\"id\":\"1398\",\"type\":\"Legend\"},{\"attributes\":{\"fill_alpha\":{\"value\":0.2},\"fill_color\":{\"value\":\"#21A685\"},\"hatch_alpha\":{\"value\":0.2},\"hatch_color\":{\"value\":\"#21A685\"},\"line_alpha\":{\"value\":0.2},\"line_color\":{\"value\":\"#21A685\"},\"marker\":{\"value\":\"diamond\"},\"size\":{\"value\":10},\"x\":{\"field\":\"TimeGenerated\"},\"y\":{\"field\":\"y_index\"}},\"id\":\"1345\",\"type\":\"Scatter\"},{\"attributes\":{\"coordinates\":null,\"data_source\":{\"id\":\"1016\"},\"glyph\":{\"id\":\"1322\"},\"group\":null,\"hover_glyph\":null,\"muted_glyph\":{\"id\":\"1324\"},\"nonselection_glyph\":{\"id\":\"1323\"},\"view\":{\"id\":\"1326\"}},\"id\":\"1325\",\"type\":\"GlyphRenderer\"},{\"attributes\":{\"data\":{\"AppResourceProvider\":[\"KustoClient\",\"KustoClient\"],\"IPAddress\":[\"69.130.255.13\",\"69.130.255.13\"],\"Operation\":[\"Sign-in activity\",\"Sign-in activity\"],\"TimeGenerated\":{\"__ndarray__\":\"FOKgZZaOeEK+S5GAlo54Qg==\",\"dtype\":\"float64\",\"order\":\"little\",\"shape\":[2]},\"index\":[36,39],\"y_index\":[4,4]},\"selected\":{\"id\":\"1418\"},\"selection_policy\":{\"id\":\"1417\"}},\"id\":\"1007\",\"type\":\"ColumnDataSource\"},{\"attributes\":{\"fill_alpha\":{\"value\":0.1},\"fill_color\":{\"value\":\"#1F948B\"},\"hatch_alpha\":{\"value\":0.1},\"hatch_color\":{\"value\":\"#1F948B\"},\"line_alpha\":{\"value\":0.1},\"line_color\":{\"value\":\"#1F948B\"},\"marker\":{\"value\":\"diamond\"},\"size\":{\"value\":10},\"x\":{\"field\":\"TimeGenerated\"},\"y\":{\"field\":\"y_index\"}},\"id\":\"1330\",\"type\":\"Scatter\"},{\"attributes\":{\"label\":{\"value\":\"Office Online Loki SSO\"},\"renderers\":[{\"id\":\"1325\"}]},\"id\":\"1327\",\"type\":\"LegendItem\"},{\"attributes\":{\"source\":{\"id\":\"1016\"}},\"id\":\"1326\",\"type\":\"CDSView\"},{\"attributes\":{\"fill_alpha\":{\"value\":0.5},\"fill_color\":{\"value\":\"#1F948B\"},\"hatch_alpha\":{\"value\":0.5},\"hatch_color\":{\"value\":\"#1F948B\"},\"line_alpha\":{\"value\":0.5},\"line_color\":{\"value\":\"#1F948B\"},\"marker\":{\"value\":\"diamond\"},\"size\":{\"value\":10},\"x\":{\"field\":\"TimeGenerated\"},\"y\":{\"field\":\"y_index\"}},\"id\":\"1329\",\"type\":\"Scatter\"},{\"attributes\":{\"coordinates\":null,\"data_source\":{\"id\":\"1018\"},\"glyph\":{\"id\":\"1336\"},\"group\":null,\"hover_glyph\":null,\"muted_glyph\":{\"id\":\"1338\"},\"nonselection_glyph\":{\"id\":\"1337\"},\"view\":{\"id\":\"1340\"}},\"id\":\"1339\",\"type\":\"GlyphRenderer\"},{\"attributes\":{\"data\":{\"AppResourceProvider\":[\"Azure Portal\",\"Azure Portal\"],\"IPAddress\":[\"69.130.255.13\",\"69.130.255.13\"],\"Operation\":[\"Sign-in activity\",\"Sign-in activity\"],\"TimeGenerated\":{\"__ndarray__\":\"Th5FZ42OeEK+HftTkI54Qg==\",\"dtype\":\"float64\",\"order\":\"little\",\"shape\":[2]},\"index\":[21,22],\"y_index\":[1,1]},\"selected\":{\"id\":\"1412\"},\"selection_policy\":{\"id\":\"1411\"}},\"id\":\"1004\",\"type\":\"ColumnDataSource\"},{\"attributes\":{\"source\":{\"id\":\"1018\"}},\"id\":\"1340\",\"type\":\"CDSView\"},{\"attributes\":{\"fill_alpha\":{\"value\":0.5},\"fill_color\":{\"value\":\"#21A685\"},\"hatch_alpha\":{\"value\":0.5},\"hatch_color\":{\"value\":\"#21A685\"},\"line_alpha\":{\"value\":0.5},\"line_color\":{\"value\":\"#21A685\"},\"marker\":{\"value\":\"diamond\"},\"size\":{\"value\":10},\"x\":{\"field\":\"TimeGenerated\"},\"y\":{\"field\":\"y_index\"}},\"id\":\"1343\",\"type\":\"Scatter\"},{\"attributes\":{\"fill_alpha\":{\"value\":0.1},\"fill_color\":{\"value\":\"#21A685\"},\"hatch_alpha\":{\"value\":0.1},\"hatch_color\":{\"value\":\"#21A685\"},\"line_alpha\":{\"value\":0.1},\"line_color\":{\"value\":\"#21A685\"},\"marker\":{\"value\":\"diamond\"},\"size\":{\"value\":10},\"x\":{\"field\":\"TimeGenerated\"},\"y\":{\"field\":\"y_index\"}},\"id\":\"1344\",\"type\":\"Scatter\"},{\"attributes\":{\"label\":{\"value\":\"Office365 Shell WCSS-Client\"},\"renderers\":[{\"id\":\"1339\"}]},\"id\":\"1341\",\"type\":\"LegendItem\"},{\"attributes\":{\"fill_alpha\":{\"value\":0.5},\"fill_color\":{\"value\":\"#35B778\"},\"hatch_alpha\":{\"value\":0.5},\"hatch_color\":{\"value\":\"#35B778\"},\"line_alpha\":{\"value\":0.5},\"line_color\":{\"value\":\"#35B778\"},\"marker\":{\"value\":\"diamond\"},\"size\":{\"value\":10},\"x\":{\"field\":\"TimeGenerated\"},\"y\":{\"field\":\"y_index\"}},\"id\":\"1357\",\"type\":\"Scatter\"},{\"attributes\":{\"source\":{\"id\":\"1020\"}},\"id\":\"1354\",\"type\":\"CDSView\"},{\"attributes\":{\"label\":{\"value\":\"SWSD - Test Environment\"},\"renderers\":[{\"id\":\"1353\"}]},\"id\":\"1355\",\"type\":\"LegendItem\"},{\"attributes\":{\"fill_alpha\":{\"value\":0.1},\"fill_color\":{\"value\":\"#6BCD59\"},\"hatch_alpha\":{\"value\":0.1},\"hatch_color\":{\"value\":\"#6BCD59\"},\"line_alpha\":{\"value\":0.1},\"line_color\":{\"value\":\"#6BCD59\"},\"x\":{\"field\":\"TimeGenerated\"},\"y\":{\"field\":\"y_index\"}},\"id\":\"1207\",\"type\":\"Circle\"},{\"attributes\":{\"days\":[\"%m-%d %H:%M\"],\"hours\":[\"%H:%M:%S\"],\"milliseconds\":[\"%H:%M:%S.%3N\"],\"minutes\":[\"%H:%M:%S\"],\"seconds\":[\"%H:%M:%S\"]},\"id\":\"1228\",\"type\":\"DatetimeTickFormatter\"},{\"attributes\":{\"source\":{\"id\":\"1006\"}},\"id\":\"1256\",\"type\":\"CDSView\"},{\"attributes\":{\"fill_alpha\":{\"value\":0.2},\"fill_color\":{\"value\":\"#6BCD59\"},\"hatch_alpha\":{\"value\":0.2},\"hatch_color\":{\"value\":\"#6BCD59\"},\"line_alpha\":{\"value\":0.2},\"line_color\":{\"value\":\"#6BCD59\"},\"x\":{\"field\":\"TimeGenerated\"},\"y\":{\"field\":\"y_index\"}},\"id\":\"1208\",\"type\":\"Circle\"},{\"attributes\":{\"fill_color\":{\"value\":\"#81D34C\"},\"hatch_color\":{\"value\":\"#81D34C\"},\"line_color\":{\"value\":\"#81D34C\"},\"x\":{\"field\":\"TimeGenerated\"},\"y\":{\"field\":\"y_index\"}},\"id\":\"1212\",\"type\":\"Circle\"},{\"attributes\":{\"source\":{\"id\":\"1024\"}},\"id\":\"1210\",\"type\":\"CDSView\"},{\"attributes\":{\"fill_alpha\":{\"value\":0.1},\"fill_color\":{\"value\":\"#81D34C\"},\"hatch_alpha\":{\"value\":0.1},\"hatch_color\":{\"value\":\"#81D34C\"},\"line_alpha\":{\"value\":0.1},\"line_color\":{\"value\":\"#81D34C\"},\"x\":{\"field\":\"TimeGenerated\"},\"y\":{\"field\":\"y_index\"}},\"id\":\"1213\",\"type\":\"Circle\"},{\"attributes\":{\"coordinates\":null,\"data_source\":{\"id\":\"1024\"},\"glyph\":{\"id\":\"1206\"},\"group\":null,\"hover_glyph\":null,\"muted_glyph\":{\"id\":\"1208\"},\"nonselection_glyph\":{\"id\":\"1207\"},\"view\":{\"id\":\"1210\"}},\"id\":\"1209\",\"type\":\"GlyphRenderer\"},{\"attributes\":{\"label\":{\"value\":\"Inform Development\"},\"renderers\":[{\"id\":\"1255\"}]},\"id\":\"1257\",\"type\":\"LegendItem\"},{\"attributes\":{\"fill_alpha\":{\"value\":0.1},\"fill_color\":{\"value\":\"#45327F\"},\"hatch_alpha\":{\"value\":0.1},\"hatch_color\":{\"value\":\"#45327F\"},\"line_alpha\":{\"value\":0.1},\"line_color\":{\"value\":\"#45327F\"},\"marker\":{\"value\":\"diamond\"},\"size\":{\"value\":10},\"x\":{\"field\":\"TimeGenerated\"},\"y\":{\"field\":\"y_index\"}},\"id\":\"1260\",\"type\":\"Scatter\"},{\"attributes\":{},\"id\":\"1423\",\"type\":\"UnionRenderers\"},{\"attributes\":{},\"id\":\"1439\",\"type\":\"UnionRenderers\"},{\"attributes\":{\"fill_alpha\":{\"value\":0.2},\"fill_color\":{\"value\":\"#81D34C\"},\"hatch_alpha\":{\"value\":0.2},\"hatch_color\":{\"value\":\"#81D34C\"},\"line_alpha\":{\"value\":0.2},\"line_color\":{\"value\":\"#81D34C\"},\"x\":{\"field\":\"TimeGenerated\"},\"y\":{\"field\":\"y_index\"}},\"id\":\"1214\",\"type\":\"Circle\"},{\"attributes\":{\"fill_color\":{\"value\":\"#9AD83C\"},\"hatch_color\":{\"value\":\"#9AD83C\"},\"line_color\":{\"value\":\"#9AD83C\"},\"x\":{\"field\":\"TimeGenerated\"},\"y\":{\"field\":\"y_index\"}},\"id\":\"1218\",\"type\":\"Circle\"},{\"attributes\":{},\"id\":\"1424\",\"type\":\"Selection\"},{\"attributes\":{},\"id\":\"1440\",\"type\":\"Selection\"},{\"attributes\":{\"source\":{\"id\":\"1025\"}},\"id\":\"1216\",\"type\":\"CDSView\"},{\"attributes\":{\"fill_alpha\":{\"value\":0.1},\"fill_color\":{\"value\":\"#9AD83C\"},\"hatch_alpha\":{\"value\":0.1},\"hatch_color\":{\"value\":\"#9AD83C\"},\"line_alpha\":{\"value\":0.1},\"line_color\":{\"value\":\"#9AD83C\"},\"x\":{\"field\":\"TimeGenerated\"},\"y\":{\"field\":\"y_index\"}},\"id\":\"1219\",\"type\":\"Circle\"},{\"attributes\":{\"coordinates\":null,\"data_source\":{\"id\":\"1025\"},\"glyph\":{\"id\":\"1212\"},\"group\":null,\"hover_glyph\":null,\"muted_glyph\":{\"id\":\"1214\"},\"nonselection_glyph\":{\"id\":\"1213\"},\"view\":{\"id\":\"1216\"}},\"id\":\"1215\",\"type\":\"GlyphRenderer\"},{\"attributes\":{\"coordinates\":null,\"data_source\":{\"id\":\"1006\"},\"glyph\":{\"id\":\"1252\"},\"group\":null,\"hover_glyph\":null,\"muted_glyph\":{\"id\":\"1254\"},\"nonselection_glyph\":{\"id\":\"1253\"},\"view\":{\"id\":\"1256\"}},\"id\":\"1255\",\"type\":\"GlyphRenderer\"},{\"attributes\":{\"fill_alpha\":{\"value\":0.2},\"fill_color\":{\"value\":\"#9AD83C\"},\"hatch_alpha\":{\"value\":0.2},\"hatch_color\":{\"value\":\"#9AD83C\"},\"line_alpha\":{\"value\":0.2},\"line_color\":{\"value\":\"#9AD83C\"},\"x\":{\"field\":\"TimeGenerated\"},\"y\":{\"field\":\"y_index\"}},\"id\":\"1220\",\"type\":\"Circle\"},{\"attributes\":{},\"id\":\"1408\",\"type\":\"AllLabels\"},{\"attributes\":{\"overlay\":{\"id\":\"1224\"},\"x_range\":{\"id\":\"1031\"},\"y_range\":null},\"id\":\"1223\",\"type\":\"RangeTool\"},{\"attributes\":{\"source\":{\"id\":\"1026\"}},\"id\":\"1222\",\"type\":\"CDSView\"},{\"attributes\":{\"coordinates\":null,\"data_source\":{\"id\":\"1026\"},\"glyph\":{\"id\":\"1218\"},\"group\":null,\"hover_glyph\":null,\"muted_glyph\":{\"id\":\"1220\"},\"nonselection_glyph\":{\"id\":\"1219\"},\"view\":{\"id\":\"1222\"}},\"id\":\"1221\",\"type\":\"GlyphRenderer\"},{\"attributes\":{\"coordinates\":null,\"fill_alpha\":0.2,\"fill_color\":\"navy\",\"group\":null,\"level\":\"overlay\",\"line_alpha\":1.0,\"line_color\":\"black\",\"line_dash\":[2,2],\"line_width\":0.5,\"syncable\":false},\"id\":\"1224\",\"type\":\"BoxAnnotation\"},{\"attributes\":{\"fill_alpha\":{\"value\":0.5},\"fill_color\":{\"value\":\"#440154\"},\"hatch_alpha\":{\"value\":0.5},\"hatch_color\":{\"value\":\"#440154\"},\"line_alpha\":{\"value\":0.5},\"line_color\":{\"value\":\"#440154\"},\"marker\":{\"value\":\"diamond\"},\"size\":{\"value\":10},\"x\":{\"field\":\"TimeGenerated\"},\"y\":{\"field\":\"y_index\"}},\"id\":\"1231\",\"type\":\"Scatter\"},{\"attributes\":{\"callback\":null,\"tooltips\":[[\"AppResourceProvider\",\"@AppResourceProvider\"],[\"Operation\",\"@Operation\"],[\"TimeGenerated\",\"@TimeGenerated\"],[\"IPAddress\",\"@IPAddress\"]]},\"id\":\"1027\",\"type\":\"HoverTool\"},{\"attributes\":{\"coordinates\":null,\"data_source\":{\"id\":\"1003\"},\"glyph\":{\"id\":\"1231\"},\"group\":null,\"hover_glyph\":null,\"muted_glyph\":{\"id\":\"1233\"},\"nonselection_glyph\":{\"id\":\"1232\"},\"view\":{\"id\":\"1235\"}},\"id\":\"1234\",\"type\":\"GlyphRenderer\"},{\"attributes\":{},\"id\":\"1409\",\"type\":\"UnionRenderers\"},{\"attributes\":{},\"id\":\"1425\",\"type\":\"UnionRenderers\"},{\"attributes\":{},\"id\":\"1441\",\"type\":\"UnionRenderers\"},{\"attributes\":{\"fill_alpha\":{\"value\":0.1},\"fill_color\":{\"value\":\"#1E9C89\"},\"hatch_alpha\":{\"value\":0.1},\"hatch_color\":{\"value\":\"#1E9C89\"},\"line_alpha\":{\"value\":0.1},\"line_color\":{\"value\":\"#1E9C89\"},\"marker\":{\"value\":\"diamond\"},\"size\":{\"value\":10},\"x\":{\"field\":\"TimeGenerated\"},\"y\":{\"field\":\"y_index\"}},\"id\":\"1337\",\"type\":\"Scatter\"},{\"attributes\":{},\"id\":\"1410\",\"type\":\"Selection\"},{\"attributes\":{},\"id\":\"1426\",\"type\":\"Selection\"},{\"attributes\":{\"fill_alpha\":{\"value\":0.1},\"fill_color\":{\"value\":\"#440154\"},\"hatch_alpha\":{\"value\":0.1},\"hatch_color\":{\"value\":\"#440154\"},\"line_alpha\":{\"value\":0.1},\"line_color\":{\"value\":\"#440154\"},\"marker\":{\"value\":\"diamond\"},\"size\":{\"value\":10},\"x\":{\"field\":\"TimeGenerated\"},\"y\":{\"field\":\"y_index\"}},\"id\":\"1232\",\"type\":\"Scatter\"},{\"attributes\":{},\"id\":\"1442\",\"type\":\"Selection\"},{\"attributes\":{\"fill_alpha\":{\"value\":0.2},\"fill_color\":{\"value\":\"#440154\"},\"hatch_alpha\":{\"value\":0.2},\"hatch_color\":{\"value\":\"#440154\"},\"line_alpha\":{\"value\":0.2},\"line_color\":{\"value\":\"#440154\"},\"marker\":{\"value\":\"diamond\"},\"size\":{\"value\":10},\"x\":{\"field\":\"TimeGenerated\"},\"y\":{\"field\":\"y_index\"}},\"id\":\"1233\",\"type\":\"Scatter\"},{\"attributes\":{\"fill_alpha\":{\"value\":0.2},\"fill_color\":{\"value\":\"#472777\"},\"hatch_alpha\":{\"value\":0.2},\"hatch_color\":{\"value\":\"#472777\"},\"line_alpha\":{\"value\":0.2},\"line_color\":{\"value\":\"#472777\"},\"marker\":{\"value\":\"diamond\"},\"size\":{\"value\":10},\"x\":{\"field\":\"TimeGenerated\"},\"y\":{\"field\":\"y_index\"}},\"id\":\"1254\",\"type\":\"Scatter\"},{\"attributes\":{\"label\":{\"value\":\"APIM-Client-DevPortal-OAuth\"},\"renderers\":[{\"id\":\"1234\"}]},\"id\":\"1236\",\"type\":\"LegendItem\"},{\"attributes\":{\"source\":{\"id\":\"1003\"}},\"id\":\"1235\",\"type\":\"CDSView\"},{\"attributes\":{\"fill_alpha\":{\"value\":0.1},\"fill_color\":{\"value\":\"#460E61\"},\"hatch_alpha\":{\"value\":0.1},\"hatch_color\":{\"value\":\"#460E61\"},\"line_alpha\":{\"value\":0.1},\"line_color\":{\"value\":\"#460E61\"},\"marker\":{\"value\":\"diamond\"},\"size\":{\"value\":10},\"x\":{\"field\":\"TimeGenerated\"},\"y\":{\"field\":\"y_index\"}},\"id\":\"1239\",\"type\":\"Scatter\"},{\"attributes\":{\"fill_alpha\":{\"value\":0.5},\"fill_color\":{\"value\":\"#460E61\"},\"hatch_alpha\":{\"value\":0.5},\"hatch_color\":{\"value\":\"#460E61\"},\"line_alpha\":{\"value\":0.5},\"line_color\":{\"value\":\"#460E61\"},\"marker\":{\"value\":\"diamond\"},\"size\":{\"value\":10},\"x\":{\"field\":\"TimeGenerated\"},\"y\":{\"field\":\"y_index\"}},\"id\":\"1238\",\"type\":\"Scatter\"},{\"attributes\":{\"label\":{\"value\":\"Exchange\"},\"renderers\":[{\"id\":\"1248\"}]},\"id\":\"1250\",\"type\":\"LegendItem\"},{\"attributes\":{\"data\":{\"AppResourceProvider\":[\"SWSD - Test Environment\"],\"IPAddress\":[\"69.130.255.13\"],\"Operation\":[\"Sign-in activity\"],\"TimeGenerated\":{\"__ndarray__\":\"dUGtfkyOeEI=\",\"dtype\":\"float64\",\"order\":\"little\",\"shape\":[1]},\"index\":[81],\"y_index\":[17]},\"selected\":{\"id\":\"1444\"},\"selection_policy\":{\"id\":\"1443\"}},\"id\":\"1020\",\"type\":\"ColumnDataSource\"},{\"attributes\":{\"fill_alpha\":{\"value\":0.5},\"fill_color\":{\"value\":\"#472777\"},\"hatch_alpha\":{\"value\":0.5},\"hatch_color\":{\"value\":\"#472777\"},\"line_alpha\":{\"value\":0.5},\"line_color\":{\"value\":\"#472777\"},\"marker\":{\"value\":\"diamond\"},\"size\":{\"value\":10},\"x\":{\"field\":\"TimeGenerated\"},\"y\":{\"field\":\"y_index\"}},\"id\":\"1252\",\"type\":\"Scatter\"},{\"attributes\":{\"data\":{\"AppResourceProvider\":[\"My Apps\",\"My Apps\",\"My Apps\",\"My Apps\",\"My Apps\",\"My Apps\",\"My Apps\",\"My Apps\",\"My Apps\",\"My Apps\",\"My Apps\"],\"IPAddress\":[\"69.130.255.13\",\"69.130.255.13\",\"69.130.255.13\",\"69.130.255.13\",\"69.130.255.13\",\"69.130.255.13\",\"69.130.255.13\",\"69.130.255.13\",\"69.130.255.13\",\"69.130.255.13\",\"69.130.255.13\"],\"Operation\":[\"Sign-in activity\",\"Sign-in activity\",\"Sign-in activity\",\"Sign-in activity\",\"Sign-in activity\",\"Sign-in activity\",\"Sign-in activity\",\"Sign-in activity\",\"Sign-in activity\",\"Sign-in activity\",\"Sign-in activity\"],\"TimeGenerated\":{\"__ndarray__\":\"ZhY8h0yOeEJ17x+JTI54Qp7Njo5MjnhCIxeZkUyOeEJvDNqRTI54QiM/wJNMjnhCg06SlZCOeEJGUMeikI54Qqrz06iQjnhCVNv3sJCOeELPI7vnlI54Qg==\",\"dtype\":\"float64\",\"order\":\"little\",\"shape\":[11]},\"index\":[82,83,84,89,88,87,30,25,27,28,31],\"y_index\":[9,9,9,9,9,9,9,9,9,9,9]},\"selected\":{\"id\":\"1428\"},\"selection_policy\":{\"id\":\"1427\"}},\"id\":\"1012\",\"type\":\"ColumnDataSource\"},{\"attributes\":{\"source\":{\"id\":\"1005\"}},\"id\":\"1249\",\"type\":\"CDSView\"},{\"attributes\":{\"coordinates\":null,\"data_source\":{\"id\":\"1005\"},\"glyph\":{\"id\":\"1245\"},\"group\":null,\"hover_glyph\":null,\"muted_glyph\":{\"id\":\"1247\"},\"nonselection_glyph\":{\"id\":\"1246\"},\"view\":{\"id\":\"1249\"}},\"id\":\"1248\",\"type\":\"GlyphRenderer\"},{\"attributes\":{\"fill_alpha\":{\"value\":0.2},\"fill_color\":{\"value\":\"#481A6C\"},\"hatch_alpha\":{\"value\":0.2},\"hatch_color\":{\"value\":\"#481A6C\"},\"line_alpha\":{\"value\":0.2},\"line_color\":{\"value\":\"#481A6C\"},\"marker\":{\"value\":\"diamond\"},\"size\":{\"value\":10},\"x\":{\"field\":\"TimeGenerated\"},\"y\":{\"field\":\"y_index\"}},\"id\":\"1247\",\"type\":\"Scatter\"},{\"attributes\":{\"fill_alpha\":{\"value\":0.1},\"fill_color\":{\"value\":\"#472777\"},\"hatch_alpha\":{\"value\":0.1},\"hatch_color\":{\"value\":\"#472777\"},\"line_alpha\":{\"value\":0.1},\"line_color\":{\"value\":\"#472777\"},\"marker\":{\"value\":\"diamond\"},\"size\":{\"value\":10},\"x\":{\"field\":\"TimeGenerated\"},\"y\":{\"field\":\"y_index\"}},\"id\":\"1253\",\"type\":\"Scatter\"},{\"attributes\":{\"fill_alpha\":{\"value\":0.5},\"fill_color\":{\"value\":\"#45327F\"},\"hatch_alpha\":{\"value\":0.5},\"hatch_color\":{\"value\":\"#45327F\"},\"line_alpha\":{\"value\":0.5},\"line_color\":{\"value\":\"#45327F\"},\"marker\":{\"value\":\"diamond\"},\"size\":{\"value\":10},\"x\":{\"field\":\"TimeGenerated\"},\"y\":{\"field\":\"y_index\"}},\"id\":\"1259\",\"type\":\"Scatter\"},{\"attributes\":{},\"id\":\"1411\",\"type\":\"UnionRenderers\"},{\"attributes\":{},\"id\":\"1427\",\"type\":\"UnionRenderers\"},{\"attributes\":{},\"id\":\"1443\",\"type\":\"UnionRenderers\"},{\"attributes\":{\"fill_alpha\":{\"value\":0.2},\"fill_color\":{\"value\":\"#1E9C89\"},\"hatch_alpha\":{\"value\":0.2},\"hatch_color\":{\"value\":\"#1E9C89\"},\"line_alpha\":{\"value\":0.2},\"line_color\":{\"value\":\"#1E9C89\"},\"marker\":{\"value\":\"diamond\"},\"size\":{\"value\":10},\"x\":{\"field\":\"TimeGenerated\"},\"y\":{\"field\":\"y_index\"}},\"id\":\"1338\",\"type\":\"Scatter\"},{\"attributes\":{},\"id\":\"1412\",\"type\":\"Selection\"},{\"attributes\":{},\"id\":\"1428\",\"type\":\"Selection\"},{\"attributes\":{\"fill_alpha\":{\"value\":0.2},\"fill_color\":{\"value\":\"#45327F\"},\"hatch_alpha\":{\"value\":0.2},\"hatch_color\":{\"value\":\"#45327F\"},\"line_alpha\":{\"value\":0.2},\"line_color\":{\"value\":\"#45327F\"},\"marker\":{\"value\":\"diamond\"},\"size\":{\"value\":10},\"x\":{\"field\":\"TimeGenerated\"},\"y\":{\"field\":\"y_index\"}},\"id\":\"1261\",\"type\":\"Scatter\"},{\"attributes\":{},\"id\":\"1444\",\"type\":\"Selection\"},{\"attributes\":{\"coordinates\":null,\"data_source\":{\"id\":\"1017\"},\"glyph\":{\"id\":\"1329\"},\"group\":null,\"hover_glyph\":null,\"muted_glyph\":{\"id\":\"1331\"},\"nonselection_glyph\":{\"id\":\"1330\"},\"view\":{\"id\":\"1333\"}},\"id\":\"1332\",\"type\":\"GlyphRenderer\"},{\"attributes\":{\"coordinates\":null,\"data_source\":{\"id\":\"1007\"},\"glyph\":{\"id\":\"1259\"},\"group\":null,\"hover_glyph\":null,\"muted_glyph\":{\"id\":\"1261\"},\"nonselection_glyph\":{\"id\":\"1260\"},\"view\":{\"id\":\"1263\"}},\"id\":\"1262\",\"type\":\"GlyphRenderer\"},{\"attributes\":{\"fill_alpha\":{\"value\":0.1},\"fill_color\":{\"value\":\"#423E85\"},\"hatch_alpha\":{\"value\":0.1},\"hatch_color\":{\"value\":\"#423E85\"},\"line_alpha\":{\"value\":0.1},\"line_color\":{\"value\":\"#423E85\"},\"marker\":{\"value\":\"diamond\"},\"size\":{\"value\":10},\"x\":{\"field\":\"TimeGenerated\"},\"y\":{\"field\":\"y_index\"}},\"id\":\"1267\",\"type\":\"Scatter\"},{\"attributes\":{\"label\":{\"value\":\"KustoClient\"},\"renderers\":[{\"id\":\"1262\"}]},\"id\":\"1264\",\"type\":\"LegendItem\"},{\"attributes\":{\"source\":{\"id\":\"1007\"}},\"id\":\"1263\",\"type\":\"CDSView\"},{\"attributes\":{\"fill_alpha\":{\"value\":0.5},\"fill_color\":{\"value\":\"#423E85\"},\"hatch_alpha\":{\"value\":0.5},\"hatch_color\":{\"value\":\"#423E85\"},\"line_alpha\":{\"value\":0.5},\"line_color\":{\"value\":\"#423E85\"},\"marker\":{\"value\":\"diamond\"},\"size\":{\"value\":10},\"x\":{\"field\":\"TimeGenerated\"},\"y\":{\"field\":\"y_index\"}},\"id\":\"1266\",\"type\":\"Scatter\"},{\"attributes\":{\"data\":{\"AppResourceProvider\":[\"Office 365 SharePoint Online\",\"Office 365 SharePoint Online\"],\"IPAddress\":[\"69.130.255.13\",\"69.130.255.13\"],\"Operation\":[\"Sign-in activity\",\"Sign-in activity\"],\"TimeGenerated\":{\"__ndarray__\":\"UOmxVECOeEIbs31ekI54Qg==\",\"dtype\":\"float64\",\"order\":\"little\",\"shape\":[2]},\"index\":[60,23],\"y_index\":[10,10]},\"selected\":{\"id\":\"1430\"},\"selection_policy\":{\"id\":\"1429\"}},\"id\":\"1013\",\"type\":\"ColumnDataSource\"},{\"attributes\":{\"fill_alpha\":{\"value\":0.2},\"fill_color\":{\"value\":\"#423E85\"},\"hatch_alpha\":{\"value\":0.2},\"hatch_color\":{\"value\":\"#423E85\"},\"line_alpha\":{\"value\":0.2},\"line_color\":{\"value\":\"#423E85\"},\"marker\":{\"value\":\"diamond\"},\"size\":{\"value\":10},\"x\":{\"field\":\"TimeGenerated\"},\"y\":{\"field\":\"y_index\"}},\"id\":\"1268\",\"type\":\"Scatter\"},{\"attributes\":{\"source\":{\"id\":\"1017\"}},\"id\":\"1333\",\"type\":\"CDSView\"},{\"attributes\":{\"data\":{\"AppResourceProvider\":[\"MicrosoftTeams\",\"MicrosoftTeams\",\"MicrosoftTeams\",\"MicrosoftTeams\",\"MicrosoftTeams\",\"MicrosoftTeams\",\"MicrosoftTeams\",\"MicrosoftTeams\"],\"IPAddress\":[\"::ffff:69.130.255.13\",\"::ffff:69.130.255.13\",\"::ffff:69.130.255.13\",\"::ffff:69.130.255.13\",\"192.168.86.42\",\"192.168.1.72\",\"192.168.86.42\",\"::ffff:69.130.255.13\"],\"Operation\":[\"MessageCreatedHasLink\",\"MessageCreatedHasLink\",\"MessageSent\",\"MessageCreatedHasLink\",\"MeetingDetail\",\"MeetingParticipantDetail\",\"MeetingParticipantDetail\",\"MessageSent\"],\"TimeGenerated\":{\"__ndarray__\":\"AIBmwkaOeEIAgJrdR454QgCAhvhKjnhCAICG+EqOeEIAAMVWZY54QgAAxVZljnhCAADFVmWOeEIAgDIbho54Qg==\",\"dtype\":\"float64\",\"order\":\"little\",\"shape\":[8]},\"index\":[486,501,503,502,419,418,420,447],\"y_index\":[8,8,8,8,8,8,8,8]},\"selected\":{\"id\":\"1426\"},\"selection_policy\":{\"id\":\"1425\"}},\"id\":\"1011\",\"type\":\"ColumnDataSource\"},{\"attributes\":{\"coordinates\":null,\"data_source\":{\"id\":\"1008\"},\"glyph\":{\"id\":\"1266\"},\"group\":null,\"hover_glyph\":null,\"muted_glyph\":{\"id\":\"1268\"},\"nonselection_glyph\":{\"id\":\"1267\"},\"view\":{\"id\":\"1270\"}},\"id\":\"1269\",\"type\":\"GlyphRenderer\"},{\"attributes\":{\"source\":{\"id\":\"1008\"}},\"id\":\"1270\",\"type\":\"CDSView\"},{\"attributes\":{\"fill_alpha\":{\"value\":0.5},\"fill_color\":{\"value\":\"#3E4989\"},\"hatch_alpha\":{\"value\":0.5},\"hatch_color\":{\"value\":\"#3E4989\"},\"line_alpha\":{\"value\":0.5},\"line_color\":{\"value\":\"#3E4989\"},\"marker\":{\"value\":\"diamond\"},\"size\":{\"value\":10},\"x\":{\"field\":\"TimeGenerated\"},\"y\":{\"field\":\"y_index\"}},\"id\":\"1273\",\"type\":\"Scatter\"},{\"attributes\":{\"label\":{\"value\":\"Microsoft 365 Security and Compliance Center\"},\"renderers\":[{\"id\":\"1269\"}]},\"id\":\"1271\",\"type\":\"LegendItem\"},{\"attributes\":{},\"id\":\"1413\",\"type\":\"UnionRenderers\"},{\"attributes\":{},\"id\":\"1429\",\"type\":\"UnionRenderers\"},{\"attributes\":{\"label\":{\"value\":\"Office Online Search SSO\"},\"renderers\":[{\"id\":\"1332\"}]},\"id\":\"1334\",\"type\":\"LegendItem\"},{\"attributes\":{},\"id\":\"1445\",\"type\":\"UnionRenderers\"},{\"attributes\":{\"fill_alpha\":{\"value\":0.1},\"fill_color\":{\"value\":\"#3E4989\"},\"hatch_alpha\":{\"value\":0.1},\"hatch_color\":{\"value\":\"#3E4989\"},\"line_alpha\":{\"value\":0.1},\"line_color\":{\"value\":\"#3E4989\"},\"marker\":{\"value\":\"diamond\"},\"size\":{\"value\":10},\"x\":{\"field\":\"TimeGenerated\"},\"y\":{\"field\":\"y_index\"}},\"id\":\"1274\",\"type\":\"Scatter\"},{\"attributes\":{},\"id\":\"1414\",\"type\":\"Selection\"},{\"attributes\":{},\"id\":\"1430\",\"type\":\"Selection\"},{\"attributes\":{\"label\":{\"value\":\"Microsoft Account Controls V2\"},\"renderers\":[{\"id\":\"1276\"}]},\"id\":\"1278\",\"type\":\"LegendItem\"},{\"attributes\":{},\"id\":\"1446\",\"type\":\"Selection\"},{\"attributes\":{\"fill_alpha\":{\"value\":0.2},\"fill_color\":{\"value\":\"#3E4989\"},\"hatch_alpha\":{\"value\":0.2},\"hatch_color\":{\"value\":\"#3E4989\"},\"line_alpha\":{\"value\":0.2},\"line_color\":{\"value\":\"#3E4989\"},\"marker\":{\"value\":\"diamond\"},\"size\":{\"value\":10},\"x\":{\"field\":\"TimeGenerated\"},\"y\":{\"field\":\"y_index\"}},\"id\":\"1275\",\"type\":\"Scatter\"},{\"attributes\":{\"coordinates\":null,\"data_source\":{\"id\":\"1009\"},\"glyph\":{\"id\":\"1273\"},\"group\":null,\"hover_glyph\":null,\"muted_glyph\":{\"id\":\"1275\"},\"nonselection_glyph\":{\"id\":\"1274\"},\"view\":{\"id\":\"1277\"}},\"id\":\"1276\",\"type\":\"GlyphRenderer\"},{\"attributes\":{\"fill_alpha\":{\"value\":0.5},\"fill_color\":{\"value\":\"#39548B\"},\"hatch_alpha\":{\"value\":0.5},\"hatch_color\":{\"value\":\"#39548B\"},\"line_alpha\":{\"value\":0.5},\"line_color\":{\"value\":\"#39548B\"},\"marker\":{\"value\":\"diamond\"},\"size\":{\"value\":10},\"x\":{\"field\":\"TimeGenerated\"},\"y\":{\"field\":\"y_index\"}},\"id\":\"1280\",\"type\":\"Scatter\"},{\"attributes\":{\"source\":{\"id\":\"1009\"}},\"id\":\"1277\",\"type\":\"CDSView\"},{\"attributes\":{\"fill_alpha\":{\"value\":0.2},\"fill_color\":{\"value\":\"#1F948B\"},\"hatch_alpha\":{\"value\":0.2},\"hatch_color\":{\"value\":\"#1F948B\"},\"line_alpha\":{\"value\":0.2},\"line_color\":{\"value\":\"#1F948B\"},\"marker\":{\"value\":\"diamond\"},\"size\":{\"value\":10},\"x\":{\"field\":\"TimeGenerated\"},\"y\":{\"field\":\"y_index\"}},\"id\":\"1331\",\"type\":\"Scatter\"},{\"attributes\":{\"data\":{\"AppResourceProvider\":[\"Office Online Augmentation Loop SSO\"],\"IPAddress\":[\"69.130.255.13\"],\"Operation\":[\"Sign-in activity\"],\"TimeGenerated\":{\"__ndarray__\":\"apj7SECOeEI=\",\"dtype\":\"float64\",\"order\":\"little\",\"shape\":[1]},\"index\":[57],\"y_index\":[11]},\"selected\":{\"id\":\"1432\"},\"selection_policy\":{\"id\":\"1431\"}},\"id\":\"1014\",\"type\":\"ColumnDataSource\"},{\"attributes\":{\"data\":{\"AppResourceProvider\":[\"Inform Development\"],\"IPAddress\":[\"69.130.255.13\"],\"Operation\":[\"Sign-in activity\"],\"TimeGenerated\":{\"__ndarray__\":\"9ibstJCOeEI=\",\"dtype\":\"float64\",\"order\":\"little\",\"shape\":[1]},\"index\":[26],\"y_index\":[3]},\"selected\":{\"id\":\"1416\"},\"selection_policy\":{\"id\":\"1415\"}},\"id\":\"1006\",\"type\":\"ColumnDataSource\"},{\"attributes\":{},\"id\":\"1403\",\"type\":\"BasicTickFormatter\"},{\"attributes\":{},\"id\":\"1404\",\"type\":\"AllLabels\"},{\"attributes\":{\"fill_alpha\":{\"value\":0.2},\"fill_color\":{\"value\":\"#44BE70\"},\"hatch_alpha\":{\"value\":0.2},\"hatch_color\":{\"value\":\"#44BE70\"},\"line_alpha\":{\"value\":0.2},\"line_color\":{\"value\":\"#44BE70\"},\"x\":{\"field\":\"TimeGenerated\"},\"y\":{\"field\":\"y_index\"}},\"id\":\"1196\",\"type\":\"Circle\"},{\"attributes\":{\"fill_alpha\":{\"value\":0.1},\"fill_color\":{\"value\":\"#423E85\"},\"hatch_alpha\":{\"value\":0.1},\"hatch_color\":{\"value\":\"#423E85\"},\"line_alpha\":{\"value\":0.1},\"line_color\":{\"value\":\"#423E85\"},\"x\":{\"field\":\"TimeGenerated\"},\"y\":{\"field\":\"y_index\"}},\"id\":\"1111\",\"type\":\"Circle\"},{\"attributes\":{\"fill_color\":{\"value\":\"#423E85\"},\"hatch_color\":{\"value\":\"#423E85\"},\"line_color\":{\"value\":\"#423E85\"},\"x\":{\"field\":\"TimeGenerated\"},\"y\":{\"field\":\"y_index\"}},\"id\":\"1110\",\"type\":\"Circle\"},{\"attributes\":{\"source\":{\"id\":\"1022\"}},\"id\":\"1198\",\"type\":\"CDSView\"},{\"attributes\":{\"fill_color\":{\"value\":\"#21A685\"},\"hatch_color\":{\"value\":\"#21A685\"},\"line_color\":{\"value\":\"#21A685\"},\"x\":{\"field\":\"TimeGenerated\"},\"y\":{\"field\":\"y_index\"}},\"id\":\"1176\",\"type\":\"Circle\"},{\"attributes\":{\"fill_alpha\":{\"value\":0.2},\"fill_color\":{\"value\":\"#423E85\"},\"hatch_alpha\":{\"value\":0.2},\"hatch_color\":{\"value\":\"#423E85\"},\"line_alpha\":{\"value\":0.2},\"line_color\":{\"value\":\"#423E85\"},\"x\":{\"field\":\"TimeGenerated\"},\"y\":{\"field\":\"y_index\"}},\"id\":\"1112\",\"type\":\"Circle\"},{\"attributes\":{\"fill_alpha\":{\"value\":0.2},\"fill_color\":{\"value\":\"#3E4989\"},\"hatch_alpha\":{\"value\":0.2},\"hatch_color\":{\"value\":\"#3E4989\"},\"line_alpha\":{\"value\":0.2},\"line_color\":{\"value\":\"#3E4989\"},\"x\":{\"field\":\"TimeGenerated\"},\"y\":{\"field\":\"y_index\"}},\"id\":\"1118\",\"type\":\"Circle\"},{\"attributes\":{\"source\":{\"id\":\"1008\"}},\"id\":\"1114\",\"type\":\"CDSView\"},{\"attributes\":{\"coordinates\":null,\"data_source\":{\"id\":\"1008\"},\"glyph\":{\"id\":\"1110\"},\"group\":null,\"hover_glyph\":null,\"muted_glyph\":{\"id\":\"1112\"},\"nonselection_glyph\":{\"id\":\"1111\"},\"view\":{\"id\":\"1114\"}},\"id\":\"1113\",\"type\":\"GlyphRenderer\"},{\"attributes\":{\"fill_color\":{\"value\":\"#3E4989\"},\"hatch_color\":{\"value\":\"#3E4989\"},\"line_color\":{\"value\":\"#3E4989\"},\"x\":{\"field\":\"TimeGenerated\"},\"y\":{\"field\":\"y_index\"}},\"id\":\"1116\",\"type\":\"Circle\"},{\"attributes\":{\"source\":{\"id\":\"1004\"}},\"id\":\"1242\",\"type\":\"CDSView\"},{\"attributes\":{\"fill_alpha\":{\"value\":0.1},\"fill_color\":{\"value\":\"#3E4989\"},\"hatch_alpha\":{\"value\":0.1},\"hatch_color\":{\"value\":\"#3E4989\"},\"line_alpha\":{\"value\":0.1},\"line_color\":{\"value\":\"#3E4989\"},\"x\":{\"field\":\"TimeGenerated\"},\"y\":{\"field\":\"y_index\"}},\"id\":\"1117\",\"type\":\"Circle\"},{\"attributes\":{\"fill_alpha\":{\"value\":0.2},\"fill_color\":{\"value\":\"#39548B\"},\"hatch_alpha\":{\"value\":0.2},\"hatch_color\":{\"value\":\"#39548B\"},\"line_alpha\":{\"value\":0.2},\"line_color\":{\"value\":\"#39548B\"},\"x\":{\"field\":\"TimeGenerated\"},\"y\":{\"field\":\"y_index\"}},\"id\":\"1124\",\"type\":\"Circle\"},{\"attributes\":{\"source\":{\"id\":\"1009\"}},\"id\":\"1120\",\"type\":\"CDSView\"},{\"attributes\":{\"fill_alpha\":{\"value\":0.1},\"fill_color\":{\"value\":\"#44BE70\"},\"hatch_alpha\":{\"value\":0.1},\"hatch_color\":{\"value\":\"#44BE70\"},\"line_alpha\":{\"value\":0.1},\"line_color\":{\"value\":\"#44BE70\"},\"x\":{\"field\":\"TimeGenerated\"},\"y\":{\"field\":\"y_index\"}},\"id\":\"1195\",\"type\":\"Circle\"},{\"attributes\":{\"coordinates\":null,\"data_source\":{\"id\":\"1009\"},\"glyph\":{\"id\":\"1116\"},\"group\":null,\"hover_glyph\":null,\"muted_glyph\":{\"id\":\"1118\"},\"nonselection_glyph\":{\"id\":\"1117\"},\"view\":{\"id\":\"1120\"}},\"id\":\"1119\",\"type\":\"GlyphRenderer\"},{\"attributes\":{\"fill_color\":{\"value\":\"#39548B\"},\"hatch_color\":{\"value\":\"#39548B\"},\"line_color\":{\"value\":\"#39548B\"},\"x\":{\"field\":\"TimeGenerated\"},\"y\":{\"field\":\"y_index\"}},\"id\":\"1122\",\"type\":\"Circle\"},{\"attributes\":{\"coordinates\":null,\"data_source\":{\"id\":\"1021\"},\"glyph\":{\"id\":\"1188\"},\"group\":null,\"hover_glyph\":null,\"muted_glyph\":{\"id\":\"1190\"},\"nonselection_glyph\":{\"id\":\"1189\"},\"view\":{\"id\":\"1192\"}},\"id\":\"1191\",\"type\":\"GlyphRenderer\"},{\"attributes\":{\"fill_alpha\":{\"value\":0.1},\"fill_color\":{\"value\":\"#39548B\"},\"hatch_alpha\":{\"value\":0.1},\"hatch_color\":{\"value\":\"#39548B\"},\"line_alpha\":{\"value\":0.1},\"line_color\":{\"value\":\"#39548B\"},\"x\":{\"field\":\"TimeGenerated\"},\"y\":{\"field\":\"y_index\"}},\"id\":\"1123\",\"type\":\"Circle\"},{\"attributes\":{\"fill_color\":{\"value\":\"#355D8C\"},\"hatch_color\":{\"value\":\"#355D8C\"},\"line_color\":{\"value\":\"#355D8C\"},\"x\":{\"field\":\"TimeGenerated\"},\"y\":{\"field\":\"y_index\"}},\"id\":\"1128\",\"type\":\"Circle\"},{\"attributes\":{\"source\":{\"id\":\"1010\"}},\"id\":\"1126\",\"type\":\"CDSView\"},{\"attributes\":{\"fill_alpha\":{\"value\":0.1},\"fill_color\":{\"value\":\"#355D8C\"},\"hatch_alpha\":{\"value\":0.1},\"hatch_color\":{\"value\":\"#355D8C\"},\"line_alpha\":{\"value\":0.1},\"line_color\":{\"value\":\"#355D8C\"},\"x\":{\"field\":\"TimeGenerated\"},\"y\":{\"field\":\"y_index\"}},\"id\":\"1129\",\"type\":\"Circle\"},{\"attributes\":{\"coordinates\":null,\"data_source\":{\"id\":\"1010\"},\"glyph\":{\"id\":\"1122\"},\"group\":null,\"hover_glyph\":null,\"muted_glyph\":{\"id\":\"1124\"},\"nonselection_glyph\":{\"id\":\"1123\"},\"view\":{\"id\":\"1126\"}},\"id\":\"1125\",\"type\":\"GlyphRenderer\"},{\"attributes\":{\"source\":{\"id\":\"1021\"}},\"id\":\"1192\",\"type\":\"CDSView\"},{\"attributes\":{\"fill_color\":{\"value\":\"#44BE70\"},\"hatch_color\":{\"value\":\"#44BE70\"},\"line_color\":{\"value\":\"#44BE70\"},\"x\":{\"field\":\"TimeGenerated\"},\"y\":{\"field\":\"y_index\"}},\"id\":\"1194\",\"type\":\"Circle\"},{\"attributes\":{\"fill_alpha\":{\"value\":0.2},\"fill_color\":{\"value\":\"#355D8C\"},\"hatch_alpha\":{\"value\":0.2},\"hatch_color\":{\"value\":\"#355D8C\"},\"line_alpha\":{\"value\":0.2},\"line_color\":{\"value\":\"#355D8C\"},\"x\":{\"field\":\"TimeGenerated\"},\"y\":{\"field\":\"y_index\"}},\"id\":\"1130\",\"type\":\"Circle\"},{\"attributes\":{\"fill_color\":{\"value\":\"#30678D\"},\"hatch_color\":{\"value\":\"#30678D\"},\"line_color\":{\"value\":\"#30678D\"},\"x\":{\"field\":\"TimeGenerated\"},\"y\":{\"field\":\"y_index\"}},\"id\":\"1134\",\"type\":\"Circle\"},{\"attributes\":{\"source\":{\"id\":\"1011\"}},\"id\":\"1132\",\"type\":\"CDSView\"},{\"attributes\":{\"fill_alpha\":{\"value\":0.1},\"fill_color\":{\"value\":\"#30678D\"},\"hatch_alpha\":{\"value\":0.1},\"hatch_color\":{\"value\":\"#30678D\"},\"line_alpha\":{\"value\":0.1},\"line_color\":{\"value\":\"#30678D\"},\"x\":{\"field\":\"TimeGenerated\"},\"y\":{\"field\":\"y_index\"}},\"id\":\"1135\",\"type\":\"Circle\"},{\"attributes\":{\"coordinates\":null,\"data_source\":{\"id\":\"1011\"},\"glyph\":{\"id\":\"1128\"},\"group\":null,\"hover_glyph\":null,\"muted_glyph\":{\"id\":\"1130\"},\"nonselection_glyph\":{\"id\":\"1129\"},\"view\":{\"id\":\"1132\"}},\"id\":\"1131\",\"type\":\"GlyphRenderer\"},{\"attributes\":{\"data\":{\"AppResourceProvider\":[\"SharePoint Online Web Client Extensibility\"],\"IPAddress\":[\"69.130.255.13\"],\"Operation\":[\"Sign-in activity\"],\"TimeGenerated\":{\"__ndarray__\":\"G7N9XpCOeEI=\",\"dtype\":\"float64\",\"order\":\"little\",\"shape\":[1]},\"index\":[24],\"y_index\":[21]},\"selected\":{\"id\":\"1452\"},\"selection_policy\":{\"id\":\"1451\"}},\"id\":\"1024\",\"type\":\"ColumnDataSource\"},{\"attributes\":{\"fill_alpha\":{\"value\":0.2},\"fill_color\":{\"value\":\"#35B778\"},\"hatch_alpha\":{\"value\":0.2},\"hatch_color\":{\"value\":\"#35B778\"},\"line_alpha\":{\"value\":0.2},\"line_color\":{\"value\":\"#35B778\"},\"x\":{\"field\":\"TimeGenerated\"},\"y\":{\"field\":\"y_index\"}},\"id\":\"1190\",\"type\":\"Circle\"},{\"attributes\":{\"data\":{\"AppResourceProvider\":[\"SharePoint\",\"SharePoint\",\"SharePoint\",\"SharePoint\",\"SharePoint\",\"SharePoint\",\"SharePoint\",\"SharePoint\",\"SharePoint\",\"SharePoint\",\"SharePoint\",\"SharePoint\",\"SharePoint\",\"SharePoint\",\"SharePoint\",\"SharePoint\",\"SharePoint\",\"SharePoint\",\"SharePoint\",\"SharePoint\",\"SharePoint\",\"SharePoint\",\"SharePoint\",\"SharePoint\",\"SharePoint\",\"SharePoint\"],\"IPAddress\":[\"69.130.255.13\",\"69.130.255.13\",\"69.130.255.13\",\"69.130.255.13\",\"69.130.255.13\",\"69.130.255.13\",\"69.130.255.13\",\"52.104.99.50\",\"52.104.99.169\",\"52.104.99.171\",\"69.130.255.13\",\"69.130.255.13\",\"69.130.255.13\",\"69.130.255.13\",\"69.130.255.13\",\"69.130.255.13\",\"69.130.255.13\",\"69.130.255.13\",\"69.130.255.13\",\"69.130.255.13\",\"69.130.255.13\",\"69.130.255.13\",\"69.130.255.13\",\"69.130.255.13\",\"69.130.255.13\",\"69.130.255.13\"],\"Operation\":[\"SignInEvent\",\"PageViewed\",\"PageViewed\",\"SignInEvent\",\"PageViewed\",\"PageViewed\",\"PageViewed\",\"FilePreviewed\",\"FilePreviewed\",\"FilePreviewed\",\"CompanyLinkUsed\",\"AddedToGroup\",\"ListViewed\",\"FileAccessed\",\"FileAccessed\",\"FileAccessed\",\"PageViewed\",\"FileAccessed\",\"ListViewed\",\"ListViewed\",\"ListViewed\",\"ListViewed\",\"ListViewed\",\"ListViewed\",\"ListViewed\",\"ListViewed\"],\"TimeGenerated\":{\"__ndarray__\":\"AADAJkCOeEIAADcoQI54QgAArj2QjnhCAACuPZCOeEIAgOw9kI54QgAAKz6QjnhCAAArPpCOeEIAgGk+kI54QgCAaT6QjnhCAACoPpCOeEIAAGsPnY54QgAAaw+djnhCAICpD52OeEIAAOgPnY54QgAA6A+djnhCAIAmEJ2OeEIAgCYQnY54QgAAZRCdjnhCAIBzGJ2OeEIAgHMYnY54QgCAcxidjnhCAIBzGJ2OeEIAgHMYnY54QgCAcxidjnhCAIBzGJ2OeEIAgHMYnY54Qg==\",\"dtype\":\"float64\",\"order\":\"little\",\"shape\":[26]},\"index\":[112,128,239,240,241,292,289,291,238,290,323,324,325,332,331,322,329,330,337,336,335,327,326,333,328,334],\"y_index\":[20,20,20,20,20,20,20,20,20,20,20,20,20,20,20,20,20,20,20,20,20,20,20,20,20,20]},\"selected\":{\"id\":\"1450\"},\"selection_policy\":{\"id\":\"1449\"}},\"id\":\"1023\",\"type\":\"ColumnDataSource\"},{\"attributes\":{\"fill_alpha\":{\"value\":0.2},\"fill_color\":{\"value\":\"#30678D\"},\"hatch_alpha\":{\"value\":0.2},\"hatch_color\":{\"value\":\"#30678D\"},\"line_alpha\":{\"value\":0.2},\"line_color\":{\"value\":\"#30678D\"},\"x\":{\"field\":\"TimeGenerated\"},\"y\":{\"field\":\"y_index\"}},\"id\":\"1136\",\"type\":\"Circle\"},{\"attributes\":{\"fill_color\":{\"value\":\"#2C708E\"},\"hatch_color\":{\"value\":\"#2C708E\"},\"line_color\":{\"value\":\"#2C708E\"},\"x\":{\"field\":\"TimeGenerated\"},\"y\":{\"field\":\"y_index\"}},\"id\":\"1140\",\"type\":\"Circle\"},{\"attributes\":{\"source\":{\"id\":\"1012\"}},\"id\":\"1138\",\"type\":\"CDSView\"},{\"attributes\":{\"fill_alpha\":{\"value\":0.1},\"fill_color\":{\"value\":\"#2C708E\"},\"hatch_alpha\":{\"value\":0.1},\"hatch_color\":{\"value\":\"#2C708E\"},\"line_alpha\":{\"value\":0.1},\"line_color\":{\"value\":\"#2C708E\"},\"x\":{\"field\":\"TimeGenerated\"},\"y\":{\"field\":\"y_index\"}},\"id\":\"1141\",\"type\":\"Circle\"},{\"attributes\":{\"coordinates\":null,\"data_source\":{\"id\":\"1012\"},\"glyph\":{\"id\":\"1134\"},\"group\":null,\"hover_glyph\":null,\"muted_glyph\":{\"id\":\"1136\"},\"nonselection_glyph\":{\"id\":\"1135\"},\"view\":{\"id\":\"1138\"}},\"id\":\"1137\",\"type\":\"GlyphRenderer\"},{\"attributes\":{\"fill_alpha\":{\"value\":0.5},\"fill_color\":{\"value\":\"#1E9C89\"},\"hatch_alpha\":{\"value\":0.5},\"hatch_color\":{\"value\":\"#1E9C89\"},\"line_alpha\":{\"value\":0.5},\"line_color\":{\"value\":\"#1E9C89\"},\"marker\":{\"value\":\"diamond\"},\"size\":{\"value\":10},\"x\":{\"field\":\"TimeGenerated\"},\"y\":{\"field\":\"y_index\"}},\"id\":\"1336\",\"type\":\"Scatter\"},{\"attributes\":{\"coordinates\":null,\"data_source\":{\"id\":\"1020\"},\"glyph\":{\"id\":\"1182\"},\"group\":null,\"hover_glyph\":null,\"muted_glyph\":{\"id\":\"1184\"},\"nonselection_glyph\":{\"id\":\"1183\"},\"view\":{\"id\":\"1186\"}},\"id\":\"1185\",\"type\":\"GlyphRenderer\"},{\"attributes\":{\"fill_alpha\":{\"value\":0.2},\"fill_color\":{\"value\":\"#2C708E\"},\"hatch_alpha\":{\"value\":0.2},\"hatch_color\":{\"value\":\"#2C708E\"},\"line_alpha\":{\"value\":0.2},\"line_color\":{\"value\":\"#2C708E\"},\"x\":{\"field\":\"TimeGenerated\"},\"y\":{\"field\":\"y_index\"}},\"id\":\"1142\",\"type\":\"Circle\"},{\"attributes\":{\"fill_color\":{\"value\":\"#29798E\"},\"hatch_color\":{\"value\":\"#29798E\"},\"line_color\":{\"value\":\"#29798E\"},\"x\":{\"field\":\"TimeGenerated\"},\"y\":{\"field\":\"y_index\"}},\"id\":\"1146\",\"type\":\"Circle\"},{\"attributes\":{\"source\":{\"id\":\"1013\"}},\"id\":\"1144\",\"type\":\"CDSView\"},{\"attributes\":{\"fill_alpha\":{\"value\":0.1},\"fill_color\":{\"value\":\"#29798E\"},\"hatch_alpha\":{\"value\":0.1},\"hatch_color\":{\"value\":\"#29798E\"},\"line_alpha\":{\"value\":0.1},\"line_color\":{\"value\":\"#29798E\"},\"x\":{\"field\":\"TimeGenerated\"},\"y\":{\"field\":\"y_index\"}},\"id\":\"1147\",\"type\":\"Circle\"},{\"attributes\":{\"coordinates\":null,\"data_source\":{\"id\":\"1013\"},\"glyph\":{\"id\":\"1140\"},\"group\":null,\"hover_glyph\":null,\"muted_glyph\":{\"id\":\"1142\"},\"nonselection_glyph\":{\"id\":\"1141\"},\"view\":{\"id\":\"1144\"}},\"id\":\"1143\",\"type\":\"GlyphRenderer\"},{\"attributes\":{\"fill_alpha\":{\"value\":0.1},\"fill_color\":{\"value\":\"#35B778\"},\"hatch_alpha\":{\"value\":0.1},\"hatch_color\":{\"value\":\"#35B778\"},\"line_alpha\":{\"value\":0.1},\"line_color\":{\"value\":\"#35B778\"},\"x\":{\"field\":\"TimeGenerated\"},\"y\":{\"field\":\"y_index\"}},\"id\":\"1189\",\"type\":\"Circle\"},{\"attributes\":{\"data\":{\"AppResourceProvider\":[\"Exchange\",\"Exchange\",\"Exchange\",\"Exchange\",\"Exchange\",\"Exchange\",\"Exchange\",\"Exchange\",\"Exchange\",\"Exchange\",\"Exchange\",\"Exchange\",\"Exchange\",\"Exchange\",\"Exchange\",\"Exchange\",\"Exchange\",\"Exchange\",\"Exchange\",\"Exchange\",\"Exchange\",\"Exchange\",\"Exchange\",\"Exchange\",\"Exchange\",\"Exchange\",\"Exchange\",\"Exchange\",\"Exchange\",\"Exchange\",\"Exchange\",\"Exchange\",\"Exchange\",\"Exchange\",\"Exchange\",\"Exchange\",\"Exchange\",\"Exchange\",\"Exchange\",\"Exchange\",\"Exchange\",\"Exchange\",\"Exchange\",\"Exchange\",\"Exchange\",\"Exchange\",\"Exchange\",\"Exchange\",\"Exchange\",\"Exchange\",\"Exchange\",\"Exchange\",\"Exchange\",\"Exchange\",\"Exchange\",\"Exchange\",\"Exchange\",\"Exchange\",\"Exchange\",\"Exchange\",\"Exchange\",\"Exchange\",\"Exchange\",\"Exchange\",\"Exchange\",\"Exchange\",\"Exchange\",\"Exchange\",\"Exchange\",\"Exchange\",\"Exchange\",\"Exchange\",\"Exchange\",\"Exchange\",\"Exchange\",\"Exchange\",\"Exchange\",\"Exchange\",\"Exchange\",\"Exchange\",\"Exchange\",\"Exchange\",\"Exchange\",\"Exchange\",\"Exchange\",\"Exchange\",\"Exchange\",\"Exchange\",\"Exchange\",\"Exchange\",\"Exchange\",\"Exchange\",\"Exchange\",\"Exchange\",\"Exchange\",\"Exchange\",\"Exchange\",\"Exchange\",\"Exchange\",\"Exchange\",\"Exchange\",\"Exchange\",\"Exchange\",\"Exchange\",\"Exchange\",\"Exchange\",\"Exchange\",\"Exchange\",\"Exchange\",\"Exchange\",\"Exchange\",\"Exchange\",\"Exchange\",\"Exchange\",\"Exchange\",\"Exchange\",\"Exchange\",\"Exchange\",\"Exchange\",\"Exchange\",\"Exchange\",\"Exchange\",\"Exchange\",\"Exchange\",\"Exchange\",\"Exchange\",\"Exchange\",\"Exchange\",\"Exchange\",\"Exchange\",\"Exchange\",\"Exchange\",\"Exchange\",\"Exchange\",\"Exchange\",\"Exchange\",\"Exchange\",\"Exchange\",\"Exchange\",\"Exchange\",\"Exchange\",\"Exchange\",\"Exchange\",\"Exchange\",\"Exchange\",\"Exchange\",\"Exchange\",\"Exchange\",\"Exchange\",\"Exchange\",\"Exchange\",\"Exchange\",\"Exchange\",\"Exchange\",\"Exchange\",\"Exchange\",\"Exchange\",\"Exchange\",\"Exchange\",\"Exchange\",\"Exchange\",\"Exchange\",\"Exchange\",\"Exchange\",\"Exchange\",\"Exchange\",\"Exchange\",\"Exchange\",\"Exchange\",\"Exchange\",\"Exchange\",\"Exchange\",\"Exchange\",\"Exchange\",\"Exchange\",\"Exchange\",\"Exchange\",\"Exchange\",\"Exchange\",\"Exchange\",\"Exchange\",\"Exchange\",\"Exchange\",\"Exchange\",\"Exchange\",\"Exchange\",\"Exchange\",\"Exchange\",\"Exchange\",\"Exchange\",\"Exchange\",\"Exchange\",\"Exchange\",\"Exchange\",\"Exchange\",\"Exchange\",\"Exchange\",\"Exchange\",\"Exchange\",\"Exchange\",\"Exchange\",\"Exchange\",\"Exchange\",\"Exchange\",\"Exchange\",\"Exchange\",\"Exchange\",\"Exchange\",\"Exchange\",\"Exchange\",\"Exchange\",\"Exchange\",\"Exchange\",\"Exchange\",\"Exchange\",\"Exchange\",\"Exchange\",\"Exchange\",\"Exchange\",\"Exchange\",\"Exchange\",\"Exchange\",\"Exchange\",\"Exchange\",\"Exchange\",\"Exchange\",\"Exchange\",\"Exchange\",\"Exchange\",\"Exchange\",\"Exchange\",\"Exchange\",\"Exchange\",\"Exchange\",\"Exchange\",\"Exchange\",\"Exchange\",\"Exchange\",\"Exchange\",\"Exchange\",\"Exchange\",\"Exchange\",\"Exchange\",\"Exchange\",\"Exchange\",\"Exchange\",\"Exchange\",\"Exchange\",\"Exchange\",\"Exchange\",\"Exchange\",\"Exchange\",\"Exchange\",\"Exchange\",\"Exchange\",\"Exchange\",\"Exchange\",\"Exchange\",\"Exchange\",\"Exchange\",\"Exchange\",\"Exchange\",\"Exchange\",\"Exchange\",\"Exchange\",\"Exchange\",\"Exchange\",\"Exchange\",\"Exchange\",\"Exchange\",\"Exchange\",\"Exchange\",\"Exchange\",\"Exchange\",\"Exchange\",\"Exchange\",\"Exchange\",\"Exchange\",\"Exchange\",\"Exchange\",\"Exchange\",\"Exchange\",\"Exchange\",\"Exchange\",\"Exchange\",\"Exchange\",\"Exchange\",\"Exchange\",\"Exchange\",\"Exchange\",\"Exchange\",\"Exchange\",\"Exchange\",\"Exchange\",\"Exchange\",\"Exchange\",\"Exchange\",\"Exchange\",\"Exchange\",\"Exchange\",\"Exchange\",\"Exchange\",\"Exchange\",\"Exchange\",\"Exchange\",\"Exchange\",\"Exchange\",\"Exchange\",\"Exchange\",\"Exchange\",\"Exchange\",\"Exchange\",\"Exchange\",\"Exchange\",\"Exchange\",\"Exchange\",\"Exchange\",\"Exchange\",\"Exchange\",\"Exchange\",\"Exchange\",\"Exchange\",\"Exchange\",\"Exchange\",\"Exchange\",\"Exchange\",\"Exchange\",\"Exchange\",\"Exchange\",\"Exchange\",\"Exchange\",\"Exchange\",\"Exchange\",\"Exchange\",\"Exchange\",\"Exchange\",\"Exchange\",\"Exchange\",\"Exchange\",\"Exchange\",\"Exchange\",\"Exchange\",\"Exchange\",\"Exchange\",\"Exchange\",\"Exchange\",\"Exchange\",\"Exchange\",\"Exchange\",\"Exchange\",\"Exchange\",\"Exchange\",\"Exchange\",\"Exchange\",\"Exchange\",\"Exchange\",\"Exchange\",\"Exchange\",\"Exchange\",\"Exchange\",\"Exchange\",\"Exchange\",\"Exchange\",\"Exchange\",\"Exchange\",\"Exchange\",\"Exchange\",\"Exchange\",\"Exchange\",\"Exchange\",\"Exchange\",\"Exchange\",\"Exchange\",\"Exchange\",\"Exchange\",\"Exchange\",\"Exchange\",\"Exchange\",\"Exchange\",\"Exchange\",\"Exchange\",\"Exchange\",\"Exchange\",\"Exchange\",\"Exchange\",\"Exchange\",\"Exchange\",\"Exchange\",\"Exchange\",\"Exchange\",\"Exchange\",\"Exchange\",\"Exchange\",\"Exchange\",\"Exchange\",\"Exchange\",\"Exchange\",\"Exchange\",\"Exchange\",\"Exchange\",\"Exchange\",\"Exchange\",\"Exchange\",\"Exchange\",\"Exchange\",\"Exchange\",\"Exchange\",\"Exchange\",\"Exchange\",\"Exchange\",\"Exchange\",\"Exchange\",\"Exchange\",\"Exchange\",\"Exchange\",\"Exchange\",\"Exchange\",\"Exchange\",\"Exchange\",\"Exchange\",\"Exchange\",\"Exchange\",\"Exchange\",\"Exchange\",\"Exchange\",\"Exchange\",\"Exchange\",\"Exchange\",\"Exchange\",\"Exchange\",\"Exchange\",\"Exchange\",\"Exchange\",\"Exchange\",\"Exchange\",\"Exchange\",\"Exchange\",\"Exchange\",\"Exchange\",\"Exchange\",\"Exchange\",\"Exchange\",\"Exchange\",\"Exchange\",\"Exchange\",\"Exchange\",\"Exchange\",\"Exchange\",\"Exchange\",\"Exchange\",\"Exchange\",\"Exchange\",\"Exchange\",\"Exchange\",\"Exchange\",\"Exchange\",\"Exchange\",\"Exchange\",\"Exchange\",\"Exchange\",\"Exchange\",\"Exchange\",\"Exchange\",\"Exchange\",\"Exchange\",\"Exchange\"],\"IPAddress\":[\"69.130.255.13\",\"20.190.157.27\",\"69.130.255.13\",\"69.130.255.13\",\"69.130.255.13\",\"69.130.255.13\",\"69.130.255.13\",\"69.130.255.13\",\"69.130.255.13\",\"69.130.255.13\",\"2603:10b6:208:481::10\",\"69.130.255.13\",\"69.130.255.13\",\"2603:10b6:208:3da::13\",\"69.130.255.13\",\"20.190.157.96\",\"69.130.255.13\",\"69.130.255.13\",\"69.130.255.13\",\"69.130.255.13\",\"69.130.255.13\",\"2600:387:c:5516::3\",\"2603:10b6:208:481::10\",\"20.190.157.160\",\"20.190.157.30\",\"20.190.157.30\",\"69.130.255.13\",\"20.190.157.30\",\"20.190.157.97\",\"20.190.157.97\",\"69.130.255.13\",\"69.130.255.13\",\"20.190.157.30\",\"69.130.255.13\",\"20.190.157.30\",\"69.130.255.13\",\"69.130.255.13\",\"40.126.29.96\",\"20.190.157.96\",\"20.190.157.30\",\"69.130.255.13\",\"69.130.255.13\",\"20.190.157.27\",\"69.130.255.13\",\"2603:10b6:208:48c::19\",\"2603:10b6:208:48c::19\",\"2603:10b6:208:48c::19\",\"2603:10b6:208:48c::19\",\"2603:10b6:208:48c::19\",\"2603:10b6:208:48c::19\",\"2603:10b6:208:48c::19\",\"2603:10b6:208:48c::19\",\"2603:10b6:208:48c::19\",\"2603:10b6:208:48c::19\",\"2603:10b6:208:48c::19\",\"20.190.157.160\",\"69.130.255.13\",\"20.190.157.97\",\"69.130.255.13\",\"20.190.157.27\",\"69.130.255.13\",\"20.190.157.30\",\"69.130.255.13\",\"69.130.255.13\",\"20.190.157.30\",\"69.130.255.13\",\"69.130.255.13\",\"69.130.255.13\",\"69.130.255.13\",\"69.130.255.13\",\"69.130.255.13\",\"69.130.255.13\",\"69.130.255.13\",\"69.130.255.13\",\"69.130.255.13\",\"69.130.255.13\",\"69.130.255.13\",\"69.130.255.13\",\"69.130.255.13\",\"69.130.255.13\",\"69.130.255.13\",\"69.130.255.13\",\"69.130.255.13\",\"69.130.255.13\",\"69.130.255.13\",\"69.130.255.13\",\"69.130.255.13\",\"69.130.255.13\",\"69.130.255.13\",\"69.130.255.13\",\"69.130.255.13\",\"69.130.255.13\",\"69.130.255.13\",\"69.130.255.13\",\"20.190.157.30\",\"69.130.255.13\",\"69.130.255.13\",\"69.130.255.13\",\"69.130.255.13\",\"69.130.255.13\",\"2600:387:c:5516::3\",\"2600:387:c:5516::3\",\"69.130.255.13\",\"69.130.255.13\",\"69.130.255.13\",\"20.190.157.30\",\"69.130.255.13\",\"69.130.255.13\",\"2603:10b6:208:23d::15\",\"69.130.255.13\",\"20.190.157.27\",\"20.190.157.96\",\"69.130.255.13\",\"20.190.157.97\",\"69.130.255.13\",\"69.130.255.13\",\"69.130.255.13\",\"69.130.255.13\",\"69.130.255.13\",\"69.130.255.13\",\"69.130.255.13\",\"69.130.255.13\",\"69.130.255.13\",\"69.130.255.13\",\"69.130.255.13\",\"69.130.255.13\",\"69.130.255.13\",\"2603:10b6:208:3da::13\",\"69.130.255.13\",\"69.130.255.13\",\"69.130.255.13\",\"20.190.157.96\",\"69.130.255.13\",\"69.130.255.13\",\"69.130.255.13\",\"69.130.255.13\",\"69.130.255.13\",\"20.190.157.160\",\"69.130.255.13\",\"69.130.255.13\",\"40.126.29.96\",\"20.190.157.160\",\"69.130.255.13\",\"40.126.29.96\",\"69.130.255.13\",\"69.130.255.13\",\"20.190.157.96\",\"69.130.255.13\",\"2603:10b6:208:481::10\",\"69.130.255.13\",\"69.130.255.13\",\"69.130.255.13\",\"69.130.255.13\",\"2603:10b6:208:3da::13\",\"69.130.255.13\",\"69.130.255.13\",\"20.190.157.27\",\"2603:10b6:208:3da::13\",\"40.126.29.96\",\"69.130.255.13\",\"69.130.255.13\",\"69.130.255.13\",\"69.130.255.13\",\"69.130.255.13\",\"20.190.157.27\",\"40.126.29.96\",\"69.130.255.13\",\"20.190.157.97\",\"69.130.255.13\",\"20.190.157.27\",\"69.130.255.13\",\"69.130.255.13\",\"69.130.255.13\",\"69.130.255.13\",\"69.130.255.13\",\"69.130.255.13\",\"2603:10b6:208:3da::13\",\"69.130.255.13\",\"20.190.157.97\",\"69.130.255.13\",\"2603:10b6:208:3da::13\",\"20.190.157.27\",\"69.130.255.13\",\"69.130.255.13\",\"20.190.157.30\",\"69.130.255.13\",\"69.130.255.13\",\"69.130.255.13\",\"69.130.255.13\",\"69.130.255.13\",\"69.130.255.13\",\"20.190.157.97\",\"69.130.255.13\",\"69.130.255.13\",\"69.130.255.13\",\"20.190.157.30\",\"69.130.255.13\",\"69.130.255.13\",\"20.190.157.96\",\"69.130.255.13\",\"69.130.255.13\",\"69.130.255.13\",\"69.130.255.13\",\"69.130.255.13\",\"69.130.255.13\",\"69.130.255.13\",\"2603:10b6:208:3da::13\",\"69.130.255.13\",\"40.126.29.96\",\"69.130.255.13\",\"69.130.255.13\",\"69.130.255.13\",\"69.130.255.13\",\"69.130.255.13\",\"69.130.255.13\",\"69.130.255.13\",\"69.130.255.13\",\"69.130.255.13\",\"2603:10b6:208:3da::13\",\"2603:10b6:208:3da::13\",\"69.130.255.13\",\"20.190.157.30\",\"69.130.255.13\",\"69.130.255.13\",\"20.190.157.97\",\"69.130.255.13\",\"69.130.255.13\",\"69.130.255.13\",\"20.190.157.97\",\"69.130.255.13\",\"2603:10b6:208:3da::13\",\"69.130.255.13\",\"69.130.255.13\",\"69.130.255.13\",\"2603:10b6:208:481::10\",\"69.130.255.13\",\"69.130.255.13\",\"2603:10b6:208:3da::13\",\"69.130.255.13\",\"40.126.29.96\",\"69.130.255.13\",\"69.130.255.13\",\"69.130.255.13\",\"69.130.255.13\",\"69.130.255.13\",\"69.130.255.13\",\"2603:10b6:208:3da::13\",\"69.130.255.13\",\"40.126.29.96\",\"69.130.255.13\",\"69.130.255.13\",\"69.130.255.13\",\"40.126.29.96\",\"69.130.255.13\",\"69.130.255.13\",\"20.190.157.96\",\"69.130.255.13\",\"69.130.255.13\",\"69.130.255.13\",\"69.130.255.13\",\"2603:10b6:208:3da::13\",\"40.126.29.96\",\"69.130.255.13\",\"69.130.255.13\",\"69.130.255.13\",\"2603:10b6:208:481::10\",\"69.130.255.13\",\"69.130.255.13\",\"69.130.255.13\",\"69.130.255.13\",\"69.130.255.13\",\"69.130.255.13\",\"2603:10b6:208:481::10\",\"69.130.255.13\",\"69.130.255.13\",\"2603:10b6:208:3da::13\",\"69.130.255.13\",\"20.190.157.30\",\"69.130.255.13\",\"69.130.255.13\",\"2603:10b6:208:3da::13\",\"69.130.255.13\",\"69.130.255.13\",\"69.130.255.13\",\"2603:10b6:208:3da::13\",\"20.190.157.160\",\"2603:10b6:208:481::10\",\"40.126.29.96\",\"69.130.255.13\",\"40.126.29.96\",\"2603:10b6:208:481::10\",\"20.190.157.160\",\"20.190.157.97\",\"69.130.255.13\",\"69.130.255.13\",\"40.126.29.96\",\"20.190.157.96\",\"69.130.255.13\",\"20.190.157.27\",\"20.190.157.96\",\"20.190.157.96\",\"20.190.157.96\",\"40.126.29.96\",\"69.130.255.13\",\"40.126.29.96\",\"2603:10b6:208:48a::21\",\"2603:10b6:208:48a::21\",\"2603:10b6:208:48a::21\",\"2603:10b6:208:48a::21\",\"2603:10b6:208:48a::21\",\"2603:10b6:208:48a::21\",\"2603:10b6:208:48a::21\",\"2603:10b6:208:48a::21\",\"2603:10b6:208:48a::21\",\"2603:10b6:208:48a::21\",\"2603:10b6:208:48a::21\",\"2603:10b6:208:48a::21\",\"40.126.29.96\",\"20.190.157.160\",\"20.190.157.160\",\"20.190.157.97\",\"69.130.255.13\",\"69.130.255.13\",\"20.190.157.96\",\"20.190.157.97\",\"69.130.255.13\",\"20.190.157.30\",\"20.190.157.30\",\"69.130.255.13\",\"69.130.255.13\",\"20.190.157.160\",\"20.190.157.30\",\"20.190.157.96\",\"2600:387:c:5516::3\",\"2600:387:c:5516::3\",\"20.190.157.27\",\"2600:387:c:5516::3\",\"2600:387:c:5516::3\",\"20.190.157.97\",\"144.92.154.82\",\"144.92.154.82\",\"2600:387:c:5516::3\",\"40.126.29.96\",\"2600:387:c:5516::3\",\"2600:387:c:5516::3\",\"20.190.157.97\",\"2600:387:c:5516::3\",\"2600:387:c:5516::3\",\"69.130.255.13\",\"69.130.255.13\",\"69.130.255.13\",\"69.130.255.13\",\"69.130.255.13\",\"69.130.255.13\",\"69.130.255.13\",\"69.130.255.13\",\"69.130.255.13\",\"69.130.255.13\",\"69.130.255.13\",\"69.130.255.13\",\"69.130.255.13\",\"69.130.255.13\",\"69.130.255.13\",\"69.130.255.13\",\"69.130.255.13\",\"69.130.255.13\",\"69.130.255.13\",\"69.130.255.13\",\"69.130.255.13\",\"2603:10b6:208:3da::13\",\"20.190.157.96\",\"69.130.255.13\",\"20.190.157.97\",\"69.130.255.13\",\"69.130.255.13\",\"20.190.157.96\",\"69.130.255.13\",\"69.130.255.13\",\"69.130.255.13\",\"69.130.255.13\",\"69.130.255.13\",\"69.130.255.13\",\"69.130.255.13\",\"69.130.255.13\",\"69.130.255.13\",\"69.130.255.13\",\"69.130.255.13\",\"2603:10b6:208:481::10\",\"69.130.255.13\",\"40.126.29.96\",\"69.130.255.13\",\"69.130.255.13\",\"20.190.157.96\",\"20.190.157.97\",\"2603:10b6:208:3da::13\",\"20.190.157.30\",\"69.130.255.13\",\"69.130.255.13\",\"2603:10b6:208:3da::13\",\"20.190.157.97\",\"69.130.255.13\",\"20.190.157.27\",\"20.190.157.160\",\"69.130.255.13\",\"20.190.157.30\",\"20.190.157.96\",\"20.190.157.30\",\"40.126.29.96\",\"20.190.157.96\",\"69.130.255.13\",\"2603:10b6:208:481::10\",\"69.130.255.13\",\"69.130.255.13\",\"20.190.157.97\",\"40.126.29.96\",\"40.126.29.96\",\"20.190.157.97\",\"69.130.255.13\",\"2603:10b6:208:3da::13\",\"20.190.157.30\",\"69.130.255.13\",\"20.190.157.160\",\"69.130.255.13\",\"2603:10b6:208:3ac::10\",\"69.130.255.13\",\"40.126.29.96\",\"69.130.255.13\",\"69.130.255.13\",\"69.130.255.13\",\"69.130.255.13\",\"20.190.157.160\",\"69.130.255.13\",\"20.190.157.30\",\"69.130.255.13\",\"69.130.255.13\",\"69.130.255.13\",\"69.130.255.13\",\"20.190.157.97\",\"69.130.255.13\",\"69.130.255.13\",\"69.130.255.13\",\"69.130.255.13\",\"69.130.255.13\",\"69.130.255.13\",\"20.190.157.160\",\"69.130.255.13\",\"20.190.157.160\",\"69.130.255.13\",\"69.130.255.13\",\"69.130.255.13\",\"69.130.255.13\",\"69.130.255.13\",\"69.130.255.13\",\"69.130.255.13\",\"69.130.255.13\",\"69.130.255.13\",\"69.130.255.13\",\"2603:10b6:208:481::10\",\"69.130.255.13\",\"69.130.255.13\",\"2603:10b6:208:481::10\",\"69.130.255.13\",\"69.130.255.13\",\"69.130.255.13\",\"69.130.255.13\",\"69.130.255.13\"],\"Operation\":[\"MailItemsAccessed\",\"MailItemsAccessed\",\"MailItemsAccessed\",\"MailItemsAccessed\",\"MailItemsAccessed\",\"HardDelete\",\"Create\",\"MailItemsAccessed\",\"MoveToDeletedItems\",\"MailItemsAccessed\",\"MailItemsAccessed\",\"MoveToDeletedItems\",\"MailItemsAccessed\",\"MailItemsAccessed\",\"MailItemsAccessed\",\"MailItemsAccessed\",\"MailItemsAccessed\",\"MailItemsAccessed\",\"MailItemsAccessed\",\"MailItemsAccessed\",\"MailItemsAccessed\",\"MailItemsAccessed\",\"MailItemsAccessed\",\"MailItemsAccessed\",\"MailItemsAccessed\",\"MailItemsAccessed\",\"MailItemsAccessed\",\"MailItemsAccessed\",\"MailItemsAccessed\",\"MailItemsAccessed\",\"MailItemsAccessed\",\"MailItemsAccessed\",\"MailItemsAccessed\",\"MailItemsAccessed\",\"MailItemsAccessed\",\"MailItemsAccessed\",\"MailItemsAccessed\",\"MailItemsAccessed\",\"MailItemsAccessed\",\"MailItemsAccessed\",\"MailItemsAccessed\",\"MailItemsAccessed\",\"MailItemsAccessed\",\"MailItemsAccessed\",\"MailItemsAccessed\",\"MailItemsAccessed\",\"MailItemsAccessed\",\"MailItemsAccessed\",\"MailItemsAccessed\",\"MailItemsAccessed\",\"MailItemsAccessed\",\"MailItemsAccessed\",\"MailItemsAccessed\",\"MailItemsAccessed\",\"MailItemsAccessed\",\"MailItemsAccessed\",\"MailItemsAccessed\",\"MailItemsAccessed\",\"MailItemsAccessed\",\"MailItemsAccessed\",\"MailItemsAccessed\",\"MailItemsAccessed\",\"MailItemsAccessed\",\"MailItemsAccessed\",\"MailItemsAccessed\",\"MailItemsAccessed\",\"MailItemsAccessed\",\"MailItemsAccessed\",\"MailItemsAccessed\",\"MailItemsAccessed\",\"MailItemsAccessed\",\"MailItemsAccessed\",\"MailItemsAccessed\",\"MailItemsAccessed\",\"MailItemsAccessed\",\"MailItemsAccessed\",\"Create\",\"Create\",\"MailItemsAccessed\",\"Create\",\"MailItemsAccessed\",\"MailItemsAccessed\",\"MailItemsAccessed\",\"MailItemsAccessed\",\"MailItemsAccessed\",\"MailItemsAccessed\",\"MailItemsAccessed\",\"MailItemsAccessed\",\"MailItemsAccessed\",\"MailItemsAccessed\",\"MailItemsAccessed\",\"MailItemsAccessed\",\"MailItemsAccessed\",\"MailItemsAccessed\",\"MailItemsAccessed\",\"MailItemsAccessed\",\"MailItemsAccessed\",\"SoftDelete\",\"Create\",\"MailItemsAccessed\",\"MailItemsAccessed\",\"MailItemsAccessed\",\"MailItemsAccessed\",\"MailItemsAccessed\",\"MailItemsAccessed\",\"MailItemsAccessed\",\"MailItemsAccessed\",\"MailItemsAccessed\",\"MailItemsAccessed\",\"MailItemsAccessed\",\"MailItemsAccessed\",\"MailItemsAccessed\",\"MailItemsAccessed\",\"MailItemsAccessed\",\"MailItemsAccessed\",\"MailItemsAccessed\",\"MailItemsAccessed\",\"MailItemsAccessed\",\"Update\",\"Update\",\"MoveToDeletedItems\",\"HardDelete\",\"Create\",\"MailItemsAccessed\",\"MailItemsAccessed\",\"MailItemsAccessed\",\"MailItemsAccessed\",\"MailItemsAccessed\",\"MailItemsAccessed\",\"MailItemsAccessed\",\"Move\",\"MailItemsAccessed\",\"MailItemsAccessed\",\"MailItemsAccessed\",\"MailItemsAccessed\",\"MailItemsAccessed\",\"MailItemsAccessed\",\"MailItemsAccessed\",\"MailItemsAccessed\",\"MailItemsAccessed\",\"MailItemsAccessed\",\"MailItemsAccessed\",\"MailItemsAccessed\",\"MailItemsAccessed\",\"MailItemsAccessed\",\"MailItemsAccessed\",\"MailItemsAccessed\",\"MailItemsAccessed\",\"MailItemsAccessed\",\"MailItemsAccessed\",\"MailItemsAccessed\",\"MailItemsAccessed\",\"MailItemsAccessed\",\"MailItemsAccessed\",\"MailItemsAccessed\",\"MailItemsAccessed\",\"MailItemsAccessed\",\"MailItemsAccessed\",\"MailItemsAccessed\",\"Move\",\"Create\",\"MailItemsAccessed\",\"MailItemsAccessed\",\"MailItemsAccessed\",\"MailItemsAccessed\",\"MailItemsAccessed\",\"MailItemsAccessed\",\"MailItemsAccessed\",\"MailItemsAccessed\",\"MailItemsAccessed\",\"MailItemsAccessed\",\"Move\",\"MailItemsAccessed\",\"MailItemsAccessed\",\"MailItemsAccessed\",\"MailItemsAccessed\",\"MailItemsAccessed\",\"MailItemsAccessed\",\"MailItemsAccessed\",\"MailItemsAccessed\",\"MailItemsAccessed\",\"MailItemsAccessed\",\"MailItemsAccessed\",\"MailItemsAccessed\",\"MailItemsAccessed\",\"MailItemsAccessed\",\"Move\",\"MailItemsAccessed\",\"MailItemsAccessed\",\"MailItemsAccessed\",\"MailItemsAccessed\",\"MailItemsAccessed\",\"MailItemsAccessed\",\"MailItemsAccessed\",\"MailItemsAccessed\",\"MailItemsAccessed\",\"MailItemsAccessed\",\"MailItemsAccessed\",\"MailItemsAccessed\",\"MailItemsAccessed\",\"MailItemsAccessed\",\"MailItemsAccessed\",\"MailItemsAccessed\",\"MailItemsAccessed\",\"MailItemsAccessed\",\"MailItemsAccessed\",\"MailItemsAccessed\",\"MailItemsAccessed\",\"MailItemsAccessed\",\"MailItemsAccessed\",\"MailItemsAccessed\",\"Create\",\"MailItemsAccessed\",\"SoftDelete\",\"Create\",\"MailItemsAccessed\",\"MailItemsAccessed\",\"MailItemsAccessed\",\"MailItemsAccessed\",\"MailItemsAccessed\",\"MailItemsAccessed\",\"MailItemsAccessed\",\"MailItemsAccessed\",\"MailItemsAccessed\",\"MailItemsAccessed\",\"MailItemsAccessed\",\"SoftDelete\",\"Create\",\"MailItemsAccessed\",\"MailItemsAccessed\",\"MailItemsAccessed\",\"MailItemsAccessed\",\"Create\",\"MailItemsAccessed\",\"MailItemsAccessed\",\"SoftDelete\",\"MailItemsAccessed\",\"MailItemsAccessed\",\"MailItemsAccessed\",\"MailItemsAccessed\",\"MailItemsAccessed\",\"MailItemsAccessed\",\"MailItemsAccessed\",\"MailItemsAccessed\",\"MailItemsAccessed\",\"MailItemsAccessed\",\"MailItemsAccessed\",\"MailItemsAccessed\",\"MailItemsAccessed\",\"MailItemsAccessed\",\"MailItemsAccessed\",\"MailItemsAccessed\",\"MailItemsAccessed\",\"MailItemsAccessed\",\"MailItemsAccessed\",\"MailItemsAccessed\",\"MailItemsAccessed\",\"MailItemsAccessed\",\"MailItemsAccessed\",\"MailItemsAccessed\",\"MailItemsAccessed\",\"MailItemsAccessed\",\"MailItemsAccessed\",\"MailItemsAccessed\",\"MailItemsAccessed\",\"Create\",\"MailItemsAccessed\",\"MailItemsAccessed\",\"MailItemsAccessed\",\"MailItemsAccessed\",\"MailItemsAccessed\",\"MailItemsAccessed\",\"MailItemsAccessed\",\"MailItemsAccessed\",\"MailItemsAccessed\",\"MailItemsAccessed\",\"MailItemsAccessed\",\"MailItemsAccessed\",\"Create\",\"Create\",\"MailItemsAccessed\",\"MailItemsAccessed\",\"SoftDelete\",\"MailItemsAccessed\",\"MailItemsAccessed\",\"MailItemsAccessed\",\"Create\",\"MailItemsAccessed\",\"MailItemsAccessed\",\"MailItemsAccessed\",\"Create\",\"MailItemsAccessed\",\"MailItemsAccessed\",\"MailItemsAccessed\",\"MailItemsAccessed\",\"MailItemsAccessed\",\"MailItemsAccessed\",\"MailItemsAccessed\",\"MailItemsAccessed\",\"MailItemsAccessed\",\"MailItemsAccessed\",\"MailItemsAccessed\",\"MailItemsAccessed\",\"MailItemsAccessed\",\"MailItemsAccessed\",\"MailItemsAccessed\",\"MailItemsAccessed\",\"MailItemsAccessed\",\"MailItemsAccessed\",\"MailItemsAccessed\",\"MailItemsAccessed\",\"MailItemsAccessed\",\"MailItemsAccessed\",\"MailItemsAccessed\",\"MailItemsAccessed\",\"MailItemsAccessed\",\"MailItemsAccessed\",\"MailItemsAccessed\",\"MailItemsAccessed\",\"MailItemsAccessed\",\"MailItemsAccessed\",\"MailItemsAccessed\",\"MailItemsAccessed\",\"MailItemsAccessed\",\"MailItemsAccessed\",\"MailItemsAccessed\",\"MailItemsAccessed\",\"MailItemsAccessed\",\"MailItemsAccessed\",\"MailItemsAccessed\",\"MailItemsAccessed\",\"MailItemsAccessed\",\"MailItemsAccessed\",\"MailItemsAccessed\",\"MailItemsAccessed\",\"MailItemsAccessed\",\"MailItemsAccessed\",\"MailItemsAccessed\",\"MailItemsAccessed\",\"MailItemsAccessed\",\"MailItemsAccessed\",\"MailItemsAccessed\",\"MailItemsAccessed\",\"MailItemsAccessed\",\"MailItemsAccessed\",\"MailItemsAccessed\",\"MailItemsAccessed\",\"MailItemsAccessed\",\"MailItemsAccessed\",\"MailItemsAccessed\",\"MailItemsAccessed\",\"MailItemsAccessed\",\"MailItemsAccessed\",\"MailItemsAccessed\",\"MailItemsAccessed\",\"MailItemsAccessed\",\"MailItemsAccessed\",\"MailItemsAccessed\",\"SoftDelete\",\"Create\",\"Create\",\"MailItemsAccessed\",\"MailItemsAccessed\",\"SoftDelete\",\"Create\",\"MailItemsAccessed\",\"Create\",\"SoftDelete\",\"MailItemsAccessed\",\"MailItemsAccessed\",\"MailItemsAccessed\",\"MailItemsAccessed\",\"MailItemsAccessed\",\"MailItemsAccessed\",\"MailItemsAccessed\",\"MailItemsAccessed\",\"MoveToDeletedItems\",\"MoveToDeletedItems\",\"MailItemsAccessed\",\"MoveToDeletedItems\",\"MoveToDeletedItems\",\"MailItemsAccessed\",\"MailItemsAccessed\",\"MailItemsAccessed\",\"MailItemsAccessed\",\"MailItemsAccessed\",\"MailItemsAccessed\",\"MailItemsAccessed\",\"MailItemsAccessed\",\"MailItemsAccessed\",\"MailItemsAccessed\",\"MailItemsAccessed\",\"MailItemsAccessed\",\"MailItemsAccessed\",\"MailItemsAccessed\",\"MailItemsAccessed\",\"MailItemsAccessed\",\"MailItemsAccessed\",\"MailItemsAccessed\",\"MailItemsAccessed\",\"MailItemsAccessed\",\"MailItemsAccessed\",\"MailItemsAccessed\",\"MailItemsAccessed\",\"MailItemsAccessed\",\"MailItemsAccessed\",\"MailItemsAccessed\",\"MailItemsAccessed\",\"MailItemsAccessed\",\"MailItemsAccessed\",\"MailItemsAccessed\",\"MailItemsAccessed\",\"MailItemsAccessed\",\"MailItemsAccessed\",\"MailItemsAccessed\",\"MailItemsAccessed\",\"MailItemsAccessed\",\"MailItemsAccessed\",\"MailItemsAccessed\",\"MailItemsAccessed\",\"MailItemsAccessed\",\"MailItemsAccessed\",\"MailItemsAccessed\",\"MailItemsAccessed\",\"MailItemsAccessed\",\"MailItemsAccessed\",\"SoftDelete\",\"Create\",\"MailItemsAccessed\",\"MailItemsAccessed\",\"MailItemsAccessed\",\"MailItemsAccessed\",\"MailItemsAccessed\",\"SoftDelete\",\"Create\",\"MailItemsAccessed\",\"MailItemsAccessed\",\"MailItemsAccessed\",\"SoftDelete\",\"Create\",\"MailItemsAccessed\",\"MailItemsAccessed\",\"SoftDelete\",\"Create\",\"MailItemsAccessed\",\"MailItemsAccessed\",\"MailItemsAccessed\",\"MailItemsAccessed\",\"MailItemsAccessed\",\"Create\",\"SoftDelete\",\"MailItemsAccessed\",\"MailItemsAccessed\",\"MailItemsAccessed\",\"MailItemsAccessed\",\"MailItemsAccessed\",\"MailItemsAccessed\",\"MailItemsAccessed\",\"MailItemsAccessed\",\"MailItemsAccessed\",\"MailItemsAccessed\",\"MoveToDeletedItems\",\"HardDelete\",\"MailItemsAccessed\",\"Create\",\"MailItemsAccessed\"],\"TimeGenerated\":{\"__ndarray__\":\"AIDr7vmNeEIAgGjv+Y14QgAAwMr7jXhCAADAyvuNeEIAAMDK+414QgCAogP8jXhCAIAfBPyNeEIAgJwE/I14QgAAzwb8jXhCAIBNJvyNeEIAAIwm/I14QgAA/Sj8jXhCAADhgPyNeEIAgHyw/I14QgCAcLL8jXhCAIBQXv2NeEIAALGC/Y14QgAAsYL9jXhCAACxgv2NeEIAABaH/Y14QgCAUFj+jXhCAIAmX/6NeEIAgBRi/o14QgAAd80AjnhCAICdPASOeEIAAOZYBo54QgAAY1kGjnhCAIAMyAmOeEIAADM3DY54QgCAFtgNjnhCAIAQ2Q2OeEIAAMzZDY54QgAA/L8QjnhCAIC3wBCOeEIAAMExEY54QgCA/zERjnhCAADNrBGOeEIAgOegFI54QgCAzw8YjnhCAAD2fhuOeEIAACdcHI54QgAAJ1wcjnhCAIDYpR6OeEIAAJSmHo54QgCAfjEfjnhCAIB+MR+OeEIAgH4xH454QgCAfjEfjnhCAIB+MR+OeEIAgH4xH454QgCAfjEfjnhCAIB+MR+OeEIAgH4xH454QgCAfjEfjnhCAIB+MR+OeEIAAP8UIo54QgAAhroijnhCAIAlhCWOeEIAAG6mJo54QgAAbqYmjnhCAICAVCeOeEIAAFYVKo54QgCAkyoqjnhCAABihCyOeEIAAD6ELY54QgCAx7AujnhCAIDHsC6OeEIAAL68Lo54QgAAvrwujnhCAAC+vC6OeEIAgG2/Lo54QgCA3sEujnhCAAAdwi6OeEIAgFvCLo54QgCAW8IujnhCAIBbwi6OeEIAAJrCLo54QgAAmsIujnhCAIDYwi6OeEIAgNjCLo54QgCA2MIujnhCAIDYwi6OeEIAABfDLo54QgAAF8MujnhCAAAXwy6OeEIAABfDLo54QgAAF8MujnhCAIBVwy6OeEIAAJTDLo54QgCA0sMujnhCAAARxC6OeEIAAKvULo54QgAAKNUujnhCAAAo1S6OeEIAgOLkL454QgAAIeUvjnhCAIB87zCOeEIAgPnvMI54QgAAOPAwjnhCAADoJjGOeEIAAGS5MY54QgAAaF8yjnhCAIBzHTSOeEIAgHMdNI54QgCAcx00jnhCAAAXnzSOeEIAgFWfNI54QgAAC6E0jnhCAACaGzWOeEIAgNgbNY54QgAAFxw1jnhCAAC8tjaOeEIAgHe3No54QgCA6Lk2jnhCAAAbvDaOeEIAAHnWNo54QgAAedY2jnhCAAB51jaOeEIAAFvbNo54QgAAK+M2jnhCAACc5TaOeEIAgEXpNo54QgAAhOk2jnhCAACE6TaOeEIAABeNN454QgAAF403jnhCAAAXjTeOeEIAAPmRN454QgCALec3jnhCAABU6zeOeEIAAFTrN454QgAAaaM4jnhCAIChpDiOeEIAgJulOI54QgAAxec4jnhCAIDS/jmOeEIAAI7/OY54QgAAjv85jnhCAIArBTqOeEIAALwhOo54QgCA+iE6jnhCAID+SjqOeEIAAD1LOo54QgCAnW86jnhCAADcbzqOeEIAgGCOOo54QgCAVJA6jnhCAADmlzqOeEIAgCSYOo54QgCABMc6jnhCAIC6/DqOeEIAgLr8Oo54QgCAuvw6jnhCAICKBDuOeEIAgAcFO454QgAAl7M7jnhCAACLtTuOeEIAgG7ZO454QgAATlE8jnhCAICAUzyOeEIAADxUPI54QgAADFw8jnhCAICc9TyOeEIAANX2PI54QgCAE/c8jnhCAABS9zyOeEIAAFL3PI54QgCAL5k9jnhCAABumT2OeEIAAFWyPY54QgCAELM9jnhCAIBpuT2OeEIAgGm5PY54QgCAnGw+jnhCAICcbD6OeEIAgJxsPo54QgAACno+jnhCAIBCez6OeEIAgDx8Po54QgAAhZ4/jnhCAACEMECOeEIAgHYNQY54QgAAtQ1BjnhCAACZZUGOeEIAgMtnQY54QgCAoW5BjnhCAIChbkGOeEIAgH7cQY54QgCAftxBjnhCAIB+3EGOeEIAgGzNRI54QgAAq81EjnhCAIDjS0WOeEIAgONLRY54QgCA40tFjnhCAIASWUWOeEIAAM5ZRY54QgCAAFxFjnhCAACqWUaOeEIAgGVaRo54QgAAZaNGjnhCAIAc8keOeEIAAOGsSI54QgCAxbtIjnhCAIDFu0iOeEIAgMW7SI54QgCAcclIjnhCAAAtykiOeEIAgKXqSI54QgCApepIjnhCAIAi60iOeEIAgJnsSI54QgAAQ/BIjnhCAICB8EiOeEIAAAAQSY54QgCA0iFJjnhCAIDSIUmOeEIAgE8iSY54QgCAxiNJjnhCAICopUmOeEIAgAIUSo54QgCA9hVKjnhCAICzNUqOeEIAgNxDSo54QgCA1kRKjnhCAIDWREqOeEIAgMpGSo54QgAACUdKjnhCAADfTUqOeEIAAMxlSo54QgCAzYRKjnhCAAAdFEuOeEIAgKVbS454QgAAjahLjnhCAIC5q0uOeEIAgDasS454QgAA8qxLjnhCAICtrUuOeEIAgCSvS454QgCABrRLjnhCAABFtEuOeEIAgH21S454QgCAfbVLjnhCAABpK0yOeEIAAGkrTI54QgAAaStMjnhCAACAPEyOeEIAgIQWTY54QgCAayNPjnhCAABLm0+OeEIAAEubT454QgAAS5tPjnhCAIBkLVGOeEIAACAuUY54QgCAXi5RjnhCAIBSMFGOeEIAAA4xUY54QgAALQtTjnhCAAAtC1OOeEIAAC0LU454QgAAPh1TjnhCAAB5n1SOeEIAgINsV454QgAAwmxXjnhCAADCbFeOeEIAAOV7V454QgAA33xXjnhCAICafVeOeEIAgJp9V454QgAARIFXjnhCAADdpleOeEIAAID0V454QgAA/fRXjnhCAIA79VeOeEIAgLj1V454QgCAsvZXjnhCAADr91eOeEIAAGEOWI54QgAAqBdYjnhCAID9KFiOeEIAAOg2WI54QgAAKUFYjnhCAIBnQViOeEIAAKBCWI54QgCAW0NYjnhCAICHfVuOeEIAAHvIW454QgCA/CVcjnhCAIBzJ1yOeEIAACOVX454QgCAPvFijnhCAAALBGOOeEIAAEsjY454QgAARSRjjnhCAIBoZ2OOeEIAgGhnY454QgCAp5tjjnhCAADmm2OOeEIAAM4KZ454QgCA9HlqjnhCAAAb6W2OeEIAAANYcY54QgAAYtpxjnhCAADf2nGOeEIAgIhJdY54QgAA0P12jnhCAADQ/XaOeEIAAND9do54QgAA0P12jnhCAADQ/XaOeEIAAND9do54QgAA0P12jnhCAADQ/XaOeEIAAND9do54QgAA0P12jnhCAADQ/XaOeEIAAND9do54QgCAcLh4jnhCAACXJ3yOeEIAgL2Wf454QgAAo4SBjnhCAAAghYGOeEIAAI66g454QgCAxruDjnhCAAD/vIOOeEIAgLWjhI54QgCAtaOEjnhCAICldoWOeEIAAOR2hY54QgAAweSFjnhCAADB5IWOeEIAAD7lhY54QgCA+eWFjnhCAIBw4YaOeEIAgHDhho54QgCAGhmHjnhCAICXGYeOeEIAgBQah454QgCAssqIjnhCAIAvy4iOeEIAALA9iY54QgCAeYmKjnhCAAAgzIqOeEIAACDMio54QgAAVjqMjnhCAAAsQYyOeEIAgGpBjI54QgCA50GMjnhCAIAHkIyOeEIAgAeQjI54QgCAB5CMjnhCAID1koyOeEIAACiVjI54QgCAZpWMjnhCAIBmlYyOeEIAgGaVjI54QgCA45WMjnhCAIBgloyOeEIAgN2WjI54QgCA3ZaMjnhCAAAcl4yOeEIAgMWajI54QgCAxZqMjnhCAIDFmoyOeEIAgMWajI54QgAABJuMjnhCAAAEm4yOeEIAAOCgjI54QgAAYrWMjnhCAAB2go2OeEIAgDYUjo54QgAAdRSOjnhCAAAp8Y6OeEIAAKbxjo54QgCAeeiPjnhCAAC46I+OeEIAgP8lkI54QgCA/yWQjnhCAIDzJ5COeEIAAKkpkI54QgAAqSmQjnhCAIBqppCOeEIAgDJWkY54QgCAMlaRjnhCAIAyVpGOeEIAgCXqkY54QgCA8cKSjnhCAAAww5KOeEIAAJ4Ek454QgCASzGTjnhCAIDIMZOOeEIAgBs5k454QgCAmDmTjnhCAAARWpOOeEIAAHqHk454QgCAuIGUjnhCAIC4gZSOeEIAAArnlI54QgCAPjyVjnhCAADuPpWOeEIAgCw/lY54QgCAl0KVjnhCAADERZWOeEIAgH9GlY54QgAA+VGVjnhCAIAxU5WOeEIAgCVVlY54QgAAZFWVjnhCAIA8ZpWOeEIAgCN/lY54QgCAoH+VjnhCAIDbipWOeEIAgFiLlY54QgCAz4yVjnhCAIBMjZWOeEIAAKKelY54QgCABuyVjnhCAICD7JWOeEIAADcYlo54QgCAI/aWjnhCAADZ95aOeEIAAGPVmI54QgAAVQGZjnhCAABVAZmOeEIAAE8CmY54QgAATwKZjnhCAAA9BZmOeEIAAD0FmY54QgAAlguZjnhCAIBRDJmOeEIAgM4MmY54QgAA+w+ZjnhCAAD1EJmOeEIAAGAUmY54QgCAnhSZjnhCAACaNJmOeEIAgNg0mY54QgAAFzWZjnhCAAALN5mOeEIAgEk3mY54QgAAHMaZjnhCAAAWx5mOeEIAAArJmY54QgAACsmZjnhCAACd75mOeEIAAJ3vmY54QgAAsiqajnhCAIDwKpqOeEIAgG0rmo54QgCA5CyajnhCAIDkLJqOeEIAAG10mo54QgCAEHmajnhCAIAQeZqOeEIAgBB5mo54QgAA+hibjnhCAAB4+JyOeEIAgLb4nI54QgAAbPqcjnhCAIAV/pyOeEIAAAYLnY54QgAATRSdjnhCAABNFJ2OeEIAgIsUnY54QgCAixSdjnhCAIAIFZ2OeEI=\",\"dtype\":\"float64\",\"order\":\"little\",\"shape\":[466]},\"index\":[111,110,119,121,120,133,136,134,135,118,117,116,113,115,114,140,142,144,143,141,138,139,137,166,149,167,168,169,170,181,180,182,185,186,187,188,179,183,184,191,192,193,346,347,197,204,198,202,201,200,199,203,194,195,196,345,349,354,359,360,353,351,350,352,361,397,398,383,384,382,388,392,381,387,403,404,396,399,380,395,402,391,386,379,401,406,390,385,389,378,394,393,405,400,413,412,410,408,409,411,417,555,553,552,554,558,557,556,561,560,559,573,567,572,574,568,569,570,566,565,562,563,564,571,581,582,580,579,578,576,577,603,589,588,604,601,599,602,587,600,598,611,612,616,613,614,615,617,623,622,625,626,627,624,628,596,597,605,586,608,584,585,632,630,634,633,631,607,621,620,618,606,619,592,593,594,591,595,590,146,122,123,132,130,145,129,131,358,357,356,424,425,431,432,430,429,427,428,148,147,150,377,355,153,155,154,152,151,161,156,162,159,157,158,160,164,163,165,496,421,426,485,174,173,175,178,172,171,176,177,499,190,348,488,493,495,494,492,498,491,497,489,490,508,509,510,507,487,500,504,505,506,363,365,366,362,364,371,370,369,368,511,513,515,516,514,517,518,512,519,520,529,526,521,523,525,522,524,528,527,373,374,375,372,376,407,536,538,537,532,534,535,542,541,545,544,547,546,422,423,539,540,549,550,543,434,433,436,438,439,440,441,442,443,444,435,437,551,548,445,446,260,206,205,207,282,281,262,261,448,451,450,449,263,264,265,267,266,452,208,268,453,210,209,286,284,285,283,225,224,223,230,219,228,214,222,213,229,227,218,217,211,212,226,216,220,221,215,231,454,287,288,272,271,233,232,237,234,297,236,235,293,294,295,296,242,243,244,245,299,300,273,298,274,301,462,461,463,469,468,246,467,466,473,465,464,472,471,470,476,479,475,474,478,477,247,249,248,480,303,302,254,250,309,253,308,252,251,314,312,307,311,306,313,310,304,305,317,316,315,481,483,484,482,279,280,259,278,277,276,275,255,256,257,258,318,319,321,320,341,342,343,344,340,338,339],\"y_index\":[2,2,2,2,2,2,2,2,2,2,2,2,2,2,2,2,2,2,2,2,2,2,2,2,2,2,2,2,2,2,2,2,2,2,2,2,2,2,2,2,2,2,2,2,2,2,2,2,2,2,2,2,2,2,2,2,2,2,2,2,2,2,2,2,2,2,2,2,2,2,2,2,2,2,2,2,2,2,2,2,2,2,2,2,2,2,2,2,2,2,2,2,2,2,2,2,2,2,2,2,2,2,2,2,2,2,2,2,2,2,2,2,2,2,2,2,2,2,2,2,2,2,2,2,2,2,2,2,2,2,2,2,2,2,2,2,2,2,2,2,2,2,2,2,2,2,2,2,2,2,2,2,2,2,2,2,2,2,2,2,2,2,2,2,2,2,2,2,2,2,2,2,2,2,2,2,2,2,2,2,2,2,2,2,2,2,2,2,2,2,2,2,2,2,2,2,2,2,2,2,2,2,2,2,2,2,2,2,2,2,2,2,2,2,2,2,2,2,2,2,2,2,2,2,2,2,2,2,2,2,2,2,2,2,2,2,2,2,2,2,2,2,2,2,2,2,2,2,2,2,2,2,2,2,2,2,2,2,2,2,2,2,2,2,2,2,2,2,2,2,2,2,2,2,2,2,2,2,2,2,2,2,2,2,2,2,2,2,2,2,2,2,2,2,2,2,2,2,2,2,2,2,2,2,2,2,2,2,2,2,2,2,2,2,2,2,2,2,2,2,2,2,2,2,2,2,2,2,2,2,2,2,2,2,2,2,2,2,2,2,2,2,2,2,2,2,2,2,2,2,2,2,2,2,2,2,2,2,2,2,2,2,2,2,2,2,2,2,2,2,2,2,2,2,2,2,2,2,2,2,2,2,2,2,2,2,2,2,2,2,2,2,2,2,2,2,2,2,2,2,2,2,2,2,2,2,2,2,2,2,2,2,2,2,2,2,2,2,2,2,2,2,2,2,2,2,2,2,2,2,2,2,2,2,2,2,2,2,2,2,2,2,2,2,2,2,2,2,2,2,2,2,2,2,2,2,2,2,2,2,2,2,2,2,2,2]},\"selected\":{\"id\":\"1414\"},\"selection_policy\":{\"id\":\"1413\"}},\"id\":\"1005\",\"type\":\"ColumnDataSource\"},{\"attributes\":{\"source\":{\"id\":\"1020\"}},\"id\":\"1186\",\"type\":\"CDSView\"},{\"attributes\":{\"fill_alpha\":{\"value\":0.2},\"fill_color\":{\"value\":\"#29798E\"},\"hatch_alpha\":{\"value\":0.2},\"hatch_color\":{\"value\":\"#29798E\"},\"line_alpha\":{\"value\":0.2},\"line_color\":{\"value\":\"#29798E\"},\"x\":{\"field\":\"TimeGenerated\"},\"y\":{\"field\":\"y_index\"}},\"id\":\"1148\",\"type\":\"Circle\"},{\"attributes\":{\"fill_color\":{\"value\":\"#25828E\"},\"hatch_color\":{\"value\":\"#25828E\"},\"line_color\":{\"value\":\"#25828E\"},\"x\":{\"field\":\"TimeGenerated\"},\"y\":{\"field\":\"y_index\"}},\"id\":\"1152\",\"type\":\"Circle\"},{\"attributes\":{\"source\":{\"id\":\"1014\"}},\"id\":\"1150\",\"type\":\"CDSView\"},{\"attributes\":{\"data\":{\"AppResourceProvider\":[\"APIM-Client-DevPortal-OAuth\",\"APIM-Client-DevPortal-OAuth\",\"APIM-Client-DevPortal-OAuth\",\"APIM-Client-DevPortal-OAuth\",\"APIM-Client-DevPortal-OAuth\",\"APIM-Client-DevPortal-OAuth\",\"APIM-Client-DevPortal-OAuth\",\"APIM-Client-DevPortal-OAuth\",\"APIM-Client-DevPortal-OAuth\",\"APIM-Client-DevPortal-OAuth\",\"APIM-Client-DevPortal-OAuth\",\"APIM-Client-DevPortal-OAuth\",\"APIM-Client-DevPortal-OAuth\",\"APIM-Client-DevPortal-OAuth\",\"APIM-Client-DevPortal-OAuth\",\"APIM-Client-DevPortal-OAuth\",\"APIM-Client-DevPortal-OAuth\",\"APIM-Client-DevPortal-OAuth\",\"APIM-Client-DevPortal-OAuth\",\"APIM-Client-DevPortal-OAuth\",\"APIM-Client-DevPortal-OAuth\",\"APIM-Client-DevPortal-OAuth\",\"APIM-Client-DevPortal-OAuth\",\"APIM-Client-DevPortal-OAuth\",\"APIM-Client-DevPortal-OAuth\",\"APIM-Client-DevPortal-OAuth\",\"APIM-Client-DevPortal-OAuth\",\"APIM-Client-DevPortal-OAuth\",\"APIM-Client-DevPortal-OAuth\",\"APIM-Client-DevPortal-OAuth\",\"APIM-Client-DevPortal-OAuth\",\"APIM-Client-DevPortal-OAuth\",\"APIM-Client-DevPortal-OAuth\",\"APIM-Client-DevPortal-OAuth\",\"APIM-Client-DevPortal-OAuth\",\"APIM-Client-DevPortal-OAuth\",\"APIM-Client-DevPortal-OAuth\",\"APIM-Client-DevPortal-OAuth\",\"APIM-Client-DevPortal-OAuth\",\"APIM-Client-DevPortal-OAuth\",\"APIM-Client-DevPortal-OAuth\",\"APIM-Client-DevPortal-OAuth\",\"APIM-Client-DevPortal-OAuth\"],\"IPAddress\":[\"69.130.255.13\",\"69.130.255.13\",\"69.130.255.13\",\"69.130.255.13\",\"69.130.255.13\",\"69.130.255.13\",\"69.130.255.13\",\"69.130.255.13\",\"69.130.255.13\",\"69.130.255.13\",\"69.130.255.13\",\"69.130.255.13\",\"69.130.255.13\",\"69.130.255.13\",\"69.130.255.13\",\"69.130.255.13\",\"69.130.255.13\",\"69.130.255.13\",\"69.130.255.13\",\"69.130.255.13\",\"69.130.255.13\",\"69.130.255.13\",\"69.130.255.13\",\"69.130.255.13\",\"69.130.255.13\",\"69.130.255.13\",\"69.130.255.13\",\"69.130.255.13\",\"69.130.255.13\",\"69.130.255.13\",\"69.130.255.13\",\"69.130.255.13\",\"69.130.255.13\",\"69.130.255.13\",\"69.130.255.13\",\"69.130.255.13\",\"69.130.255.13\",\"69.130.255.13\",\"69.130.255.13\",\"69.130.255.13\",\"69.130.255.13\",\"69.130.255.13\",\"69.130.255.13\"],\"Operation\":[\"Sign-in activity\",\"Sign-in activity\",\"Sign-in activity\",\"Sign-in activity\",\"Sign-in activity\",\"Sign-in activity\",\"Sign-in activity\",\"Sign-in activity\",\"Sign-in activity\",\"Sign-in activity\",\"Sign-in activity\",\"Sign-in activity\",\"Sign-in activity\",\"Sign-in activity\",\"Sign-in activity\",\"Sign-in activity\",\"Sign-in activity\",\"Sign-in activity\",\"Sign-in activity\",\"Sign-in activity\",\"Sign-in activity\",\"Sign-in activity\",\"Sign-in activity\",\"Sign-in activity\",\"Sign-in activity\",\"Sign-in activity\",\"Sign-in activity\",\"Sign-in activity\",\"Sign-in activity\",\"Sign-in activity\",\"Sign-in activity\",\"Sign-in activity\",\"Sign-in activity\",\"Sign-in activity\",\"Sign-in activity\",\"Sign-in activity\",\"Sign-in activity\",\"Sign-in activity\",\"Sign-in activity\",\"Sign-in activity\",\"Sign-in activity\",\"Sign-in activity\",\"Sign-in activity\"],\"TimeGenerated\":{\"__ndarray__\":\"2/sODTWOeEJvGNwFNo54QpyWRxo2jnhCoD7/JTaOeELjzRwsNo54QgzcjVQ2jnhCF5cE8TaOeEJzSEoaN454QkwxUyE3jnhCEDxw/zeOeEJS9nuQOY54QrZFuNc8jnhCPfS6c0OOeELJrKGTQ454QofYqptDjnhCUhCbqEOOeELTpVf4RY54QvQFGlNGjnhCb578tEaOeEKsup1hR454QrJb/25HjnhCmNynkkeOeEJMm40rSI54QqbxYTRIjnhCk1pIiEmOeEIKM/0TT454QsdvMRZPjnhCaP0oKE+OeEIpzFniT454QuOx1+5PjnhCCHKh+0+OeEK8jO6xUI54QlRlGLhQjnhCEruyuVCOeEKHcOG/UI54QmJ0bsdQjnhCyciG3FCOeEIA8ov4UI54Quyrz/tQjnhC4X7IFFGOeEIjBQQYUY54QqAMwkNRjnhC3wODRlGOeEI=\",\"dtype\":\"float64\",\"order\":\"little\",\"shape\":[43]},\"index\":[1,2,5,7,6,9,3,4,8,10,11,56,71,64,68,70,75,77,78,73,74,76,80,72,79,101,90,102,94,99,100,96,91,92,97,93,95,98,104,105,106,107,108],\"y_index\":[0,0,0,0,0,0,0,0,0,0,0,0,0,0,0,0,0,0,0,0,0,0,0,0,0,0,0,0,0,0,0,0,0,0,0,0,0,0,0,0,0,0,0]},\"selected\":{\"id\":\"1410\"},\"selection_policy\":{\"id\":\"1409\"}},\"id\":\"1003\",\"type\":\"ColumnDataSource\"},{\"attributes\":{\"fill_alpha\":{\"value\":0.1},\"fill_color\":{\"value\":\"#25828E\"},\"hatch_alpha\":{\"value\":0.1},\"hatch_color\":{\"value\":\"#25828E\"},\"line_alpha\":{\"value\":0.1},\"line_color\":{\"value\":\"#25828E\"},\"x\":{\"field\":\"TimeGenerated\"},\"y\":{\"field\":\"y_index\"}},\"id\":\"1153\",\"type\":\"Circle\"},{\"attributes\":{\"coordinates\":null,\"data_source\":{\"id\":\"1014\"},\"glyph\":{\"id\":\"1146\"},\"group\":null,\"hover_glyph\":null,\"muted_glyph\":{\"id\":\"1148\"},\"nonselection_glyph\":{\"id\":\"1147\"},\"view\":{\"id\":\"1150\"}},\"id\":\"1149\",\"type\":\"GlyphRenderer\"},{\"attributes\":{\"fill_color\":{\"value\":\"#35B778\"},\"hatch_color\":{\"value\":\"#35B778\"},\"line_color\":{\"value\":\"#35B778\"},\"x\":{\"field\":\"TimeGenerated\"},\"y\":{\"field\":\"y_index\"}},\"id\":\"1188\",\"type\":\"Circle\"},{\"attributes\":{\"fill_alpha\":{\"value\":0.2},\"fill_color\":{\"value\":\"#28AE7F\"},\"hatch_alpha\":{\"value\":0.2},\"hatch_color\":{\"value\":\"#28AE7F\"},\"line_alpha\":{\"value\":0.2},\"line_color\":{\"value\":\"#28AE7F\"},\"x\":{\"field\":\"TimeGenerated\"},\"y\":{\"field\":\"y_index\"}},\"id\":\"1184\",\"type\":\"Circle\"},{\"attributes\":{\"fill_alpha\":{\"value\":0.2},\"fill_color\":{\"value\":\"#25828E\"},\"hatch_alpha\":{\"value\":0.2},\"hatch_color\":{\"value\":\"#25828E\"},\"line_alpha\":{\"value\":0.2},\"line_color\":{\"value\":\"#25828E\"},\"x\":{\"field\":\"TimeGenerated\"},\"y\":{\"field\":\"y_index\"}},\"id\":\"1154\",\"type\":\"Circle\"},{\"attributes\":{\"data\":{\"AppResourceProvider\":[\"OneDrive\",\"OneDrive\",\"OneDrive\",\"OneDrive\",\"OneDrive\",\"OneDrive\",\"OneDrive\",\"OneDrive\",\"OneDrive\",\"OneDrive\",\"OneDrive\",\"OneDrive\",\"OneDrive\",\"OneDrive\",\"OneDrive\",\"OneDrive\",\"OneDrive\",\"OneDrive\",\"OneDrive\",\"OneDrive\",\"OneDrive\",\"OneDrive\",\"OneDrive\",\"OneDrive\",\"OneDrive\"],\"IPAddress\":[\"52.104.99.175\",\"52.104.99.160\",\"52.104.99.166\",\"69.130.255.13\",\"52.104.99.175\",\"52.104.99.160\",\"69.130.255.13\",\"216.56.240.114\",\"69.130.255.13\",\"69.130.255.13\",\"69.130.255.13\",\"69.130.255.13\",\"69.130.255.13\",\"52.104.99.172\",\"52.104.99.161\",\"52.104.99.175\",\"69.130.255.13\",\"69.130.255.13\",\"52.104.99.174\",\"52.104.99.166\",\"52.104.99.161\",\"52.104.99.164\",\"52.104.99.170\",\"52.104.99.165\",\"52.104.99.160\"],\"Operation\":[\"FilePreviewed\",\"FilePreviewed\",\"FilePreviewed\",\"FileSyncDownloadedFull\",\"FilePreviewed\",\"FilePreviewed\",\"FileSyncUploadedFull\",\"FileSyncDownloadedFull\",\"FileAccessed\",\"CompanyLinkUsed\",\"AddedToGroup\",\"PageViewed\",\"FilePreviewed\",\"FilePreviewed\",\"FilePreviewed\",\"FilePreviewed\",\"FileModified\",\"FilePreviewed\",\"FileAccessed\",\"FilePreviewed\",\"FilePreviewed\",\"FilePreviewed\",\"FilePreviewed\",\"FilePreviewed\",\"FilePreviewed\"],\"TimeGenerated\":{\"__ndarray__\":\"AIBjhTGOeEIAgGOFMY54QgCAY4UxjnhCAIA+djiOeEIAgJAJOo54QgCA1wA9jnhCAIDcDj6OeEIAAJgPPo54QgAAwCZAjnhCAADAJkCOeEIAAMAmQI54QgCAzi5AjnhCAAAa1kqOeEIAgNaXUY54QgCA1pdRjnhCAIDWl1GOeEIAgF6lUo54QgCALVqNjnhCAIAtWo2OeEIAgPsIjo54QgCA+wiOjnhCAID7CI6OeEIAAKBXk454QgAAoFeTjnhCAIDeV5OOeEI=\",\"dtype\":\"float64\",\"order\":\"little\",\"shape\":[25]},\"index\":[414,416,415,575,583,629,610,609,124,125,126,127,189,533,531,530,367,269,270,455,456,457,459,460,458],\"y_index\":[16,16,16,16,16,16,16,16,16,16,16,16,16,16,16,16,16,16,16,16,16,16,16,16,16]},\"selected\":{\"id\":\"1442\"},\"selection_policy\":{\"id\":\"1441\"}},\"id\":\"1019\",\"type\":\"ColumnDataSource\"},{\"attributes\":{\"fill_color\":{\"value\":\"#228A8D\"},\"hatch_color\":{\"value\":\"#228A8D\"},\"line_color\":{\"value\":\"#228A8D\"},\"x\":{\"field\":\"TimeGenerated\"},\"y\":{\"field\":\"y_index\"}},\"id\":\"1158\",\"type\":\"Circle\"},{\"attributes\":{\"source\":{\"id\":\"1015\"}},\"id\":\"1156\",\"type\":\"CDSView\"},{\"attributes\":{\"fill_alpha\":{\"value\":0.1},\"fill_color\":{\"value\":\"#228A8D\"},\"hatch_alpha\":{\"value\":0.1},\"hatch_color\":{\"value\":\"#228A8D\"},\"line_alpha\":{\"value\":0.1},\"line_color\":{\"value\":\"#228A8D\"},\"x\":{\"field\":\"TimeGenerated\"},\"y\":{\"field\":\"y_index\"}},\"id\":\"1159\",\"type\":\"Circle\"},{\"attributes\":{\"coordinates\":null,\"data_source\":{\"id\":\"1015\"},\"glyph\":{\"id\":\"1152\"},\"group\":null,\"hover_glyph\":null,\"muted_glyph\":{\"id\":\"1154\"},\"nonselection_glyph\":{\"id\":\"1153\"},\"view\":{\"id\":\"1156\"}},\"id\":\"1155\",\"type\":\"GlyphRenderer\"},{\"attributes\":{\"label\":{\"value\":\"Azure Portal\"},\"renderers\":[{\"id\":\"1241\"}]},\"id\":\"1243\",\"type\":\"LegendItem\"},{\"attributes\":{\"fill_alpha\":{\"value\":0.5},\"fill_color\":{\"value\":\"#481A6C\"},\"hatch_alpha\":{\"value\":0.5},\"hatch_color\":{\"value\":\"#481A6C\"},\"line_alpha\":{\"value\":0.5},\"line_color\":{\"value\":\"#481A6C\"},\"marker\":{\"value\":\"diamond\"},\"size\":{\"value\":10},\"x\":{\"field\":\"TimeGenerated\"},\"y\":{\"field\":\"y_index\"}},\"id\":\"1245\",\"type\":\"Scatter\"},{\"attributes\":{\"fill_alpha\":{\"value\":0.2},\"fill_color\":{\"value\":\"#228A8D\"},\"hatch_alpha\":{\"value\":0.2},\"hatch_color\":{\"value\":\"#228A8D\"},\"line_alpha\":{\"value\":0.2},\"line_color\":{\"value\":\"#228A8D\"},\"x\":{\"field\":\"TimeGenerated\"},\"y\":{\"field\":\"y_index\"}},\"id\":\"1160\",\"type\":\"Circle\"},{\"attributes\":{\"fill_color\":{\"value\":\"#1F948B\"},\"hatch_color\":{\"value\":\"#1F948B\"},\"line_color\":{\"value\":\"#1F948B\"},\"x\":{\"field\":\"TimeGenerated\"},\"y\":{\"field\":\"y_index\"}},\"id\":\"1164\",\"type\":\"Circle\"},{\"attributes\":{\"source\":{\"id\":\"1016\"}},\"id\":\"1162\",\"type\":\"CDSView\"},{\"attributes\":{\"fill_alpha\":{\"value\":0.1},\"fill_color\":{\"value\":\"#1F948B\"},\"hatch_alpha\":{\"value\":0.1},\"hatch_color\":{\"value\":\"#1F948B\"},\"line_alpha\":{\"value\":0.1},\"line_color\":{\"value\":\"#1F948B\"},\"x\":{\"field\":\"TimeGenerated\"},\"y\":{\"field\":\"y_index\"}},\"id\":\"1165\",\"type\":\"Circle\"},{\"attributes\":{\"coordinates\":null,\"data_source\":{\"id\":\"1016\"},\"glyph\":{\"id\":\"1158\"},\"group\":null,\"hover_glyph\":null,\"muted_glyph\":{\"id\":\"1160\"},\"nonselection_glyph\":{\"id\":\"1159\"},\"view\":{\"id\":\"1162\"}},\"id\":\"1161\",\"type\":\"GlyphRenderer\"},{\"attributes\":{\"coordinates\":null,\"data_source\":{\"id\":\"1019\"},\"glyph\":{\"id\":\"1176\"},\"group\":null,\"hover_glyph\":null,\"muted_glyph\":{\"id\":\"1178\"},\"nonselection_glyph\":{\"id\":\"1177\"},\"view\":{\"id\":\"1180\"}},\"id\":\"1179\",\"type\":\"GlyphRenderer\"},{\"attributes\":{\"fill_alpha\":{\"value\":0.1},\"fill_color\":{\"value\":\"#28AE7F\"},\"hatch_alpha\":{\"value\":0.1},\"hatch_color\":{\"value\":\"#28AE7F\"},\"line_alpha\":{\"value\":0.1},\"line_color\":{\"value\":\"#28AE7F\"},\"x\":{\"field\":\"TimeGenerated\"},\"y\":{\"field\":\"y_index\"}},\"id\":\"1183\",\"type\":\"Circle\"},{\"attributes\":{\"fill_alpha\":{\"value\":0.2},\"fill_color\":{\"value\":\"#1F948B\"},\"hatch_alpha\":{\"value\":0.2},\"hatch_color\":{\"value\":\"#1F948B\"},\"line_alpha\":{\"value\":0.2},\"line_color\":{\"value\":\"#1F948B\"},\"x\":{\"field\":\"TimeGenerated\"},\"y\":{\"field\":\"y_index\"}},\"id\":\"1166\",\"type\":\"Circle\"},{\"attributes\":{\"fill_color\":{\"value\":\"#1E9C89\"},\"hatch_color\":{\"value\":\"#1E9C89\"},\"line_color\":{\"value\":\"#1E9C89\"},\"x\":{\"field\":\"TimeGenerated\"},\"y\":{\"field\":\"y_index\"}},\"id\":\"1170\",\"type\":\"Circle\"},{\"attributes\":{\"source\":{\"id\":\"1017\"}},\"id\":\"1168\",\"type\":\"CDSView\"},{\"attributes\":{\"fill_alpha\":{\"value\":0.1},\"fill_color\":{\"value\":\"#1E9C89\"},\"hatch_alpha\":{\"value\":0.1},\"hatch_color\":{\"value\":\"#1E9C89\"},\"line_alpha\":{\"value\":0.1},\"line_color\":{\"value\":\"#1E9C89\"},\"x\":{\"field\":\"TimeGenerated\"},\"y\":{\"field\":\"y_index\"}},\"id\":\"1171\",\"type\":\"Circle\"},{\"attributes\":{\"coordinates\":null,\"data_source\":{\"id\":\"1017\"},\"glyph\":{\"id\":\"1164\"},\"group\":null,\"hover_glyph\":null,\"muted_glyph\":{\"id\":\"1166\"},\"nonselection_glyph\":{\"id\":\"1165\"},\"view\":{\"id\":\"1168\"}},\"id\":\"1167\",\"type\":\"GlyphRenderer\"},{\"attributes\":{\"source\":{\"id\":\"1019\"}},\"id\":\"1180\",\"type\":\"CDSView\"},{\"attributes\":{\"fill_color\":{\"value\":\"#28AE7F\"},\"hatch_color\":{\"value\":\"#28AE7F\"},\"line_color\":{\"value\":\"#28AE7F\"},\"x\":{\"field\":\"TimeGenerated\"},\"y\":{\"field\":\"y_index\"}},\"id\":\"1182\",\"type\":\"Circle\"},{\"attributes\":{\"source\":{\"id\":\"1018\"}},\"id\":\"1174\",\"type\":\"CDSView\"},{\"attributes\":{\"coordinates\":null,\"data_source\":{\"id\":\"1018\"},\"glyph\":{\"id\":\"1170\"},\"group\":null,\"hover_glyph\":null,\"muted_glyph\":{\"id\":\"1172\"},\"nonselection_glyph\":{\"id\":\"1171\"},\"view\":{\"id\":\"1174\"}},\"id\":\"1173\",\"type\":\"GlyphRenderer\"},{\"attributes\":{\"fill_alpha\":{\"value\":0.1},\"fill_color\":{\"value\":\"#21A685\"},\"hatch_alpha\":{\"value\":0.1},\"hatch_color\":{\"value\":\"#21A685\"},\"line_alpha\":{\"value\":0.1},\"line_color\":{\"value\":\"#21A685\"},\"x\":{\"field\":\"TimeGenerated\"},\"y\":{\"field\":\"y_index\"}},\"id\":\"1177\",\"type\":\"Circle\"},{\"attributes\":{\"fill_alpha\":{\"value\":0.2},\"fill_color\":{\"value\":\"#1E9C89\"},\"hatch_alpha\":{\"value\":0.2},\"hatch_color\":{\"value\":\"#1E9C89\"},\"line_alpha\":{\"value\":0.2},\"line_color\":{\"value\":\"#1E9C89\"},\"x\":{\"field\":\"TimeGenerated\"},\"y\":{\"field\":\"y_index\"}},\"id\":\"1172\",\"type\":\"Circle\"},{\"attributes\":{\"coordinates\":null,\"data_source\":{\"id\":\"1022\"},\"glyph\":{\"id\":\"1194\"},\"group\":null,\"hover_glyph\":null,\"muted_glyph\":{\"id\":\"1196\"},\"nonselection_glyph\":{\"id\":\"1195\"},\"view\":{\"id\":\"1198\"}},\"id\":\"1197\",\"type\":\"GlyphRenderer\"},{\"attributes\":{\"fill_alpha\":{\"value\":0.1},\"fill_color\":{\"value\":\"#481A6C\"},\"hatch_alpha\":{\"value\":0.1},\"hatch_color\":{\"value\":\"#481A6C\"},\"line_alpha\":{\"value\":0.1},\"line_color\":{\"value\":\"#481A6C\"},\"marker\":{\"value\":\"diamond\"},\"size\":{\"value\":10},\"x\":{\"field\":\"TimeGenerated\"},\"y\":{\"field\":\"y_index\"}},\"id\":\"1246\",\"type\":\"Scatter\"},{\"attributes\":{\"data\":{\"AppResourceProvider\":[\"Microsoft App Access Panel\",\"Microsoft App Access Panel\",\"Microsoft App Access Panel\",\"Microsoft App Access Panel\",\"Microsoft App Access Panel\",\"Microsoft App Access Panel\",\"Microsoft App Access Panel\",\"Microsoft App Access Panel\",\"Microsoft App Access Panel\",\"Microsoft App Access Panel\",\"Microsoft App Access Panel\",\"Microsoft App Access Panel\",\"Microsoft App Access Panel\",\"Microsoft App Access Panel\",\"Microsoft App Access Panel\",\"Microsoft App Access Panel\",\"Microsoft App Access Panel\",\"Microsoft App Access Panel\",\"Microsoft App Access Panel\",\"Microsoft App Access Panel\",\"Microsoft App Access Panel\",\"Microsoft App Access Panel\",\"Microsoft App Access Panel\"],\"IPAddress\":[\"69.130.255.13\",\"69.130.255.13\",\"69.130.255.13\",\"69.130.255.13\",\"69.130.255.13\",\"69.130.255.13\",\"69.130.255.13\",\"69.130.255.13\",\"69.130.255.13\",\"69.130.255.13\",\"69.130.255.13\",\"69.130.255.13\",\"69.130.255.13\",\"69.130.255.13\",\"69.130.255.13\",\"69.130.255.13\",\"69.130.255.13\",\"69.130.255.13\",\"69.130.255.13\",\"69.130.255.13\",\"69.130.255.13\",\"69.130.255.13\",\"69.130.255.13\"],\"Operation\":[\"Sign-in activity\",\"Sign-in activity\",\"Sign-in activity\",\"Sign-in activity\",\"Sign-in activity\",\"Sign-in activity\",\"Sign-in activity\",\"Sign-in activity\",\"Sign-in activity\",\"Sign-in activity\",\"Sign-in activity\",\"Sign-in activity\",\"Sign-in activity\",\"Sign-in activity\",\"Sign-in activity\",\"Sign-in activity\",\"Sign-in activity\",\"Sign-in activity\",\"Sign-in activity\",\"Sign-in activity\",\"Sign-in activity\",\"Sign-in activity\",\"Sign-in activity\"],\"TimeGenerated\":{\"__ndarray__\":\"ptmWuZaOeELjMY8Gl454QnF1A0KXjnhCczzKmJeOeEJSMDjel454QgD8LxKYjnhCxzvacJiOeEJiDJO0mI54QoHlxPuYjnhC7pZ6SJmOeEK2seCVmY54QhsdztiZjnhCRMNIJpqOeELfYwx3mo54QuFAwaOajnhCL/vb/JqOeEKgWCRIm454Qvjrh4ybjnhCk+zMypuOeEIIrJAdnI54Qhe/uG6cjnhCwUCYt5yOeEIbnUP6nI54Qg==\",\"dtype\":\"float64\",\"order\":\"little\",\"shape\":[23]},\"index\":[37,40,42,43,33,41,46,50,34,45,49,35,38,44,51,48,54,55,47,52,53,14,12],\"y_index\":[7,7,7,7,7,7,7,7,7,7,7,7,7,7,7,7,7,7,7,7,7,7,7]},\"selected\":{\"id\":\"1424\"},\"selection_policy\":{\"id\":\"1423\"}},\"id\":\"1010\",\"type\":\"ColumnDataSource\"},{\"attributes\":{\"fill_alpha\":{\"value\":0.2},\"fill_color\":{\"value\":\"#21A685\"},\"hatch_alpha\":{\"value\":0.2},\"hatch_color\":{\"value\":\"#21A685\"},\"line_alpha\":{\"value\":0.2},\"line_color\":{\"value\":\"#21A685\"},\"x\":{\"field\":\"TimeGenerated\"},\"y\":{\"field\":\"y_index\"}},\"id\":\"1178\",\"type\":\"Circle\"},{\"attributes\":{},\"id\":\"1431\",\"type\":\"UnionRenderers\"},{\"attributes\":{},\"id\":\"1432\",\"type\":\"Selection\"},{\"attributes\":{},\"id\":\"1433\",\"type\":\"UnionRenderers\"},{\"attributes\":{},\"id\":\"1434\",\"type\":\"Selection\"},{\"attributes\":{\"mantissas\":[1,2,5],\"max_interval\":500.0,\"num_minor_ticks\":0},\"id\":\"1458\",\"type\":\"AdaptiveTicker\"},{\"attributes\":{\"base\":60,\"mantissas\":[1,2,5,10,15,20,30],\"max_interval\":1800000.0,\"min_interval\":1000.0,\"num_minor_ticks\":0},\"id\":\"1459\",\"type\":\"AdaptiveTicker\"},{\"attributes\":{\"days\":[1,8,15,22]},\"id\":\"1463\",\"type\":\"DaysTicker\"},{\"attributes\":{\"base\":24,\"mantissas\":[1,2,4,6,8,12],\"max_interval\":43200000.0,\"min_interval\":3600000.0,\"num_minor_ticks\":0},\"id\":\"1460\",\"type\":\"AdaptiveTicker\"},{\"attributes\":{},\"id\":\"1469\",\"type\":\"YearsTicker\"},{\"attributes\":{\"days\":[1,4,7,10,13,16,19,22,25,28]},\"id\":\"1462\",\"type\":\"DaysTicker\"},{\"attributes\":{\"days\":[1,2,3,4,5,6,7,8,9,10,11,12,13,14,15,16,17,18,19,20,21,22,23,24,25,26,27,28,29,30,31]},\"id\":\"1461\",\"type\":\"DaysTicker\"},{\"attributes\":{\"months\":[0,6]},\"id\":\"1468\",\"type\":\"MonthsTicker\"},{\"attributes\":{\"days\":[1,15]},\"id\":\"1464\",\"type\":\"DaysTicker\"},{\"attributes\":{\"months\":[0,1,2,3,4,5,6,7,8,9,10,11]},\"id\":\"1465\",\"type\":\"MonthsTicker\"},{\"attributes\":{\"months\":[0,2,4,6,8,10]},\"id\":\"1466\",\"type\":\"MonthsTicker\"},{\"attributes\":{\"months\":[0,4,8]},\"id\":\"1467\",\"type\":\"MonthsTicker\"},{\"attributes\":{},\"id\":\"1435\",\"type\":\"UnionRenderers\"},{\"attributes\":{},\"id\":\"1436\",\"type\":\"Selection\"},{\"attributes\":{},\"id\":\"1437\",\"type\":\"UnionRenderers\"},{\"attributes\":{},\"id\":\"1438\",\"type\":\"Selection\"},{\"attributes\":{},\"id\":\"1406\",\"type\":\"AllLabels\"},{\"attributes\":{\"below\":[{\"id\":\"1039\"}],\"center\":[{\"id\":\"1042\"},{\"id\":\"1046\"}],\"left\":[{\"id\":\"1043\"},{\"id\":\"1398\"}],\"min_border_left\":50,\"renderers\":[{\"id\":\"1234\"},{\"id\":\"1241\"},{\"id\":\"1248\"},{\"id\":\"1255\"},{\"id\":\"1262\"},{\"id\":\"1269\"},{\"id\":\"1276\"},{\"id\":\"1283\"},{\"id\":\"1290\"},{\"id\":\"1297\"},{\"id\":\"1304\"},{\"id\":\"1311\"},{\"id\":\"1318\"},{\"id\":\"1325\"},{\"id\":\"1332\"},{\"id\":\"1339\"},{\"id\":\"1346\"},{\"id\":\"1353\"},{\"id\":\"1360\"},{\"id\":\"1367\"},{\"id\":\"1374\"},{\"id\":\"1381\"},{\"id\":\"1388\"},{\"id\":\"1395\"}],\"title\":{\"id\":\"1029\"},\"toolbar\":{\"id\":\"1053\"},\"width\":900,\"x_range\":{\"id\":\"1031\"},\"x_scale\":{\"id\":\"1035\"},\"y_range\":{\"id\":\"1033\"},\"y_scale\":{\"id\":\"1037\"}},\"id\":\"1028\",\"subtype\":\"Figure\",\"type\":\"Plot\"},{\"attributes\":{},\"id\":\"1447\",\"type\":\"UnionRenderers\"},{\"attributes\":{},\"id\":\"1037\",\"type\":\"LinearScale\"},{\"attributes\":{\"data\":{\"AppResourceProvider\":[\"Windows Sign In\",\"Windows Sign In\",\"Windows Sign In\",\"Windows Sign In\",\"Windows Sign In\"],\"IPAddress\":[\"69.130.255.13\",\"216.56.240.114\",\"69.130.255.13\",\"69.130.255.13\",\"216.56.240.114\"],\"Operation\":[\"Sign-in activity\",\"Sign-in activity\",\"Sign-in activity\",\"Sign-in activity\",\"Sign-in activity\"],\"TimeGenerated\":{\"__ndarray__\":\"jYFtMzSOeEIfBVqwUY54Qhk+N4dXjnhCBBJaq4yOeEIZWssfjo54Qg==\",\"dtype\":\"float64\",\"order\":\"little\",\"shape\":[5]},\"index\":[0,103,109,19,20],\"y_index\":[23,23,23,23,23]},\"selected\":{\"id\":\"1456\"},\"selection_policy\":{\"id\":\"1455\"}},\"id\":\"1026\",\"type\":\"ColumnDataSource\"},{\"attributes\":{},\"id\":\"1448\",\"type\":\"Selection\"},{\"attributes\":{\"end\":23.041666666666668,\"start\":-0.041666666666666664},\"id\":\"1033\",\"type\":\"Range1d\"},{\"attributes\":{\"axis_label\":\"Event Time\",\"coordinates\":null,\"formatter\":{\"id\":\"1228\"},\"group\":null,\"major_label_policy\":{\"id\":\"1406\"},\"ticker\":{\"id\":\"1040\"}},\"id\":\"1039\",\"type\":\"DatetimeAxis\"},{\"attributes\":{},\"id\":\"1035\",\"type\":\"LinearScale\"},{\"attributes\":{},\"id\":\"1449\",\"type\":\"UnionRenderers\"},{\"attributes\":{},\"id\":\"1450\",\"type\":\"Selection\"},{\"attributes\":{\"end\":1687567195545.6426,\"start\":1687361798586.7598},\"id\":\"1031\",\"type\":\"Range1d\"},{\"attributes\":{\"below\":[{\"id\":\"1071\"},{\"id\":\"1076\"}],\"center\":[{\"id\":\"1074\"}],\"height\":120,\"renderers\":[{\"id\":\"1083\"},{\"id\":\"1089\"},{\"id\":\"1095\"},{\"id\":\"1101\"},{\"id\":\"1107\"},{\"id\":\"1113\"},{\"id\":\"1119\"},{\"id\":\"1125\"},{\"id\":\"1131\"},{\"id\":\"1137\"},{\"id\":\"1143\"},{\"id\":\"1149\"},{\"id\":\"1155\"},{\"id\":\"1161\"},{\"id\":\"1167\"},{\"id\":\"1173\"},{\"id\":\"1179\"},{\"id\":\"1185\"},{\"id\":\"1191\"},{\"id\":\"1197\"},{\"id\":\"1203\"},{\"id\":\"1209\"},{\"id\":\"1215\"},{\"id\":\"1221\"}],\"title\":{\"id\":\"1061\"},\"toolbar\":{\"id\":\"1075\"},\"toolbar_location\":null,\"width\":900,\"x_range\":{\"id\":\"1063\"},\"x_scale\":{\"id\":\"1067\"},\"y_range\":{\"id\":\"1065\"},\"y_scale\":{\"id\":\"1069\"}},\"id\":\"1060\",\"subtype\":\"Figure\",\"type\":\"Plot\"},{\"attributes\":{\"days\":[\"%m-%d %H:%M\"],\"hours\":[\"%H:%M:%S\"],\"milliseconds\":[\"%H:%M:%S.%3N\"],\"minutes\":[\"%H:%M:%S\"],\"seconds\":[\"%H:%M:%S\"]},\"id\":\"1077\",\"type\":\"DatetimeTickFormatter\"},{\"attributes\":{},\"id\":\"1451\",\"type\":\"UnionRenderers\"},{\"attributes\":{},\"id\":\"1452\",\"type\":\"Selection\"},{\"attributes\":{},\"id\":\"1453\",\"type\":\"UnionRenderers\"},{\"attributes\":{},\"id\":\"1454\",\"type\":\"Selection\"},{\"attributes\":{\"data\":{\"AppResourceProvider\":[\"Salesforce\",\"Salesforce\"],\"IPAddress\":[\"69.130.255.13\",\"69.130.255.13\"],\"Operation\":[\"Sign-in activity\",\"Sign-in activity\"],\"TimeGenerated\":{\"__ndarray__\":\"RPPDT0COeELbHbznlI54Qg==\",\"dtype\":\"float64\",\"order\":\"little\",\"shape\":[2]},\"index\":[59,32],\"y_index\":[18,18]},\"selected\":{\"id\":\"1446\"},\"selection_policy\":{\"id\":\"1445\"}},\"id\":\"1021\",\"type\":\"ColumnDataSource\"},{\"attributes\":{\"fill_alpha\":{\"value\":0.1},\"fill_color\":{\"value\":\"#481A6C\"},\"hatch_alpha\":{\"value\":0.1},\"hatch_color\":{\"value\":\"#481A6C\"},\"line_alpha\":{\"value\":0.1},\"line_color\":{\"value\":\"#481A6C\"},\"x\":{\"field\":\"TimeGenerated\"},\"y\":{\"field\":\"y_index\"}},\"id\":\"1093\",\"type\":\"Circle\"},{\"attributes\":{\"fill_alpha\":{\"value\":0.2},\"fill_color\":{\"value\":\"#460E61\"},\"hatch_alpha\":{\"value\":0.2},\"hatch_color\":{\"value\":\"#460E61\"},\"line_alpha\":{\"value\":0.2},\"line_color\":{\"value\":\"#460E61\"},\"marker\":{\"value\":\"diamond\"},\"size\":{\"value\":10},\"x\":{\"field\":\"TimeGenerated\"},\"y\":{\"field\":\"y_index\"}},\"id\":\"1240\",\"type\":\"Scatter\"},{\"attributes\":{\"data\":{\"AppResourceProvider\":[\"WEDC Service Desk\"],\"IPAddress\":[\"69.130.255.13\"],\"Operation\":[\"Sign-in activity\"],\"TimeGenerated\":{\"__ndarray__\":\"qJzrgT6OeEI=\",\"dtype\":\"float64\",\"order\":\"little\",\"shape\":[1]},\"index\":[62],\"y_index\":[22]},\"selected\":{\"id\":\"1454\"},\"selection_policy\":{\"id\":\"1453\"}},\"id\":\"1025\",\"type\":\"ColumnDataSource\"},{\"attributes\":{},\"id\":\"1415\",\"type\":\"UnionRenderers\"},{\"attributes\":{\"fill_alpha\":{\"value\":0.2},\"fill_color\":{\"value\":\"#440154\"},\"hatch_alpha\":{\"value\":0.2},\"hatch_color\":{\"value\":\"#440154\"},\"line_alpha\":{\"value\":0.2},\"line_color\":{\"value\":\"#440154\"},\"x\":{\"field\":\"TimeGenerated\"},\"y\":{\"field\":\"y_index\"}},\"id\":\"1082\",\"type\":\"Circle\"},{\"attributes\":{\"fill_color\":{\"value\":\"#440154\"},\"hatch_color\":{\"value\":\"#440154\"},\"line_color\":{\"value\":\"#440154\"},\"x\":{\"field\":\"TimeGenerated\"},\"y\":{\"field\":\"y_index\"}},\"id\":\"1080\",\"type\":\"Circle\"},{\"attributes\":{},\"id\":\"1416\",\"type\":\"Selection\"},{\"attributes\":{\"coordinates\":null,\"formatter\":{\"id\":\"1077\"},\"group\":null,\"major_label_policy\":{\"id\":\"1408\"},\"ticker\":{\"id\":\"1072\"}},\"id\":\"1071\",\"type\":\"DatetimeAxis\"},{\"attributes\":{\"num_minor_ticks\":5,\"tickers\":[{\"id\":\"1471\"},{\"id\":\"1472\"},{\"id\":\"1473\"},{\"id\":\"1474\"},{\"id\":\"1475\"},{\"id\":\"1476\"},{\"id\":\"1477\"},{\"id\":\"1478\"},{\"id\":\"1479\"},{\"id\":\"1480\"},{\"id\":\"1481\"},{\"id\":\"1482\"}]},\"id\":\"1072\",\"type\":\"DatetimeTicker\"},{\"attributes\":{\"end\":1687575753752.2627,\"start\":1687353240380.14},\"id\":\"1063\",\"type\":\"Range1d\"},{\"attributes\":{\"fill_color\":{\"value\":\"#45327F\"},\"hatch_color\":{\"value\":\"#45327F\"},\"line_color\":{\"value\":\"#45327F\"},\"x\":{\"field\":\"TimeGenerated\"},\"y\":{\"field\":\"y_index\"}},\"id\":\"1104\",\"type\":\"Circle\"},{\"attributes\":{\"coordinates\":null,\"data_source\":{\"id\":\"1004\"},\"glyph\":{\"id\":\"1238\"},\"group\":null,\"hover_glyph\":null,\"muted_glyph\":{\"id\":\"1240\"},\"nonselection_glyph\":{\"id\":\"1239\"},\"view\":{\"id\":\"1242\"}},\"id\":\"1241\",\"type\":\"GlyphRenderer\"},{\"attributes\":{\"coordinates\":null,\"data_source\":{\"id\":\"1005\"},\"glyph\":{\"id\":\"1092\"},\"group\":null,\"hover_glyph\":null,\"muted_glyph\":{\"id\":\"1094\"},\"nonselection_glyph\":{\"id\":\"1093\"},\"view\":{\"id\":\"1096\"}},\"id\":\"1095\",\"type\":\"GlyphRenderer\"},{\"attributes\":{\"source\":{\"id\":\"1023\"}},\"id\":\"1204\",\"type\":\"CDSView\"},{\"attributes\":{},\"id\":\"1417\",\"type\":\"UnionRenderers\"},{\"attributes\":{\"coordinates\":null,\"data_source\":{\"id\":\"1023\"},\"glyph\":{\"id\":\"1200\"},\"group\":null,\"hover_glyph\":null,\"muted_glyph\":{\"id\":\"1202\"},\"nonselection_glyph\":{\"id\":\"1201\"},\"view\":{\"id\":\"1204\"}},\"id\":\"1203\",\"type\":\"GlyphRenderer\"},{\"attributes\":{},\"id\":\"1418\",\"type\":\"Selection\"},{\"attributes\":{\"align\":\"right\",\"coordinates\":null,\"group\":null,\"text\":\"Drag the middle or edges of the selection box to change the range in the main chart\",\"text_font_size\":\"10px\"},\"id\":\"1076\",\"type\":\"Title\"},{\"attributes\":{\"fill_alpha\":{\"value\":0.2},\"fill_color\":{\"value\":\"#45327F\"},\"hatch_alpha\":{\"value\":0.2},\"hatch_color\":{\"value\":\"#45327F\"},\"line_alpha\":{\"value\":0.2},\"line_color\":{\"value\":\"#45327F\"},\"x\":{\"field\":\"TimeGenerated\"},\"y\":{\"field\":\"y_index\"}},\"id\":\"1106\",\"type\":\"Circle\"},{\"attributes\":{\"fill_alpha\":{\"value\":0.2},\"fill_color\":{\"value\":\"#460E61\"},\"hatch_alpha\":{\"value\":0.2},\"hatch_color\":{\"value\":\"#460E61\"},\"line_alpha\":{\"value\":0.2},\"line_color\":{\"value\":\"#460E61\"},\"x\":{\"field\":\"TimeGenerated\"},\"y\":{\"field\":\"y_index\"}},\"id\":\"1088\",\"type\":\"Circle\"},{\"attributes\":{},\"id\":\"1067\",\"type\":\"LinearScale\"},{\"attributes\":{},\"id\":\"1069\",\"type\":\"LinearScale\"},{\"attributes\":{\"coordinates\":null,\"group\":null,\"text\":\"Range Selector\"},\"id\":\"1061\",\"type\":\"Title\"},{\"attributes\":{\"source\":{\"id\":\"1004\"}},\"id\":\"1090\",\"type\":\"CDSView\"},{\"attributes\":{\"fill_color\":{\"value\":\"#472777\"},\"hatch_color\":{\"value\":\"#472777\"},\"line_color\":{\"value\":\"#472777\"},\"x\":{\"field\":\"TimeGenerated\"},\"y\":{\"field\":\"y_index\"}},\"id\":\"1098\",\"type\":\"Circle\"},{\"attributes\":{\"fill_alpha\":{\"value\":0.1},\"fill_color\":{\"value\":\"#460E61\"},\"hatch_alpha\":{\"value\":0.1},\"hatch_color\":{\"value\":\"#460E61\"},\"line_alpha\":{\"value\":0.1},\"line_color\":{\"value\":\"#460E61\"},\"x\":{\"field\":\"TimeGenerated\"},\"y\":{\"field\":\"y_index\"}},\"id\":\"1087\",\"type\":\"Circle\"},{\"attributes\":{\"axis\":{\"id\":\"1071\"},\"coordinates\":null,\"group\":null,\"ticker\":null},\"id\":\"1074\",\"type\":\"Grid\"},{\"attributes\":{},\"id\":\"1419\",\"type\":\"UnionRenderers\"},{\"attributes\":{\"coordinates\":null,\"data_source\":{\"id\":\"1004\"},\"glyph\":{\"id\":\"1086\"},\"group\":null,\"hover_glyph\":null,\"muted_glyph\":{\"id\":\"1088\"},\"nonselection_glyph\":{\"id\":\"1087\"},\"view\":{\"id\":\"1090\"}},\"id\":\"1089\",\"type\":\"GlyphRenderer\"},{\"attributes\":{},\"id\":\"1420\",\"type\":\"Selection\"},{\"attributes\":{\"fill_color\":{\"value\":\"#460E61\"},\"hatch_color\":{\"value\":\"#460E61\"},\"line_color\":{\"value\":\"#460E61\"},\"x\":{\"field\":\"TimeGenerated\"},\"y\":{\"field\":\"y_index\"}},\"id\":\"1086\",\"type\":\"Circle\"},{\"attributes\":{\"active_multi\":{\"id\":\"1223\"},\"tools\":[{\"id\":\"1223\"}]},\"id\":\"1075\",\"type\":\"Toolbar\"},{\"attributes\":{\"fill_alpha\":{\"value\":0.2},\"fill_color\":{\"value\":\"#472777\"},\"hatch_alpha\":{\"value\":0.2},\"hatch_color\":{\"value\":\"#472777\"},\"line_alpha\":{\"value\":0.2},\"line_color\":{\"value\":\"#472777\"},\"x\":{\"field\":\"TimeGenerated\"},\"y\":{\"field\":\"y_index\"}},\"id\":\"1100\",\"type\":\"Circle\"},{\"attributes\":{\"fill_alpha\":{\"value\":0.2},\"fill_color\":{\"value\":\"#55C666\"},\"hatch_alpha\":{\"value\":0.2},\"hatch_color\":{\"value\":\"#55C666\"},\"line_alpha\":{\"value\":0.2},\"line_color\":{\"value\":\"#55C666\"},\"x\":{\"field\":\"TimeGenerated\"},\"y\":{\"field\":\"y_index\"}},\"id\":\"1202\",\"type\":\"Circle\"},{\"attributes\":{\"coordinates\":null,\"data_source\":{\"id\":\"1007\"},\"glyph\":{\"id\":\"1104\"},\"group\":null,\"hover_glyph\":null,\"muted_glyph\":{\"id\":\"1106\"},\"nonselection_glyph\":{\"id\":\"1105\"},\"view\":{\"id\":\"1108\"}},\"id\":\"1107\",\"type\":\"GlyphRenderer\"},{\"attributes\":{\"source\":{\"id\":\"1003\"}},\"id\":\"1084\",\"type\":\"CDSView\"},{\"attributes\":{\"fill_color\":{\"value\":\"#6BCD59\"},\"hatch_color\":{\"value\":\"#6BCD59\"},\"line_color\":{\"value\":\"#6BCD59\"},\"x\":{\"field\":\"TimeGenerated\"},\"y\":{\"field\":\"y_index\"}},\"id\":\"1206\",\"type\":\"Circle\"},{\"attributes\":{\"fill_color\":{\"value\":\"#55C666\"},\"hatch_color\":{\"value\":\"#55C666\"},\"line_color\":{\"value\":\"#55C666\"},\"x\":{\"field\":\"TimeGenerated\"},\"y\":{\"field\":\"y_index\"}},\"id\":\"1200\",\"type\":\"Circle\"},{\"attributes\":{\"fill_alpha\":{\"value\":0.1},\"fill_color\":{\"value\":\"#55C666\"},\"hatch_alpha\":{\"value\":0.1},\"hatch_color\":{\"value\":\"#55C666\"},\"line_alpha\":{\"value\":0.1},\"line_color\":{\"value\":\"#55C666\"},\"x\":{\"field\":\"TimeGenerated\"},\"y\":{\"field\":\"y_index\"}},\"id\":\"1201\",\"type\":\"Circle\"},{\"attributes\":{\"fill_color\":{\"value\":\"#481A6C\"},\"hatch_color\":{\"value\":\"#481A6C\"},\"line_color\":{\"value\":\"#481A6C\"},\"x\":{\"field\":\"TimeGenerated\"},\"y\":{\"field\":\"y_index\"}},\"id\":\"1092\",\"type\":\"Circle\"},{\"attributes\":{\"coordinates\":null,\"data_source\":{\"id\":\"1003\"},\"glyph\":{\"id\":\"1080\"},\"group\":null,\"hover_glyph\":null,\"muted_glyph\":{\"id\":\"1082\"},\"nonselection_glyph\":{\"id\":\"1081\"},\"view\":{\"id\":\"1084\"}},\"id\":\"1083\",\"type\":\"GlyphRenderer\"},{\"attributes\":{\"source\":{\"id\":\"1005\"}},\"id\":\"1096\",\"type\":\"CDSView\"},{\"attributes\":{},\"id\":\"1421\",\"type\":\"UnionRenderers\"},{\"attributes\":{\"data\":{\"AppResourceProvider\":[\"Office Online Core SSO\"],\"IPAddress\":[\"69.130.255.13\"],\"Operation\":[\"Sign-in activity\"],\"TimeGenerated\":{\"__ndarray__\":\"ecuTPECOeEI=\",\"dtype\":\"float64\",\"order\":\"little\",\"shape\":[1]},\"index\":[66],\"y_index\":[12]},\"selected\":{\"id\":\"1434\"},\"selection_policy\":{\"id\":\"1433\"}},\"id\":\"1015\",\"type\":\"ColumnDataSource\"},{\"attributes\":{},\"id\":\"1422\",\"type\":\"Selection\"},{\"attributes\":{\"source\":{\"id\":\"1006\"}},\"id\":\"1102\",\"type\":\"CDSView\"},{\"attributes\":{\"fill_alpha\":{\"value\":0.2},\"fill_color\":{\"value\":\"#481A6C\"},\"hatch_alpha\":{\"value\":0.2},\"hatch_color\":{\"value\":\"#481A6C\"},\"line_alpha\":{\"value\":0.2},\"line_color\":{\"value\":\"#481A6C\"},\"x\":{\"field\":\"TimeGenerated\"},\"y\":{\"field\":\"y_index\"}},\"id\":\"1094\",\"type\":\"Circle\"},{\"attributes\":{\"fill_alpha\":{\"value\":0.1},\"fill_color\":{\"value\":\"#472777\"},\"hatch_alpha\":{\"value\":0.1},\"hatch_color\":{\"value\":\"#472777\"},\"line_alpha\":{\"value\":0.1},\"line_color\":{\"value\":\"#472777\"},\"x\":{\"field\":\"TimeGenerated\"},\"y\":{\"field\":\"y_index\"}},\"id\":\"1099\",\"type\":\"Circle\"},{\"attributes\":{},\"id\":\"1065\",\"type\":\"DataRange1d\"},{\"attributes\":{\"data\":{\"AppResourceProvider\":[\"Office Online Loki SSO\"],\"IPAddress\":[\"69.130.255.13\"],\"Operation\":[\"Sign-in activity\"],\"TimeGenerated\":{\"__ndarray__\":\"z5fyVUCOeEI=\",\"dtype\":\"float64\",\"order\":\"little\",\"shape\":[1]},\"index\":[61],\"y_index\":[13]},\"selected\":{\"id\":\"1436\"},\"selection_policy\":{\"id\":\"1435\"}},\"id\":\"1016\",\"type\":\"ColumnDataSource\"},{\"attributes\":{\"fill_alpha\":{\"value\":0.1},\"fill_color\":{\"value\":\"#45327F\"},\"hatch_alpha\":{\"value\":0.1},\"hatch_color\":{\"value\":\"#45327F\"},\"line_alpha\":{\"value\":0.1},\"line_color\":{\"value\":\"#45327F\"},\"x\":{\"field\":\"TimeGenerated\"},\"y\":{\"field\":\"y_index\"}},\"id\":\"1105\",\"type\":\"Circle\"},{\"attributes\":{\"coordinates\":null,\"data_source\":{\"id\":\"1006\"},\"glyph\":{\"id\":\"1098\"},\"group\":null,\"hover_glyph\":null,\"muted_glyph\":{\"id\":\"1100\"},\"nonselection_glyph\":{\"id\":\"1099\"},\"view\":{\"id\":\"1102\"}},\"id\":\"1101\",\"type\":\"GlyphRenderer\"},{\"attributes\":{\"source\":{\"id\":\"1007\"}},\"id\":\"1108\",\"type\":\"CDSView\"},{\"attributes\":{},\"id\":\"1050\",\"type\":\"SaveTool\"},{\"attributes\":{\"dimensions\":\"width\"},\"id\":\"1047\",\"type\":\"WheelZoomTool\"},{\"attributes\":{\"data\":{\"AppResourceProvider\":[\"Salesforce Partial\"],\"IPAddress\":[\"69.130.255.13\"],\"Operation\":[\"Sign-in activity\"],\"TimeGenerated\":{\"__ndarray__\":\"rL7Ow5COeEI=\",\"dtype\":\"float64\",\"order\":\"little\",\"shape\":[1]},\"index\":[29],\"y_index\":[19]},\"selected\":{\"id\":\"1448\"},\"selection_policy\":{\"id\":\"1447\"}},\"id\":\"1022\",\"type\":\"ColumnDataSource\"},{\"attributes\":{\"bottom_units\":\"screen\",\"coordinates\":null,\"fill_alpha\":0.5,\"fill_color\":\"lightgrey\",\"group\":null,\"left_units\":\"screen\",\"level\":\"overlay\",\"line_alpha\":1.0,\"line_color\":\"black\",\"line_dash\":[4,4],\"line_width\":2,\"right_units\":\"screen\",\"syncable\":false,\"top_units\":\"screen\"},\"id\":\"1052\",\"type\":\"BoxAnnotation\"},{\"attributes\":{},\"id\":\"1044\",\"type\":\"BasicTicker\"},{\"attributes\":{\"coordinates\":null,\"formatter\":{\"id\":\"1403\"},\"group\":null,\"major_label_overrides\":{\"0\":\"APIM-Client-DevPortal-OAuth\",\"1\":\"Azure Portal\",\"10\":\"Office 365 SharePoint Online\",\"11\":\"Office Online Augmentation Loop SSO\",\"12\":\"Office Online Core SSO\",\"13\":\"Office Online Loki SSO\",\"14\":\"Office Online Search SSO\",\"15\":\"Office365 Shell WCSS-Client\",\"16\":\"OneDrive\",\"17\":\"SWSD - Test Environment\",\"18\":\"Salesforce\",\"19\":\"Salesforce Partial\",\"2\":\"Exchange\",\"20\":\"SharePoint\",\"21\":\"SharePoint Online Web Client Extensibility\",\"22\":\"WEDC Service Desk\",\"23\":\"Windows Sign In\",\"3\":\"Inform Development\",\"4\":\"KustoClient\",\"5\":\"Microsoft 365 Security and Compliance Center\",\"6\":\"Microsoft Account Controls V2\",\"7\":\"Microsoft App Access Panel\",\"8\":\"MicrosoftTeams\",\"9\":\"My Apps\"},\"major_label_policy\":{\"id\":\"1404\"},\"ticker\":{\"id\":\"1044\"}},\"id\":\"1043\",\"type\":\"LinearAxis\"},{\"attributes\":{\"tools\":[{\"id\":\"1027\"},{\"id\":\"1047\"},{\"id\":\"1048\"},{\"id\":\"1049\"},{\"id\":\"1050\"},{\"id\":\"1051\"}]},\"id\":\"1053\",\"type\":\"Toolbar\"},{\"attributes\":{\"dimensions\":\"width\"},\"id\":\"1051\",\"type\":\"PanTool\"},{\"attributes\":{\"axis\":{\"id\":\"1039\"},\"coordinates\":null,\"group\":null,\"minor_grid_line_alpha\":0.3,\"minor_grid_line_color\":\"navy\",\"ticker\":null},\"id\":\"1042\",\"type\":\"Grid\"},{\"attributes\":{\"coordinates\":null,\"group\":null,\"text\":\"Timeline: Azure account activity by Provider\"},\"id\":\"1029\",\"type\":\"Title\"},{\"attributes\":{\"num_minor_ticks\":10,\"tickers\":[{\"id\":\"1458\"},{\"id\":\"1459\"},{\"id\":\"1460\"},{\"id\":\"1461\"},{\"id\":\"1462\"},{\"id\":\"1463\"},{\"id\":\"1464\"},{\"id\":\"1465\"},{\"id\":\"1466\"},{\"id\":\"1467\"},{\"id\":\"1468\"},{\"id\":\"1469\"}]},\"id\":\"1040\",\"type\":\"DatetimeTicker\"},{\"attributes\":{\"data\":{\"AppResourceProvider\":[\"Office365 Shell WCSS-Client\",\"Office365 Shell WCSS-Client\",\"Office365 Shell WCSS-Client\",\"Office365 Shell WCSS-Client\",\"Office365 Shell WCSS-Client\",\"Office365 Shell WCSS-Client\",\"Office365 Shell WCSS-Client\",\"Office365 Shell WCSS-Client\"],\"IPAddress\":[\"69.130.255.13\",\"69.130.255.13\",\"69.130.255.13\",\"69.130.255.13\",\"69.130.255.13\",\"69.130.255.13\",\"69.130.255.13\",\"69.130.255.13\"],\"Operation\":[\"Sign-in activity\",\"Sign-in activity\",\"Sign-in activity\",\"Sign-in activity\",\"Sign-in activity\",\"Sign-in activity\",\"Sign-in activity\",\"Sign-in activity\"],\"TimeGenerated\":{\"__ndarray__\":\"otuhPkCOeEI7eeQ/QI54QpH5NUBAjnhCfYcHRUCOeEKciPgRnY54QiGUOx2djnhC1USKIZ2OeEJvxgkrnY54Qg==\",\"dtype\":\"float64\",\"order\":\"little\",\"shape\":[8]},\"index\":[65,67,69,58,15,16,18,13],\"y_index\":[15,15,15,15,15,15,15,15]},\"selected\":{\"id\":\"1440\"},\"selection_policy\":{\"id\":\"1439\"}},\"id\":\"1018\",\"type\":\"ColumnDataSource\"},{\"attributes\":{},\"id\":\"1049\",\"type\":\"ResetTool\"},{\"attributes\":{\"overlay\":{\"id\":\"1052\"}},\"id\":\"1048\",\"type\":\"BoxZoomTool\"},{\"attributes\":{\"data\":{\"AppResourceProvider\":[\"Office Online Search SSO\"],\"IPAddress\":[\"69.130.255.13\"],\"Operation\":[\"Sign-in activity\"],\"TimeGenerated\":{\"__ndarray__\":\"tHzyQUCOeEI=\",\"dtype\":\"float64\",\"order\":\"little\",\"shape\":[1]},\"index\":[63],\"y_index\":[14]},\"selected\":{\"id\":\"1438\"},\"selection_policy\":{\"id\":\"1437\"}},\"id\":\"1017\",\"type\":\"ColumnDataSource\"},{\"attributes\":{\"fill_alpha\":{\"value\":0.1},\"fill_color\":{\"value\":\"#440154\"},\"hatch_alpha\":{\"value\":0.1},\"hatch_color\":{\"value\":\"#440154\"},\"line_alpha\":{\"value\":0.1},\"line_color\":{\"value\":\"#440154\"},\"x\":{\"field\":\"TimeGenerated\"},\"y\":{\"field\":\"y_index\"}},\"id\":\"1081\",\"type\":\"Circle\"},{\"attributes\":{\"axis\":{\"id\":\"1043\"},\"coordinates\":null,\"dimension\":1,\"grid_line_color\":null,\"group\":null,\"ticker\":null},\"id\":\"1046\",\"type\":\"Grid\"}],\"root_ids\":[\"1399\"]},\"title\":\"Bokeh Application\",\"version\":\"2.4.3\"}};\n  const render_items = [{\"docid\":\"124b2774-10a4-4442-9a6c-6a53ff0ddefd\",\"root_ids\":[\"1399\"],\"roots\":{\"1399\":\"35e57cef-01f5-416b-a99b-a46c13b62923\"}}];\n  root.Bokeh.embed.embed_items_notebook(docs_json, render_items);\n  }\n  if (root.Bokeh !== undefined) {\n    embed_document(root);\n  } else {\n    let attempts = 0;\n    const timer = setInterval(function(root) {\n      if (root.Bokeh !== undefined) {\n        clearInterval(timer);\n        embed_document(root);\n      } else {\n        attempts++;\n        if (attempts > 100) {\n          clearInterval(timer);\n          console.log(\"Bokeh: ERROR: Unable to run BokehJS code because BokehJS library is missing\");\n        }\n      }\n    }, 10, root)\n  }\n})(window);",
      "application/vnd.bokehjs_exec.v0+json": ""
     },
     "metadata": {
      "application/vnd.bokehjs_exec.v0+json": {
       "id": "1399"
      }
     },
     "output_type": "display_data"
    },
    {
     "data": {
      "text/html": [
       "<div class=\"bk-root\">\n",
       "        <a href=\"https://bokeh.org\" target=\"_blank\" class=\"bk-logo bk-logo-small bk-logo-notebook\"></a>\n",
       "        <span id=\"1898\">Loading BokehJS ...</span>\n",
       "    </div>\n"
      ]
     },
     "metadata": {},
     "output_type": "display_data"
    },
    {
     "data": {
      "application/javascript": "(function(root) {\n  function now() {\n    return new Date();\n  }\n\n  const force = true;\n\n  if (typeof root._bokeh_onload_callbacks === \"undefined\" || force === true) {\n    root._bokeh_onload_callbacks = [];\n    root._bokeh_is_loading = undefined;\n  }\n\nconst JS_MIME_TYPE = 'application/javascript';\n  const HTML_MIME_TYPE = 'text/html';\n  const EXEC_MIME_TYPE = 'application/vnd.bokehjs_exec.v0+json';\n  const CLASS_NAME = 'output_bokeh rendered_html';\n\n  /**\n   * Render data to the DOM node\n   */\n  function render(props, node) {\n    const script = document.createElement(\"script\");\n    node.appendChild(script);\n  }\n\n  /**\n   * Handle when an output is cleared or removed\n   */\n  function handleClearOutput(event, handle) {\n    const cell = handle.cell;\n\n    const id = cell.output_area._bokeh_element_id;\n    const server_id = cell.output_area._bokeh_server_id;\n    // Clean up Bokeh references\n    if (id != null && id in Bokeh.index) {\n      Bokeh.index[id].model.document.clear();\n      delete Bokeh.index[id];\n    }\n\n    if (server_id !== undefined) {\n      // Clean up Bokeh references\n      const cmd_clean = \"from bokeh.io.state import curstate; print(curstate().uuid_to_server['\" + server_id + \"'].get_sessions()[0].document.roots[0]._id)\";\n      cell.notebook.kernel.execute(cmd_clean, {\n        iopub: {\n          output: function(msg) {\n            const id = msg.content.text.trim();\n            if (id in Bokeh.index) {\n              Bokeh.index[id].model.document.clear();\n              delete Bokeh.index[id];\n            }\n          }\n        }\n      });\n      // Destroy server and session\n      const cmd_destroy = \"import bokeh.io.notebook as ion; ion.destroy_server('\" + server_id + \"')\";\n      cell.notebook.kernel.execute(cmd_destroy);\n    }\n  }\n\n  /**\n   * Handle when a new output is added\n   */\n  function handleAddOutput(event, handle) {\n    const output_area = handle.output_area;\n    const output = handle.output;\n\n    // limit handleAddOutput to display_data with EXEC_MIME_TYPE content only\n    if ((output.output_type != \"display_data\") || (!Object.prototype.hasOwnProperty.call(output.data, EXEC_MIME_TYPE))) {\n      return\n    }\n\n    const toinsert = output_area.element.find(\".\" + CLASS_NAME.split(' ')[0]);\n\n    if (output.metadata[EXEC_MIME_TYPE][\"id\"] !== undefined) {\n      toinsert[toinsert.length - 1].firstChild.textContent = output.data[JS_MIME_TYPE];\n      // store reference to embed id on output_area\n      output_area._bokeh_element_id = output.metadata[EXEC_MIME_TYPE][\"id\"];\n    }\n    if (output.metadata[EXEC_MIME_TYPE][\"server_id\"] !== undefined) {\n      const bk_div = document.createElement(\"div\");\n      bk_div.innerHTML = output.data[HTML_MIME_TYPE];\n      const script_attrs = bk_div.children[0].attributes;\n      for (let i = 0; i < script_attrs.length; i++) {\n        toinsert[toinsert.length - 1].firstChild.setAttribute(script_attrs[i].name, script_attrs[i].value);\n        toinsert[toinsert.length - 1].firstChild.textContent = bk_div.children[0].textContent\n      }\n      // store reference to server id on output_area\n      output_area._bokeh_server_id = output.metadata[EXEC_MIME_TYPE][\"server_id\"];\n    }\n  }\n\n  function register_renderer(events, OutputArea) {\n\n    function append_mime(data, metadata, element) {\n      // create a DOM node to render to\n      const toinsert = this.create_output_subarea(\n        metadata,\n        CLASS_NAME,\n        EXEC_MIME_TYPE\n      );\n      this.keyboard_manager.register_events(toinsert);\n      // Render to node\n      const props = {data: data, metadata: metadata[EXEC_MIME_TYPE]};\n      render(props, toinsert[toinsert.length - 1]);\n      element.append(toinsert);\n      return toinsert\n    }\n\n    /* Handle when an output is cleared or removed */\n    events.on('clear_output.CodeCell', handleClearOutput);\n    events.on('delete.Cell', handleClearOutput);\n\n    /* Handle when a new output is added */\n    events.on('output_added.OutputArea', handleAddOutput);\n\n    /**\n     * Register the mime type and append_mime function with output_area\n     */\n    OutputArea.prototype.register_mime_type(EXEC_MIME_TYPE, append_mime, {\n      /* Is output safe? */\n      safe: true,\n      /* Index of renderer in `output_area.display_order` */\n      index: 0\n    });\n  }\n\n  // register the mime type if in Jupyter Notebook environment and previously unregistered\n  if (root.Jupyter !== undefined) {\n    const events = require('base/js/events');\n    const OutputArea = require('notebook/js/outputarea').OutputArea;\n\n    if (OutputArea.prototype.mime_types().indexOf(EXEC_MIME_TYPE) == -1) {\n      register_renderer(events, OutputArea);\n    }\n  }\n  if (typeof (root._bokeh_timeout) === \"undefined\" || force === true) {\n    root._bokeh_timeout = Date.now() + 5000;\n    root._bokeh_failed_load = false;\n  }\n\n  const NB_LOAD_WARNING = {'data': {'text/html':\n     \"<div style='background-color: #fdd'>\\n\"+\n     \"<p>\\n\"+\n     \"BokehJS does not appear to have successfully loaded. If loading BokehJS from CDN, this \\n\"+\n     \"may be due to a slow or bad network connection. Possible fixes:\\n\"+\n     \"</p>\\n\"+\n     \"<ul>\\n\"+\n     \"<li>re-rerun `output_notebook()` to attempt to load from CDN again, or</li>\\n\"+\n     \"<li>use INLINE resources instead, as so:</li>\\n\"+\n     \"</ul>\\n\"+\n     \"<code>\\n\"+\n     \"from bokeh.resources import INLINE\\n\"+\n     \"output_notebook(resources=INLINE)\\n\"+\n     \"</code>\\n\"+\n     \"</div>\"}};\n\n  function display_loaded() {\n    const el = document.getElementById(\"1898\");\n    if (el != null) {\n      el.textContent = \"BokehJS is loading...\";\n    }\n    if (root.Bokeh !== undefined) {\n      if (el != null) {\n        el.textContent = \"BokehJS \" + root.Bokeh.version + \" successfully loaded.\";\n      }\n    } else if (Date.now() < root._bokeh_timeout) {\n      setTimeout(display_loaded, 100)\n    }\n  }\n\n  function run_callbacks() {\n    try {\n      root._bokeh_onload_callbacks.forEach(function(callback) {\n        if (callback != null)\n          callback();\n      });\n    } finally {\n      delete root._bokeh_onload_callbacks\n    }\n    console.debug(\"Bokeh: all callbacks have finished\");\n  }\n\n  function load_libs(css_urls, js_urls, callback) {\n    if (css_urls == null) css_urls = [];\n    if (js_urls == null) js_urls = [];\n\n    root._bokeh_onload_callbacks.push(callback);\n    if (root._bokeh_is_loading > 0) {\n      console.debug(\"Bokeh: BokehJS is being loaded, scheduling callback at\", now());\n      return null;\n    }\n    if (js_urls == null || js_urls.length === 0) {\n      run_callbacks();\n      return null;\n    }\n    console.debug(\"Bokeh: BokehJS not loaded, scheduling load and callback at\", now());\n    root._bokeh_is_loading = css_urls.length + js_urls.length;\n\n    function on_load() {\n      root._bokeh_is_loading--;\n      if (root._bokeh_is_loading === 0) {\n        console.debug(\"Bokeh: all BokehJS libraries/stylesheets loaded\");\n        run_callbacks()\n      }\n    }\n\n    function on_error(url) {\n      console.error(\"failed to load \" + url);\n    }\n\n    for (let i = 0; i < css_urls.length; i++) {\n      const url = css_urls[i];\n      const element = document.createElement(\"link\");\n      element.onload = on_load;\n      element.onerror = on_error.bind(null, url);\n      element.rel = \"stylesheet\";\n      element.type = \"text/css\";\n      element.href = url;\n      console.debug(\"Bokeh: injecting link tag for BokehJS stylesheet: \", url);\n      document.body.appendChild(element);\n    }\n\n    for (let i = 0; i < js_urls.length; i++) {\n      const url = js_urls[i];\n      const element = document.createElement('script');\n      element.onload = on_load;\n      element.onerror = on_error.bind(null, url);\n      element.async = false;\n      element.src = url;\n      console.debug(\"Bokeh: injecting script tag for BokehJS library: \", url);\n      document.head.appendChild(element);\n    }\n  };\n\n  function inject_raw_css(css) {\n    const element = document.createElement(\"style\");\n    element.appendChild(document.createTextNode(css));\n    document.body.appendChild(element);\n  }\n\n  const js_urls = [\"https://cdn.bokeh.org/bokeh/release/bokeh-2.4.3.min.js\", \"https://cdn.bokeh.org/bokeh/release/bokeh-gl-2.4.3.min.js\", \"https://cdn.bokeh.org/bokeh/release/bokeh-widgets-2.4.3.min.js\", \"https://cdn.bokeh.org/bokeh/release/bokeh-tables-2.4.3.min.js\", \"https://cdn.bokeh.org/bokeh/release/bokeh-mathjax-2.4.3.min.js\"];\n  const css_urls = [];\n\n  const inline_js = [    function(Bokeh) {\n      Bokeh.set_log_level(\"info\");\n    },\nfunction(Bokeh) {\n    }\n  ];\n\n  function run_inline_js() {\n    if (root.Bokeh !== undefined || force === true) {\n          for (let i = 0; i < inline_js.length; i++) {\n      inline_js[i].call(root, root.Bokeh);\n    }\nif (force === true) {\n        display_loaded();\n      }} else if (Date.now() < root._bokeh_timeout) {\n      setTimeout(run_inline_js, 100);\n    } else if (!root._bokeh_failed_load) {\n      console.log(\"Bokeh: BokehJS failed to load within specified timeout.\");\n      root._bokeh_failed_load = true;\n    } else if (force !== true) {\n      const cell = $(document.getElementById(\"1898\")).parents('.cell').data().cell;\n      cell.output_area.append_execute_result(NB_LOAD_WARNING)\n    }\n  }\n\n  if (root._bokeh_is_loading === 0) {\n    console.debug(\"Bokeh: BokehJS loaded, going straight to plotting\");\n    run_inline_js();\n  } else {\n    load_libs(css_urls, js_urls, function() {\n      console.debug(\"Bokeh: BokehJS plotting callback run at\", now());\n      run_inline_js();\n    });\n  }\n}(window));",
      "application/vnd.bokehjs_load.v0+json": ""
     },
     "metadata": {},
     "output_type": "display_data"
    },
    {
     "data": {
      "text/html": [
       "\n",
       "  <div class=\"bk-root\" id=\"9f145236-58e3-458f-ab35-702fd1ce2cc5\" data-root-id=\"2393\"></div>\n"
      ]
     },
     "metadata": {},
     "output_type": "display_data"
    },
    {
     "data": {
      "application/javascript": "(function(root) {\n  function embed_document(root) {\n  const docs_json = {\"b31184a0-2b53-4e8a-a9b4-a207b5823ec1\":{\"defs\":[],\"roots\":{\"references\":[{\"attributes\":{\"children\":[{\"id\":\"1931\"},{\"id\":\"1963\"}]},\"id\":\"2393\",\"type\":\"Column\"},{\"attributes\":{\"data\":{\"AppResourceProvider\":[\"OneDrive\",\"OneDrive\",\"OneDrive\"],\"IPAddress\":[\"52.104.99.160\",\"52.104.99.160\",\"52.104.99.160\"],\"Operation\":[\"FilePreviewed\",\"FilePreviewed\",\"FilePreviewed\"],\"TimeGenerated\":{\"__ndarray__\":\"AIBjhTGOeEIAgNcAPY54QgCA3leTjnhC\",\"dtype\":\"float64\",\"order\":\"little\",\"shape\":[3]},\"index\":[416,629,458],\"y_index\":[17,17,17]},\"selected\":{\"id\":\"2438\"},\"selection_policy\":{\"id\":\"2437\"}},\"id\":\"1916\",\"type\":\"ColumnDataSource\"},{\"attributes\":{\"data\":{\"AppResourceProvider\":[\"OneDrive\",\"OneDrive\"],\"IPAddress\":[\"52.104.99.166\",\"52.104.99.166\"],\"Operation\":[\"FilePreviewed\",\"FilePreviewed\"],\"TimeGenerated\":{\"__ndarray__\":\"AIBjhTGOeEIAgPsIjo54Qg==\",\"dtype\":\"float64\",\"order\":\"little\",\"shape\":[2]},\"index\":[415,455],\"y_index\":[21,21]},\"selected\":{\"id\":\"2446\"},\"selection_policy\":{\"id\":\"2445\"}},\"id\":\"1920\",\"type\":\"ColumnDataSource\"},{\"attributes\":{},\"id\":\"2439\",\"type\":\"UnionRenderers\"},{\"attributes\":{},\"id\":\"2463\",\"type\":\"UnionRenderers\"},{\"attributes\":{},\"id\":\"2440\",\"type\":\"Selection\"},{\"attributes\":{},\"id\":\"2464\",\"type\":\"Selection\"},{\"attributes\":{\"data\":{\"AppResourceProvider\":[\"OneDrive\"],\"IPAddress\":[\"52.104.99.165\"],\"Operation\":[\"FilePreviewed\"],\"TimeGenerated\":{\"__ndarray__\":\"AACgV5OOeEI=\",\"dtype\":\"float64\",\"order\":\"little\",\"shape\":[1]},\"index\":[460],\"y_index\":[20]},\"selected\":{\"id\":\"2444\"},\"selection_policy\":{\"id\":\"2443\"}},\"id\":\"1919\",\"type\":\"ColumnDataSource\"},{\"attributes\":{},\"id\":\"2441\",\"type\":\"UnionRenderers\"},{\"attributes\":{},\"id\":\"2442\",\"type\":\"Selection\"},{\"attributes\":{},\"id\":\"2402\",\"type\":\"AllLabels\"},{\"attributes\":{\"data\":{\"AppResourceProvider\":[\"OneDrive\",\"OneDrive\"],\"IPAddress\":[\"52.104.99.161\",\"52.104.99.161\"],\"Operation\":[\"FilePreviewed\",\"FilePreviewed\"],\"TimeGenerated\":{\"__ndarray__\":\"AIDWl1GOeEIAgPsIjo54Qg==\",\"dtype\":\"float64\",\"order\":\"little\",\"shape\":[2]},\"index\":[531,456],\"y_index\":[18,18]},\"selected\":{\"id\":\"2440\"},\"selection_policy\":{\"id\":\"2439\"}},\"id\":\"1917\",\"type\":\"ColumnDataSource\"},{\"attributes\":{\"callback\":null,\"tooltips\":[[\"AppResourceProvider\",\"@AppResourceProvider\"],[\"Operation\",\"@Operation\"],[\"TimeGenerated\",\"@TimeGenerated\"],[\"IPAddress\",\"@IPAddress\"]]},\"id\":\"1930\",\"type\":\"HoverTool\"},{\"attributes\":{},\"id\":\"2403\",\"type\":\"UnionRenderers\"},{\"attributes\":{},\"id\":\"2443\",\"type\":\"UnionRenderers\"},{\"attributes\":{},\"id\":\"2404\",\"type\":\"Selection\"},{\"attributes\":{},\"id\":\"2444\",\"type\":\"Selection\"},{\"attributes\":{\"days\":[\"%m-%d %H:%M\"],\"hours\":[\"%H:%M:%S\"],\"milliseconds\":[\"%H:%M:%S.%3N\"],\"minutes\":[\"%H:%M:%S\"],\"seconds\":[\"%H:%M:%S\"]},\"id\":\"1980\",\"type\":\"DatetimeTickFormatter\"},{\"attributes\":{\"data\":{\"AppResourceProvider\":[\"Exchange\",\"Exchange\",\"Exchange\",\"Exchange\",\"Exchange\",\"Exchange\",\"Exchange\",\"Exchange\",\"Exchange\",\"Exchange\",\"Exchange\",\"Exchange\"],\"IPAddress\":[\"2600:387:c:5516::3\",\"2600:387:c:5516::3\",\"2600:387:c:5516::3\",\"2600:387:c:5516::3\",\"2600:387:c:5516::3\",\"2600:387:c:5516::3\",\"2600:387:c:5516::3\",\"2600:387:c:5516::3\",\"2600:387:c:5516::3\",\"2600:387:c:5516::3\",\"2600:387:c:5516::3\",\"2600:387:c:5516::3\"],\"Operation\":[\"MailItemsAccessed\",\"MailItemsAccessed\",\"MailItemsAccessed\",\"MailItemsAccessed\",\"MailItemsAccessed\",\"MailItemsAccessed\",\"MailItemsAccessed\",\"MailItemsAccessed\",\"MailItemsAccessed\",\"MailItemsAccessed\",\"MailItemsAccessed\",\"MailItemsAccessed\"],\"TimeGenerated\":{\"__ndarray__\":\"AIAmX/6NeEIAAGS5MY54QgAAaF8yjnhCAIBw4YaOeEIAgHDhho54QgCAlxmHjnhCAIAUGoeOeEIAgHmJio54QgAAIMyKjnhCAABWOoyOeEIAgGpBjI54QgCA50GMjnhC\",\"dtype\":\"float64\",\"order\":\"little\",\"shape\":[12]},\"index\":[139,417,555,263,264,267,266,453,209,286,285,283],\"y_index\":[9,9,9,9,9,9,9,9,9,9,9,9]},\"selected\":{\"id\":\"2422\"},\"selection_policy\":{\"id\":\"2421\"}},\"id\":\"1908\",\"type\":\"ColumnDataSource\"},{\"attributes\":{},\"id\":\"2405\",\"type\":\"UnionRenderers\"},{\"attributes\":{},\"id\":\"2445\",\"type\":\"UnionRenderers\"},{\"attributes\":{\"data\":{\"AppResourceProvider\":[\"Exchange\"],\"IPAddress\":[\"2603:10b6:208:3ac::10\"],\"Operation\":[\"MailItemsAccessed\"],\"TimeGenerated\":{\"__ndarray__\":\"AABVAZmOeEI=\",\"dtype\":\"float64\",\"order\":\"little\",\"shape\":[1]},\"index\":[309],\"y_index\":[11]},\"selected\":{\"id\":\"2426\"},\"selection_policy\":{\"id\":\"2425\"}},\"id\":\"1910\",\"type\":\"ColumnDataSource\"},{\"attributes\":{},\"id\":\"2406\",\"type\":\"Selection\"},{\"attributes\":{},\"id\":\"2446\",\"type\":\"Selection\"},{\"attributes\":{\"below\":[{\"id\":\"1974\"},{\"id\":\"1979\"}],\"center\":[{\"id\":\"1977\"}],\"height\":155,\"renderers\":[{\"id\":\"1986\"},{\"id\":\"1992\"},{\"id\":\"1998\"},{\"id\":\"2004\"},{\"id\":\"2010\"},{\"id\":\"2016\"},{\"id\":\"2022\"},{\"id\":\"2028\"},{\"id\":\"2034\"},{\"id\":\"2040\"},{\"id\":\"2046\"},{\"id\":\"2052\"},{\"id\":\"2058\"},{\"id\":\"2064\"},{\"id\":\"2070\"},{\"id\":\"2076\"},{\"id\":\"2082\"},{\"id\":\"2088\"},{\"id\":\"2094\"},{\"id\":\"2100\"},{\"id\":\"2106\"},{\"id\":\"2112\"},{\"id\":\"2118\"},{\"id\":\"2124\"},{\"id\":\"2130\"},{\"id\":\"2136\"},{\"id\":\"2142\"},{\"id\":\"2148\"},{\"id\":\"2154\"},{\"id\":\"2160\"},{\"id\":\"2166\"}],\"title\":{\"id\":\"1964\"},\"toolbar\":{\"id\":\"1978\"},\"toolbar_location\":null,\"width\":900,\"x_range\":{\"id\":\"1966\"},\"x_scale\":{\"id\":\"1970\"},\"y_range\":{\"id\":\"1968\"},\"y_scale\":{\"id\":\"1972\"}},\"id\":\"1963\",\"subtype\":\"Figure\",\"type\":\"Plot\"},{\"attributes\":{\"below\":[{\"id\":\"1942\"}],\"center\":[{\"id\":\"1945\"},{\"id\":\"1949\"}],\"height\":775,\"left\":[{\"id\":\"1946\"},{\"id\":\"2392\"}],\"min_border_left\":50,\"renderers\":[{\"id\":\"2179\"},{\"id\":\"2186\"},{\"id\":\"2193\"},{\"id\":\"2200\"},{\"id\":\"2207\"},{\"id\":\"2214\"},{\"id\":\"2221\"},{\"id\":\"2228\"},{\"id\":\"2235\"},{\"id\":\"2242\"},{\"id\":\"2249\"},{\"id\":\"2256\"},{\"id\":\"2263\"},{\"id\":\"2270\"},{\"id\":\"2277\"},{\"id\":\"2284\"},{\"id\":\"2291\"},{\"id\":\"2298\"},{\"id\":\"2305\"},{\"id\":\"2312\"},{\"id\":\"2319\"},{\"id\":\"2326\"},{\"id\":\"2333\"},{\"id\":\"2340\"},{\"id\":\"2347\"},{\"id\":\"2354\"},{\"id\":\"2361\"},{\"id\":\"2368\"},{\"id\":\"2375\"},{\"id\":\"2382\"},{\"id\":\"2389\"}],\"title\":{\"id\":\"1932\"},\"toolbar\":{\"id\":\"1956\"},\"width\":900,\"x_range\":{\"id\":\"1934\"},\"x_scale\":{\"id\":\"1938\"},\"y_range\":{\"id\":\"1936\"},\"y_scale\":{\"id\":\"1940\"}},\"id\":\"1931\",\"subtype\":\"Figure\",\"type\":\"Plot\"},{\"attributes\":{\"data\":{\"AppResourceProvider\":[\"MicrosoftTeams\",\"MicrosoftTeams\",\"MicrosoftTeams\",\"MicrosoftTeams\",\"MicrosoftTeams\"],\"IPAddress\":[\"::ffff:69.130.255.13\",\"::ffff:69.130.255.13\",\"::ffff:69.130.255.13\",\"::ffff:69.130.255.13\",\"::ffff:69.130.255.13\"],\"Operation\":[\"MessageCreatedHasLink\",\"MessageCreatedHasLink\",\"MessageSent\",\"MessageCreatedHasLink\",\"MessageSent\"],\"TimeGenerated\":{\"__ndarray__\":\"AIBmwkaOeEIAgJrdR454QgCAhvhKjnhCAICG+EqOeEIAgDIbho54Qg==\",\"dtype\":\"float64\",\"order\":\"little\",\"shape\":[5]},\"index\":[486,501,503,502,447],\"y_index\":[30,30,30,30,30]},\"selected\":{\"id\":\"2464\"},\"selection_policy\":{\"id\":\"2463\"}},\"id\":\"1929\",\"type\":\"ColumnDataSource\"},{\"attributes\":{\"data\":{\"AppResourceProvider\":[\"Exchange\",\"Exchange\",\"Exchange\",\"Exchange\",\"Exchange\",\"Exchange\",\"Exchange\",\"Exchange\",\"Exchange\",\"Exchange\",\"Exchange\",\"Exchange\"],\"IPAddress\":[\"2603:10b6:208:481::10\",\"2603:10b6:208:481::10\",\"2603:10b6:208:481::10\",\"2603:10b6:208:481::10\",\"2603:10b6:208:481::10\",\"2603:10b6:208:481::10\",\"2603:10b6:208:481::10\",\"2603:10b6:208:481::10\",\"2603:10b6:208:481::10\",\"2603:10b6:208:481::10\",\"2603:10b6:208:481::10\",\"2603:10b6:208:481::10\"],\"Operation\":[\"MailItemsAccessed\",\"MailItemsAccessed\",\"MailItemsAccessed\",\"MailItemsAccessed\",\"Create\",\"MailItemsAccessed\",\"Create\",\"Create\",\"MailItemsAccessed\",\"MailItemsAccessed\",\"MailItemsAccessed\",\"MailItemsAccessed\"],\"TimeGenerated\":{\"__ndarray__\":\"AACMJvyNeEIAgBRi/o14QgCAJJg6jnhCAIC5q0uOeEIAAOV7V454QgAA/fRXjnhCAAB7yFuOeEIAgD7xYo54QgAAMMOSjnhCAICgf5WOeEIAgLb4nI54QgAABgudjnhC\",\"dtype\":\"float64\",\"order\":\"little\",\"shape\":[12]},\"index\":[117,137,623,493,514,526,536,534,244,479,321,342],\"y_index\":[13,13,13,13,13,13,13,13,13,13,13,13]},\"selected\":{\"id\":\"2430\"},\"selection_policy\":{\"id\":\"2429\"}},\"id\":\"1912\",\"type\":\"ColumnDataSource\"},{\"attributes\":{\"coordinates\":null,\"formatter\":{\"id\":\"1980\"},\"group\":null,\"major_label_policy\":{\"id\":\"2402\"},\"ticker\":{\"id\":\"1975\"}},\"id\":\"1974\",\"type\":\"DatetimeAxis\"},{\"attributes\":{\"data\":{\"AppResourceProvider\":[\"Exchange\",\"Exchange\",\"Exchange\",\"Exchange\",\"Exchange\",\"Exchange\",\"Exchange\",\"Exchange\",\"Exchange\",\"Exchange\",\"Exchange\",\"Exchange\",\"Exchange\",\"Exchange\",\"Exchange\",\"Exchange\",\"Exchange\",\"Exchange\",\"Exchange\",\"Exchange\",\"Exchange\",\"Exchange\",\"Exchange\",\"Exchange\",\"Exchange\",\"Exchange\",\"Exchange\",\"Exchange\",\"Exchange\",\"Exchange\",\"Exchange\",\"Exchange\",\"Exchange\",\"Exchange\",\"Exchange\",\"Exchange\",\"Exchange\",\"Exchange\",\"Exchange\",\"Exchange\",\"Exchange\",\"Exchange\",\"Exchange\",\"Exchange\",\"Exchange\",\"Exchange\",\"Exchange\",\"Exchange\",\"Exchange\",\"Exchange\",\"Exchange\",\"Exchange\",\"Exchange\",\"Exchange\",\"Exchange\",\"Exchange\",\"Exchange\",\"Exchange\",\"Exchange\",\"Exchange\",\"Exchange\",\"Exchange\",\"Exchange\",\"Exchange\",\"Exchange\",\"Exchange\",\"Exchange\",\"Exchange\",\"Windows Sign In\",\"Exchange\",\"Exchange\",\"APIM-Client-DevPortal-OAuth\",\"Exchange\",\"APIM-Client-DevPortal-OAuth\",\"APIM-Client-DevPortal-OAuth\",\"APIM-Client-DevPortal-OAuth\",\"APIM-Client-DevPortal-OAuth\",\"APIM-Client-DevPortal-OAuth\",\"Exchange\",\"Exchange\",\"Exchange\",\"Exchange\",\"Exchange\",\"Exchange\",\"Exchange\",\"Exchange\",\"Exchange\",\"Exchange\",\"Exchange\",\"APIM-Client-DevPortal-OAuth\",\"APIM-Client-DevPortal-OAuth\",\"APIM-Client-DevPortal-OAuth\",\"Exchange\",\"Exchange\",\"Exchange\",\"Exchange\",\"Exchange\",\"Exchange\",\"APIM-Client-DevPortal-OAuth\",\"OneDrive\",\"Exchange\",\"Exchange\",\"Exchange\",\"APIM-Client-DevPortal-OAuth\",\"Exchange\",\"Exchange\",\"Exchange\",\"Exchange\",\"Exchange\",\"Exchange\",\"Exchange\",\"Exchange\",\"Exchange\",\"Exchange\",\"Exchange\",\"Exchange\",\"Exchange\",\"Exchange\",\"Exchange\",\"Exchange\",\"Exchange\",\"APIM-Client-DevPortal-OAuth\",\"Exchange\",\"Exchange\",\"Exchange\",\"Exchange\",\"Exchange\",\"Exchange\",\"Exchange\",\"OneDrive\",\"Exchange\",\"Exchange\",\"Exchange\",\"Exchange\",\"WEDC Service Desk\",\"Exchange\",\"OneDrive\",\"OneDrive\",\"OneDrive\",\"SharePoint\",\"SharePoint\",\"OneDrive\",\"Office Online Core SSO\",\"Office365 Shell WCSS-Client\",\"Office365 Shell WCSS-Client\",\"Office365 Shell WCSS-Client\",\"Office Online Search SSO\",\"Office365 Shell WCSS-Client\",\"Office Online Augmentation Loop SSO\",\"Salesforce\",\"Office 365 SharePoint Online\",\"Office Online Loki SSO\",\"Exchange\",\"Exchange\",\"Exchange\",\"Exchange\",\"Exchange\",\"Exchange\",\"Exchange\",\"APIM-Client-DevPortal-OAuth\",\"APIM-Client-DevPortal-OAuth\",\"APIM-Client-DevPortal-OAuth\",\"APIM-Client-DevPortal-OAuth\",\"Exchange\",\"Exchange\",\"Exchange\",\"Exchange\",\"Exchange\",\"Exchange\",\"APIM-Client-DevPortal-OAuth\",\"APIM-Client-DevPortal-OAuth\",\"Exchange\",\"Exchange\",\"APIM-Client-DevPortal-OAuth\",\"APIM-Client-DevPortal-OAuth\",\"APIM-Client-DevPortal-OAuth\",\"APIM-Client-DevPortal-OAuth\",\"Exchange\",\"APIM-Client-DevPortal-OAuth\",\"APIM-Client-DevPortal-OAuth\",\"Exchange\",\"Exchange\",\"Exchange\",\"Exchange\",\"Exchange\",\"Exchange\",\"Exchange\",\"Exchange\",\"Exchange\",\"Exchange\",\"Exchange\",\"Exchange\",\"Exchange\",\"Exchange\",\"APIM-Client-DevPortal-OAuth\",\"Exchange\",\"Exchange\",\"Exchange\",\"Exchange\",\"Exchange\",\"Exchange\",\"Exchange\",\"OneDrive\",\"Exchange\",\"Exchange\",\"Exchange\",\"Exchange\",\"Exchange\",\"Exchange\",\"Exchange\",\"Exchange\",\"Exchange\",\"Exchange\",\"Exchange\",\"Exchange\",\"SWSD - Test Environment\",\"Microsoft Account Controls V2\",\"My Apps\",\"My Apps\",\"My Apps\",\"Microsoft Account Controls V2\",\"My Apps\",\"My Apps\",\"My Apps\",\"Exchange\",\"APIM-Client-DevPortal-OAuth\",\"APIM-Client-DevPortal-OAuth\",\"APIM-Client-DevPortal-OAuth\",\"Exchange\",\"Exchange\",\"Exchange\",\"APIM-Client-DevPortal-OAuth\",\"APIM-Client-DevPortal-OAuth\",\"APIM-Client-DevPortal-OAuth\",\"APIM-Client-DevPortal-OAuth\",\"APIM-Client-DevPortal-OAuth\",\"APIM-Client-DevPortal-OAuth\",\"APIM-Client-DevPortal-OAuth\",\"APIM-Client-DevPortal-OAuth\",\"APIM-Client-DevPortal-OAuth\",\"APIM-Client-DevPortal-OAuth\",\"APIM-Client-DevPortal-OAuth\",\"APIM-Client-DevPortal-OAuth\",\"APIM-Client-DevPortal-OAuth\",\"Exchange\",\"Exchange\",\"Exchange\",\"APIM-Client-DevPortal-OAuth\",\"APIM-Client-DevPortal-OAuth\",\"OneDrive\",\"Exchange\",\"Exchange\",\"Exchange\",\"Exchange\",\"Exchange\",\"Exchange\",\"Exchange\",\"Exchange\",\"Exchange\",\"Exchange\",\"Windows Sign In\",\"Exchange\",\"Exchange\",\"Exchange\",\"Exchange\",\"Exchange\",\"Exchange\",\"Exchange\",\"Exchange\",\"Exchange\",\"Exchange\",\"Exchange\",\"Exchange\",\"Exchange\",\"Exchange\",\"Exchange\",\"Exchange\",\"Exchange\",\"Exchange\",\"Exchange\",\"Exchange\",\"Exchange\",\"Exchange\",\"Exchange\",\"Exchange\",\"Exchange\",\"Exchange\",\"Exchange\",\"Exchange\",\"Exchange\",\"Exchange\",\"Exchange\",\"Exchange\",\"Exchange\",\"Exchange\",\"Exchange\",\"Exchange\",\"Exchange\",\"Exchange\",\"Exchange\",\"Exchange\",\"Windows Sign In\",\"Exchange\",\"OneDrive\",\"Azure Portal\",\"Exchange\",\"Exchange\",\"Exchange\",\"Exchange\",\"Exchange\",\"Exchange\",\"Exchange\",\"Exchange\",\"SharePoint\",\"SharePoint\",\"SharePoint\",\"SharePoint\",\"SharePoint\",\"Azure Portal\",\"SharePoint Online Web Client Extensibility\",\"Office 365 SharePoint Online\",\"My Apps\",\"My Apps\",\"Exchange\",\"My Apps\",\"My Apps\",\"Inform Development\",\"Salesforce Partial\",\"Exchange\",\"Exchange\",\"Exchange\",\"Exchange\",\"Exchange\",\"Exchange\",\"Exchange\",\"Exchange\",\"Exchange\",\"Exchange\",\"My Apps\",\"Salesforce\",\"Exchange\",\"Exchange\",\"Exchange\",\"Exchange\",\"Exchange\",\"Exchange\",\"KustoClient\",\"KustoClient\",\"Microsoft App Access Panel\",\"Exchange\",\"Microsoft App Access Panel\",\"Microsoft App Access Panel\",\"Microsoft App Access Panel\",\"Microsoft App Access Panel\",\"Microsoft App Access Panel\",\"Microsoft App Access Panel\",\"Microsoft App Access Panel\",\"Microsoft App Access Panel\",\"Exchange\",\"Exchange\",\"Exchange\",\"Exchange\",\"Exchange\",\"Exchange\",\"Exchange\",\"Exchange\",\"Exchange\",\"Exchange\",\"Exchange\",\"Exchange\",\"Exchange\",\"Microsoft App Access Panel\",\"Microsoft App Access Panel\",\"Exchange\",\"Exchange\",\"Exchange\",\"Exchange\",\"Microsoft App Access Panel\",\"Exchange\",\"Microsoft App Access Panel\",\"Exchange\",\"Exchange\",\"Exchange\",\"Exchange\",\"Exchange\",\"Microsoft App Access Panel\",\"Exchange\",\"Exchange\",\"Exchange\",\"Microsoft App Access Panel\",\"Microsoft App Access Panel\",\"Exchange\",\"Microsoft App Access Panel\",\"Microsoft App Access Panel\",\"Microsoft App Access Panel\",\"Microsoft App Access Panel\",\"Microsoft App Access Panel\",\"Microsoft App Access Panel\",\"Exchange\",\"Microsoft App Access Panel\",\"Exchange\",\"Exchange\",\"Microsoft 365 Security and Compliance Center\",\"SharePoint\",\"SharePoint\",\"SharePoint\",\"SharePoint\",\"SharePoint\",\"SharePoint\",\"SharePoint\",\"SharePoint\",\"Office365 Shell WCSS-Client\",\"Exchange\",\"Exchange\",\"Exchange\",\"Exchange\",\"Exchange\",\"SharePoint\",\"SharePoint\",\"SharePoint\",\"SharePoint\",\"SharePoint\",\"SharePoint\",\"SharePoint\",\"SharePoint\",\"Office365 Shell WCSS-Client\",\"Office365 Shell WCSS-Client\",\"Office365 Shell WCSS-Client\"],\"IPAddress\":[\"69.130.255.13\",\"69.130.255.13\",\"69.130.255.13\",\"69.130.255.13\",\"69.130.255.13\",\"69.130.255.13\",\"69.130.255.13\",\"69.130.255.13\",\"69.130.255.13\",\"69.130.255.13\",\"69.130.255.13\",\"69.130.255.13\",\"69.130.255.13\",\"69.130.255.13\",\"69.130.255.13\",\"69.130.255.13\",\"69.130.255.13\",\"69.130.255.13\",\"69.130.255.13\",\"69.130.255.13\",\"69.130.255.13\",\"69.130.255.13\",\"69.130.255.13\",\"69.130.255.13\",\"69.130.255.13\",\"69.130.255.13\",\"69.130.255.13\",\"69.130.255.13\",\"69.130.255.13\",\"69.130.255.13\",\"69.130.255.13\",\"69.130.255.13\",\"69.130.255.13\",\"69.130.255.13\",\"69.130.255.13\",\"69.130.255.13\",\"69.130.255.13\",\"69.130.255.13\",\"69.130.255.13\",\"69.130.255.13\",\"69.130.255.13\",\"69.130.255.13\",\"69.130.255.13\",\"69.130.255.13\",\"69.130.255.13\",\"69.130.255.13\",\"69.130.255.13\",\"69.130.255.13\",\"69.130.255.13\",\"69.130.255.13\",\"69.130.255.13\",\"69.130.255.13\",\"69.130.255.13\",\"69.130.255.13\",\"69.130.255.13\",\"69.130.255.13\",\"69.130.255.13\",\"69.130.255.13\",\"69.130.255.13\",\"69.130.255.13\",\"69.130.255.13\",\"69.130.255.13\",\"69.130.255.13\",\"69.130.255.13\",\"69.130.255.13\",\"69.130.255.13\",\"69.130.255.13\",\"69.130.255.13\",\"69.130.255.13\",\"69.130.255.13\",\"69.130.255.13\",\"69.130.255.13\",\"69.130.255.13\",\"69.130.255.13\",\"69.130.255.13\",\"69.130.255.13\",\"69.130.255.13\",\"69.130.255.13\",\"69.130.255.13\",\"69.130.255.13\",\"69.130.255.13\",\"69.130.255.13\",\"69.130.255.13\",\"69.130.255.13\",\"69.130.255.13\",\"69.130.255.13\",\"69.130.255.13\",\"69.130.255.13\",\"69.130.255.13\",\"69.130.255.13\",\"69.130.255.13\",\"69.130.255.13\",\"69.130.255.13\",\"69.130.255.13\",\"69.130.255.13\",\"69.130.255.13\",\"69.130.255.13\",\"69.130.255.13\",\"69.130.255.13\",\"69.130.255.13\",\"69.130.255.13\",\"69.130.255.13\",\"69.130.255.13\",\"69.130.255.13\",\"69.130.255.13\",\"69.130.255.13\",\"69.130.255.13\",\"69.130.255.13\",\"69.130.255.13\",\"69.130.255.13\",\"69.130.255.13\",\"69.130.255.13\",\"69.130.255.13\",\"69.130.255.13\",\"69.130.255.13\",\"69.130.255.13\",\"69.130.255.13\",\"69.130.255.13\",\"69.130.255.13\",\"69.130.255.13\",\"69.130.255.13\",\"69.130.255.13\",\"69.130.255.13\",\"69.130.255.13\",\"69.130.255.13\",\"69.130.255.13\",\"69.130.255.13\",\"69.130.255.13\",\"69.130.255.13\",\"69.130.255.13\",\"69.130.255.13\",\"69.130.255.13\",\"69.130.255.13\",\"69.130.255.13\",\"69.130.255.13\",\"69.130.255.13\",\"69.130.255.13\",\"69.130.255.13\",\"69.130.255.13\",\"69.130.255.13\",\"69.130.255.13\",\"69.130.255.13\",\"69.130.255.13\",\"69.130.255.13\",\"69.130.255.13\",\"69.130.255.13\",\"69.130.255.13\",\"69.130.255.13\",\"69.130.255.13\",\"69.130.255.13\",\"69.130.255.13\",\"69.130.255.13\",\"69.130.255.13\",\"69.130.255.13\",\"69.130.255.13\",\"69.130.255.13\",\"69.130.255.13\",\"69.130.255.13\",\"69.130.255.13\",\"69.130.255.13\",\"69.130.255.13\",\"69.130.255.13\",\"69.130.255.13\",\"69.130.255.13\",\"69.130.255.13\",\"69.130.255.13\",\"69.130.255.13\",\"69.130.255.13\",\"69.130.255.13\",\"69.130.255.13\",\"69.130.255.13\",\"69.130.255.13\",\"69.130.255.13\",\"69.130.255.13\",\"69.130.255.13\",\"69.130.255.13\",\"69.130.255.13\",\"69.130.255.13\",\"69.130.255.13\",\"69.130.255.13\",\"69.130.255.13\",\"69.130.255.13\",\"69.130.255.13\",\"69.130.255.13\",\"69.130.255.13\",\"69.130.255.13\",\"69.130.255.13\",\"69.130.255.13\",\"69.130.255.13\",\"69.130.255.13\",\"69.130.255.13\",\"69.130.255.13\",\"69.130.255.13\",\"69.130.255.13\",\"69.130.255.13\",\"69.130.255.13\",\"69.130.255.13\",\"69.130.255.13\",\"69.130.255.13\",\"69.130.255.13\",\"69.130.255.13\",\"69.130.255.13\",\"69.130.255.13\",\"69.130.255.13\",\"69.130.255.13\",\"69.130.255.13\",\"69.130.255.13\",\"69.130.255.13\",\"69.130.255.13\",\"69.130.255.13\",\"69.130.255.13\",\"69.130.255.13\",\"69.130.255.13\",\"69.130.255.13\",\"69.130.255.13\",\"69.130.255.13\",\"69.130.255.13\",\"69.130.255.13\",\"69.130.255.13\",\"69.130.255.13\",\"69.130.255.13\",\"69.130.255.13\",\"69.130.255.13\",\"69.130.255.13\",\"69.130.255.13\",\"69.130.255.13\",\"69.130.255.13\",\"69.130.255.13\",\"69.130.255.13\",\"69.130.255.13\",\"69.130.255.13\",\"69.130.255.13\",\"69.130.255.13\",\"69.130.255.13\",\"69.130.255.13\",\"69.130.255.13\",\"69.130.255.13\",\"69.130.255.13\",\"69.130.255.13\",\"69.130.255.13\",\"69.130.255.13\",\"69.130.255.13\",\"69.130.255.13\",\"69.130.255.13\",\"69.130.255.13\",\"69.130.255.13\",\"69.130.255.13\",\"69.130.255.13\",\"69.130.255.13\",\"69.130.255.13\",\"69.130.255.13\",\"69.130.255.13\",\"69.130.255.13\",\"69.130.255.13\",\"69.130.255.13\",\"69.130.255.13\",\"69.130.255.13\",\"69.130.255.13\",\"69.130.255.13\",\"69.130.255.13\",\"69.130.255.13\",\"69.130.255.13\",\"69.130.255.13\",\"69.130.255.13\",\"69.130.255.13\",\"69.130.255.13\",\"69.130.255.13\",\"69.130.255.13\",\"69.130.255.13\",\"69.130.255.13\",\"69.130.255.13\",\"69.130.255.13\",\"69.130.255.13\",\"69.130.255.13\",\"69.130.255.13\",\"69.130.255.13\",\"69.130.255.13\",\"69.130.255.13\",\"69.130.255.13\",\"69.130.255.13\",\"69.130.255.13\",\"69.130.255.13\",\"69.130.255.13\",\"69.130.255.13\",\"69.130.255.13\",\"69.130.255.13\",\"69.130.255.13\",\"69.130.255.13\",\"69.130.255.13\",\"69.130.255.13\",\"69.130.255.13\",\"69.130.255.13\",\"69.130.255.13\",\"69.130.255.13\",\"69.130.255.13\",\"69.130.255.13\",\"69.130.255.13\",\"69.130.255.13\",\"69.130.255.13\",\"69.130.255.13\",\"69.130.255.13\",\"69.130.255.13\",\"69.130.255.13\",\"69.130.255.13\",\"69.130.255.13\",\"69.130.255.13\",\"69.130.255.13\",\"69.130.255.13\",\"69.130.255.13\",\"69.130.255.13\",\"69.130.255.13\",\"69.130.255.13\",\"69.130.255.13\",\"69.130.255.13\",\"69.130.255.13\",\"69.130.255.13\",\"69.130.255.13\",\"69.130.255.13\",\"69.130.255.13\",\"69.130.255.13\",\"69.130.255.13\",\"69.130.255.13\",\"69.130.255.13\",\"69.130.255.13\",\"69.130.255.13\",\"69.130.255.13\",\"69.130.255.13\",\"69.130.255.13\",\"69.130.255.13\",\"69.130.255.13\",\"69.130.255.13\",\"69.130.255.13\",\"69.130.255.13\",\"69.130.255.13\",\"69.130.255.13\",\"69.130.255.13\",\"69.130.255.13\",\"69.130.255.13\",\"69.130.255.13\",\"69.130.255.13\",\"69.130.255.13\",\"69.130.255.13\",\"69.130.255.13\",\"69.130.255.13\",\"69.130.255.13\",\"69.130.255.13\",\"69.130.255.13\",\"69.130.255.13\",\"69.130.255.13\",\"69.130.255.13\",\"69.130.255.13\",\"69.130.255.13\",\"69.130.255.13\",\"69.130.255.13\",\"69.130.255.13\",\"69.130.255.13\",\"69.130.255.13\",\"69.130.255.13\",\"69.130.255.13\",\"69.130.255.13\",\"69.130.255.13\",\"69.130.255.13\",\"69.130.255.13\",\"69.130.255.13\",\"69.130.255.13\",\"69.130.255.13\",\"69.130.255.13\",\"69.130.255.13\",\"69.130.255.13\",\"69.130.255.13\",\"69.130.255.13\",\"69.130.255.13\",\"69.130.255.13\",\"69.130.255.13\",\"69.130.255.13\",\"69.130.255.13\",\"69.130.255.13\",\"69.130.255.13\",\"69.130.255.13\",\"69.130.255.13\",\"69.130.255.13\",\"69.130.255.13\",\"69.130.255.13\",\"69.130.255.13\",\"69.130.255.13\",\"69.130.255.13\",\"69.130.255.13\",\"69.130.255.13\",\"69.130.255.13\",\"69.130.255.13\",\"69.130.255.13\",\"69.130.255.13\",\"69.130.255.13\",\"69.130.255.13\",\"69.130.255.13\",\"69.130.255.13\",\"69.130.255.13\",\"69.130.255.13\",\"69.130.255.13\",\"69.130.255.13\",\"69.130.255.13\",\"69.130.255.13\",\"69.130.255.13\",\"69.130.255.13\",\"69.130.255.13\",\"69.130.255.13\",\"69.130.255.13\",\"69.130.255.13\",\"69.130.255.13\",\"69.130.255.13\",\"69.130.255.13\",\"69.130.255.13\",\"69.130.255.13\",\"69.130.255.13\",\"69.130.255.13\",\"69.130.255.13\",\"69.130.255.13\",\"69.130.255.13\",\"69.130.255.13\",\"69.130.255.13\",\"69.130.255.13\",\"69.130.255.13\",\"69.130.255.13\",\"69.130.255.13\",\"69.130.255.13\",\"69.130.255.13\",\"69.130.255.13\",\"69.130.255.13\"],\"Operation\":[\"MailItemsAccessed\",\"MailItemsAccessed\",\"MailItemsAccessed\",\"MailItemsAccessed\",\"HardDelete\",\"Create\",\"MailItemsAccessed\",\"MoveToDeletedItems\",\"MailItemsAccessed\",\"MoveToDeletedItems\",\"MailItemsAccessed\",\"MailItemsAccessed\",\"MailItemsAccessed\",\"MailItemsAccessed\",\"MailItemsAccessed\",\"MailItemsAccessed\",\"MailItemsAccessed\",\"MailItemsAccessed\",\"MailItemsAccessed\",\"MailItemsAccessed\",\"MailItemsAccessed\",\"MailItemsAccessed\",\"MailItemsAccessed\",\"MailItemsAccessed\",\"MailItemsAccessed\",\"MailItemsAccessed\",\"MailItemsAccessed\",\"MailItemsAccessed\",\"MailItemsAccessed\",\"MailItemsAccessed\",\"MailItemsAccessed\",\"MailItemsAccessed\",\"MailItemsAccessed\",\"MailItemsAccessed\",\"MailItemsAccessed\",\"MailItemsAccessed\",\"MailItemsAccessed\",\"MailItemsAccessed\",\"MailItemsAccessed\",\"MailItemsAccessed\",\"MailItemsAccessed\",\"MailItemsAccessed\",\"Create\",\"Create\",\"MailItemsAccessed\",\"Create\",\"MailItemsAccessed\",\"MailItemsAccessed\",\"MailItemsAccessed\",\"MailItemsAccessed\",\"MailItemsAccessed\",\"MailItemsAccessed\",\"MailItemsAccessed\",\"MailItemsAccessed\",\"MailItemsAccessed\",\"MailItemsAccessed\",\"MailItemsAccessed\",\"MailItemsAccessed\",\"MailItemsAccessed\",\"MailItemsAccessed\",\"MailItemsAccessed\",\"MailItemsAccessed\",\"SoftDelete\",\"Create\",\"MailItemsAccessed\",\"MailItemsAccessed\",\"MailItemsAccessed\",\"MailItemsAccessed\",\"Sign-in activity\",\"MailItemsAccessed\",\"MailItemsAccessed\",\"Sign-in activity\",\"MailItemsAccessed\",\"Sign-in activity\",\"Sign-in activity\",\"Sign-in activity\",\"Sign-in activity\",\"Sign-in activity\",\"MailItemsAccessed\",\"MailItemsAccessed\",\"MailItemsAccessed\",\"MailItemsAccessed\",\"MailItemsAccessed\",\"Update\",\"Update\",\"MoveToDeletedItems\",\"HardDelete\",\"Create\",\"MailItemsAccessed\",\"Sign-in activity\",\"Sign-in activity\",\"Sign-in activity\",\"MailItemsAccessed\",\"MailItemsAccessed\",\"MailItemsAccessed\",\"MailItemsAccessed\",\"MailItemsAccessed\",\"Move\",\"Sign-in activity\",\"FileSyncDownloadedFull\",\"MailItemsAccessed\",\"MailItemsAccessed\",\"MailItemsAccessed\",\"Sign-in activity\",\"MailItemsAccessed\",\"MailItemsAccessed\",\"MailItemsAccessed\",\"MailItemsAccessed\",\"MailItemsAccessed\",\"MailItemsAccessed\",\"MailItemsAccessed\",\"MailItemsAccessed\",\"MailItemsAccessed\",\"MailItemsAccessed\",\"MailItemsAccessed\",\"MailItemsAccessed\",\"MailItemsAccessed\",\"MailItemsAccessed\",\"Move\",\"Create\",\"MailItemsAccessed\",\"Sign-in activity\",\"MailItemsAccessed\",\"MailItemsAccessed\",\"MailItemsAccessed\",\"MailItemsAccessed\",\"MailItemsAccessed\",\"Move\",\"MailItemsAccessed\",\"FileSyncUploadedFull\",\"MailItemsAccessed\",\"MailItemsAccessed\",\"MailItemsAccessed\",\"MailItemsAccessed\",\"Sign-in activity\",\"MailItemsAccessed\",\"FileAccessed\",\"CompanyLinkUsed\",\"AddedToGroup\",\"SignInEvent\",\"PageViewed\",\"PageViewed\",\"Sign-in activity\",\"Sign-in activity\",\"Sign-in activity\",\"Sign-in activity\",\"Sign-in activity\",\"Sign-in activity\",\"Sign-in activity\",\"Sign-in activity\",\"Sign-in activity\",\"Sign-in activity\",\"MailItemsAccessed\",\"MailItemsAccessed\",\"MailItemsAccessed\",\"Move\",\"MailItemsAccessed\",\"MailItemsAccessed\",\"MailItemsAccessed\",\"Sign-in activity\",\"Sign-in activity\",\"Sign-in activity\",\"Sign-in activity\",\"MailItemsAccessed\",\"MailItemsAccessed\",\"MailItemsAccessed\",\"MailItemsAccessed\",\"MailItemsAccessed\",\"MailItemsAccessed\",\"Sign-in activity\",\"Sign-in activity\",\"MailItemsAccessed\",\"MailItemsAccessed\",\"Sign-in activity\",\"Sign-in activity\",\"Sign-in activity\",\"Sign-in activity\",\"MailItemsAccessed\",\"Sign-in activity\",\"Sign-in activity\",\"MailItemsAccessed\",\"MailItemsAccessed\",\"MailItemsAccessed\",\"MailItemsAccessed\",\"MailItemsAccessed\",\"MailItemsAccessed\",\"MailItemsAccessed\",\"Create\",\"MailItemsAccessed\",\"SoftDelete\",\"Create\",\"MailItemsAccessed\",\"MailItemsAccessed\",\"MailItemsAccessed\",\"Sign-in activity\",\"MailItemsAccessed\",\"MailItemsAccessed\",\"MailItemsAccessed\",\"MailItemsAccessed\",\"SoftDelete\",\"Create\",\"MailItemsAccessed\",\"FilePreviewed\",\"MailItemsAccessed\",\"Create\",\"MailItemsAccessed\",\"SoftDelete\",\"MailItemsAccessed\",\"MailItemsAccessed\",\"MailItemsAccessed\",\"MailItemsAccessed\",\"MailItemsAccessed\",\"MailItemsAccessed\",\"MailItemsAccessed\",\"MailItemsAccessed\",\"Sign-in activity\",\"Sign-in activity\",\"Sign-in activity\",\"Sign-in activity\",\"Sign-in activity\",\"Sign-in activity\",\"Sign-in activity\",\"Sign-in activity\",\"Sign-in activity\",\"MailItemsAccessed\",\"Sign-in activity\",\"Sign-in activity\",\"Sign-in activity\",\"MailItemsAccessed\",\"MailItemsAccessed\",\"MailItemsAccessed\",\"Sign-in activity\",\"Sign-in activity\",\"Sign-in activity\",\"Sign-in activity\",\"Sign-in activity\",\"Sign-in activity\",\"Sign-in activity\",\"Sign-in activity\",\"Sign-in activity\",\"Sign-in activity\",\"Sign-in activity\",\"Sign-in activity\",\"Sign-in activity\",\"MailItemsAccessed\",\"MailItemsAccessed\",\"MailItemsAccessed\",\"Sign-in activity\",\"Sign-in activity\",\"FileModified\",\"MailItemsAccessed\",\"MailItemsAccessed\",\"MailItemsAccessed\",\"MailItemsAccessed\",\"MailItemsAccessed\",\"MailItemsAccessed\",\"MailItemsAccessed\",\"MailItemsAccessed\",\"MailItemsAccessed\",\"MailItemsAccessed\",\"Sign-in activity\",\"MailItemsAccessed\",\"MailItemsAccessed\",\"MailItemsAccessed\",\"MailItemsAccessed\",\"MailItemsAccessed\",\"Create\",\"Create\",\"MailItemsAccessed\",\"SoftDelete\",\"MailItemsAccessed\",\"MailItemsAccessed\",\"MailItemsAccessed\",\"MailItemsAccessed\",\"MailItemsAccessed\",\"MailItemsAccessed\",\"MailItemsAccessed\",\"MailItemsAccessed\",\"MailItemsAccessed\",\"MailItemsAccessed\",\"MailItemsAccessed\",\"MailItemsAccessed\",\"MailItemsAccessed\",\"MailItemsAccessed\",\"MailItemsAccessed\",\"MailItemsAccessed\",\"MailItemsAccessed\",\"MailItemsAccessed\",\"MailItemsAccessed\",\"MailItemsAccessed\",\"MailItemsAccessed\",\"SoftDelete\",\"Create\",\"Create\",\"MailItemsAccessed\",\"MailItemsAccessed\",\"SoftDelete\",\"Create\",\"MailItemsAccessed\",\"Create\",\"SoftDelete\",\"Sign-in activity\",\"MailItemsAccessed\",\"FilePreviewed\",\"Sign-in activity\",\"MailItemsAccessed\",\"MailItemsAccessed\",\"MailItemsAccessed\",\"MoveToDeletedItems\",\"MoveToDeletedItems\",\"MailItemsAccessed\",\"MoveToDeletedItems\",\"MoveToDeletedItems\",\"PageViewed\",\"SignInEvent\",\"PageViewed\",\"PageViewed\",\"PageViewed\",\"Sign-in activity\",\"Sign-in activity\",\"Sign-in activity\",\"Sign-in activity\",\"Sign-in activity\",\"MailItemsAccessed\",\"Sign-in activity\",\"Sign-in activity\",\"Sign-in activity\",\"Sign-in activity\",\"MailItemsAccessed\",\"MailItemsAccessed\",\"MailItemsAccessed\",\"MailItemsAccessed\",\"MailItemsAccessed\",\"MailItemsAccessed\",\"MailItemsAccessed\",\"MailItemsAccessed\",\"MailItemsAccessed\",\"MailItemsAccessed\",\"Sign-in activity\",\"Sign-in activity\",\"MailItemsAccessed\",\"MailItemsAccessed\",\"MailItemsAccessed\",\"MailItemsAccessed\",\"MailItemsAccessed\",\"MailItemsAccessed\",\"Sign-in activity\",\"Sign-in activity\",\"Sign-in activity\",\"MailItemsAccessed\",\"Sign-in activity\",\"Sign-in activity\",\"Sign-in activity\",\"Sign-in activity\",\"Sign-in activity\",\"Sign-in activity\",\"Sign-in activity\",\"Sign-in activity\",\"MailItemsAccessed\",\"MailItemsAccessed\",\"SoftDelete\",\"Create\",\"MailItemsAccessed\",\"MailItemsAccessed\",\"MailItemsAccessed\",\"SoftDelete\",\"Create\",\"MailItemsAccessed\",\"MailItemsAccessed\",\"SoftDelete\",\"Create\",\"Sign-in activity\",\"Sign-in activity\",\"MailItemsAccessed\",\"MailItemsAccessed\",\"SoftDelete\",\"Create\",\"Sign-in activity\",\"MailItemsAccessed\",\"Sign-in activity\",\"MailItemsAccessed\",\"MailItemsAccessed\",\"Create\",\"SoftDelete\",\"MailItemsAccessed\",\"Sign-in activity\",\"MailItemsAccessed\",\"MailItemsAccessed\",\"MailItemsAccessed\",\"Sign-in activity\",\"Sign-in activity\",\"MailItemsAccessed\",\"Sign-in activity\",\"Sign-in activity\",\"Sign-in activity\",\"Sign-in activity\",\"Sign-in activity\",\"Sign-in activity\",\"MailItemsAccessed\",\"Sign-in activity\",\"MailItemsAccessed\",\"MailItemsAccessed\",\"Sign-in activity\",\"CompanyLinkUsed\",\"AddedToGroup\",\"ListViewed\",\"FileAccessed\",\"FileAccessed\",\"FileAccessed\",\"PageViewed\",\"FileAccessed\",\"Sign-in activity\",\"MoveToDeletedItems\",\"HardDelete\",\"MailItemsAccessed\",\"Create\",\"MailItemsAccessed\",\"ListViewed\",\"ListViewed\",\"ListViewed\",\"ListViewed\",\"ListViewed\",\"ListViewed\",\"ListViewed\",\"ListViewed\",\"Sign-in activity\",\"Sign-in activity\",\"Sign-in activity\"],\"TimeGenerated\":{\"__ndarray__\":\"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\",\"dtype\":\"float64\",\"order\":\"little\",\"shape\":[428]},\"index\":[111,119,121,120,133,136,134,135,118,116,113,114,142,144,143,141,138,168,180,182,186,188,179,192,193,347,349,359,353,350,352,397,398,383,384,382,388,392,381,387,403,404,396,399,380,395,402,391,386,379,401,406,390,385,389,378,394,393,405,400,412,410,408,409,411,553,552,554,0,557,556,1,560,2,5,7,6,9,567,574,568,569,570,566,565,562,563,564,571,3,4,8,581,582,580,578,576,577,10,575,589,588,604,11,601,599,587,600,612,613,614,617,622,625,626,627,628,596,608,584,585,56,632,630,631,621,618,606,619,610,592,593,594,595,62,146,124,125,126,112,128,127,66,65,67,69,63,58,57,59,60,61,132,130,129,131,358,357,356,71,64,68,70,424,431,432,430,427,428,75,77,147,150,78,73,74,76,377,80,72,355,153,155,154,151,156,162,159,157,158,160,164,163,165,79,426,174,173,178,172,171,177,189,190,348,488,495,494,498,497,489,490,508,509,510,81,85,82,83,84,86,89,88,87,487,101,90,102,504,505,506,94,99,100,96,91,92,97,93,95,98,104,105,106,365,366,364,107,108,367,371,370,369,513,515,516,517,518,512,519,109,520,529,521,523,522,528,527,374,375,372,537,541,545,546,550,260,206,282,261,448,225,224,223,230,219,228,214,222,213,229,227,218,217,211,212,226,216,220,221,215,19,231,269,21,288,271,233,237,234,297,236,235,239,240,241,292,289,22,24,23,30,25,293,27,28,26,29,294,295,296,242,243,245,300,273,461,463,31,32,246,473,476,475,474,248,36,39,37,302,40,42,43,33,41,46,50,34,250,253,252,251,314,312,311,313,310,304,305,316,315,45,49,481,483,484,482,35,280,38,278,277,276,275,255,44,256,257,258,51,48,318,54,55,47,52,53,14,319,12,320,341,17,323,324,325,332,331,322,329,330,15,343,344,340,338,339,337,336,335,327,326,333,328,334,16,18,13],\"y_index\":[29,29,29,29,29,29,29,29,29,29,29,29,29,29,29,29,29,29,29,29,29,29,29,29,29,29,29,29,29,29,29,29,29,29,29,29,29,29,29,29,29,29,29,29,29,29,29,29,29,29,29,29,29,29,29,29,29,29,29,29,29,29,29,29,29,29,29,29,29,29,29,29,29,29,29,29,29,29,29,29,29,29,29,29,29,29,29,29,29,29,29,29,29,29,29,29,29,29,29,29,29,29,29,29,29,29,29,29,29,29,29,29,29,29,29,29,29,29,29,29,29,29,29,29,29,29,29,29,29,29,29,29,29,29,29,29,29,29,29,29,29,29,29,29,29,29,29,29,29,29,29,29,29,29,29,29,29,29,29,29,29,29,29,29,29,29,29,29,29,29,29,29,29,29,29,29,29,29,29,29,29,29,29,29,29,29,29,29,29,29,29,29,29,29,29,29,29,29,29,29,29,29,29,29,29,29,29,29,29,29,29,29,29,29,29,29,29,29,29,29,29,29,29,29,29,29,29,29,29,29,29,29,29,29,29,29,29,29,29,29,29,29,29,29,29,29,29,29,29,29,29,29,29,29,29,29,29,29,29,29,29,29,29,29,29,29,29,29,29,29,29,29,29,29,29,29,29,29,29,29,29,29,29,29,29,29,29,29,29,29,29,29,29,29,29,29,29,29,29,29,29,29,29,29,29,29,29,29,29,29,29,29,29,29,29,29,29,29,29,29,29,29,29,29,29,29,29,29,29,29,29,29,29,29,29,29,29,29,29,29,29,29,29,29,29,29,29,29,29,29,29,29,29,29,29,29,29,29,29,29,29,29,29,29,29,29,29,29,29,29,29,29,29,29,29,29,29,29,29,29,29,29,29,29,29,29,29,29,29,29,29,29,29,29,29,29,29,29,29,29,29,29,29,29,29,29,29,29,29,29,29,29,29,29,29,29,29,29,29,29,29,29,29,29,29,29,29,29]},\"selected\":{\"id\":\"2462\"},\"selection_policy\":{\"id\":\"2461\"}},\"id\":\"1928\",\"type\":\"ColumnDataSource\"},{\"attributes\":{\"axis\":{\"id\":\"1974\"},\"coordinates\":null,\"group\":null,\"ticker\":null},\"id\":\"1977\",\"type\":\"Grid\"},{\"attributes\":{\"data\":{\"AppResourceProvider\":[\"MicrosoftTeams\"],\"IPAddress\":[\"192.168.1.72\"],\"Operation\":[\"MeetingParticipantDetail\"],\"TimeGenerated\":{\"__ndarray__\":\"AADFVmWOeEI=\",\"dtype\":\"float64\",\"order\":\"little\",\"shape\":[1]},\"index\":[418],\"y_index\":[1]},\"selected\":{\"id\":\"2406\"},\"selection_policy\":{\"id\":\"2405\"}},\"id\":\"1900\",\"type\":\"ColumnDataSource\"},{\"attributes\":{\"data\":{\"AppResourceProvider\":[\"Exchange\",\"Exchange\",\"Exchange\",\"Exchange\",\"Exchange\",\"Exchange\",\"Exchange\",\"Exchange\",\"Exchange\",\"Exchange\",\"Exchange\",\"Exchange\",\"Exchange\",\"Exchange\",\"Exchange\",\"Exchange\",\"Exchange\",\"Exchange\",\"Exchange\",\"Exchange\",\"Exchange\",\"Exchange\"],\"IPAddress\":[\"20.190.157.30\",\"20.190.157.30\",\"20.190.157.30\",\"20.190.157.30\",\"20.190.157.30\",\"20.190.157.30\",\"20.190.157.30\",\"20.190.157.30\",\"20.190.157.30\",\"20.190.157.30\",\"20.190.157.30\",\"20.190.157.30\",\"20.190.157.30\",\"20.190.157.30\",\"20.190.157.30\",\"20.190.157.30\",\"20.190.157.30\",\"20.190.157.30\",\"20.190.157.30\",\"20.190.157.30\",\"20.190.157.30\",\"20.190.157.30\"],\"Operation\":[\"MailItemsAccessed\",\"MailItemsAccessed\",\"MailItemsAccessed\",\"MailItemsAccessed\",\"MailItemsAccessed\",\"MailItemsAccessed\",\"MailItemsAccessed\",\"MailItemsAccessed\",\"MailItemsAccessed\",\"MailItemsAccessed\",\"MailItemsAccessed\",\"MailItemsAccessed\",\"MailItemsAccessed\",\"MailItemsAccessed\",\"MailItemsAccessed\",\"MailItemsAccessed\",\"MailItemsAccessed\",\"MailItemsAccessed\",\"MailItemsAccessed\",\"MailItemsAccessed\",\"MailItemsAccessed\",\"MailItemsAccessed\"],\"TimeGenerated\":{\"__ndarray__\":\"AICdPASOeEIAAOZYBo54QgCADMgJjnhCAAD8vxCOeEIAAMExEY54QgAA9n4bjnhCAABWFSqOeEIAAD6ELY54QgCA4uQvjnhCAAAXnzSOeEIAgMtnQY54QgCAEllFjnhCAID2FUqOeEIAAGEOWI54QgCAtaOEjnhCAICldoWOeEIAAD7lhY54QgCAuIGUjnhCAAD5UZWOeEIAgCVVlY54QgCAI/aWjnhCAAD1EJmOeEI=\",\"dtype\":\"float64\",\"order\":\"little\",\"shape\":[22]},\"index\":[149,167,169,185,187,191,351,361,413,558,145,429,485,524,281,262,450,462,465,472,303,306],\"y_index\":[5,5,5,5,5,5,5,5,5,5,5,5,5,5,5,5,5,5,5,5,5,5]},\"selected\":{\"id\":\"2414\"},\"selection_policy\":{\"id\":\"2413\"}},\"id\":\"1904\",\"type\":\"ColumnDataSource\"},{\"attributes\":{\"data\":{\"AppResourceProvider\":[\"MicrosoftTeams\",\"MicrosoftTeams\"],\"IPAddress\":[\"192.168.86.42\",\"192.168.86.42\"],\"Operation\":[\"MeetingDetail\",\"MeetingParticipantDetail\"],\"TimeGenerated\":{\"__ndarray__\":\"AADFVmWOeEIAAMVWZY54Qg==\",\"dtype\":\"float64\",\"order\":\"little\",\"shape\":[2]},\"index\":[419,420],\"y_index\":[2,2]},\"selected\":{\"id\":\"2408\"},\"selection_policy\":{\"id\":\"2407\"}},\"id\":\"1901\",\"type\":\"ColumnDataSource\"},{\"attributes\":{\"data\":{\"AppResourceProvider\":[\"Exchange\",\"Exchange\",\"Exchange\",\"Exchange\",\"Exchange\",\"Exchange\",\"Exchange\",\"Exchange\",\"Exchange\",\"Exchange\",\"Exchange\",\"Exchange\",\"Exchange\",\"Exchange\"],\"IPAddress\":[\"20.190.157.160\",\"20.190.157.160\",\"20.190.157.160\",\"20.190.157.160\",\"20.190.157.160\",\"20.190.157.160\",\"20.190.157.160\",\"20.190.157.160\",\"20.190.157.160\",\"20.190.157.160\",\"20.190.157.160\",\"20.190.157.160\",\"20.190.157.160\",\"20.190.157.160\"],\"Operation\":[\"MailItemsAccessed\",\"MailItemsAccessed\",\"MailItemsAccessed\",\"MailItemsAccessed\",\"MailItemsAccessed\",\"MailItemsAccessed\",\"MailItemsAccessed\",\"MailItemsAccessed\",\"MailItemsAccessed\",\"MailItemsAccessed\",\"MailItemsAccessed\",\"MailItemsAccessed\",\"MailItemsAccessed\",\"MailItemsAccessed\"],\"TimeGenerated\":{\"__ndarray__\":\"AAB3zQCOeEIAAP8UIo54QgAAjv85jnhCAID+SjqOeEIAgId9W454QgAACwRjjnhCAACXJ3yOeEIAgL2Wf454QgAAweSFjnhCAADERZWOeEIAAGPVmI54QgCAzgyZjnhCAACd75mOeEIAALIqmo54Qg==\",\"dtype\":\"float64\",\"order\":\"little\",\"shape\":[14]},\"index\":[166,345,602,611,407,535,548,445,451,466,254,307,279,259],\"y_index\":[3,3,3,3,3,3,3,3,3,3,3,3,3,3]},\"selected\":{\"id\":\"2410\"},\"selection_policy\":{\"id\":\"2409\"}},\"id\":\"1902\",\"type\":\"ColumnDataSource\"},{\"attributes\":{\"coordinates\":null,\"group\":null,\"text\":\"Range Selector\"},\"id\":\"1964\",\"type\":\"Title\"},{\"attributes\":{\"num_minor_ticks\":5,\"tickers\":[{\"id\":\"2479\"},{\"id\":\"2480\"},{\"id\":\"2481\"},{\"id\":\"2482\"},{\"id\":\"2483\"},{\"id\":\"2484\"},{\"id\":\"2485\"},{\"id\":\"2486\"},{\"id\":\"2487\"},{\"id\":\"2488\"},{\"id\":\"2489\"},{\"id\":\"2490\"}]},\"id\":\"1975\",\"type\":\"DatetimeTicker\"},{\"attributes\":{\"data\":{\"AppResourceProvider\":[\"Exchange\",\"Exchange\",\"Exchange\",\"Exchange\",\"Exchange\",\"Exchange\",\"Exchange\",\"Exchange\",\"Exchange\",\"Exchange\",\"Exchange\",\"Exchange\",\"Exchange\",\"Exchange\",\"Exchange\",\"Exchange\",\"Exchange\",\"Exchange\",\"Exchange\",\"Exchange\"],\"IPAddress\":[\"20.190.157.97\",\"20.190.157.97\",\"20.190.157.97\",\"20.190.157.97\",\"20.190.157.97\",\"20.190.157.97\",\"20.190.157.97\",\"20.190.157.97\",\"20.190.157.97\",\"20.190.157.97\",\"20.190.157.97\",\"20.190.157.97\",\"20.190.157.97\",\"20.190.157.97\",\"20.190.157.97\",\"20.190.157.97\",\"20.190.157.97\",\"20.190.157.97\",\"20.190.157.97\",\"20.190.157.97\"],\"Operation\":[\"MailItemsAccessed\",\"MailItemsAccessed\",\"MailItemsAccessed\",\"MailItemsAccessed\",\"MailItemsAccessed\",\"MailItemsAccessed\",\"MailItemsAccessed\",\"MailItemsAccessed\",\"MailItemsAccessed\",\"MailItemsAccessed\",\"MailItemsAccessed\",\"MailItemsAccessed\",\"MailItemsAccessed\",\"MailItemsAccessed\",\"MailItemsAccessed\",\"MailItemsAccessed\",\"MailItemsAccessed\",\"MailItemsAccessed\",\"MailItemsAccessed\",\"MailItemsAccessed\"],\"TimeGenerated\":{\"__ndarray__\":\"AAAzNw2OeEIAgBbYDY54QgCAJYQljnhCAIDouTaOeEIAgC+ZPY54QgCAPHw+jnhCAACrzUSOeEIAgNZESo54QgAA301KjnhCAABLI2OOeEIAAKOEgY54QgAA/7yDjnhCAICyyoiOeEIAACxBjI54QgAAKfGOjnhCAAARWpOOeEIAAO4+lY54QgCAz4yVjnhCAIAG7JWOeEIAABc1mY54Qg==\",\"dtype\":\"float64\",\"order\":\"little\",\"shape\":[20]},\"index\":[170,181,354,572,607,590,425,175,176,542,446,207,452,284,272,274,468,478,249,317],\"y_index\":[7,7,7,7,7,7,7,7,7,7,7,7,7,7,7,7,7,7,7,7]},\"selected\":{\"id\":\"2418\"},\"selection_policy\":{\"id\":\"2417\"}},\"id\":\"1906\",\"type\":\"ColumnDataSource\"},{\"attributes\":{},\"id\":\"2407\",\"type\":\"UnionRenderers\"},{\"attributes\":{},\"id\":\"2408\",\"type\":\"Selection\"},{\"attributes\":{\"data\":{\"AppResourceProvider\":[\"OneDrive\",\"Windows Sign In\",\"Windows Sign In\"],\"IPAddress\":[\"216.56.240.114\",\"216.56.240.114\",\"216.56.240.114\"],\"Operation\":[\"FileSyncDownloadedFull\",\"Sign-in activity\",\"Sign-in activity\"],\"TimeGenerated\":{\"__ndarray__\":\"AACYDz6OeEIfBVqwUY54Qhlayx+OjnhC\",\"dtype\":\"float64\",\"order\":\"little\",\"shape\":[3]},\"index\":[609,103,20],\"y_index\":[8,8,8]},\"selected\":{\"id\":\"2420\"},\"selection_policy\":{\"id\":\"2419\"}},\"id\":\"1907\",\"type\":\"ColumnDataSource\"},{\"attributes\":{},\"id\":\"2409\",\"type\":\"UnionRenderers\"},{\"attributes\":{},\"id\":\"2410\",\"type\":\"Selection\"},{\"attributes\":{\"source\":{\"id\":\"1921\"}},\"id\":\"2119\",\"type\":\"CDSView\"},{\"attributes\":{},\"id\":\"2411\",\"type\":\"UnionRenderers\"},{\"attributes\":{},\"id\":\"2412\",\"type\":\"Selection\"},{\"attributes\":{\"fill_alpha\":{\"value\":0.2},\"fill_color\":{\"value\":\"#23A982\"},\"hatch_alpha\":{\"value\":0.2},\"hatch_color\":{\"value\":\"#23A982\"},\"line_alpha\":{\"value\":0.2},\"line_color\":{\"value\":\"#23A982\"},\"x\":{\"field\":\"TimeGenerated\"},\"y\":{\"field\":\"y_index\"}},\"id\":\"2117\",\"type\":\"Circle\"},{\"attributes\":{\"coordinates\":null,\"data_source\":{\"id\":\"1921\"},\"glyph\":{\"id\":\"2115\"},\"group\":null,\"hover_glyph\":null,\"muted_glyph\":{\"id\":\"2117\"},\"nonselection_glyph\":{\"id\":\"2116\"},\"view\":{\"id\":\"2119\"}},\"id\":\"2118\",\"type\":\"GlyphRenderer\"},{\"attributes\":{},\"id\":\"2413\",\"type\":\"UnionRenderers\"},{\"attributes\":{},\"id\":\"2414\",\"type\":\"Selection\"},{\"attributes\":{\"data\":{\"AppResourceProvider\":[\"Exchange\",\"Exchange\",\"Exchange\",\"Exchange\",\"Exchange\",\"Exchange\",\"Exchange\",\"Exchange\",\"Exchange\",\"Exchange\",\"Exchange\",\"Exchange\",\"Exchange\",\"Exchange\",\"Exchange\",\"Exchange\",\"Exchange\",\"Exchange\",\"Exchange\",\"Exchange\",\"Exchange\",\"Exchange\"],\"IPAddress\":[\"40.126.29.96\",\"40.126.29.96\",\"40.126.29.96\",\"40.126.29.96\",\"40.126.29.96\",\"40.126.29.96\",\"40.126.29.96\",\"40.126.29.96\",\"40.126.29.96\",\"40.126.29.96\",\"40.126.29.96\",\"40.126.29.96\",\"40.126.29.96\",\"40.126.29.96\",\"40.126.29.96\",\"40.126.29.96\",\"40.126.29.96\",\"40.126.29.96\",\"40.126.29.96\",\"40.126.29.96\",\"40.126.29.96\",\"40.126.29.96\"],\"Operation\":[\"MailItemsAccessed\",\"MailItemsAccessed\",\"MailItemsAccessed\",\"MailItemsAccessed\",\"MailItemsAccessed\",\"MailItemsAccessed\",\"MailItemsAccessed\",\"MailItemsAccessed\",\"MailItemsAccessed\",\"MailItemsAccessed\",\"MailItemsAccessed\",\"MailItemsAccessed\",\"MailItemsAccessed\",\"MailItemsAccessed\",\"MailItemsAccessed\",\"MailItemsAccessed\",\"MailItemsAccessed\",\"MailItemsAccessed\",\"MailItemsAccessed\",\"MailItemsAccessed\",\"MailItemsAccessed\",\"MailItemsAccessed\"],\"TimeGenerated\":{\"__ndarray__\":\"AIDnoBSOeEIAgPohOo54QgCAnW86jnhCAABOUTyOeEIAAFL3PI54QgCApepIjnhCAIAGtEuOeEIAgGsjT454QgCAZC1RjnhCAAB5n1SOeEIAgPwlXI54QgAAI5VfjnhCAIBoZ2OOeEIAAGLacY54QgCAiEl1jnhCAIBwuHiOeEIAACDMio54QgCASzGTjnhCAABkVZWOeEIAgEyNlY54QgAAop6VjnhCAABPApmOeEI=\",\"dtype\":\"float64\",\"order\":\"little\",\"shape\":[22]},\"index\":[183,598,616,586,633,161,491,500,363,511,538,532,544,549,543,551,210,299,471,477,247,308],\"y_index\":[16,16,16,16,16,16,16,16,16,16,16,16,16,16,16,16,16,16,16,16,16,16]},\"selected\":{\"id\":\"2436\"},\"selection_policy\":{\"id\":\"2435\"}},\"id\":\"1915\",\"type\":\"ColumnDataSource\"},{\"attributes\":{\"fill_alpha\":{\"value\":0.1},\"fill_color\":{\"value\":\"#46307D\"},\"hatch_alpha\":{\"value\":0.1},\"hatch_color\":{\"value\":\"#46307D\"},\"line_alpha\":{\"value\":0.1},\"line_color\":{\"value\":\"#46307D\"},\"marker\":{\"value\":\"diamond\"},\"size\":{\"value\":10},\"x\":{\"field\":\"TimeGenerated\"},\"y\":{\"field\":\"y_index\"}},\"id\":\"2212\",\"type\":\"Scatter\"},{\"attributes\":{\"align\":\"right\",\"coordinates\":null,\"group\":null,\"text\":\"Drag the middle or edges of the selection box to change the range in the main chart\",\"text_font_size\":\"10px\"},\"id\":\"1979\",\"type\":\"Title\"},{\"attributes\":{\"label\":{\"value\":\"2603:10b6:208:481::10\"},\"renderers\":[{\"id\":\"2270\"}]},\"id\":\"2272\",\"type\":\"LegendItem\"},{\"attributes\":{},\"id\":\"1972\",\"type\":\"LinearScale\"},{\"attributes\":{\"fill_alpha\":{\"value\":0.2},\"fill_color\":{\"value\":\"#46307D\"},\"hatch_alpha\":{\"value\":0.2},\"hatch_color\":{\"value\":\"#46307D\"},\"line_alpha\":{\"value\":0.2},\"line_color\":{\"value\":\"#46307D\"},\"marker\":{\"value\":\"diamond\"},\"size\":{\"value\":10},\"x\":{\"field\":\"TimeGenerated\"},\"y\":{\"field\":\"y_index\"}},\"id\":\"2213\",\"type\":\"Scatter\"},{\"attributes\":{\"fill_alpha\":{\"value\":0.1},\"fill_color\":{\"value\":\"#5BC862\"},\"hatch_alpha\":{\"value\":0.1},\"hatch_color\":{\"value\":\"#5BC862\"},\"line_alpha\":{\"value\":0.1},\"line_color\":{\"value\":\"#5BC862\"},\"marker\":{\"value\":\"diamond\"},\"size\":{\"value\":10},\"x\":{\"field\":\"TimeGenerated\"},\"y\":{\"field\":\"y_index\"}},\"id\":\"2366\",\"type\":\"Scatter\"},{\"attributes\":{\"coordinates\":null,\"data_source\":{\"id\":\"1904\"},\"glyph\":{\"id\":\"2211\"},\"group\":null,\"hover_glyph\":null,\"muted_glyph\":{\"id\":\"2213\"},\"nonselection_glyph\":{\"id\":\"2212\"},\"view\":{\"id\":\"2215\"}},\"id\":\"2214\",\"type\":\"GlyphRenderer\"},{\"attributes\":{\"fill_alpha\":{\"value\":0.5},\"fill_color\":{\"value\":\"#443982\"},\"hatch_alpha\":{\"value\":0.5},\"hatch_color\":{\"value\":\"#443982\"},\"line_alpha\":{\"value\":0.5},\"line_color\":{\"value\":\"#443982\"},\"marker\":{\"value\":\"diamond\"},\"size\":{\"value\":10},\"x\":{\"field\":\"TimeGenerated\"},\"y\":{\"field\":\"y_index\"}},\"id\":\"2218\",\"type\":\"Scatter\"},{\"attributes\":{\"fill_alpha\":{\"value\":0.2},\"fill_color\":{\"value\":\"#5BC862\"},\"hatch_alpha\":{\"value\":0.2},\"hatch_color\":{\"value\":\"#5BC862\"},\"line_alpha\":{\"value\":0.2},\"line_color\":{\"value\":\"#5BC862\"},\"marker\":{\"value\":\"diamond\"},\"size\":{\"value\":10},\"x\":{\"field\":\"TimeGenerated\"},\"y\":{\"field\":\"y_index\"}},\"id\":\"2367\",\"type\":\"Scatter\"},{\"attributes\":{\"label\":{\"value\":\"20.190.157.30\"},\"renderers\":[{\"id\":\"2214\"}]},\"id\":\"2216\",\"type\":\"LegendItem\"},{\"attributes\":{\"coordinates\":null,\"data_source\":{\"id\":\"1926\"},\"glyph\":{\"id\":\"2365\"},\"group\":null,\"hover_glyph\":null,\"muted_glyph\":{\"id\":\"2367\"},\"nonselection_glyph\":{\"id\":\"2366\"},\"view\":{\"id\":\"2369\"}},\"id\":\"2368\",\"type\":\"GlyphRenderer\"},{\"attributes\":{\"source\":{\"id\":\"1904\"}},\"id\":\"2215\",\"type\":\"CDSView\"},{\"attributes\":{\"fill_alpha\":{\"value\":0.1},\"fill_color\":{\"value\":\"#6BCD59\"},\"hatch_alpha\":{\"value\":0.1},\"hatch_color\":{\"value\":\"#6BCD59\"},\"line_alpha\":{\"value\":0.1},\"line_color\":{\"value\":\"#6BCD59\"},\"marker\":{\"value\":\"diamond\"},\"size\":{\"value\":10},\"x\":{\"field\":\"TimeGenerated\"},\"y\":{\"field\":\"y_index\"}},\"id\":\"2373\",\"type\":\"Scatter\"},{\"attributes\":{},\"id\":\"2455\",\"type\":\"UnionRenderers\"},{\"attributes\":{\"label\":{\"value\":\"52.104.99.175\"},\"renderers\":[{\"id\":\"2368\"}]},\"id\":\"2370\",\"type\":\"LegendItem\"},{\"attributes\":{\"fill_alpha\":{\"value\":0.1},\"fill_color\":{\"value\":\"#443982\"},\"hatch_alpha\":{\"value\":0.1},\"hatch_color\":{\"value\":\"#443982\"},\"line_alpha\":{\"value\":0.1},\"line_color\":{\"value\":\"#443982\"},\"marker\":{\"value\":\"diamond\"},\"size\":{\"value\":10},\"x\":{\"field\":\"TimeGenerated\"},\"y\":{\"field\":\"y_index\"}},\"id\":\"2219\",\"type\":\"Scatter\"},{\"attributes\":{\"coordinates\":null,\"data_source\":{\"id\":\"1912\"},\"glyph\":{\"id\":\"2267\"},\"group\":null,\"hover_glyph\":null,\"muted_glyph\":{\"id\":\"2269\"},\"nonselection_glyph\":{\"id\":\"2268\"},\"view\":{\"id\":\"2271\"}},\"id\":\"2270\",\"type\":\"GlyphRenderer\"},{\"attributes\":{},\"id\":\"2456\",\"type\":\"Selection\"},{\"attributes\":{\"source\":{\"id\":\"1926\"}},\"id\":\"2369\",\"type\":\"CDSView\"},{\"attributes\":{\"fill_alpha\":{\"value\":0.2},\"fill_color\":{\"value\":\"#443982\"},\"hatch_alpha\":{\"value\":0.2},\"hatch_color\":{\"value\":\"#443982\"},\"line_alpha\":{\"value\":0.2},\"line_color\":{\"value\":\"#443982\"},\"marker\":{\"value\":\"diamond\"},\"size\":{\"value\":10},\"x\":{\"field\":\"TimeGenerated\"},\"y\":{\"field\":\"y_index\"}},\"id\":\"2220\",\"type\":\"Scatter\"},{\"attributes\":{\"fill_alpha\":{\"value\":0.1},\"fill_color\":{\"value\":\"#2A758E\"},\"hatch_alpha\":{\"value\":0.1},\"hatch_color\":{\"value\":\"#2A758E\"},\"line_alpha\":{\"value\":0.1},\"line_color\":{\"value\":\"#2A758E\"},\"marker\":{\"value\":\"diamond\"},\"size\":{\"value\":10},\"x\":{\"field\":\"TimeGenerated\"},\"y\":{\"field\":\"y_index\"}},\"id\":\"2275\",\"type\":\"Scatter\"},{\"attributes\":{\"fill_alpha\":{\"value\":0.5},\"fill_color\":{\"value\":\"#6BCD59\"},\"hatch_alpha\":{\"value\":0.5},\"hatch_color\":{\"value\":\"#6BCD59\"},\"line_alpha\":{\"value\":0.5},\"line_color\":{\"value\":\"#6BCD59\"},\"marker\":{\"value\":\"diamond\"},\"size\":{\"value\":10},\"x\":{\"field\":\"TimeGenerated\"},\"y\":{\"field\":\"y_index\"}},\"id\":\"2372\",\"type\":\"Scatter\"},{\"attributes\":{\"coordinates\":null,\"data_source\":{\"id\":\"1905\"},\"glyph\":{\"id\":\"2218\"},\"group\":null,\"hover_glyph\":null,\"muted_glyph\":{\"id\":\"2220\"},\"nonselection_glyph\":{\"id\":\"2219\"},\"view\":{\"id\":\"2222\"}},\"id\":\"2221\",\"type\":\"GlyphRenderer\"},{\"attributes\":{\"fill_alpha\":{\"value\":0.5},\"fill_color\":{\"value\":\"#414186\"},\"hatch_alpha\":{\"value\":0.5},\"hatch_color\":{\"value\":\"#414186\"},\"line_alpha\":{\"value\":0.5},\"line_color\":{\"value\":\"#414186\"},\"marker\":{\"value\":\"diamond\"},\"size\":{\"value\":10},\"x\":{\"field\":\"TimeGenerated\"},\"y\":{\"field\":\"y_index\"}},\"id\":\"2225\",\"type\":\"Scatter\"},{\"attributes\":{\"fill_alpha\":{\"value\":0.2},\"fill_color\":{\"value\":\"#6BCD59\"},\"hatch_alpha\":{\"value\":0.2},\"hatch_color\":{\"value\":\"#6BCD59\"},\"line_alpha\":{\"value\":0.2},\"line_color\":{\"value\":\"#6BCD59\"},\"marker\":{\"value\":\"diamond\"},\"size\":{\"value\":10},\"x\":{\"field\":\"TimeGenerated\"},\"y\":{\"field\":\"y_index\"}},\"id\":\"2374\",\"type\":\"Scatter\"},{\"attributes\":{\"label\":{\"value\":\"20.190.157.96\"},\"renderers\":[{\"id\":\"2221\"}]},\"id\":\"2223\",\"type\":\"LegendItem\"},{\"attributes\":{\"coordinates\":null,\"data_source\":{\"id\":\"1927\"},\"glyph\":{\"id\":\"2372\"},\"group\":null,\"hover_glyph\":null,\"muted_glyph\":{\"id\":\"2374\"},\"nonselection_glyph\":{\"id\":\"2373\"},\"view\":{\"id\":\"2376\"}},\"id\":\"2375\",\"type\":\"GlyphRenderer\"},{\"attributes\":{\"source\":{\"id\":\"1905\"}},\"id\":\"2222\",\"type\":\"CDSView\"},{\"attributes\":{\"fill_alpha\":{\"value\":0.1},\"fill_color\":{\"value\":\"#7CD24F\"},\"hatch_alpha\":{\"value\":0.1},\"hatch_color\":{\"value\":\"#7CD24F\"},\"line_alpha\":{\"value\":0.1},\"line_color\":{\"value\":\"#7CD24F\"},\"marker\":{\"value\":\"diamond\"},\"size\":{\"value\":10},\"x\":{\"field\":\"TimeGenerated\"},\"y\":{\"field\":\"y_index\"}},\"id\":\"2380\",\"type\":\"Scatter\"},{\"attributes\":{\"fill_alpha\":{\"value\":0.1},\"fill_color\":{\"value\":\"#414186\"},\"hatch_alpha\":{\"value\":0.1},\"hatch_color\":{\"value\":\"#414186\"},\"line_alpha\":{\"value\":0.1},\"line_color\":{\"value\":\"#414186\"},\"marker\":{\"value\":\"diamond\"},\"size\":{\"value\":10},\"x\":{\"field\":\"TimeGenerated\"},\"y\":{\"field\":\"y_index\"}},\"id\":\"2226\",\"type\":\"Scatter\"},{\"attributes\":{\"label\":{\"value\":\"52.104.99.50\"},\"renderers\":[{\"id\":\"2375\"}]},\"id\":\"2377\",\"type\":\"LegendItem\"},{\"attributes\":{\"fill_alpha\":{\"value\":0.2},\"fill_color\":{\"value\":\"#2D6E8E\"},\"hatch_alpha\":{\"value\":0.2},\"hatch_color\":{\"value\":\"#2D6E8E\"},\"line_alpha\":{\"value\":0.2},\"line_color\":{\"value\":\"#2D6E8E\"},\"marker\":{\"value\":\"diamond\"},\"size\":{\"value\":10},\"x\":{\"field\":\"TimeGenerated\"},\"y\":{\"field\":\"y_index\"}},\"id\":\"2269\",\"type\":\"Scatter\"},{\"attributes\":{\"fill_alpha\":{\"value\":0.2},\"fill_color\":{\"value\":\"#414186\"},\"hatch_alpha\":{\"value\":0.2},\"hatch_color\":{\"value\":\"#414186\"},\"line_alpha\":{\"value\":0.2},\"line_color\":{\"value\":\"#414186\"},\"marker\":{\"value\":\"diamond\"},\"size\":{\"value\":10},\"x\":{\"field\":\"TimeGenerated\"},\"y\":{\"field\":\"y_index\"}},\"id\":\"2227\",\"type\":\"Scatter\"},{\"attributes\":{\"source\":{\"id\":\"1927\"}},\"id\":\"2376\",\"type\":\"CDSView\"},{\"attributes\":{\"fill_alpha\":{\"value\":0.5},\"fill_color\":{\"value\":\"#7CD24F\"},\"hatch_alpha\":{\"value\":0.5},\"hatch_color\":{\"value\":\"#7CD24F\"},\"line_alpha\":{\"value\":0.5},\"line_color\":{\"value\":\"#7CD24F\"},\"marker\":{\"value\":\"diamond\"},\"size\":{\"value\":10},\"x\":{\"field\":\"TimeGenerated\"},\"y\":{\"field\":\"y_index\"}},\"id\":\"2379\",\"type\":\"Scatter\"},{\"attributes\":{\"coordinates\":null,\"data_source\":{\"id\":\"1906\"},\"glyph\":{\"id\":\"2225\"},\"group\":null,\"hover_glyph\":null,\"muted_glyph\":{\"id\":\"2227\"},\"nonselection_glyph\":{\"id\":\"2226\"},\"view\":{\"id\":\"2229\"}},\"id\":\"2228\",\"type\":\"GlyphRenderer\"},{\"attributes\":{\"data\":{\"AppResourceProvider\":[\"Exchange\",\"Exchange\",\"Exchange\",\"Exchange\",\"Exchange\",\"Exchange\",\"Exchange\",\"Exchange\",\"Exchange\",\"Exchange\",\"Exchange\",\"Exchange\",\"Exchange\",\"Exchange\",\"Exchange\",\"Exchange\",\"Exchange\",\"Exchange\",\"Exchange\",\"Exchange\"],\"IPAddress\":[\"2603:10b6:208:3da::13\",\"2603:10b6:208:3da::13\",\"2603:10b6:208:3da::13\",\"2603:10b6:208:3da::13\",\"2603:10b6:208:3da::13\",\"2603:10b6:208:3da::13\",\"2603:10b6:208:3da::13\",\"2603:10b6:208:3da::13\",\"2603:10b6:208:3da::13\",\"2603:10b6:208:3da::13\",\"2603:10b6:208:3da::13\",\"2603:10b6:208:3da::13\",\"2603:10b6:208:3da::13\",\"2603:10b6:208:3da::13\",\"2603:10b6:208:3da::13\",\"2603:10b6:208:3da::13\",\"2603:10b6:208:3da::13\",\"2603:10b6:208:3da::13\",\"2603:10b6:208:3da::13\",\"2603:10b6:208:3da::13\"],\"Operation\":[\"MailItemsAccessed\",\"MailItemsAccessed\",\"MailItemsAccessed\",\"MailItemsAccessed\",\"MailItemsAccessed\",\"MailItemsAccessed\",\"MailItemsAccessed\",\"MailItemsAccessed\",\"MailItemsAccessed\",\"MailItemsAccessed\",\"MailItemsAccessed\",\"MailItemsAccessed\",\"MailItemsAccessed\",\"MailItemsAccessed\",\"MailItemsAccessed\",\"MailItemsAccessed\",\"MailItemsAccessed\",\"MailItemsAccessed\",\"MailItemsAccessed\",\"MailItemsAccessed\"],\"TimeGenerated\":{\"__ndarray__\":\"AIB8sPyNeEIAAPmRN454QgCAigQ7jnhCAIBu2TuOeEIAAAp6Po54QgAAhDBAjnhCAIBxyUiOeEIAgMYjSY54QgCAqKVJjnhCAIDNhEqOeEIAgK2tS454QgAAgDxMjnhCAAA+HVOOeEIAgLL2V454QgAA6DZYjnhCAIBbQ1iOeEIAAHaCjY54QgAAeoeTjnhCAIA+PJWOeEIAADcYlo54Qg==\",\"dtype\":\"float64\",\"order\":\"little\",\"shape\":[20]},\"index\":[115,579,624,605,591,122,152,496,421,499,492,507,368,525,373,376,454,301,469,480],\"y_index\":[12,12,12,12,12,12,12,12,12,12,12,12,12,12,12,12,12,12,12,12]},\"selected\":{\"id\":\"2428\"},\"selection_policy\":{\"id\":\"2427\"}},\"id\":\"1911\",\"type\":\"ColumnDataSource\"},{\"attributes\":{\"fill_alpha\":{\"value\":0.1},\"fill_color\":{\"value\":\"#3E4989\"},\"hatch_alpha\":{\"value\":0.1},\"hatch_color\":{\"value\":\"#3E4989\"},\"line_alpha\":{\"value\":0.1},\"line_color\":{\"value\":\"#3E4989\"},\"marker\":{\"value\":\"diamond\"},\"size\":{\"value\":10},\"x\":{\"field\":\"TimeGenerated\"},\"y\":{\"field\":\"y_index\"}},\"id\":\"2233\",\"type\":\"Scatter\"},{\"attributes\":{\"fill_alpha\":{\"value\":0.2},\"fill_color\":{\"value\":\"#7CD24F\"},\"hatch_alpha\":{\"value\":0.2},\"hatch_color\":{\"value\":\"#7CD24F\"},\"line_alpha\":{\"value\":0.2},\"line_color\":{\"value\":\"#7CD24F\"},\"marker\":{\"value\":\"diamond\"},\"size\":{\"value\":10},\"x\":{\"field\":\"TimeGenerated\"},\"y\":{\"field\":\"y_index\"}},\"id\":\"2381\",\"type\":\"Scatter\"},{\"attributes\":{\"label\":{\"value\":\"20.190.157.97\"},\"renderers\":[{\"id\":\"2228\"}]},\"id\":\"2230\",\"type\":\"LegendItem\"},{\"attributes\":{\"coordinates\":null,\"data_source\":{\"id\":\"1928\"},\"glyph\":{\"id\":\"2379\"},\"group\":null,\"hover_glyph\":null,\"muted_glyph\":{\"id\":\"2381\"},\"nonselection_glyph\":{\"id\":\"2380\"},\"view\":{\"id\":\"2383\"}},\"id\":\"2382\",\"type\":\"GlyphRenderer\"},{\"attributes\":{\"source\":{\"id\":\"1906\"}},\"id\":\"2229\",\"type\":\"CDSView\"},{\"attributes\":{\"fill_alpha\":{\"value\":0.5},\"fill_color\":{\"value\":\"#3E4989\"},\"hatch_alpha\":{\"value\":0.5},\"hatch_color\":{\"value\":\"#3E4989\"},\"line_alpha\":{\"value\":0.5},\"line_color\":{\"value\":\"#3E4989\"},\"marker\":{\"value\":\"diamond\"},\"size\":{\"value\":10},\"x\":{\"field\":\"TimeGenerated\"},\"y\":{\"field\":\"y_index\"}},\"id\":\"2232\",\"type\":\"Scatter\"},{\"attributes\":{\"fill_alpha\":{\"value\":0.1},\"fill_color\":{\"value\":\"#8DD644\"},\"hatch_alpha\":{\"value\":0.1},\"hatch_color\":{\"value\":\"#8DD644\"},\"line_alpha\":{\"value\":0.1},\"line_color\":{\"value\":\"#8DD644\"},\"marker\":{\"value\":\"diamond\"},\"size\":{\"value\":10},\"x\":{\"field\":\"TimeGenerated\"},\"y\":{\"field\":\"y_index\"}},\"id\":\"2387\",\"type\":\"Scatter\"},{\"attributes\":{\"label\":{\"value\":\"69.130.255.13\"},\"renderers\":[{\"id\":\"2382\"}]},\"id\":\"2384\",\"type\":\"LegendItem\"},{\"attributes\":{},\"id\":\"2457\",\"type\":\"UnionRenderers\"},{\"attributes\":{\"fill_alpha\":{\"value\":0.2},\"fill_color\":{\"value\":\"#3E4989\"},\"hatch_alpha\":{\"value\":0.2},\"hatch_color\":{\"value\":\"#3E4989\"},\"line_alpha\":{\"value\":0.2},\"line_color\":{\"value\":\"#3E4989\"},\"marker\":{\"value\":\"diamond\"},\"size\":{\"value\":10},\"x\":{\"field\":\"TimeGenerated\"},\"y\":{\"field\":\"y_index\"}},\"id\":\"2234\",\"type\":\"Scatter\"},{\"attributes\":{\"source\":{\"id\":\"1928\"}},\"id\":\"2383\",\"type\":\"CDSView\"},{\"attributes\":{},\"id\":\"2458\",\"type\":\"Selection\"},{\"attributes\":{\"fill_alpha\":{\"value\":0.5},\"fill_color\":{\"value\":\"#8DD644\"},\"hatch_alpha\":{\"value\":0.5},\"hatch_color\":{\"value\":\"#8DD644\"},\"line_alpha\":{\"value\":0.5},\"line_color\":{\"value\":\"#8DD644\"},\"marker\":{\"value\":\"diamond\"},\"size\":{\"value\":10},\"x\":{\"field\":\"TimeGenerated\"},\"y\":{\"field\":\"y_index\"}},\"id\":\"2386\",\"type\":\"Scatter\"},{\"attributes\":{\"fill_alpha\":{\"value\":0.5},\"fill_color\":{\"value\":\"#5BC862\"},\"hatch_alpha\":{\"value\":0.5},\"hatch_color\":{\"value\":\"#5BC862\"},\"line_alpha\":{\"value\":0.5},\"line_color\":{\"value\":\"#5BC862\"},\"marker\":{\"value\":\"diamond\"},\"size\":{\"value\":10},\"x\":{\"field\":\"TimeGenerated\"},\"y\":{\"field\":\"y_index\"}},\"id\":\"2365\",\"type\":\"Scatter\"},{\"attributes\":{\"coordinates\":null,\"data_source\":{\"id\":\"1907\"},\"glyph\":{\"id\":\"2232\"},\"group\":null,\"hover_glyph\":null,\"muted_glyph\":{\"id\":\"2234\"},\"nonselection_glyph\":{\"id\":\"2233\"},\"view\":{\"id\":\"2236\"}},\"id\":\"2235\",\"type\":\"GlyphRenderer\"},{\"attributes\":{\"fill_alpha\":{\"value\":0.1},\"fill_color\":{\"value\":\"#3B518A\"},\"hatch_alpha\":{\"value\":0.1},\"hatch_color\":{\"value\":\"#3B518A\"},\"line_alpha\":{\"value\":0.1},\"line_color\":{\"value\":\"#3B518A\"},\"marker\":{\"value\":\"diamond\"},\"size\":{\"value\":10},\"x\":{\"field\":\"TimeGenerated\"},\"y\":{\"field\":\"y_index\"}},\"id\":\"2240\",\"type\":\"Scatter\"},{\"attributes\":{\"data\":{\"AppResourceProvider\":[\"Exchange\",\"Exchange\",\"Exchange\",\"Exchange\",\"Exchange\",\"Exchange\",\"Exchange\",\"Exchange\",\"Exchange\",\"Exchange\",\"Exchange\",\"Exchange\"],\"IPAddress\":[\"2603:10b6:208:48a::21\",\"2603:10b6:208:48a::21\",\"2603:10b6:208:48a::21\",\"2603:10b6:208:48a::21\",\"2603:10b6:208:48a::21\",\"2603:10b6:208:48a::21\",\"2603:10b6:208:48a::21\",\"2603:10b6:208:48a::21\",\"2603:10b6:208:48a::21\",\"2603:10b6:208:48a::21\",\"2603:10b6:208:48a::21\",\"2603:10b6:208:48a::21\"],\"Operation\":[\"MailItemsAccessed\",\"MailItemsAccessed\",\"MailItemsAccessed\",\"MailItemsAccessed\",\"MailItemsAccessed\",\"MailItemsAccessed\",\"MailItemsAccessed\",\"MailItemsAccessed\",\"MailItemsAccessed\",\"MailItemsAccessed\",\"MailItemsAccessed\",\"MailItemsAccessed\"],\"TimeGenerated\":{\"__ndarray__\":\"AADQ/XaOeEIAAND9do54QgAA0P12jnhCAADQ/XaOeEIAAND9do54QgAA0P12jnhCAADQ/XaOeEIAAND9do54QgAA0P12jnhCAADQ/XaOeEIAAND9do54QgAA0P12jnhC\",\"dtype\":\"float64\",\"order\":\"little\",\"shape\":[12]},\"index\":[434,433,436,438,439,440,441,442,443,444,435,437],\"y_index\":[14,14,14,14,14,14,14,14,14,14,14,14]},\"selected\":{\"id\":\"2432\"},\"selection_policy\":{\"id\":\"2431\"}},\"id\":\"1913\",\"type\":\"ColumnDataSource\"},{\"attributes\":{\"fill_alpha\":{\"value\":0.2},\"fill_color\":{\"value\":\"#8DD644\"},\"hatch_alpha\":{\"value\":0.2},\"hatch_color\":{\"value\":\"#8DD644\"},\"line_alpha\":{\"value\":0.2},\"line_color\":{\"value\":\"#8DD644\"},\"marker\":{\"value\":\"diamond\"},\"size\":{\"value\":10},\"x\":{\"field\":\"TimeGenerated\"},\"y\":{\"field\":\"y_index\"}},\"id\":\"2388\",\"type\":\"Scatter\"},{\"attributes\":{\"label\":{\"value\":\"216.56.240.114\"},\"renderers\":[{\"id\":\"2235\"}]},\"id\":\"2237\",\"type\":\"LegendItem\"},{\"attributes\":{\"coordinates\":null,\"data_source\":{\"id\":\"1929\"},\"glyph\":{\"id\":\"2386\"},\"group\":null,\"hover_glyph\":null,\"muted_glyph\":{\"id\":\"2388\"},\"nonselection_glyph\":{\"id\":\"2387\"},\"view\":{\"id\":\"2390\"}},\"id\":\"2389\",\"type\":\"GlyphRenderer\"},{\"attributes\":{\"source\":{\"id\":\"1907\"}},\"id\":\"2236\",\"type\":\"CDSView\"},{\"attributes\":{\"fill_alpha\":{\"value\":0.5},\"fill_color\":{\"value\":\"#3B518A\"},\"hatch_alpha\":{\"value\":0.5},\"hatch_color\":{\"value\":\"#3B518A\"},\"line_alpha\":{\"value\":0.5},\"line_color\":{\"value\":\"#3B518A\"},\"marker\":{\"value\":\"diamond\"},\"size\":{\"value\":10},\"x\":{\"field\":\"TimeGenerated\"},\"y\":{\"field\":\"y_index\"}},\"id\":\"2239\",\"type\":\"Scatter\"},{\"attributes\":{\"label\":{\"value\":\"::ffff:69.130.255.13\"},\"renderers\":[{\"id\":\"2389\"}]},\"id\":\"2391\",\"type\":\"LegendItem\"},{\"attributes\":{},\"id\":\"1968\",\"type\":\"DataRange1d\"},{\"attributes\":{\"data\":{\"AppResourceProvider\":[\"OneDrive\",\"OneDrive\",\"OneDrive\"],\"IPAddress\":[\"52.104.99.175\",\"52.104.99.175\",\"52.104.99.175\"],\"Operation\":[\"FilePreviewed\",\"FilePreviewed\",\"FilePreviewed\"],\"TimeGenerated\":{\"__ndarray__\":\"AIBjhTGOeEIAgJAJOo54QgCA1pdRjnhC\",\"dtype\":\"float64\",\"order\":\"little\",\"shape\":[3]},\"index\":[414,583,530],\"y_index\":[27,27,27]},\"selected\":{\"id\":\"2458\"},\"selection_policy\":{\"id\":\"2457\"}},\"id\":\"1926\",\"type\":\"ColumnDataSource\"},{\"attributes\":{\"label\":{\"value\":\"52.104.99.174\"},\"renderers\":[{\"id\":\"2361\"}]},\"id\":\"2363\",\"type\":\"LegendItem\"},{\"attributes\":{\"fill_alpha\":{\"value\":0.2},\"fill_color\":{\"value\":\"#3B518A\"},\"hatch_alpha\":{\"value\":0.2},\"hatch_color\":{\"value\":\"#3B518A\"},\"line_alpha\":{\"value\":0.2},\"line_color\":{\"value\":\"#3B518A\"},\"marker\":{\"value\":\"diamond\"},\"size\":{\"value\":10},\"x\":{\"field\":\"TimeGenerated\"},\"y\":{\"field\":\"y_index\"}},\"id\":\"2241\",\"type\":\"Scatter\"},{\"attributes\":{\"source\":{\"id\":\"1929\"}},\"id\":\"2390\",\"type\":\"CDSView\"},{\"attributes\":{\"fill_alpha\":{\"value\":0.5},\"fill_color\":{\"value\":\"#2D6E8E\"},\"hatch_alpha\":{\"value\":0.5},\"hatch_color\":{\"value\":\"#2D6E8E\"},\"line_alpha\":{\"value\":0.5},\"line_color\":{\"value\":\"#2D6E8E\"},\"marker\":{\"value\":\"diamond\"},\"size\":{\"value\":10},\"x\":{\"field\":\"TimeGenerated\"},\"y\":{\"field\":\"y_index\"}},\"id\":\"2267\",\"type\":\"Scatter\"},{\"attributes\":{\"coordinates\":null,\"data_source\":{\"id\":\"1908\"},\"glyph\":{\"id\":\"2239\"},\"group\":null,\"hover_glyph\":null,\"muted_glyph\":{\"id\":\"2241\"},\"nonselection_glyph\":{\"id\":\"2240\"},\"view\":{\"id\":\"2243\"}},\"id\":\"2242\",\"type\":\"GlyphRenderer\"},{\"attributes\":{\"fill_alpha\":{\"value\":0.1},\"fill_color\":{\"value\":\"#37588C\"},\"hatch_alpha\":{\"value\":0.1},\"hatch_color\":{\"value\":\"#37588C\"},\"line_alpha\":{\"value\":0.1},\"line_color\":{\"value\":\"#37588C\"},\"marker\":{\"value\":\"diamond\"},\"size\":{\"value\":10},\"x\":{\"field\":\"TimeGenerated\"},\"y\":{\"field\":\"y_index\"}},\"id\":\"2247\",\"type\":\"Scatter\"},{\"attributes\":{\"label\":{\"value\":\"2600:387:c:5516::3\"},\"renderers\":[{\"id\":\"2242\"}]},\"id\":\"2244\",\"type\":\"LegendItem\"},{\"attributes\":{\"click_policy\":\"hide\",\"coordinates\":null,\"group\":null,\"items\":[{\"id\":\"2391\"},{\"id\":\"2384\"},{\"id\":\"2377\"},{\"id\":\"2370\"},{\"id\":\"2363\"},{\"id\":\"2356\"},{\"id\":\"2349\"},{\"id\":\"2342\"},{\"id\":\"2335\"},{\"id\":\"2328\"},{\"id\":\"2321\"},{\"id\":\"2314\"},{\"id\":\"2307\"},{\"id\":\"2300\"},{\"id\":\"2293\"},{\"id\":\"2286\"},{\"id\":\"2279\"},{\"id\":\"2272\"},{\"id\":\"2265\"},{\"id\":\"2258\"},{\"id\":\"2251\"},{\"id\":\"2244\"},{\"id\":\"2237\"},{\"id\":\"2230\"},{\"id\":\"2223\"},{\"id\":\"2216\"},{\"id\":\"2209\"},{\"id\":\"2202\"},{\"id\":\"2195\"},{\"id\":\"2188\"},{\"id\":\"2181\"}],\"label_text_font_size\":\"8pt\",\"location\":\"center\"},\"id\":\"2392\",\"type\":\"Legend\"},{\"attributes\":{\"source\":{\"id\":\"1908\"}},\"id\":\"2243\",\"type\":\"CDSView\"},{\"attributes\":{\"fill_alpha\":{\"value\":0.5},\"fill_color\":{\"value\":\"#37588C\"},\"hatch_alpha\":{\"value\":0.5},\"hatch_color\":{\"value\":\"#37588C\"},\"line_alpha\":{\"value\":0.5},\"line_color\":{\"value\":\"#37588C\"},\"marker\":{\"value\":\"diamond\"},\"size\":{\"value\":10},\"x\":{\"field\":\"TimeGenerated\"},\"y\":{\"field\":\"y_index\"}},\"id\":\"2246\",\"type\":\"Scatter\"},{\"attributes\":{},\"id\":\"2459\",\"type\":\"UnionRenderers\"},{\"attributes\":{\"fill_alpha\":{\"value\":0.2},\"fill_color\":{\"value\":\"#37588C\"},\"hatch_alpha\":{\"value\":0.2},\"hatch_color\":{\"value\":\"#37588C\"},\"line_alpha\":{\"value\":0.2},\"line_color\":{\"value\":\"#37588C\"},\"marker\":{\"value\":\"diamond\"},\"size\":{\"value\":10},\"x\":{\"field\":\"TimeGenerated\"},\"y\":{\"field\":\"y_index\"}},\"id\":\"2248\",\"type\":\"Scatter\"},{\"attributes\":{\"data\":{\"AppResourceProvider\":[\"OneDrive\"],\"IPAddress\":[\"52.104.99.172\"],\"Operation\":[\"FilePreviewed\"],\"TimeGenerated\":{\"__ndarray__\":\"AIDWl1GOeEI=\",\"dtype\":\"float64\",\"order\":\"little\",\"shape\":[1]},\"index\":[533],\"y_index\":[25]},\"selected\":{\"id\":\"2454\"},\"selection_policy\":{\"id\":\"2453\"}},\"id\":\"1924\",\"type\":\"ColumnDataSource\"},{\"attributes\":{\"source\":{\"id\":\"1911\"}},\"id\":\"2264\",\"type\":\"CDSView\"},{\"attributes\":{},\"id\":\"2460\",\"type\":\"Selection\"},{\"attributes\":{\"coordinates\":null,\"data_source\":{\"id\":\"1909\"},\"glyph\":{\"id\":\"2246\"},\"group\":null,\"hover_glyph\":null,\"muted_glyph\":{\"id\":\"2248\"},\"nonselection_glyph\":{\"id\":\"2247\"},\"view\":{\"id\":\"2250\"}},\"id\":\"2249\",\"type\":\"GlyphRenderer\"},{\"attributes\":{\"end\":1687575753752.2627,\"start\":1687353240380.14},\"id\":\"1966\",\"type\":\"Range1d\"},{\"attributes\":{\"label\":{\"value\":\"2603:10b6:208:23d::15\"},\"renderers\":[{\"id\":\"2249\"}]},\"id\":\"2251\",\"type\":\"LegendItem\"},{\"attributes\":{\"source\":{\"id\":\"1909\"}},\"id\":\"2250\",\"type\":\"CDSView\"},{\"attributes\":{\"data\":{\"AppResourceProvider\":[\"SharePoint\"],\"IPAddress\":[\"52.104.99.169\"],\"Operation\":[\"FilePreviewed\"],\"TimeGenerated\":{\"__ndarray__\":\"AIBpPpCOeEI=\",\"dtype\":\"float64\",\"order\":\"little\",\"shape\":[1]},\"index\":[238],\"y_index\":[22]},\"selected\":{\"id\":\"2448\"},\"selection_policy\":{\"id\":\"2447\"}},\"id\":\"1921\",\"type\":\"ColumnDataSource\"},{\"attributes\":{\"fill_alpha\":{\"value\":0.1},\"fill_color\":{\"value\":\"#2D6E8E\"},\"hatch_alpha\":{\"value\":0.1},\"hatch_color\":{\"value\":\"#2D6E8E\"},\"line_alpha\":{\"value\":0.1},\"line_color\":{\"value\":\"#2D6E8E\"},\"marker\":{\"value\":\"diamond\"},\"size\":{\"value\":10},\"x\":{\"field\":\"TimeGenerated\"},\"y\":{\"field\":\"y_index\"}},\"id\":\"2268\",\"type\":\"Scatter\"},{\"attributes\":{\"label\":{\"value\":\"2603:10b6:208:3da::13\"},\"renderers\":[{\"id\":\"2263\"}]},\"id\":\"2265\",\"type\":\"LegendItem\"},{\"attributes\":{\"source\":{\"id\":\"1912\"}},\"id\":\"2271\",\"type\":\"CDSView\"},{\"attributes\":{\"fill_alpha\":{\"value\":0.5},\"fill_color\":{\"value\":\"#2A758E\"},\"hatch_alpha\":{\"value\":0.5},\"hatch_color\":{\"value\":\"#2A758E\"},\"line_alpha\":{\"value\":0.5},\"line_color\":{\"value\":\"#2A758E\"},\"marker\":{\"value\":\"diamond\"},\"size\":{\"value\":10},\"x\":{\"field\":\"TimeGenerated\"},\"y\":{\"field\":\"y_index\"}},\"id\":\"2274\",\"type\":\"Scatter\"},{\"attributes\":{\"data\":{\"AppResourceProvider\":[\"Exchange\",\"Exchange\",\"Exchange\",\"Exchange\",\"Exchange\",\"Exchange\",\"Exchange\",\"Exchange\",\"Exchange\",\"Exchange\",\"Exchange\",\"Exchange\",\"Exchange\",\"Exchange\",\"Exchange\",\"Exchange\",\"Exchange\",\"Exchange\"],\"IPAddress\":[\"20.190.157.96\",\"20.190.157.96\",\"20.190.157.96\",\"20.190.157.96\",\"20.190.157.96\",\"20.190.157.96\",\"20.190.157.96\",\"20.190.157.96\",\"20.190.157.96\",\"20.190.157.96\",\"20.190.157.96\",\"20.190.157.96\",\"20.190.157.96\",\"20.190.157.96\",\"20.190.157.96\",\"20.190.157.96\",\"20.190.157.96\",\"20.190.157.96\"],\"Operation\":[\"MailItemsAccessed\",\"MailItemsAccessed\",\"MailItemsAccessed\",\"MailItemsAccessed\",\"MailItemsAccessed\",\"MailItemsAccessed\",\"MailItemsAccessed\",\"MailItemsAccessed\",\"MailItemsAccessed\",\"MailItemsAccessed\",\"MailItemsAccessed\",\"MailItemsAccessed\",\"MailItemsAccessed\",\"MailItemsAccessed\",\"MailItemsAccessed\",\"MailItemsAccessed\",\"MailItemsAccessed\",\"MailItemsAccessed\"],\"TimeGenerated\":{\"__ndarray__\":\"AIBQXv2NeEIAgM8PGI54QgAAvLY2jnhCAABpoziOeEIAgFSQOo54QgAAqllGjnhCAIBSMFGOeEIAgKebY454QgCA9HlqjnhCAAAb6W2OeEIAAANYcY54QgCAxruDjnhCAID55YWOeEIAgDYUjo54QgAAuOiPjnhCAICYOZOOeEIAgDFTlY54QgCAPGaVjnhC\",\"dtype\":\"float64\",\"order\":\"little\",\"shape\":[18]},\"index\":[140,184,573,603,615,148,362,547,423,539,540,205,449,287,232,298,464,470],\"y_index\":[6,6,6,6,6,6,6,6,6,6,6,6,6,6,6,6,6,6]},\"selected\":{\"id\":\"2416\"},\"selection_policy\":{\"id\":\"2415\"}},\"id\":\"1905\",\"type\":\"ColumnDataSource\"},{\"attributes\":{\"fill_alpha\":{\"value\":0.2},\"fill_color\":{\"value\":\"#2A758E\"},\"hatch_alpha\":{\"value\":0.2},\"hatch_color\":{\"value\":\"#2A758E\"},\"line_alpha\":{\"value\":0.2},\"line_color\":{\"value\":\"#2A758E\"},\"marker\":{\"value\":\"diamond\"},\"size\":{\"value\":10},\"x\":{\"field\":\"TimeGenerated\"},\"y\":{\"field\":\"y_index\"}},\"id\":\"2276\",\"type\":\"Scatter\"},{\"attributes\":{\"coordinates\":null,\"data_source\":{\"id\":\"1925\"},\"glyph\":{\"id\":\"2358\"},\"group\":null,\"hover_glyph\":null,\"muted_glyph\":{\"id\":\"2360\"},\"nonselection_glyph\":{\"id\":\"2359\"},\"view\":{\"id\":\"2362\"}},\"id\":\"2361\",\"type\":\"GlyphRenderer\"},{\"attributes\":{\"coordinates\":null,\"data_source\":{\"id\":\"1913\"},\"glyph\":{\"id\":\"2274\"},\"group\":null,\"hover_glyph\":null,\"muted_glyph\":{\"id\":\"2276\"},\"nonselection_glyph\":{\"id\":\"2275\"},\"view\":{\"id\":\"2278\"}},\"id\":\"2277\",\"type\":\"GlyphRenderer\"},{\"attributes\":{\"fill_alpha\":{\"value\":0.1},\"fill_color\":{\"value\":\"#287B8E\"},\"hatch_alpha\":{\"value\":0.1},\"hatch_color\":{\"value\":\"#287B8E\"},\"line_alpha\":{\"value\":0.1},\"line_color\":{\"value\":\"#287B8E\"},\"marker\":{\"value\":\"diamond\"},\"size\":{\"value\":10},\"x\":{\"field\":\"TimeGenerated\"},\"y\":{\"field\":\"y_index\"}},\"id\":\"2282\",\"type\":\"Scatter\"},{\"attributes\":{\"label\":{\"value\":\"2603:10b6:208:48a::21\"},\"renderers\":[{\"id\":\"2277\"}]},\"id\":\"2279\",\"type\":\"LegendItem\"},{\"attributes\":{},\"id\":\"2461\",\"type\":\"UnionRenderers\"},{\"attributes\":{\"data\":{\"AppResourceProvider\":[\"OneDrive\"],\"IPAddress\":[\"52.104.99.174\"],\"Operation\":[\"FileAccessed\"],\"TimeGenerated\":{\"__ndarray__\":\"AIAtWo2OeEI=\",\"dtype\":\"float64\",\"order\":\"little\",\"shape\":[1]},\"index\":[270],\"y_index\":[26]},\"selected\":{\"id\":\"2456\"},\"selection_policy\":{\"id\":\"2455\"}},\"id\":\"1925\",\"type\":\"ColumnDataSource\"},{\"attributes\":{\"source\":{\"id\":\"1913\"}},\"id\":\"2278\",\"type\":\"CDSView\"},{\"attributes\":{},\"id\":\"2462\",\"type\":\"Selection\"},{\"attributes\":{\"fill_alpha\":{\"value\":0.5},\"fill_color\":{\"value\":\"#287B8E\"},\"hatch_alpha\":{\"value\":0.5},\"hatch_color\":{\"value\":\"#287B8E\"},\"line_alpha\":{\"value\":0.5},\"line_color\":{\"value\":\"#287B8E\"},\"marker\":{\"value\":\"diamond\"},\"size\":{\"value\":10},\"x\":{\"field\":\"TimeGenerated\"},\"y\":{\"field\":\"y_index\"}},\"id\":\"2281\",\"type\":\"Scatter\"},{\"attributes\":{\"data\":{\"AppResourceProvider\":[\"Exchange\",\"Exchange\",\"Exchange\",\"Exchange\",\"Exchange\",\"Exchange\",\"Exchange\",\"Exchange\",\"Exchange\",\"Exchange\",\"Exchange\"],\"IPAddress\":[\"2603:10b6:208:48c::19\",\"2603:10b6:208:48c::19\",\"2603:10b6:208:48c::19\",\"2603:10b6:208:48c::19\",\"2603:10b6:208:48c::19\",\"2603:10b6:208:48c::19\",\"2603:10b6:208:48c::19\",\"2603:10b6:208:48c::19\",\"2603:10b6:208:48c::19\",\"2603:10b6:208:48c::19\",\"2603:10b6:208:48c::19\"],\"Operation\":[\"MailItemsAccessed\",\"MailItemsAccessed\",\"MailItemsAccessed\",\"MailItemsAccessed\",\"MailItemsAccessed\",\"MailItemsAccessed\",\"MailItemsAccessed\",\"MailItemsAccessed\",\"MailItemsAccessed\",\"MailItemsAccessed\",\"MailItemsAccessed\"],\"TimeGenerated\":{\"__ndarray__\":\"AIB+MR+OeEIAgH4xH454QgCAfjEfjnhCAIB+MR+OeEIAgH4xH454QgCAfjEfjnhCAIB+MR+OeEIAgH4xH454QgCAfjEfjnhCAIB+MR+OeEIAgH4xH454Qg==\",\"dtype\":\"float64\",\"order\":\"little\",\"shape\":[11]},\"index\":[197,204,198,202,201,200,199,203,194,195,196],\"y_index\":[15,15,15,15,15,15,15,15,15,15,15]},\"selected\":{\"id\":\"2434\"},\"selection_policy\":{\"id\":\"2433\"}},\"id\":\"1914\",\"type\":\"ColumnDataSource\"},{\"attributes\":{\"fill_alpha\":{\"value\":0.2},\"fill_color\":{\"value\":\"#287B8E\"},\"hatch_alpha\":{\"value\":0.2},\"hatch_color\":{\"value\":\"#287B8E\"},\"line_alpha\":{\"value\":0.2},\"line_color\":{\"value\":\"#287B8E\"},\"marker\":{\"value\":\"diamond\"},\"size\":{\"value\":10},\"x\":{\"field\":\"TimeGenerated\"},\"y\":{\"field\":\"y_index\"}},\"id\":\"2283\",\"type\":\"Scatter\"},{\"attributes\":{\"data\":{\"AppResourceProvider\":[\"OneDrive\"],\"IPAddress\":[\"52.104.99.170\"],\"Operation\":[\"FilePreviewed\"],\"TimeGenerated\":{\"__ndarray__\":\"AACgV5OOeEI=\",\"dtype\":\"float64\",\"order\":\"little\",\"shape\":[1]},\"index\":[459],\"y_index\":[23]},\"selected\":{\"id\":\"2450\"},\"selection_policy\":{\"id\":\"2449\"}},\"id\":\"1922\",\"type\":\"ColumnDataSource\"},{\"attributes\":{\"source\":{\"id\":\"1925\"}},\"id\":\"2362\",\"type\":\"CDSView\"},{\"attributes\":{\"coordinates\":null,\"data_source\":{\"id\":\"1914\"},\"glyph\":{\"id\":\"2281\"},\"group\":null,\"hover_glyph\":null,\"muted_glyph\":{\"id\":\"2283\"},\"nonselection_glyph\":{\"id\":\"2282\"},\"view\":{\"id\":\"2285\"}},\"id\":\"2284\",\"type\":\"GlyphRenderer\"},{\"attributes\":{\"data\":{\"AppResourceProvider\":[\"Exchange\",\"Exchange\",\"Exchange\",\"Exchange\",\"Exchange\",\"Exchange\",\"Exchange\",\"Exchange\",\"Exchange\",\"Exchange\",\"Exchange\"],\"IPAddress\":[\"20.190.157.27\",\"20.190.157.27\",\"20.190.157.27\",\"20.190.157.27\",\"20.190.157.27\",\"20.190.157.27\",\"20.190.157.27\",\"20.190.157.27\",\"20.190.157.27\",\"20.190.157.27\",\"20.190.157.27\"],\"Operation\":[\"MailItemsAccessed\",\"MailItemsAccessed\",\"MailItemsAccessed\",\"MailItemsAccessed\",\"MailItemsAccessed\",\"MailItemsAccessed\",\"MailItemsAccessed\",\"MailItemsAccessed\",\"MailItemsAccessed\",\"MailItemsAccessed\",\"MailItemsAccessed\"],\"TimeGenerated\":{\"__ndarray__\":\"AIBo7/mNeEIAgNilHo54QgAAbqYmjnhCAAAXHDWOeEIAAIu1O454QgCAE/c8jnhCAABVsj2OeEIAgHYNQY54QgAAzgpnjnhCAIAaGYeOeEIAgJdClY54Qg==\",\"dtype\":\"float64\",\"order\":\"little\",\"shape\":[11]},\"index\":[110,346,360,559,597,634,620,123,422,265,467],\"y_index\":[4,4,4,4,4,4,4,4,4,4,4]},\"selected\":{\"id\":\"2412\"},\"selection_policy\":{\"id\":\"2411\"}},\"id\":\"1903\",\"type\":\"ColumnDataSource\"},{\"attributes\":{\"fill_alpha\":{\"value\":0.5},\"fill_color\":{\"value\":\"#25828E\"},\"hatch_alpha\":{\"value\":0.5},\"hatch_color\":{\"value\":\"#25828E\"},\"line_alpha\":{\"value\":0.5},\"line_color\":{\"value\":\"#25828E\"},\"marker\":{\"value\":\"diamond\"},\"size\":{\"value\":10},\"x\":{\"field\":\"TimeGenerated\"},\"y\":{\"field\":\"y_index\"}},\"id\":\"2288\",\"type\":\"Scatter\"},{\"attributes\":{\"source\":{\"id\":\"1914\"}},\"id\":\"2285\",\"type\":\"CDSView\"},{\"attributes\":{},\"id\":\"1970\",\"type\":\"LinearScale\"},{\"attributes\":{\"label\":{\"value\":\"2603:10b6:208:48c::19\"},\"renderers\":[{\"id\":\"2284\"}]},\"id\":\"2286\",\"type\":\"LegendItem\"},{\"attributes\":{\"fill_alpha\":{\"value\":0.2},\"fill_color\":{\"value\":\"#440154\"},\"hatch_alpha\":{\"value\":0.2},\"hatch_color\":{\"value\":\"#440154\"},\"line_alpha\":{\"value\":0.2},\"line_color\":{\"value\":\"#440154\"},\"marker\":{\"value\":\"diamond\"},\"size\":{\"value\":10},\"x\":{\"field\":\"TimeGenerated\"},\"y\":{\"field\":\"y_index\"}},\"id\":\"2178\",\"type\":\"Scatter\"},{\"attributes\":{\"fill_alpha\":{\"value\":0.1},\"fill_color\":{\"value\":\"#2D6E8E\"},\"hatch_alpha\":{\"value\":0.1},\"hatch_color\":{\"value\":\"#2D6E8E\"},\"line_alpha\":{\"value\":0.1},\"line_color\":{\"value\":\"#2D6E8E\"},\"x\":{\"field\":\"TimeGenerated\"},\"y\":{\"field\":\"y_index\"}},\"id\":\"2062\",\"type\":\"Circle\"},{\"attributes\":{\"source\":{\"id\":\"1899\"}},\"id\":\"1987\",\"type\":\"CDSView\"},{\"attributes\":{\"fill_alpha\":{\"value\":0.2},\"fill_color\":{\"value\":\"#2AB07E\"},\"hatch_alpha\":{\"value\":0.2},\"hatch_color\":{\"value\":\"#2AB07E\"},\"line_alpha\":{\"value\":0.2},\"line_color\":{\"value\":\"#2AB07E\"},\"x\":{\"field\":\"TimeGenerated\"},\"y\":{\"field\":\"y_index\"}},\"id\":\"2123\",\"type\":\"Circle\"},{\"attributes\":{\"fill_alpha\":{\"value\":0.1},\"fill_color\":{\"value\":\"#2AB07E\"},\"hatch_alpha\":{\"value\":0.1},\"hatch_color\":{\"value\":\"#2AB07E\"},\"line_alpha\":{\"value\":0.1},\"line_color\":{\"value\":\"#2AB07E\"},\"x\":{\"field\":\"TimeGenerated\"},\"y\":{\"field\":\"y_index\"}},\"id\":\"2122\",\"type\":\"Circle\"},{\"attributes\":{\"fill_color\":{\"value\":\"#35B778\"},\"hatch_color\":{\"value\":\"#35B778\"},\"line_color\":{\"value\":\"#35B778\"},\"x\":{\"field\":\"TimeGenerated\"},\"y\":{\"field\":\"y_index\"}},\"id\":\"2127\",\"type\":\"Circle\"},{\"attributes\":{\"source\":{\"id\":\"1922\"}},\"id\":\"2125\",\"type\":\"CDSView\"},{\"attributes\":{\"fill_alpha\":{\"value\":0.1},\"fill_color\":{\"value\":\"#35B778\"},\"hatch_alpha\":{\"value\":0.1},\"hatch_color\":{\"value\":\"#35B778\"},\"line_alpha\":{\"value\":0.1},\"line_color\":{\"value\":\"#35B778\"},\"x\":{\"field\":\"TimeGenerated\"},\"y\":{\"field\":\"y_index\"}},\"id\":\"2128\",\"type\":\"Circle\"},{\"attributes\":{\"coordinates\":null,\"data_source\":{\"id\":\"1922\"},\"glyph\":{\"id\":\"2121\"},\"group\":null,\"hover_glyph\":null,\"muted_glyph\":{\"id\":\"2123\"},\"nonselection_glyph\":{\"id\":\"2122\"},\"view\":{\"id\":\"2125\"}},\"id\":\"2124\",\"type\":\"GlyphRenderer\"},{\"attributes\":{\"label\":{\"value\":\"192.168.1.72\"},\"renderers\":[{\"id\":\"2186\"}]},\"id\":\"2188\",\"type\":\"LegendItem\"},{\"attributes\":{},\"id\":\"2423\",\"type\":\"UnionRenderers\"},{\"attributes\":{},\"id\":\"2431\",\"type\":\"UnionRenderers\"},{\"attributes\":{\"fill_alpha\":{\"value\":0.1},\"fill_color\":{\"value\":\"#471567\"},\"hatch_alpha\":{\"value\":0.1},\"hatch_color\":{\"value\":\"#471567\"},\"line_alpha\":{\"value\":0.1},\"line_color\":{\"value\":\"#471567\"},\"marker\":{\"value\":\"diamond\"},\"size\":{\"value\":10},\"x\":{\"field\":\"TimeGenerated\"},\"y\":{\"field\":\"y_index\"}},\"id\":\"2191\",\"type\":\"Scatter\"},{\"attributes\":{},\"id\":\"2447\",\"type\":\"UnionRenderers\"},{\"attributes\":{\"coordinates\":null,\"data_source\":{\"id\":\"1899\"},\"glyph\":{\"id\":\"1983\"},\"group\":null,\"hover_glyph\":null,\"muted_glyph\":{\"id\":\"1985\"},\"nonselection_glyph\":{\"id\":\"1984\"},\"view\":{\"id\":\"1987\"}},\"id\":\"1986\",\"type\":\"GlyphRenderer\"},{\"attributes\":{\"fill_alpha\":{\"value\":0.2},\"fill_color\":{\"value\":\"#35B778\"},\"hatch_alpha\":{\"value\":0.2},\"hatch_color\":{\"value\":\"#35B778\"},\"line_alpha\":{\"value\":0.2},\"line_color\":{\"value\":\"#35B778\"},\"x\":{\"field\":\"TimeGenerated\"},\"y\":{\"field\":\"y_index\"}},\"id\":\"2129\",\"type\":\"Circle\"},{\"attributes\":{},\"id\":\"2424\",\"type\":\"Selection\"},{\"attributes\":{\"fill_color\":{\"value\":\"#40BD72\"},\"hatch_color\":{\"value\":\"#40BD72\"},\"line_color\":{\"value\":\"#40BD72\"},\"x\":{\"field\":\"TimeGenerated\"},\"y\":{\"field\":\"y_index\"}},\"id\":\"2133\",\"type\":\"Circle\"},{\"attributes\":{},\"id\":\"2432\",\"type\":\"Selection\"},{\"attributes\":{},\"id\":\"2448\",\"type\":\"Selection\"},{\"attributes\":{\"source\":{\"id\":\"1923\"}},\"id\":\"2131\",\"type\":\"CDSView\"},{\"attributes\":{\"fill_alpha\":{\"value\":0.1},\"fill_color\":{\"value\":\"#40BD72\"},\"hatch_alpha\":{\"value\":0.1},\"hatch_color\":{\"value\":\"#40BD72\"},\"line_alpha\":{\"value\":0.1},\"line_color\":{\"value\":\"#40BD72\"},\"x\":{\"field\":\"TimeGenerated\"},\"y\":{\"field\":\"y_index\"}},\"id\":\"2134\",\"type\":\"Circle\"},{\"attributes\":{\"coordinates\":null,\"data_source\":{\"id\":\"1923\"},\"glyph\":{\"id\":\"2127\"},\"group\":null,\"hover_glyph\":null,\"muted_glyph\":{\"id\":\"2129\"},\"nonselection_glyph\":{\"id\":\"2128\"},\"view\":{\"id\":\"2131\"}},\"id\":\"2130\",\"type\":\"GlyphRenderer\"},{\"attributes\":{\"coordinates\":null,\"data_source\":{\"id\":\"1900\"},\"glyph\":{\"id\":\"2183\"},\"group\":null,\"hover_glyph\":null,\"muted_glyph\":{\"id\":\"2185\"},\"nonselection_glyph\":{\"id\":\"2184\"},\"view\":{\"id\":\"2187\"}},\"id\":\"2186\",\"type\":\"GlyphRenderer\"},{\"attributes\":{\"source\":{\"id\":\"1910\"}},\"id\":\"2257\",\"type\":\"CDSView\"},{\"attributes\":{\"fill_alpha\":{\"value\":0.2},\"fill_color\":{\"value\":\"#40BD72\"},\"hatch_alpha\":{\"value\":0.2},\"hatch_color\":{\"value\":\"#40BD72\"},\"line_alpha\":{\"value\":0.2},\"line_color\":{\"value\":\"#40BD72\"},\"x\":{\"field\":\"TimeGenerated\"},\"y\":{\"field\":\"y_index\"}},\"id\":\"2135\",\"type\":\"Circle\"},{\"attributes\":{\"fill_color\":{\"value\":\"#4DC26B\"},\"hatch_color\":{\"value\":\"#4DC26B\"},\"line_color\":{\"value\":\"#4DC26B\"},\"x\":{\"field\":\"TimeGenerated\"},\"y\":{\"field\":\"y_index\"}},\"id\":\"2139\",\"type\":\"Circle\"},{\"attributes\":{\"fill_alpha\":{\"value\":0.2},\"fill_color\":{\"value\":\"#460B5E\"},\"hatch_alpha\":{\"value\":0.2},\"hatch_color\":{\"value\":\"#460B5E\"},\"line_alpha\":{\"value\":0.2},\"line_color\":{\"value\":\"#460B5E\"},\"x\":{\"field\":\"TimeGenerated\"},\"y\":{\"field\":\"y_index\"}},\"id\":\"1991\",\"type\":\"Circle\"},{\"attributes\":{\"source\":{\"id\":\"1924\"}},\"id\":\"2137\",\"type\":\"CDSView\"},{\"attributes\":{\"fill_alpha\":{\"value\":0.1},\"fill_color\":{\"value\":\"#4DC26B\"},\"hatch_alpha\":{\"value\":0.1},\"hatch_color\":{\"value\":\"#4DC26B\"},\"line_alpha\":{\"value\":0.1},\"line_color\":{\"value\":\"#4DC26B\"},\"x\":{\"field\":\"TimeGenerated\"},\"y\":{\"field\":\"y_index\"}},\"id\":\"2140\",\"type\":\"Circle\"},{\"attributes\":{\"coordinates\":null,\"data_source\":{\"id\":\"1924\"},\"glyph\":{\"id\":\"2133\"},\"group\":null,\"hover_glyph\":null,\"muted_glyph\":{\"id\":\"2135\"},\"nonselection_glyph\":{\"id\":\"2134\"},\"view\":{\"id\":\"2137\"}},\"id\":\"2136\",\"type\":\"GlyphRenderer\"},{\"attributes\":{\"active_multi\":{\"id\":\"2168\"},\"tools\":[{\"id\":\"2168\"}]},\"id\":\"1978\",\"type\":\"Toolbar\"},{\"attributes\":{\"fill_alpha\":{\"value\":0.2},\"fill_color\":{\"value\":\"#460B5E\"},\"hatch_alpha\":{\"value\":0.2},\"hatch_color\":{\"value\":\"#460B5E\"},\"line_alpha\":{\"value\":0.2},\"line_color\":{\"value\":\"#460B5E\"},\"marker\":{\"value\":\"diamond\"},\"size\":{\"value\":10},\"x\":{\"field\":\"TimeGenerated\"},\"y\":{\"field\":\"y_index\"}},\"id\":\"2185\",\"type\":\"Scatter\"},{\"attributes\":{\"coordinates\":null,\"data_source\":{\"id\":\"1910\"},\"glyph\":{\"id\":\"2253\"},\"group\":null,\"hover_glyph\":null,\"muted_glyph\":{\"id\":\"2255\"},\"nonselection_glyph\":{\"id\":\"2254\"},\"view\":{\"id\":\"2257\"}},\"id\":\"2256\",\"type\":\"GlyphRenderer\"},{\"attributes\":{\"fill_alpha\":{\"value\":0.2},\"fill_color\":{\"value\":\"#4DC26B\"},\"hatch_alpha\":{\"value\":0.2},\"hatch_color\":{\"value\":\"#4DC26B\"},\"line_alpha\":{\"value\":0.2},\"line_color\":{\"value\":\"#4DC26B\"},\"x\":{\"field\":\"TimeGenerated\"},\"y\":{\"field\":\"y_index\"}},\"id\":\"2141\",\"type\":\"Circle\"},{\"attributes\":{\"fill_color\":{\"value\":\"#5BC862\"},\"hatch_color\":{\"value\":\"#5BC862\"},\"line_color\":{\"value\":\"#5BC862\"},\"x\":{\"field\":\"TimeGenerated\"},\"y\":{\"field\":\"y_index\"}},\"id\":\"2145\",\"type\":\"Circle\"},{\"attributes\":{\"source\":{\"id\":\"1925\"}},\"id\":\"2143\",\"type\":\"CDSView\"},{\"attributes\":{\"fill_alpha\":{\"value\":0.1},\"fill_color\":{\"value\":\"#5BC862\"},\"hatch_alpha\":{\"value\":0.1},\"hatch_color\":{\"value\":\"#5BC862\"},\"line_alpha\":{\"value\":0.1},\"line_color\":{\"value\":\"#5BC862\"},\"x\":{\"field\":\"TimeGenerated\"},\"y\":{\"field\":\"y_index\"}},\"id\":\"2146\",\"type\":\"Circle\"},{\"attributes\":{\"coordinates\":null,\"data_source\":{\"id\":\"1925\"},\"glyph\":{\"id\":\"2139\"},\"group\":null,\"hover_glyph\":null,\"muted_glyph\":{\"id\":\"2141\"},\"nonselection_glyph\":{\"id\":\"2140\"},\"view\":{\"id\":\"2143\"}},\"id\":\"2142\",\"type\":\"GlyphRenderer\"},{\"attributes\":{},\"id\":\"2425\",\"type\":\"UnionRenderers\"},{\"attributes\":{},\"id\":\"2433\",\"type\":\"UnionRenderers\"},{\"attributes\":{},\"id\":\"2449\",\"type\":\"UnionRenderers\"},{\"attributes\":{\"fill_alpha\":{\"value\":0.5},\"fill_color\":{\"value\":\"#460B5E\"},\"hatch_alpha\":{\"value\":0.5},\"hatch_color\":{\"value\":\"#460B5E\"},\"line_alpha\":{\"value\":0.5},\"line_color\":{\"value\":\"#460B5E\"},\"marker\":{\"value\":\"diamond\"},\"size\":{\"value\":10},\"x\":{\"field\":\"TimeGenerated\"},\"y\":{\"field\":\"y_index\"}},\"id\":\"2183\",\"type\":\"Scatter\"},{\"attributes\":{\"fill_alpha\":{\"value\":0.1},\"fill_color\":{\"value\":\"#460B5E\"},\"hatch_alpha\":{\"value\":0.1},\"hatch_color\":{\"value\":\"#460B5E\"},\"line_alpha\":{\"value\":0.1},\"line_color\":{\"value\":\"#460B5E\"},\"x\":{\"field\":\"TimeGenerated\"},\"y\":{\"field\":\"y_index\"}},\"id\":\"1990\",\"type\":\"Circle\"},{\"attributes\":{\"fill_alpha\":{\"value\":0.2},\"fill_color\":{\"value\":\"#5BC862\"},\"hatch_alpha\":{\"value\":0.2},\"hatch_color\":{\"value\":\"#5BC862\"},\"line_alpha\":{\"value\":0.2},\"line_color\":{\"value\":\"#5BC862\"},\"x\":{\"field\":\"TimeGenerated\"},\"y\":{\"field\":\"y_index\"}},\"id\":\"2147\",\"type\":\"Circle\"},{\"attributes\":{},\"id\":\"2426\",\"type\":\"Selection\"},{\"attributes\":{\"fill_color\":{\"value\":\"#6BCD59\"},\"hatch_color\":{\"value\":\"#6BCD59\"},\"line_color\":{\"value\":\"#6BCD59\"},\"x\":{\"field\":\"TimeGenerated\"},\"y\":{\"field\":\"y_index\"}},\"id\":\"2151\",\"type\":\"Circle\"},{\"attributes\":{},\"id\":\"2434\",\"type\":\"Selection\"},{\"attributes\":{},\"id\":\"2450\",\"type\":\"Selection\"},{\"attributes\":{\"source\":{\"id\":\"1926\"}},\"id\":\"2149\",\"type\":\"CDSView\"},{\"attributes\":{\"fill_alpha\":{\"value\":0.1},\"fill_color\":{\"value\":\"#6BCD59\"},\"hatch_alpha\":{\"value\":0.1},\"hatch_color\":{\"value\":\"#6BCD59\"},\"line_alpha\":{\"value\":0.1},\"line_color\":{\"value\":\"#6BCD59\"},\"x\":{\"field\":\"TimeGenerated\"},\"y\":{\"field\":\"y_index\"}},\"id\":\"2152\",\"type\":\"Circle\"},{\"attributes\":{\"coordinates\":null,\"data_source\":{\"id\":\"1926\"},\"glyph\":{\"id\":\"2145\"},\"group\":null,\"hover_glyph\":null,\"muted_glyph\":{\"id\":\"2147\"},\"nonselection_glyph\":{\"id\":\"2146\"},\"view\":{\"id\":\"2149\"}},\"id\":\"2148\",\"type\":\"GlyphRenderer\"},{\"attributes\":{\"fill_alpha\":{\"value\":0.1},\"fill_color\":{\"value\":\"#460B5E\"},\"hatch_alpha\":{\"value\":0.1},\"hatch_color\":{\"value\":\"#460B5E\"},\"line_alpha\":{\"value\":0.1},\"line_color\":{\"value\":\"#460B5E\"},\"marker\":{\"value\":\"diamond\"},\"size\":{\"value\":10},\"x\":{\"field\":\"TimeGenerated\"},\"y\":{\"field\":\"y_index\"}},\"id\":\"2184\",\"type\":\"Scatter\"},{\"attributes\":{\"source\":{\"id\":\"1899\"}},\"id\":\"2180\",\"type\":\"CDSView\"},{\"attributes\":{\"fill_alpha\":{\"value\":0.2},\"fill_color\":{\"value\":\"#6BCD59\"},\"hatch_alpha\":{\"value\":0.2},\"hatch_color\":{\"value\":\"#6BCD59\"},\"line_alpha\":{\"value\":0.2},\"line_color\":{\"value\":\"#6BCD59\"},\"x\":{\"field\":\"TimeGenerated\"},\"y\":{\"field\":\"y_index\"}},\"id\":\"2153\",\"type\":\"Circle\"},{\"attributes\":{\"fill_color\":{\"value\":\"#7CD24F\"},\"hatch_color\":{\"value\":\"#7CD24F\"},\"line_color\":{\"value\":\"#7CD24F\"},\"x\":{\"field\":\"TimeGenerated\"},\"y\":{\"field\":\"y_index\"}},\"id\":\"2157\",\"type\":\"Circle\"},{\"attributes\":{\"source\":{\"id\":\"1927\"}},\"id\":\"2155\",\"type\":\"CDSView\"},{\"attributes\":{\"fill_alpha\":{\"value\":0.1},\"fill_color\":{\"value\":\"#7CD24F\"},\"hatch_alpha\":{\"value\":0.1},\"hatch_color\":{\"value\":\"#7CD24F\"},\"line_alpha\":{\"value\":0.1},\"line_color\":{\"value\":\"#7CD24F\"},\"x\":{\"field\":\"TimeGenerated\"},\"y\":{\"field\":\"y_index\"}},\"id\":\"2158\",\"type\":\"Circle\"},{\"attributes\":{\"coordinates\":null,\"data_source\":{\"id\":\"1927\"},\"glyph\":{\"id\":\"2151\"},\"group\":null,\"hover_glyph\":null,\"muted_glyph\":{\"id\":\"2153\"},\"nonselection_glyph\":{\"id\":\"2152\"},\"view\":{\"id\":\"2155\"}},\"id\":\"2154\",\"type\":\"GlyphRenderer\"},{\"attributes\":{\"coordinates\":null,\"data_source\":{\"id\":\"1899\"},\"glyph\":{\"id\":\"2176\"},\"group\":null,\"hover_glyph\":null,\"muted_glyph\":{\"id\":\"2178\"},\"nonselection_glyph\":{\"id\":\"2177\"},\"view\":{\"id\":\"2180\"}},\"id\":\"2179\",\"type\":\"GlyphRenderer\"},{\"attributes\":{\"label\":{\"value\":\"144.92.154.82\"},\"renderers\":[{\"id\":\"2179\"}]},\"id\":\"2181\",\"type\":\"LegendItem\"},{\"attributes\":{\"fill_alpha\":{\"value\":0.2},\"fill_color\":{\"value\":\"#30678D\"},\"hatch_alpha\":{\"value\":0.2},\"hatch_color\":{\"value\":\"#30678D\"},\"line_alpha\":{\"value\":0.2},\"line_color\":{\"value\":\"#30678D\"},\"marker\":{\"value\":\"diamond\"},\"size\":{\"value\":10},\"x\":{\"field\":\"TimeGenerated\"},\"y\":{\"field\":\"y_index\"}},\"id\":\"2262\",\"type\":\"Scatter\"},{\"attributes\":{\"fill_alpha\":{\"value\":0.1},\"fill_color\":{\"value\":\"#440154\"},\"hatch_alpha\":{\"value\":0.1},\"hatch_color\":{\"value\":\"#440154\"},\"line_alpha\":{\"value\":0.1},\"line_color\":{\"value\":\"#440154\"},\"marker\":{\"value\":\"diamond\"},\"size\":{\"value\":10},\"x\":{\"field\":\"TimeGenerated\"},\"y\":{\"field\":\"y_index\"}},\"id\":\"2177\",\"type\":\"Scatter\"},{\"attributes\":{\"fill_alpha\":{\"value\":0.1},\"fill_color\":{\"value\":\"#440154\"},\"hatch_alpha\":{\"value\":0.1},\"hatch_color\":{\"value\":\"#440154\"},\"line_alpha\":{\"value\":0.1},\"line_color\":{\"value\":\"#440154\"},\"x\":{\"field\":\"TimeGenerated\"},\"y\":{\"field\":\"y_index\"}},\"id\":\"1984\",\"type\":\"Circle\"},{\"attributes\":{},\"id\":\"2427\",\"type\":\"UnionRenderers\"},{\"attributes\":{\"source\":{\"id\":\"1900\"}},\"id\":\"2187\",\"type\":\"CDSView\"},{\"attributes\":{},\"id\":\"2435\",\"type\":\"UnionRenderers\"},{\"attributes\":{},\"id\":\"2451\",\"type\":\"UnionRenderers\"},{\"attributes\":{\"fill_alpha\":{\"value\":0.5},\"fill_color\":{\"value\":\"#471567\"},\"hatch_alpha\":{\"value\":0.5},\"hatch_color\":{\"value\":\"#471567\"},\"line_alpha\":{\"value\":0.5},\"line_color\":{\"value\":\"#471567\"},\"marker\":{\"value\":\"diamond\"},\"size\":{\"value\":10},\"x\":{\"field\":\"TimeGenerated\"},\"y\":{\"field\":\"y_index\"}},\"id\":\"2190\",\"type\":\"Scatter\"},{\"attributes\":{},\"id\":\"2428\",\"type\":\"Selection\"},{\"attributes\":{},\"id\":\"2436\",\"type\":\"Selection\"},{\"attributes\":{},\"id\":\"2452\",\"type\":\"Selection\"},{\"attributes\":{\"label\":{\"value\":\"2603:10b6:208:3ac::10\"},\"renderers\":[{\"id\":\"2256\"}]},\"id\":\"2258\",\"type\":\"LegendItem\"},{\"attributes\":{\"fill_alpha\":{\"value\":0.2},\"fill_color\":{\"value\":\"#471567\"},\"hatch_alpha\":{\"value\":0.2},\"hatch_color\":{\"value\":\"#471567\"},\"line_alpha\":{\"value\":0.2},\"line_color\":{\"value\":\"#471567\"},\"marker\":{\"value\":\"diamond\"},\"size\":{\"value\":10},\"x\":{\"field\":\"TimeGenerated\"},\"y\":{\"field\":\"y_index\"}},\"id\":\"2192\",\"type\":\"Scatter\"},{\"attributes\":{\"fill_alpha\":{\"value\":0.2},\"fill_color\":{\"value\":\"#4DC26B\"},\"hatch_alpha\":{\"value\":0.2},\"hatch_color\":{\"value\":\"#4DC26B\"},\"line_alpha\":{\"value\":0.2},\"line_color\":{\"value\":\"#4DC26B\"},\"marker\":{\"value\":\"diamond\"},\"size\":{\"value\":10},\"x\":{\"field\":\"TimeGenerated\"},\"y\":{\"field\":\"y_index\"}},\"id\":\"2360\",\"type\":\"Scatter\"},{\"attributes\":{\"coordinates\":null,\"data_source\":{\"id\":\"1901\"},\"glyph\":{\"id\":\"2190\"},\"group\":null,\"hover_glyph\":null,\"muted_glyph\":{\"id\":\"2192\"},\"nonselection_glyph\":{\"id\":\"2191\"},\"view\":{\"id\":\"2194\"}},\"id\":\"2193\",\"type\":\"GlyphRenderer\"},{\"attributes\":{\"fill_alpha\":{\"value\":0.1},\"fill_color\":{\"value\":\"#481E70\"},\"hatch_alpha\":{\"value\":0.1},\"hatch_color\":{\"value\":\"#481E70\"},\"line_alpha\":{\"value\":0.1},\"line_color\":{\"value\":\"#481E70\"},\"marker\":{\"value\":\"diamond\"},\"size\":{\"value\":10},\"x\":{\"field\":\"TimeGenerated\"},\"y\":{\"field\":\"y_index\"}},\"id\":\"2198\",\"type\":\"Scatter\"},{\"attributes\":{\"data\":{\"AppResourceProvider\":[\"SharePoint\"],\"IPAddress\":[\"52.104.99.50\"],\"Operation\":[\"FilePreviewed\"],\"TimeGenerated\":{\"__ndarray__\":\"AIBpPpCOeEI=\",\"dtype\":\"float64\",\"order\":\"little\",\"shape\":[1]},\"index\":[291],\"y_index\":[28]},\"selected\":{\"id\":\"2460\"},\"selection_policy\":{\"id\":\"2459\"}},\"id\":\"1927\",\"type\":\"ColumnDataSource\"},{\"attributes\":{\"label\":{\"value\":\"192.168.86.42\"},\"renderers\":[{\"id\":\"2193\"}]},\"id\":\"2195\",\"type\":\"LegendItem\"},{\"attributes\":{\"fill_color\":{\"value\":\"#460B5E\"},\"hatch_color\":{\"value\":\"#460B5E\"},\"line_color\":{\"value\":\"#460B5E\"},\"x\":{\"field\":\"TimeGenerated\"},\"y\":{\"field\":\"y_index\"}},\"id\":\"1989\",\"type\":\"Circle\"},{\"attributes\":{\"source\":{\"id\":\"1901\"}},\"id\":\"2194\",\"type\":\"CDSView\"},{\"attributes\":{\"fill_alpha\":{\"value\":0.5},\"fill_color\":{\"value\":\"#481E70\"},\"hatch_alpha\":{\"value\":0.5},\"hatch_color\":{\"value\":\"#481E70\"},\"line_alpha\":{\"value\":0.5},\"line_color\":{\"value\":\"#481E70\"},\"marker\":{\"value\":\"diamond\"},\"size\":{\"value\":10},\"x\":{\"field\":\"TimeGenerated\"},\"y\":{\"field\":\"y_index\"}},\"id\":\"2197\",\"type\":\"Scatter\"},{\"attributes\":{\"fill_alpha\":{\"value\":0.2},\"fill_color\":{\"value\":\"#345F8D\"},\"hatch_alpha\":{\"value\":0.2},\"hatch_color\":{\"value\":\"#345F8D\"},\"line_alpha\":{\"value\":0.2},\"line_color\":{\"value\":\"#345F8D\"},\"marker\":{\"value\":\"diamond\"},\"size\":{\"value\":10},\"x\":{\"field\":\"TimeGenerated\"},\"y\":{\"field\":\"y_index\"}},\"id\":\"2255\",\"type\":\"Scatter\"},{\"attributes\":{\"fill_alpha\":{\"value\":0.2},\"fill_color\":{\"value\":\"#481E70\"},\"hatch_alpha\":{\"value\":0.2},\"hatch_color\":{\"value\":\"#481E70\"},\"line_alpha\":{\"value\":0.2},\"line_color\":{\"value\":\"#481E70\"},\"marker\":{\"value\":\"diamond\"},\"size\":{\"value\":10},\"x\":{\"field\":\"TimeGenerated\"},\"y\":{\"field\":\"y_index\"}},\"id\":\"2199\",\"type\":\"Scatter\"},{\"attributes\":{\"fill_alpha\":{\"value\":0.1},\"fill_color\":{\"value\":\"#345F8D\"},\"hatch_alpha\":{\"value\":0.1},\"hatch_color\":{\"value\":\"#345F8D\"},\"line_alpha\":{\"value\":0.1},\"line_color\":{\"value\":\"#345F8D\"},\"marker\":{\"value\":\"diamond\"},\"size\":{\"value\":10},\"x\":{\"field\":\"TimeGenerated\"},\"y\":{\"field\":\"y_index\"}},\"id\":\"2254\",\"type\":\"Scatter\"},{\"attributes\":{\"coordinates\":null,\"data_source\":{\"id\":\"1902\"},\"glyph\":{\"id\":\"2197\"},\"group\":null,\"hover_glyph\":null,\"muted_glyph\":{\"id\":\"2199\"},\"nonselection_glyph\":{\"id\":\"2198\"},\"view\":{\"id\":\"2201\"}},\"id\":\"2200\",\"type\":\"GlyphRenderer\"},{\"attributes\":{\"fill_color\":{\"value\":\"#440154\"},\"hatch_color\":{\"value\":\"#440154\"},\"line_color\":{\"value\":\"#440154\"},\"x\":{\"field\":\"TimeGenerated\"},\"y\":{\"field\":\"y_index\"}},\"id\":\"1983\",\"type\":\"Circle\"},{\"attributes\":{\"fill_alpha\":{\"value\":0.1},\"fill_color\":{\"value\":\"#472777\"},\"hatch_alpha\":{\"value\":0.1},\"hatch_color\":{\"value\":\"#472777\"},\"line_alpha\":{\"value\":0.1},\"line_color\":{\"value\":\"#472777\"},\"marker\":{\"value\":\"diamond\"},\"size\":{\"value\":10},\"x\":{\"field\":\"TimeGenerated\"},\"y\":{\"field\":\"y_index\"}},\"id\":\"2205\",\"type\":\"Scatter\"},{\"attributes\":{\"label\":{\"value\":\"20.190.157.160\"},\"renderers\":[{\"id\":\"2200\"}]},\"id\":\"2202\",\"type\":\"LegendItem\"},{\"attributes\":{\"source\":{\"id\":\"1902\"}},\"id\":\"2201\",\"type\":\"CDSView\"},{\"attributes\":{},\"id\":\"2429\",\"type\":\"UnionRenderers\"},{\"attributes\":{},\"id\":\"2437\",\"type\":\"UnionRenderers\"},{\"attributes\":{\"fill_alpha\":{\"value\":0.5},\"fill_color\":{\"value\":\"#472777\"},\"hatch_alpha\":{\"value\":0.5},\"hatch_color\":{\"value\":\"#472777\"},\"line_alpha\":{\"value\":0.5},\"line_color\":{\"value\":\"#472777\"},\"marker\":{\"value\":\"diamond\"},\"size\":{\"value\":10},\"x\":{\"field\":\"TimeGenerated\"},\"y\":{\"field\":\"y_index\"}},\"id\":\"2204\",\"type\":\"Scatter\"},{\"attributes\":{},\"id\":\"2453\",\"type\":\"UnionRenderers\"},{\"attributes\":{},\"id\":\"2430\",\"type\":\"Selection\"},{\"attributes\":{},\"id\":\"2438\",\"type\":\"Selection\"},{\"attributes\":{},\"id\":\"2454\",\"type\":\"Selection\"},{\"attributes\":{\"coordinates\":null,\"data_source\":{\"id\":\"1911\"},\"glyph\":{\"id\":\"2260\"},\"group\":null,\"hover_glyph\":null,\"muted_glyph\":{\"id\":\"2262\"},\"nonselection_glyph\":{\"id\":\"2261\"},\"view\":{\"id\":\"2264\"}},\"id\":\"2263\",\"type\":\"GlyphRenderer\"},{\"attributes\":{\"fill_alpha\":{\"value\":0.2},\"fill_color\":{\"value\":\"#472777\"},\"hatch_alpha\":{\"value\":0.2},\"hatch_color\":{\"value\":\"#472777\"},\"line_alpha\":{\"value\":0.2},\"line_color\":{\"value\":\"#472777\"},\"marker\":{\"value\":\"diamond\"},\"size\":{\"value\":10},\"x\":{\"field\":\"TimeGenerated\"},\"y\":{\"field\":\"y_index\"}},\"id\":\"2206\",\"type\":\"Scatter\"},{\"attributes\":{\"fill_alpha\":{\"value\":0.5},\"fill_color\":{\"value\":\"#345F8D\"},\"hatch_alpha\":{\"value\":0.5},\"hatch_color\":{\"value\":\"#345F8D\"},\"line_alpha\":{\"value\":0.5},\"line_color\":{\"value\":\"#345F8D\"},\"marker\":{\"value\":\"diamond\"},\"size\":{\"value\":10},\"x\":{\"field\":\"TimeGenerated\"},\"y\":{\"field\":\"y_index\"}},\"id\":\"2253\",\"type\":\"Scatter\"},{\"attributes\":{\"fill_alpha\":{\"value\":0.2},\"fill_color\":{\"value\":\"#440154\"},\"hatch_alpha\":{\"value\":0.2},\"hatch_color\":{\"value\":\"#440154\"},\"line_alpha\":{\"value\":0.2},\"line_color\":{\"value\":\"#440154\"},\"x\":{\"field\":\"TimeGenerated\"},\"y\":{\"field\":\"y_index\"}},\"id\":\"1985\",\"type\":\"Circle\"},{\"attributes\":{\"coordinates\":null,\"data_source\":{\"id\":\"1903\"},\"glyph\":{\"id\":\"2204\"},\"group\":null,\"hover_glyph\":null,\"muted_glyph\":{\"id\":\"2206\"},\"nonselection_glyph\":{\"id\":\"2205\"},\"view\":{\"id\":\"2208\"}},\"id\":\"2207\",\"type\":\"GlyphRenderer\"},{\"attributes\":{\"fill_alpha\":{\"value\":0.1},\"fill_color\":{\"value\":\"#30678D\"},\"hatch_alpha\":{\"value\":0.1},\"hatch_color\":{\"value\":\"#30678D\"},\"line_alpha\":{\"value\":0.1},\"line_color\":{\"value\":\"#30678D\"},\"marker\":{\"value\":\"diamond\"},\"size\":{\"value\":10},\"x\":{\"field\":\"TimeGenerated\"},\"y\":{\"field\":\"y_index\"}},\"id\":\"2261\",\"type\":\"Scatter\"},{\"attributes\":{\"label\":{\"value\":\"20.190.157.27\"},\"renderers\":[{\"id\":\"2207\"}]},\"id\":\"2209\",\"type\":\"LegendItem\"},{\"attributes\":{\"fill_color\":{\"value\":\"#2D6E8E\"},\"hatch_color\":{\"value\":\"#2D6E8E\"},\"line_color\":{\"value\":\"#2D6E8E\"},\"x\":{\"field\":\"TimeGenerated\"},\"y\":{\"field\":\"y_index\"}},\"id\":\"2061\",\"type\":\"Circle\"},{\"attributes\":{\"source\":{\"id\":\"1903\"}},\"id\":\"2208\",\"type\":\"CDSView\"},{\"attributes\":{\"fill_alpha\":{\"value\":0.5},\"fill_color\":{\"value\":\"#46307D\"},\"hatch_alpha\":{\"value\":0.5},\"hatch_color\":{\"value\":\"#46307D\"},\"line_alpha\":{\"value\":0.5},\"line_color\":{\"value\":\"#46307D\"},\"marker\":{\"value\":\"diamond\"},\"size\":{\"value\":10},\"x\":{\"field\":\"TimeGenerated\"},\"y\":{\"field\":\"y_index\"}},\"id\":\"2211\",\"type\":\"Scatter\"},{\"attributes\":{},\"id\":\"2400\",\"type\":\"AllLabels\"},{\"attributes\":{},\"id\":\"2415\",\"type\":\"UnionRenderers\"},{\"attributes\":{},\"id\":\"2416\",\"type\":\"Selection\"},{\"attributes\":{\"data\":{\"AppResourceProvider\":[\"Exchange\"],\"IPAddress\":[\"2603:10b6:208:23d::15\"],\"Operation\":[\"MailItemsAccessed\"],\"TimeGenerated\":{\"__ndarray__\":\"AACaGzWOeEI=\",\"dtype\":\"float64\",\"order\":\"little\",\"shape\":[1]},\"index\":[561],\"y_index\":[10]},\"selected\":{\"id\":\"2424\"},\"selection_policy\":{\"id\":\"2423\"}},\"id\":\"1909\",\"type\":\"ColumnDataSource\"},{\"attributes\":{},\"id\":\"2417\",\"type\":\"UnionRenderers\"},{\"attributes\":{},\"id\":\"2418\",\"type\":\"Selection\"},{\"attributes\":{\"mantissas\":[1,2,5],\"max_interval\":500.0,\"num_minor_ticks\":0},\"id\":\"2466\",\"type\":\"AdaptiveTicker\"},{\"attributes\":{\"base\":60,\"mantissas\":[1,2,5,10,15,20,30],\"max_interval\":1800000.0,\"min_interval\":1000.0,\"num_minor_ticks\":0},\"id\":\"2467\",\"type\":\"AdaptiveTicker\"},{\"attributes\":{},\"id\":\"2419\",\"type\":\"UnionRenderers\"},{\"attributes\":{\"base\":24,\"mantissas\":[1,2,4,6,8,12],\"max_interval\":43200000.0,\"min_interval\":3600000.0,\"num_minor_ticks\":0},\"id\":\"2468\",\"type\":\"AdaptiveTicker\"},{\"attributes\":{},\"id\":\"2477\",\"type\":\"YearsTicker\"},{\"attributes\":{},\"id\":\"2420\",\"type\":\"Selection\"},{\"attributes\":{\"months\":[0,1,2,3,4,5,6,7,8,9,10,11]},\"id\":\"2473\",\"type\":\"MonthsTicker\"},{\"attributes\":{\"days\":[1,15]},\"id\":\"2472\",\"type\":\"DaysTicker\"},{\"attributes\":{\"days\":[1,2,3,4,5,6,7,8,9,10,11,12,13,14,15,16,17,18,19,20,21,22,23,24,25,26,27,28,29,30,31]},\"id\":\"2469\",\"type\":\"DaysTicker\"},{\"attributes\":{\"days\":[1,4,7,10,13,16,19,22,25,28]},\"id\":\"2470\",\"type\":\"DaysTicker\"},{\"attributes\":{\"days\":[1,8,15,22]},\"id\":\"2471\",\"type\":\"DaysTicker\"},{\"attributes\":{\"data\":{\"AppResourceProvider\":[\"Exchange\",\"Exchange\"],\"IPAddress\":[\"144.92.154.82\",\"144.92.154.82\"],\"Operation\":[\"MailItemsAccessed\",\"MailItemsAccessed\"],\"TimeGenerated\":{\"__ndarray__\":\"AIAvy4iOeEIAALA9iY54Qg==\",\"dtype\":\"float64\",\"order\":\"little\",\"shape\":[2]},\"index\":[208,268],\"y_index\":[0,0]},\"selected\":{\"id\":\"2404\"},\"selection_policy\":{\"id\":\"2403\"}},\"id\":\"1899\",\"type\":\"ColumnDataSource\"},{\"attributes\":{\"months\":[0,6]},\"id\":\"2476\",\"type\":\"MonthsTicker\"},{\"attributes\":{\"months\":[0,2,4,6,8,10]},\"id\":\"2474\",\"type\":\"MonthsTicker\"},{\"attributes\":{\"months\":[0,4,8]},\"id\":\"2475\",\"type\":\"MonthsTicker\"},{\"attributes\":{\"mantissas\":[1,2,5],\"max_interval\":500.0,\"num_minor_ticks\":0},\"id\":\"2479\",\"type\":\"AdaptiveTicker\"},{\"attributes\":{\"base\":60,\"mantissas\":[1,2,5,10,15,20,30],\"max_interval\":1800000.0,\"min_interval\":1000.0,\"num_minor_ticks\":0},\"id\":\"2480\",\"type\":\"AdaptiveTicker\"},{\"attributes\":{\"base\":24,\"mantissas\":[1,2,4,6,8,12],\"max_interval\":43200000.0,\"min_interval\":3600000.0,\"num_minor_ticks\":0},\"id\":\"2481\",\"type\":\"AdaptiveTicker\"},{\"attributes\":{},\"id\":\"2490\",\"type\":\"YearsTicker\"},{\"attributes\":{\"data\":{\"AppResourceProvider\":[\"OneDrive\"],\"IPAddress\":[\"52.104.99.164\"],\"Operation\":[\"FilePreviewed\"],\"TimeGenerated\":{\"__ndarray__\":\"AID7CI6OeEI=\",\"dtype\":\"float64\",\"order\":\"little\",\"shape\":[1]},\"index\":[457],\"y_index\":[19]},\"selected\":{\"id\":\"2442\"},\"selection_policy\":{\"id\":\"2441\"}},\"id\":\"1918\",\"type\":\"ColumnDataSource\"},{\"attributes\":{\"months\":[0,1,2,3,4,5,6,7,8,9,10,11]},\"id\":\"2486\",\"type\":\"MonthsTicker\"},{\"attributes\":{},\"id\":\"2421\",\"type\":\"UnionRenderers\"},{\"attributes\":{\"days\":[1,15]},\"id\":\"2485\",\"type\":\"DaysTicker\"},{\"attributes\":{\"days\":[1,2,3,4,5,6,7,8,9,10,11,12,13,14,15,16,17,18,19,20,21,22,23,24,25,26,27,28,29,30,31]},\"id\":\"2482\",\"type\":\"DaysTicker\"},{\"attributes\":{},\"id\":\"2422\",\"type\":\"Selection\"},{\"attributes\":{\"days\":[1,4,7,10,13,16,19,22,25,28]},\"id\":\"2483\",\"type\":\"DaysTicker\"},{\"attributes\":{\"days\":[1,8,15,22]},\"id\":\"2484\",\"type\":\"DaysTicker\"},{\"attributes\":{\"months\":[0,6]},\"id\":\"2489\",\"type\":\"MonthsTicker\"},{\"attributes\":{\"months\":[0,2,4,6,8,10]},\"id\":\"2487\",\"type\":\"MonthsTicker\"},{\"attributes\":{\"months\":[0,4,8]},\"id\":\"2488\",\"type\":\"MonthsTicker\"},{\"attributes\":{\"tools\":[{\"id\":\"1930\"},{\"id\":\"1950\"},{\"id\":\"1951\"},{\"id\":\"1952\"},{\"id\":\"1953\"},{\"id\":\"1954\"}]},\"id\":\"1956\",\"type\":\"Toolbar\"},{\"attributes\":{\"data\":{\"AppResourceProvider\":[\"SharePoint\"],\"IPAddress\":[\"52.104.99.171\"],\"Operation\":[\"FilePreviewed\"],\"TimeGenerated\":{\"__ndarray__\":\"AACoPpCOeEI=\",\"dtype\":\"float64\",\"order\":\"little\",\"shape\":[1]},\"index\":[290],\"y_index\":[24]},\"selected\":{\"id\":\"2452\"},\"selection_policy\":{\"id\":\"2451\"}},\"id\":\"1923\",\"type\":\"ColumnDataSource\"},{\"attributes\":{\"coordinates\":null,\"data_source\":{\"id\":\"1904\"},\"glyph\":{\"id\":\"2013\"},\"group\":null,\"hover_glyph\":null,\"muted_glyph\":{\"id\":\"2015\"},\"nonselection_glyph\":{\"id\":\"2014\"},\"view\":{\"id\":\"2017\"}},\"id\":\"2016\",\"type\":\"GlyphRenderer\"},{\"attributes\":{\"fill_alpha\":{\"value\":0.1},\"fill_color\":{\"value\":\"#25828E\"},\"hatch_alpha\":{\"value\":0.1},\"hatch_color\":{\"value\":\"#25828E\"},\"line_alpha\":{\"value\":0.1},\"line_color\":{\"value\":\"#25828E\"},\"marker\":{\"value\":\"diamond\"},\"size\":{\"value\":10},\"x\":{\"field\":\"TimeGenerated\"},\"y\":{\"field\":\"y_index\"}},\"id\":\"2289\",\"type\":\"Scatter\"},{\"attributes\":{\"fill_color\":{\"value\":\"#414186\"},\"hatch_color\":{\"value\":\"#414186\"},\"line_color\":{\"value\":\"#414186\"},\"x\":{\"field\":\"TimeGenerated\"},\"y\":{\"field\":\"y_index\"}},\"id\":\"2025\",\"type\":\"Circle\"},{\"attributes\":{\"fill_alpha\":{\"value\":0.2},\"fill_color\":{\"value\":\"#414186\"},\"hatch_alpha\":{\"value\":0.2},\"hatch_color\":{\"value\":\"#414186\"},\"line_alpha\":{\"value\":0.2},\"line_color\":{\"value\":\"#414186\"},\"x\":{\"field\":\"TimeGenerated\"},\"y\":{\"field\":\"y_index\"}},\"id\":\"2027\",\"type\":\"Circle\"},{\"attributes\":{\"fill_alpha\":{\"value\":0.2},\"fill_color\":{\"value\":\"#2D6E8E\"},\"hatch_alpha\":{\"value\":0.2},\"hatch_color\":{\"value\":\"#2D6E8E\"},\"line_alpha\":{\"value\":0.2},\"line_color\":{\"value\":\"#2D6E8E\"},\"x\":{\"field\":\"TimeGenerated\"},\"y\":{\"field\":\"y_index\"}},\"id\":\"2063\",\"type\":\"Circle\"},{\"attributes\":{\"end\":30.032258064516128,\"start\":-0.03225806451612903},\"id\":\"1936\",\"type\":\"Range1d\"},{\"attributes\":{\"coordinates\":null,\"data_source\":{\"id\":\"1924\"},\"glyph\":{\"id\":\"2351\"},\"group\":null,\"hover_glyph\":null,\"muted_glyph\":{\"id\":\"2353\"},\"nonselection_glyph\":{\"id\":\"2352\"},\"view\":{\"id\":\"2355\"}},\"id\":\"2354\",\"type\":\"GlyphRenderer\"},{\"attributes\":{\"coordinates\":null,\"data_source\":{\"id\":\"1929\"},\"glyph\":{\"id\":\"2163\"},\"group\":null,\"hover_glyph\":null,\"muted_glyph\":{\"id\":\"2165\"},\"nonselection_glyph\":{\"id\":\"2164\"},\"view\":{\"id\":\"2167\"}},\"id\":\"2166\",\"type\":\"GlyphRenderer\"},{\"attributes\":{\"end\":1687567195545.6426,\"start\":1687361798586.7598},\"id\":\"1934\",\"type\":\"Range1d\"},{\"attributes\":{\"label\":{\"value\":\"52.104.99.172\"},\"renderers\":[{\"id\":\"2354\"}]},\"id\":\"2356\",\"type\":\"LegendItem\"},{\"attributes\":{\"days\":[\"%m-%d %H:%M\"],\"hours\":[\"%H:%M:%S\"],\"milliseconds\":[\"%H:%M:%S.%3N\"],\"minutes\":[\"%H:%M:%S\"],\"seconds\":[\"%H:%M:%S\"]},\"id\":\"2173\",\"type\":\"DatetimeTickFormatter\"},{\"attributes\":{\"fill_alpha\":{\"value\":0.2},\"fill_color\":{\"value\":\"#25828E\"},\"hatch_alpha\":{\"value\":0.2},\"hatch_color\":{\"value\":\"#25828E\"},\"line_alpha\":{\"value\":0.2},\"line_color\":{\"value\":\"#25828E\"},\"marker\":{\"value\":\"diamond\"},\"size\":{\"value\":10},\"x\":{\"field\":\"TimeGenerated\"},\"y\":{\"field\":\"y_index\"}},\"id\":\"2290\",\"type\":\"Scatter\"},{\"attributes\":{\"coordinates\":null,\"data_source\":{\"id\":\"1915\"},\"glyph\":{\"id\":\"2288\"},\"group\":null,\"hover_glyph\":null,\"muted_glyph\":{\"id\":\"2290\"},\"nonselection_glyph\":{\"id\":\"2289\"},\"view\":{\"id\":\"2292\"}},\"id\":\"2291\",\"type\":\"GlyphRenderer\"},{\"attributes\":{\"coordinates\":null,\"formatter\":{\"id\":\"2397\"},\"group\":null,\"major_label_overrides\":{\"0\":\"144.92.154.82\",\"1\":\"192.168.1.72\",\"10\":\"2603:10b6:208:23d::15\",\"11\":\"2603:10b6:208:3ac::10\",\"12\":\"2603:10b6:208:3da::13\",\"13\":\"2603:10b6:208:481::10\",\"14\":\"2603:10b6:208:48a::21\",\"15\":\"2603:10b6:208:48c::19\",\"16\":\"40.126.29.96\",\"17\":\"52.104.99.160\",\"18\":\"52.104.99.161\",\"19\":\"52.104.99.164\",\"2\":\"192.168.86.42\",\"20\":\"52.104.99.165\",\"21\":\"52.104.99.166\",\"22\":\"52.104.99.169\",\"23\":\"52.104.99.170\",\"24\":\"52.104.99.171\",\"25\":\"52.104.99.172\",\"26\":\"52.104.99.174\",\"27\":\"52.104.99.175\",\"28\":\"52.104.99.50\",\"29\":\"69.130.255.13\",\"3\":\"20.190.157.160\",\"30\":\"::ffff:69.130.255.13\",\"4\":\"20.190.157.27\",\"5\":\"20.190.157.30\",\"6\":\"20.190.157.96\",\"7\":\"20.190.157.97\",\"8\":\"216.56.240.114\",\"9\":\"2600:387:c:5516::3\"},\"major_label_policy\":{\"id\":\"2398\"},\"ticker\":{\"id\":\"1947\"}},\"id\":\"1946\",\"type\":\"LinearAxis\"},{\"attributes\":{\"source\":{\"id\":\"1916\"}},\"id\":\"2089\",\"type\":\"CDSView\"},{\"attributes\":{\"fill_alpha\":{\"value\":0.1},\"fill_color\":{\"value\":\"#23898D\"},\"hatch_alpha\":{\"value\":0.1},\"hatch_color\":{\"value\":\"#23898D\"},\"line_alpha\":{\"value\":0.1},\"line_color\":{\"value\":\"#23898D\"},\"marker\":{\"value\":\"diamond\"},\"size\":{\"value\":10},\"x\":{\"field\":\"TimeGenerated\"},\"y\":{\"field\":\"y_index\"}},\"id\":\"2296\",\"type\":\"Scatter\"},{\"attributes\":{\"fill_alpha\":{\"value\":0.1},\"fill_color\":{\"value\":\"#414186\"},\"hatch_alpha\":{\"value\":0.1},\"hatch_color\":{\"value\":\"#414186\"},\"line_alpha\":{\"value\":0.1},\"line_color\":{\"value\":\"#414186\"},\"x\":{\"field\":\"TimeGenerated\"},\"y\":{\"field\":\"y_index\"}},\"id\":\"2026\",\"type\":\"Circle\"},{\"attributes\":{\"num_minor_ticks\":10,\"tickers\":[{\"id\":\"2466\"},{\"id\":\"2467\"},{\"id\":\"2468\"},{\"id\":\"2469\"},{\"id\":\"2470\"},{\"id\":\"2471\"},{\"id\":\"2472\"},{\"id\":\"2473\"},{\"id\":\"2474\"},{\"id\":\"2475\"},{\"id\":\"2476\"},{\"id\":\"2477\"}]},\"id\":\"1943\",\"type\":\"DatetimeTicker\"},{\"attributes\":{\"label\":{\"value\":\"40.126.29.96\"},\"renderers\":[{\"id\":\"2291\"}]},\"id\":\"2293\",\"type\":\"LegendItem\"},{\"attributes\":{\"fill_color\":{\"value\":\"#3E4989\"},\"hatch_color\":{\"value\":\"#3E4989\"},\"line_color\":{\"value\":\"#3E4989\"},\"x\":{\"field\":\"TimeGenerated\"},\"y\":{\"field\":\"y_index\"}},\"id\":\"2031\",\"type\":\"Circle\"},{\"attributes\":{},\"id\":\"1940\",\"type\":\"LinearScale\"},{\"attributes\":{\"source\":{\"id\":\"1906\"}},\"id\":\"2029\",\"type\":\"CDSView\"},{\"attributes\":{\"coordinates\":null,\"group\":null,\"text\":\"Timeline: Azure Operations by Source IP\"},\"id\":\"1932\",\"type\":\"Title\"},{\"attributes\":{\"source\":{\"id\":\"1915\"}},\"id\":\"2292\",\"type\":\"CDSView\"},{\"attributes\":{\"fill_alpha\":{\"value\":0.1},\"fill_color\":{\"value\":\"#3E4989\"},\"hatch_alpha\":{\"value\":0.1},\"hatch_color\":{\"value\":\"#3E4989\"},\"line_alpha\":{\"value\":0.1},\"line_color\":{\"value\":\"#3E4989\"},\"x\":{\"field\":\"TimeGenerated\"},\"y\":{\"field\":\"y_index\"}},\"id\":\"2032\",\"type\":\"Circle\"},{\"attributes\":{\"axis_label\":\"Event Time\",\"coordinates\":null,\"formatter\":{\"id\":\"2173\"},\"group\":null,\"major_label_policy\":{\"id\":\"2400\"},\"ticker\":{\"id\":\"1943\"}},\"id\":\"1942\",\"type\":\"DatetimeAxis\"},{\"attributes\":{\"coordinates\":null,\"data_source\":{\"id\":\"1906\"},\"glyph\":{\"id\":\"2025\"},\"group\":null,\"hover_glyph\":null,\"muted_glyph\":{\"id\":\"2027\"},\"nonselection_glyph\":{\"id\":\"2026\"},\"view\":{\"id\":\"2029\"}},\"id\":\"2028\",\"type\":\"GlyphRenderer\"},{\"attributes\":{\"fill_alpha\":{\"value\":0.5},\"fill_color\":{\"value\":\"#23898D\"},\"hatch_alpha\":{\"value\":0.5},\"hatch_color\":{\"value\":\"#23898D\"},\"line_alpha\":{\"value\":0.5},\"line_color\":{\"value\":\"#23898D\"},\"marker\":{\"value\":\"diamond\"},\"size\":{\"value\":10},\"x\":{\"field\":\"TimeGenerated\"},\"y\":{\"field\":\"y_index\"}},\"id\":\"2295\",\"type\":\"Scatter\"},{\"attributes\":{\"coordinates\":null,\"data_source\":{\"id\":\"1915\"},\"glyph\":{\"id\":\"2079\"},\"group\":null,\"hover_glyph\":null,\"muted_glyph\":{\"id\":\"2081\"},\"nonselection_glyph\":{\"id\":\"2080\"},\"view\":{\"id\":\"2083\"}},\"id\":\"2082\",\"type\":\"GlyphRenderer\"},{\"attributes\":{\"fill_alpha\":{\"value\":0.5},\"fill_color\":{\"value\":\"#4DC26B\"},\"hatch_alpha\":{\"value\":0.5},\"hatch_color\":{\"value\":\"#4DC26B\"},\"line_alpha\":{\"value\":0.5},\"line_color\":{\"value\":\"#4DC26B\"},\"marker\":{\"value\":\"diamond\"},\"size\":{\"value\":10},\"x\":{\"field\":\"TimeGenerated\"},\"y\":{\"field\":\"y_index\"}},\"id\":\"2358\",\"type\":\"Scatter\"},{\"attributes\":{\"fill_alpha\":{\"value\":0.1},\"fill_color\":{\"value\":\"#23898D\"},\"hatch_alpha\":{\"value\":0.1},\"hatch_color\":{\"value\":\"#23898D\"},\"line_alpha\":{\"value\":0.1},\"line_color\":{\"value\":\"#23898D\"},\"x\":{\"field\":\"TimeGenerated\"},\"y\":{\"field\":\"y_index\"}},\"id\":\"2086\",\"type\":\"Circle\"},{\"attributes\":{},\"id\":\"1938\",\"type\":\"LinearScale\"},{\"attributes\":{\"fill_alpha\":{\"value\":0.2},\"fill_color\":{\"value\":\"#23898D\"},\"hatch_alpha\":{\"value\":0.2},\"hatch_color\":{\"value\":\"#23898D\"},\"line_alpha\":{\"value\":0.2},\"line_color\":{\"value\":\"#23898D\"},\"marker\":{\"value\":\"diamond\"},\"size\":{\"value\":10},\"x\":{\"field\":\"TimeGenerated\"},\"y\":{\"field\":\"y_index\"}},\"id\":\"2297\",\"type\":\"Scatter\"},{\"attributes\":{\"fill_alpha\":{\"value\":0.2},\"fill_color\":{\"value\":\"#3E4989\"},\"hatch_alpha\":{\"value\":0.2},\"hatch_color\":{\"value\":\"#3E4989\"},\"line_alpha\":{\"value\":0.2},\"line_color\":{\"value\":\"#3E4989\"},\"x\":{\"field\":\"TimeGenerated\"},\"y\":{\"field\":\"y_index\"}},\"id\":\"2033\",\"type\":\"Circle\"},{\"attributes\":{\"axis\":{\"id\":\"1942\"},\"coordinates\":null,\"group\":null,\"minor_grid_line_alpha\":0.3,\"minor_grid_line_color\":\"navy\",\"ticker\":null},\"id\":\"1945\",\"type\":\"Grid\"},{\"attributes\":{\"source\":{\"id\":\"1924\"}},\"id\":\"2355\",\"type\":\"CDSView\"},{\"attributes\":{\"fill_color\":{\"value\":\"#3B518A\"},\"hatch_color\":{\"value\":\"#3B518A\"},\"line_color\":{\"value\":\"#3B518A\"},\"x\":{\"field\":\"TimeGenerated\"},\"y\":{\"field\":\"y_index\"}},\"id\":\"2037\",\"type\":\"Circle\"},{\"attributes\":{\"coordinates\":null,\"data_source\":{\"id\":\"1916\"},\"glyph\":{\"id\":\"2295\"},\"group\":null,\"hover_glyph\":null,\"muted_glyph\":{\"id\":\"2297\"},\"nonselection_glyph\":{\"id\":\"2296\"},\"view\":{\"id\":\"2299\"}},\"id\":\"2298\",\"type\":\"GlyphRenderer\"},{\"attributes\":{\"source\":{\"id\":\"1907\"}},\"id\":\"2035\",\"type\":\"CDSView\"},{\"attributes\":{\"axis\":{\"id\":\"1946\"},\"coordinates\":null,\"dimension\":1,\"grid_line_color\":null,\"group\":null,\"ticker\":null},\"id\":\"1949\",\"type\":\"Grid\"},{\"attributes\":{\"fill_alpha\":{\"value\":0.1},\"fill_color\":{\"value\":\"#208F8C\"},\"hatch_alpha\":{\"value\":0.1},\"hatch_color\":{\"value\":\"#208F8C\"},\"line_alpha\":{\"value\":0.1},\"line_color\":{\"value\":\"#208F8C\"},\"marker\":{\"value\":\"diamond\"},\"size\":{\"value\":10},\"x\":{\"field\":\"TimeGenerated\"},\"y\":{\"field\":\"y_index\"}},\"id\":\"2303\",\"type\":\"Scatter\"},{\"attributes\":{\"fill_alpha\":{\"value\":0.1},\"fill_color\":{\"value\":\"#3B518A\"},\"hatch_alpha\":{\"value\":0.1},\"hatch_color\":{\"value\":\"#3B518A\"},\"line_alpha\":{\"value\":0.1},\"line_color\":{\"value\":\"#3B518A\"},\"x\":{\"field\":\"TimeGenerated\"},\"y\":{\"field\":\"y_index\"}},\"id\":\"2038\",\"type\":\"Circle\"},{\"attributes\":{\"coordinates\":null,\"data_source\":{\"id\":\"1907\"},\"glyph\":{\"id\":\"2031\"},\"group\":null,\"hover_glyph\":null,\"muted_glyph\":{\"id\":\"2033\"},\"nonselection_glyph\":{\"id\":\"2032\"},\"view\":{\"id\":\"2035\"}},\"id\":\"2034\",\"type\":\"GlyphRenderer\"},{\"attributes\":{},\"id\":\"1947\",\"type\":\"BasicTicker\"},{\"attributes\":{\"label\":{\"value\":\"52.104.99.160\"},\"renderers\":[{\"id\":\"2298\"}]},\"id\":\"2300\",\"type\":\"LegendItem\"},{\"attributes\":{\"fill_color\":{\"value\":\"#443982\"},\"hatch_color\":{\"value\":\"#443982\"},\"line_color\":{\"value\":\"#443982\"},\"x\":{\"field\":\"TimeGenerated\"},\"y\":{\"field\":\"y_index\"}},\"id\":\"2019\",\"type\":\"Circle\"},{\"attributes\":{\"source\":{\"id\":\"1915\"}},\"id\":\"2083\",\"type\":\"CDSView\"},{\"attributes\":{\"source\":{\"id\":\"1916\"}},\"id\":\"2299\",\"type\":\"CDSView\"},{\"attributes\":{},\"id\":\"1953\",\"type\":\"SaveTool\"},{\"attributes\":{\"fill_color\":{\"value\":\"#23898D\"},\"hatch_color\":{\"value\":\"#23898D\"},\"line_color\":{\"value\":\"#23898D\"},\"x\":{\"field\":\"TimeGenerated\"},\"y\":{\"field\":\"y_index\"}},\"id\":\"2085\",\"type\":\"Circle\"},{\"attributes\":{\"fill_alpha\":{\"value\":0.5},\"fill_color\":{\"value\":\"#208F8C\"},\"hatch_alpha\":{\"value\":0.5},\"hatch_color\":{\"value\":\"#208F8C\"},\"line_alpha\":{\"value\":0.5},\"line_color\":{\"value\":\"#208F8C\"},\"marker\":{\"value\":\"diamond\"},\"size\":{\"value\":10},\"x\":{\"field\":\"TimeGenerated\"},\"y\":{\"field\":\"y_index\"}},\"id\":\"2302\",\"type\":\"Scatter\"},{\"attributes\":{\"overlay\":{\"id\":\"1955\"}},\"id\":\"1951\",\"type\":\"BoxZoomTool\"},{\"attributes\":{\"fill_alpha\":{\"value\":0.2},\"fill_color\":{\"value\":\"#3B518A\"},\"hatch_alpha\":{\"value\":0.2},\"hatch_color\":{\"value\":\"#3B518A\"},\"line_alpha\":{\"value\":0.2},\"line_color\":{\"value\":\"#3B518A\"},\"x\":{\"field\":\"TimeGenerated\"},\"y\":{\"field\":\"y_index\"}},\"id\":\"2039\",\"type\":\"Circle\"},{\"attributes\":{\"dimensions\":\"width\"},\"id\":\"1950\",\"type\":\"WheelZoomTool\"},{\"attributes\":{\"fill_color\":{\"value\":\"#37588C\"},\"hatch_color\":{\"value\":\"#37588C\"},\"line_color\":{\"value\":\"#37588C\"},\"x\":{\"field\":\"TimeGenerated\"},\"y\":{\"field\":\"y_index\"}},\"id\":\"2043\",\"type\":\"Circle\"},{\"attributes\":{},\"id\":\"1952\",\"type\":\"ResetTool\"},{\"attributes\":{\"fill_alpha\":{\"value\":0.2},\"fill_color\":{\"value\":\"#40BD72\"},\"hatch_alpha\":{\"value\":0.2},\"hatch_color\":{\"value\":\"#40BD72\"},\"line_alpha\":{\"value\":0.2},\"line_color\":{\"value\":\"#40BD72\"},\"marker\":{\"value\":\"diamond\"},\"size\":{\"value\":10},\"x\":{\"field\":\"TimeGenerated\"},\"y\":{\"field\":\"y_index\"}},\"id\":\"2353\",\"type\":\"Scatter\"},{\"attributes\":{\"source\":{\"id\":\"1908\"}},\"id\":\"2041\",\"type\":\"CDSView\"},{\"attributes\":{\"fill_alpha\":{\"value\":0.2},\"fill_color\":{\"value\":\"#208F8C\"},\"hatch_alpha\":{\"value\":0.2},\"hatch_color\":{\"value\":\"#208F8C\"},\"line_alpha\":{\"value\":0.2},\"line_color\":{\"value\":\"#208F8C\"},\"marker\":{\"value\":\"diamond\"},\"size\":{\"value\":10},\"x\":{\"field\":\"TimeGenerated\"},\"y\":{\"field\":\"y_index\"}},\"id\":\"2304\",\"type\":\"Scatter\"},{\"attributes\":{\"dimensions\":\"width\"},\"id\":\"1954\",\"type\":\"PanTool\"},{\"attributes\":{\"fill_alpha\":{\"value\":0.1},\"fill_color\":{\"value\":\"#37588C\"},\"hatch_alpha\":{\"value\":0.1},\"hatch_color\":{\"value\":\"#37588C\"},\"line_alpha\":{\"value\":0.1},\"line_color\":{\"value\":\"#37588C\"},\"x\":{\"field\":\"TimeGenerated\"},\"y\":{\"field\":\"y_index\"}},\"id\":\"2044\",\"type\":\"Circle\"},{\"attributes\":{\"coordinates\":null,\"data_source\":{\"id\":\"1908\"},\"glyph\":{\"id\":\"2037\"},\"group\":null,\"hover_glyph\":null,\"muted_glyph\":{\"id\":\"2039\"},\"nonselection_glyph\":{\"id\":\"2038\"},\"view\":{\"id\":\"2041\"}},\"id\":\"2040\",\"type\":\"GlyphRenderer\"},{\"attributes\":{\"source\":{\"id\":\"1900\"}},\"id\":\"1993\",\"type\":\"CDSView\"},{\"attributes\":{\"coordinates\":null,\"data_source\":{\"id\":\"1917\"},\"glyph\":{\"id\":\"2302\"},\"group\":null,\"hover_glyph\":null,\"muted_glyph\":{\"id\":\"2304\"},\"nonselection_glyph\":{\"id\":\"2303\"},\"view\":{\"id\":\"2306\"}},\"id\":\"2305\",\"type\":\"GlyphRenderer\"},{\"attributes\":{\"fill_alpha\":{\"value\":0.2},\"fill_color\":{\"value\":\"#25828E\"},\"hatch_alpha\":{\"value\":0.2},\"hatch_color\":{\"value\":\"#25828E\"},\"line_alpha\":{\"value\":0.2},\"line_color\":{\"value\":\"#25828E\"},\"x\":{\"field\":\"TimeGenerated\"},\"y\":{\"field\":\"y_index\"}},\"id\":\"2081\",\"type\":\"Circle\"},{\"attributes\":{\"fill_alpha\":{\"value\":0.5},\"fill_color\":{\"value\":\"#440154\"},\"hatch_alpha\":{\"value\":0.5},\"hatch_color\":{\"value\":\"#440154\"},\"line_alpha\":{\"value\":0.5},\"line_color\":{\"value\":\"#440154\"},\"marker\":{\"value\":\"diamond\"},\"size\":{\"value\":10},\"x\":{\"field\":\"TimeGenerated\"},\"y\":{\"field\":\"y_index\"}},\"id\":\"2176\",\"type\":\"Scatter\"},{\"attributes\":{\"fill_alpha\":{\"value\":0.1},\"fill_color\":{\"value\":\"#1F968B\"},\"hatch_alpha\":{\"value\":0.1},\"hatch_color\":{\"value\":\"#1F968B\"},\"line_alpha\":{\"value\":0.1},\"line_color\":{\"value\":\"#1F968B\"},\"marker\":{\"value\":\"diamond\"},\"size\":{\"value\":10},\"x\":{\"field\":\"TimeGenerated\"},\"y\":{\"field\":\"y_index\"}},\"id\":\"2310\",\"type\":\"Scatter\"},{\"attributes\":{\"label\":{\"value\":\"52.104.99.161\"},\"renderers\":[{\"id\":\"2305\"}]},\"id\":\"2307\",\"type\":\"LegendItem\"},{\"attributes\":{\"fill_alpha\":{\"value\":0.2},\"fill_color\":{\"value\":\"#37588C\"},\"hatch_alpha\":{\"value\":0.2},\"hatch_color\":{\"value\":\"#37588C\"},\"line_alpha\":{\"value\":0.2},\"line_color\":{\"value\":\"#37588C\"},\"x\":{\"field\":\"TimeGenerated\"},\"y\":{\"field\":\"y_index\"}},\"id\":\"2045\",\"type\":\"Circle\"},{\"attributes\":{\"bottom_units\":\"screen\",\"coordinates\":null,\"fill_alpha\":0.5,\"fill_color\":\"lightgrey\",\"group\":null,\"left_units\":\"screen\",\"level\":\"overlay\",\"line_alpha\":1.0,\"line_color\":\"black\",\"line_dash\":[4,4],\"line_width\":2,\"right_units\":\"screen\",\"syncable\":false,\"top_units\":\"screen\"},\"id\":\"1955\",\"type\":\"BoxAnnotation\"},{\"attributes\":{\"fill_color\":{\"value\":\"#345F8D\"},\"hatch_color\":{\"value\":\"#345F8D\"},\"line_color\":{\"value\":\"#345F8D\"},\"x\":{\"field\":\"TimeGenerated\"},\"y\":{\"field\":\"y_index\"}},\"id\":\"2049\",\"type\":\"Circle\"},{\"attributes\":{\"source\":{\"id\":\"1917\"}},\"id\":\"2306\",\"type\":\"CDSView\"},{\"attributes\":{\"source\":{\"id\":\"1909\"}},\"id\":\"2047\",\"type\":\"CDSView\"},{\"attributes\":{\"fill_alpha\":{\"value\":0.5},\"fill_color\":{\"value\":\"#1F968B\"},\"hatch_alpha\":{\"value\":0.5},\"hatch_color\":{\"value\":\"#1F968B\"},\"line_alpha\":{\"value\":0.5},\"line_color\":{\"value\":\"#1F968B\"},\"marker\":{\"value\":\"diamond\"},\"size\":{\"value\":10},\"x\":{\"field\":\"TimeGenerated\"},\"y\":{\"field\":\"y_index\"}},\"id\":\"2309\",\"type\":\"Scatter\"},{\"attributes\":{\"fill_alpha\":{\"value\":0.2},\"fill_color\":{\"value\":\"#481E70\"},\"hatch_alpha\":{\"value\":0.2},\"hatch_color\":{\"value\":\"#481E70\"},\"line_alpha\":{\"value\":0.2},\"line_color\":{\"value\":\"#481E70\"},\"x\":{\"field\":\"TimeGenerated\"},\"y\":{\"field\":\"y_index\"}},\"id\":\"2003\",\"type\":\"Circle\"},{\"attributes\":{\"fill_alpha\":{\"value\":0.1},\"fill_color\":{\"value\":\"#345F8D\"},\"hatch_alpha\":{\"value\":0.1},\"hatch_color\":{\"value\":\"#345F8D\"},\"line_alpha\":{\"value\":0.1},\"line_color\":{\"value\":\"#345F8D\"},\"x\":{\"field\":\"TimeGenerated\"},\"y\":{\"field\":\"y_index\"}},\"id\":\"2050\",\"type\":\"Circle\"},{\"attributes\":{\"coordinates\":null,\"data_source\":{\"id\":\"1901\"},\"glyph\":{\"id\":\"1995\"},\"group\":null,\"hover_glyph\":null,\"muted_glyph\":{\"id\":\"1997\"},\"nonselection_glyph\":{\"id\":\"1996\"},\"view\":{\"id\":\"1999\"}},\"id\":\"1998\",\"type\":\"GlyphRenderer\"},{\"attributes\":{\"coordinates\":null,\"data_source\":{\"id\":\"1909\"},\"glyph\":{\"id\":\"2043\"},\"group\":null,\"hover_glyph\":null,\"muted_glyph\":{\"id\":\"2045\"},\"nonselection_glyph\":{\"id\":\"2044\"},\"view\":{\"id\":\"2047\"}},\"id\":\"2046\",\"type\":\"GlyphRenderer\"},{\"attributes\":{\"coordinates\":null,\"data_source\":{\"id\":\"1913\"},\"glyph\":{\"id\":\"2067\"},\"group\":null,\"hover_glyph\":null,\"muted_glyph\":{\"id\":\"2069\"},\"nonselection_glyph\":{\"id\":\"2068\"},\"view\":{\"id\":\"2071\"}},\"id\":\"2070\",\"type\":\"GlyphRenderer\"},{\"attributes\":{\"fill_alpha\":{\"value\":0.2},\"fill_color\":{\"value\":\"#1F968B\"},\"hatch_alpha\":{\"value\":0.2},\"hatch_color\":{\"value\":\"#1F968B\"},\"line_alpha\":{\"value\":0.2},\"line_color\":{\"value\":\"#1F968B\"},\"marker\":{\"value\":\"diamond\"},\"size\":{\"value\":10},\"x\":{\"field\":\"TimeGenerated\"},\"y\":{\"field\":\"y_index\"}},\"id\":\"2311\",\"type\":\"Scatter\"},{\"attributes\":{\"fill_color\":{\"value\":\"#25828E\"},\"hatch_color\":{\"value\":\"#25828E\"},\"line_color\":{\"value\":\"#25828E\"},\"x\":{\"field\":\"TimeGenerated\"},\"y\":{\"field\":\"y_index\"}},\"id\":\"2079\",\"type\":\"Circle\"},{\"attributes\":{\"fill_alpha\":{\"value\":0.2},\"fill_color\":{\"value\":\"#345F8D\"},\"hatch_alpha\":{\"value\":0.2},\"hatch_color\":{\"value\":\"#345F8D\"},\"line_alpha\":{\"value\":0.2},\"line_color\":{\"value\":\"#345F8D\"},\"x\":{\"field\":\"TimeGenerated\"},\"y\":{\"field\":\"y_index\"}},\"id\":\"2051\",\"type\":\"Circle\"},{\"attributes\":{\"source\":{\"id\":\"1912\"}},\"id\":\"2065\",\"type\":\"CDSView\"},{\"attributes\":{\"coordinates\":null,\"data_source\":{\"id\":\"1918\"},\"glyph\":{\"id\":\"2309\"},\"group\":null,\"hover_glyph\":null,\"muted_glyph\":{\"id\":\"2311\"},\"nonselection_glyph\":{\"id\":\"2310\"},\"view\":{\"id\":\"2313\"}},\"id\":\"2312\",\"type\":\"GlyphRenderer\"},{\"attributes\":{\"fill_color\":{\"value\":\"#30678D\"},\"hatch_color\":{\"value\":\"#30678D\"},\"line_color\":{\"value\":\"#30678D\"},\"x\":{\"field\":\"TimeGenerated\"},\"y\":{\"field\":\"y_index\"}},\"id\":\"2055\",\"type\":\"Circle\"},{\"attributes\":{\"fill_alpha\":{\"value\":0.1},\"fill_color\":{\"value\":\"#2A758E\"},\"hatch_alpha\":{\"value\":0.1},\"hatch_color\":{\"value\":\"#2A758E\"},\"line_alpha\":{\"value\":0.1},\"line_color\":{\"value\":\"#2A758E\"},\"x\":{\"field\":\"TimeGenerated\"},\"y\":{\"field\":\"y_index\"}},\"id\":\"2068\",\"type\":\"Circle\"},{\"attributes\":{\"fill_alpha\":{\"value\":0.1},\"fill_color\":{\"value\":\"#1E9C89\"},\"hatch_alpha\":{\"value\":0.1},\"hatch_color\":{\"value\":\"#1E9C89\"},\"line_alpha\":{\"value\":0.1},\"line_color\":{\"value\":\"#1E9C89\"},\"marker\":{\"value\":\"diamond\"},\"size\":{\"value\":10},\"x\":{\"field\":\"TimeGenerated\"},\"y\":{\"field\":\"y_index\"}},\"id\":\"2317\",\"type\":\"Scatter\"},{\"attributes\":{\"source\":{\"id\":\"1910\"}},\"id\":\"2053\",\"type\":\"CDSView\"},{\"attributes\":{\"coordinates\":null,\"data_source\":{\"id\":\"1903\"},\"glyph\":{\"id\":\"2007\"},\"group\":null,\"hover_glyph\":null,\"muted_glyph\":{\"id\":\"2009\"},\"nonselection_glyph\":{\"id\":\"2008\"},\"view\":{\"id\":\"2011\"}},\"id\":\"2010\",\"type\":\"GlyphRenderer\"},{\"attributes\":{\"label\":{\"value\":\"52.104.99.164\"},\"renderers\":[{\"id\":\"2312\"}]},\"id\":\"2314\",\"type\":\"LegendItem\"},{\"attributes\":{\"fill_alpha\":{\"value\":0.1},\"fill_color\":{\"value\":\"#30678D\"},\"hatch_alpha\":{\"value\":0.1},\"hatch_color\":{\"value\":\"#30678D\"},\"line_alpha\":{\"value\":0.1},\"line_color\":{\"value\":\"#30678D\"},\"x\":{\"field\":\"TimeGenerated\"},\"y\":{\"field\":\"y_index\"}},\"id\":\"2056\",\"type\":\"Circle\"},{\"attributes\":{\"coordinates\":null,\"data_source\":{\"id\":\"1910\"},\"glyph\":{\"id\":\"2049\"},\"group\":null,\"hover_glyph\":null,\"muted_glyph\":{\"id\":\"2051\"},\"nonselection_glyph\":{\"id\":\"2050\"},\"view\":{\"id\":\"2053\"}},\"id\":\"2052\",\"type\":\"GlyphRenderer\"},{\"attributes\":{\"coordinates\":null,\"data_source\":{\"id\":\"1912\"},\"glyph\":{\"id\":\"2061\"},\"group\":null,\"hover_glyph\":null,\"muted_glyph\":{\"id\":\"2063\"},\"nonselection_glyph\":{\"id\":\"2062\"},\"view\":{\"id\":\"2065\"}},\"id\":\"2064\",\"type\":\"GlyphRenderer\"},{\"attributes\":{\"source\":{\"id\":\"1904\"}},\"id\":\"2017\",\"type\":\"CDSView\"},{\"attributes\":{\"source\":{\"id\":\"1918\"}},\"id\":\"2313\",\"type\":\"CDSView\"},{\"attributes\":{\"source\":{\"id\":\"1914\"}},\"id\":\"2077\",\"type\":\"CDSView\"},{\"attributes\":{\"fill_alpha\":{\"value\":0.5},\"fill_color\":{\"value\":\"#1E9C89\"},\"hatch_alpha\":{\"value\":0.5},\"hatch_color\":{\"value\":\"#1E9C89\"},\"line_alpha\":{\"value\":0.5},\"line_color\":{\"value\":\"#1E9C89\"},\"marker\":{\"value\":\"diamond\"},\"size\":{\"value\":10},\"x\":{\"field\":\"TimeGenerated\"},\"y\":{\"field\":\"y_index\"}},\"id\":\"2316\",\"type\":\"Scatter\"},{\"attributes\":{\"fill_color\":{\"value\":\"#2AB07E\"},\"hatch_color\":{\"value\":\"#2AB07E\"},\"line_color\":{\"value\":\"#2AB07E\"},\"x\":{\"field\":\"TimeGenerated\"},\"y\":{\"field\":\"y_index\"}},\"id\":\"2121\",\"type\":\"Circle\"},{\"attributes\":{\"fill_alpha\":{\"value\":0.2},\"fill_color\":{\"value\":\"#30678D\"},\"hatch_alpha\":{\"value\":0.2},\"hatch_color\":{\"value\":\"#30678D\"},\"line_alpha\":{\"value\":0.2},\"line_color\":{\"value\":\"#30678D\"},\"x\":{\"field\":\"TimeGenerated\"},\"y\":{\"field\":\"y_index\"}},\"id\":\"2057\",\"type\":\"Circle\"},{\"attributes\":{\"fill_color\":{\"value\":\"#2A758E\"},\"hatch_color\":{\"value\":\"#2A758E\"},\"line_color\":{\"value\":\"#2A758E\"},\"x\":{\"field\":\"TimeGenerated\"},\"y\":{\"field\":\"y_index\"}},\"id\":\"2067\",\"type\":\"Circle\"},{\"attributes\":{\"coordinates\":null,\"data_source\":{\"id\":\"1902\"},\"glyph\":{\"id\":\"2001\"},\"group\":null,\"hover_glyph\":null,\"muted_glyph\":{\"id\":\"2003\"},\"nonselection_glyph\":{\"id\":\"2002\"},\"view\":{\"id\":\"2005\"}},\"id\":\"2004\",\"type\":\"GlyphRenderer\"},{\"attributes\":{\"source\":{\"id\":\"1923\"}},\"id\":\"2348\",\"type\":\"CDSView\"},{\"attributes\":{\"fill_alpha\":{\"value\":0.2},\"fill_color\":{\"value\":\"#23898D\"},\"hatch_alpha\":{\"value\":0.2},\"hatch_color\":{\"value\":\"#23898D\"},\"line_alpha\":{\"value\":0.2},\"line_color\":{\"value\":\"#23898D\"},\"x\":{\"field\":\"TimeGenerated\"},\"y\":{\"field\":\"y_index\"}},\"id\":\"2087\",\"type\":\"Circle\"},{\"attributes\":{\"coordinates\":null,\"data_source\":{\"id\":\"1900\"},\"glyph\":{\"id\":\"1989\"},\"group\":null,\"hover_glyph\":null,\"muted_glyph\":{\"id\":\"1991\"},\"nonselection_glyph\":{\"id\":\"1990\"},\"view\":{\"id\":\"1993\"}},\"id\":\"1992\",\"type\":\"GlyphRenderer\"},{\"attributes\":{\"fill_alpha\":{\"value\":0.2},\"fill_color\":{\"value\":\"#1E9C89\"},\"hatch_alpha\":{\"value\":0.2},\"hatch_color\":{\"value\":\"#1E9C89\"},\"line_alpha\":{\"value\":0.2},\"line_color\":{\"value\":\"#1E9C89\"},\"marker\":{\"value\":\"diamond\"},\"size\":{\"value\":10},\"x\":{\"field\":\"TimeGenerated\"},\"y\":{\"field\":\"y_index\"}},\"id\":\"2318\",\"type\":\"Scatter\"},{\"attributes\":{\"source\":{\"id\":\"1911\"}},\"id\":\"2059\",\"type\":\"CDSView\"},{\"attributes\":{\"fill_alpha\":{\"value\":0.5},\"fill_color\":{\"value\":\"#40BD72\"},\"hatch_alpha\":{\"value\":0.5},\"hatch_color\":{\"value\":\"#40BD72\"},\"line_alpha\":{\"value\":0.5},\"line_color\":{\"value\":\"#40BD72\"},\"marker\":{\"value\":\"diamond\"},\"size\":{\"value\":10},\"x\":{\"field\":\"TimeGenerated\"},\"y\":{\"field\":\"y_index\"}},\"id\":\"2351\",\"type\":\"Scatter\"},{\"attributes\":{\"fill_alpha\":{\"value\":0.1},\"fill_color\":{\"value\":\"#481E70\"},\"hatch_alpha\":{\"value\":0.1},\"hatch_color\":{\"value\":\"#481E70\"},\"line_alpha\":{\"value\":0.1},\"line_color\":{\"value\":\"#481E70\"},\"x\":{\"field\":\"TimeGenerated\"},\"y\":{\"field\":\"y_index\"}},\"id\":\"2002\",\"type\":\"Circle\"},{\"attributes\":{\"fill_color\":{\"value\":\"#208F8C\"},\"hatch_color\":{\"value\":\"#208F8C\"},\"line_color\":{\"value\":\"#208F8C\"},\"x\":{\"field\":\"TimeGenerated\"},\"y\":{\"field\":\"y_index\"}},\"id\":\"2091\",\"type\":\"Circle\"},{\"attributes\":{\"coordinates\":null,\"data_source\":{\"id\":\"1919\"},\"glyph\":{\"id\":\"2316\"},\"group\":null,\"hover_glyph\":null,\"muted_glyph\":{\"id\":\"2318\"},\"nonselection_glyph\":{\"id\":\"2317\"},\"view\":{\"id\":\"2320\"}},\"id\":\"2319\",\"type\":\"GlyphRenderer\"},{\"attributes\":{\"coordinates\":null,\"data_source\":{\"id\":\"1911\"},\"glyph\":{\"id\":\"2055\"},\"group\":null,\"hover_glyph\":null,\"muted_glyph\":{\"id\":\"2057\"},\"nonselection_glyph\":{\"id\":\"2056\"},\"view\":{\"id\":\"2059\"}},\"id\":\"2058\",\"type\":\"GlyphRenderer\"},{\"attributes\":{\"fill_alpha\":{\"value\":0.1},\"fill_color\":{\"value\":\"#287B8E\"},\"hatch_alpha\":{\"value\":0.1},\"hatch_color\":{\"value\":\"#287B8E\"},\"line_alpha\":{\"value\":0.1},\"line_color\":{\"value\":\"#287B8E\"},\"x\":{\"field\":\"TimeGenerated\"},\"y\":{\"field\":\"y_index\"}},\"id\":\"2074\",\"type\":\"Circle\"},{\"attributes\":{\"coordinates\":null,\"data_source\":{\"id\":\"1914\"},\"glyph\":{\"id\":\"2073\"},\"group\":null,\"hover_glyph\":null,\"muted_glyph\":{\"id\":\"2075\"},\"nonselection_glyph\":{\"id\":\"2074\"},\"view\":{\"id\":\"2077\"}},\"id\":\"2076\",\"type\":\"GlyphRenderer\"},{\"attributes\":{\"fill_alpha\":{\"value\":0.1},\"fill_color\":{\"value\":\"#1FA386\"},\"hatch_alpha\":{\"value\":0.1},\"hatch_color\":{\"value\":\"#1FA386\"},\"line_alpha\":{\"value\":0.1},\"line_color\":{\"value\":\"#1FA386\"},\"marker\":{\"value\":\"diamond\"},\"size\":{\"value\":10},\"x\":{\"field\":\"TimeGenerated\"},\"y\":{\"field\":\"y_index\"}},\"id\":\"2324\",\"type\":\"Scatter\"},{\"attributes\":{\"fill_alpha\":{\"value\":0.1},\"fill_color\":{\"value\":\"#472777\"},\"hatch_alpha\":{\"value\":0.1},\"hatch_color\":{\"value\":\"#472777\"},\"line_alpha\":{\"value\":0.1},\"line_color\":{\"value\":\"#472777\"},\"x\":{\"field\":\"TimeGenerated\"},\"y\":{\"field\":\"y_index\"}},\"id\":\"2008\",\"type\":\"Circle\"},{\"attributes\":{\"label\":{\"value\":\"52.104.99.165\"},\"renderers\":[{\"id\":\"2319\"}]},\"id\":\"2321\",\"type\":\"LegendItem\"},{\"attributes\":{\"fill_alpha\":{\"value\":0.1},\"fill_color\":{\"value\":\"#25828E\"},\"hatch_alpha\":{\"value\":0.1},\"hatch_color\":{\"value\":\"#25828E\"},\"line_alpha\":{\"value\":0.1},\"line_color\":{\"value\":\"#25828E\"},\"x\":{\"field\":\"TimeGenerated\"},\"y\":{\"field\":\"y_index\"}},\"id\":\"2080\",\"type\":\"Circle\"},{\"attributes\":{\"fill_alpha\":{\"value\":0.1},\"fill_color\":{\"value\":\"#208F8C\"},\"hatch_alpha\":{\"value\":0.1},\"hatch_color\":{\"value\":\"#208F8C\"},\"line_alpha\":{\"value\":0.1},\"line_color\":{\"value\":\"#208F8C\"},\"x\":{\"field\":\"TimeGenerated\"},\"y\":{\"field\":\"y_index\"}},\"id\":\"2092\",\"type\":\"Circle\"},{\"attributes\":{\"coordinates\":null,\"data_source\":{\"id\":\"1916\"},\"glyph\":{\"id\":\"2085\"},\"group\":null,\"hover_glyph\":null,\"muted_glyph\":{\"id\":\"2087\"},\"nonselection_glyph\":{\"id\":\"2086\"},\"view\":{\"id\":\"2089\"}},\"id\":\"2088\",\"type\":\"GlyphRenderer\"},{\"attributes\":{\"source\":{\"id\":\"1919\"}},\"id\":\"2320\",\"type\":\"CDSView\"},{\"attributes\":{\"source\":{\"id\":\"1901\"}},\"id\":\"1999\",\"type\":\"CDSView\"},{\"attributes\":{\"fill_alpha\":{\"value\":0.5},\"fill_color\":{\"value\":\"#1FA386\"},\"hatch_alpha\":{\"value\":0.5},\"hatch_color\":{\"value\":\"#1FA386\"},\"line_alpha\":{\"value\":0.5},\"line_color\":{\"value\":\"#1FA386\"},\"marker\":{\"value\":\"diamond\"},\"size\":{\"value\":10},\"x\":{\"field\":\"TimeGenerated\"},\"y\":{\"field\":\"y_index\"}},\"id\":\"2323\",\"type\":\"Scatter\"},{\"attributes\":{\"source\":{\"id\":\"1929\"}},\"id\":\"2167\",\"type\":\"CDSView\"},{\"attributes\":{\"fill_color\":{\"value\":\"#472777\"},\"hatch_color\":{\"value\":\"#472777\"},\"line_color\":{\"value\":\"#472777\"},\"x\":{\"field\":\"TimeGenerated\"},\"y\":{\"field\":\"y_index\"}},\"id\":\"2007\",\"type\":\"Circle\"},{\"attributes\":{\"overlay\":{\"id\":\"2169\"},\"x_range\":{\"id\":\"1934\"},\"y_range\":null},\"id\":\"2168\",\"type\":\"RangeTool\"},{\"attributes\":{\"source\":{\"id\":\"1913\"}},\"id\":\"2071\",\"type\":\"CDSView\"},{\"attributes\":{\"fill_alpha\":{\"value\":0.2},\"fill_color\":{\"value\":\"#208F8C\"},\"hatch_alpha\":{\"value\":0.2},\"hatch_color\":{\"value\":\"#208F8C\"},\"line_alpha\":{\"value\":0.2},\"line_color\":{\"value\":\"#208F8C\"},\"x\":{\"field\":\"TimeGenerated\"},\"y\":{\"field\":\"y_index\"}},\"id\":\"2093\",\"type\":\"Circle\"},{\"attributes\":{\"fill_alpha\":{\"value\":0.2},\"fill_color\":{\"value\":\"#1FA386\"},\"hatch_alpha\":{\"value\":0.2},\"hatch_color\":{\"value\":\"#1FA386\"},\"line_alpha\":{\"value\":0.2},\"line_color\":{\"value\":\"#1FA386\"},\"marker\":{\"value\":\"diamond\"},\"size\":{\"value\":10},\"x\":{\"field\":\"TimeGenerated\"},\"y\":{\"field\":\"y_index\"}},\"id\":\"2325\",\"type\":\"Scatter\"},{\"attributes\":{\"fill_color\":{\"value\":\"#1F968B\"},\"hatch_color\":{\"value\":\"#1F968B\"},\"line_color\":{\"value\":\"#1F968B\"},\"x\":{\"field\":\"TimeGenerated\"},\"y\":{\"field\":\"y_index\"}},\"id\":\"2097\",\"type\":\"Circle\"},{\"attributes\":{\"coordinates\":null,\"data_source\":{\"id\":\"1923\"},\"glyph\":{\"id\":\"2344\"},\"group\":null,\"hover_glyph\":null,\"muted_glyph\":{\"id\":\"2346\"},\"nonselection_glyph\":{\"id\":\"2345\"},\"view\":{\"id\":\"2348\"}},\"id\":\"2347\",\"type\":\"GlyphRenderer\"},{\"attributes\":{},\"id\":\"2398\",\"type\":\"AllLabels\"},{\"attributes\":{\"source\":{\"id\":\"1917\"}},\"id\":\"2095\",\"type\":\"CDSView\"},{\"attributes\":{\"coordinates\":null,\"data_source\":{\"id\":\"1920\"},\"glyph\":{\"id\":\"2323\"},\"group\":null,\"hover_glyph\":null,\"muted_glyph\":{\"id\":\"2325\"},\"nonselection_glyph\":{\"id\":\"2324\"},\"view\":{\"id\":\"2327\"}},\"id\":\"2326\",\"type\":\"GlyphRenderer\"},{\"attributes\":{\"coordinates\":null,\"data_source\":{\"id\":\"1905\"},\"glyph\":{\"id\":\"2019\"},\"group\":null,\"hover_glyph\":null,\"muted_glyph\":{\"id\":\"2021\"},\"nonselection_glyph\":{\"id\":\"2020\"},\"view\":{\"id\":\"2023\"}},\"id\":\"2022\",\"type\":\"GlyphRenderer\"},{\"attributes\":{\"fill_alpha\":{\"value\":0.1},\"fill_color\":{\"value\":\"#1F968B\"},\"hatch_alpha\":{\"value\":0.1},\"hatch_color\":{\"value\":\"#1F968B\"},\"line_alpha\":{\"value\":0.1},\"line_color\":{\"value\":\"#1F968B\"},\"x\":{\"field\":\"TimeGenerated\"},\"y\":{\"field\":\"y_index\"}},\"id\":\"2098\",\"type\":\"Circle\"},{\"attributes\":{\"coordinates\":null,\"data_source\":{\"id\":\"1917\"},\"glyph\":{\"id\":\"2091\"},\"group\":null,\"hover_glyph\":null,\"muted_glyph\":{\"id\":\"2093\"},\"nonselection_glyph\":{\"id\":\"2092\"},\"view\":{\"id\":\"2095\"}},\"id\":\"2094\",\"type\":\"GlyphRenderer\"},{\"attributes\":{\"fill_alpha\":{\"value\":0.1},\"fill_color\":{\"value\":\"#23A982\"},\"hatch_alpha\":{\"value\":0.1},\"hatch_color\":{\"value\":\"#23A982\"},\"line_alpha\":{\"value\":0.1},\"line_color\":{\"value\":\"#23A982\"},\"marker\":{\"value\":\"diamond\"},\"size\":{\"value\":10},\"x\":{\"field\":\"TimeGenerated\"},\"y\":{\"field\":\"y_index\"}},\"id\":\"2331\",\"type\":\"Scatter\"},{\"attributes\":{\"label\":{\"value\":\"52.104.99.166\"},\"renderers\":[{\"id\":\"2326\"}]},\"id\":\"2328\",\"type\":\"LegendItem\"},{\"attributes\":{\"fill_alpha\":{\"value\":0.2},\"fill_color\":{\"value\":\"#8DD644\"},\"hatch_alpha\":{\"value\":0.2},\"hatch_color\":{\"value\":\"#8DD644\"},\"line_alpha\":{\"value\":0.2},\"line_color\":{\"value\":\"#8DD644\"},\"x\":{\"field\":\"TimeGenerated\"},\"y\":{\"field\":\"y_index\"}},\"id\":\"2165\",\"type\":\"Circle\"},{\"attributes\":{\"fill_alpha\":{\"value\":0.1},\"fill_color\":{\"value\":\"#4DC26B\"},\"hatch_alpha\":{\"value\":0.1},\"hatch_color\":{\"value\":\"#4DC26B\"},\"line_alpha\":{\"value\":0.1},\"line_color\":{\"value\":\"#4DC26B\"},\"marker\":{\"value\":\"diamond\"},\"size\":{\"value\":10},\"x\":{\"field\":\"TimeGenerated\"},\"y\":{\"field\":\"y_index\"}},\"id\":\"2359\",\"type\":\"Scatter\"},{\"attributes\":{\"source\":{\"id\":\"1920\"}},\"id\":\"2327\",\"type\":\"CDSView\"},{\"attributes\":{\"fill_alpha\":{\"value\":0.2},\"fill_color\":{\"value\":\"#1F968B\"},\"hatch_alpha\":{\"value\":0.2},\"hatch_color\":{\"value\":\"#1F968B\"},\"line_alpha\":{\"value\":0.2},\"line_color\":{\"value\":\"#1F968B\"},\"x\":{\"field\":\"TimeGenerated\"},\"y\":{\"field\":\"y_index\"}},\"id\":\"2099\",\"type\":\"Circle\"},{\"attributes\":{\"fill_alpha\":{\"value\":0.5},\"fill_color\":{\"value\":\"#23A982\"},\"hatch_alpha\":{\"value\":0.5},\"hatch_color\":{\"value\":\"#23A982\"},\"line_alpha\":{\"value\":0.5},\"line_color\":{\"value\":\"#23A982\"},\"marker\":{\"value\":\"diamond\"},\"size\":{\"value\":10},\"x\":{\"field\":\"TimeGenerated\"},\"y\":{\"field\":\"y_index\"}},\"id\":\"2330\",\"type\":\"Scatter\"},{\"attributes\":{\"fill_alpha\":{\"value\":0.2},\"fill_color\":{\"value\":\"#287B8E\"},\"hatch_alpha\":{\"value\":0.2},\"hatch_color\":{\"value\":\"#287B8E\"},\"line_alpha\":{\"value\":0.2},\"line_color\":{\"value\":\"#287B8E\"},\"x\":{\"field\":\"TimeGenerated\"},\"y\":{\"field\":\"y_index\"}},\"id\":\"2075\",\"type\":\"Circle\"},{\"attributes\":{\"fill_color\":{\"value\":\"#1E9C89\"},\"hatch_color\":{\"value\":\"#1E9C89\"},\"line_color\":{\"value\":\"#1E9C89\"},\"x\":{\"field\":\"TimeGenerated\"},\"y\":{\"field\":\"y_index\"}},\"id\":\"2103\",\"type\":\"Circle\"},{\"attributes\":{\"fill_alpha\":{\"value\":0.1},\"fill_color\":{\"value\":\"#471567\"},\"hatch_alpha\":{\"value\":0.1},\"hatch_color\":{\"value\":\"#471567\"},\"line_alpha\":{\"value\":0.1},\"line_color\":{\"value\":\"#471567\"},\"x\":{\"field\":\"TimeGenerated\"},\"y\":{\"field\":\"y_index\"}},\"id\":\"1996\",\"type\":\"Circle\"},{\"attributes\":{\"source\":{\"id\":\"1918\"}},\"id\":\"2101\",\"type\":\"CDSView\"},{\"attributes\":{\"fill_alpha\":{\"value\":0.2},\"fill_color\":{\"value\":\"#472777\"},\"hatch_alpha\":{\"value\":0.2},\"hatch_color\":{\"value\":\"#472777\"},\"line_alpha\":{\"value\":0.2},\"line_color\":{\"value\":\"#472777\"},\"x\":{\"field\":\"TimeGenerated\"},\"y\":{\"field\":\"y_index\"}},\"id\":\"2009\",\"type\":\"Circle\"},{\"attributes\":{\"fill_alpha\":{\"value\":0.1},\"fill_color\":{\"value\":\"#1E9C89\"},\"hatch_alpha\":{\"value\":0.1},\"hatch_color\":{\"value\":\"#1E9C89\"},\"line_alpha\":{\"value\":0.1},\"line_color\":{\"value\":\"#1E9C89\"},\"x\":{\"field\":\"TimeGenerated\"},\"y\":{\"field\":\"y_index\"}},\"id\":\"2104\",\"type\":\"Circle\"},{\"attributes\":{\"coordinates\":null,\"data_source\":{\"id\":\"1918\"},\"glyph\":{\"id\":\"2097\"},\"group\":null,\"hover_glyph\":null,\"muted_glyph\":{\"id\":\"2099\"},\"nonselection_glyph\":{\"id\":\"2098\"},\"view\":{\"id\":\"2101\"}},\"id\":\"2100\",\"type\":\"GlyphRenderer\"},{\"attributes\":{\"fill_alpha\":{\"value\":0.2},\"fill_color\":{\"value\":\"#23A982\"},\"hatch_alpha\":{\"value\":0.2},\"hatch_color\":{\"value\":\"#23A982\"},\"line_alpha\":{\"value\":0.2},\"line_color\":{\"value\":\"#23A982\"},\"marker\":{\"value\":\"diamond\"},\"size\":{\"value\":10},\"x\":{\"field\":\"TimeGenerated\"},\"y\":{\"field\":\"y_index\"}},\"id\":\"2332\",\"type\":\"Scatter\"},{\"attributes\":{\"fill_alpha\":{\"value\":0.2},\"fill_color\":{\"value\":\"#443982\"},\"hatch_alpha\":{\"value\":0.2},\"hatch_color\":{\"value\":\"#443982\"},\"line_alpha\":{\"value\":0.2},\"line_color\":{\"value\":\"#443982\"},\"x\":{\"field\":\"TimeGenerated\"},\"y\":{\"field\":\"y_index\"}},\"id\":\"2021\",\"type\":\"Circle\"},{\"attributes\":{\"label\":{\"value\":\"52.104.99.171\"},\"renderers\":[{\"id\":\"2347\"}]},\"id\":\"2349\",\"type\":\"LegendItem\"},{\"attributes\":{\"fill_alpha\":{\"value\":0.1},\"fill_color\":{\"value\":\"#443982\"},\"hatch_alpha\":{\"value\":0.1},\"hatch_color\":{\"value\":\"#443982\"},\"line_alpha\":{\"value\":0.1},\"line_color\":{\"value\":\"#443982\"},\"x\":{\"field\":\"TimeGenerated\"},\"y\":{\"field\":\"y_index\"}},\"id\":\"2020\",\"type\":\"Circle\"},{\"attributes\":{\"fill_color\":{\"value\":\"#8DD644\"},\"hatch_color\":{\"value\":\"#8DD644\"},\"line_color\":{\"value\":\"#8DD644\"},\"x\":{\"field\":\"TimeGenerated\"},\"y\":{\"field\":\"y_index\"}},\"id\":\"2163\",\"type\":\"Circle\"},{\"attributes\":{\"coordinates\":null,\"data_source\":{\"id\":\"1921\"},\"glyph\":{\"id\":\"2330\"},\"group\":null,\"hover_glyph\":null,\"muted_glyph\":{\"id\":\"2332\"},\"nonselection_glyph\":{\"id\":\"2331\"},\"view\":{\"id\":\"2334\"}},\"id\":\"2333\",\"type\":\"GlyphRenderer\"},{\"attributes\":{\"source\":{\"id\":\"1928\"}},\"id\":\"2161\",\"type\":\"CDSView\"},{\"attributes\":{\"fill_alpha\":{\"value\":0.1},\"fill_color\":{\"value\":\"#2AB07E\"},\"hatch_alpha\":{\"value\":0.1},\"hatch_color\":{\"value\":\"#2AB07E\"},\"line_alpha\":{\"value\":0.1},\"line_color\":{\"value\":\"#2AB07E\"},\"marker\":{\"value\":\"diamond\"},\"size\":{\"value\":10},\"x\":{\"field\":\"TimeGenerated\"},\"y\":{\"field\":\"y_index\"}},\"id\":\"2338\",\"type\":\"Scatter\"},{\"attributes\":{\"fill_alpha\":{\"value\":0.2},\"fill_color\":{\"value\":\"#471567\"},\"hatch_alpha\":{\"value\":0.2},\"hatch_color\":{\"value\":\"#471567\"},\"line_alpha\":{\"value\":0.2},\"line_color\":{\"value\":\"#471567\"},\"x\":{\"field\":\"TimeGenerated\"},\"y\":{\"field\":\"y_index\"}},\"id\":\"1997\",\"type\":\"Circle\"},{\"attributes\":{\"fill_alpha\":{\"value\":0.2},\"fill_color\":{\"value\":\"#1E9C89\"},\"hatch_alpha\":{\"value\":0.2},\"hatch_color\":{\"value\":\"#1E9C89\"},\"line_alpha\":{\"value\":0.2},\"line_color\":{\"value\":\"#1E9C89\"},\"x\":{\"field\":\"TimeGenerated\"},\"y\":{\"field\":\"y_index\"}},\"id\":\"2105\",\"type\":\"Circle\"},{\"attributes\":{\"label\":{\"value\":\"52.104.99.169\"},\"renderers\":[{\"id\":\"2333\"}]},\"id\":\"2335\",\"type\":\"LegendItem\"},{\"attributes\":{\"fill_color\":{\"value\":\"#481E70\"},\"hatch_color\":{\"value\":\"#481E70\"},\"line_color\":{\"value\":\"#481E70\"},\"x\":{\"field\":\"TimeGenerated\"},\"y\":{\"field\":\"y_index\"}},\"id\":\"2001\",\"type\":\"Circle\"},{\"attributes\":{\"fill_color\":{\"value\":\"#1FA386\"},\"hatch_color\":{\"value\":\"#1FA386\"},\"line_color\":{\"value\":\"#1FA386\"},\"x\":{\"field\":\"TimeGenerated\"},\"y\":{\"field\":\"y_index\"}},\"id\":\"2109\",\"type\":\"Circle\"},{\"attributes\":{\"fill_alpha\":{\"value\":0.2},\"fill_color\":{\"value\":\"#46307D\"},\"hatch_alpha\":{\"value\":0.2},\"hatch_color\":{\"value\":\"#46307D\"},\"line_alpha\":{\"value\":0.2},\"line_color\":{\"value\":\"#46307D\"},\"x\":{\"field\":\"TimeGenerated\"},\"y\":{\"field\":\"y_index\"}},\"id\":\"2015\",\"type\":\"Circle\"},{\"attributes\":{\"source\":{\"id\":\"1919\"}},\"id\":\"2107\",\"type\":\"CDSView\"},{\"attributes\":{\"source\":{\"id\":\"1921\"}},\"id\":\"2334\",\"type\":\"CDSView\"},{\"attributes\":{\"fill_alpha\":{\"value\":0.1},\"fill_color\":{\"value\":\"#1FA386\"},\"hatch_alpha\":{\"value\":0.1},\"hatch_color\":{\"value\":\"#1FA386\"},\"line_alpha\":{\"value\":0.1},\"line_color\":{\"value\":\"#1FA386\"},\"x\":{\"field\":\"TimeGenerated\"},\"y\":{\"field\":\"y_index\"}},\"id\":\"2110\",\"type\":\"Circle\"},{\"attributes\":{\"coordinates\":null,\"data_source\":{\"id\":\"1919\"},\"glyph\":{\"id\":\"2103\"},\"group\":null,\"hover_glyph\":null,\"muted_glyph\":{\"id\":\"2105\"},\"nonselection_glyph\":{\"id\":\"2104\"},\"view\":{\"id\":\"2107\"}},\"id\":\"2106\",\"type\":\"GlyphRenderer\"},{\"attributes\":{\"fill_alpha\":{\"value\":0.5},\"fill_color\":{\"value\":\"#2AB07E\"},\"hatch_alpha\":{\"value\":0.5},\"hatch_color\":{\"value\":\"#2AB07E\"},\"line_alpha\":{\"value\":0.5},\"line_color\":{\"value\":\"#2AB07E\"},\"marker\":{\"value\":\"diamond\"},\"size\":{\"value\":10},\"x\":{\"field\":\"TimeGenerated\"},\"y\":{\"field\":\"y_index\"}},\"id\":\"2337\",\"type\":\"Scatter\"},{\"attributes\":{\"coordinates\":null,\"fill_alpha\":0.2,\"fill_color\":\"navy\",\"group\":null,\"level\":\"overlay\",\"line_alpha\":1.0,\"line_color\":\"black\",\"line_dash\":[2,2],\"line_width\":0.5,\"syncable\":false},\"id\":\"2169\",\"type\":\"BoxAnnotation\"},{\"attributes\":{\"fill_alpha\":{\"value\":0.5},\"fill_color\":{\"value\":\"#30678D\"},\"hatch_alpha\":{\"value\":0.5},\"hatch_color\":{\"value\":\"#30678D\"},\"line_alpha\":{\"value\":0.5},\"line_color\":{\"value\":\"#30678D\"},\"marker\":{\"value\":\"diamond\"},\"size\":{\"value\":10},\"x\":{\"field\":\"TimeGenerated\"},\"y\":{\"field\":\"y_index\"}},\"id\":\"2260\",\"type\":\"Scatter\"},{\"attributes\":{\"fill_alpha\":{\"value\":0.2},\"fill_color\":{\"value\":\"#35B778\"},\"hatch_alpha\":{\"value\":0.2},\"hatch_color\":{\"value\":\"#35B778\"},\"line_alpha\":{\"value\":0.2},\"line_color\":{\"value\":\"#35B778\"},\"marker\":{\"value\":\"diamond\"},\"size\":{\"value\":10},\"x\":{\"field\":\"TimeGenerated\"},\"y\":{\"field\":\"y_index\"}},\"id\":\"2346\",\"type\":\"Scatter\"},{\"attributes\":{\"fill_alpha\":{\"value\":0.2},\"fill_color\":{\"value\":\"#2AB07E\"},\"hatch_alpha\":{\"value\":0.2},\"hatch_color\":{\"value\":\"#2AB07E\"},\"line_alpha\":{\"value\":0.2},\"line_color\":{\"value\":\"#2AB07E\"},\"marker\":{\"value\":\"diamond\"},\"size\":{\"value\":10},\"x\":{\"field\":\"TimeGenerated\"},\"y\":{\"field\":\"y_index\"}},\"id\":\"2339\",\"type\":\"Scatter\"},{\"attributes\":{},\"id\":\"2397\",\"type\":\"BasicTickFormatter\"},{\"attributes\":{\"fill_alpha\":{\"value\":0.2},\"fill_color\":{\"value\":\"#1FA386\"},\"hatch_alpha\":{\"value\":0.2},\"hatch_color\":{\"value\":\"#1FA386\"},\"line_alpha\":{\"value\":0.2},\"line_color\":{\"value\":\"#1FA386\"},\"x\":{\"field\":\"TimeGenerated\"},\"y\":{\"field\":\"y_index\"}},\"id\":\"2111\",\"type\":\"Circle\"},{\"attributes\":{\"fill_alpha\":{\"value\":0.1},\"fill_color\":{\"value\":\"#40BD72\"},\"hatch_alpha\":{\"value\":0.1},\"hatch_color\":{\"value\":\"#40BD72\"},\"line_alpha\":{\"value\":0.1},\"line_color\":{\"value\":\"#40BD72\"},\"marker\":{\"value\":\"diamond\"},\"size\":{\"value\":10},\"x\":{\"field\":\"TimeGenerated\"},\"y\":{\"field\":\"y_index\"}},\"id\":\"2352\",\"type\":\"Scatter\"},{\"attributes\":{\"fill_alpha\":{\"value\":0.1},\"fill_color\":{\"value\":\"#46307D\"},\"hatch_alpha\":{\"value\":0.1},\"hatch_color\":{\"value\":\"#46307D\"},\"line_alpha\":{\"value\":0.1},\"line_color\":{\"value\":\"#46307D\"},\"x\":{\"field\":\"TimeGenerated\"},\"y\":{\"field\":\"y_index\"}},\"id\":\"2014\",\"type\":\"Circle\"},{\"attributes\":{\"fill_color\":{\"value\":\"#23A982\"},\"hatch_color\":{\"value\":\"#23A982\"},\"line_color\":{\"value\":\"#23A982\"},\"x\":{\"field\":\"TimeGenerated\"},\"y\":{\"field\":\"y_index\"}},\"id\":\"2115\",\"type\":\"Circle\"},{\"attributes\":{\"coordinates\":null,\"data_source\":{\"id\":\"1922\"},\"glyph\":{\"id\":\"2337\"},\"group\":null,\"hover_glyph\":null,\"muted_glyph\":{\"id\":\"2339\"},\"nonselection_glyph\":{\"id\":\"2338\"},\"view\":{\"id\":\"2341\"}},\"id\":\"2340\",\"type\":\"GlyphRenderer\"},{\"attributes\":{\"source\":{\"id\":\"1902\"}},\"id\":\"2005\",\"type\":\"CDSView\"},{\"attributes\":{\"source\":{\"id\":\"1920\"}},\"id\":\"2113\",\"type\":\"CDSView\"},{\"attributes\":{\"fill_alpha\":{\"value\":0.1},\"fill_color\":{\"value\":\"#35B778\"},\"hatch_alpha\":{\"value\":0.1},\"hatch_color\":{\"value\":\"#35B778\"},\"line_alpha\":{\"value\":0.1},\"line_color\":{\"value\":\"#35B778\"},\"marker\":{\"value\":\"diamond\"},\"size\":{\"value\":10},\"x\":{\"field\":\"TimeGenerated\"},\"y\":{\"field\":\"y_index\"}},\"id\":\"2345\",\"type\":\"Scatter\"},{\"attributes\":{\"fill_alpha\":{\"value\":0.1},\"fill_color\":{\"value\":\"#23A982\"},\"hatch_alpha\":{\"value\":0.1},\"hatch_color\":{\"value\":\"#23A982\"},\"line_alpha\":{\"value\":0.1},\"line_color\":{\"value\":\"#23A982\"},\"x\":{\"field\":\"TimeGenerated\"},\"y\":{\"field\":\"y_index\"}},\"id\":\"2116\",\"type\":\"Circle\"},{\"attributes\":{\"coordinates\":null,\"data_source\":{\"id\":\"1920\"},\"glyph\":{\"id\":\"2109\"},\"group\":null,\"hover_glyph\":null,\"muted_glyph\":{\"id\":\"2111\"},\"nonselection_glyph\":{\"id\":\"2110\"},\"view\":{\"id\":\"2113\"}},\"id\":\"2112\",\"type\":\"GlyphRenderer\"},{\"attributes\":{\"label\":{\"value\":\"52.104.99.170\"},\"renderers\":[{\"id\":\"2340\"}]},\"id\":\"2342\",\"type\":\"LegendItem\"},{\"attributes\":{\"coordinates\":null,\"data_source\":{\"id\":\"1928\"},\"glyph\":{\"id\":\"2157\"},\"group\":null,\"hover_glyph\":null,\"muted_glyph\":{\"id\":\"2159\"},\"nonselection_glyph\":{\"id\":\"2158\"},\"view\":{\"id\":\"2161\"}},\"id\":\"2160\",\"type\":\"GlyphRenderer\"},{\"attributes\":{\"fill_alpha\":{\"value\":0.2},\"fill_color\":{\"value\":\"#2A758E\"},\"hatch_alpha\":{\"value\":0.2},\"hatch_color\":{\"value\":\"#2A758E\"},\"line_alpha\":{\"value\":0.2},\"line_color\":{\"value\":\"#2A758E\"},\"x\":{\"field\":\"TimeGenerated\"},\"y\":{\"field\":\"y_index\"}},\"id\":\"2069\",\"type\":\"Circle\"},{\"attributes\":{\"source\":{\"id\":\"1922\"}},\"id\":\"2341\",\"type\":\"CDSView\"},{\"attributes\":{\"source\":{\"id\":\"1903\"}},\"id\":\"2011\",\"type\":\"CDSView\"},{\"attributes\":{\"fill_alpha\":{\"value\":0.1},\"fill_color\":{\"value\":\"#8DD644\"},\"hatch_alpha\":{\"value\":0.1},\"hatch_color\":{\"value\":\"#8DD644\"},\"line_alpha\":{\"value\":0.1},\"line_color\":{\"value\":\"#8DD644\"},\"x\":{\"field\":\"TimeGenerated\"},\"y\":{\"field\":\"y_index\"}},\"id\":\"2164\",\"type\":\"Circle\"},{\"attributes\":{\"fill_alpha\":{\"value\":0.5},\"fill_color\":{\"value\":\"#35B778\"},\"hatch_alpha\":{\"value\":0.5},\"hatch_color\":{\"value\":\"#35B778\"},\"line_alpha\":{\"value\":0.5},\"line_color\":{\"value\":\"#35B778\"},\"marker\":{\"value\":\"diamond\"},\"size\":{\"value\":10},\"x\":{\"field\":\"TimeGenerated\"},\"y\":{\"field\":\"y_index\"}},\"id\":\"2344\",\"type\":\"Scatter\"},{\"attributes\":{\"source\":{\"id\":\"1905\"}},\"id\":\"2023\",\"type\":\"CDSView\"},{\"attributes\":{\"fill_alpha\":{\"value\":0.2},\"fill_color\":{\"value\":\"#7CD24F\"},\"hatch_alpha\":{\"value\":0.2},\"hatch_color\":{\"value\":\"#7CD24F\"},\"line_alpha\":{\"value\":0.2},\"line_color\":{\"value\":\"#7CD24F\"},\"x\":{\"field\":\"TimeGenerated\"},\"y\":{\"field\":\"y_index\"}},\"id\":\"2159\",\"type\":\"Circle\"},{\"attributes\":{\"fill_color\":{\"value\":\"#287B8E\"},\"hatch_color\":{\"value\":\"#287B8E\"},\"line_color\":{\"value\":\"#287B8E\"},\"x\":{\"field\":\"TimeGenerated\"},\"y\":{\"field\":\"y_index\"}},\"id\":\"2073\",\"type\":\"Circle\"},{\"attributes\":{\"fill_color\":{\"value\":\"#471567\"},\"hatch_color\":{\"value\":\"#471567\"},\"line_color\":{\"value\":\"#471567\"},\"x\":{\"field\":\"TimeGenerated\"},\"y\":{\"field\":\"y_index\"}},\"id\":\"1995\",\"type\":\"Circle\"},{\"attributes\":{\"fill_color\":{\"value\":\"#46307D\"},\"hatch_color\":{\"value\":\"#46307D\"},\"line_color\":{\"value\":\"#46307D\"},\"x\":{\"field\":\"TimeGenerated\"},\"y\":{\"field\":\"y_index\"}},\"id\":\"2013\",\"type\":\"Circle\"}],\"root_ids\":[\"2393\"]},\"title\":\"Bokeh Application\",\"version\":\"2.4.3\"}};\n  const render_items = [{\"docid\":\"b31184a0-2b53-4e8a-a9b4-a207b5823ec1\",\"root_ids\":[\"2393\"],\"roots\":{\"2393\":\"9f145236-58e3-458f-ab35-702fd1ce2cc5\"}}];\n  root.Bokeh.embed.embed_items_notebook(docs_json, render_items);\n  }\n  if (root.Bokeh !== undefined) {\n    embed_document(root);\n  } else {\n    let attempts = 0;\n    const timer = setInterval(function(root) {\n      if (root.Bokeh !== undefined) {\n        clearInterval(timer);\n        embed_document(root);\n      } else {\n        attempts++;\n        if (attempts > 100) {\n          clearInterval(timer);\n          console.log(\"Bokeh: ERROR: Unable to run BokehJS code because BokehJS library is missing\");\n        }\n      }\n    }, 10, root)\n  }\n})(window);",
      "application/vnd.bokehjs_exec.v0+json": ""
     },
     "metadata": {
      "application/vnd.bokehjs_exec.v0+json": {
       "id": "2393"
      }
     },
     "output_type": "display_data"
    },
    {
     "data": {
      "text/html": [
       "<div class=\"bk-root\">\n",
       "        <a href=\"https://bokeh.org\" target=\"_blank\" class=\"bk-logo bk-logo-small bk-logo-notebook\"></a>\n",
       "        <span id=\"2976\">Loading BokehJS ...</span>\n",
       "    </div>\n"
      ]
     },
     "metadata": {},
     "output_type": "display_data"
    },
    {
     "data": {
      "application/javascript": "(function(root) {\n  function now() {\n    return new Date();\n  }\n\n  const force = true;\n\n  if (typeof root._bokeh_onload_callbacks === \"undefined\" || force === true) {\n    root._bokeh_onload_callbacks = [];\n    root._bokeh_is_loading = undefined;\n  }\n\nconst JS_MIME_TYPE = 'application/javascript';\n  const HTML_MIME_TYPE = 'text/html';\n  const EXEC_MIME_TYPE = 'application/vnd.bokehjs_exec.v0+json';\n  const CLASS_NAME = 'output_bokeh rendered_html';\n\n  /**\n   * Render data to the DOM node\n   */\n  function render(props, node) {\n    const script = document.createElement(\"script\");\n    node.appendChild(script);\n  }\n\n  /**\n   * Handle when an output is cleared or removed\n   */\n  function handleClearOutput(event, handle) {\n    const cell = handle.cell;\n\n    const id = cell.output_area._bokeh_element_id;\n    const server_id = cell.output_area._bokeh_server_id;\n    // Clean up Bokeh references\n    if (id != null && id in Bokeh.index) {\n      Bokeh.index[id].model.document.clear();\n      delete Bokeh.index[id];\n    }\n\n    if (server_id !== undefined) {\n      // Clean up Bokeh references\n      const cmd_clean = \"from bokeh.io.state import curstate; print(curstate().uuid_to_server['\" + server_id + \"'].get_sessions()[0].document.roots[0]._id)\";\n      cell.notebook.kernel.execute(cmd_clean, {\n        iopub: {\n          output: function(msg) {\n            const id = msg.content.text.trim();\n            if (id in Bokeh.index) {\n              Bokeh.index[id].model.document.clear();\n              delete Bokeh.index[id];\n            }\n          }\n        }\n      });\n      // Destroy server and session\n      const cmd_destroy = \"import bokeh.io.notebook as ion; ion.destroy_server('\" + server_id + \"')\";\n      cell.notebook.kernel.execute(cmd_destroy);\n    }\n  }\n\n  /**\n   * Handle when a new output is added\n   */\n  function handleAddOutput(event, handle) {\n    const output_area = handle.output_area;\n    const output = handle.output;\n\n    // limit handleAddOutput to display_data with EXEC_MIME_TYPE content only\n    if ((output.output_type != \"display_data\") || (!Object.prototype.hasOwnProperty.call(output.data, EXEC_MIME_TYPE))) {\n      return\n    }\n\n    const toinsert = output_area.element.find(\".\" + CLASS_NAME.split(' ')[0]);\n\n    if (output.metadata[EXEC_MIME_TYPE][\"id\"] !== undefined) {\n      toinsert[toinsert.length - 1].firstChild.textContent = output.data[JS_MIME_TYPE];\n      // store reference to embed id on output_area\n      output_area._bokeh_element_id = output.metadata[EXEC_MIME_TYPE][\"id\"];\n    }\n    if (output.metadata[EXEC_MIME_TYPE][\"server_id\"] !== undefined) {\n      const bk_div = document.createElement(\"div\");\n      bk_div.innerHTML = output.data[HTML_MIME_TYPE];\n      const script_attrs = bk_div.children[0].attributes;\n      for (let i = 0; i < script_attrs.length; i++) {\n        toinsert[toinsert.length - 1].firstChild.setAttribute(script_attrs[i].name, script_attrs[i].value);\n        toinsert[toinsert.length - 1].firstChild.textContent = bk_div.children[0].textContent\n      }\n      // store reference to server id on output_area\n      output_area._bokeh_server_id = output.metadata[EXEC_MIME_TYPE][\"server_id\"];\n    }\n  }\n\n  function register_renderer(events, OutputArea) {\n\n    function append_mime(data, metadata, element) {\n      // create a DOM node to render to\n      const toinsert = this.create_output_subarea(\n        metadata,\n        CLASS_NAME,\n        EXEC_MIME_TYPE\n      );\n      this.keyboard_manager.register_events(toinsert);\n      // Render to node\n      const props = {data: data, metadata: metadata[EXEC_MIME_TYPE]};\n      render(props, toinsert[toinsert.length - 1]);\n      element.append(toinsert);\n      return toinsert\n    }\n\n    /* Handle when an output is cleared or removed */\n    events.on('clear_output.CodeCell', handleClearOutput);\n    events.on('delete.Cell', handleClearOutput);\n\n    /* Handle when a new output is added */\n    events.on('output_added.OutputArea', handleAddOutput);\n\n    /**\n     * Register the mime type and append_mime function with output_area\n     */\n    OutputArea.prototype.register_mime_type(EXEC_MIME_TYPE, append_mime, {\n      /* Is output safe? */\n      safe: true,\n      /* Index of renderer in `output_area.display_order` */\n      index: 0\n    });\n  }\n\n  // register the mime type if in Jupyter Notebook environment and previously unregistered\n  if (root.Jupyter !== undefined) {\n    const events = require('base/js/events');\n    const OutputArea = require('notebook/js/outputarea').OutputArea;\n\n    if (OutputArea.prototype.mime_types().indexOf(EXEC_MIME_TYPE) == -1) {\n      register_renderer(events, OutputArea);\n    }\n  }\n  if (typeof (root._bokeh_timeout) === \"undefined\" || force === true) {\n    root._bokeh_timeout = Date.now() + 5000;\n    root._bokeh_failed_load = false;\n  }\n\n  const NB_LOAD_WARNING = {'data': {'text/html':\n     \"<div style='background-color: #fdd'>\\n\"+\n     \"<p>\\n\"+\n     \"BokehJS does not appear to have successfully loaded. If loading BokehJS from CDN, this \\n\"+\n     \"may be due to a slow or bad network connection. Possible fixes:\\n\"+\n     \"</p>\\n\"+\n     \"<ul>\\n\"+\n     \"<li>re-rerun `output_notebook()` to attempt to load from CDN again, or</li>\\n\"+\n     \"<li>use INLINE resources instead, as so:</li>\\n\"+\n     \"</ul>\\n\"+\n     \"<code>\\n\"+\n     \"from bokeh.resources import INLINE\\n\"+\n     \"output_notebook(resources=INLINE)\\n\"+\n     \"</code>\\n\"+\n     \"</div>\"}};\n\n  function display_loaded() {\n    const el = document.getElementById(\"2976\");\n    if (el != null) {\n      el.textContent = \"BokehJS is loading...\";\n    }\n    if (root.Bokeh !== undefined) {\n      if (el != null) {\n        el.textContent = \"BokehJS \" + root.Bokeh.version + \" successfully loaded.\";\n      }\n    } else if (Date.now() < root._bokeh_timeout) {\n      setTimeout(display_loaded, 100)\n    }\n  }\n\n  function run_callbacks() {\n    try {\n      root._bokeh_onload_callbacks.forEach(function(callback) {\n        if (callback != null)\n          callback();\n      });\n    } finally {\n      delete root._bokeh_onload_callbacks\n    }\n    console.debug(\"Bokeh: all callbacks have finished\");\n  }\n\n  function load_libs(css_urls, js_urls, callback) {\n    if (css_urls == null) css_urls = [];\n    if (js_urls == null) js_urls = [];\n\n    root._bokeh_onload_callbacks.push(callback);\n    if (root._bokeh_is_loading > 0) {\n      console.debug(\"Bokeh: BokehJS is being loaded, scheduling callback at\", now());\n      return null;\n    }\n    if (js_urls == null || js_urls.length === 0) {\n      run_callbacks();\n      return null;\n    }\n    console.debug(\"Bokeh: BokehJS not loaded, scheduling load and callback at\", now());\n    root._bokeh_is_loading = css_urls.length + js_urls.length;\n\n    function on_load() {\n      root._bokeh_is_loading--;\n      if (root._bokeh_is_loading === 0) {\n        console.debug(\"Bokeh: all BokehJS libraries/stylesheets loaded\");\n        run_callbacks()\n      }\n    }\n\n    function on_error(url) {\n      console.error(\"failed to load \" + url);\n    }\n\n    for (let i = 0; i < css_urls.length; i++) {\n      const url = css_urls[i];\n      const element = document.createElement(\"link\");\n      element.onload = on_load;\n      element.onerror = on_error.bind(null, url);\n      element.rel = \"stylesheet\";\n      element.type = \"text/css\";\n      element.href = url;\n      console.debug(\"Bokeh: injecting link tag for BokehJS stylesheet: \", url);\n      document.body.appendChild(element);\n    }\n\n    for (let i = 0; i < js_urls.length; i++) {\n      const url = js_urls[i];\n      const element = document.createElement('script');\n      element.onload = on_load;\n      element.onerror = on_error.bind(null, url);\n      element.async = false;\n      element.src = url;\n      console.debug(\"Bokeh: injecting script tag for BokehJS library: \", url);\n      document.head.appendChild(element);\n    }\n  };\n\n  function inject_raw_css(css) {\n    const element = document.createElement(\"style\");\n    element.appendChild(document.createTextNode(css));\n    document.body.appendChild(element);\n  }\n\n  const js_urls = [\"https://cdn.bokeh.org/bokeh/release/bokeh-2.4.3.min.js\", \"https://cdn.bokeh.org/bokeh/release/bokeh-gl-2.4.3.min.js\", \"https://cdn.bokeh.org/bokeh/release/bokeh-widgets-2.4.3.min.js\", \"https://cdn.bokeh.org/bokeh/release/bokeh-tables-2.4.3.min.js\", \"https://cdn.bokeh.org/bokeh/release/bokeh-mathjax-2.4.3.min.js\"];\n  const css_urls = [];\n\n  const inline_js = [    function(Bokeh) {\n      Bokeh.set_log_level(\"info\");\n    },\nfunction(Bokeh) {\n    }\n  ];\n\n  function run_inline_js() {\n    if (root.Bokeh !== undefined || force === true) {\n          for (let i = 0; i < inline_js.length; i++) {\n      inline_js[i].call(root, root.Bokeh);\n    }\nif (force === true) {\n        display_loaded();\n      }} else if (Date.now() < root._bokeh_timeout) {\n      setTimeout(run_inline_js, 100);\n    } else if (!root._bokeh_failed_load) {\n      console.log(\"Bokeh: BokehJS failed to load within specified timeout.\");\n      root._bokeh_failed_load = true;\n    } else if (force !== true) {\n      const cell = $(document.getElementById(\"2976\")).parents('.cell').data().cell;\n      cell.output_area.append_execute_result(NB_LOAD_WARNING)\n    }\n  }\n\n  if (root._bokeh_is_loading === 0) {\n    console.debug(\"Bokeh: BokehJS loaded, going straight to plotting\");\n    run_inline_js();\n  } else {\n    load_libs(css_urls, js_urls, function() {\n      console.debug(\"Bokeh: BokehJS plotting callback run at\", now());\n      run_inline_js();\n    });\n  }\n}(window));",
      "application/vnd.bokehjs_load.v0+json": ""
     },
     "metadata": {},
     "output_type": "display_data"
    },
    {
     "data": {
      "text/html": [
       "\n",
       "  <div class=\"bk-root\" id=\"c6e261a8-276a-4efb-93a4-414ed7366009\" data-root-id=\"3345\"></div>\n"
      ]
     },
     "metadata": {},
     "output_type": "display_data"
    },
    {
     "data": {
      "application/javascript": "(function(root) {\n  function embed_document(root) {\n  const docs_json = {\"ffd40afe-a2ad-4c1f-bbe0-df16e8135107\":{\"defs\":[],\"roots\":{\"references\":[{\"attributes\":{\"children\":[{\"id\":\"3000\"},{\"id\":\"3032\"}]},\"id\":\"3345\",\"type\":\"Column\"},{\"attributes\":{\"data\":{\"AppResourceProvider\":[\"Exchange\",\"Exchange\",\"Exchange\"],\"IPAddress\":[\"69.130.255.13\",\"69.130.255.13\",\"69.130.255.13\"],\"Operation\":[\"HardDelete\",\"HardDelete\",\"HardDelete\"],\"TimeGenerated\":{\"__ndarray__\":\"AICiA/yNeEIAgEXpNo54QgAATRSdjnhC\",\"dtype\":\"float64\",\"order\":\"little\",\"shape\":[3]},\"index\":[133,563,344],\"y_index\":[8,8,8]},\"selected\":{\"id\":\"3372\"},\"selection_policy\":{\"id\":\"3371\"}},\"id\":\"2985\",\"type\":\"ColumnDataSource\"},{\"attributes\":{},\"id\":\"3385\",\"type\":\"UnionRenderers\"},{\"attributes\":{\"fill_alpha\":{\"value\":0.1},\"fill_color\":{\"value\":\"#22A784\"},\"hatch_alpha\":{\"value\":0.1},\"hatch_color\":{\"value\":\"#22A784\"},\"line_alpha\":{\"value\":0.1},\"line_color\":{\"value\":\"#22A784\"},\"marker\":{\"value\":\"diamond\"},\"size\":{\"value\":10},\"x\":{\"field\":\"TimeGenerated\"},\"y\":{\"field\":\"y_index\"}},\"id\":\"3297\",\"type\":\"Scatter\"},{\"attributes\":{},\"id\":\"3386\",\"type\":\"Selection\"},{\"attributes\":{\"fill_alpha\":{\"value\":0.2},\"fill_color\":{\"value\":\"#22A784\"},\"hatch_alpha\":{\"value\":0.2},\"hatch_color\":{\"value\":\"#22A784\"},\"line_alpha\":{\"value\":0.2},\"line_color\":{\"value\":\"#22A784\"},\"marker\":{\"value\":\"diamond\"},\"size\":{\"value\":10},\"x\":{\"field\":\"TimeGenerated\"},\"y\":{\"field\":\"y_index\"}},\"id\":\"3298\",\"type\":\"Scatter\"},{\"attributes\":{\"coordinates\":null,\"data_source\":{\"id\":\"2992\"},\"glyph\":{\"id\":\"3296\"},\"group\":null,\"hover_glyph\":null,\"muted_glyph\":{\"id\":\"3298\"},\"nonselection_glyph\":{\"id\":\"3297\"},\"view\":{\"id\":\"3300\"}},\"id\":\"3299\",\"type\":\"GlyphRenderer\"},{\"attributes\":{\"fill_alpha\":{\"value\":0.1},\"fill_color\":{\"value\":\"#2BB17D\"},\"hatch_alpha\":{\"value\":0.1},\"hatch_color\":{\"value\":\"#2BB17D\"},\"line_alpha\":{\"value\":0.1},\"line_color\":{\"value\":\"#2BB17D\"},\"marker\":{\"value\":\"diamond\"},\"size\":{\"value\":10},\"x\":{\"field\":\"TimeGenerated\"},\"y\":{\"field\":\"y_index\"}},\"id\":\"3304\",\"type\":\"Scatter\"},{\"attributes\":{\"label\":{\"value\":\"Move\"},\"renderers\":[{\"id\":\"3299\"}]},\"id\":\"3301\",\"type\":\"LegendItem\"},{\"attributes\":{\"mantissas\":[1,2,5],\"max_interval\":500.0,\"num_minor_ticks\":0},\"id\":\"3413\",\"type\":\"AdaptiveTicker\"},{\"attributes\":{\"source\":{\"id\":\"2992\"}},\"id\":\"3300\",\"type\":\"CDSView\"},{\"attributes\":{\"base\":60,\"mantissas\":[1,2,5,10,15,20,30],\"max_interval\":1800000.0,\"min_interval\":1000.0,\"num_minor_ticks\":0},\"id\":\"3414\",\"type\":\"AdaptiveTicker\"},{\"attributes\":{\"fill_alpha\":{\"value\":0.5},\"fill_color\":{\"value\":\"#2BB17D\"},\"hatch_alpha\":{\"value\":0.5},\"hatch_color\":{\"value\":\"#2BB17D\"},\"line_alpha\":{\"value\":0.5},\"line_color\":{\"value\":\"#2BB17D\"},\"marker\":{\"value\":\"diamond\"},\"size\":{\"value\":10},\"x\":{\"field\":\"TimeGenerated\"},\"y\":{\"field\":\"y_index\"}},\"id\":\"3303\",\"type\":\"Scatter\"},{\"attributes\":{\"base\":24,\"mantissas\":[1,2,4,6,8,12],\"max_interval\":43200000.0,\"min_interval\":3600000.0,\"num_minor_ticks\":0},\"id\":\"3415\",\"type\":\"AdaptiveTicker\"},{\"attributes\":{\"fill_alpha\":{\"value\":0.2},\"fill_color\":{\"value\":\"#2BB17D\"},\"hatch_alpha\":{\"value\":0.2},\"hatch_color\":{\"value\":\"#2BB17D\"},\"line_alpha\":{\"value\":0.2},\"line_color\":{\"value\":\"#2BB17D\"},\"marker\":{\"value\":\"diamond\"},\"size\":{\"value\":10},\"x\":{\"field\":\"TimeGenerated\"},\"y\":{\"field\":\"y_index\"}},\"id\":\"3305\",\"type\":\"Scatter\"},{\"attributes\":{},\"id\":\"3424\",\"type\":\"YearsTicker\"},{\"attributes\":{\"months\":[0,1,2,3,4,5,6,7,8,9,10,11]},\"id\":\"3420\",\"type\":\"MonthsTicker\"},{\"attributes\":{\"coordinates\":null,\"data_source\":{\"id\":\"2993\"},\"glyph\":{\"id\":\"3303\"},\"group\":null,\"hover_glyph\":null,\"muted_glyph\":{\"id\":\"3305\"},\"nonselection_glyph\":{\"id\":\"3304\"},\"view\":{\"id\":\"3307\"}},\"id\":\"3306\",\"type\":\"GlyphRenderer\"},{\"attributes\":{\"days\":[1,15]},\"id\":\"3419\",\"type\":\"DaysTicker\"},{\"attributes\":{\"fill_alpha\":{\"value\":0.1},\"fill_color\":{\"value\":\"#39B976\"},\"hatch_alpha\":{\"value\":0.1},\"hatch_color\":{\"value\":\"#39B976\"},\"line_alpha\":{\"value\":0.1},\"line_color\":{\"value\":\"#39B976\"},\"marker\":{\"value\":\"diamond\"},\"size\":{\"value\":10},\"x\":{\"field\":\"TimeGenerated\"},\"y\":{\"field\":\"y_index\"}},\"id\":\"3311\",\"type\":\"Scatter\"},{\"attributes\":{\"days\":[1,2,3,4,5,6,7,8,9,10,11,12,13,14,15,16,17,18,19,20,21,22,23,24,25,26,27,28,29,30,31]},\"id\":\"3416\",\"type\":\"DaysTicker\"},{\"attributes\":{\"label\":{\"value\":\"MoveToDeletedItems\"},\"renderers\":[{\"id\":\"3306\"}]},\"id\":\"3308\",\"type\":\"LegendItem\"},{\"attributes\":{\"days\":[1,4,7,10,13,16,19,22,25,28]},\"id\":\"3417\",\"type\":\"DaysTicker\"},{\"attributes\":{\"days\":[1,8,15,22]},\"id\":\"3418\",\"type\":\"DaysTicker\"},{\"attributes\":{\"source\":{\"id\":\"2993\"}},\"id\":\"3307\",\"type\":\"CDSView\"},{\"attributes\":{},\"id\":\"3387\",\"type\":\"UnionRenderers\"},{\"attributes\":{\"months\":[0,6]},\"id\":\"3423\",\"type\":\"MonthsTicker\"},{\"attributes\":{\"fill_alpha\":{\"value\":0.5},\"fill_color\":{\"value\":\"#39B976\"},\"hatch_alpha\":{\"value\":0.5},\"hatch_color\":{\"value\":\"#39B976\"},\"line_alpha\":{\"value\":0.5},\"line_color\":{\"value\":\"#39B976\"},\"marker\":{\"value\":\"diamond\"},\"size\":{\"value\":10},\"x\":{\"field\":\"TimeGenerated\"},\"y\":{\"field\":\"y_index\"}},\"id\":\"3310\",\"type\":\"Scatter\"},{\"attributes\":{\"months\":[0,2,4,6,8,10]},\"id\":\"3421\",\"type\":\"MonthsTicker\"},{\"attributes\":{},\"id\":\"3388\",\"type\":\"Selection\"},{\"attributes\":{\"fill_alpha\":{\"value\":0.2},\"fill_color\":{\"value\":\"#39B976\"},\"hatch_alpha\":{\"value\":0.2},\"hatch_color\":{\"value\":\"#39B976\"},\"line_alpha\":{\"value\":0.2},\"line_color\":{\"value\":\"#39B976\"},\"marker\":{\"value\":\"diamond\"},\"size\":{\"value\":10},\"x\":{\"field\":\"TimeGenerated\"},\"y\":{\"field\":\"y_index\"}},\"id\":\"3312\",\"type\":\"Scatter\"},{\"attributes\":{\"months\":[0,4,8]},\"id\":\"3422\",\"type\":\"MonthsTicker\"},{\"attributes\":{\"data\":{\"AppResourceProvider\":[\"Exchange\",\"Exchange\",\"Exchange\",\"Exchange\",\"Exchange\",\"Exchange\",\"Exchange\",\"Exchange\"],\"IPAddress\":[\"69.130.255.13\",\"69.130.255.13\",\"69.130.255.13\",\"69.130.255.13\",\"69.130.255.13\",\"69.130.255.13\",\"69.130.255.13\",\"69.130.255.13\"],\"Operation\":[\"MoveToDeletedItems\",\"MoveToDeletedItems\",\"MoveToDeletedItems\",\"MoveToDeletedItems\",\"MoveToDeletedItems\",\"MoveToDeletedItems\",\"MoveToDeletedItems\",\"MoveToDeletedItems\"],\"TimeGenerated\":{\"__ndarray__\":\"AADPBvyNeEIAAP0o/I14QgAAnOU2jnhCAID/JZCOeEIAgP8lkI54QgAAqSmQjnhCAACpKZCOeEIAAE0UnY54Qg==\",\"dtype\":\"float64\",\"order\":\"little\",\"shape\":[8]},\"index\":[135,116,562,237,234,236,235,343],\"y_index\":[16,16,16,16,16,16,16,16]},\"selected\":{\"id\":\"3388\"},\"selection_policy\":{\"id\":\"3387\"}},\"id\":\"2993\",\"type\":\"ColumnDataSource\"},{\"attributes\":{\"coordinates\":null,\"data_source\":{\"id\":\"2994\"},\"glyph\":{\"id\":\"3310\"},\"group\":null,\"hover_glyph\":null,\"muted_glyph\":{\"id\":\"3312\"},\"nonselection_glyph\":{\"id\":\"3311\"},\"view\":{\"id\":\"3314\"}},\"id\":\"3313\",\"type\":\"GlyphRenderer\"},{\"attributes\":{\"fill_alpha\":{\"value\":0.1},\"fill_color\":{\"value\":\"#4BC26C\"},\"hatch_alpha\":{\"value\":0.1},\"hatch_color\":{\"value\":\"#4BC26C\"},\"line_alpha\":{\"value\":0.1},\"line_color\":{\"value\":\"#4BC26C\"},\"marker\":{\"value\":\"diamond\"},\"size\":{\"value\":10},\"x\":{\"field\":\"TimeGenerated\"},\"y\":{\"field\":\"y_index\"}},\"id\":\"3318\",\"type\":\"Scatter\"},{\"attributes\":{\"label\":{\"value\":\"PageViewed\"},\"renderers\":[{\"id\":\"3313\"}]},\"id\":\"3315\",\"type\":\"LegendItem\"},{\"attributes\":{\"source\":{\"id\":\"2994\"}},\"id\":\"3314\",\"type\":\"CDSView\"},{\"attributes\":{\"fill_alpha\":{\"value\":0.5},\"fill_color\":{\"value\":\"#4BC26C\"},\"hatch_alpha\":{\"value\":0.5},\"hatch_color\":{\"value\":\"#4BC26C\"},\"line_alpha\":{\"value\":0.5},\"line_color\":{\"value\":\"#4BC26C\"},\"marker\":{\"value\":\"diamond\"},\"size\":{\"value\":10},\"x\":{\"field\":\"TimeGenerated\"},\"y\":{\"field\":\"y_index\"}},\"id\":\"3317\",\"type\":\"Scatter\"},{\"attributes\":{\"fill_alpha\":{\"value\":0.2},\"fill_color\":{\"value\":\"#4BC26C\"},\"hatch_alpha\":{\"value\":0.2},\"hatch_color\":{\"value\":\"#4BC26C\"},\"line_alpha\":{\"value\":0.2},\"line_color\":{\"value\":\"#4BC26C\"},\"marker\":{\"value\":\"diamond\"},\"size\":{\"value\":10},\"x\":{\"field\":\"TimeGenerated\"},\"y\":{\"field\":\"y_index\"}},\"id\":\"3319\",\"type\":\"Scatter\"},{\"attributes\":{\"coordinates\":null,\"data_source\":{\"id\":\"2995\"},\"glyph\":{\"id\":\"3317\"},\"group\":null,\"hover_glyph\":null,\"muted_glyph\":{\"id\":\"3319\"},\"nonselection_glyph\":{\"id\":\"3318\"},\"view\":{\"id\":\"3321\"}},\"id\":\"3320\",\"type\":\"GlyphRenderer\"},{\"attributes\":{\"fill_alpha\":{\"value\":0.1},\"fill_color\":{\"value\":\"#60C960\"},\"hatch_alpha\":{\"value\":0.1},\"hatch_color\":{\"value\":\"#60C960\"},\"line_alpha\":{\"value\":0.1},\"line_color\":{\"value\":\"#60C960\"},\"marker\":{\"value\":\"diamond\"},\"size\":{\"value\":10},\"x\":{\"field\":\"TimeGenerated\"},\"y\":{\"field\":\"y_index\"}},\"id\":\"3325\",\"type\":\"Scatter\"},{\"attributes\":{\"label\":{\"value\":\"Sign-in activity\"},\"renderers\":[{\"id\":\"3320\"}]},\"id\":\"3322\",\"type\":\"LegendItem\"},{\"attributes\":{\"source\":{\"id\":\"2995\"}},\"id\":\"3321\",\"type\":\"CDSView\"},{\"attributes\":{\"fill_alpha\":{\"value\":0.5},\"fill_color\":{\"value\":\"#60C960\"},\"hatch_alpha\":{\"value\":0.5},\"hatch_color\":{\"value\":\"#60C960\"},\"line_alpha\":{\"value\":0.5},\"line_color\":{\"value\":\"#60C960\"},\"marker\":{\"value\":\"diamond\"},\"size\":{\"value\":10},\"x\":{\"field\":\"TimeGenerated\"},\"y\":{\"field\":\"y_index\"}},\"id\":\"3324\",\"type\":\"Scatter\"},{\"attributes\":{},\"id\":\"3389\",\"type\":\"UnionRenderers\"},{\"attributes\":{},\"id\":\"3390\",\"type\":\"Selection\"},{\"attributes\":{\"fill_alpha\":{\"value\":0.2},\"fill_color\":{\"value\":\"#60C960\"},\"hatch_alpha\":{\"value\":0.2},\"hatch_color\":{\"value\":\"#60C960\"},\"line_alpha\":{\"value\":0.2},\"line_color\":{\"value\":\"#60C960\"},\"marker\":{\"value\":\"diamond\"},\"size\":{\"value\":10},\"x\":{\"field\":\"TimeGenerated\"},\"y\":{\"field\":\"y_index\"}},\"id\":\"3326\",\"type\":\"Scatter\"},{\"attributes\":{\"coordinates\":null,\"data_source\":{\"id\":\"2996\"},\"glyph\":{\"id\":\"3324\"},\"group\":null,\"hover_glyph\":null,\"muted_glyph\":{\"id\":\"3326\"},\"nonselection_glyph\":{\"id\":\"3325\"},\"view\":{\"id\":\"3328\"}},\"id\":\"3327\",\"type\":\"GlyphRenderer\"},{\"attributes\":{\"fill_alpha\":{\"value\":0.1},\"fill_color\":{\"value\":\"#79D151\"},\"hatch_alpha\":{\"value\":0.1},\"hatch_color\":{\"value\":\"#79D151\"},\"line_alpha\":{\"value\":0.1},\"line_color\":{\"value\":\"#79D151\"},\"marker\":{\"value\":\"diamond\"},\"size\":{\"value\":10},\"x\":{\"field\":\"TimeGenerated\"},\"y\":{\"field\":\"y_index\"}},\"id\":\"3332\",\"type\":\"Scatter\"},{\"attributes\":{\"label\":{\"value\":\"SignInEvent\"},\"renderers\":[{\"id\":\"3327\"}]},\"id\":\"3329\",\"type\":\"LegendItem\"},{\"attributes\":{\"source\":{\"id\":\"2996\"}},\"id\":\"3328\",\"type\":\"CDSView\"},{\"attributes\":{\"fill_alpha\":{\"value\":0.5},\"fill_color\":{\"value\":\"#79D151\"},\"hatch_alpha\":{\"value\":0.5},\"hatch_color\":{\"value\":\"#79D151\"},\"line_alpha\":{\"value\":0.5},\"line_color\":{\"value\":\"#79D151\"},\"marker\":{\"value\":\"diamond\"},\"size\":{\"value\":10},\"x\":{\"field\":\"TimeGenerated\"},\"y\":{\"field\":\"y_index\"}},\"id\":\"3331\",\"type\":\"Scatter\"},{\"attributes\":{\"fill_alpha\":{\"value\":0.2},\"fill_color\":{\"value\":\"#79D151\"},\"hatch_alpha\":{\"value\":0.2},\"hatch_color\":{\"value\":\"#79D151\"},\"line_alpha\":{\"value\":0.2},\"line_color\":{\"value\":\"#79D151\"},\"marker\":{\"value\":\"diamond\"},\"size\":{\"value\":10},\"x\":{\"field\":\"TimeGenerated\"},\"y\":{\"field\":\"y_index\"}},\"id\":\"3333\",\"type\":\"Scatter\"},{\"attributes\":{\"coordinates\":null,\"data_source\":{\"id\":\"2997\"},\"glyph\":{\"id\":\"3331\"},\"group\":null,\"hover_glyph\":null,\"muted_glyph\":{\"id\":\"3333\"},\"nonselection_glyph\":{\"id\":\"3332\"},\"view\":{\"id\":\"3335\"}},\"id\":\"3334\",\"type\":\"GlyphRenderer\"},{\"attributes\":{\"fill_alpha\":{\"value\":0.1},\"fill_color\":{\"value\":\"#92D741\"},\"hatch_alpha\":{\"value\":0.1},\"hatch_color\":{\"value\":\"#92D741\"},\"line_alpha\":{\"value\":0.1},\"line_color\":{\"value\":\"#92D741\"},\"marker\":{\"value\":\"diamond\"},\"size\":{\"value\":10},\"x\":{\"field\":\"TimeGenerated\"},\"y\":{\"field\":\"y_index\"}},\"id\":\"3339\",\"type\":\"Scatter\"},{\"attributes\":{\"label\":{\"value\":\"SoftDelete\"},\"renderers\":[{\"id\":\"3334\"}]},\"id\":\"3336\",\"type\":\"LegendItem\"},{\"attributes\":{\"source\":{\"id\":\"2997\"}},\"id\":\"3335\",\"type\":\"CDSView\"},{\"attributes\":{\"fill_alpha\":{\"value\":0.5},\"fill_color\":{\"value\":\"#92D741\"},\"hatch_alpha\":{\"value\":0.5},\"hatch_color\":{\"value\":\"#92D741\"},\"line_alpha\":{\"value\":0.5},\"line_color\":{\"value\":\"#92D741\"},\"marker\":{\"value\":\"diamond\"},\"size\":{\"value\":10},\"x\":{\"field\":\"TimeGenerated\"},\"y\":{\"field\":\"y_index\"}},\"id\":\"3338\",\"type\":\"Scatter\"},{\"attributes\":{},\"id\":\"3391\",\"type\":\"UnionRenderers\"},{\"attributes\":{\"fill_alpha\":{\"value\":0.2},\"fill_color\":{\"value\":\"#92D741\"},\"hatch_alpha\":{\"value\":0.2},\"hatch_color\":{\"value\":\"#92D741\"},\"line_alpha\":{\"value\":0.2},\"line_color\":{\"value\":\"#92D741\"},\"marker\":{\"value\":\"diamond\"},\"size\":{\"value\":10},\"x\":{\"field\":\"TimeGenerated\"},\"y\":{\"field\":\"y_index\"}},\"id\":\"3340\",\"type\":\"Scatter\"},{\"attributes\":{},\"id\":\"3392\",\"type\":\"Selection\"},{\"attributes\":{\"data\":{\"AppResourceProvider\":[\"OneDrive\",\"OneDrive\",\"SharePoint\",\"SharePoint\",\"SharePoint\",\"SharePoint\"],\"IPAddress\":[\"69.130.255.13\",\"52.104.99.174\",\"69.130.255.13\",\"69.130.255.13\",\"69.130.255.13\",\"69.130.255.13\"],\"Operation\":[\"FileAccessed\",\"FileAccessed\",\"FileAccessed\",\"FileAccessed\",\"FileAccessed\",\"FileAccessed\"],\"TimeGenerated\":{\"__ndarray__\":\"AADAJkCOeEIAgC1ajY54QgAA6A+djnhCAADoD52OeEIAgCYQnY54QgAAZRCdjnhC\",\"dtype\":\"float64\",\"order\":\"little\",\"shape\":[6]},\"index\":[124,270,332,331,322,330],\"y_index\":[3,3,3,3,3,3]},\"selected\":{\"id\":\"3362\"},\"selection_policy\":{\"id\":\"3361\"}},\"id\":\"2980\",\"type\":\"ColumnDataSource\"},{\"attributes\":{\"dimensions\":\"width\"},\"id\":\"3019\",\"type\":\"WheelZoomTool\"},{\"attributes\":{},\"id\":\"3361\",\"type\":\"UnionRenderers\"},{\"attributes\":{},\"id\":\"3377\",\"type\":\"UnionRenderers\"},{\"attributes\":{\"num_minor_ticks\":10,\"tickers\":[{\"id\":\"3400\"},{\"id\":\"3401\"},{\"id\":\"3402\"},{\"id\":\"3403\"},{\"id\":\"3404\"},{\"id\":\"3405\"},{\"id\":\"3406\"},{\"id\":\"3407\"},{\"id\":\"3408\"},{\"id\":\"3409\"},{\"id\":\"3410\"},{\"id\":\"3411\"}]},\"id\":\"3012\",\"type\":\"DatetimeTicker\"},{\"attributes\":{},\"id\":\"3362\",\"type\":\"Selection\"},{\"attributes\":{},\"id\":\"3378\",\"type\":\"Selection\"},{\"attributes\":{\"source\":{\"id\":\"2996\"}},\"id\":\"3170\",\"type\":\"CDSView\"},{\"attributes\":{\"fill_alpha\":{\"value\":0.1},\"fill_color\":{\"value\":\"#481D6F\"},\"hatch_alpha\":{\"value\":0.1},\"hatch_color\":{\"value\":\"#481D6F\"},\"line_alpha\":{\"value\":0.1},\"line_color\":{\"value\":\"#481D6F\"},\"x\":{\"field\":\"TimeGenerated\"},\"y\":{\"field\":\"y_index\"}},\"id\":\"3065\",\"type\":\"Circle\"},{\"attributes\":{\"source\":{\"id\":\"2988\"}},\"id\":\"3122\",\"type\":\"CDSView\"},{\"attributes\":{\"overlay\":{\"id\":\"3024\"}},\"id\":\"3020\",\"type\":\"BoxZoomTool\"},{\"attributes\":{\"fill_alpha\":{\"value\":0.2},\"fill_color\":{\"value\":\"#228A8D\"},\"hatch_alpha\":{\"value\":0.2},\"hatch_color\":{\"value\":\"#228A8D\"},\"line_alpha\":{\"value\":0.2},\"line_color\":{\"value\":\"#228A8D\"},\"x\":{\"field\":\"TimeGenerated\"},\"y\":{\"field\":\"y_index\"}},\"id\":\"3126\",\"type\":\"Circle\"},{\"attributes\":{\"tools\":[{\"id\":\"2999\"},{\"id\":\"3019\"},{\"id\":\"3020\"},{\"id\":\"3021\"},{\"id\":\"3022\"},{\"id\":\"3023\"}]},\"id\":\"3025\",\"type\":\"Toolbar\"},{\"attributes\":{\"source\":{\"id\":\"2986\"}},\"id\":\"3258\",\"type\":\"CDSView\"},{\"attributes\":{\"fill_color\":{\"value\":\"#2BB17D\"},\"hatch_color\":{\"value\":\"#2BB17D\"},\"line_color\":{\"value\":\"#2BB17D\"},\"x\":{\"field\":\"TimeGenerated\"},\"y\":{\"field\":\"y_index\"}},\"id\":\"3148\",\"type\":\"Circle\"},{\"attributes\":{\"coordinates\":null,\"data_source\":{\"id\":\"2991\"},\"glyph\":{\"id\":\"3136\"},\"group\":null,\"hover_glyph\":null,\"muted_glyph\":{\"id\":\"3138\"},\"nonselection_glyph\":{\"id\":\"3137\"},\"view\":{\"id\":\"3140\"}},\"id\":\"3139\",\"type\":\"GlyphRenderer\"},{\"attributes\":{\"coordinates\":null,\"data_source\":{\"id\":\"2985\"},\"glyph\":{\"id\":\"3100\"},\"group\":null,\"hover_glyph\":null,\"muted_glyph\":{\"id\":\"3102\"},\"nonselection_glyph\":{\"id\":\"3101\"},\"view\":{\"id\":\"3104\"}},\"id\":\"3103\",\"type\":\"GlyphRenderer\"},{\"attributes\":{\"end\":21.045454545454547,\"start\":-0.045454545454545456},\"id\":\"3005\",\"type\":\"Range1d\"},{\"attributes\":{\"coordinates\":null,\"group\":null,\"text\":\"Timeline: Azure Operations by Operation\"},\"id\":\"3001\",\"type\":\"Title\"},{\"attributes\":{\"coordinates\":null,\"formatter\":{\"id\":\"3049\"},\"group\":null,\"major_label_policy\":{\"id\":\"3354\"},\"ticker\":{\"id\":\"3044\"}},\"id\":\"3043\",\"type\":\"DatetimeAxis\"},{\"attributes\":{\"fill_alpha\":{\"value\":0.1},\"fill_color\":{\"value\":\"#470F62\"},\"hatch_alpha\":{\"value\":0.1},\"hatch_color\":{\"value\":\"#470F62\"},\"line_alpha\":{\"value\":0.1},\"line_color\":{\"value\":\"#470F62\"},\"x\":{\"field\":\"TimeGenerated\"},\"y\":{\"field\":\"y_index\"}},\"id\":\"3059\",\"type\":\"Circle\"},{\"attributes\":{\"source\":{\"id\":\"2995\"}},\"id\":\"3164\",\"type\":\"CDSView\"},{\"attributes\":{\"fill_alpha\":{\"value\":0.5},\"fill_color\":{\"value\":\"#29788E\"},\"hatch_alpha\":{\"value\":0.5},\"hatch_color\":{\"value\":\"#29788E\"},\"line_alpha\":{\"value\":0.5},\"line_color\":{\"value\":\"#29788E\"},\"marker\":{\"value\":\"diamond\"},\"size\":{\"value\":10},\"x\":{\"field\":\"TimeGenerated\"},\"y\":{\"field\":\"y_index\"}},\"id\":\"3261\",\"type\":\"Scatter\"},{\"attributes\":{\"axis\":{\"id\":\"3011\"},\"coordinates\":null,\"group\":null,\"minor_grid_line_alpha\":0.3,\"minor_grid_line_color\":\"navy\",\"ticker\":null},\"id\":\"3014\",\"type\":\"Grid\"},{\"attributes\":{\"num_minor_ticks\":5,\"tickers\":[{\"id\":\"3413\"},{\"id\":\"3414\"},{\"id\":\"3415\"},{\"id\":\"3416\"},{\"id\":\"3417\"},{\"id\":\"3418\"},{\"id\":\"3419\"},{\"id\":\"3420\"},{\"id\":\"3421\"},{\"id\":\"3422\"},{\"id\":\"3423\"},{\"id\":\"3424\"}]},\"id\":\"3044\",\"type\":\"DatetimeTicker\"},{\"attributes\":{\"fill_alpha\":{\"value\":0.1},\"fill_color\":{\"value\":\"#60C960\"},\"hatch_alpha\":{\"value\":0.1},\"hatch_color\":{\"value\":\"#60C960\"},\"line_alpha\":{\"value\":0.1},\"line_color\":{\"value\":\"#60C960\"},\"x\":{\"field\":\"TimeGenerated\"},\"y\":{\"field\":\"y_index\"}},\"id\":\"3167\",\"type\":\"Circle\"},{\"attributes\":{},\"id\":\"3039\",\"type\":\"LinearScale\"},{\"attributes\":{\"fill_color\":{\"value\":\"#22A784\"},\"hatch_color\":{\"value\":\"#22A784\"},\"line_color\":{\"value\":\"#22A784\"},\"x\":{\"field\":\"TimeGenerated\"},\"y\":{\"field\":\"y_index\"}},\"id\":\"3142\",\"type\":\"Circle\"},{\"attributes\":{\"fill_alpha\":{\"value\":0.2},\"fill_color\":{\"value\":\"#37598C\"},\"hatch_alpha\":{\"value\":0.2},\"hatch_color\":{\"value\":\"#37598C\"},\"line_alpha\":{\"value\":0.2},\"line_color\":{\"value\":\"#37598C\"},\"x\":{\"field\":\"TimeGenerated\"},\"y\":{\"field\":\"y_index\"}},\"id\":\"3096\",\"type\":\"Circle\"},{\"attributes\":{},\"id\":\"3363\",\"type\":\"UnionRenderers\"},{\"attributes\":{},\"id\":\"3379\",\"type\":\"UnionRenderers\"},{\"attributes\":{\"fill_color\":{\"value\":\"#228A8D\"},\"hatch_color\":{\"value\":\"#228A8D\"},\"line_color\":{\"value\":\"#228A8D\"},\"x\":{\"field\":\"TimeGenerated\"},\"y\":{\"field\":\"y_index\"}},\"id\":\"3124\",\"type\":\"Circle\"},{\"attributes\":{},\"id\":\"3364\",\"type\":\"Selection\"},{\"attributes\":{},\"id\":\"3380\",\"type\":\"Selection\"},{\"attributes\":{\"coordinates\":null,\"data_source\":{\"id\":\"2992\"},\"glyph\":{\"id\":\"3142\"},\"group\":null,\"hover_glyph\":null,\"muted_glyph\":{\"id\":\"3144\"},\"nonselection_glyph\":{\"id\":\"3143\"},\"view\":{\"id\":\"3146\"}},\"id\":\"3145\",\"type\":\"GlyphRenderer\"},{\"attributes\":{\"coordinates\":null,\"data_source\":{\"id\":\"2990\"},\"glyph\":{\"id\":\"3130\"},\"group\":null,\"hover_glyph\":null,\"muted_glyph\":{\"id\":\"3132\"},\"nonselection_glyph\":{\"id\":\"3131\"},\"view\":{\"id\":\"3134\"}},\"id\":\"3133\",\"type\":\"GlyphRenderer\"},{\"attributes\":{\"axis_label\":\"Event Time\",\"coordinates\":null,\"formatter\":{\"id\":\"3188\"},\"group\":null,\"major_label_policy\":{\"id\":\"3352\"},\"ticker\":{\"id\":\"3012\"}},\"id\":\"3011\",\"type\":\"DatetimeAxis\"},{\"attributes\":{\"data\":{\"AppResourceProvider\":[\"Exchange\",\"Exchange\",\"Exchange\",\"Exchange\",\"Exchange\",\"Exchange\",\"Exchange\",\"Exchange\",\"Exchange\",\"Exchange\",\"Exchange\",\"Exchange\",\"Exchange\"],\"IPAddress\":[\"69.130.255.13\",\"69.130.255.13\",\"69.130.255.13\",\"69.130.255.13\",\"69.130.255.13\",\"69.130.255.13\",\"69.130.255.13\",\"69.130.255.13\",\"69.130.255.13\",\"69.130.255.13\",\"69.130.255.13\",\"69.130.255.13\",\"69.130.255.13\"],\"Operation\":[\"SoftDelete\",\"SoftDelete\",\"SoftDelete\",\"SoftDelete\",\"SoftDelete\",\"SoftDelete\",\"SoftDelete\",\"SoftDelete\",\"SoftDelete\",\"SoftDelete\",\"SoftDelete\",\"SoftDelete\",\"SoftDelete\"],\"TimeGenerated\":{\"__ndarray__\":\"AID57zCOeEIAgIHwSI54QgCAykZKjnhCAIA2rEuOeEIAgGdBWI54QgCA3ZaMjnhCAIDFmoyOeEIAAOCgjI54QgAAPQWZjnhCAABgFJmOeEIAAAs3mY54QgAACsmZjnhCAIDkLJqOeEI=\",\"dtype\":\"float64\",\"order\":\"little\",\"shape\":[13]},\"index\":[408,158,172,495,375,227,226,215,252,313,316,484,275],\"y_index\":[20,20,20,20,20,20,20,20,20,20,20,20,20]},\"selected\":{\"id\":\"3396\"},\"selection_policy\":{\"id\":\"3395\"}},\"id\":\"2997\",\"type\":\"ColumnDataSource\"},{\"attributes\":{\"fill_alpha\":{\"value\":0.1},\"fill_color\":{\"value\":\"#22A784\"},\"hatch_alpha\":{\"value\":0.1},\"hatch_color\":{\"value\":\"#22A784\"},\"line_alpha\":{\"value\":0.1},\"line_color\":{\"value\":\"#22A784\"},\"x\":{\"field\":\"TimeGenerated\"},\"y\":{\"field\":\"y_index\"}},\"id\":\"3143\",\"type\":\"Circle\"},{\"attributes\":{\"coordinates\":null,\"data_source\":{\"id\":\"2987\"},\"glyph\":{\"id\":\"3112\"},\"group\":null,\"hover_glyph\":null,\"muted_glyph\":{\"id\":\"3114\"},\"nonselection_glyph\":{\"id\":\"3113\"},\"view\":{\"id\":\"3116\"}},\"id\":\"3115\",\"type\":\"GlyphRenderer\"},{\"attributes\":{},\"id\":\"3009\",\"type\":\"LinearScale\"},{\"attributes\":{\"fill_color\":{\"value\":\"#79D151\"},\"hatch_color\":{\"value\":\"#79D151\"},\"line_color\":{\"value\":\"#79D151\"},\"x\":{\"field\":\"TimeGenerated\"},\"y\":{\"field\":\"y_index\"}},\"id\":\"3172\",\"type\":\"Circle\"},{\"attributes\":{\"source\":{\"id\":\"2990\"}},\"id\":\"3134\",\"type\":\"CDSView\"},{\"attributes\":{\"coordinates\":null,\"data_source\":{\"id\":\"2988\"},\"glyph\":{\"id\":\"3118\"},\"group\":null,\"hover_glyph\":null,\"muted_glyph\":{\"id\":\"3120\"},\"nonselection_glyph\":{\"id\":\"3119\"},\"view\":{\"id\":\"3122\"}},\"id\":\"3121\",\"type\":\"GlyphRenderer\"},{\"attributes\":{\"fill_alpha\":{\"value\":0.2},\"fill_color\":{\"value\":\"#470F62\"},\"hatch_alpha\":{\"value\":0.2},\"hatch_color\":{\"value\":\"#470F62\"},\"line_alpha\":{\"value\":0.2},\"line_color\":{\"value\":\"#470F62\"},\"x\":{\"field\":\"TimeGenerated\"},\"y\":{\"field\":\"y_index\"}},\"id\":\"3060\",\"type\":\"Circle\"},{\"attributes\":{\"fill_alpha\":{\"value\":0.2},\"fill_color\":{\"value\":\"#26818E\"},\"hatch_alpha\":{\"value\":0.2},\"hatch_color\":{\"value\":\"#26818E\"},\"line_alpha\":{\"value\":0.2},\"line_color\":{\"value\":\"#26818E\"},\"x\":{\"field\":\"TimeGenerated\"},\"y\":{\"field\":\"y_index\"}},\"id\":\"3120\",\"type\":\"Circle\"},{\"attributes\":{\"fill_color\":{\"value\":\"#472A79\"},\"hatch_color\":{\"value\":\"#472A79\"},\"line_color\":{\"value\":\"#472A79\"},\"x\":{\"field\":\"TimeGenerated\"},\"y\":{\"field\":\"y_index\"}},\"id\":\"3070\",\"type\":\"Circle\"},{\"attributes\":{},\"id\":\"3007\",\"type\":\"LinearScale\"},{\"attributes\":{\"fill_color\":{\"value\":\"#29788E\"},\"hatch_color\":{\"value\":\"#29788E\"},\"line_color\":{\"value\":\"#29788E\"},\"x\":{\"field\":\"TimeGenerated\"},\"y\":{\"field\":\"y_index\"}},\"id\":\"3112\",\"type\":\"Circle\"},{\"attributes\":{\"coordinates\":null,\"data_source\":{\"id\":\"2989\"},\"glyph\":{\"id\":\"3124\"},\"group\":null,\"hover_glyph\":null,\"muted_glyph\":{\"id\":\"3126\"},\"nonselection_glyph\":{\"id\":\"3125\"},\"view\":{\"id\":\"3128\"}},\"id\":\"3127\",\"type\":\"GlyphRenderer\"},{\"attributes\":{\"source\":{\"id\":\"2986\"}},\"id\":\"3110\",\"type\":\"CDSView\"},{\"attributes\":{\"fill_color\":{\"value\":\"#470F62\"},\"hatch_color\":{\"value\":\"#470F62\"},\"line_color\":{\"value\":\"#470F62\"},\"x\":{\"field\":\"TimeGenerated\"},\"y\":{\"field\":\"y_index\"}},\"id\":\"3058\",\"type\":\"Circle\"},{\"attributes\":{\"fill_alpha\":{\"value\":0.1},\"fill_color\":{\"value\":\"#2E6D8E\"},\"hatch_alpha\":{\"value\":0.1},\"hatch_color\":{\"value\":\"#2E6D8E\"},\"line_alpha\":{\"value\":0.1},\"line_color\":{\"value\":\"#2E6D8E\"},\"x\":{\"field\":\"TimeGenerated\"},\"y\":{\"field\":\"y_index\"}},\"id\":\"3107\",\"type\":\"Circle\"},{\"attributes\":{\"fill_alpha\":{\"value\":0.1},\"fill_color\":{\"value\":\"#32638D\"},\"hatch_alpha\":{\"value\":0.1},\"hatch_color\":{\"value\":\"#32638D\"},\"line_alpha\":{\"value\":0.1},\"line_color\":{\"value\":\"#32638D\"},\"x\":{\"field\":\"TimeGenerated\"},\"y\":{\"field\":\"y_index\"}},\"id\":\"3101\",\"type\":\"Circle\"},{\"attributes\":{\"source\":{\"id\":\"2985\"}},\"id\":\"3104\",\"type\":\"CDSView\"},{\"attributes\":{\"source\":{\"id\":\"2989\"}},\"id\":\"3128\",\"type\":\"CDSView\"},{\"attributes\":{\"fill_alpha\":{\"value\":0.2},\"fill_color\":{\"value\":\"#1F948B\"},\"hatch_alpha\":{\"value\":0.2},\"hatch_color\":{\"value\":\"#1F948B\"},\"line_alpha\":{\"value\":0.2},\"line_color\":{\"value\":\"#1F948B\"},\"x\":{\"field\":\"TimeGenerated\"},\"y\":{\"field\":\"y_index\"}},\"id\":\"3132\",\"type\":\"Circle\"},{\"attributes\":{},\"id\":\"3365\",\"type\":\"UnionRenderers\"},{\"attributes\":{},\"id\":\"3381\",\"type\":\"UnionRenderers\"},{\"attributes\":{\"fill_alpha\":{\"value\":0.2},\"fill_color\":{\"value\":\"#4BC26C\"},\"hatch_alpha\":{\"value\":0.2},\"hatch_color\":{\"value\":\"#4BC26C\"},\"line_alpha\":{\"value\":0.2},\"line_color\":{\"value\":\"#4BC26C\"},\"x\":{\"field\":\"TimeGenerated\"},\"y\":{\"field\":\"y_index\"}},\"id\":\"3162\",\"type\":\"Circle\"},{\"attributes\":{\"bottom_units\":\"screen\",\"coordinates\":null,\"fill_alpha\":0.5,\"fill_color\":\"lightgrey\",\"group\":null,\"left_units\":\"screen\",\"level\":\"overlay\",\"line_alpha\":1.0,\"line_color\":\"black\",\"line_dash\":[4,4],\"line_width\":2,\"right_units\":\"screen\",\"syncable\":false,\"top_units\":\"screen\"},\"id\":\"3024\",\"type\":\"BoxAnnotation\"},{\"attributes\":{\"fill_alpha\":{\"value\":0.1},\"fill_color\":{\"value\":\"#228A8D\"},\"hatch_alpha\":{\"value\":0.1},\"hatch_color\":{\"value\":\"#228A8D\"},\"line_alpha\":{\"value\":0.1},\"line_color\":{\"value\":\"#228A8D\"},\"x\":{\"field\":\"TimeGenerated\"},\"y\":{\"field\":\"y_index\"}},\"id\":\"3125\",\"type\":\"Circle\"},{\"attributes\":{},\"id\":\"3366\",\"type\":\"Selection\"},{\"attributes\":{},\"id\":\"3382\",\"type\":\"Selection\"},{\"attributes\":{\"coordinates\":null,\"data_source\":{\"id\":\"2986\"},\"glyph\":{\"id\":\"3254\"},\"group\":null,\"hover_glyph\":null,\"muted_glyph\":{\"id\":\"3256\"},\"nonselection_glyph\":{\"id\":\"3255\"},\"view\":{\"id\":\"3258\"}},\"id\":\"3257\",\"type\":\"GlyphRenderer\"},{\"attributes\":{\"coordinates\":null,\"data_source\":{\"id\":\"2995\"},\"glyph\":{\"id\":\"3160\"},\"group\":null,\"hover_glyph\":null,\"muted_glyph\":{\"id\":\"3162\"},\"nonselection_glyph\":{\"id\":\"3161\"},\"view\":{\"id\":\"3164\"}},\"id\":\"3163\",\"type\":\"GlyphRenderer\"},{\"attributes\":{\"source\":{\"id\":\"2984\"}},\"id\":\"3098\",\"type\":\"CDSView\"},{\"attributes\":{\"dimensions\":\"width\"},\"id\":\"3023\",\"type\":\"PanTool\"},{\"attributes\":{\"source\":{\"id\":\"2991\"}},\"id\":\"3140\",\"type\":\"CDSView\"},{\"attributes\":{\"fill_color\":{\"value\":\"#1E9D88\"},\"hatch_color\":{\"value\":\"#1E9D88\"},\"line_color\":{\"value\":\"#1E9D88\"},\"x\":{\"field\":\"TimeGenerated\"},\"y\":{\"field\":\"y_index\"}},\"id\":\"3136\",\"type\":\"Circle\"},{\"attributes\":{\"coordinates\":null,\"data_source\":{\"id\":\"2986\"},\"glyph\":{\"id\":\"3106\"},\"group\":null,\"hover_glyph\":null,\"muted_glyph\":{\"id\":\"3108\"},\"nonselection_glyph\":{\"id\":\"3107\"},\"view\":{\"id\":\"3110\"}},\"id\":\"3109\",\"type\":\"GlyphRenderer\"},{\"attributes\":{\"source\":{\"id\":\"2987\"}},\"id\":\"3116\",\"type\":\"CDSView\"},{\"attributes\":{\"coordinates\":null,\"data_source\":{\"id\":\"2978\"},\"glyph\":{\"id\":\"3058\"},\"group\":null,\"hover_glyph\":null,\"muted_glyph\":{\"id\":\"3060\"},\"nonselection_glyph\":{\"id\":\"3059\"},\"view\":{\"id\":\"3062\"}},\"id\":\"3061\",\"type\":\"GlyphRenderer\"},{\"attributes\":{\"fill_alpha\":{\"value\":0.1},\"fill_color\":{\"value\":\"#4BC26C\"},\"hatch_alpha\":{\"value\":0.1},\"hatch_color\":{\"value\":\"#4BC26C\"},\"line_alpha\":{\"value\":0.1},\"line_color\":{\"value\":\"#4BC26C\"},\"x\":{\"field\":\"TimeGenerated\"},\"y\":{\"field\":\"y_index\"}},\"id\":\"3161\",\"type\":\"Circle\"},{\"attributes\":{\"fill_alpha\":{\"value\":0.2},\"fill_color\":{\"value\":\"#92D741\"},\"hatch_alpha\":{\"value\":0.2},\"hatch_color\":{\"value\":\"#92D741\"},\"line_alpha\":{\"value\":0.2},\"line_color\":{\"value\":\"#92D741\"},\"x\":{\"field\":\"TimeGenerated\"},\"y\":{\"field\":\"y_index\"}},\"id\":\"3180\",\"type\":\"Circle\"},{\"attributes\":{\"days\":[\"%m-%d %H:%M\"],\"hours\":[\"%H:%M:%S\"],\"milliseconds\":[\"%H:%M:%S.%3N\"],\"minutes\":[\"%H:%M:%S\"],\"seconds\":[\"%H:%M:%S\"]},\"id\":\"3049\",\"type\":\"DatetimeTickFormatter\"},{\"attributes\":{\"axis\":{\"id\":\"3043\"},\"coordinates\":null,\"group\":null,\"ticker\":null},\"id\":\"3046\",\"type\":\"Grid\"},{\"attributes\":{\"coordinates\":null,\"data_source\":{\"id\":\"2979\"},\"glyph\":{\"id\":\"3064\"},\"group\":null,\"hover_glyph\":null,\"muted_glyph\":{\"id\":\"3066\"},\"nonselection_glyph\":{\"id\":\"3065\"},\"view\":{\"id\":\"3068\"}},\"id\":\"3067\",\"type\":\"GlyphRenderer\"},{\"attributes\":{\"fill_alpha\":{\"value\":0.1},\"fill_color\":{\"value\":\"#1F948B\"},\"hatch_alpha\":{\"value\":0.1},\"hatch_color\":{\"value\":\"#1F948B\"},\"line_alpha\":{\"value\":0.1},\"line_color\":{\"value\":\"#1F948B\"},\"x\":{\"field\":\"TimeGenerated\"},\"y\":{\"field\":\"y_index\"}},\"id\":\"3131\",\"type\":\"Circle\"},{\"attributes\":{\"coordinates\":null,\"data_source\":{\"id\":\"2998\"},\"glyph\":{\"id\":\"3178\"},\"group\":null,\"hover_glyph\":null,\"muted_glyph\":{\"id\":\"3180\"},\"nonselection_glyph\":{\"id\":\"3179\"},\"view\":{\"id\":\"3182\"}},\"id\":\"3181\",\"type\":\"GlyphRenderer\"},{\"attributes\":{\"fill_alpha\":{\"value\":0.2},\"fill_color\":{\"value\":\"#60C960\"},\"hatch_alpha\":{\"value\":0.2},\"hatch_color\":{\"value\":\"#60C960\"},\"line_alpha\":{\"value\":0.2},\"line_color\":{\"value\":\"#60C960\"},\"x\":{\"field\":\"TimeGenerated\"},\"y\":{\"field\":\"y_index\"}},\"id\":\"3168\",\"type\":\"Circle\"},{\"attributes\":{\"fill_alpha\":{\"value\":0.2},\"fill_color\":{\"value\":\"#22A784\"},\"hatch_alpha\":{\"value\":0.2},\"hatch_color\":{\"value\":\"#22A784\"},\"line_alpha\":{\"value\":0.2},\"line_color\":{\"value\":\"#22A784\"},\"x\":{\"field\":\"TimeGenerated\"},\"y\":{\"field\":\"y_index\"}},\"id\":\"3144\",\"type\":\"Circle\"},{\"attributes\":{\"fill_alpha\":{\"value\":0.1},\"fill_color\":{\"value\":\"#26818E\"},\"hatch_alpha\":{\"value\":0.1},\"hatch_color\":{\"value\":\"#26818E\"},\"line_alpha\":{\"value\":0.1},\"line_color\":{\"value\":\"#26818E\"},\"x\":{\"field\":\"TimeGenerated\"},\"y\":{\"field\":\"y_index\"}},\"id\":\"3119\",\"type\":\"Circle\"},{\"attributes\":{\"fill_alpha\":{\"value\":0.1},\"fill_color\":{\"value\":\"#1E9D88\"},\"hatch_alpha\":{\"value\":0.1},\"hatch_color\":{\"value\":\"#1E9D88\"},\"line_alpha\":{\"value\":0.1},\"line_color\":{\"value\":\"#1E9D88\"},\"x\":{\"field\":\"TimeGenerated\"},\"y\":{\"field\":\"y_index\"}},\"id\":\"3137\",\"type\":\"Circle\"},{\"attributes\":{\"axis\":{\"id\":\"3015\"},\"coordinates\":null,\"dimension\":1,\"grid_line_color\":null,\"group\":null,\"ticker\":null},\"id\":\"3018\",\"type\":\"Grid\"},{\"attributes\":{\"coordinates\":null,\"data_source\":{\"id\":\"2984\"},\"glyph\":{\"id\":\"3094\"},\"group\":null,\"hover_glyph\":null,\"muted_glyph\":{\"id\":\"3096\"},\"nonselection_glyph\":{\"id\":\"3095\"},\"view\":{\"id\":\"3098\"}},\"id\":\"3097\",\"type\":\"GlyphRenderer\"},{\"attributes\":{\"source\":{\"id\":\"2978\"}},\"id\":\"3062\",\"type\":\"CDSView\"},{\"attributes\":{\"fill_color\":{\"value\":\"#60C960\"},\"hatch_color\":{\"value\":\"#60C960\"},\"line_color\":{\"value\":\"#60C960\"},\"x\":{\"field\":\"TimeGenerated\"},\"y\":{\"field\":\"y_index\"}},\"id\":\"3166\",\"type\":\"Circle\"},{\"attributes\":{},\"id\":\"3367\",\"type\":\"UnionRenderers\"},{\"attributes\":{},\"id\":\"3383\",\"type\":\"UnionRenderers\"},{\"attributes\":{},\"id\":\"3368\",\"type\":\"Selection\"},{\"attributes\":{},\"id\":\"3384\",\"type\":\"Selection\"},{\"attributes\":{\"data\":{\"AppResourceProvider\":[\"SharePoint\",\"SharePoint\"],\"IPAddress\":[\"69.130.255.13\",\"69.130.255.13\"],\"Operation\":[\"SignInEvent\",\"SignInEvent\"],\"TimeGenerated\":{\"__ndarray__\":\"AADAJkCOeEIAAK49kI54Qg==\",\"dtype\":\"float64\",\"order\":\"little\",\"shape\":[2]},\"index\":[112,240],\"y_index\":[19,19]},\"selected\":{\"id\":\"3394\"},\"selection_policy\":{\"id\":\"3393\"}},\"id\":\"2996\",\"type\":\"ColumnDataSource\"},{\"attributes\":{\"coordinates\":null,\"formatter\":{\"id\":\"3349\"},\"group\":null,\"major_label_overrides\":{\"0\":\"AddedToGroup\",\"1\":\"CompanyLinkUsed\",\"10\":\"MailItemsAccessed\",\"11\":\"MeetingDetail\",\"12\":\"MeetingParticipantDetail\",\"13\":\"MessageCreatedHasLink\",\"14\":\"MessageSent\",\"15\":\"Move\",\"16\":\"MoveToDeletedItems\",\"17\":\"PageViewed\",\"18\":\"Sign-in activity\",\"19\":\"SignInEvent\",\"2\":\"Create\",\"20\":\"SoftDelete\",\"21\":\"Update\",\"3\":\"FileAccessed\",\"4\":\"FileModified\",\"5\":\"FilePreviewed\",\"6\":\"FileSyncDownloadedFull\",\"7\":\"FileSyncUploadedFull\",\"8\":\"HardDelete\",\"9\":\"ListViewed\"},\"major_label_policy\":{\"id\":\"3350\"},\"ticker\":{\"id\":\"3016\"}},\"id\":\"3015\",\"type\":\"LinearAxis\"},{\"attributes\":{\"source\":{\"id\":\"2992\"}},\"id\":\"3146\",\"type\":\"CDSView\"},{\"attributes\":{\"label\":{\"value\":\"ListViewed\"},\"renderers\":[{\"id\":\"3257\"}]},\"id\":\"3259\",\"type\":\"LegendItem\"},{\"attributes\":{\"fill_alpha\":{\"value\":0.2},\"fill_color\":{\"value\":\"#2E6D8E\"},\"hatch_alpha\":{\"value\":0.2},\"hatch_color\":{\"value\":\"#2E6D8E\"},\"line_alpha\":{\"value\":0.2},\"line_color\":{\"value\":\"#2E6D8E\"},\"x\":{\"field\":\"TimeGenerated\"},\"y\":{\"field\":\"y_index\"}},\"id\":\"3108\",\"type\":\"Circle\"},{\"attributes\":{\"fill_alpha\":{\"value\":0.1},\"fill_color\":{\"value\":\"#29788E\"},\"hatch_alpha\":{\"value\":0.1},\"hatch_color\":{\"value\":\"#29788E\"},\"line_alpha\":{\"value\":0.1},\"line_color\":{\"value\":\"#29788E\"},\"x\":{\"field\":\"TimeGenerated\"},\"y\":{\"field\":\"y_index\"}},\"id\":\"3113\",\"type\":\"Circle\"},{\"attributes\":{\"overlay\":{\"id\":\"3184\"},\"x_range\":{\"id\":\"3003\"},\"y_range\":null},\"id\":\"3183\",\"type\":\"RangeTool\"},{\"attributes\":{},\"id\":\"3349\",\"type\":\"BasicTickFormatter\"},{\"attributes\":{\"fill_alpha\":{\"value\":0.2},\"fill_color\":{\"value\":\"#1E9D88\"},\"hatch_alpha\":{\"value\":0.2},\"hatch_color\":{\"value\":\"#1E9D88\"},\"line_alpha\":{\"value\":0.2},\"line_color\":{\"value\":\"#1E9D88\"},\"x\":{\"field\":\"TimeGenerated\"},\"y\":{\"field\":\"y_index\"}},\"id\":\"3138\",\"type\":\"Circle\"},{\"attributes\":{\"fill_color\":{\"value\":\"#26818E\"},\"hatch_color\":{\"value\":\"#26818E\"},\"line_color\":{\"value\":\"#26818E\"},\"x\":{\"field\":\"TimeGenerated\"},\"y\":{\"field\":\"y_index\"}},\"id\":\"3118\",\"type\":\"Circle\"},{\"attributes\":{\"source\":{\"id\":\"2998\"}},\"id\":\"3182\",\"type\":\"CDSView\"},{\"attributes\":{\"end\":1687567195545.6426,\"start\":1687361798586.7598},\"id\":\"3003\",\"type\":\"Range1d\"},{\"attributes\":{\"fill_color\":{\"value\":\"#2E6D8E\"},\"hatch_color\":{\"value\":\"#2E6D8E\"},\"line_color\":{\"value\":\"#2E6D8E\"},\"x\":{\"field\":\"TimeGenerated\"},\"y\":{\"field\":\"y_index\"}},\"id\":\"3106\",\"type\":\"Circle\"},{\"attributes\":{},\"id\":\"3350\",\"type\":\"AllLabels\"},{\"attributes\":{\"fill_alpha\":{\"value\":0.2},\"fill_color\":{\"value\":\"#29788E\"},\"hatch_alpha\":{\"value\":0.2},\"hatch_color\":{\"value\":\"#29788E\"},\"line_alpha\":{\"value\":0.2},\"line_color\":{\"value\":\"#29788E\"},\"x\":{\"field\":\"TimeGenerated\"},\"y\":{\"field\":\"y_index\"}},\"id\":\"3114\",\"type\":\"Circle\"},{\"attributes\":{},\"id\":\"3016\",\"type\":\"BasicTicker\"},{\"attributes\":{\"fill_color\":{\"value\":\"#1F948B\"},\"hatch_color\":{\"value\":\"#1F948B\"},\"line_color\":{\"value\":\"#1F948B\"},\"x\":{\"field\":\"TimeGenerated\"},\"y\":{\"field\":\"y_index\"}},\"id\":\"3130\",\"type\":\"Circle\"},{\"attributes\":{},\"id\":\"3041\",\"type\":\"LinearScale\"},{\"attributes\":{},\"id\":\"3021\",\"type\":\"ResetTool\"},{\"attributes\":{\"coordinates\":null,\"data_source\":{\"id\":\"2996\"},\"glyph\":{\"id\":\"3166\"},\"group\":null,\"hover_glyph\":null,\"muted_glyph\":{\"id\":\"3168\"},\"nonselection_glyph\":{\"id\":\"3167\"},\"view\":{\"id\":\"3170\"}},\"id\":\"3169\",\"type\":\"GlyphRenderer\"},{\"attributes\":{},\"id\":\"3037\",\"type\":\"DataRange1d\"},{\"attributes\":{},\"id\":\"3022\",\"type\":\"SaveTool\"},{\"attributes\":{},\"id\":\"3352\",\"type\":\"AllLabels\"},{\"attributes\":{\"coordinates\":null,\"data_source\":{\"id\":\"2998\"},\"glyph\":{\"id\":\"3338\"},\"group\":null,\"hover_glyph\":null,\"muted_glyph\":{\"id\":\"3340\"},\"nonselection_glyph\":{\"id\":\"3339\"},\"view\":{\"id\":\"3342\"}},\"id\":\"3341\",\"type\":\"GlyphRenderer\"},{\"attributes\":{\"fill_alpha\":{\"value\":0.2},\"fill_color\":{\"value\":\"#481D6F\"},\"hatch_alpha\":{\"value\":0.2},\"hatch_color\":{\"value\":\"#481D6F\"},\"line_alpha\":{\"value\":0.2},\"line_color\":{\"value\":\"#481D6F\"},\"x\":{\"field\":\"TimeGenerated\"},\"y\":{\"field\":\"y_index\"}},\"id\":\"3066\",\"type\":\"Circle\"},{\"attributes\":{\"end\":1687575753752.2627,\"start\":1687353240380.14},\"id\":\"3035\",\"type\":\"Range1d\"},{\"attributes\":{\"fill_alpha\":{\"value\":0.1},\"fill_color\":{\"value\":\"#37598C\"},\"hatch_alpha\":{\"value\":0.1},\"hatch_color\":{\"value\":\"#37598C\"},\"line_alpha\":{\"value\":0.1},\"line_color\":{\"value\":\"#37598C\"},\"x\":{\"field\":\"TimeGenerated\"},\"y\":{\"field\":\"y_index\"}},\"id\":\"3095\",\"type\":\"Circle\"},{\"attributes\":{\"coordinates\":null,\"group\":null,\"text\":\"Range Selector\"},\"id\":\"3033\",\"type\":\"Title\"},{\"attributes\":{\"fill_color\":{\"value\":\"#32638D\"},\"hatch_color\":{\"value\":\"#32638D\"},\"line_color\":{\"value\":\"#32638D\"},\"x\":{\"field\":\"TimeGenerated\"},\"y\":{\"field\":\"y_index\"}},\"id\":\"3100\",\"type\":\"Circle\"},{\"attributes\":{\"fill_alpha\":{\"value\":0.2},\"fill_color\":{\"value\":\"#32638D\"},\"hatch_alpha\":{\"value\":0.2},\"hatch_color\":{\"value\":\"#32638D\"},\"line_alpha\":{\"value\":0.2},\"line_color\":{\"value\":\"#32638D\"},\"x\":{\"field\":\"TimeGenerated\"},\"y\":{\"field\":\"y_index\"}},\"id\":\"3102\",\"type\":\"Circle\"},{\"attributes\":{\"source\":{\"id\":\"2979\"}},\"id\":\"3068\",\"type\":\"CDSView\"},{\"attributes\":{},\"id\":\"3369\",\"type\":\"UnionRenderers\"},{\"attributes\":{},\"id\":\"3370\",\"type\":\"Selection\"},{\"attributes\":{},\"id\":\"3371\",\"type\":\"UnionRenderers\"},{\"attributes\":{\"days\":[\"%m-%d %H:%M\"],\"hours\":[\"%H:%M:%S\"],\"milliseconds\":[\"%H:%M:%S.%3N\"],\"minutes\":[\"%H:%M:%S\"],\"seconds\":[\"%H:%M:%S\"]},\"id\":\"3188\",\"type\":\"DatetimeTickFormatter\"},{\"attributes\":{},\"id\":\"3372\",\"type\":\"Selection\"},{\"attributes\":{\"coordinates\":null,\"data_source\":{\"id\":\"2977\"},\"glyph\":{\"id\":\"3191\"},\"group\":null,\"hover_glyph\":null,\"muted_glyph\":{\"id\":\"3193\"},\"nonselection_glyph\":{\"id\":\"3192\"},\"view\":{\"id\":\"3195\"}},\"id\":\"3194\",\"type\":\"GlyphRenderer\"},{\"attributes\":{\"fill_alpha\":{\"value\":0.5},\"fill_color\":{\"value\":\"#440154\"},\"hatch_alpha\":{\"value\":0.5},\"hatch_color\":{\"value\":\"#440154\"},\"line_alpha\":{\"value\":0.5},\"line_color\":{\"value\":\"#440154\"},\"marker\":{\"value\":\"diamond\"},\"size\":{\"value\":10},\"x\":{\"field\":\"TimeGenerated\"},\"y\":{\"field\":\"y_index\"}},\"id\":\"3191\",\"type\":\"Scatter\"},{\"attributes\":{\"fill_alpha\":{\"value\":0.2},\"fill_color\":{\"value\":\"#440154\"},\"hatch_alpha\":{\"value\":0.2},\"hatch_color\":{\"value\":\"#440154\"},\"line_alpha\":{\"value\":0.2},\"line_color\":{\"value\":\"#440154\"},\"marker\":{\"value\":\"diamond\"},\"size\":{\"value\":10},\"x\":{\"field\":\"TimeGenerated\"},\"y\":{\"field\":\"y_index\"}},\"id\":\"3193\",\"type\":\"Scatter\"},{\"attributes\":{\"data\":{\"AppResourceProvider\":[\"OneDrive\",\"OneDrive\"],\"IPAddress\":[\"69.130.255.13\",\"216.56.240.114\"],\"Operation\":[\"FileSyncDownloadedFull\",\"FileSyncDownloadedFull\"],\"TimeGenerated\":{\"__ndarray__\":\"AIA+djiOeEIAAJgPPo54Qg==\",\"dtype\":\"float64\",\"order\":\"little\",\"shape\":[2]},\"index\":[575,609],\"y_index\":[6,6]},\"selected\":{\"id\":\"3368\"},\"selection_policy\":{\"id\":\"3367\"}},\"id\":\"2983\",\"type\":\"ColumnDataSource\"},{\"attributes\":{\"fill_alpha\":{\"value\":0.1},\"fill_color\":{\"value\":\"#440154\"},\"hatch_alpha\":{\"value\":0.1},\"hatch_color\":{\"value\":\"#440154\"},\"line_alpha\":{\"value\":0.1},\"line_color\":{\"value\":\"#440154\"},\"marker\":{\"value\":\"diamond\"},\"size\":{\"value\":10},\"x\":{\"field\":\"TimeGenerated\"},\"y\":{\"field\":\"y_index\"}},\"id\":\"3192\",\"type\":\"Scatter\"},{\"attributes\":{},\"id\":\"3373\",\"type\":\"UnionRenderers\"},{\"attributes\":{},\"id\":\"3374\",\"type\":\"Selection\"},{\"attributes\":{\"data\":{\"AppResourceProvider\":[\"OneDrive\",\"OneDrive\",\"OneDrive\",\"OneDrive\",\"OneDrive\",\"OneDrive\",\"OneDrive\",\"OneDrive\",\"OneDrive\",\"OneDrive\",\"OneDrive\",\"OneDrive\",\"OneDrive\",\"SharePoint\",\"SharePoint\",\"SharePoint\",\"OneDrive\",\"OneDrive\",\"OneDrive\"],\"IPAddress\":[\"52.104.99.175\",\"52.104.99.160\",\"52.104.99.166\",\"52.104.99.175\",\"52.104.99.160\",\"69.130.255.13\",\"52.104.99.172\",\"52.104.99.161\",\"52.104.99.175\",\"69.130.255.13\",\"52.104.99.166\",\"52.104.99.161\",\"52.104.99.164\",\"52.104.99.50\",\"52.104.99.169\",\"52.104.99.171\",\"52.104.99.170\",\"52.104.99.165\",\"52.104.99.160\"],\"Operation\":[\"FilePreviewed\",\"FilePreviewed\",\"FilePreviewed\",\"FilePreviewed\",\"FilePreviewed\",\"FilePreviewed\",\"FilePreviewed\",\"FilePreviewed\",\"FilePreviewed\",\"FilePreviewed\",\"FilePreviewed\",\"FilePreviewed\",\"FilePreviewed\",\"FilePreviewed\",\"FilePreviewed\",\"FilePreviewed\",\"FilePreviewed\",\"FilePreviewed\",\"FilePreviewed\"],\"TimeGenerated\":{\"__ndarray__\":\"AIBjhTGOeEIAgGOFMY54QgCAY4UxjnhCAICQCTqOeEIAgNcAPY54QgAAGtZKjnhCAIDWl1GOeEIAgNaXUY54QgCA1pdRjnhCAIAtWo2OeEIAgPsIjo54QgCA+wiOjnhCAID7CI6OeEIAgGk+kI54QgCAaT6QjnhCAACoPpCOeEIAAKBXk454QgAAoFeTjnhCAIDeV5OOeEI=\",\"dtype\":\"float64\",\"order\":\"little\",\"shape\":[19]},\"index\":[414,416,415,583,629,189,533,531,530,269,455,456,457,291,238,290,459,460,458],\"y_index\":[5,5,5,5,5,5,5,5,5,5,5,5,5,5,5,5,5,5,5]},\"selected\":{\"id\":\"3366\"},\"selection_policy\":{\"id\":\"3365\"}},\"id\":\"2982\",\"type\":\"ColumnDataSource\"},{\"attributes\":{\"label\":{\"value\":\"AddedToGroup\"},\"renderers\":[{\"id\":\"3194\"}]},\"id\":\"3196\",\"type\":\"LegendItem\"},{\"attributes\":{\"fill_alpha\":{\"value\":0.2},\"fill_color\":{\"value\":\"#470F62\"},\"hatch_alpha\":{\"value\":0.2},\"hatch_color\":{\"value\":\"#470F62\"},\"line_alpha\":{\"value\":0.2},\"line_color\":{\"value\":\"#470F62\"},\"marker\":{\"value\":\"diamond\"},\"size\":{\"value\":10},\"x\":{\"field\":\"TimeGenerated\"},\"y\":{\"field\":\"y_index\"}},\"id\":\"3200\",\"type\":\"Scatter\"},{\"attributes\":{\"fill_alpha\":{\"value\":0.1},\"fill_color\":{\"value\":\"#470F62\"},\"hatch_alpha\":{\"value\":0.1},\"hatch_color\":{\"value\":\"#470F62\"},\"line_alpha\":{\"value\":0.1},\"line_color\":{\"value\":\"#470F62\"},\"marker\":{\"value\":\"diamond\"},\"size\":{\"value\":10},\"x\":{\"field\":\"TimeGenerated\"},\"y\":{\"field\":\"y_index\"}},\"id\":\"3199\",\"type\":\"Scatter\"},{\"attributes\":{\"source\":{\"id\":\"2978\"}},\"id\":\"3202\",\"type\":\"CDSView\"},{\"attributes\":{\"data\":{\"AppResourceProvider\":[\"OneDrive\"],\"IPAddress\":[\"69.130.255.13\"],\"Operation\":[\"FileSyncUploadedFull\"],\"TimeGenerated\":{\"__ndarray__\":\"AIDcDj6OeEI=\",\"dtype\":\"float64\",\"order\":\"little\",\"shape\":[1]},\"index\":[610],\"y_index\":[7]},\"selected\":{\"id\":\"3370\"},\"selection_policy\":{\"id\":\"3369\"}},\"id\":\"2984\",\"type\":\"ColumnDataSource\"},{\"attributes\":{\"fill_alpha\":{\"value\":0.1},\"fill_color\":{\"value\":\"#2E6D8E\"},\"hatch_alpha\":{\"value\":0.1},\"hatch_color\":{\"value\":\"#2E6D8E\"},\"line_alpha\":{\"value\":0.1},\"line_color\":{\"value\":\"#2E6D8E\"},\"marker\":{\"value\":\"diamond\"},\"size\":{\"value\":10},\"x\":{\"field\":\"TimeGenerated\"},\"y\":{\"field\":\"y_index\"}},\"id\":\"3255\",\"type\":\"Scatter\"},{\"attributes\":{\"coordinates\":null,\"fill_alpha\":0.2,\"fill_color\":\"navy\",\"group\":null,\"level\":\"overlay\",\"line_alpha\":1.0,\"line_color\":\"black\",\"line_dash\":[2,2],\"line_width\":0.5,\"syncable\":false},\"id\":\"3184\",\"type\":\"BoxAnnotation\"},{\"attributes\":{\"source\":{\"id\":\"2977\"}},\"id\":\"3195\",\"type\":\"CDSView\"},{\"attributes\":{\"coordinates\":null,\"data_source\":{\"id\":\"2978\"},\"glyph\":{\"id\":\"3198\"},\"group\":null,\"hover_glyph\":null,\"muted_glyph\":{\"id\":\"3200\"},\"nonselection_glyph\":{\"id\":\"3199\"},\"view\":{\"id\":\"3202\"}},\"id\":\"3201\",\"type\":\"GlyphRenderer\"},{\"attributes\":{\"fill_alpha\":{\"value\":0.1},\"fill_color\":{\"value\":\"#481D6F\"},\"hatch_alpha\":{\"value\":0.1},\"hatch_color\":{\"value\":\"#481D6F\"},\"line_alpha\":{\"value\":0.1},\"line_color\":{\"value\":\"#481D6F\"},\"marker\":{\"value\":\"diamond\"},\"size\":{\"value\":10},\"x\":{\"field\":\"TimeGenerated\"},\"y\":{\"field\":\"y_index\"}},\"id\":\"3206\",\"type\":\"Scatter\"},{\"attributes\":{\"label\":{\"value\":\"HardDelete\"},\"renderers\":[{\"id\":\"3250\"}]},\"id\":\"3252\",\"type\":\"LegendItem\"},{\"attributes\":{},\"id\":\"3375\",\"type\":\"UnionRenderers\"},{\"attributes\":{\"fill_alpha\":{\"value\":0.5},\"fill_color\":{\"value\":\"#470F62\"},\"hatch_alpha\":{\"value\":0.5},\"hatch_color\":{\"value\":\"#470F62\"},\"line_alpha\":{\"value\":0.5},\"line_color\":{\"value\":\"#470F62\"},\"marker\":{\"value\":\"diamond\"},\"size\":{\"value\":10},\"x\":{\"field\":\"TimeGenerated\"},\"y\":{\"field\":\"y_index\"}},\"id\":\"3198\",\"type\":\"Scatter\"},{\"attributes\":{\"label\":{\"value\":\"CompanyLinkUsed\"},\"renderers\":[{\"id\":\"3201\"}]},\"id\":\"3203\",\"type\":\"LegendItem\"},{\"attributes\":{},\"id\":\"3376\",\"type\":\"Selection\"},{\"attributes\":{\"fill_alpha\":{\"value\":0.5},\"fill_color\":{\"value\":\"#481D6F\"},\"hatch_alpha\":{\"value\":0.5},\"hatch_color\":{\"value\":\"#481D6F\"},\"line_alpha\":{\"value\":0.5},\"line_color\":{\"value\":\"#481D6F\"},\"marker\":{\"value\":\"diamond\"},\"size\":{\"value\":10},\"x\":{\"field\":\"TimeGenerated\"},\"y\":{\"field\":\"y_index\"}},\"id\":\"3205\",\"type\":\"Scatter\"},{\"attributes\":{\"coordinates\":null,\"data_source\":{\"id\":\"2985\"},\"glyph\":{\"id\":\"3247\"},\"group\":null,\"hover_glyph\":null,\"muted_glyph\":{\"id\":\"3249\"},\"nonselection_glyph\":{\"id\":\"3248\"},\"view\":{\"id\":\"3251\"}},\"id\":\"3250\",\"type\":\"GlyphRenderer\"},{\"attributes\":{\"fill_alpha\":{\"value\":0.2},\"fill_color\":{\"value\":\"#481D6F\"},\"hatch_alpha\":{\"value\":0.2},\"hatch_color\":{\"value\":\"#481D6F\"},\"line_alpha\":{\"value\":0.2},\"line_color\":{\"value\":\"#481D6F\"},\"marker\":{\"value\":\"diamond\"},\"size\":{\"value\":10},\"x\":{\"field\":\"TimeGenerated\"},\"y\":{\"field\":\"y_index\"}},\"id\":\"3207\",\"type\":\"Scatter\"},{\"attributes\":{\"source\":{\"id\":\"2985\"}},\"id\":\"3251\",\"type\":\"CDSView\"},{\"attributes\":{\"coordinates\":null,\"data_source\":{\"id\":\"2979\"},\"glyph\":{\"id\":\"3205\"},\"group\":null,\"hover_glyph\":null,\"muted_glyph\":{\"id\":\"3207\"},\"nonselection_glyph\":{\"id\":\"3206\"},\"view\":{\"id\":\"3209\"}},\"id\":\"3208\",\"type\":\"GlyphRenderer\"},{\"attributes\":{\"fill_alpha\":{\"value\":0.1},\"fill_color\":{\"value\":\"#472A79\"},\"hatch_alpha\":{\"value\":0.1},\"hatch_color\":{\"value\":\"#472A79\"},\"line_alpha\":{\"value\":0.1},\"line_color\":{\"value\":\"#472A79\"},\"marker\":{\"value\":\"diamond\"},\"size\":{\"value\":10},\"x\":{\"field\":\"TimeGenerated\"},\"y\":{\"field\":\"y_index\"}},\"id\":\"3213\",\"type\":\"Scatter\"},{\"attributes\":{\"label\":{\"value\":\"Create\"},\"renderers\":[{\"id\":\"3208\"}]},\"id\":\"3210\",\"type\":\"LegendItem\"},{\"attributes\":{\"source\":{\"id\":\"2979\"}},\"id\":\"3209\",\"type\":\"CDSView\"},{\"attributes\":{\"fill_alpha\":{\"value\":0.5},\"fill_color\":{\"value\":\"#472A79\"},\"hatch_alpha\":{\"value\":0.5},\"hatch_color\":{\"value\":\"#472A79\"},\"line_alpha\":{\"value\":0.5},\"line_color\":{\"value\":\"#472A79\"},\"marker\":{\"value\":\"diamond\"},\"size\":{\"value\":10},\"x\":{\"field\":\"TimeGenerated\"},\"y\":{\"field\":\"y_index\"}},\"id\":\"3212\",\"type\":\"Scatter\"},{\"attributes\":{\"data\":{\"AppResourceProvider\":[\"OneDrive\"],\"IPAddress\":[\"69.130.255.13\"],\"Operation\":[\"FileModified\"],\"TimeGenerated\":{\"__ndarray__\":\"AIBepVKOeEI=\",\"dtype\":\"float64\",\"order\":\"little\",\"shape\":[1]},\"index\":[367],\"y_index\":[4]},\"selected\":{\"id\":\"3364\"},\"selection_policy\":{\"id\":\"3363\"}},\"id\":\"2981\",\"type\":\"ColumnDataSource\"},{\"attributes\":{\"fill_alpha\":{\"value\":0.2},\"fill_color\":{\"value\":\"#472A79\"},\"hatch_alpha\":{\"value\":0.2},\"hatch_color\":{\"value\":\"#472A79\"},\"line_alpha\":{\"value\":0.2},\"line_color\":{\"value\":\"#472A79\"},\"marker\":{\"value\":\"diamond\"},\"size\":{\"value\":10},\"x\":{\"field\":\"TimeGenerated\"},\"y\":{\"field\":\"y_index\"}},\"id\":\"3214\",\"type\":\"Scatter\"},{\"attributes\":{\"fill_alpha\":{\"value\":0.2},\"fill_color\":{\"value\":\"#2E6D8E\"},\"hatch_alpha\":{\"value\":0.2},\"hatch_color\":{\"value\":\"#2E6D8E\"},\"line_alpha\":{\"value\":0.2},\"line_color\":{\"value\":\"#2E6D8E\"},\"marker\":{\"value\":\"diamond\"},\"size\":{\"value\":10},\"x\":{\"field\":\"TimeGenerated\"},\"y\":{\"field\":\"y_index\"}},\"id\":\"3256\",\"type\":\"Scatter\"},{\"attributes\":{\"fill_alpha\":{\"value\":0.5},\"fill_color\":{\"value\":\"#453681\"},\"hatch_alpha\":{\"value\":0.5},\"hatch_color\":{\"value\":\"#453681\"},\"line_alpha\":{\"value\":0.5},\"line_color\":{\"value\":\"#453681\"},\"marker\":{\"value\":\"diamond\"},\"size\":{\"value\":10},\"x\":{\"field\":\"TimeGenerated\"},\"y\":{\"field\":\"y_index\"}},\"id\":\"3219\",\"type\":\"Scatter\"},{\"attributes\":{\"source\":{\"id\":\"2980\"}},\"id\":\"3216\",\"type\":\"CDSView\"},{\"attributes\":{\"label\":{\"value\":\"FileAccessed\"},\"renderers\":[{\"id\":\"3215\"}]},\"id\":\"3217\",\"type\":\"LegendItem\"},{\"attributes\":{\"coordinates\":null,\"data_source\":{\"id\":\"2980\"},\"glyph\":{\"id\":\"3212\"},\"group\":null,\"hover_glyph\":null,\"muted_glyph\":{\"id\":\"3214\"},\"nonselection_glyph\":{\"id\":\"3213\"},\"view\":{\"id\":\"3216\"}},\"id\":\"3215\",\"type\":\"GlyphRenderer\"},{\"attributes\":{\"fill_alpha\":{\"value\":0.1},\"fill_color\":{\"value\":\"#472A79\"},\"hatch_alpha\":{\"value\":0.1},\"hatch_color\":{\"value\":\"#472A79\"},\"line_alpha\":{\"value\":0.1},\"line_color\":{\"value\":\"#472A79\"},\"x\":{\"field\":\"TimeGenerated\"},\"y\":{\"field\":\"y_index\"}},\"id\":\"3071\",\"type\":\"Circle\"},{\"attributes\":{\"coordinates\":null,\"data_source\":{\"id\":\"2980\"},\"glyph\":{\"id\":\"3070\"},\"group\":null,\"hover_glyph\":null,\"muted_glyph\":{\"id\":\"3072\"},\"nonselection_glyph\":{\"id\":\"3071\"},\"view\":{\"id\":\"3074\"}},\"id\":\"3073\",\"type\":\"GlyphRenderer\"},{\"attributes\":{\"data\":{\"AppResourceProvider\":[\"MicrosoftTeams\",\"MicrosoftTeams\"],\"IPAddress\":[\"::ffff:69.130.255.13\",\"::ffff:69.130.255.13\"],\"Operation\":[\"MessageSent\",\"MessageSent\"],\"TimeGenerated\":{\"__ndarray__\":\"AICG+EqOeEIAgDIbho54Qg==\",\"dtype\":\"float64\",\"order\":\"little\",\"shape\":[2]},\"index\":[503,447],\"y_index\":[14,14]},\"selected\":{\"id\":\"3384\"},\"selection_policy\":{\"id\":\"3383\"}},\"id\":\"2991\",\"type\":\"ColumnDataSource\"},{\"attributes\":{\"coordinates\":null,\"data_source\":{\"id\":\"2997\"},\"glyph\":{\"id\":\"3172\"},\"group\":null,\"hover_glyph\":null,\"muted_glyph\":{\"id\":\"3174\"},\"nonselection_glyph\":{\"id\":\"3173\"},\"view\":{\"id\":\"3176\"}},\"id\":\"3175\",\"type\":\"GlyphRenderer\"},{\"attributes\":{\"data\":{\"AppResourceProvider\":[\"Exchange\",\"Exchange\"],\"IPAddress\":[\"69.130.255.13\",\"69.130.255.13\"],\"Operation\":[\"Update\",\"Update\"],\"TimeGenerated\":{\"__ndarray__\":\"AABb2zaOeEIAACvjNo54Qg==\",\"dtype\":\"float64\",\"order\":\"little\",\"shape\":[2]},\"index\":[566,565],\"y_index\":[21,21]},\"selected\":{\"id\":\"3398\"},\"selection_policy\":{\"id\":\"3397\"}},\"id\":\"2998\",\"type\":\"ColumnDataSource\"},{\"attributes\":{\"fill_color\":{\"value\":\"#404387\"},\"hatch_color\":{\"value\":\"#404387\"},\"line_color\":{\"value\":\"#404387\"},\"x\":{\"field\":\"TimeGenerated\"},\"y\":{\"field\":\"y_index\"}},\"id\":\"3082\",\"type\":\"Circle\"},{\"attributes\":{\"data\":{\"AppResourceProvider\":[\"MicrosoftTeams\",\"MicrosoftTeams\",\"MicrosoftTeams\"],\"IPAddress\":[\"::ffff:69.130.255.13\",\"::ffff:69.130.255.13\",\"::ffff:69.130.255.13\"],\"Operation\":[\"MessageCreatedHasLink\",\"MessageCreatedHasLink\",\"MessageCreatedHasLink\"],\"TimeGenerated\":{\"__ndarray__\":\"AIBmwkaOeEIAgJrdR454QgCAhvhKjnhC\",\"dtype\":\"float64\",\"order\":\"little\",\"shape\":[3]},\"index\":[486,501,502],\"y_index\":[13,13,13]},\"selected\":{\"id\":\"3382\"},\"selection_policy\":{\"id\":\"3381\"}},\"id\":\"2990\",\"type\":\"ColumnDataSource\"},{\"attributes\":{\"fill_alpha\":{\"value\":0.2},\"fill_color\":{\"value\":\"#79D151\"},\"hatch_alpha\":{\"value\":0.2},\"hatch_color\":{\"value\":\"#79D151\"},\"line_alpha\":{\"value\":0.2},\"line_color\":{\"value\":\"#79D151\"},\"x\":{\"field\":\"TimeGenerated\"},\"y\":{\"field\":\"y_index\"}},\"id\":\"3174\",\"type\":\"Circle\"},{\"attributes\":{\"fill_alpha\":{\"value\":0.1},\"fill_color\":{\"value\":\"#453681\"},\"hatch_alpha\":{\"value\":0.1},\"hatch_color\":{\"value\":\"#453681\"},\"line_alpha\":{\"value\":0.1},\"line_color\":{\"value\":\"#453681\"},\"x\":{\"field\":\"TimeGenerated\"},\"y\":{\"field\":\"y_index\"}},\"id\":\"3077\",\"type\":\"Circle\"},{\"attributes\":{\"data\":{\"AppResourceProvider\":[\"MicrosoftTeams\",\"MicrosoftTeams\"],\"IPAddress\":[\"192.168.1.72\",\"192.168.86.42\"],\"Operation\":[\"MeetingParticipantDetail\",\"MeetingParticipantDetail\"],\"TimeGenerated\":{\"__ndarray__\":\"AADFVmWOeEIAAMVWZY54Qg==\",\"dtype\":\"float64\",\"order\":\"little\",\"shape\":[2]},\"index\":[418,420],\"y_index\":[12,12]},\"selected\":{\"id\":\"3380\"},\"selection_policy\":{\"id\":\"3379\"}},\"id\":\"2989\",\"type\":\"ColumnDataSource\"},{\"attributes\":{\"source\":{\"id\":\"2980\"}},\"id\":\"3074\",\"type\":\"CDSView\"},{\"attributes\":{\"active_multi\":{\"id\":\"3183\"},\"tools\":[{\"id\":\"3183\"}]},\"id\":\"3047\",\"type\":\"Toolbar\"},{\"attributes\":{\"coordinates\":null,\"data_source\":{\"id\":\"2981\"},\"glyph\":{\"id\":\"3076\"},\"group\":null,\"hover_glyph\":null,\"muted_glyph\":{\"id\":\"3078\"},\"nonselection_glyph\":{\"id\":\"3077\"},\"view\":{\"id\":\"3080\"}},\"id\":\"3079\",\"type\":\"GlyphRenderer\"},{\"attributes\":{\"data\":{\"AppResourceProvider\":[\"SharePoint\",\"OneDrive\",\"SharePoint\",\"SharePoint\",\"SharePoint\",\"SharePoint\",\"SharePoint\"],\"IPAddress\":[\"69.130.255.13\",\"69.130.255.13\",\"69.130.255.13\",\"69.130.255.13\",\"69.130.255.13\",\"69.130.255.13\",\"69.130.255.13\"],\"Operation\":[\"PageViewed\",\"PageViewed\",\"PageViewed\",\"PageViewed\",\"PageViewed\",\"PageViewed\",\"PageViewed\"],\"TimeGenerated\":{\"__ndarray__\":\"AAA3KECOeEIAgM4uQI54QgAArj2QjnhCAIDsPZCOeEIAACs+kI54QgAAKz6QjnhCAIAmEJ2OeEI=\",\"dtype\":\"float64\",\"order\":\"little\",\"shape\":[7]},\"index\":[128,127,239,241,292,289,329],\"y_index\":[17,17,17,17,17,17,17]},\"selected\":{\"id\":\"3390\"},\"selection_policy\":{\"id\":\"3389\"}},\"id\":\"2994\",\"type\":\"ColumnDataSource\"},{\"attributes\":{\"align\":\"right\",\"coordinates\":null,\"group\":null,\"text\":\"Drag the middle or edges of the selection box to change the range in the main chart\",\"text_font_size\":\"10px\"},\"id\":\"3048\",\"type\":\"Title\"},{\"attributes\":{\"fill_alpha\":{\"value\":0.2},\"fill_color\":{\"value\":\"#453681\"},\"hatch_alpha\":{\"value\":0.2},\"hatch_color\":{\"value\":\"#453681\"},\"line_alpha\":{\"value\":0.2},\"line_color\":{\"value\":\"#453681\"},\"x\":{\"field\":\"TimeGenerated\"},\"y\":{\"field\":\"y_index\"}},\"id\":\"3078\",\"type\":\"Circle\"},{\"attributes\":{\"source\":{\"id\":\"2997\"}},\"id\":\"3176\",\"type\":\"CDSView\"},{\"attributes\":{\"source\":{\"id\":\"2981\"}},\"id\":\"3080\",\"type\":\"CDSView\"},{\"attributes\":{\"fill_color\":{\"value\":\"#453681\"},\"hatch_color\":{\"value\":\"#453681\"},\"line_color\":{\"value\":\"#453681\"},\"x\":{\"field\":\"TimeGenerated\"},\"y\":{\"field\":\"y_index\"}},\"id\":\"3076\",\"type\":\"Circle\"},{\"attributes\":{\"data\":{\"AppResourceProvider\":[\"MicrosoftTeams\"],\"IPAddress\":[\"192.168.86.42\"],\"Operation\":[\"MeetingDetail\"],\"TimeGenerated\":{\"__ndarray__\":\"AADFVmWOeEI=\",\"dtype\":\"float64\",\"order\":\"little\",\"shape\":[1]},\"index\":[419],\"y_index\":[11]},\"selected\":{\"id\":\"3378\"},\"selection_policy\":{\"id\":\"3377\"}},\"id\":\"2988\",\"type\":\"ColumnDataSource\"},{\"attributes\":{\"fill_alpha\":{\"value\":0.2},\"fill_color\":{\"value\":\"#472A79\"},\"hatch_alpha\":{\"value\":0.2},\"hatch_color\":{\"value\":\"#472A79\"},\"line_alpha\":{\"value\":0.2},\"line_color\":{\"value\":\"#472A79\"},\"x\":{\"field\":\"TimeGenerated\"},\"y\":{\"field\":\"y_index\"}},\"id\":\"3072\",\"type\":\"Circle\"},{\"attributes\":{\"data\":{\"AppResourceProvider\":[\"Windows Sign In\",\"APIM-Client-DevPortal-OAuth\",\"APIM-Client-DevPortal-OAuth\",\"APIM-Client-DevPortal-OAuth\",\"APIM-Client-DevPortal-OAuth\",\"APIM-Client-DevPortal-OAuth\",\"APIM-Client-DevPortal-OAuth\",\"APIM-Client-DevPortal-OAuth\",\"APIM-Client-DevPortal-OAuth\",\"APIM-Client-DevPortal-OAuth\",\"APIM-Client-DevPortal-OAuth\",\"APIM-Client-DevPortal-OAuth\",\"APIM-Client-DevPortal-OAuth\",\"WEDC Service Desk\",\"Office Online Core SSO\",\"Office365 Shell WCSS-Client\",\"Office365 Shell WCSS-Client\",\"Office365 Shell WCSS-Client\",\"Office Online Search SSO\",\"Office365 Shell WCSS-Client\",\"Office Online Augmentation Loop SSO\",\"Salesforce\",\"Office 365 SharePoint Online\",\"Office Online Loki SSO\",\"APIM-Client-DevPortal-OAuth\",\"APIM-Client-DevPortal-OAuth\",\"APIM-Client-DevPortal-OAuth\",\"APIM-Client-DevPortal-OAuth\",\"APIM-Client-DevPortal-OAuth\",\"APIM-Client-DevPortal-OAuth\",\"APIM-Client-DevPortal-OAuth\",\"APIM-Client-DevPortal-OAuth\",\"APIM-Client-DevPortal-OAuth\",\"APIM-Client-DevPortal-OAuth\",\"APIM-Client-DevPortal-OAuth\",\"APIM-Client-DevPortal-OAuth\",\"APIM-Client-DevPortal-OAuth\",\"SWSD - Test Environment\",\"Microsoft Account Controls V2\",\"My Apps\",\"My Apps\",\"My Apps\",\"Microsoft Account Controls V2\",\"My Apps\",\"My Apps\",\"My Apps\",\"APIM-Client-DevPortal-OAuth\",\"APIM-Client-DevPortal-OAuth\",\"APIM-Client-DevPortal-OAuth\",\"APIM-Client-DevPortal-OAuth\",\"APIM-Client-DevPortal-OAuth\",\"APIM-Client-DevPortal-OAuth\",\"APIM-Client-DevPortal-OAuth\",\"APIM-Client-DevPortal-OAuth\",\"APIM-Client-DevPortal-OAuth\",\"APIM-Client-DevPortal-OAuth\",\"APIM-Client-DevPortal-OAuth\",\"APIM-Client-DevPortal-OAuth\",\"APIM-Client-DevPortal-OAuth\",\"APIM-Client-DevPortal-OAuth\",\"APIM-Client-DevPortal-OAuth\",\"APIM-Client-DevPortal-OAuth\",\"APIM-Client-DevPortal-OAuth\",\"APIM-Client-DevPortal-OAuth\",\"Windows Sign In\",\"Windows Sign In\",\"Windows Sign In\",\"Azure Portal\",\"Windows Sign In\",\"Azure Portal\",\"SharePoint Online Web Client Extensibility\",\"Office 365 SharePoint Online\",\"My Apps\",\"My Apps\",\"My Apps\",\"My Apps\",\"Inform Development\",\"Salesforce Partial\",\"My Apps\",\"Salesforce\",\"KustoClient\",\"KustoClient\",\"Microsoft App Access Panel\",\"Microsoft App Access Panel\",\"Microsoft App Access Panel\",\"Microsoft App Access Panel\",\"Microsoft App Access Panel\",\"Microsoft App Access Panel\",\"Microsoft App Access Panel\",\"Microsoft App Access Panel\",\"Microsoft App Access Panel\",\"Microsoft App Access Panel\",\"Microsoft App Access Panel\",\"Microsoft App Access Panel\",\"Microsoft App Access Panel\",\"Microsoft App Access Panel\",\"Microsoft App Access Panel\",\"Microsoft App Access Panel\",\"Microsoft App Access Panel\",\"Microsoft App Access Panel\",\"Microsoft App Access Panel\",\"Microsoft App Access Panel\",\"Microsoft App Access Panel\",\"Microsoft App Access Panel\",\"Microsoft App Access Panel\",\"Microsoft 365 Security and Compliance Center\",\"Office365 Shell WCSS-Client\",\"Office365 Shell WCSS-Client\",\"Office365 Shell WCSS-Client\",\"Office365 Shell WCSS-Client\"],\"IPAddress\":[\"69.130.255.13\",\"69.130.255.13\",\"69.130.255.13\",\"69.130.255.13\",\"69.130.255.13\",\"69.130.255.13\",\"69.130.255.13\",\"69.130.255.13\",\"69.130.255.13\",\"69.130.255.13\",\"69.130.255.13\",\"69.130.255.13\",\"69.130.255.13\",\"69.130.255.13\",\"69.130.255.13\",\"69.130.255.13\",\"69.130.255.13\",\"69.130.255.13\",\"69.130.255.13\",\"69.130.255.13\",\"69.130.255.13\",\"69.130.255.13\",\"69.130.255.13\",\"69.130.255.13\",\"69.130.255.13\",\"69.130.255.13\",\"69.130.255.13\",\"69.130.255.13\",\"69.130.255.13\",\"69.130.255.13\",\"69.130.255.13\",\"69.130.255.13\",\"69.130.255.13\",\"69.130.255.13\",\"69.130.255.13\",\"69.130.255.13\",\"69.130.255.13\",\"69.130.255.13\",\"69.130.255.13\",\"69.130.255.13\",\"69.130.255.13\",\"69.130.255.13\",\"69.130.255.13\",\"69.130.255.13\",\"69.130.255.13\",\"69.130.255.13\",\"69.130.255.13\",\"69.130.255.13\",\"69.130.255.13\",\"69.130.255.13\",\"69.130.255.13\",\"69.130.255.13\",\"69.130.255.13\",\"69.130.255.13\",\"69.130.255.13\",\"69.130.255.13\",\"69.130.255.13\",\"69.130.255.13\",\"69.130.255.13\",\"69.130.255.13\",\"69.130.255.13\",\"69.130.255.13\",\"69.130.255.13\",\"69.130.255.13\",\"216.56.240.114\",\"69.130.255.13\",\"69.130.255.13\",\"69.130.255.13\",\"216.56.240.114\",\"69.130.255.13\",\"69.130.255.13\",\"69.130.255.13\",\"69.130.255.13\",\"69.130.255.13\",\"69.130.255.13\",\"69.130.255.13\",\"69.130.255.13\",\"69.130.255.13\",\"69.130.255.13\",\"69.130.255.13\",\"69.130.255.13\",\"69.130.255.13\",\"69.130.255.13\",\"69.130.255.13\",\"69.130.255.13\",\"69.130.255.13\",\"69.130.255.13\",\"69.130.255.13\",\"69.130.255.13\",\"69.130.255.13\",\"69.130.255.13\",\"69.130.255.13\",\"69.130.255.13\",\"69.130.255.13\",\"69.130.255.13\",\"69.130.255.13\",\"69.130.255.13\",\"69.130.255.13\",\"69.130.255.13\",\"69.130.255.13\",\"69.130.255.13\",\"69.130.255.13\",\"69.130.255.13\",\"69.130.255.13\",\"69.130.255.13\",\"69.130.255.13\",\"69.130.255.13\",\"69.130.255.13\",\"69.130.255.13\",\"69.130.255.13\"],\"Operation\":[\"Sign-in activity\",\"Sign-in activity\",\"Sign-in activity\",\"Sign-in activity\",\"Sign-in activity\",\"Sign-in activity\",\"Sign-in activity\",\"Sign-in activity\",\"Sign-in activity\",\"Sign-in activity\",\"Sign-in activity\",\"Sign-in activity\",\"Sign-in activity\",\"Sign-in activity\",\"Sign-in activity\",\"Sign-in activity\",\"Sign-in activity\",\"Sign-in activity\",\"Sign-in activity\",\"Sign-in activity\",\"Sign-in activity\",\"Sign-in activity\",\"Sign-in activity\",\"Sign-in activity\",\"Sign-in activity\",\"Sign-in activity\",\"Sign-in activity\",\"Sign-in activity\",\"Sign-in activity\",\"Sign-in activity\",\"Sign-in activity\",\"Sign-in activity\",\"Sign-in activity\",\"Sign-in activity\",\"Sign-in activity\",\"Sign-in activity\",\"Sign-in activity\",\"Sign-in activity\",\"Sign-in activity\",\"Sign-in activity\",\"Sign-in activity\",\"Sign-in activity\",\"Sign-in activity\",\"Sign-in activity\",\"Sign-in activity\",\"Sign-in activity\",\"Sign-in activity\",\"Sign-in activity\",\"Sign-in activity\",\"Sign-in activity\",\"Sign-in activity\",\"Sign-in activity\",\"Sign-in activity\",\"Sign-in activity\",\"Sign-in activity\",\"Sign-in activity\",\"Sign-in activity\",\"Sign-in activity\",\"Sign-in activity\",\"Sign-in activity\",\"Sign-in activity\",\"Sign-in activity\",\"Sign-in activity\",\"Sign-in activity\",\"Sign-in activity\",\"Sign-in activity\",\"Sign-in activity\",\"Sign-in activity\",\"Sign-in activity\",\"Sign-in activity\",\"Sign-in activity\",\"Sign-in activity\",\"Sign-in activity\",\"Sign-in activity\",\"Sign-in activity\",\"Sign-in activity\",\"Sign-in activity\",\"Sign-in activity\",\"Sign-in activity\",\"Sign-in activity\",\"Sign-in activity\",\"Sign-in activity\",\"Sign-in activity\",\"Sign-in activity\",\"Sign-in activity\",\"Sign-in activity\",\"Sign-in activity\",\"Sign-in activity\",\"Sign-in activity\",\"Sign-in activity\",\"Sign-in activity\",\"Sign-in activity\",\"Sign-in activity\",\"Sign-in activity\",\"Sign-in activity\",\"Sign-in activity\",\"Sign-in activity\",\"Sign-in activity\",\"Sign-in activity\",\"Sign-in activity\",\"Sign-in activity\",\"Sign-in activity\",\"Sign-in activity\",\"Sign-in activity\",\"Sign-in activity\",\"Sign-in activity\",\"Sign-in activity\",\"Sign-in activity\",\"Sign-in activity\",\"Sign-in activity\"],\"TimeGenerated\":{\"__ndarray__\":\"jYFtMzSOeELb+w4NNY54Qm8Y3AU2jnhCnJZHGjaOeEKgPv8lNo54QuPNHCw2jnhCDNyNVDaOeEIXlwTxNo54QnNISho3jnhCTDFTITeOeEIQPHD/N454QlL2e5A5jnhCtkW41zyOeEKonOuBPo54QnnLkzxAjnhCotuhPkCOeEI7eeQ/QI54QpH5NUBAjnhCtHzyQUCOeEJ9hwdFQI54QmqY+0hAjnhCRPPDT0COeEJQ6bFUQI54Qs+X8lVAjnhCPfS6c0OOeELJrKGTQ454QofYqptDjnhCUhCbqEOOeELTpVf4RY54QvQFGlNGjnhCb578tEaOeEKsup1hR454QrJb/25HjnhCmNynkkeOeEJMm40rSI54QqbxYTRIjnhCk1pIiEmOeEJ1Qa1+TI54QjVqE4JMjnhCZhY8h0yOeEJ17x+JTI54Qp7Njo5MjnhCVuodkEyOeEIjF5mRTI54Qm8M2pFMjnhCIz/Ak0yOeEIKM/0TT454QsdvMRZPjnhCaP0oKE+OeEIpzFniT454QuOx1+5PjnhCCHKh+0+OeEK8jO6xUI54QlRlGLhQjnhCEruyuVCOeEKHcOG/UI54QmJ0bsdQjnhCyciG3FCOeEIA8ov4UI54Quyrz/tQjnhC4X7IFFGOeEIjBQQYUY54QqAMwkNRjnhC3wODRlGOeEIfBVqwUY54Qhk+N4dXjnhCBBJaq4yOeEJOHkVnjY54Qhlayx+OjnhCvh37U5COeEIbs31ekI54QhuzfV6QjnhCg06SlZCOeEJGUMeikI54Qqrz06iQjnhCVNv3sJCOeEL2Juy0kI54Qqy+zsOQjnhCzyO755SOeELbHbznlI54QhTioGWWjnhCvkuRgJaOeEKm2Za5lo54QuMxjwaXjnhCcXUDQpeOeEJzPMqYl454QlIwON6XjnhCAPwvEpiOeELHO9pwmI54QmIMk7SYjnhCgeXE+5iOeELulnpImY54Qrax4JWZjnhCGx3O2JmOeEJEw0gmmo54Qt9jDHeajnhC4UDBo5qOeEIv+9v8mo54QqBYJEibjnhC+OuHjJuOeEKT7MzKm454QgiskB2cjnhCF7+4bpyOeELBQJi3nI54QhudQ/qcjnhCMYzQDp2OeEKciPgRnY54QiGUOx2djnhC1USKIZ2OeEJvxgkrnY54Qg==\",\"dtype\":\"float64\",\"order\":\"little\",\"shape\":[110]},\"index\":[0,1,2,5,7,6,9,3,4,8,10,11,56,62,66,65,67,69,63,58,57,59,60,61,71,64,68,70,75,77,78,73,74,76,80,72,79,81,85,82,83,84,86,89,88,87,101,90,102,94,99,100,96,91,92,97,93,95,98,104,105,106,107,108,103,109,19,21,20,22,24,23,30,25,27,28,26,29,31,32,36,39,37,40,42,43,33,41,46,50,34,45,49,35,38,44,51,48,54,55,47,52,53,14,12,17,15,16,18,13],\"y_index\":[18,18,18,18,18,18,18,18,18,18,18,18,18,18,18,18,18,18,18,18,18,18,18,18,18,18,18,18,18,18,18,18,18,18,18,18,18,18,18,18,18,18,18,18,18,18,18,18,18,18,18,18,18,18,18,18,18,18,18,18,18,18,18,18,18,18,18,18,18,18,18,18,18,18,18,18,18,18,18,18,18,18,18,18,18,18,18,18,18,18,18,18,18,18,18,18,18,18,18,18,18,18,18,18,18,18,18,18,18,18]},\"selected\":{\"id\":\"3392\"},\"selection_policy\":{\"id\":\"3391\"}},\"id\":\"2995\",\"type\":\"ColumnDataSource\"},{\"attributes\":{},\"id\":\"3393\",\"type\":\"UnionRenderers\"},{\"attributes\":{},\"id\":\"3394\",\"type\":\"Selection\"},{\"attributes\":{},\"id\":\"3395\",\"type\":\"UnionRenderers\"},{\"attributes\":{},\"id\":\"3396\",\"type\":\"Selection\"},{\"attributes\":{},\"id\":\"3397\",\"type\":\"UnionRenderers\"},{\"attributes\":{},\"id\":\"3398\",\"type\":\"Selection\"},{\"attributes\":{\"mantissas\":[1,2,5],\"max_interval\":500.0,\"num_minor_ticks\":0},\"id\":\"3400\",\"type\":\"AdaptiveTicker\"},{\"attributes\":{\"base\":60,\"mantissas\":[1,2,5,10,15,20,30],\"max_interval\":1800000.0,\"min_interval\":1000.0,\"num_minor_ticks\":0},\"id\":\"3401\",\"type\":\"AdaptiveTicker\"},{\"attributes\":{\"base\":24,\"mantissas\":[1,2,4,6,8,12],\"max_interval\":43200000.0,\"min_interval\":3600000.0,\"num_minor_ticks\":0},\"id\":\"3402\",\"type\":\"AdaptiveTicker\"},{\"attributes\":{},\"id\":\"3411\",\"type\":\"YearsTicker\"},{\"attributes\":{\"months\":[0,1,2,3,4,5,6,7,8,9,10,11]},\"id\":\"3407\",\"type\":\"MonthsTicker\"},{\"attributes\":{\"days\":[1,15]},\"id\":\"3406\",\"type\":\"DaysTicker\"},{\"attributes\":{\"days\":[1,2,3,4,5,6,7,8,9,10,11,12,13,14,15,16,17,18,19,20,21,22,23,24,25,26,27,28,29,30,31]},\"id\":\"3403\",\"type\":\"DaysTicker\"},{\"attributes\":{\"days\":[1,4,7,10,13,16,19,22,25,28]},\"id\":\"3404\",\"type\":\"DaysTicker\"},{\"attributes\":{\"days\":[1,8,15,22]},\"id\":\"3405\",\"type\":\"DaysTicker\"},{\"attributes\":{\"months\":[0,6]},\"id\":\"3410\",\"type\":\"MonthsTicker\"},{\"attributes\":{\"months\":[0,2,4,6,8,10]},\"id\":\"3408\",\"type\":\"MonthsTicker\"},{\"attributes\":{\"months\":[0,4,8]},\"id\":\"3409\",\"type\":\"MonthsTicker\"},{\"attributes\":{\"fill_color\":{\"value\":\"#92D741\"},\"hatch_color\":{\"value\":\"#92D741\"},\"line_color\":{\"value\":\"#92D741\"},\"x\":{\"field\":\"TimeGenerated\"},\"y\":{\"field\":\"y_index\"}},\"id\":\"3178\",\"type\":\"Circle\"},{\"attributes\":{},\"id\":\"3354\",\"type\":\"AllLabels\"},{\"attributes\":{\"fill_alpha\":{\"value\":0.1},\"fill_color\":{\"value\":\"#3C4E8A\"},\"hatch_alpha\":{\"value\":0.1},\"hatch_color\":{\"value\":\"#3C4E8A\"},\"line_alpha\":{\"value\":0.1},\"line_color\":{\"value\":\"#3C4E8A\"},\"x\":{\"field\":\"TimeGenerated\"},\"y\":{\"field\":\"y_index\"}},\"id\":\"3089\",\"type\":\"Circle\"},{\"attributes\":{\"fill_color\":{\"value\":\"#3C4E8A\"},\"hatch_color\":{\"value\":\"#3C4E8A\"},\"line_color\":{\"value\":\"#3C4E8A\"},\"x\":{\"field\":\"TimeGenerated\"},\"y\":{\"field\":\"y_index\"}},\"id\":\"3088\",\"type\":\"Circle\"},{\"attributes\":{\"coordinates\":null,\"data_source\":{\"id\":\"2983\"},\"glyph\":{\"id\":\"3088\"},\"group\":null,\"hover_glyph\":null,\"muted_glyph\":{\"id\":\"3090\"},\"nonselection_glyph\":{\"id\":\"3089\"},\"view\":{\"id\":\"3092\"}},\"id\":\"3091\",\"type\":\"GlyphRenderer\"},{\"attributes\":{\"fill_color\":{\"value\":\"#37598C\"},\"hatch_color\":{\"value\":\"#37598C\"},\"line_color\":{\"value\":\"#37598C\"},\"x\":{\"field\":\"TimeGenerated\"},\"y\":{\"field\":\"y_index\"}},\"id\":\"3094\",\"type\":\"Circle\"},{\"attributes\":{\"fill_alpha\":{\"value\":0.2},\"fill_color\":{\"value\":\"#3C4E8A\"},\"hatch_alpha\":{\"value\":0.2},\"hatch_color\":{\"value\":\"#3C4E8A\"},\"line_alpha\":{\"value\":0.2},\"line_color\":{\"value\":\"#3C4E8A\"},\"x\":{\"field\":\"TimeGenerated\"},\"y\":{\"field\":\"y_index\"}},\"id\":\"3090\",\"type\":\"Circle\"},{\"attributes\":{\"fill_alpha\":{\"value\":0.1},\"fill_color\":{\"value\":\"#92D741\"},\"hatch_alpha\":{\"value\":0.1},\"hatch_color\":{\"value\":\"#92D741\"},\"line_alpha\":{\"value\":0.1},\"line_color\":{\"value\":\"#92D741\"},\"x\":{\"field\":\"TimeGenerated\"},\"y\":{\"field\":\"y_index\"}},\"id\":\"3179\",\"type\":\"Circle\"},{\"attributes\":{},\"id\":\"3355\",\"type\":\"UnionRenderers\"},{\"attributes\":{},\"id\":\"3356\",\"type\":\"Selection\"},{\"attributes\":{\"source\":{\"id\":\"2977\"}},\"id\":\"3056\",\"type\":\"CDSView\"},{\"attributes\":{\"coordinates\":null,\"data_source\":{\"id\":\"2977\"},\"glyph\":{\"id\":\"3052\"},\"group\":null,\"hover_glyph\":null,\"muted_glyph\":{\"id\":\"3054\"},\"nonselection_glyph\":{\"id\":\"3053\"},\"view\":{\"id\":\"3056\"}},\"id\":\"3055\",\"type\":\"GlyphRenderer\"},{\"attributes\":{\"fill_alpha\":{\"value\":0.2},\"fill_color\":{\"value\":\"#440154\"},\"hatch_alpha\":{\"value\":0.2},\"hatch_color\":{\"value\":\"#440154\"},\"line_alpha\":{\"value\":0.2},\"line_color\":{\"value\":\"#440154\"},\"x\":{\"field\":\"TimeGenerated\"},\"y\":{\"field\":\"y_index\"}},\"id\":\"3054\",\"type\":\"Circle\"},{\"attributes\":{},\"id\":\"3357\",\"type\":\"UnionRenderers\"},{\"attributes\":{\"fill_alpha\":{\"value\":0.5},\"fill_color\":{\"value\":\"#2E6D8E\"},\"hatch_alpha\":{\"value\":0.5},\"hatch_color\":{\"value\":\"#2E6D8E\"},\"line_alpha\":{\"value\":0.5},\"line_color\":{\"value\":\"#2E6D8E\"},\"marker\":{\"value\":\"diamond\"},\"size\":{\"value\":10},\"x\":{\"field\":\"TimeGenerated\"},\"y\":{\"field\":\"y_index\"}},\"id\":\"3254\",\"type\":\"Scatter\"},{\"attributes\":{},\"id\":\"3358\",\"type\":\"Selection\"},{\"attributes\":{\"fill_alpha\":{\"value\":0.1},\"fill_color\":{\"value\":\"#79D151\"},\"hatch_alpha\":{\"value\":0.1},\"hatch_color\":{\"value\":\"#79D151\"},\"line_alpha\":{\"value\":0.1},\"line_color\":{\"value\":\"#79D151\"},\"x\":{\"field\":\"TimeGenerated\"},\"y\":{\"field\":\"y_index\"}},\"id\":\"3173\",\"type\":\"Circle\"},{\"attributes\":{\"fill_alpha\":{\"value\":0.1},\"fill_color\":{\"value\":\"#440154\"},\"hatch_alpha\":{\"value\":0.1},\"hatch_color\":{\"value\":\"#440154\"},\"line_alpha\":{\"value\":0.1},\"line_color\":{\"value\":\"#440154\"},\"x\":{\"field\":\"TimeGenerated\"},\"y\":{\"field\":\"y_index\"}},\"id\":\"3053\",\"type\":\"Circle\"},{\"attributes\":{\"fill_alpha\":{\"value\":0.2},\"fill_color\":{\"value\":\"#404387\"},\"hatch_alpha\":{\"value\":0.2},\"hatch_color\":{\"value\":\"#404387\"},\"line_alpha\":{\"value\":0.2},\"line_color\":{\"value\":\"#404387\"},\"x\":{\"field\":\"TimeGenerated\"},\"y\":{\"field\":\"y_index\"}},\"id\":\"3084\",\"type\":\"Circle\"},{\"attributes\":{\"source\":{\"id\":\"2982\"}},\"id\":\"3086\",\"type\":\"CDSView\"},{\"attributes\":{},\"id\":\"3359\",\"type\":\"UnionRenderers\"},{\"attributes\":{\"coordinates\":null,\"data_source\":{\"id\":\"2982\"},\"glyph\":{\"id\":\"3082\"},\"group\":null,\"hover_glyph\":null,\"muted_glyph\":{\"id\":\"3084\"},\"nonselection_glyph\":{\"id\":\"3083\"},\"view\":{\"id\":\"3086\"}},\"id\":\"3085\",\"type\":\"GlyphRenderer\"},{\"attributes\":{},\"id\":\"3360\",\"type\":\"Selection\"},{\"attributes\":{\"source\":{\"id\":\"2983\"}},\"id\":\"3092\",\"type\":\"CDSView\"},{\"attributes\":{\"fill_alpha\":{\"value\":0.1},\"fill_color\":{\"value\":\"#404387\"},\"hatch_alpha\":{\"value\":0.1},\"hatch_color\":{\"value\":\"#404387\"},\"line_alpha\":{\"value\":0.1},\"line_color\":{\"value\":\"#404387\"},\"x\":{\"field\":\"TimeGenerated\"},\"y\":{\"field\":\"y_index\"}},\"id\":\"3083\",\"type\":\"Circle\"},{\"attributes\":{\"data\":{\"AppResourceProvider\":[\"SharePoint\",\"SharePoint\",\"SharePoint\",\"SharePoint\",\"SharePoint\",\"SharePoint\",\"SharePoint\",\"SharePoint\",\"SharePoint\"],\"IPAddress\":[\"69.130.255.13\",\"69.130.255.13\",\"69.130.255.13\",\"69.130.255.13\",\"69.130.255.13\",\"69.130.255.13\",\"69.130.255.13\",\"69.130.255.13\",\"69.130.255.13\"],\"Operation\":[\"ListViewed\",\"ListViewed\",\"ListViewed\",\"ListViewed\",\"ListViewed\",\"ListViewed\",\"ListViewed\",\"ListViewed\",\"ListViewed\"],\"TimeGenerated\":{\"__ndarray__\":\"AICpD52OeEIAgHMYnY54QgCAcxidjnhCAIBzGJ2OeEIAgHMYnY54QgCAcxidjnhCAIBzGJ2OeEIAgHMYnY54QgCAcxidjnhC\",\"dtype\":\"float64\",\"order\":\"little\",\"shape\":[9]},\"index\":[325,337,336,335,327,326,333,328,334],\"y_index\":[9,9,9,9,9,9,9,9,9]},\"selected\":{\"id\":\"3374\"},\"selection_policy\":{\"id\":\"3373\"}},\"id\":\"2986\",\"type\":\"ColumnDataSource\"},{\"attributes\":{\"fill_alpha\":{\"value\":0.1},\"fill_color\":{\"value\":\"#228A8D\"},\"hatch_alpha\":{\"value\":0.1},\"hatch_color\":{\"value\":\"#228A8D\"},\"line_alpha\":{\"value\":0.1},\"line_color\":{\"value\":\"#228A8D\"},\"marker\":{\"value\":\"diamond\"},\"size\":{\"value\":10},\"x\":{\"field\":\"TimeGenerated\"},\"y\":{\"field\":\"y_index\"}},\"id\":\"3276\",\"type\":\"Scatter\"},{\"attributes\":{\"fill_alpha\":{\"value\":0.1},\"fill_color\":{\"value\":\"#453681\"},\"hatch_alpha\":{\"value\":0.1},\"hatch_color\":{\"value\":\"#453681\"},\"line_alpha\":{\"value\":0.1},\"line_color\":{\"value\":\"#453681\"},\"marker\":{\"value\":\"diamond\"},\"size\":{\"value\":10},\"x\":{\"field\":\"TimeGenerated\"},\"y\":{\"field\":\"y_index\"}},\"id\":\"3220\",\"type\":\"Scatter\"},{\"attributes\":{\"fill_alpha\":{\"value\":0.2},\"fill_color\":{\"value\":\"#453681\"},\"hatch_alpha\":{\"value\":0.2},\"hatch_color\":{\"value\":\"#453681\"},\"line_alpha\":{\"value\":0.2},\"line_color\":{\"value\":\"#453681\"},\"marker\":{\"value\":\"diamond\"},\"size\":{\"value\":10},\"x\":{\"field\":\"TimeGenerated\"},\"y\":{\"field\":\"y_index\"}},\"id\":\"3221\",\"type\":\"Scatter\"},{\"attributes\":{\"coordinates\":null,\"data_source\":{\"id\":\"2988\"},\"glyph\":{\"id\":\"3268\"},\"group\":null,\"hover_glyph\":null,\"muted_glyph\":{\"id\":\"3270\"},\"nonselection_glyph\":{\"id\":\"3269\"},\"view\":{\"id\":\"3272\"}},\"id\":\"3271\",\"type\":\"GlyphRenderer\"},{\"attributes\":{\"coordinates\":null,\"data_source\":{\"id\":\"2981\"},\"glyph\":{\"id\":\"3219\"},\"group\":null,\"hover_glyph\":null,\"muted_glyph\":{\"id\":\"3221\"},\"nonselection_glyph\":{\"id\":\"3220\"},\"view\":{\"id\":\"3223\"}},\"id\":\"3222\",\"type\":\"GlyphRenderer\"},{\"attributes\":{\"fill_alpha\":{\"value\":0.1},\"fill_color\":{\"value\":\"#404387\"},\"hatch_alpha\":{\"value\":0.1},\"hatch_color\":{\"value\":\"#404387\"},\"line_alpha\":{\"value\":0.1},\"line_color\":{\"value\":\"#404387\"},\"marker\":{\"value\":\"diamond\"},\"size\":{\"value\":10},\"x\":{\"field\":\"TimeGenerated\"},\"y\":{\"field\":\"y_index\"}},\"id\":\"3227\",\"type\":\"Scatter\"},{\"attributes\":{\"label\":{\"value\":\"FileModified\"},\"renderers\":[{\"id\":\"3222\"}]},\"id\":\"3224\",\"type\":\"LegendItem\"},{\"attributes\":{\"source\":{\"id\":\"2981\"}},\"id\":\"3223\",\"type\":\"CDSView\"},{\"attributes\":{\"fill_alpha\":{\"value\":0.5},\"fill_color\":{\"value\":\"#404387\"},\"hatch_alpha\":{\"value\":0.5},\"hatch_color\":{\"value\":\"#404387\"},\"line_alpha\":{\"value\":0.5},\"line_color\":{\"value\":\"#404387\"},\"marker\":{\"value\":\"diamond\"},\"size\":{\"value\":10},\"x\":{\"field\":\"TimeGenerated\"},\"y\":{\"field\":\"y_index\"}},\"id\":\"3226\",\"type\":\"Scatter\"},{\"attributes\":{\"data\":{\"AppResourceProvider\":[\"OneDrive\",\"SharePoint\"],\"IPAddress\":[\"69.130.255.13\",\"69.130.255.13\"],\"Operation\":[\"CompanyLinkUsed\",\"CompanyLinkUsed\"],\"TimeGenerated\":{\"__ndarray__\":\"AADAJkCOeEIAAGsPnY54Qg==\",\"dtype\":\"float64\",\"order\":\"little\",\"shape\":[2]},\"index\":[125,323],\"y_index\":[1,1]},\"selected\":{\"id\":\"3358\"},\"selection_policy\":{\"id\":\"3357\"}},\"id\":\"2978\",\"type\":\"ColumnDataSource\"},{\"attributes\":{\"click_policy\":\"hide\",\"coordinates\":null,\"group\":null,\"items\":[{\"id\":\"3343\"},{\"id\":\"3336\"},{\"id\":\"3329\"},{\"id\":\"3322\"},{\"id\":\"3315\"},{\"id\":\"3308\"},{\"id\":\"3301\"},{\"id\":\"3294\"},{\"id\":\"3287\"},{\"id\":\"3280\"},{\"id\":\"3273\"},{\"id\":\"3266\"},{\"id\":\"3259\"},{\"id\":\"3252\"},{\"id\":\"3245\"},{\"id\":\"3238\"},{\"id\":\"3231\"},{\"id\":\"3224\"},{\"id\":\"3217\"},{\"id\":\"3210\"},{\"id\":\"3203\"},{\"id\":\"3196\"}],\"label_text_font_size\":\"8pt\",\"location\":\"center\"},\"id\":\"3344\",\"type\":\"Legend\"},{\"attributes\":{\"fill_alpha\":{\"value\":0.2},\"fill_color\":{\"value\":\"#404387\"},\"hatch_alpha\":{\"value\":0.2},\"hatch_color\":{\"value\":\"#404387\"},\"line_alpha\":{\"value\":0.2},\"line_color\":{\"value\":\"#404387\"},\"marker\":{\"value\":\"diamond\"},\"size\":{\"value\":10},\"x\":{\"field\":\"TimeGenerated\"},\"y\":{\"field\":\"y_index\"}},\"id\":\"3228\",\"type\":\"Scatter\"},{\"attributes\":{\"fill_alpha\":{\"value\":0.2},\"fill_color\":{\"value\":\"#26818E\"},\"hatch_alpha\":{\"value\":0.2},\"hatch_color\":{\"value\":\"#26818E\"},\"line_alpha\":{\"value\":0.2},\"line_color\":{\"value\":\"#26818E\"},\"marker\":{\"value\":\"diamond\"},\"size\":{\"value\":10},\"x\":{\"field\":\"TimeGenerated\"},\"y\":{\"field\":\"y_index\"}},\"id\":\"3270\",\"type\":\"Scatter\"},{\"attributes\":{\"coordinates\":null,\"data_source\":{\"id\":\"2982\"},\"glyph\":{\"id\":\"3226\"},\"group\":null,\"hover_glyph\":null,\"muted_glyph\":{\"id\":\"3228\"},\"nonselection_glyph\":{\"id\":\"3227\"},\"view\":{\"id\":\"3230\"}},\"id\":\"3229\",\"type\":\"GlyphRenderer\"},{\"attributes\":{\"data\":{\"AppResourceProvider\":[\"Exchange\",\"Exchange\",\"Exchange\",\"Exchange\",\"Exchange\",\"Exchange\",\"Exchange\",\"Exchange\",\"Exchange\",\"Exchange\",\"Exchange\",\"Exchange\",\"Exchange\",\"Exchange\",\"Exchange\",\"Exchange\",\"Exchange\",\"Exchange\",\"Exchange\",\"Exchange\",\"Exchange\",\"Exchange\",\"Exchange\",\"Exchange\",\"Exchange\",\"Exchange\"],\"IPAddress\":[\"69.130.255.13\",\"69.130.255.13\",\"69.130.255.13\",\"69.130.255.13\",\"69.130.255.13\",\"69.130.255.13\",\"69.130.255.13\",\"69.130.255.13\",\"69.130.255.13\",\"69.130.255.13\",\"69.130.255.13\",\"2603:10b6:208:481::10\",\"69.130.255.13\",\"69.130.255.13\",\"2603:10b6:208:481::10\",\"2603:10b6:208:481::10\",\"69.130.255.13\",\"69.130.255.13\",\"69.130.255.13\",\"69.130.255.13\",\"69.130.255.13\",\"69.130.255.13\",\"69.130.255.13\",\"69.130.255.13\",\"69.130.255.13\",\"69.130.255.13\"],\"Operation\":[\"Create\",\"Create\",\"Create\",\"Create\",\"Create\",\"Create\",\"Create\",\"Create\",\"Create\",\"Create\",\"Create\",\"Create\",\"Create\",\"Create\",\"Create\",\"Create\",\"Create\",\"Create\",\"Create\",\"Create\",\"Create\",\"Create\",\"Create\",\"Create\",\"Create\",\"Create\"],\"TimeGenerated\":{\"__ndarray__\":\"AIAfBPyNeEIAAJrCLo54QgAAmsIujnhCAIDYwi6OeEIAADjwMI54QgAAhOk2jnhCAAA8VDyOeEIAgJnsSI54QgAAABBJjnhCAAAJR0qOeEIAgKVbS454QgAA5XtXjnhCAACoF1iOeEIAgP0oWI54QgAAe8hbjnhCAIA+8WKOeEIAgN2WjI54QgAAHJeMjnhCAIDFmoyOeEIAAASbjI54QgAAPQWZjnhCAICeFJmOeEIAgEk3mY54QgAACsmZjnhCAIDkLJqOeEIAgIsUnY54Qg==\",\"dtype\":\"float64\",\"order\":\"little\",\"shape\":[26]},\"index\":[136,396,399,395,409,564,584,159,160,171,348,514,528,527,536,534,218,217,216,221,251,310,315,482,276,338],\"y_index\":[2,2,2,2,2,2,2,2,2,2,2,2,2,2,2,2,2,2,2,2,2,2,2,2,2,2]},\"selected\":{\"id\":\"3360\"},\"selection_policy\":{\"id\":\"3359\"}},\"id\":\"2979\",\"type\":\"ColumnDataSource\"},{\"attributes\":{\"fill_alpha\":{\"value\":0.5},\"fill_color\":{\"value\":\"#3C4E8A\"},\"hatch_alpha\":{\"value\":0.5},\"hatch_color\":{\"value\":\"#3C4E8A\"},\"line_alpha\":{\"value\":0.5},\"line_color\":{\"value\":\"#3C4E8A\"},\"marker\":{\"value\":\"diamond\"},\"size\":{\"value\":10},\"x\":{\"field\":\"TimeGenerated\"},\"y\":{\"field\":\"y_index\"}},\"id\":\"3233\",\"type\":\"Scatter\"},{\"attributes\":{\"label\":{\"value\":\"FilePreviewed\"},\"renderers\":[{\"id\":\"3229\"}]},\"id\":\"3231\",\"type\":\"LegendItem\"},{\"attributes\":{\"source\":{\"id\":\"2982\"}},\"id\":\"3230\",\"type\":\"CDSView\"},{\"attributes\":{\"fill_alpha\":{\"value\":0.1},\"fill_color\":{\"value\":\"#3C4E8A\"},\"hatch_alpha\":{\"value\":0.1},\"hatch_color\":{\"value\":\"#3C4E8A\"},\"line_alpha\":{\"value\":0.1},\"line_color\":{\"value\":\"#3C4E8A\"},\"marker\":{\"value\":\"diamond\"},\"size\":{\"value\":10},\"x\":{\"field\":\"TimeGenerated\"},\"y\":{\"field\":\"y_index\"}},\"id\":\"3234\",\"type\":\"Scatter\"},{\"attributes\":{\"fill_alpha\":{\"value\":0.5},\"fill_color\":{\"value\":\"#26818E\"},\"hatch_alpha\":{\"value\":0.5},\"hatch_color\":{\"value\":\"#26818E\"},\"line_alpha\":{\"value\":0.5},\"line_color\":{\"value\":\"#26818E\"},\"marker\":{\"value\":\"diamond\"},\"size\":{\"value\":10},\"x\":{\"field\":\"TimeGenerated\"},\"y\":{\"field\":\"y_index\"}},\"id\":\"3268\",\"type\":\"Scatter\"},{\"attributes\":{\"fill_alpha\":{\"value\":0.2},\"fill_color\":{\"value\":\"#3C4E8A\"},\"hatch_alpha\":{\"value\":0.2},\"hatch_color\":{\"value\":\"#3C4E8A\"},\"line_alpha\":{\"value\":0.2},\"line_color\":{\"value\":\"#3C4E8A\"},\"marker\":{\"value\":\"diamond\"},\"size\":{\"value\":10},\"x\":{\"field\":\"TimeGenerated\"},\"y\":{\"field\":\"y_index\"}},\"id\":\"3235\",\"type\":\"Scatter\"},{\"attributes\":{\"coordinates\":null,\"data_source\":{\"id\":\"2983\"},\"glyph\":{\"id\":\"3233\"},\"group\":null,\"hover_glyph\":null,\"muted_glyph\":{\"id\":\"3235\"},\"nonselection_glyph\":{\"id\":\"3234\"},\"view\":{\"id\":\"3237\"}},\"id\":\"3236\",\"type\":\"GlyphRenderer\"},{\"attributes\":{\"fill_alpha\":{\"value\":0.5},\"fill_color\":{\"value\":\"#37598C\"},\"hatch_alpha\":{\"value\":0.5},\"hatch_color\":{\"value\":\"#37598C\"},\"line_alpha\":{\"value\":0.5},\"line_color\":{\"value\":\"#37598C\"},\"marker\":{\"value\":\"diamond\"},\"size\":{\"value\":10},\"x\":{\"field\":\"TimeGenerated\"},\"y\":{\"field\":\"y_index\"}},\"id\":\"3240\",\"type\":\"Scatter\"},{\"attributes\":{\"label\":{\"value\":\"FileSyncDownloadedFull\"},\"renderers\":[{\"id\":\"3236\"}]},\"id\":\"3238\",\"type\":\"LegendItem\"},{\"attributes\":{\"source\":{\"id\":\"2983\"}},\"id\":\"3237\",\"type\":\"CDSView\"},{\"attributes\":{\"fill_color\":{\"value\":\"#440154\"},\"hatch_color\":{\"value\":\"#440154\"},\"line_color\":{\"value\":\"#440154\"},\"x\":{\"field\":\"TimeGenerated\"},\"y\":{\"field\":\"y_index\"}},\"id\":\"3052\",\"type\":\"Circle\"},{\"attributes\":{\"fill_color\":{\"value\":\"#481D6F\"},\"hatch_color\":{\"value\":\"#481D6F\"},\"line_color\":{\"value\":\"#481D6F\"},\"x\":{\"field\":\"TimeGenerated\"},\"y\":{\"field\":\"y_index\"}},\"id\":\"3064\",\"type\":\"Circle\"},{\"attributes\":{\"fill_alpha\":{\"value\":0.1},\"fill_color\":{\"value\":\"#37598C\"},\"hatch_alpha\":{\"value\":0.1},\"hatch_color\":{\"value\":\"#37598C\"},\"line_alpha\":{\"value\":0.1},\"line_color\":{\"value\":\"#37598C\"},\"marker\":{\"value\":\"diamond\"},\"size\":{\"value\":10},\"x\":{\"field\":\"TimeGenerated\"},\"y\":{\"field\":\"y_index\"}},\"id\":\"3241\",\"type\":\"Scatter\"},{\"attributes\":{\"fill_alpha\":{\"value\":0.2},\"fill_color\":{\"value\":\"#37598C\"},\"hatch_alpha\":{\"value\":0.2},\"hatch_color\":{\"value\":\"#37598C\"},\"line_alpha\":{\"value\":0.2},\"line_color\":{\"value\":\"#37598C\"},\"marker\":{\"value\":\"diamond\"},\"size\":{\"value\":10},\"x\":{\"field\":\"TimeGenerated\"},\"y\":{\"field\":\"y_index\"}},\"id\":\"3242\",\"type\":\"Scatter\"},{\"attributes\":{\"source\":{\"id\":\"2987\"}},\"id\":\"3265\",\"type\":\"CDSView\"},{\"attributes\":{\"coordinates\":null,\"data_source\":{\"id\":\"2984\"},\"glyph\":{\"id\":\"3240\"},\"group\":null,\"hover_glyph\":null,\"muted_glyph\":{\"id\":\"3242\"},\"nonselection_glyph\":{\"id\":\"3241\"},\"view\":{\"id\":\"3244\"}},\"id\":\"3243\",\"type\":\"GlyphRenderer\"},{\"attributes\":{\"data\":{\"AppResourceProvider\":[\"OneDrive\",\"SharePoint\"],\"IPAddress\":[\"69.130.255.13\",\"69.130.255.13\"],\"Operation\":[\"AddedToGroup\",\"AddedToGroup\"],\"TimeGenerated\":{\"__ndarray__\":\"AADAJkCOeEIAAGsPnY54Qg==\",\"dtype\":\"float64\",\"order\":\"little\",\"shape\":[2]},\"index\":[126,324],\"y_index\":[0,0]},\"selected\":{\"id\":\"3356\"},\"selection_policy\":{\"id\":\"3355\"}},\"id\":\"2977\",\"type\":\"ColumnDataSource\"},{\"attributes\":{\"fill_alpha\":{\"value\":0.1},\"fill_color\":{\"value\":\"#32638D\"},\"hatch_alpha\":{\"value\":0.1},\"hatch_color\":{\"value\":\"#32638D\"},\"line_alpha\":{\"value\":0.1},\"line_color\":{\"value\":\"#32638D\"},\"marker\":{\"value\":\"diamond\"},\"size\":{\"value\":10},\"x\":{\"field\":\"TimeGenerated\"},\"y\":{\"field\":\"y_index\"}},\"id\":\"3248\",\"type\":\"Scatter\"},{\"attributes\":{\"label\":{\"value\":\"FileSyncUploadedFull\"},\"renderers\":[{\"id\":\"3243\"}]},\"id\":\"3245\",\"type\":\"LegendItem\"},{\"attributes\":{\"source\":{\"id\":\"2984\"}},\"id\":\"3244\",\"type\":\"CDSView\"},{\"attributes\":{\"fill_alpha\":{\"value\":0.5},\"fill_color\":{\"value\":\"#32638D\"},\"hatch_alpha\":{\"value\":0.5},\"hatch_color\":{\"value\":\"#32638D\"},\"line_alpha\":{\"value\":0.5},\"line_color\":{\"value\":\"#32638D\"},\"marker\":{\"value\":\"diamond\"},\"size\":{\"value\":10},\"x\":{\"field\":\"TimeGenerated\"},\"y\":{\"field\":\"y_index\"}},\"id\":\"3247\",\"type\":\"Scatter\"},{\"attributes\":{\"coordinates\":null,\"data_source\":{\"id\":\"2987\"},\"glyph\":{\"id\":\"3261\"},\"group\":null,\"hover_glyph\":null,\"muted_glyph\":{\"id\":\"3263\"},\"nonselection_glyph\":{\"id\":\"3262\"},\"view\":{\"id\":\"3265\"}},\"id\":\"3264\",\"type\":\"GlyphRenderer\"},{\"attributes\":{\"fill_alpha\":{\"value\":0.2},\"fill_color\":{\"value\":\"#32638D\"},\"hatch_alpha\":{\"value\":0.2},\"hatch_color\":{\"value\":\"#32638D\"},\"line_alpha\":{\"value\":0.2},\"line_color\":{\"value\":\"#32638D\"},\"marker\":{\"value\":\"diamond\"},\"size\":{\"value\":10},\"x\":{\"field\":\"TimeGenerated\"},\"y\":{\"field\":\"y_index\"}},\"id\":\"3249\",\"type\":\"Scatter\"},{\"attributes\":{\"label\":{\"value\":\"MailItemsAccessed\"},\"renderers\":[{\"id\":\"3264\"}]},\"id\":\"3266\",\"type\":\"LegendItem\"},{\"attributes\":{\"fill_alpha\":{\"value\":0.1},\"fill_color\":{\"value\":\"#29788E\"},\"hatch_alpha\":{\"value\":0.1},\"hatch_color\":{\"value\":\"#29788E\"},\"line_alpha\":{\"value\":0.1},\"line_color\":{\"value\":\"#29788E\"},\"marker\":{\"value\":\"diamond\"},\"size\":{\"value\":10},\"x\":{\"field\":\"TimeGenerated\"},\"y\":{\"field\":\"y_index\"}},\"id\":\"3262\",\"type\":\"Scatter\"},{\"attributes\":{\"fill_alpha\":{\"value\":0.2},\"fill_color\":{\"value\":\"#29788E\"},\"hatch_alpha\":{\"value\":0.2},\"hatch_color\":{\"value\":\"#29788E\"},\"line_alpha\":{\"value\":0.2},\"line_color\":{\"value\":\"#29788E\"},\"marker\":{\"value\":\"diamond\"},\"size\":{\"value\":10},\"x\":{\"field\":\"TimeGenerated\"},\"y\":{\"field\":\"y_index\"}},\"id\":\"3263\",\"type\":\"Scatter\"},{\"attributes\":{\"data\":{\"AppResourceProvider\":[\"Exchange\",\"Exchange\",\"Exchange\",\"Exchange\",\"Exchange\",\"Exchange\",\"Exchange\",\"Exchange\",\"Exchange\",\"Exchange\",\"Exchange\",\"Exchange\",\"Exchange\",\"Exchange\",\"Exchange\",\"Exchange\",\"Exchange\",\"Exchange\",\"Exchange\",\"Exchange\",\"Exchange\",\"Exchange\",\"Exchange\",\"Exchange\",\"Exchange\",\"Exchange\",\"Exchange\",\"Exchange\",\"Exchange\",\"Exchange\",\"Exchange\",\"Exchange\",\"Exchange\",\"Exchange\",\"Exchange\",\"Exchange\",\"Exchange\",\"Exchange\",\"Exchange\",\"Exchange\",\"Exchange\",\"Exchange\",\"Exchange\",\"Exchange\",\"Exchange\",\"Exchange\",\"Exchange\",\"Exchange\",\"Exchange\",\"Exchange\",\"Exchange\",\"Exchange\",\"Exchange\",\"Exchange\",\"Exchange\",\"Exchange\",\"Exchange\",\"Exchange\",\"Exchange\",\"Exchange\",\"Exchange\",\"Exchange\",\"Exchange\",\"Exchange\",\"Exchange\",\"Exchange\",\"Exchange\",\"Exchange\",\"Exchange\",\"Exchange\",\"Exchange\",\"Exchange\",\"Exchange\",\"Exchange\",\"Exchange\",\"Exchange\",\"Exchange\",\"Exchange\",\"Exchange\",\"Exchange\",\"Exchange\",\"Exchange\",\"Exchange\",\"Exchange\",\"Exchange\",\"Exchange\",\"Exchange\",\"Exchange\",\"Exchange\",\"Exchange\",\"Exchange\",\"Exchange\",\"Exchange\",\"Exchange\",\"Exchange\",\"Exchange\",\"Exchange\",\"Exchange\",\"Exchange\",\"Exchange\",\"Exchange\",\"Exchange\",\"Exchange\",\"Exchange\",\"Exchange\",\"Exchange\",\"Exchange\",\"Exchange\",\"Exchange\",\"Exchange\",\"Exchange\",\"Exchange\",\"Exchange\",\"Exchange\",\"Exchange\",\"Exchange\",\"Exchange\",\"Exchange\",\"Exchange\",\"Exchange\",\"Exchange\",\"Exchange\",\"Exchange\",\"Exchange\",\"Exchange\",\"Exchange\",\"Exchange\",\"Exchange\",\"Exchange\",\"Exchange\",\"Exchange\",\"Exchange\",\"Exchange\",\"Exchange\",\"Exchange\",\"Exchange\",\"Exchange\",\"Exchange\",\"Exchange\",\"Exchange\",\"Exchange\",\"Exchange\",\"Exchange\",\"Exchange\",\"Exchange\",\"Exchange\",\"Exchange\",\"Exchange\",\"Exchange\",\"Exchange\",\"Exchange\",\"Exchange\",\"Exchange\",\"Exchange\",\"Exchange\",\"Exchange\",\"Exchange\",\"Exchange\",\"Exchange\",\"Exchange\",\"Exchange\",\"Exchange\",\"Exchange\",\"Exchange\",\"Exchange\",\"Exchange\",\"Exchange\",\"Exchange\",\"Exchange\",\"Exchange\",\"Exchange\",\"Exchange\",\"Exchange\",\"Exchange\",\"Exchange\",\"Exchange\",\"Exchange\",\"Exchange\",\"Exchange\",\"Exchange\",\"Exchange\",\"Exchange\",\"Exchange\",\"Exchange\",\"Exchange\",\"Exchange\",\"Exchange\",\"Exchange\",\"Exchange\",\"Exchange\",\"Exchange\",\"Exchange\",\"Exchange\",\"Exchange\",\"Exchange\",\"Exchange\",\"Exchange\",\"Exchange\",\"Exchange\",\"Exchange\",\"Exchange\",\"Exchange\",\"Exchange\",\"Exchange\",\"Exchange\",\"Exchange\",\"Exchange\",\"Exchange\",\"Exchange\",\"Exchange\",\"Exchange\",\"Exchange\",\"Exchange\",\"Exchange\",\"Exchange\",\"Exchange\",\"Exchange\",\"Exchange\",\"Exchange\",\"Exchange\",\"Exchange\",\"Exchange\",\"Exchange\",\"Exchange\",\"Exchange\",\"Exchange\",\"Exchange\",\"Exchange\",\"Exchange\",\"Exchange\",\"Exchange\",\"Exchange\",\"Exchange\",\"Exchange\",\"Exchange\",\"Exchange\",\"Exchange\",\"Exchange\",\"Exchange\",\"Exchange\",\"Exchange\",\"Exchange\",\"Exchange\",\"Exchange\",\"Exchange\",\"Exchange\",\"Exchange\",\"Exchange\",\"Exchange\",\"Exchange\",\"Exchange\",\"Exchange\",\"Exchange\",\"Exchange\",\"Exchange\",\"Exchange\",\"Exchange\",\"Exchange\",\"Exchange\",\"Exchange\",\"Exchange\",\"Exchange\",\"Exchange\",\"Exchange\",\"Exchange\",\"Exchange\",\"Exchange\",\"Exchange\",\"Exchange\",\"Exchange\",\"Exchange\",\"Exchange\",\"Exchange\",\"Exchange\",\"Exchange\",\"Exchange\",\"Exchange\",\"Exchange\",\"Exchange\",\"Exchange\",\"Exchange\",\"Exchange\",\"Exchange\",\"Exchange\",\"Exchange\",\"Exchange\",\"Exchange\",\"Exchange\",\"Exchange\",\"Exchange\",\"Exchange\",\"Exchange\",\"Exchange\",\"Exchange\",\"Exchange\",\"Exchange\",\"Exchange\",\"Exchange\",\"Exchange\",\"Exchange\",\"Exchange\",\"Exchange\",\"Exchange\",\"Exchange\",\"Exchange\",\"Exchange\",\"Exchange\",\"Exchange\",\"Exchange\",\"Exchange\",\"Exchange\",\"Exchange\",\"Exchange\",\"Exchange\",\"Exchange\",\"Exchange\",\"Exchange\",\"Exchange\",\"Exchange\",\"Exchange\",\"Exchange\",\"Exchange\",\"Exchange\",\"Exchange\",\"Exchange\",\"Exchange\",\"Exchange\",\"Exchange\",\"Exchange\",\"Exchange\",\"Exchange\",\"Exchange\",\"Exchange\",\"Exchange\",\"Exchange\",\"Exchange\",\"Exchange\",\"Exchange\",\"Exchange\",\"Exchange\",\"Exchange\",\"Exchange\",\"Exchange\",\"Exchange\",\"Exchange\",\"Exchange\",\"Exchange\",\"Exchange\",\"Exchange\",\"Exchange\",\"Exchange\",\"Exchange\",\"Exchange\",\"Exchange\",\"Exchange\",\"Exchange\",\"Exchange\",\"Exchange\",\"Exchange\",\"Exchange\",\"Exchange\",\"Exchange\",\"Exchange\",\"Exchange\",\"Exchange\",\"Exchange\",\"Exchange\",\"Exchange\",\"Exchange\",\"Exchange\",\"Exchange\",\"Exchange\",\"Exchange\",\"Exchange\",\"Exchange\",\"Exchange\",\"Exchange\",\"Exchange\",\"Exchange\",\"Exchange\",\"Exchange\",\"Exchange\",\"Exchange\",\"Exchange\",\"Exchange\",\"Exchange\",\"Exchange\",\"Exchange\",\"Exchange\",\"Exchange\",\"Exchange\",\"Exchange\",\"Exchange\",\"Exchange\",\"Exchange\",\"Exchange\",\"Exchange\",\"Exchange\",\"Exchange\",\"Exchange\",\"Exchange\",\"Exchange\",\"Exchange\",\"Exchange\",\"Exchange\",\"Exchange\",\"Exchange\",\"Exchange\",\"Exchange\",\"Exchange\"],\"IPAddress\":[\"69.130.255.13\",\"20.190.157.27\",\"69.130.255.13\",\"69.130.255.13\",\"69.130.255.13\",\"69.130.255.13\",\"69.130.255.13\",\"2603:10b6:208:481::10\",\"69.130.255.13\",\"2603:10b6:208:3da::13\",\"69.130.255.13\",\"20.190.157.96\",\"69.130.255.13\",\"69.130.255.13\",\"69.130.255.13\",\"69.130.255.13\",\"69.130.255.13\",\"2600:387:c:5516::3\",\"2603:10b6:208:481::10\",\"20.190.157.160\",\"20.190.157.30\",\"20.190.157.30\",\"69.130.255.13\",\"20.190.157.30\",\"20.190.157.97\",\"20.190.157.97\",\"69.130.255.13\",\"69.130.255.13\",\"20.190.157.30\",\"69.130.255.13\",\"20.190.157.30\",\"69.130.255.13\",\"69.130.255.13\",\"40.126.29.96\",\"20.190.157.96\",\"20.190.157.30\",\"69.130.255.13\",\"69.130.255.13\",\"20.190.157.27\",\"69.130.255.13\",\"2603:10b6:208:48c::19\",\"2603:10b6:208:48c::19\",\"2603:10b6:208:48c::19\",\"2603:10b6:208:48c::19\",\"2603:10b6:208:48c::19\",\"2603:10b6:208:48c::19\",\"2603:10b6:208:48c::19\",\"2603:10b6:208:48c::19\",\"2603:10b6:208:48c::19\",\"2603:10b6:208:48c::19\",\"2603:10b6:208:48c::19\",\"20.190.157.160\",\"69.130.255.13\",\"20.190.157.97\",\"69.130.255.13\",\"20.190.157.27\",\"69.130.255.13\",\"20.190.157.30\",\"69.130.255.13\",\"69.130.255.13\",\"20.190.157.30\",\"69.130.255.13\",\"69.130.255.13\",\"69.130.255.13\",\"69.130.255.13\",\"69.130.255.13\",\"69.130.255.13\",\"69.130.255.13\",\"69.130.255.13\",\"69.130.255.13\",\"69.130.255.13\",\"69.130.255.13\",\"69.130.255.13\",\"69.130.255.13\",\"69.130.255.13\",\"69.130.255.13\",\"69.130.255.13\",\"69.130.255.13\",\"69.130.255.13\",\"69.130.255.13\",\"69.130.255.13\",\"69.130.255.13\",\"69.130.255.13\",\"69.130.255.13\",\"69.130.255.13\",\"69.130.255.13\",\"69.130.255.13\",\"20.190.157.30\",\"69.130.255.13\",\"69.130.255.13\",\"69.130.255.13\",\"2600:387:c:5516::3\",\"2600:387:c:5516::3\",\"69.130.255.13\",\"69.130.255.13\",\"69.130.255.13\",\"20.190.157.30\",\"69.130.255.13\",\"69.130.255.13\",\"2603:10b6:208:23d::15\",\"69.130.255.13\",\"20.190.157.27\",\"20.190.157.96\",\"69.130.255.13\",\"20.190.157.97\",\"69.130.255.13\",\"69.130.255.13\",\"69.130.255.13\",\"69.130.255.13\",\"69.130.255.13\",\"69.130.255.13\",\"69.130.255.13\",\"69.130.255.13\",\"2603:10b6:208:3da::13\",\"69.130.255.13\",\"69.130.255.13\",\"20.190.157.96\",\"69.130.255.13\",\"69.130.255.13\",\"69.130.255.13\",\"69.130.255.13\",\"69.130.255.13\",\"20.190.157.160\",\"69.130.255.13\",\"69.130.255.13\",\"40.126.29.96\",\"20.190.157.160\",\"69.130.255.13\",\"40.126.29.96\",\"69.130.255.13\",\"69.130.255.13\",\"20.190.157.96\",\"69.130.255.13\",\"2603:10b6:208:481::10\",\"69.130.255.13\",\"69.130.255.13\",\"69.130.255.13\",\"69.130.255.13\",\"2603:10b6:208:3da::13\",\"69.130.255.13\",\"69.130.255.13\",\"20.190.157.27\",\"2603:10b6:208:3da::13\",\"40.126.29.96\",\"69.130.255.13\",\"69.130.255.13\",\"69.130.255.13\",\"20.190.157.27\",\"40.126.29.96\",\"69.130.255.13\",\"20.190.157.97\",\"69.130.255.13\",\"20.190.157.27\",\"69.130.255.13\",\"69.130.255.13\",\"69.130.255.13\",\"69.130.255.13\",\"69.130.255.13\",\"2603:10b6:208:3da::13\",\"69.130.255.13\",\"20.190.157.97\",\"69.130.255.13\",\"2603:10b6:208:3da::13\",\"20.190.157.27\",\"69.130.255.13\",\"69.130.255.13\",\"20.190.157.30\",\"69.130.255.13\",\"69.130.255.13\",\"69.130.255.13\",\"69.130.255.13\",\"69.130.255.13\",\"20.190.157.97\",\"69.130.255.13\",\"69.130.255.13\",\"69.130.255.13\",\"20.190.157.30\",\"69.130.255.13\",\"69.130.255.13\",\"20.190.157.96\",\"69.130.255.13\",\"69.130.255.13\",\"69.130.255.13\",\"69.130.255.13\",\"69.130.255.13\",\"69.130.255.13\",\"69.130.255.13\",\"2603:10b6:208:3da::13\",\"69.130.255.13\",\"40.126.29.96\",\"69.130.255.13\",\"69.130.255.13\",\"69.130.255.13\",\"69.130.255.13\",\"69.130.255.13\",\"69.130.255.13\",\"2603:10b6:208:3da::13\",\"2603:10b6:208:3da::13\",\"69.130.255.13\",\"20.190.157.30\",\"69.130.255.13\",\"69.130.255.13\",\"20.190.157.97\",\"69.130.255.13\",\"20.190.157.97\",\"69.130.255.13\",\"2603:10b6:208:3da::13\",\"69.130.255.13\",\"69.130.255.13\",\"2603:10b6:208:481::10\",\"69.130.255.13\",\"2603:10b6:208:3da::13\",\"69.130.255.13\",\"40.126.29.96\",\"69.130.255.13\",\"69.130.255.13\",\"69.130.255.13\",\"69.130.255.13\",\"69.130.255.13\",\"69.130.255.13\",\"2603:10b6:208:3da::13\",\"69.130.255.13\",\"40.126.29.96\",\"69.130.255.13\",\"69.130.255.13\",\"69.130.255.13\",\"40.126.29.96\",\"69.130.255.13\",\"69.130.255.13\",\"20.190.157.96\",\"69.130.255.13\",\"69.130.255.13\",\"69.130.255.13\",\"69.130.255.13\",\"2603:10b6:208:3da::13\",\"40.126.29.96\",\"69.130.255.13\",\"69.130.255.13\",\"69.130.255.13\",\"69.130.255.13\",\"69.130.255.13\",\"69.130.255.13\",\"69.130.255.13\",\"69.130.255.13\",\"69.130.255.13\",\"2603:10b6:208:481::10\",\"69.130.255.13\",\"69.130.255.13\",\"2603:10b6:208:3da::13\",\"69.130.255.13\",\"20.190.157.30\",\"2603:10b6:208:3da::13\",\"69.130.255.13\",\"69.130.255.13\",\"2603:10b6:208:3da::13\",\"20.190.157.160\",\"40.126.29.96\",\"69.130.255.13\",\"40.126.29.96\",\"20.190.157.160\",\"20.190.157.97\",\"69.130.255.13\",\"69.130.255.13\",\"40.126.29.96\",\"20.190.157.96\",\"69.130.255.13\",\"20.190.157.27\",\"20.190.157.96\",\"20.190.157.96\",\"20.190.157.96\",\"40.126.29.96\",\"69.130.255.13\",\"40.126.29.96\",\"2603:10b6:208:48a::21\",\"2603:10b6:208:48a::21\",\"2603:10b6:208:48a::21\",\"2603:10b6:208:48a::21\",\"2603:10b6:208:48a::21\",\"2603:10b6:208:48a::21\",\"2603:10b6:208:48a::21\",\"2603:10b6:208:48a::21\",\"2603:10b6:208:48a::21\",\"2603:10b6:208:48a::21\",\"2603:10b6:208:48a::21\",\"2603:10b6:208:48a::21\",\"40.126.29.96\",\"20.190.157.160\",\"20.190.157.160\",\"20.190.157.97\",\"69.130.255.13\",\"69.130.255.13\",\"20.190.157.96\",\"20.190.157.97\",\"69.130.255.13\",\"20.190.157.30\",\"20.190.157.30\",\"69.130.255.13\",\"69.130.255.13\",\"20.190.157.160\",\"20.190.157.30\",\"20.190.157.96\",\"2600:387:c:5516::3\",\"2600:387:c:5516::3\",\"20.190.157.27\",\"2600:387:c:5516::3\",\"2600:387:c:5516::3\",\"20.190.157.97\",\"144.92.154.82\",\"144.92.154.82\",\"2600:387:c:5516::3\",\"40.126.29.96\",\"2600:387:c:5516::3\",\"2600:387:c:5516::3\",\"20.190.157.97\",\"2600:387:c:5516::3\",\"2600:387:c:5516::3\",\"69.130.255.13\",\"69.130.255.13\",\"69.130.255.13\",\"69.130.255.13\",\"69.130.255.13\",\"69.130.255.13\",\"69.130.255.13\",\"69.130.255.13\",\"69.130.255.13\",\"69.130.255.13\",\"69.130.255.13\",\"69.130.255.13\",\"69.130.255.13\",\"69.130.255.13\",\"2603:10b6:208:3da::13\",\"20.190.157.96\",\"69.130.255.13\",\"20.190.157.97\",\"69.130.255.13\",\"69.130.255.13\",\"20.190.157.96\",\"69.130.255.13\",\"69.130.255.13\",\"69.130.255.13\",\"69.130.255.13\",\"69.130.255.13\",\"69.130.255.13\",\"69.130.255.13\",\"2603:10b6:208:481::10\",\"69.130.255.13\",\"40.126.29.96\",\"69.130.255.13\",\"69.130.255.13\",\"20.190.157.96\",\"20.190.157.97\",\"2603:10b6:208:3da::13\",\"20.190.157.30\",\"69.130.255.13\",\"69.130.255.13\",\"2603:10b6:208:3da::13\",\"20.190.157.97\",\"69.130.255.13\",\"20.190.157.27\",\"20.190.157.160\",\"69.130.255.13\",\"20.190.157.30\",\"20.190.157.96\",\"20.190.157.30\",\"40.126.29.96\",\"20.190.157.96\",\"69.130.255.13\",\"2603:10b6:208:481::10\",\"69.130.255.13\",\"69.130.255.13\",\"20.190.157.97\",\"40.126.29.96\",\"40.126.29.96\",\"20.190.157.97\",\"69.130.255.13\",\"2603:10b6:208:3da::13\",\"20.190.157.30\",\"69.130.255.13\",\"20.190.157.160\",\"69.130.255.13\",\"2603:10b6:208:3ac::10\",\"69.130.255.13\",\"40.126.29.96\",\"69.130.255.13\",\"69.130.255.13\",\"20.190.157.160\",\"69.130.255.13\",\"20.190.157.30\",\"69.130.255.13\",\"69.130.255.13\",\"20.190.157.97\",\"69.130.255.13\",\"69.130.255.13\",\"20.190.157.160\",\"69.130.255.13\",\"20.190.157.160\",\"69.130.255.13\",\"69.130.255.13\",\"69.130.255.13\",\"69.130.255.13\",\"69.130.255.13\",\"69.130.255.13\",\"69.130.255.13\",\"69.130.255.13\",\"2603:10b6:208:481::10\",\"69.130.255.13\",\"69.130.255.13\",\"2603:10b6:208:481::10\",\"69.130.255.13\",\"69.130.255.13\"],\"Operation\":[\"MailItemsAccessed\",\"MailItemsAccessed\",\"MailItemsAccessed\",\"MailItemsAccessed\",\"MailItemsAccessed\",\"MailItemsAccessed\",\"MailItemsAccessed\",\"MailItemsAccessed\",\"MailItemsAccessed\",\"MailItemsAccessed\",\"MailItemsAccessed\",\"MailItemsAccessed\",\"MailItemsAccessed\",\"MailItemsAccessed\",\"MailItemsAccessed\",\"MailItemsAccessed\",\"MailItemsAccessed\",\"MailItemsAccessed\",\"MailItemsAccessed\",\"MailItemsAccessed\",\"MailItemsAccessed\",\"MailItemsAccessed\",\"MailItemsAccessed\",\"MailItemsAccessed\",\"MailItemsAccessed\",\"MailItemsAccessed\",\"MailItemsAccessed\",\"MailItemsAccessed\",\"MailItemsAccessed\",\"MailItemsAccessed\",\"MailItemsAccessed\",\"MailItemsAccessed\",\"MailItemsAccessed\",\"MailItemsAccessed\",\"MailItemsAccessed\",\"MailItemsAccessed\",\"MailItemsAccessed\",\"MailItemsAccessed\",\"MailItemsAccessed\",\"MailItemsAccessed\",\"MailItemsAccessed\",\"MailItemsAccessed\",\"MailItemsAccessed\",\"MailItemsAccessed\",\"MailItemsAccessed\",\"MailItemsAccessed\",\"MailItemsAccessed\",\"MailItemsAccessed\",\"MailItemsAccessed\",\"MailItemsAccessed\",\"MailItemsAccessed\",\"MailItemsAccessed\",\"MailItemsAccessed\",\"MailItemsAccessed\",\"MailItemsAccessed\",\"MailItemsAccessed\",\"MailItemsAccessed\",\"MailItemsAccessed\",\"MailItemsAccessed\",\"MailItemsAccessed\",\"MailItemsAccessed\",\"MailItemsAccessed\",\"MailItemsAccessed\",\"MailItemsAccessed\",\"MailItemsAccessed\",\"MailItemsAccessed\",\"MailItemsAccessed\",\"MailItemsAccessed\",\"MailItemsAccessed\",\"MailItemsAccessed\",\"MailItemsAccessed\",\"MailItemsAccessed\",\"MailItemsAccessed\",\"MailItemsAccessed\",\"MailItemsAccessed\",\"MailItemsAccessed\",\"MailItemsAccessed\",\"MailItemsAccessed\",\"MailItemsAccessed\",\"MailItemsAccessed\",\"MailItemsAccessed\",\"MailItemsAccessed\",\"MailItemsAccessed\",\"MailItemsAccessed\",\"MailItemsAccessed\",\"MailItemsAccessed\",\"MailItemsAccessed\",\"MailItemsAccessed\",\"MailItemsAccessed\",\"MailItemsAccessed\",\"MailItemsAccessed\",\"MailItemsAccessed\",\"MailItemsAccessed\",\"MailItemsAccessed\",\"MailItemsAccessed\",\"MailItemsAccessed\",\"MailItemsAccessed\",\"MailItemsAccessed\",\"MailItemsAccessed\",\"MailItemsAccessed\",\"MailItemsAccessed\",\"MailItemsAccessed\",\"MailItemsAccessed\",\"MailItemsAccessed\",\"MailItemsAccessed\",\"MailItemsAccessed\",\"MailItemsAccessed\",\"MailItemsAccessed\",\"MailItemsAccessed\",\"MailItemsAccessed\",\"MailItemsAccessed\",\"MailItemsAccessed\",\"MailItemsAccessed\",\"MailItemsAccessed\",\"MailItemsAccessed\",\"MailItemsAccessed\",\"MailItemsAccessed\",\"MailItemsAccessed\",\"MailItemsAccessed\",\"MailItemsAccessed\",\"MailItemsAccessed\",\"MailItemsAccessed\",\"MailItemsAccessed\",\"MailItemsAccessed\",\"MailItemsAccessed\",\"MailItemsAccessed\",\"MailItemsAccessed\",\"MailItemsAccessed\",\"MailItemsAccessed\",\"MailItemsAccessed\",\"MailItemsAccessed\",\"MailItemsAccessed\",\"MailItemsAccessed\",\"MailItemsAccessed\",\"MailItemsAccessed\",\"MailItemsAccessed\",\"MailItemsAccessed\",\"MailItemsAccessed\",\"MailItemsAccessed\",\"MailItemsAccessed\",\"MailItemsAccessed\",\"MailItemsAccessed\",\"MailItemsAccessed\",\"MailItemsAccessed\",\"MailItemsAccessed\",\"MailItemsAccessed\",\"MailItemsAccessed\",\"MailItemsAccessed\",\"MailItemsAccessed\",\"MailItemsAccessed\",\"MailItemsAccessed\",\"MailItemsAccessed\",\"MailItemsAccessed\",\"MailItemsAccessed\",\"MailItemsAccessed\",\"MailItemsAccessed\",\"MailItemsAccessed\",\"MailItemsAccessed\",\"MailItemsAccessed\",\"MailItemsAccessed\",\"MailItemsAccessed\",\"MailItemsAccessed\",\"MailItemsAccessed\",\"MailItemsAccessed\",\"MailItemsAccessed\",\"MailItemsAccessed\",\"MailItemsAccessed\",\"MailItemsAccessed\",\"MailItemsAccessed\",\"MailItemsAccessed\",\"MailItemsAccessed\",\"MailItemsAccessed\",\"MailItemsAccessed\",\"MailItemsAccessed\",\"MailItemsAccessed\",\"MailItemsAccessed\",\"MailItemsAccessed\",\"MailItemsAccessed\",\"MailItemsAccessed\",\"MailItemsAccessed\",\"MailItemsAccessed\",\"MailItemsAccessed\",\"MailItemsAccessed\",\"MailItemsAccessed\",\"MailItemsAccessed\",\"MailItemsAccessed\",\"MailItemsAccessed\",\"MailItemsAccessed\",\"MailItemsAccessed\",\"MailItemsAccessed\",\"MailItemsAccessed\",\"MailItemsAccessed\",\"MailItemsAccessed\",\"MailItemsAccessed\",\"MailItemsAccessed\",\"MailItemsAccessed\",\"MailItemsAccessed\",\"MailItemsAccessed\",\"MailItemsAccessed\",\"MailItemsAccessed\",\"MailItemsAccessed\",\"MailItemsAccessed\",\"MailItemsAccessed\",\"MailItemsAccessed\",\"MailItemsAccessed\",\"MailItemsAccessed\",\"MailItemsAccessed\",\"MailItemsAccessed\",\"MailItemsAccessed\",\"MailItemsAccessed\",\"MailItemsAccessed\",\"MailItemsAccessed\",\"MailItemsAccessed\",\"MailItemsAccessed\",\"MailItemsAccessed\",\"MailItemsAccessed\",\"MailItemsAccessed\",\"MailItemsAccessed\",\"MailItemsAccessed\",\"MailItemsAccessed\",\"MailItemsAccessed\",\"MailItemsAccessed\",\"MailItemsAccessed\",\"MailItemsAccessed\",\"MailItemsAccessed\",\"MailItemsAccessed\",\"MailItemsAccessed\",\"MailItemsAccessed\",\"MailItemsAccessed\",\"MailItemsAccessed\",\"MailItemsAccessed\",\"MailItemsAccessed\",\"MailItemsAccessed\",\"MailItemsAccessed\",\"MailItemsAccessed\",\"MailItemsAccessed\",\"MailItemsAccessed\",\"MailItemsAccessed\",\"MailItemsAccessed\",\"MailItemsAccessed\",\"MailItemsAccessed\",\"MailItemsAccessed\",\"MailItemsAccessed\",\"MailItemsAccessed\",\"MailItemsAccessed\",\"MailItemsAccessed\",\"MailItemsAccessed\",\"MailItemsAccessed\",\"MailItemsAccessed\",\"MailItemsAccessed\",\"MailItemsAccessed\",\"MailItemsAccessed\",\"MailItemsAccessed\",\"MailItemsAccessed\",\"MailItemsAccessed\",\"MailItemsAccessed\",\"MailItemsAccessed\",\"MailItemsAccessed\",\"MailItemsAccessed\",\"MailItemsAccessed\",\"MailItemsAccessed\",\"MailItemsAccessed\",\"MailItemsAccessed\",\"MailItemsAccessed\",\"MailItemsAccessed\",\"MailItemsAccessed\",\"MailItemsAccessed\",\"MailItemsAccessed\",\"MailItemsAccessed\",\"MailItemsAccessed\",\"MailItemsAccessed\",\"MailItemsAccessed\",\"MailItemsAccessed\",\"MailItemsAccessed\",\"MailItemsAccessed\",\"MailItemsAccessed\",\"MailItemsAccessed\",\"MailItemsAccessed\",\"MailItemsAccessed\",\"MailItemsAccessed\",\"MailItemsAccessed\",\"MailItemsAccessed\",\"MailItemsAccessed\",\"MailItemsAccessed\",\"MailItemsAccessed\",\"MailItemsAccessed\",\"MailItemsAccessed\",\"MailItemsAccessed\",\"MailItemsAccessed\",\"MailItemsAccessed\",\"MailItemsAccessed\",\"MailItemsAccessed\",\"MailItemsAccessed\",\"MailItemsAccessed\",\"MailItemsAccessed\",\"MailItemsAccessed\",\"MailItemsAccessed\",\"MailItemsAccessed\",\"MailItemsAccessed\",\"MailItemsAccessed\",\"MailItemsAccessed\",\"MailItemsAccessed\",\"MailItemsAccessed\",\"MailItemsAccessed\",\"MailItemsAccessed\",\"MailItemsAccessed\",\"MailItemsAccessed\",\"MailItemsAccessed\",\"MailItemsAccessed\",\"MailItemsAccessed\",\"MailItemsAccessed\",\"MailItemsAccessed\",\"MailItemsAccessed\",\"MailItemsAccessed\",\"MailItemsAccessed\",\"MailItemsAccessed\",\"MailItemsAccessed\",\"MailItemsAccessed\",\"MailItemsAccessed\",\"MailItemsAccessed\",\"MailItemsAccessed\",\"MailItemsAccessed\",\"MailItemsAccessed\",\"MailItemsAccessed\",\"MailItemsAccessed\",\"MailItemsAccessed\",\"MailItemsAccessed\",\"MailItemsAccessed\",\"MailItemsAccessed\",\"MailItemsAccessed\",\"MailItemsAccessed\",\"MailItemsAccessed\",\"MailItemsAccessed\",\"MailItemsAccessed\",\"MailItemsAccessed\",\"MailItemsAccessed\",\"MailItemsAccessed\",\"MailItemsAccessed\",\"MailItemsAccessed\",\"MailItemsAccessed\",\"MailItemsAccessed\",\"MailItemsAccessed\",\"MailItemsAccessed\",\"MailItemsAccessed\",\"MailItemsAccessed\",\"MailItemsAccessed\",\"MailItemsAccessed\",\"MailItemsAccessed\",\"MailItemsAccessed\",\"MailItemsAccessed\",\"MailItemsAccessed\",\"MailItemsAccessed\",\"MailItemsAccessed\",\"MailItemsAccessed\",\"MailItemsAccessed\",\"MailItemsAccessed\",\"MailItemsAccessed\",\"MailItemsAccessed\",\"MailItemsAccessed\",\"MailItemsAccessed\",\"MailItemsAccessed\",\"MailItemsAccessed\",\"MailItemsAccessed\",\"MailItemsAccessed\",\"MailItemsAccessed\",\"MailItemsAccessed\",\"MailItemsAccessed\",\"MailItemsAccessed\",\"MailItemsAccessed\",\"MailItemsAccessed\",\"MailItemsAccessed\",\"MailItemsAccessed\",\"MailItemsAccessed\",\"MailItemsAccessed\",\"MailItemsAccessed\",\"MailItemsAccessed\",\"MailItemsAccessed\",\"MailItemsAccessed\",\"MailItemsAccessed\",\"MailItemsAccessed\",\"MailItemsAccessed\",\"MailItemsAccessed\",\"MailItemsAccessed\",\"MailItemsAccessed\",\"MailItemsAccessed\",\"MailItemsAccessed\",\"MailItemsAccessed\",\"MailItemsAccessed\",\"MailItemsAccessed\",\"MailItemsAccessed\",\"MailItemsAccessed\",\"MailItemsAccessed\",\"MailItemsAccessed\",\"MailItemsAccessed\",\"MailItemsAccessed\",\"MailItemsAccessed\",\"MailItemsAccessed\",\"MailItemsAccessed\",\"MailItemsAccessed\",\"MailItemsAccessed\",\"MailItemsAccessed\",\"MailItemsAccessed\",\"MailItemsAccessed\",\"MailItemsAccessed\",\"MailItemsAccessed\",\"MailItemsAccessed\",\"MailItemsAccessed\",\"MailItemsAccessed\",\"MailItemsAccessed\",\"MailItemsAccessed\"],\"TimeGenerated\":{\"__ndarray__\":\"AIDr7vmNeEIAgGjv+Y14QgAAwMr7jXhCAADAyvuNeEIAAMDK+414QgCAnAT8jXhCAIBNJvyNeEIAAIwm/I14QgAA4YD8jXhCAIB8sPyNeEIAgHCy/I14QgCAUF79jXhCAACxgv2NeEIAALGC/Y14QgAAsYL9jXhCAAAWh/2NeEIAgFBY/o14QgCAJl/+jXhCAIAUYv6NeEIAAHfNAI54QgCAnTwEjnhCAADmWAaOeEIAAGNZBo54QgCADMgJjnhCAAAzNw2OeEIAgBbYDY54QgCAENkNjnhCAADM2Q2OeEIAAPy/EI54QgCAt8AQjnhCAADBMRGOeEIAgP8xEY54QgAAzawRjnhCAIDnoBSOeEIAgM8PGI54QgAA9n4bjnhCAAAnXByOeEIAACdcHI54QgCA2KUejnhCAACUph6OeEIAgH4xH454QgCAfjEfjnhCAIB+MR+OeEIAgH4xH454QgCAfjEfjnhCAIB+MR+OeEIAgH4xH454QgCAfjEfjnhCAIB+MR+OeEIAgH4xH454QgCAfjEfjnhCAAD/FCKOeEIAAIa6Io54QgCAJYQljnhCAABupiaOeEIAAG6mJo54QgCAgFQnjnhCAABWFSqOeEIAgJMqKo54QgAAYoQsjnhCAAA+hC2OeEIAgMewLo54QgCAx7AujnhCAAC+vC6OeEIAAL68Lo54QgAAvrwujnhCAIBtvy6OeEIAgN7BLo54QgAAHcIujnhCAIBbwi6OeEIAgFvCLo54QgCAW8IujnhCAIDYwi6OeEIAgNjCLo54QgCA2MIujnhCAAAXwy6OeEIAABfDLo54QgAAF8MujnhCAAAXwy6OeEIAABfDLo54QgCAVcMujnhCAACUwy6OeEIAgNLDLo54QgAAEcQujnhCAACr1C6OeEIAACjVLo54QgAAKNUujnhCAIDi5C+OeEIAACHlL454QgCAfO8wjnhCAADoJjGOeEIAAGS5MY54QgAAaF8yjnhCAIBzHTSOeEIAgHMdNI54QgCAcx00jnhCAAAXnzSOeEIAgFWfNI54QgAAC6E0jnhCAACaGzWOeEIAgNgbNY54QgAAFxw1jnhCAAC8tjaOeEIAgHe3No54QgCA6Lk2jnhCAAAbvDaOeEIAAHnWNo54QgAAedY2jnhCAAB51jaOeEIAAITpNo54QgAAF403jnhCAAAXjTeOeEIAABeNN454QgAA+ZE3jnhCAIAt5zeOeEIAAFTrN454QgAAaaM4jnhCAIChpDiOeEIAgJulOI54QgAAxec4jnhCAIDS/jmOeEIAAI7/OY54QgAAjv85jnhCAIArBTqOeEIAALwhOo54QgCA+iE6jnhCAID+SjqOeEIAAD1LOo54QgCAnW86jnhCAADcbzqOeEIAgGCOOo54QgCAVJA6jnhCAADmlzqOeEIAgCSYOo54QgCABMc6jnhCAIC6/DqOeEIAgLr8Oo54QgCAuvw6jnhCAICKBDuOeEIAgAcFO454QgAAl7M7jnhCAACLtTuOeEIAgG7ZO454QgAATlE8jnhCAAAMXDyOeEIAgJz1PI54QgAA1fY8jnhCAIAT9zyOeEIAAFL3PI54QgAAUvc8jnhCAIAvmT2OeEIAAG6ZPY54QgAAVbI9jnhCAIAQsz2OeEIAgGm5PY54QgCAnGw+jnhCAICcbD6OeEIAgJxsPo54QgAACno+jnhCAIBCez6OeEIAgDx8Po54QgAAhZ4/jnhCAACEMECOeEIAgHYNQY54QgAAtQ1BjnhCAACZZUGOeEIAgMtnQY54QgCAoW5BjnhCAIB+3EGOeEIAgH7cQY54QgCAftxBjnhCAIBszUSOeEIAAKvNRI54QgCA40tFjnhCAIDjS0WOeEIAgONLRY54QgCAEllFjnhCAADOWUWOeEIAgABcRY54QgAAqllGjnhCAIBlWkaOeEIAAGWjRo54QgCAHPJHjnhCAADhrEiOeEIAgMW7SI54QgCAxbtIjnhCAIDFu0iOeEIAgHHJSI54QgAALcpIjnhCAICl6kiOeEIAgKXqSI54QgCAIutIjnhCAABD8EiOeEIAgNIhSY54QgCA0iFJjnhCAIBPIkmOeEIAgMYjSY54QgCAqKVJjnhCAIACFEqOeEIAgPYVSo54QgCAszVKjnhCAIDcQ0qOeEIAgNZESo54QgCA1kRKjnhCAADfTUqOeEIAAMxlSo54QgCAzYRKjnhCAAAdFEuOeEIAAI2oS454QgCAuatLjnhCAADyrEuOeEIAgK2tS454QgCAJK9LjnhCAIAGtEuOeEIAAEW0S454QgCAfbVLjnhCAIB9tUuOeEIAAGkrTI54QgAAaStMjnhCAABpK0yOeEIAAIA8TI54QgCAhBZNjnhCAIBrI0+OeEIAAEubT454QgAAS5tPjnhCAABLm0+OeEIAgGQtUY54QgAAIC5RjnhCAIBeLlGOeEIAgFIwUY54QgAADjFRjnhCAAAtC1OOeEIAAC0LU454QgAALQtTjnhCAAA+HVOOeEIAAHmfVI54QgCAg2xXjnhCAADCbFeOeEIAAMJsV454QgAA33xXjnhCAICafVeOeEIAgJp9V454QgAARIFXjnhCAADdpleOeEIAAID0V454QgAA/fRXjnhCAIA79VeOeEIAgLj1V454QgCAsvZXjnhCAADr91eOeEIAAGEOWI54QgAA6DZYjnhCAAApQViOeEIAAKBCWI54QgCAW0NYjnhCAICHfVuOeEIAgPwlXI54QgCAcydcjnhCAAAjlV+OeEIAAAsEY454QgAASyNjjnhCAABFJGOOeEIAgGhnY454QgCAaGdjjnhCAICnm2OOeEIAAOabY454QgAAzgpnjnhCAID0eWqOeEIAABvpbY54QgAAA1hxjnhCAABi2nGOeEIAAN/acY54QgCAiEl1jnhCAADQ/XaOeEIAAND9do54QgAA0P12jnhCAADQ/XaOeEIAAND9do54QgAA0P12jnhCAADQ/XaOeEIAAND9do54QgAA0P12jnhCAADQ/XaOeEIAAND9do54QgAA0P12jnhCAIBwuHiOeEIAAJcnfI54QgCAvZZ/jnhCAACjhIGOeEIAACCFgY54QgAAjrqDjnhCAIDGu4OOeEIAAP+8g454QgCAtaOEjnhCAIC1o4SOeEIAgKV2hY54QgAA5HaFjnhCAADB5IWOeEIAAMHkhY54QgAAPuWFjnhCAID55YWOeEIAgHDhho54QgCAcOGGjnhCAIAaGYeOeEIAgJcZh454QgCAFBqHjnhCAICyyoiOeEIAgC/LiI54QgAAsD2JjnhCAIB5iYqOeEIAACDMio54QgAAIMyKjnhCAABWOoyOeEIAACxBjI54QgCAakGMjnhCAIDnQYyOeEIAgAeQjI54QgCAB5CMjnhCAIAHkIyOeEIAgPWSjI54QgAAKJWMjnhCAIBmlYyOeEIAgGaVjI54QgCAZpWMjnhCAIDjlYyOeEIAgGCWjI54QgCAxZqMjnhCAIDFmoyOeEIAAASbjI54QgAAYrWMjnhCAAB2go2OeEIAgDYUjo54QgAAdRSOjnhCAAAp8Y6OeEIAAKbxjo54QgCAeeiPjnhCAAC46I+OeEIAgPMnkI54QgCAaqaQjnhCAIAyVpGOeEIAgDJWkY54QgCAMlaRjnhCAIAl6pGOeEIAgPHCko54QgAAMMOSjnhCAACeBJOOeEIAgEsxk454QgCAyDGTjnhCAIAbOZOOeEIAgJg5k454QgAAEVqTjnhCAAB6h5OOeEIAgLiBlI54QgCAuIGUjnhCAAAK55SOeEIAgD48lY54QgAA7j6VjnhCAIAsP5WOeEIAgJdClY54QgAAxEWVjnhCAIB/RpWOeEIAAPlRlY54QgCAMVOVjnhCAIAlVZWOeEIAAGRVlY54QgCAPGaVjnhCAIAjf5WOeEIAgKB/lY54QgCA24qVjnhCAIBYi5WOeEIAgM+MlY54QgCATI2VjnhCAACinpWOeEIAgAbslY54QgCAg+yVjnhCAAA3GJaOeEIAgCP2lo54QgAA2feWjnhCAABj1ZiOeEIAAFUBmY54QgAAVQGZjnhCAABPApmOeEIAAE8CmY54QgAAlguZjnhCAIBRDJmOeEIAgM4MmY54QgAA+w+ZjnhCAAD1EJmOeEIAAJo0mY54QgCA2DSZjnhCAAAXNZmOeEIAABzGmY54QgAAFseZjnhCAACd75mOeEIAAJ3vmY54QgAAsiqajnhCAIDwKpqOeEIAgG0rmo54QgAAbXSajnhCAIAQeZqOeEIAgBB5mo54QgCAEHmajnhCAAD6GJuOeEIAAHj4nI54QgCAtvicjnhCAABs+pyOeEIAgBX+nI54QgAABgudjnhCAICLFJ2OeEIAgAgVnY54Qg==\",\"dtype\":\"float64\",\"order\":\"little\",\"shape\":[410]},\"index\":[111,110,119,121,120,134,118,117,113,115,114,140,142,144,143,141,138,139,137,166,149,167,168,169,170,181,180,182,185,186,187,188,179,183,184,191,192,193,346,347,197,204,198,202,201,200,199,203,194,195,196,345,349,354,359,360,353,351,350,352,361,397,398,383,384,382,388,392,381,387,403,404,380,402,391,386,379,401,406,390,385,389,378,394,393,405,400,413,412,410,411,417,555,553,552,554,558,557,556,561,560,559,573,567,572,574,568,569,570,571,581,582,580,579,578,576,603,589,588,604,601,599,602,587,600,598,611,612,616,613,614,615,617,623,622,625,626,627,624,628,596,597,605,586,585,632,630,634,633,631,607,621,620,618,619,592,593,594,591,595,590,146,122,123,132,130,145,129,358,357,356,424,425,431,432,430,429,427,428,148,147,150,377,355,153,155,154,152,151,161,156,162,157,164,163,165,496,421,426,485,174,173,175,178,176,177,499,190,488,493,494,492,498,491,497,489,490,508,509,510,507,487,500,504,505,506,363,365,366,362,364,371,370,369,368,511,513,515,516,517,518,512,519,520,529,526,521,523,525,522,524,373,374,372,376,407,538,537,532,535,542,541,545,544,547,546,422,423,539,540,549,550,543,434,433,436,438,439,440,441,442,443,444,435,437,551,548,445,446,260,206,205,207,282,281,262,261,448,451,450,449,263,264,265,267,266,452,208,268,453,210,209,286,284,285,283,225,224,223,230,219,228,214,222,213,229,211,212,220,231,454,287,288,272,271,233,232,297,293,294,295,296,242,243,244,245,299,300,273,298,274,301,462,461,463,469,468,246,467,466,473,465,464,472,471,470,476,479,475,474,478,477,247,249,248,480,303,302,254,250,309,253,308,314,312,307,311,306,304,305,317,481,483,279,280,259,278,277,255,256,257,258,318,319,321,320,341,342,340,339],\"y_index\":[10,10,10,10,10,10,10,10,10,10,10,10,10,10,10,10,10,10,10,10,10,10,10,10,10,10,10,10,10,10,10,10,10,10,10,10,10,10,10,10,10,10,10,10,10,10,10,10,10,10,10,10,10,10,10,10,10,10,10,10,10,10,10,10,10,10,10,10,10,10,10,10,10,10,10,10,10,10,10,10,10,10,10,10,10,10,10,10,10,10,10,10,10,10,10,10,10,10,10,10,10,10,10,10,10,10,10,10,10,10,10,10,10,10,10,10,10,10,10,10,10,10,10,10,10,10,10,10,10,10,10,10,10,10,10,10,10,10,10,10,10,10,10,10,10,10,10,10,10,10,10,10,10,10,10,10,10,10,10,10,10,10,10,10,10,10,10,10,10,10,10,10,10,10,10,10,10,10,10,10,10,10,10,10,10,10,10,10,10,10,10,10,10,10,10,10,10,10,10,10,10,10,10,10,10,10,10,10,10,10,10,10,10,10,10,10,10,10,10,10,10,10,10,10,10,10,10,10,10,10,10,10,10,10,10,10,10,10,10,10,10,10,10,10,10,10,10,10,10,10,10,10,10,10,10,10,10,10,10,10,10,10,10,10,10,10,10,10,10,10,10,10,10,10,10,10,10,10,10,10,10,10,10,10,10,10,10,10,10,10,10,10,10,10,10,10,10,10,10,10,10,10,10,10,10,10,10,10,10,10,10,10,10,10,10,10,10,10,10,10,10,10,10,10,10,10,10,10,10,10,10,10,10,10,10,10,10,10,10,10,10,10,10,10,10,10,10,10,10,10,10,10,10,10,10,10,10,10,10,10,10,10,10,10,10,10,10,10,10,10,10,10,10,10,10,10,10,10,10,10,10,10,10,10,10,10,10,10,10,10,10,10,10,10,10,10,10,10,10,10,10,10,10,10,10,10,10,10,10,10]},\"selected\":{\"id\":\"3376\"},\"selection_policy\":{\"id\":\"3375\"}},\"id\":\"2987\",\"type\":\"ColumnDataSource\"},{\"attributes\":{\"fill_alpha\":{\"value\":0.1},\"fill_color\":{\"value\":\"#26818E\"},\"hatch_alpha\":{\"value\":0.1},\"hatch_color\":{\"value\":\"#26818E\"},\"line_alpha\":{\"value\":0.1},\"line_color\":{\"value\":\"#26818E\"},\"marker\":{\"value\":\"diamond\"},\"size\":{\"value\":10},\"x\":{\"field\":\"TimeGenerated\"},\"y\":{\"field\":\"y_index\"}},\"id\":\"3269\",\"type\":\"Scatter\"},{\"attributes\":{\"label\":{\"value\":\"MeetingDetail\"},\"renderers\":[{\"id\":\"3271\"}]},\"id\":\"3273\",\"type\":\"LegendItem\"},{\"attributes\":{\"source\":{\"id\":\"2988\"}},\"id\":\"3272\",\"type\":\"CDSView\"},{\"attributes\":{\"fill_alpha\":{\"value\":0.5},\"fill_color\":{\"value\":\"#228A8D\"},\"hatch_alpha\":{\"value\":0.5},\"hatch_color\":{\"value\":\"#228A8D\"},\"line_alpha\":{\"value\":0.5},\"line_color\":{\"value\":\"#228A8D\"},\"marker\":{\"value\":\"diamond\"},\"size\":{\"value\":10},\"x\":{\"field\":\"TimeGenerated\"},\"y\":{\"field\":\"y_index\"}},\"id\":\"3275\",\"type\":\"Scatter\"},{\"attributes\":{\"fill_alpha\":{\"value\":0.2},\"fill_color\":{\"value\":\"#228A8D\"},\"hatch_alpha\":{\"value\":0.2},\"hatch_color\":{\"value\":\"#228A8D\"},\"line_alpha\":{\"value\":0.2},\"line_color\":{\"value\":\"#228A8D\"},\"marker\":{\"value\":\"diamond\"},\"size\":{\"value\":10},\"x\":{\"field\":\"TimeGenerated\"},\"y\":{\"field\":\"y_index\"}},\"id\":\"3277\",\"type\":\"Scatter\"},{\"attributes\":{\"source\":{\"id\":\"2998\"}},\"id\":\"3342\",\"type\":\"CDSView\"},{\"attributes\":{\"coordinates\":null,\"data_source\":{\"id\":\"2989\"},\"glyph\":{\"id\":\"3275\"},\"group\":null,\"hover_glyph\":null,\"muted_glyph\":{\"id\":\"3277\"},\"nonselection_glyph\":{\"id\":\"3276\"},\"view\":{\"id\":\"3279\"}},\"id\":\"3278\",\"type\":\"GlyphRenderer\"},{\"attributes\":{\"fill_alpha\":{\"value\":0.1},\"fill_color\":{\"value\":\"#1F948B\"},\"hatch_alpha\":{\"value\":0.1},\"hatch_color\":{\"value\":\"#1F948B\"},\"line_alpha\":{\"value\":0.1},\"line_color\":{\"value\":\"#1F948B\"},\"marker\":{\"value\":\"diamond\"},\"size\":{\"value\":10},\"x\":{\"field\":\"TimeGenerated\"},\"y\":{\"field\":\"y_index\"}},\"id\":\"3283\",\"type\":\"Scatter\"},{\"attributes\":{\"label\":{\"value\":\"MeetingParticipantDetail\"},\"renderers\":[{\"id\":\"3278\"}]},\"id\":\"3280\",\"type\":\"LegendItem\"},{\"attributes\":{\"source\":{\"id\":\"2989\"}},\"id\":\"3279\",\"type\":\"CDSView\"},{\"attributes\":{\"fill_alpha\":{\"value\":0.5},\"fill_color\":{\"value\":\"#1F948B\"},\"hatch_alpha\":{\"value\":0.5},\"hatch_color\":{\"value\":\"#1F948B\"},\"line_alpha\":{\"value\":0.5},\"line_color\":{\"value\":\"#1F948B\"},\"marker\":{\"value\":\"diamond\"},\"size\":{\"value\":10},\"x\":{\"field\":\"TimeGenerated\"},\"y\":{\"field\":\"y_index\"}},\"id\":\"3282\",\"type\":\"Scatter\"},{\"attributes\":{\"fill_alpha\":{\"value\":0.2},\"fill_color\":{\"value\":\"#1F948B\"},\"hatch_alpha\":{\"value\":0.2},\"hatch_color\":{\"value\":\"#1F948B\"},\"line_alpha\":{\"value\":0.2},\"line_color\":{\"value\":\"#1F948B\"},\"marker\":{\"value\":\"diamond\"},\"size\":{\"value\":10},\"x\":{\"field\":\"TimeGenerated\"},\"y\":{\"field\":\"y_index\"}},\"id\":\"3284\",\"type\":\"Scatter\"},{\"attributes\":{\"coordinates\":null,\"data_source\":{\"id\":\"2990\"},\"glyph\":{\"id\":\"3282\"},\"group\":null,\"hover_glyph\":null,\"muted_glyph\":{\"id\":\"3284\"},\"nonselection_glyph\":{\"id\":\"3283\"},\"view\":{\"id\":\"3286\"}},\"id\":\"3285\",\"type\":\"GlyphRenderer\"},{\"attributes\":{\"fill_alpha\":{\"value\":0.1},\"fill_color\":{\"value\":\"#1E9D88\"},\"hatch_alpha\":{\"value\":0.1},\"hatch_color\":{\"value\":\"#1E9D88\"},\"line_alpha\":{\"value\":0.1},\"line_color\":{\"value\":\"#1E9D88\"},\"marker\":{\"value\":\"diamond\"},\"size\":{\"value\":10},\"x\":{\"field\":\"TimeGenerated\"},\"y\":{\"field\":\"y_index\"}},\"id\":\"3290\",\"type\":\"Scatter\"},{\"attributes\":{\"label\":{\"value\":\"MessageCreatedHasLink\"},\"renderers\":[{\"id\":\"3285\"}]},\"id\":\"3287\",\"type\":\"LegendItem\"},{\"attributes\":{\"source\":{\"id\":\"2990\"}},\"id\":\"3286\",\"type\":\"CDSView\"},{\"attributes\":{\"fill_alpha\":{\"value\":0.5},\"fill_color\":{\"value\":\"#1E9D88\"},\"hatch_alpha\":{\"value\":0.5},\"hatch_color\":{\"value\":\"#1E9D88\"},\"line_alpha\":{\"value\":0.5},\"line_color\":{\"value\":\"#1E9D88\"},\"marker\":{\"value\":\"diamond\"},\"size\":{\"value\":10},\"x\":{\"field\":\"TimeGenerated\"},\"y\":{\"field\":\"y_index\"}},\"id\":\"3289\",\"type\":\"Scatter\"},{\"attributes\":{\"callback\":null,\"tooltips\":[[\"AppResourceProvider\",\"@AppResourceProvider\"],[\"Operation\",\"@Operation\"],[\"TimeGenerated\",\"@TimeGenerated\"],[\"IPAddress\",\"@IPAddress\"]]},\"id\":\"2999\",\"type\":\"HoverTool\"},{\"attributes\":{\"fill_alpha\":{\"value\":0.2},\"fill_color\":{\"value\":\"#1E9D88\"},\"hatch_alpha\":{\"value\":0.2},\"hatch_color\":{\"value\":\"#1E9D88\"},\"line_alpha\":{\"value\":0.2},\"line_color\":{\"value\":\"#1E9D88\"},\"marker\":{\"value\":\"diamond\"},\"size\":{\"value\":10},\"x\":{\"field\":\"TimeGenerated\"},\"y\":{\"field\":\"y_index\"}},\"id\":\"3291\",\"type\":\"Scatter\"},{\"attributes\":{\"label\":{\"value\":\"Update\"},\"renderers\":[{\"id\":\"3341\"}]},\"id\":\"3343\",\"type\":\"LegendItem\"},{\"attributes\":{\"fill_alpha\":{\"value\":0.5},\"fill_color\":{\"value\":\"#22A784\"},\"hatch_alpha\":{\"value\":0.5},\"hatch_color\":{\"value\":\"#22A784\"},\"line_alpha\":{\"value\":0.5},\"line_color\":{\"value\":\"#22A784\"},\"marker\":{\"value\":\"diamond\"},\"size\":{\"value\":10},\"x\":{\"field\":\"TimeGenerated\"},\"y\":{\"field\":\"y_index\"}},\"id\":\"3296\",\"type\":\"Scatter\"},{\"attributes\":{\"source\":{\"id\":\"2991\"}},\"id\":\"3293\",\"type\":\"CDSView\"},{\"attributes\":{\"label\":{\"value\":\"MessageSent\"},\"renderers\":[{\"id\":\"3292\"}]},\"id\":\"3294\",\"type\":\"LegendItem\"},{\"attributes\":{\"coordinates\":null,\"data_source\":{\"id\":\"2991\"},\"glyph\":{\"id\":\"3289\"},\"group\":null,\"hover_glyph\":null,\"muted_glyph\":{\"id\":\"3291\"},\"nonselection_glyph\":{\"id\":\"3290\"},\"view\":{\"id\":\"3293\"}},\"id\":\"3292\",\"type\":\"GlyphRenderer\"},{\"attributes\":{\"fill_color\":{\"value\":\"#4BC26C\"},\"hatch_color\":{\"value\":\"#4BC26C\"},\"line_color\":{\"value\":\"#4BC26C\"},\"x\":{\"field\":\"TimeGenerated\"},\"y\":{\"field\":\"y_index\"}},\"id\":\"3160\",\"type\":\"Circle\"},{\"attributes\":{\"coordinates\":null,\"data_source\":{\"id\":\"2994\"},\"glyph\":{\"id\":\"3154\"},\"group\":null,\"hover_glyph\":null,\"muted_glyph\":{\"id\":\"3156\"},\"nonselection_glyph\":{\"id\":\"3155\"},\"view\":{\"id\":\"3158\"}},\"id\":\"3157\",\"type\":\"GlyphRenderer\"},{\"attributes\":{\"data\":{\"AppResourceProvider\":[\"Exchange\",\"Exchange\",\"Exchange\",\"Exchange\"],\"IPAddress\":[\"69.130.255.13\",\"69.130.255.13\",\"69.130.255.13\",\"69.130.255.13\"],\"Operation\":[\"Move\",\"Move\",\"Move\",\"Move\"],\"TimeGenerated\":{\"__ndarray__\":\"AABU6zeOeEIAgIBTPI54QgCAabk9jnhCAIChbkGOeEI=\",\"dtype\":\"float64\",\"order\":\"little\",\"shape\":[4]},\"index\":[577,608,606,131],\"y_index\":[15,15,15,15]},\"selected\":{\"id\":\"3386\"},\"selection_policy\":{\"id\":\"3385\"}},\"id\":\"2992\",\"type\":\"ColumnDataSource\"},{\"attributes\":{\"coordinates\":null,\"data_source\":{\"id\":\"2993\"},\"glyph\":{\"id\":\"3148\"},\"group\":null,\"hover_glyph\":null,\"muted_glyph\":{\"id\":\"3150\"},\"nonselection_glyph\":{\"id\":\"3149\"},\"view\":{\"id\":\"3152\"}},\"id\":\"3151\",\"type\":\"GlyphRenderer\"},{\"attributes\":{\"fill_alpha\":{\"value\":0.2},\"fill_color\":{\"value\":\"#2BB17D\"},\"hatch_alpha\":{\"value\":0.2},\"hatch_color\":{\"value\":\"#2BB17D\"},\"line_alpha\":{\"value\":0.2},\"line_color\":{\"value\":\"#2BB17D\"},\"x\":{\"field\":\"TimeGenerated\"},\"y\":{\"field\":\"y_index\"}},\"id\":\"3150\",\"type\":\"Circle\"},{\"attributes\":{\"below\":[{\"id\":\"3011\"}],\"center\":[{\"id\":\"3014\"},{\"id\":\"3018\"}],\"height\":550,\"left\":[{\"id\":\"3015\"},{\"id\":\"3344\"}],\"min_border_left\":50,\"renderers\":[{\"id\":\"3194\"},{\"id\":\"3201\"},{\"id\":\"3208\"},{\"id\":\"3215\"},{\"id\":\"3222\"},{\"id\":\"3229\"},{\"id\":\"3236\"},{\"id\":\"3243\"},{\"id\":\"3250\"},{\"id\":\"3257\"},{\"id\":\"3264\"},{\"id\":\"3271\"},{\"id\":\"3278\"},{\"id\":\"3285\"},{\"id\":\"3292\"},{\"id\":\"3299\"},{\"id\":\"3306\"},{\"id\":\"3313\"},{\"id\":\"3320\"},{\"id\":\"3327\"},{\"id\":\"3334\"},{\"id\":\"3341\"}],\"title\":{\"id\":\"3001\"},\"toolbar\":{\"id\":\"3025\"},\"width\":900,\"x_range\":{\"id\":\"3003\"},\"x_scale\":{\"id\":\"3007\"},\"y_range\":{\"id\":\"3005\"},\"y_scale\":{\"id\":\"3009\"}},\"id\":\"3000\",\"subtype\":\"Figure\",\"type\":\"Plot\"},{\"attributes\":{\"source\":{\"id\":\"2994\"}},\"id\":\"3158\",\"type\":\"CDSView\"},{\"attributes\":{\"fill_alpha\":{\"value\":0.2},\"fill_color\":{\"value\":\"#39B976\"},\"hatch_alpha\":{\"value\":0.2},\"hatch_color\":{\"value\":\"#39B976\"},\"line_alpha\":{\"value\":0.2},\"line_color\":{\"value\":\"#39B976\"},\"x\":{\"field\":\"TimeGenerated\"},\"y\":{\"field\":\"y_index\"}},\"id\":\"3156\",\"type\":\"Circle\"},{\"attributes\":{\"fill_color\":{\"value\":\"#39B976\"},\"hatch_color\":{\"value\":\"#39B976\"},\"line_color\":{\"value\":\"#39B976\"},\"x\":{\"field\":\"TimeGenerated\"},\"y\":{\"field\":\"y_index\"}},\"id\":\"3154\",\"type\":\"Circle\"},{\"attributes\":{\"fill_alpha\":{\"value\":0.1},\"fill_color\":{\"value\":\"#39B976\"},\"hatch_alpha\":{\"value\":0.1},\"hatch_color\":{\"value\":\"#39B976\"},\"line_alpha\":{\"value\":0.1},\"line_color\":{\"value\":\"#39B976\"},\"x\":{\"field\":\"TimeGenerated\"},\"y\":{\"field\":\"y_index\"}},\"id\":\"3155\",\"type\":\"Circle\"},{\"attributes\":{\"below\":[{\"id\":\"3043\"},{\"id\":\"3048\"}],\"center\":[{\"id\":\"3046\"}],\"height\":120,\"renderers\":[{\"id\":\"3055\"},{\"id\":\"3061\"},{\"id\":\"3067\"},{\"id\":\"3073\"},{\"id\":\"3079\"},{\"id\":\"3085\"},{\"id\":\"3091\"},{\"id\":\"3097\"},{\"id\":\"3103\"},{\"id\":\"3109\"},{\"id\":\"3115\"},{\"id\":\"3121\"},{\"id\":\"3127\"},{\"id\":\"3133\"},{\"id\":\"3139\"},{\"id\":\"3145\"},{\"id\":\"3151\"},{\"id\":\"3157\"},{\"id\":\"3163\"},{\"id\":\"3169\"},{\"id\":\"3175\"},{\"id\":\"3181\"}],\"title\":{\"id\":\"3033\"},\"toolbar\":{\"id\":\"3047\"},\"toolbar_location\":null,\"width\":900,\"x_range\":{\"id\":\"3035\"},\"x_scale\":{\"id\":\"3039\"},\"y_range\":{\"id\":\"3037\"},\"y_scale\":{\"id\":\"3041\"}},\"id\":\"3032\",\"subtype\":\"Figure\",\"type\":\"Plot\"},{\"attributes\":{\"source\":{\"id\":\"2993\"}},\"id\":\"3152\",\"type\":\"CDSView\"},{\"attributes\":{\"fill_alpha\":{\"value\":0.1},\"fill_color\":{\"value\":\"#2BB17D\"},\"hatch_alpha\":{\"value\":0.1},\"hatch_color\":{\"value\":\"#2BB17D\"},\"line_alpha\":{\"value\":0.1},\"line_color\":{\"value\":\"#2BB17D\"},\"x\":{\"field\":\"TimeGenerated\"},\"y\":{\"field\":\"y_index\"}},\"id\":\"3149\",\"type\":\"Circle\"}],\"root_ids\":[\"3345\"]},\"title\":\"Bokeh Application\",\"version\":\"2.4.3\"}};\n  const render_items = [{\"docid\":\"ffd40afe-a2ad-4c1f-bbe0-df16e8135107\",\"root_ids\":[\"3345\"],\"roots\":{\"3345\":\"c6e261a8-276a-4efb-93a4-414ed7366009\"}}];\n  root.Bokeh.embed.embed_items_notebook(docs_json, render_items);\n  }\n  if (root.Bokeh !== undefined) {\n    embed_document(root);\n  } else {\n    let attempts = 0;\n    const timer = setInterval(function(root) {\n      if (root.Bokeh !== undefined) {\n        clearInterval(timer);\n        embed_document(root);\n      } else {\n        attempts++;\n        if (attempts > 100) {\n          clearInterval(timer);\n          console.log(\"Bokeh: ERROR: Unable to run BokehJS code because BokehJS library is missing\");\n        }\n      }\n    }, 10, root)\n  }\n})(window);",
      "application/vnd.bokehjs_exec.v0+json": ""
     },
     "metadata": {
      "application/vnd.bokehjs_exec.v0+json": {
       "id": "3345"
      }
     },
     "output_type": "display_data"
    },
    {
     "data": {
      "text/html": [
       "<h3>Summary of azure activity for AAD, Azure resource and O365</h3>"
      ],
      "text/plain": [
       "<IPython.core.display.HTML object>"
      ]
     },
     "metadata": {},
     "output_type": "display_data"
    },
    {
     "data": {
      "text/html": [
       " Shows the total number of operations, the list of unique operations, the list of unique resource IDs and the first and last operation recorded in the selected time range. The data is grouped by: - Data source - User - Type - Azure activity type/source - Client IP Address - Application resource provider - User type "
      ],
      "text/plain": [
       "<IPython.core.display.HTML object>"
      ]
     },
     "metadata": {},
     "output_type": "display_data"
    },
    {
     "data": {
      "text/html": [
       "<div>\n",
       "<style scoped>\n",
       "    .dataframe tbody tr th:only-of-type {\n",
       "        vertical-align: middle;\n",
       "    }\n",
       "\n",
       "    .dataframe tbody tr th {\n",
       "        vertical-align: top;\n",
       "    }\n",
       "\n",
       "    .dataframe thead th {\n",
       "        text-align: right;\n",
       "    }\n",
       "</style>\n",
       "<table border=\"1\" class=\"dataframe\">\n",
       "  <thead>\n",
       "    <tr style=\"text-align: right;\">\n",
       "      <th></th>\n",
       "      <th></th>\n",
       "      <th></th>\n",
       "      <th></th>\n",
       "      <th></th>\n",
       "      <th>OperationCount</th>\n",
       "      <th>OperationTypes</th>\n",
       "      <th>Resources</th>\n",
       "      <th>FirstOperation</th>\n",
       "      <th>LastOperation</th>\n",
       "    </tr>\n",
       "    <tr>\n",
       "      <th>UserPrincipalName</th>\n",
       "      <th>Type</th>\n",
       "      <th>IPAddress</th>\n",
       "      <th>AppResourceProvider</th>\n",
       "      <th>UserType</th>\n",
       "      <th></th>\n",
       "      <th></th>\n",
       "      <th></th>\n",
       "      <th></th>\n",
       "      <th></th>\n",
       "    </tr>\n",
       "  </thead>\n",
       "  <tbody>\n",
       "    <tr>\n",
       "      <th rowspan=\"4\" valign=\"top\">griffin.cass@0sdss.onmicrosoft.com</th>\n",
       "      <th rowspan=\"4\" valign=\"top\">SigninLogs</th>\n",
       "      <th rowspan=\"4\" valign=\"top\">69.130.255.13</th>\n",
       "      <th>Inform Development</th>\n",
       "      <th>Guest</th>\n",
       "      <td>1</td>\n",
       "      <td>[Sign-in activity]</td>\n",
       "      <td>1</td>\n",
       "      <td>2023-06-23 16:16:52.418435900+00:00</td>\n",
       "      <td>2023-06-23 16:16:52.418435900+00:00</td>\n",
       "    </tr>\n",
       "    <tr>\n",
       "      <th>My Apps</th>\n",
       "      <th>Guest</th>\n",
       "      <td>5</td>\n",
       "      <td>[Sign-in activity]</td>\n",
       "      <td>1</td>\n",
       "      <td>2023-06-23 16:14:44.004907+00:00</td>\n",
       "      <td>2023-06-23 17:30:14.834238300+00:00</td>\n",
       "    </tr>\n",
       "    <tr>\n",
       "      <th>Salesforce</th>\n",
       "      <th>Guest</th>\n",
       "      <td>1</td>\n",
       "      <td>[Sign-in activity]</td>\n",
       "      <td>1</td>\n",
       "      <td>2023-06-23 17:30:14.849866700+00:00</td>\n",
       "      <td>2023-06-23 17:30:14.849866700+00:00</td>\n",
       "    </tr>\n",
       "    <tr>\n",
       "      <th>Salesforce Partial</th>\n",
       "      <th>Guest</th>\n",
       "      <td>1</td>\n",
       "      <td>[Sign-in activity]</td>\n",
       "      <td>1</td>\n",
       "      <td>2023-06-23 16:17:53.387917400+00:00</td>\n",
       "      <td>2023-06-23 16:17:53.387917400+00:00</td>\n",
       "    </tr>\n",
       "    <tr>\n",
       "      <th rowspan=\"52\" valign=\"top\">griffin.cass@wedc.org</th>\n",
       "      <th rowspan=\"33\" valign=\"top\">OfficeActivity</th>\n",
       "      <th>144.92.154.82</th>\n",
       "      <th>Exchange</th>\n",
       "      <th>Regular</th>\n",
       "      <td>2</td>\n",
       "      <td>[MailItemsAccessed]</td>\n",
       "      <td>1</td>\n",
       "      <td>2023-06-23 13:58:35+00:00</td>\n",
       "      <td>2023-06-23 14:06:24+00:00</td>\n",
       "    </tr>\n",
       "    <tr>\n",
       "      <th>192.168.1.72</th>\n",
       "      <th>MicrosoftTeams</th>\n",
       "      <th>Regular</th>\n",
       "      <td>1</td>\n",
       "      <td>[MeetingParticipantDetail]</td>\n",
       "      <td>1</td>\n",
       "      <td>2023-06-23 03:38:58+00:00</td>\n",
       "      <td>2023-06-23 03:38:58+00:00</td>\n",
       "    </tr>\n",
       "    <tr>\n",
       "      <th>192.168.86.42</th>\n",
       "      <th>MicrosoftTeams</th>\n",
       "      <th>Regular</th>\n",
       "      <td>2</td>\n",
       "      <td>[MeetingDetail, MeetingParticipantDetail]</td>\n",
       "      <td>1</td>\n",
       "      <td>2023-06-23 03:38:58+00:00</td>\n",
       "      <td>2023-06-23 03:38:58+00:00</td>\n",
       "    </tr>\n",
       "    <tr>\n",
       "      <th>20.190.157.160</th>\n",
       "      <th>Exchange</th>\n",
       "      <th>Regular</th>\n",
       "      <td>14</td>\n",
       "      <td>[MailItemsAccessed]</td>\n",
       "      <td>1</td>\n",
       "      <td>2023-06-21 22:21:58+00:00</td>\n",
       "      <td>2023-06-23 19:02:12+00:00</td>\n",
       "    </tr>\n",
       "    <tr>\n",
       "      <th>20.190.157.27</th>\n",
       "      <th>Exchange</th>\n",
       "      <th>Regular</th>\n",
       "      <td>11</td>\n",
       "      <td>[MailItemsAccessed]</td>\n",
       "      <td>1</td>\n",
       "      <td>2023-06-21 20:21:57+00:00</td>\n",
       "      <td>2023-06-23 17:36:27+00:00</td>\n",
       "    </tr>\n",
       "    <tr>\n",
       "      <th>20.190.157.30</th>\n",
       "      <th>Exchange</th>\n",
       "      <th>Regular</th>\n",
       "      <td>22</td>\n",
       "      <td>[MailItemsAccessed]</td>\n",
       "      <td>1</td>\n",
       "      <td>2023-06-21 23:21:59+00:00</td>\n",
       "      <td>2023-06-23 18:42:58+00:00</td>\n",
       "    </tr>\n",
       "    <tr>\n",
       "      <th>20.190.157.96</th>\n",
       "      <th>Exchange</th>\n",
       "      <th>Regular</th>\n",
       "      <td>18</td>\n",
       "      <td>[MailItemsAccessed]</td>\n",
       "      <td>1</td>\n",
       "      <td>2023-06-21 21:21:57+00:00</td>\n",
       "      <td>2023-06-23 17:38:53+00:00</td>\n",
       "    </tr>\n",
       "    <tr>\n",
       "      <th>20.190.157.97</th>\n",
       "      <th>Exchange</th>\n",
       "      <th>Regular</th>\n",
       "      <td>20</td>\n",
       "      <td>[MailItemsAccessed]</td>\n",
       "      <td>1</td>\n",
       "      <td>2023-06-22 01:58:54+00:00</td>\n",
       "      <td>2023-06-23 18:45:26+00:00</td>\n",
       "    </tr>\n",
       "    <tr>\n",
       "      <th>216.56.240.114</th>\n",
       "      <th>OneDrive</th>\n",
       "      <th>Regular</th>\n",
       "      <td>1</td>\n",
       "      <td>[FileSyncDownloadedFull]</td>\n",
       "      <td>1</td>\n",
       "      <td>2023-06-22 16:12:32+00:00</td>\n",
       "      <td>2023-06-22 16:12:32+00:00</td>\n",
       "    </tr>\n",
       "    <tr>\n",
       "      <th>2600:387:c:5516::3</th>\n",
       "      <th>Exchange</th>\n",
       "      <th>Regular</th>\n",
       "      <td>12</td>\n",
       "      <td>[MailItemsAccessed]</td>\n",
       "      <td>1</td>\n",
       "      <td>2023-06-21 21:39:29+00:00</td>\n",
       "      <td>2023-06-23 14:59:07+00:00</td>\n",
       "    </tr>\n",
       "    <tr>\n",
       "      <th>2603:10b6:208:23d::15</th>\n",
       "      <th>Exchange</th>\n",
       "      <th>Regular</th>\n",
       "      <td>1</td>\n",
       "      <td>[MailItemsAccessed]</td>\n",
       "      <td>1</td>\n",
       "      <td>2023-06-22 13:36:04+00:00</td>\n",
       "      <td>2023-06-22 13:36:04+00:00</td>\n",
       "    </tr>\n",
       "    <tr>\n",
       "      <th>2603:10b6:208:3ac::10</th>\n",
       "      <th>Exchange</th>\n",
       "      <th>Regular</th>\n",
       "      <td>1</td>\n",
       "      <td>[MailItemsAccessed]</td>\n",
       "      <td>1</td>\n",
       "      <td>2023-06-23 18:41:54+00:00</td>\n",
       "      <td>2023-06-23 18:41:54+00:00</td>\n",
       "    </tr>\n",
       "    <tr>\n",
       "      <th>2603:10b6:208:3da::13</th>\n",
       "      <th>Exchange</th>\n",
       "      <th>Regular</th>\n",
       "      <td>20</td>\n",
       "      <td>[MailItemsAccessed]</td>\n",
       "      <td>1</td>\n",
       "      <td>2023-06-21 21:10:05+00:00</td>\n",
       "      <td>2023-06-23 17:51:02+00:00</td>\n",
       "    </tr>\n",
       "    <tr>\n",
       "      <th>2603:10b6:208:481::10</th>\n",
       "      <th>Exchange</th>\n",
       "      <th>Regular</th>\n",
       "      <td>12</td>\n",
       "      <td>[MailItemsAccessed, Create]</td>\n",
       "      <td>1</td>\n",
       "      <td>2023-06-21 21:00:40+00:00</td>\n",
       "      <td>2023-06-23 19:52:28+00:00</td>\n",
       "    </tr>\n",
       "    <tr>\n",
       "      <th>2603:10b6:208:48a::21</th>\n",
       "      <th>Exchange</th>\n",
       "      <th>Regular</th>\n",
       "      <td>12</td>\n",
       "      <td>[MailItemsAccessed]</td>\n",
       "      <td>1</td>\n",
       "      <td>2023-06-23 08:47:28+00:00</td>\n",
       "      <td>2023-06-23 08:47:28+00:00</td>\n",
       "    </tr>\n",
       "    <tr>\n",
       "      <th>2603:10b6:208:48c::19</th>\n",
       "      <th>Exchange</th>\n",
       "      <th>Regular</th>\n",
       "      <td>11</td>\n",
       "      <td>[MailItemsAccessed]</td>\n",
       "      <td>1</td>\n",
       "      <td>2023-06-22 07:13:05+00:00</td>\n",
       "      <td>2023-06-22 07:13:05+00:00</td>\n",
       "    </tr>\n",
       "    <tr>\n",
       "      <th>40.126.29.96</th>\n",
       "      <th>Exchange</th>\n",
       "      <th>Regular</th>\n",
       "      <td>22</td>\n",
       "      <td>[MailItemsAccessed]</td>\n",
       "      <td>1</td>\n",
       "      <td>2023-06-22 04:08:27+00:00</td>\n",
       "      <td>2023-06-23 18:41:58+00:00</td>\n",
       "    </tr>\n",
       "    <tr>\n",
       "      <th>52.104.99.160</th>\n",
       "      <th>OneDrive</th>\n",
       "      <th>Regular</th>\n",
       "      <td>3</td>\n",
       "      <td>[FilePreviewed]</td>\n",
       "      <td>2</td>\n",
       "      <td>2023-06-22 12:33:23+00:00</td>\n",
       "      <td>2023-06-23 17:02:57+00:00</td>\n",
       "    </tr>\n",
       "    <tr>\n",
       "      <th>52.104.99.161</th>\n",
       "      <th>OneDrive</th>\n",
       "      <th>Regular</th>\n",
       "      <td>2</td>\n",
       "      <td>[FilePreviewed]</td>\n",
       "      <td>1</td>\n",
       "      <td>2023-06-22 21:53:53+00:00</td>\n",
       "      <td>2023-06-23 15:30:11+00:00</td>\n",
       "    </tr>\n",
       "    <tr>\n",
       "      <th>52.104.99.164</th>\n",
       "      <th>OneDrive</th>\n",
       "      <th>Regular</th>\n",
       "      <td>1</td>\n",
       "      <td>[FilePreviewed]</td>\n",
       "      <td>1</td>\n",
       "      <td>2023-06-23 15:30:11+00:00</td>\n",
       "      <td>2023-06-23 15:30:11+00:00</td>\n",
       "    </tr>\n",
       "    <tr>\n",
       "      <th>52.104.99.165</th>\n",
       "      <th>OneDrive</th>\n",
       "      <th>Regular</th>\n",
       "      <td>1</td>\n",
       "      <td>[FilePreviewed]</td>\n",
       "      <td>1</td>\n",
       "      <td>2023-06-23 17:02:56+00:00</td>\n",
       "      <td>2023-06-23 17:02:56+00:00</td>\n",
       "    </tr>\n",
       "    <tr>\n",
       "      <th>52.104.99.166</th>\n",
       "      <th>OneDrive</th>\n",
       "      <th>Regular</th>\n",
       "      <td>2</td>\n",
       "      <td>[FilePreviewed]</td>\n",
       "      <td>2</td>\n",
       "      <td>2023-06-22 12:33:23+00:00</td>\n",
       "      <td>2023-06-23 15:30:11+00:00</td>\n",
       "    </tr>\n",
       "    <tr>\n",
       "      <th>52.104.99.169</th>\n",
       "      <th>SharePoint</th>\n",
       "      <th>Regular</th>\n",
       "      <td>1</td>\n",
       "      <td>[FilePreviewed]</td>\n",
       "      <td>1</td>\n",
       "      <td>2023-06-23 16:08:47+00:00</td>\n",
       "      <td>2023-06-23 16:08:47+00:00</td>\n",
       "    </tr>\n",
       "    <tr>\n",
       "      <th>52.104.99.170</th>\n",
       "      <th>OneDrive</th>\n",
       "      <th>Regular</th>\n",
       "      <td>1</td>\n",
       "      <td>[FilePreviewed]</td>\n",
       "      <td>1</td>\n",
       "      <td>2023-06-23 17:02:56+00:00</td>\n",
       "      <td>2023-06-23 17:02:56+00:00</td>\n",
       "    </tr>\n",
       "    <tr>\n",
       "      <th>52.104.99.171</th>\n",
       "      <th>SharePoint</th>\n",
       "      <th>Regular</th>\n",
       "      <td>1</td>\n",
       "      <td>[FilePreviewed]</td>\n",
       "      <td>1</td>\n",
       "      <td>2023-06-23 16:08:48+00:00</td>\n",
       "      <td>2023-06-23 16:08:48+00:00</td>\n",
       "    </tr>\n",
       "    <tr>\n",
       "      <th>52.104.99.172</th>\n",
       "      <th>OneDrive</th>\n",
       "      <th>Regular</th>\n",
       "      <td>1</td>\n",
       "      <td>[FilePreviewed]</td>\n",
       "      <td>1</td>\n",
       "      <td>2023-06-22 21:53:53+00:00</td>\n",
       "      <td>2023-06-22 21:53:53+00:00</td>\n",
       "    </tr>\n",
       "    <tr>\n",
       "      <th>52.104.99.174</th>\n",
       "      <th>OneDrive</th>\n",
       "      <th>Regular</th>\n",
       "      <td>1</td>\n",
       "      <td>[FileAccessed]</td>\n",
       "      <td>1</td>\n",
       "      <td>2023-06-23 15:18:15+00:00</td>\n",
       "      <td>2023-06-23 15:18:15+00:00</td>\n",
       "    </tr>\n",
       "    <tr>\n",
       "      <th>52.104.99.175</th>\n",
       "      <th>OneDrive</th>\n",
       "      <th>Regular</th>\n",
       "      <td>3</td>\n",
       "      <td>[FilePreviewed]</td>\n",
       "      <td>3</td>\n",
       "      <td>2023-06-22 12:33:23+00:00</td>\n",
       "      <td>2023-06-22 21:53:53+00:00</td>\n",
       "    </tr>\n",
       "    <tr>\n",
       "      <th>52.104.99.50</th>\n",
       "      <th>SharePoint</th>\n",
       "      <th>Regular</th>\n",
       "      <td>1</td>\n",
       "      <td>[FilePreviewed]</td>\n",
       "      <td>1</td>\n",
       "      <td>2023-06-23 16:08:47+00:00</td>\n",
       "      <td>2023-06-23 16:08:47+00:00</td>\n",
       "    </tr>\n",
       "    <tr>\n",
       "      <th rowspan=\"3\" valign=\"top\">69.130.255.13</th>\n",
       "      <th>Exchange</th>\n",
       "      <th>Regular</th>\n",
       "      <td>288</td>\n",
       "      <td>[MailItemsAccessed, HardDelete, Create, MoveToDeletedItems, SoftDelete, Update, Move]</td>\n",
       "      <td>1</td>\n",
       "      <td>2023-06-21 20:21:55+00:00</td>\n",
       "      <td>2023-06-23 19:53:09+00:00</td>\n",
       "    </tr>\n",
       "    <tr>\n",
       "      <th>OneDrive</th>\n",
       "      <th>Regular</th>\n",
       "      <td>9</td>\n",
       "      <td>[FileSyncDownloadedFull, FileSyncUploadedFull, FileAccessed, CompanyLinkUsed, AddedToGroup, Page...</td>\n",
       "      <td>5</td>\n",
       "      <td>2023-06-22 14:34:41+00:00</td>\n",
       "      <td>2023-06-23 15:18:15+00:00</td>\n",
       "    </tr>\n",
       "    <tr>\n",
       "      <th>SharePoint</th>\n",
       "      <th>Regular</th>\n",
       "      <td>23</td>\n",
       "      <td>[SignInEvent, PageViewed, CompanyLinkUsed, AddedToGroup, ListViewed, FileAccessed]</td>\n",
       "      <td>20</td>\n",
       "      <td>2023-06-22 16:49:04+00:00</td>\n",
       "      <td>2023-06-23 19:53:23+00:00</td>\n",
       "    </tr>\n",
       "    <tr>\n",
       "      <th>::ffff:69.130.255.13</th>\n",
       "      <th>MicrosoftTeams</th>\n",
       "      <th>Regular</th>\n",
       "      <td>5</td>\n",
       "      <td>[MessageCreatedHasLink, MessageSent]</td>\n",
       "      <td>1</td>\n",
       "      <td>2023-06-22 18:44:33+00:00</td>\n",
       "      <td>2023-06-23 13:11:37+00:00</td>\n",
       "    </tr>\n",
       "    <tr>\n",
       "      <th rowspan=\"19\" valign=\"top\">SigninLogs</th>\n",
       "      <th>216.56.240.114</th>\n",
       "      <th>Windows Sign In</th>\n",
       "      <th>Member</th>\n",
       "      <td>2</td>\n",
       "      <td>[Sign-in activity]</td>\n",
       "      <td>1</td>\n",
       "      <td>2023-06-22 21:55:33.408320900+00:00</td>\n",
       "      <td>2023-06-23 15:31:44.437631800+00:00</td>\n",
       "    </tr>\n",
       "    <tr>\n",
       "      <th rowspan=\"18\" valign=\"top\">69.130.255.13</th>\n",
       "      <th>APIM-Client-DevPortal-OAuth</th>\n",
       "      <th>Member</th>\n",
       "      <td>43</td>\n",
       "      <td>[Sign-in activity]</td>\n",
       "      <td>1</td>\n",
       "      <td>2023-06-22 13:35:04.431741+00:00</td>\n",
       "      <td>2023-06-22 21:48:19.888242400+00:00</td>\n",
       "    </tr>\n",
       "    <tr>\n",
       "      <th>Azure Portal</th>\n",
       "      <th>Member</th>\n",
       "      <td>2</td>\n",
       "      <td>[Sign-in activity]</td>\n",
       "      <td>1</td>\n",
       "      <td>2023-06-23 15:19:08.625894900+00:00</td>\n",
       "      <td>2023-06-23 16:10:15.345859200+00:00</td>\n",
       "    </tr>\n",
       "    <tr>\n",
       "      <th>KustoClient</th>\n",
       "      <th>Member</th>\n",
       "      <td>2</td>\n",
       "      <td>[Sign-in activity]</td>\n",
       "      <td>1</td>\n",
       "      <td>2023-06-23 17:56:19.086130200+00:00</td>\n",
       "      <td>2023-06-23 17:58:09.428734900+00:00</td>\n",
       "    </tr>\n",
       "    <tr>\n",
       "      <th>Microsoft 365 Security and Compliance Center</th>\n",
       "      <th>Member</th>\n",
       "      <td>1</td>\n",
       "      <td>[Sign-in activity]</td>\n",
       "      <td>1</td>\n",
       "      <td>2023-06-23 19:52:43.528762100+00:00</td>\n",
       "      <td>2023-06-23 19:52:43.528762100+00:00</td>\n",
       "    </tr>\n",
       "    <tr>\n",
       "      <th>Microsoft Account Controls V2</th>\n",
       "      <th>Member</th>\n",
       "      <td>2</td>\n",
       "      <td>[Sign-in activity]</td>\n",
       "      <td>1</td>\n",
       "      <td>2023-06-22 20:25:00.982638900+00:00</td>\n",
       "      <td>2023-06-22 20:25:58.494646900+00:00</td>\n",
       "    </tr>\n",
       "    <tr>\n",
       "      <th>Microsoft App Access Panel</th>\n",
       "      <th>Member</th>\n",
       "      <td>23</td>\n",
       "      <td>[Sign-in activity]</td>\n",
       "      <td>1</td>\n",
       "      <td>2023-06-23 18:02:02.989603700+00:00</td>\n",
       "      <td>2023-06-23 19:51:19.353819+00:00</td>\n",
       "    </tr>\n",
       "    <tr>\n",
       "      <th>My Apps</th>\n",
       "      <th>Member</th>\n",
       "      <td>6</td>\n",
       "      <td>[Sign-in activity]</td>\n",
       "      <td>1</td>\n",
       "      <td>2023-06-22 20:25:22.113400100+00:00</td>\n",
       "      <td>2023-06-22 20:26:13.379946100+00:00</td>\n",
       "    </tr>\n",
       "    <tr>\n",
       "      <th>Office 365 SharePoint Online</th>\n",
       "      <th>Member</th>\n",
       "      <td>2</td>\n",
       "      <td>[Sign-in activity]</td>\n",
       "      <td>1</td>\n",
       "      <td>2023-06-22 16:52:12.190582600+00:00</td>\n",
       "      <td>2023-06-23 16:10:58.395194800+00:00</td>\n",
       "    </tr>\n",
       "    <tr>\n",
       "      <th>Office Online Augmentation Loop SSO</th>\n",
       "      <th>Member</th>\n",
       "      <td>1</td>\n",
       "      <td>[Sign-in activity]</td>\n",
       "      <td>1</td>\n",
       "      <td>2023-06-22 16:51:24.217526400+00:00</td>\n",
       "      <td>2023-06-22 16:51:24.217526400+00:00</td>\n",
       "    </tr>\n",
       "    <tr>\n",
       "      <th>Office Online Core SSO</th>\n",
       "      <th>Member</th>\n",
       "      <td>1</td>\n",
       "      <td>[Sign-in activity]</td>\n",
       "      <td>1</td>\n",
       "      <td>2023-06-22 16:50:33.404717500+00:00</td>\n",
       "      <td>2023-06-22 16:50:33.404717500+00:00</td>\n",
       "    </tr>\n",
       "    <tr>\n",
       "      <th>Office Online Loki SSO</th>\n",
       "      <th>Member</th>\n",
       "      <td>1</td>\n",
       "      <td>[Sign-in activity]</td>\n",
       "      <td>1</td>\n",
       "      <td>2023-06-22 16:52:17.321488400+00:00</td>\n",
       "      <td>2023-06-22 16:52:17.321488400+00:00</td>\n",
       "    </tr>\n",
       "    <tr>\n",
       "      <th>Office Online Search SSO</th>\n",
       "      <th>Member</th>\n",
       "      <td>1</td>\n",
       "      <td>[Sign-in activity]</td>\n",
       "      <td>1</td>\n",
       "      <td>2023-06-22 16:50:55.399794400+00:00</td>\n",
       "      <td>2023-06-22 16:50:55.399794400+00:00</td>\n",
       "    </tr>\n",
       "    <tr>\n",
       "      <th>Office365 Shell WCSS-Client</th>\n",
       "      <th>Member</th>\n",
       "      <td>8</td>\n",
       "      <td>[Sign-in activity]</td>\n",
       "      <td>1</td>\n",
       "      <td>2023-06-22 16:50:41.821727200+00:00</td>\n",
       "      <td>2023-06-23 19:54:39.132402200+00:00</td>\n",
       "    </tr>\n",
       "    <tr>\n",
       "      <th>SWSD - Test Environment</th>\n",
       "      <th>Member</th>\n",
       "      <td>1</td>\n",
       "      <td>[Sign-in activity]</td>\n",
       "      <td>1</td>\n",
       "      <td>2023-06-22 20:24:47.060091500+00:00</td>\n",
       "      <td>2023-06-22 20:24:47.060091500+00:00</td>\n",
       "    </tr>\n",
       "    <tr>\n",
       "      <th>Salesforce</th>\n",
       "      <th>Member</th>\n",
       "      <td>1</td>\n",
       "      <td>[Sign-in activity]</td>\n",
       "      <td>1</td>\n",
       "      <td>2023-06-22 16:51:51.999204700+00:00</td>\n",
       "      <td>2023-06-22 16:51:51.999204700+00:00</td>\n",
       "    </tr>\n",
       "    <tr>\n",
       "      <th>SharePoint Online Web Client Extensibility</th>\n",
       "      <th>Member</th>\n",
       "      <td>1</td>\n",
       "      <td>[Sign-in activity]</td>\n",
       "      <td>1</td>\n",
       "      <td>2023-06-23 16:10:58.395194800+00:00</td>\n",
       "      <td>2023-06-23 16:10:58.395194800+00:00</td>\n",
       "    </tr>\n",
       "    <tr>\n",
       "      <th>WEDC Service Desk</th>\n",
       "      <th>Member</th>\n",
       "      <td>1</td>\n",
       "      <td>[Sign-in activity]</td>\n",
       "      <td>1</td>\n",
       "      <td>2023-06-22 16:20:20.281791300+00:00</td>\n",
       "      <td>2023-06-22 16:20:20.281791300+00:00</td>\n",
       "    </tr>\n",
       "    <tr>\n",
       "      <th>Windows Sign In</th>\n",
       "      <th>Member</th>\n",
       "      <td>3</td>\n",
       "      <td>[Sign-in activity]</td>\n",
       "      <td>1</td>\n",
       "      <td>2023-06-22 13:20:13.016097500+00:00</td>\n",
       "      <td>2023-06-23 15:06:18.913126500+00:00</td>\n",
       "    </tr>\n",
       "  </tbody>\n",
       "</table>\n",
       "</div>"
      ],
      "text/plain": [
       "                                                                                                                               OperationCount  \\\n",
       "UserPrincipalName                  Type           IPAddress             AppResourceProvider                          UserType                   \n",
       "griffin.cass@0sdss.onmicrosoft.com SigninLogs     69.130.255.13         Inform Development                           Guest                  1   \n",
       "                                                                        My Apps                                      Guest                  5   \n",
       "                                                                        Salesforce                                   Guest                  1   \n",
       "                                                                        Salesforce Partial                           Guest                  1   \n",
       "griffin.cass@wedc.org              OfficeActivity 144.92.154.82         Exchange                                     Regular                2   \n",
       "                                                  192.168.1.72          MicrosoftTeams                               Regular                1   \n",
       "                                                  192.168.86.42         MicrosoftTeams                               Regular                2   \n",
       "                                                  20.190.157.160        Exchange                                     Regular               14   \n",
       "                                                  20.190.157.27         Exchange                                     Regular               11   \n",
       "                                                  20.190.157.30         Exchange                                     Regular               22   \n",
       "                                                  20.190.157.96         Exchange                                     Regular               18   \n",
       "                                                  20.190.157.97         Exchange                                     Regular               20   \n",
       "                                                  216.56.240.114        OneDrive                                     Regular                1   \n",
       "                                                  2600:387:c:5516::3    Exchange                                     Regular               12   \n",
       "                                                  2603:10b6:208:23d::15 Exchange                                     Regular                1   \n",
       "                                                  2603:10b6:208:3ac::10 Exchange                                     Regular                1   \n",
       "                                                  2603:10b6:208:3da::13 Exchange                                     Regular               20   \n",
       "                                                  2603:10b6:208:481::10 Exchange                                     Regular               12   \n",
       "                                                  2603:10b6:208:48a::21 Exchange                                     Regular               12   \n",
       "                                                  2603:10b6:208:48c::19 Exchange                                     Regular               11   \n",
       "                                                  40.126.29.96          Exchange                                     Regular               22   \n",
       "                                                  52.104.99.160         OneDrive                                     Regular                3   \n",
       "                                                  52.104.99.161         OneDrive                                     Regular                2   \n",
       "                                                  52.104.99.164         OneDrive                                     Regular                1   \n",
       "                                                  52.104.99.165         OneDrive                                     Regular                1   \n",
       "                                                  52.104.99.166         OneDrive                                     Regular                2   \n",
       "                                                  52.104.99.169         SharePoint                                   Regular                1   \n",
       "                                                  52.104.99.170         OneDrive                                     Regular                1   \n",
       "                                                  52.104.99.171         SharePoint                                   Regular                1   \n",
       "                                                  52.104.99.172         OneDrive                                     Regular                1   \n",
       "                                                  52.104.99.174         OneDrive                                     Regular                1   \n",
       "                                                  52.104.99.175         OneDrive                                     Regular                3   \n",
       "                                                  52.104.99.50          SharePoint                                   Regular                1   \n",
       "                                                  69.130.255.13         Exchange                                     Regular              288   \n",
       "                                                                        OneDrive                                     Regular                9   \n",
       "                                                                        SharePoint                                   Regular               23   \n",
       "                                                  ::ffff:69.130.255.13  MicrosoftTeams                               Regular                5   \n",
       "                                   SigninLogs     216.56.240.114        Windows Sign In                              Member                 2   \n",
       "                                                  69.130.255.13         APIM-Client-DevPortal-OAuth                  Member                43   \n",
       "                                                                        Azure Portal                                 Member                 2   \n",
       "                                                                        KustoClient                                  Member                 2   \n",
       "                                                                        Microsoft 365 Security and Compliance Center Member                 1   \n",
       "                                                                        Microsoft Account Controls V2                Member                 2   \n",
       "                                                                        Microsoft App Access Panel                   Member                23   \n",
       "                                                                        My Apps                                      Member                 6   \n",
       "                                                                        Office 365 SharePoint Online                 Member                 2   \n",
       "                                                                        Office Online Augmentation Loop SSO          Member                 1   \n",
       "                                                                        Office Online Core SSO                       Member                 1   \n",
       "                                                                        Office Online Loki SSO                       Member                 1   \n",
       "                                                                        Office Online Search SSO                     Member                 1   \n",
       "                                                                        Office365 Shell WCSS-Client                  Member                 8   \n",
       "                                                                        SWSD - Test Environment                      Member                 1   \n",
       "                                                                        Salesforce                                   Member                 1   \n",
       "                                                                        SharePoint Online Web Client Extensibility   Member                 1   \n",
       "                                                                        WEDC Service Desk                            Member                 1   \n",
       "                                                                        Windows Sign In                              Member                 3   \n",
       "\n",
       "                                                                                                                                                                                                                    OperationTypes  \\\n",
       "UserPrincipalName                  Type           IPAddress             AppResourceProvider                          UserType                                                                                                        \n",
       "griffin.cass@0sdss.onmicrosoft.com SigninLogs     69.130.255.13         Inform Development                           Guest                                                                                      [Sign-in activity]   \n",
       "                                                                        My Apps                                      Guest                                                                                      [Sign-in activity]   \n",
       "                                                                        Salesforce                                   Guest                                                                                      [Sign-in activity]   \n",
       "                                                                        Salesforce Partial                           Guest                                                                                      [Sign-in activity]   \n",
       "griffin.cass@wedc.org              OfficeActivity 144.92.154.82         Exchange                                     Regular                                                                                   [MailItemsAccessed]   \n",
       "                                                  192.168.1.72          MicrosoftTeams                               Regular                                                                            [MeetingParticipantDetail]   \n",
       "                                                  192.168.86.42         MicrosoftTeams                               Regular                                                             [MeetingDetail, MeetingParticipantDetail]   \n",
       "                                                  20.190.157.160        Exchange                                     Regular                                                                                   [MailItemsAccessed]   \n",
       "                                                  20.190.157.27         Exchange                                     Regular                                                                                   [MailItemsAccessed]   \n",
       "                                                  20.190.157.30         Exchange                                     Regular                                                                                   [MailItemsAccessed]   \n",
       "                                                  20.190.157.96         Exchange                                     Regular                                                                                   [MailItemsAccessed]   \n",
       "                                                  20.190.157.97         Exchange                                     Regular                                                                                   [MailItemsAccessed]   \n",
       "                                                  216.56.240.114        OneDrive                                     Regular                                                                              [FileSyncDownloadedFull]   \n",
       "                                                  2600:387:c:5516::3    Exchange                                     Regular                                                                                   [MailItemsAccessed]   \n",
       "                                                  2603:10b6:208:23d::15 Exchange                                     Regular                                                                                   [MailItemsAccessed]   \n",
       "                                                  2603:10b6:208:3ac::10 Exchange                                     Regular                                                                                   [MailItemsAccessed]   \n",
       "                                                  2603:10b6:208:3da::13 Exchange                                     Regular                                                                                   [MailItemsAccessed]   \n",
       "                                                  2603:10b6:208:481::10 Exchange                                     Regular                                                                           [MailItemsAccessed, Create]   \n",
       "                                                  2603:10b6:208:48a::21 Exchange                                     Regular                                                                                   [MailItemsAccessed]   \n",
       "                                                  2603:10b6:208:48c::19 Exchange                                     Regular                                                                                   [MailItemsAccessed]   \n",
       "                                                  40.126.29.96          Exchange                                     Regular                                                                                   [MailItemsAccessed]   \n",
       "                                                  52.104.99.160         OneDrive                                     Regular                                                                                       [FilePreviewed]   \n",
       "                                                  52.104.99.161         OneDrive                                     Regular                                                                                       [FilePreviewed]   \n",
       "                                                  52.104.99.164         OneDrive                                     Regular                                                                                       [FilePreviewed]   \n",
       "                                                  52.104.99.165         OneDrive                                     Regular                                                                                       [FilePreviewed]   \n",
       "                                                  52.104.99.166         OneDrive                                     Regular                                                                                       [FilePreviewed]   \n",
       "                                                  52.104.99.169         SharePoint                                   Regular                                                                                       [FilePreviewed]   \n",
       "                                                  52.104.99.170         OneDrive                                     Regular                                                                                       [FilePreviewed]   \n",
       "                                                  52.104.99.171         SharePoint                                   Regular                                                                                       [FilePreviewed]   \n",
       "                                                  52.104.99.172         OneDrive                                     Regular                                                                                       [FilePreviewed]   \n",
       "                                                  52.104.99.174         OneDrive                                     Regular                                                                                        [FileAccessed]   \n",
       "                                                  52.104.99.175         OneDrive                                     Regular                                                                                       [FilePreviewed]   \n",
       "                                                  52.104.99.50          SharePoint                                   Regular                                                                                       [FilePreviewed]   \n",
       "                                                  69.130.255.13         Exchange                                     Regular                 [MailItemsAccessed, HardDelete, Create, MoveToDeletedItems, SoftDelete, Update, Move]   \n",
       "                                                                        OneDrive                                     Regular   [FileSyncDownloadedFull, FileSyncUploadedFull, FileAccessed, CompanyLinkUsed, AddedToGroup, Page...   \n",
       "                                                                        SharePoint                                   Regular                    [SignInEvent, PageViewed, CompanyLinkUsed, AddedToGroup, ListViewed, FileAccessed]   \n",
       "                                                  ::ffff:69.130.255.13  MicrosoftTeams                               Regular                                                                  [MessageCreatedHasLink, MessageSent]   \n",
       "                                   SigninLogs     216.56.240.114        Windows Sign In                              Member                                                                                     [Sign-in activity]   \n",
       "                                                  69.130.255.13         APIM-Client-DevPortal-OAuth                  Member                                                                                     [Sign-in activity]   \n",
       "                                                                        Azure Portal                                 Member                                                                                     [Sign-in activity]   \n",
       "                                                                        KustoClient                                  Member                                                                                     [Sign-in activity]   \n",
       "                                                                        Microsoft 365 Security and Compliance Center Member                                                                                     [Sign-in activity]   \n",
       "                                                                        Microsoft Account Controls V2                Member                                                                                     [Sign-in activity]   \n",
       "                                                                        Microsoft App Access Panel                   Member                                                                                     [Sign-in activity]   \n",
       "                                                                        My Apps                                      Member                                                                                     [Sign-in activity]   \n",
       "                                                                        Office 365 SharePoint Online                 Member                                                                                     [Sign-in activity]   \n",
       "                                                                        Office Online Augmentation Loop SSO          Member                                                                                     [Sign-in activity]   \n",
       "                                                                        Office Online Core SSO                       Member                                                                                     [Sign-in activity]   \n",
       "                                                                        Office Online Loki SSO                       Member                                                                                     [Sign-in activity]   \n",
       "                                                                        Office Online Search SSO                     Member                                                                                     [Sign-in activity]   \n",
       "                                                                        Office365 Shell WCSS-Client                  Member                                                                                     [Sign-in activity]   \n",
       "                                                                        SWSD - Test Environment                      Member                                                                                     [Sign-in activity]   \n",
       "                                                                        Salesforce                                   Member                                                                                     [Sign-in activity]   \n",
       "                                                                        SharePoint Online Web Client Extensibility   Member                                                                                     [Sign-in activity]   \n",
       "                                                                        WEDC Service Desk                            Member                                                                                     [Sign-in activity]   \n",
       "                                                                        Windows Sign In                              Member                                                                                     [Sign-in activity]   \n",
       "\n",
       "                                                                                                                               Resources  \\\n",
       "UserPrincipalName                  Type           IPAddress             AppResourceProvider                          UserType              \n",
       "griffin.cass@0sdss.onmicrosoft.com SigninLogs     69.130.255.13         Inform Development                           Guest             1   \n",
       "                                                                        My Apps                                      Guest             1   \n",
       "                                                                        Salesforce                                   Guest             1   \n",
       "                                                                        Salesforce Partial                           Guest             1   \n",
       "griffin.cass@wedc.org              OfficeActivity 144.92.154.82         Exchange                                     Regular           1   \n",
       "                                                  192.168.1.72          MicrosoftTeams                               Regular           1   \n",
       "                                                  192.168.86.42         MicrosoftTeams                               Regular           1   \n",
       "                                                  20.190.157.160        Exchange                                     Regular           1   \n",
       "                                                  20.190.157.27         Exchange                                     Regular           1   \n",
       "                                                  20.190.157.30         Exchange                                     Regular           1   \n",
       "                                                  20.190.157.96         Exchange                                     Regular           1   \n",
       "                                                  20.190.157.97         Exchange                                     Regular           1   \n",
       "                                                  216.56.240.114        OneDrive                                     Regular           1   \n",
       "                                                  2600:387:c:5516::3    Exchange                                     Regular           1   \n",
       "                                                  2603:10b6:208:23d::15 Exchange                                     Regular           1   \n",
       "                                                  2603:10b6:208:3ac::10 Exchange                                     Regular           1   \n",
       "                                                  2603:10b6:208:3da::13 Exchange                                     Regular           1   \n",
       "                                                  2603:10b6:208:481::10 Exchange                                     Regular           1   \n",
       "                                                  2603:10b6:208:48a::21 Exchange                                     Regular           1   \n",
       "                                                  2603:10b6:208:48c::19 Exchange                                     Regular           1   \n",
       "                                                  40.126.29.96          Exchange                                     Regular           1   \n",
       "                                                  52.104.99.160         OneDrive                                     Regular           2   \n",
       "                                                  52.104.99.161         OneDrive                                     Regular           1   \n",
       "                                                  52.104.99.164         OneDrive                                     Regular           1   \n",
       "                                                  52.104.99.165         OneDrive                                     Regular           1   \n",
       "                                                  52.104.99.166         OneDrive                                     Regular           2   \n",
       "                                                  52.104.99.169         SharePoint                                   Regular           1   \n",
       "                                                  52.104.99.170         OneDrive                                     Regular           1   \n",
       "                                                  52.104.99.171         SharePoint                                   Regular           1   \n",
       "                                                  52.104.99.172         OneDrive                                     Regular           1   \n",
       "                                                  52.104.99.174         OneDrive                                     Regular           1   \n",
       "                                                  52.104.99.175         OneDrive                                     Regular           3   \n",
       "                                                  52.104.99.50          SharePoint                                   Regular           1   \n",
       "                                                  69.130.255.13         Exchange                                     Regular           1   \n",
       "                                                                        OneDrive                                     Regular           5   \n",
       "                                                                        SharePoint                                   Regular          20   \n",
       "                                                  ::ffff:69.130.255.13  MicrosoftTeams                               Regular           1   \n",
       "                                   SigninLogs     216.56.240.114        Windows Sign In                              Member            1   \n",
       "                                                  69.130.255.13         APIM-Client-DevPortal-OAuth                  Member            1   \n",
       "                                                                        Azure Portal                                 Member            1   \n",
       "                                                                        KustoClient                                  Member            1   \n",
       "                                                                        Microsoft 365 Security and Compliance Center Member            1   \n",
       "                                                                        Microsoft Account Controls V2                Member            1   \n",
       "                                                                        Microsoft App Access Panel                   Member            1   \n",
       "                                                                        My Apps                                      Member            1   \n",
       "                                                                        Office 365 SharePoint Online                 Member            1   \n",
       "                                                                        Office Online Augmentation Loop SSO          Member            1   \n",
       "                                                                        Office Online Core SSO                       Member            1   \n",
       "                                                                        Office Online Loki SSO                       Member            1   \n",
       "                                                                        Office Online Search SSO                     Member            1   \n",
       "                                                                        Office365 Shell WCSS-Client                  Member            1   \n",
       "                                                                        SWSD - Test Environment                      Member            1   \n",
       "                                                                        Salesforce                                   Member            1   \n",
       "                                                                        SharePoint Online Web Client Extensibility   Member            1   \n",
       "                                                                        WEDC Service Desk                            Member            1   \n",
       "                                                                        Windows Sign In                              Member            1   \n",
       "\n",
       "                                                                                                                                                    FirstOperation  \\\n",
       "UserPrincipalName                  Type           IPAddress             AppResourceProvider                          UserType                                        \n",
       "griffin.cass@0sdss.onmicrosoft.com SigninLogs     69.130.255.13         Inform Development                           Guest     2023-06-23 16:16:52.418435900+00:00   \n",
       "                                                                        My Apps                                      Guest        2023-06-23 16:14:44.004907+00:00   \n",
       "                                                                        Salesforce                                   Guest     2023-06-23 17:30:14.849866700+00:00   \n",
       "                                                                        Salesforce Partial                           Guest     2023-06-23 16:17:53.387917400+00:00   \n",
       "griffin.cass@wedc.org              OfficeActivity 144.92.154.82         Exchange                                     Regular             2023-06-23 13:58:35+00:00   \n",
       "                                                  192.168.1.72          MicrosoftTeams                               Regular             2023-06-23 03:38:58+00:00   \n",
       "                                                  192.168.86.42         MicrosoftTeams                               Regular             2023-06-23 03:38:58+00:00   \n",
       "                                                  20.190.157.160        Exchange                                     Regular             2023-06-21 22:21:58+00:00   \n",
       "                                                  20.190.157.27         Exchange                                     Regular             2023-06-21 20:21:57+00:00   \n",
       "                                                  20.190.157.30         Exchange                                     Regular             2023-06-21 23:21:59+00:00   \n",
       "                                                  20.190.157.96         Exchange                                     Regular             2023-06-21 21:21:57+00:00   \n",
       "                                                  20.190.157.97         Exchange                                     Regular             2023-06-22 01:58:54+00:00   \n",
       "                                                  216.56.240.114        OneDrive                                     Regular             2023-06-22 16:12:32+00:00   \n",
       "                                                  2600:387:c:5516::3    Exchange                                     Regular             2023-06-21 21:39:29+00:00   \n",
       "                                                  2603:10b6:208:23d::15 Exchange                                     Regular             2023-06-22 13:36:04+00:00   \n",
       "                                                  2603:10b6:208:3ac::10 Exchange                                     Regular             2023-06-23 18:41:54+00:00   \n",
       "                                                  2603:10b6:208:3da::13 Exchange                                     Regular             2023-06-21 21:10:05+00:00   \n",
       "                                                  2603:10b6:208:481::10 Exchange                                     Regular             2023-06-21 21:00:40+00:00   \n",
       "                                                  2603:10b6:208:48a::21 Exchange                                     Regular             2023-06-23 08:47:28+00:00   \n",
       "                                                  2603:10b6:208:48c::19 Exchange                                     Regular             2023-06-22 07:13:05+00:00   \n",
       "                                                  40.126.29.96          Exchange                                     Regular             2023-06-22 04:08:27+00:00   \n",
       "                                                  52.104.99.160         OneDrive                                     Regular             2023-06-22 12:33:23+00:00   \n",
       "                                                  52.104.99.161         OneDrive                                     Regular             2023-06-22 21:53:53+00:00   \n",
       "                                                  52.104.99.164         OneDrive                                     Regular             2023-06-23 15:30:11+00:00   \n",
       "                                                  52.104.99.165         OneDrive                                     Regular             2023-06-23 17:02:56+00:00   \n",
       "                                                  52.104.99.166         OneDrive                                     Regular             2023-06-22 12:33:23+00:00   \n",
       "                                                  52.104.99.169         SharePoint                                   Regular             2023-06-23 16:08:47+00:00   \n",
       "                                                  52.104.99.170         OneDrive                                     Regular             2023-06-23 17:02:56+00:00   \n",
       "                                                  52.104.99.171         SharePoint                                   Regular             2023-06-23 16:08:48+00:00   \n",
       "                                                  52.104.99.172         OneDrive                                     Regular             2023-06-22 21:53:53+00:00   \n",
       "                                                  52.104.99.174         OneDrive                                     Regular             2023-06-23 15:18:15+00:00   \n",
       "                                                  52.104.99.175         OneDrive                                     Regular             2023-06-22 12:33:23+00:00   \n",
       "                                                  52.104.99.50          SharePoint                                   Regular             2023-06-23 16:08:47+00:00   \n",
       "                                                  69.130.255.13         Exchange                                     Regular             2023-06-21 20:21:55+00:00   \n",
       "                                                                        OneDrive                                     Regular             2023-06-22 14:34:41+00:00   \n",
       "                                                                        SharePoint                                   Regular             2023-06-22 16:49:04+00:00   \n",
       "                                                  ::ffff:69.130.255.13  MicrosoftTeams                               Regular             2023-06-22 18:44:33+00:00   \n",
       "                                   SigninLogs     216.56.240.114        Windows Sign In                              Member    2023-06-22 21:55:33.408320900+00:00   \n",
       "                                                  69.130.255.13         APIM-Client-DevPortal-OAuth                  Member       2023-06-22 13:35:04.431741+00:00   \n",
       "                                                                        Azure Portal                                 Member    2023-06-23 15:19:08.625894900+00:00   \n",
       "                                                                        KustoClient                                  Member    2023-06-23 17:56:19.086130200+00:00   \n",
       "                                                                        Microsoft 365 Security and Compliance Center Member    2023-06-23 19:52:43.528762100+00:00   \n",
       "                                                                        Microsoft Account Controls V2                Member    2023-06-22 20:25:00.982638900+00:00   \n",
       "                                                                        Microsoft App Access Panel                   Member    2023-06-23 18:02:02.989603700+00:00   \n",
       "                                                                        My Apps                                      Member    2023-06-22 20:25:22.113400100+00:00   \n",
       "                                                                        Office 365 SharePoint Online                 Member    2023-06-22 16:52:12.190582600+00:00   \n",
       "                                                                        Office Online Augmentation Loop SSO          Member    2023-06-22 16:51:24.217526400+00:00   \n",
       "                                                                        Office Online Core SSO                       Member    2023-06-22 16:50:33.404717500+00:00   \n",
       "                                                                        Office Online Loki SSO                       Member    2023-06-22 16:52:17.321488400+00:00   \n",
       "                                                                        Office Online Search SSO                     Member    2023-06-22 16:50:55.399794400+00:00   \n",
       "                                                                        Office365 Shell WCSS-Client                  Member    2023-06-22 16:50:41.821727200+00:00   \n",
       "                                                                        SWSD - Test Environment                      Member    2023-06-22 20:24:47.060091500+00:00   \n",
       "                                                                        Salesforce                                   Member    2023-06-22 16:51:51.999204700+00:00   \n",
       "                                                                        SharePoint Online Web Client Extensibility   Member    2023-06-23 16:10:58.395194800+00:00   \n",
       "                                                                        WEDC Service Desk                            Member    2023-06-22 16:20:20.281791300+00:00   \n",
       "                                                                        Windows Sign In                              Member    2023-06-22 13:20:13.016097500+00:00   \n",
       "\n",
       "                                                                                                                                                     LastOperation  \n",
       "UserPrincipalName                  Type           IPAddress             AppResourceProvider                          UserType                                       \n",
       "griffin.cass@0sdss.onmicrosoft.com SigninLogs     69.130.255.13         Inform Development                           Guest     2023-06-23 16:16:52.418435900+00:00  \n",
       "                                                                        My Apps                                      Guest     2023-06-23 17:30:14.834238300+00:00  \n",
       "                                                                        Salesforce                                   Guest     2023-06-23 17:30:14.849866700+00:00  \n",
       "                                                                        Salesforce Partial                           Guest     2023-06-23 16:17:53.387917400+00:00  \n",
       "griffin.cass@wedc.org              OfficeActivity 144.92.154.82         Exchange                                     Regular             2023-06-23 14:06:24+00:00  \n",
       "                                                  192.168.1.72          MicrosoftTeams                               Regular             2023-06-23 03:38:58+00:00  \n",
       "                                                  192.168.86.42         MicrosoftTeams                               Regular             2023-06-23 03:38:58+00:00  \n",
       "                                                  20.190.157.160        Exchange                                     Regular             2023-06-23 19:02:12+00:00  \n",
       "                                                  20.190.157.27         Exchange                                     Regular             2023-06-23 17:36:27+00:00  \n",
       "                                                  20.190.157.30         Exchange                                     Regular             2023-06-23 18:42:58+00:00  \n",
       "                                                  20.190.157.96         Exchange                                     Regular             2023-06-23 17:38:53+00:00  \n",
       "                                                  20.190.157.97         Exchange                                     Regular             2023-06-23 18:45:26+00:00  \n",
       "                                                  216.56.240.114        OneDrive                                     Regular             2023-06-22 16:12:32+00:00  \n",
       "                                                  2600:387:c:5516::3    Exchange                                     Regular             2023-06-23 14:59:07+00:00  \n",
       "                                                  2603:10b6:208:23d::15 Exchange                                     Regular             2023-06-22 13:36:04+00:00  \n",
       "                                                  2603:10b6:208:3ac::10 Exchange                                     Regular             2023-06-23 18:41:54+00:00  \n",
       "                                                  2603:10b6:208:3da::13 Exchange                                     Regular             2023-06-23 17:51:02+00:00  \n",
       "                                                  2603:10b6:208:481::10 Exchange                                     Regular             2023-06-23 19:52:28+00:00  \n",
       "                                                  2603:10b6:208:48a::21 Exchange                                     Regular             2023-06-23 08:47:28+00:00  \n",
       "                                                  2603:10b6:208:48c::19 Exchange                                     Regular             2023-06-22 07:13:05+00:00  \n",
       "                                                  40.126.29.96          Exchange                                     Regular             2023-06-23 18:41:58+00:00  \n",
       "                                                  52.104.99.160         OneDrive                                     Regular             2023-06-23 17:02:57+00:00  \n",
       "                                                  52.104.99.161         OneDrive                                     Regular             2023-06-23 15:30:11+00:00  \n",
       "                                                  52.104.99.164         OneDrive                                     Regular             2023-06-23 15:30:11+00:00  \n",
       "                                                  52.104.99.165         OneDrive                                     Regular             2023-06-23 17:02:56+00:00  \n",
       "                                                  52.104.99.166         OneDrive                                     Regular             2023-06-23 15:30:11+00:00  \n",
       "                                                  52.104.99.169         SharePoint                                   Regular             2023-06-23 16:08:47+00:00  \n",
       "                                                  52.104.99.170         OneDrive                                     Regular             2023-06-23 17:02:56+00:00  \n",
       "                                                  52.104.99.171         SharePoint                                   Regular             2023-06-23 16:08:48+00:00  \n",
       "                                                  52.104.99.172         OneDrive                                     Regular             2023-06-22 21:53:53+00:00  \n",
       "                                                  52.104.99.174         OneDrive                                     Regular             2023-06-23 15:18:15+00:00  \n",
       "                                                  52.104.99.175         OneDrive                                     Regular             2023-06-22 21:53:53+00:00  \n",
       "                                                  52.104.99.50          SharePoint                                   Regular             2023-06-23 16:08:47+00:00  \n",
       "                                                  69.130.255.13         Exchange                                     Regular             2023-06-23 19:53:09+00:00  \n",
       "                                                                        OneDrive                                     Regular             2023-06-23 15:18:15+00:00  \n",
       "                                                                        SharePoint                                   Regular             2023-06-23 19:53:23+00:00  \n",
       "                                                  ::ffff:69.130.255.13  MicrosoftTeams                               Regular             2023-06-23 13:11:37+00:00  \n",
       "                                   SigninLogs     216.56.240.114        Windows Sign In                              Member    2023-06-23 15:31:44.437631800+00:00  \n",
       "                                                  69.130.255.13         APIM-Client-DevPortal-OAuth                  Member    2023-06-22 21:48:19.888242400+00:00  \n",
       "                                                                        Azure Portal                                 Member    2023-06-23 16:10:15.345859200+00:00  \n",
       "                                                                        KustoClient                                  Member    2023-06-23 17:58:09.428734900+00:00  \n",
       "                                                                        Microsoft 365 Security and Compliance Center Member    2023-06-23 19:52:43.528762100+00:00  \n",
       "                                                                        Microsoft Account Controls V2                Member    2023-06-22 20:25:58.494646900+00:00  \n",
       "                                                                        Microsoft App Access Panel                   Member       2023-06-23 19:51:19.353819+00:00  \n",
       "                                                                        My Apps                                      Member    2023-06-22 20:26:13.379946100+00:00  \n",
       "                                                                        Office 365 SharePoint Online                 Member    2023-06-23 16:10:58.395194800+00:00  \n",
       "                                                                        Office Online Augmentation Loop SSO          Member    2023-06-22 16:51:24.217526400+00:00  \n",
       "                                                                        Office Online Core SSO                       Member    2023-06-22 16:50:33.404717500+00:00  \n",
       "                                                                        Office Online Loki SSO                       Member    2023-06-22 16:52:17.321488400+00:00  \n",
       "                                                                        Office Online Search SSO                     Member    2023-06-22 16:50:55.399794400+00:00  \n",
       "                                                                        Office365 Shell WCSS-Client                  Member    2023-06-23 19:54:39.132402200+00:00  \n",
       "                                                                        SWSD - Test Environment                      Member    2023-06-22 20:24:47.060091500+00:00  \n",
       "                                                                        Salesforce                                   Member    2023-06-22 16:51:51.999204700+00:00  \n",
       "                                                                        SharePoint Online Web Client Extensibility   Member    2023-06-23 16:10:58.395194800+00:00  \n",
       "                                                                        WEDC Service Desk                            Member    2023-06-22 16:20:20.281791300+00:00  \n",
       "                                                                        Windows Sign In                              Member    2023-06-23 15:06:18.913126500+00:00  "
      ]
     },
     "metadata": {},
     "output_type": "display_data"
    },
    {
     "data": {
      "text/html": [
       "<h3>IP Address details summary</h3>"
      ],
      "text/plain": [
       "<IPython.core.display.HTML object>"
      ]
     },
     "metadata": {},
     "output_type": "display_data"
    },
    {
     "data": {
      "text/html": [
       " Number of operations detected by IP Address. The table shows WhoIs ASN Description and Country Code. If UserAgent is contained in the data, operations are also grouped by this. "
      ],
      "text/plain": [
       "<IPython.core.display.HTML object>"
      ]
     },
     "metadata": {},
     "output_type": "display_data"
    },
    {
     "data": {
      "text/html": [
       "<p style=''>Querying geolocation for 31 ip addresses...</p>"
      ],
      "text/plain": [
       "<IPython.core.display.HTML object>"
      ]
     },
     "metadata": {},
     "output_type": "display_data"
    },
    {
     "data": {
      "text/html": [
       "<p style=''>Querying WhoIs for 31 ip addresses...</p>"
      ],
      "text/plain": [
       "<IPython.core.display.HTML object>"
      ]
     },
     "metadata": {},
     "output_type": "display_data"
    },
    {
     "data": {
      "text/html": [
       "<div>\n",
       "<style scoped>\n",
       "    .dataframe tbody tr th:only-of-type {\n",
       "        vertical-align: middle;\n",
       "    }\n",
       "\n",
       "    .dataframe tbody tr th {\n",
       "        vertical-align: top;\n",
       "    }\n",
       "\n",
       "    .dataframe thead th {\n",
       "        text-align: right;\n",
       "    }\n",
       "</style>\n",
       "<table border=\"1\" class=\"dataframe\">\n",
       "  <thead>\n",
       "    <tr style=\"text-align: right;\">\n",
       "      <th></th>\n",
       "      <th></th>\n",
       "      <th></th>\n",
       "      <th></th>\n",
       "      <th></th>\n",
       "      <th></th>\n",
       "      <th>Count</th>\n",
       "      <th>FirstOperation</th>\n",
       "      <th>LastOperation</th>\n",
       "    </tr>\n",
       "    <tr>\n",
       "      <th>Source</th>\n",
       "      <th>Operation</th>\n",
       "      <th>UserAgent</th>\n",
       "      <th>IpAddress</th>\n",
       "      <th>AsnDescription</th>\n",
       "      <th>CountryCode</th>\n",
       "      <th></th>\n",
       "      <th></th>\n",
       "      <th></th>\n",
       "    </tr>\n",
       "  </thead>\n",
       "  <tbody>\n",
       "    <tr>\n",
       "      <th rowspan=\"3\" valign=\"top\">AzureActiveDirectory</th>\n",
       "      <th rowspan=\"3\" valign=\"top\">Sign-in activity</th>\n",
       "      <th>Mozilla/5.0 (Windows NT 10.0; Win64; x64) AppleWebKit/537.36 (KHTML, like Gecko) Chrome/114.0.0.0 Safari/537.36 Edg/114.0.1823.51</th>\n",
       "      <th>69.130.255.13</th>\n",
       "      <th>TDS-AS, US</th>\n",
       "      <th>US</th>\n",
       "      <td>105</td>\n",
       "      <td>2023-06-22 13:35:04.431741+00:00</td>\n",
       "      <td>2023-06-23 19:54:39.132402200+00:00</td>\n",
       "    </tr>\n",
       "    <tr>\n",
       "      <th rowspan=\"2\" valign=\"top\">Windows-AzureAD-Authentication-Provider/1.0</th>\n",
       "      <th>216.56.240.114</th>\n",
       "      <th>WISCNET1-AS, US</th>\n",
       "      <th>US</th>\n",
       "      <td>2</td>\n",
       "      <td>2023-06-22 21:55:33.408320900+00:00</td>\n",
       "      <td>2023-06-23 15:31:44.437631800+00:00</td>\n",
       "    </tr>\n",
       "    <tr>\n",
       "      <th>69.130.255.13</th>\n",
       "      <th>TDS-AS, US</th>\n",
       "      <th>US</th>\n",
       "      <td>3</td>\n",
       "      <td>2023-06-22 13:20:13.016097500+00:00</td>\n",
       "      <td>2023-06-23 15:06:18.913126500+00:00</td>\n",
       "    </tr>\n",
       "    <tr>\n",
       "      <th rowspan=\"45\" valign=\"top\">Office365</th>\n",
       "      <th>AddedToGroup</th>\n",
       "      <th>Mozilla/5.0 (Windows NT 10.0; Win64; x64) AppleWebKit/537.36 (KHTML, like Gecko) Chrome/114.0.0.0 Safari/537.36 Edg/114.0.1823.51</th>\n",
       "      <th>69.130.255.13</th>\n",
       "      <th>TDS-AS, US</th>\n",
       "      <th>US</th>\n",
       "      <td>2</td>\n",
       "      <td>2023-06-22 16:49:04+00:00</td>\n",
       "      <td>2023-06-23 19:52:46+00:00</td>\n",
       "    </tr>\n",
       "    <tr>\n",
       "      <th>CompanyLinkUsed</th>\n",
       "      <th>Mozilla/5.0 (Windows NT 10.0; Win64; x64) AppleWebKit/537.36 (KHTML, like Gecko) Chrome/114.0.0.0 Safari/537.36 Edg/114.0.1823.51</th>\n",
       "      <th>69.130.255.13</th>\n",
       "      <th>TDS-AS, US</th>\n",
       "      <th>US</th>\n",
       "      <td>2</td>\n",
       "      <td>2023-06-22 16:49:04+00:00</td>\n",
       "      <td>2023-06-23 19:52:46+00:00</td>\n",
       "    </tr>\n",
       "    <tr>\n",
       "      <th rowspan=\"2\" valign=\"top\">Create</th>\n",
       "      <th rowspan=\"2\" valign=\"top\"></th>\n",
       "      <th>2603:10b6:208:481::10</th>\n",
       "      <th>NA</th>\n",
       "      <th>US</th>\n",
       "      <td>3</td>\n",
       "      <td>2023-06-22 23:36:50+00:00</td>\n",
       "      <td>2023-06-23 02:57:05+00:00</td>\n",
       "    </tr>\n",
       "    <tr>\n",
       "      <th>69.130.255.13</th>\n",
       "      <th>TDS-AS, US</th>\n",
       "      <th>US</th>\n",
       "      <td>23</td>\n",
       "      <td>2023-06-21 20:58:19+00:00</td>\n",
       "      <td>2023-06-23 19:53:07+00:00</td>\n",
       "    </tr>\n",
       "    <tr>\n",
       "      <th rowspan=\"2\" valign=\"top\">FileAccessed</th>\n",
       "      <th>Mozilla/5.0 (Windows NT 10.0; Win64; x64) AppleWebKit/537.36 (KHTML, like Gecko) Chrome/114.0.0.0 Safari/537.36 Edg/114.0.1823.51</th>\n",
       "      <th>69.130.255.13</th>\n",
       "      <th>TDS-AS, US</th>\n",
       "      <th>US</th>\n",
       "      <td>5</td>\n",
       "      <td>2023-06-22 16:49:04+00:00</td>\n",
       "      <td>2023-06-23 19:52:50+00:00</td>\n",
       "    </tr>\n",
       "    <tr>\n",
       "      <th>OneDriveMpc-Transform_Thumbnail/1.0</th>\n",
       "      <th>52.104.99.174</th>\n",
       "      <th>MICROSOFT-CORP-MSN-AS-BLOCK, US</th>\n",
       "      <th>US</th>\n",
       "      <td>1</td>\n",
       "      <td>2023-06-23 15:18:15+00:00</td>\n",
       "      <td>2023-06-23 15:18:15+00:00</td>\n",
       "    </tr>\n",
       "    <tr>\n",
       "      <th>FileModified</th>\n",
       "      <th>Microsoft SkyDriveSync 23.114.0530.0001 ship; Windows NT 10.0 (19042)</th>\n",
       "      <th>69.130.255.13</th>\n",
       "      <th>TDS-AS, US</th>\n",
       "      <th>US</th>\n",
       "      <td>1</td>\n",
       "      <td>2023-06-22 22:12:17+00:00</td>\n",
       "      <td>2023-06-22 22:12:17+00:00</td>\n",
       "    </tr>\n",
       "    <tr>\n",
       "      <th rowspan=\"12\" valign=\"top\">FilePreviewed</th>\n",
       "      <th>Microsoft SkyDriveSync 23.114.0530.0001 ship; Windows NT 10.0 (19042)</th>\n",
       "      <th>69.130.255.13</th>\n",
       "      <th>TDS-AS, US</th>\n",
       "      <th>US</th>\n",
       "      <td>2</td>\n",
       "      <td>2023-06-22 19:55:48+00:00</td>\n",
       "      <td>2023-06-23 15:18:15+00:00</td>\n",
       "    </tr>\n",
       "    <tr>\n",
       "      <th rowspan=\"11\" valign=\"top\">OneDriveMpc-Transform_Thumbnail/1.0</th>\n",
       "      <th>52.104.99.160</th>\n",
       "      <th>MICROSOFT-CORP-MSN-AS-BLOCK, US</th>\n",
       "      <th>US</th>\n",
       "      <td>3</td>\n",
       "      <td>2023-06-22 12:33:23+00:00</td>\n",
       "      <td>2023-06-23 17:02:57+00:00</td>\n",
       "    </tr>\n",
       "    <tr>\n",
       "      <th>52.104.99.161</th>\n",
       "      <th>MICROSOFT-CORP-MSN-AS-BLOCK, US</th>\n",
       "      <th>US</th>\n",
       "      <td>2</td>\n",
       "      <td>2023-06-22 21:53:53+00:00</td>\n",
       "      <td>2023-06-23 15:30:11+00:00</td>\n",
       "    </tr>\n",
       "    <tr>\n",
       "      <th>52.104.99.164</th>\n",
       "      <th>MICROSOFT-CORP-MSN-AS-BLOCK, US</th>\n",
       "      <th>US</th>\n",
       "      <td>1</td>\n",
       "      <td>2023-06-23 15:30:11+00:00</td>\n",
       "      <td>2023-06-23 15:30:11+00:00</td>\n",
       "    </tr>\n",
       "    <tr>\n",
       "      <th>52.104.99.165</th>\n",
       "      <th>MICROSOFT-CORP-MSN-AS-BLOCK, US</th>\n",
       "      <th>US</th>\n",
       "      <td>1</td>\n",
       "      <td>2023-06-23 17:02:56+00:00</td>\n",
       "      <td>2023-06-23 17:02:56+00:00</td>\n",
       "    </tr>\n",
       "    <tr>\n",
       "      <th>52.104.99.166</th>\n",
       "      <th>MICROSOFT-CORP-MSN-AS-BLOCK, US</th>\n",
       "      <th>US</th>\n",
       "      <td>2</td>\n",
       "      <td>2023-06-22 12:33:23+00:00</td>\n",
       "      <td>2023-06-23 15:30:11+00:00</td>\n",
       "    </tr>\n",
       "    <tr>\n",
       "      <th>52.104.99.169</th>\n",
       "      <th>MICROSOFT-CORP-MSN-AS-BLOCK, US</th>\n",
       "      <th>US</th>\n",
       "      <td>1</td>\n",
       "      <td>2023-06-23 16:08:47+00:00</td>\n",
       "      <td>2023-06-23 16:08:47+00:00</td>\n",
       "    </tr>\n",
       "    <tr>\n",
       "      <th>52.104.99.170</th>\n",
       "      <th>MICROSOFT-CORP-MSN-AS-BLOCK, US</th>\n",
       "      <th>US</th>\n",
       "      <td>1</td>\n",
       "      <td>2023-06-23 17:02:56+00:00</td>\n",
       "      <td>2023-06-23 17:02:56+00:00</td>\n",
       "    </tr>\n",
       "    <tr>\n",
       "      <th>52.104.99.171</th>\n",
       "      <th>MICROSOFT-CORP-MSN-AS-BLOCK, US</th>\n",
       "      <th>US</th>\n",
       "      <td>1</td>\n",
       "      <td>2023-06-23 16:08:48+00:00</td>\n",
       "      <td>2023-06-23 16:08:48+00:00</td>\n",
       "    </tr>\n",
       "    <tr>\n",
       "      <th>52.104.99.172</th>\n",
       "      <th>MICROSOFT-CORP-MSN-AS-BLOCK, US</th>\n",
       "      <th>US</th>\n",
       "      <td>1</td>\n",
       "      <td>2023-06-22 21:53:53+00:00</td>\n",
       "      <td>2023-06-22 21:53:53+00:00</td>\n",
       "    </tr>\n",
       "    <tr>\n",
       "      <th>52.104.99.175</th>\n",
       "      <th>MICROSOFT-CORP-MSN-AS-BLOCK, US</th>\n",
       "      <th>US</th>\n",
       "      <td>3</td>\n",
       "      <td>2023-06-22 12:33:23+00:00</td>\n",
       "      <td>2023-06-22 21:53:53+00:00</td>\n",
       "    </tr>\n",
       "    <tr>\n",
       "      <th>52.104.99.50</th>\n",
       "      <th>MICROSOFT-CORP-MSN-AS-BLOCK, US</th>\n",
       "      <th>US</th>\n",
       "      <td>1</td>\n",
       "      <td>2023-06-23 16:08:47+00:00</td>\n",
       "      <td>2023-06-23 16:08:47+00:00</td>\n",
       "    </tr>\n",
       "    <tr>\n",
       "      <th rowspan=\"2\" valign=\"top\">FileSyncDownloadedFull</th>\n",
       "      <th>Microsoft SkyDriveSync 23.114.0530.0001 ship; Windows NT 10.0 (19042)</th>\n",
       "      <th>69.130.255.13</th>\n",
       "      <th>TDS-AS, US</th>\n",
       "      <th>US</th>\n",
       "      <td>1</td>\n",
       "      <td>2023-06-22 14:34:41+00:00</td>\n",
       "      <td>2023-06-22 14:34:41+00:00</td>\n",
       "    </tr>\n",
       "    <tr>\n",
       "      <th>Microsoft SkyDriveSync 23.124.0613.0001 ship; Windows NT 10.0 (19042)</th>\n",
       "      <th>216.56.240.114</th>\n",
       "      <th>WISCNET1-AS, US</th>\n",
       "      <th>US</th>\n",
       "      <td>1</td>\n",
       "      <td>2023-06-22 16:12:32+00:00</td>\n",
       "      <td>2023-06-22 16:12:32+00:00</td>\n",
       "    </tr>\n",
       "    <tr>\n",
       "      <th>FileSyncUploadedFull</th>\n",
       "      <th>Microsoft SkyDriveSync 23.114.0530.0001 ship; Windows NT 10.0 (19042)</th>\n",
       "      <th>69.130.255.13</th>\n",
       "      <th>TDS-AS, US</th>\n",
       "      <th>US</th>\n",
       "      <td>1</td>\n",
       "      <td>2023-06-22 16:12:29+00:00</td>\n",
       "      <td>2023-06-22 16:12:29+00:00</td>\n",
       "    </tr>\n",
       "    <tr>\n",
       "      <th>HardDelete</th>\n",
       "      <th></th>\n",
       "      <th>69.130.255.13</th>\n",
       "      <th>TDS-AS, US</th>\n",
       "      <th>US</th>\n",
       "      <td>3</td>\n",
       "      <td>2023-06-21 20:58:17+00:00</td>\n",
       "      <td>2023-06-23 19:53:06+00:00</td>\n",
       "    </tr>\n",
       "    <tr>\n",
       "      <th>ListViewed</th>\n",
       "      <th>Mozilla/5.0 (Windows NT 10.0; Win64; x64) AppleWebKit/537.36 (KHTML, like Gecko) Chrome/114.0.0.0 Safari/537.36 Edg/114.0.1823.51</th>\n",
       "      <th>69.130.255.13</th>\n",
       "      <th>TDS-AS, US</th>\n",
       "      <th>US</th>\n",
       "      <td>9</td>\n",
       "      <td>2023-06-23 19:52:47+00:00</td>\n",
       "      <td>2023-06-23 19:53:23+00:00</td>\n",
       "    </tr>\n",
       "    <tr>\n",
       "      <th rowspan=\"15\" valign=\"top\">MailItemsAccessed</th>\n",
       "      <th rowspan=\"15\" valign=\"top\"></th>\n",
       "      <th>144.92.154.82</th>\n",
       "      <th>WISC-MADISON-AS, US</th>\n",
       "      <th>US</th>\n",
       "      <td>2</td>\n",
       "      <td>2023-06-23 13:58:35+00:00</td>\n",
       "      <td>2023-06-23 14:06:24+00:00</td>\n",
       "    </tr>\n",
       "    <tr>\n",
       "      <th>20.190.157.160</th>\n",
       "      <th>MICROSOFT-CORP-MSN-AS-BLOCK, US</th>\n",
       "      <th>US</th>\n",
       "      <td>14</td>\n",
       "      <td>2023-06-21 22:21:58+00:00</td>\n",
       "      <td>2023-06-23 19:02:12+00:00</td>\n",
       "    </tr>\n",
       "    <tr>\n",
       "      <th>20.190.157.27</th>\n",
       "      <th>MICROSOFT-CORP-MSN-AS-BLOCK, US</th>\n",
       "      <th>US</th>\n",
       "      <td>11</td>\n",
       "      <td>2023-06-21 20:21:57+00:00</td>\n",
       "      <td>2023-06-23 17:36:27+00:00</td>\n",
       "    </tr>\n",
       "    <tr>\n",
       "      <th>20.190.157.30</th>\n",
       "      <th>MICROSOFT-CORP-MSN-AS-BLOCK, US</th>\n",
       "      <th>US</th>\n",
       "      <td>22</td>\n",
       "      <td>2023-06-21 23:21:59+00:00</td>\n",
       "      <td>2023-06-23 18:42:58+00:00</td>\n",
       "    </tr>\n",
       "    <tr>\n",
       "      <th>20.190.157.96</th>\n",
       "      <th>MICROSOFT-CORP-MSN-AS-BLOCK, US</th>\n",
       "      <th>US</th>\n",
       "      <td>18</td>\n",
       "      <td>2023-06-21 21:21:57+00:00</td>\n",
       "      <td>2023-06-23 17:38:53+00:00</td>\n",
       "    </tr>\n",
       "    <tr>\n",
       "      <th>20.190.157.97</th>\n",
       "      <th>MICROSOFT-CORP-MSN-AS-BLOCK, US</th>\n",
       "      <th>US</th>\n",
       "      <td>20</td>\n",
       "      <td>2023-06-22 01:58:54+00:00</td>\n",
       "      <td>2023-06-23 18:45:26+00:00</td>\n",
       "    </tr>\n",
       "    <tr>\n",
       "      <th>2600:387:c:5516::3</th>\n",
       "      <th>ATT-INTERNET4, US</th>\n",
       "      <th>US</th>\n",
       "      <td>12</td>\n",
       "      <td>2023-06-21 21:39:29+00:00</td>\n",
       "      <td>2023-06-23 14:59:07+00:00</td>\n",
       "    </tr>\n",
       "    <tr>\n",
       "      <th>2603:10b6:208:23d::15</th>\n",
       "      <th>NA</th>\n",
       "      <th>US</th>\n",
       "      <td>1</td>\n",
       "      <td>2023-06-22 13:36:04+00:00</td>\n",
       "      <td>2023-06-22 13:36:04+00:00</td>\n",
       "    </tr>\n",
       "    <tr>\n",
       "      <th>2603:10b6:208:3ac::10</th>\n",
       "      <th>NA</th>\n",
       "      <th>US</th>\n",
       "      <td>1</td>\n",
       "      <td>2023-06-23 18:41:54+00:00</td>\n",
       "      <td>2023-06-23 18:41:54+00:00</td>\n",
       "    </tr>\n",
       "    <tr>\n",
       "      <th>2603:10b6:208:3da::13</th>\n",
       "      <th>NA</th>\n",
       "      <th>US</th>\n",
       "      <td>20</td>\n",
       "      <td>2023-06-21 21:10:05+00:00</td>\n",
       "      <td>2023-06-23 17:51:02+00:00</td>\n",
       "    </tr>\n",
       "    <tr>\n",
       "      <th>2603:10b6:208:481::10</th>\n",
       "      <th>NA</th>\n",
       "      <th>US</th>\n",
       "      <td>9</td>\n",
       "      <td>2023-06-21 21:00:40+00:00</td>\n",
       "      <td>2023-06-23 19:52:28+00:00</td>\n",
       "    </tr>\n",
       "    <tr>\n",
       "      <th>2603:10b6:208:48a::21</th>\n",
       "      <th>NA</th>\n",
       "      <th>US</th>\n",
       "      <td>12</td>\n",
       "      <td>2023-06-23 08:47:28+00:00</td>\n",
       "      <td>2023-06-23 08:47:28+00:00</td>\n",
       "    </tr>\n",
       "    <tr>\n",
       "      <th>2603:10b6:208:48c::19</th>\n",
       "      <th>NA</th>\n",
       "      <th>US</th>\n",
       "      <td>11</td>\n",
       "      <td>2023-06-22 07:13:05+00:00</td>\n",
       "      <td>2023-06-22 07:13:05+00:00</td>\n",
       "    </tr>\n",
       "    <tr>\n",
       "      <th>40.126.29.96</th>\n",
       "      <th>MICROSOFT-CORP-MSN-AS-BLOCK, US</th>\n",
       "      <th>US</th>\n",
       "      <td>22</td>\n",
       "      <td>2023-06-22 04:08:27+00:00</td>\n",
       "      <td>2023-06-23 18:41:58+00:00</td>\n",
       "    </tr>\n",
       "    <tr>\n",
       "      <th>69.130.255.13</th>\n",
       "      <th>TDS-AS, US</th>\n",
       "      <th>US</th>\n",
       "      <td>235</td>\n",
       "      <td>2023-06-21 20:21:55+00:00</td>\n",
       "      <td>2023-06-23 19:53:09+00:00</td>\n",
       "    </tr>\n",
       "    <tr>\n",
       "      <th>Move</th>\n",
       "      <th></th>\n",
       "      <th>69.130.255.13</th>\n",
       "      <th>TDS-AS, US</th>\n",
       "      <th>US</th>\n",
       "      <td>4</td>\n",
       "      <td>2023-06-22 14:25:12+00:00</td>\n",
       "      <td>2023-06-22 17:11:27+00:00</td>\n",
       "    </tr>\n",
       "    <tr>\n",
       "      <th>MoveToDeletedItems</th>\n",
       "      <th></th>\n",
       "      <th>69.130.255.13</th>\n",
       "      <th>TDS-AS, US</th>\n",
       "      <th>US</th>\n",
       "      <td>8</td>\n",
       "      <td>2023-06-21 20:58:30+00:00</td>\n",
       "      <td>2023-06-23 19:53:06+00:00</td>\n",
       "    </tr>\n",
       "    <tr>\n",
       "      <th>PageViewed</th>\n",
       "      <th>Mozilla/5.0 (Windows NT 10.0; Win64; x64) AppleWebKit/537.36 (KHTML, like Gecko) Chrome/114.0.0.0 Safari/537.36 Edg/114.0.1823.51</th>\n",
       "      <th>69.130.255.13</th>\n",
       "      <th>TDS-AS, US</th>\n",
       "      <th>US</th>\n",
       "      <td>7</td>\n",
       "      <td>2023-06-22 16:49:10+00:00</td>\n",
       "      <td>2023-06-23 19:52:49+00:00</td>\n",
       "    </tr>\n",
       "    <tr>\n",
       "      <th>SignInEvent</th>\n",
       "      <th>Mozilla/5.0 (Windows NT 10.0; Win64; x64) AppleWebKit/537.36 (KHTML, like Gecko) Chrome/114.0.0.0 Safari/537.36 Edg/114.0.1823.51</th>\n",
       "      <th>69.130.255.13</th>\n",
       "      <th>TDS-AS, US</th>\n",
       "      <th>US</th>\n",
       "      <td>2</td>\n",
       "      <td>2023-06-22 16:49:04+00:00</td>\n",
       "      <td>2023-06-23 16:08:44+00:00</td>\n",
       "    </tr>\n",
       "    <tr>\n",
       "      <th>SoftDelete</th>\n",
       "      <th></th>\n",
       "      <th>69.130.255.13</th>\n",
       "      <th>TDS-AS, US</th>\n",
       "      <th>US</th>\n",
       "      <td>13</td>\n",
       "      <td>2023-06-22 12:23:11+00:00</td>\n",
       "      <td>2023-06-23 19:02:21+00:00</td>\n",
       "    </tr>\n",
       "    <tr>\n",
       "      <th>Update</th>\n",
       "      <th></th>\n",
       "      <th>69.130.255.13</th>\n",
       "      <th>TDS-AS, US</th>\n",
       "      <th>US</th>\n",
       "      <td>2</td>\n",
       "      <td>2023-06-22 14:06:38+00:00</td>\n",
       "      <td>2023-06-22 14:07:10+00:00</td>\n",
       "    </tr>\n",
       "  </tbody>\n",
       "</table>\n",
       "</div>"
      ],
      "text/plain": [
       "                                                                                                                                                                                                                    Count  \\\n",
       "Source               Operation              UserAgent                                                                                            IpAddress             AsnDescription                  CountryCode          \n",
       "AzureActiveDirectory Sign-in activity       Mozilla/5.0 (Windows NT 10.0; Win64; x64) AppleWebKit/537.36 (KHTML, like Gecko) Chrome/114.0.0.0... 69.130.255.13         TDS-AS, US                      US             105   \n",
       "                                            Windows-AzureAD-Authentication-Provider/1.0                                                          216.56.240.114        WISCNET1-AS, US                 US               2   \n",
       "                                                                                                                                                 69.130.255.13         TDS-AS, US                      US               3   \n",
       "Office365            AddedToGroup           Mozilla/5.0 (Windows NT 10.0; Win64; x64) AppleWebKit/537.36 (KHTML, like Gecko) Chrome/114.0.0.0... 69.130.255.13         TDS-AS, US                      US               2   \n",
       "                     CompanyLinkUsed        Mozilla/5.0 (Windows NT 10.0; Win64; x64) AppleWebKit/537.36 (KHTML, like Gecko) Chrome/114.0.0.0... 69.130.255.13         TDS-AS, US                      US               2   \n",
       "                     Create                                                                                                                      2603:10b6:208:481::10 NA                              US               3   \n",
       "                                                                                                                                                 69.130.255.13         TDS-AS, US                      US              23   \n",
       "                     FileAccessed           Mozilla/5.0 (Windows NT 10.0; Win64; x64) AppleWebKit/537.36 (KHTML, like Gecko) Chrome/114.0.0.0... 69.130.255.13         TDS-AS, US                      US               5   \n",
       "                                            OneDriveMpc-Transform_Thumbnail/1.0                                                                  52.104.99.174         MICROSOFT-CORP-MSN-AS-BLOCK, US US               1   \n",
       "                     FileModified           Microsoft SkyDriveSync 23.114.0530.0001 ship; Windows NT 10.0 (19042)                                69.130.255.13         TDS-AS, US                      US               1   \n",
       "                     FilePreviewed          Microsoft SkyDriveSync 23.114.0530.0001 ship; Windows NT 10.0 (19042)                                69.130.255.13         TDS-AS, US                      US               2   \n",
       "                                            OneDriveMpc-Transform_Thumbnail/1.0                                                                  52.104.99.160         MICROSOFT-CORP-MSN-AS-BLOCK, US US               3   \n",
       "                                                                                                                                                 52.104.99.161         MICROSOFT-CORP-MSN-AS-BLOCK, US US               2   \n",
       "                                                                                                                                                 52.104.99.164         MICROSOFT-CORP-MSN-AS-BLOCK, US US               1   \n",
       "                                                                                                                                                 52.104.99.165         MICROSOFT-CORP-MSN-AS-BLOCK, US US               1   \n",
       "                                                                                                                                                 52.104.99.166         MICROSOFT-CORP-MSN-AS-BLOCK, US US               2   \n",
       "                                                                                                                                                 52.104.99.169         MICROSOFT-CORP-MSN-AS-BLOCK, US US               1   \n",
       "                                                                                                                                                 52.104.99.170         MICROSOFT-CORP-MSN-AS-BLOCK, US US               1   \n",
       "                                                                                                                                                 52.104.99.171         MICROSOFT-CORP-MSN-AS-BLOCK, US US               1   \n",
       "                                                                                                                                                 52.104.99.172         MICROSOFT-CORP-MSN-AS-BLOCK, US US               1   \n",
       "                                                                                                                                                 52.104.99.175         MICROSOFT-CORP-MSN-AS-BLOCK, US US               3   \n",
       "                                                                                                                                                 52.104.99.50          MICROSOFT-CORP-MSN-AS-BLOCK, US US               1   \n",
       "                     FileSyncDownloadedFull Microsoft SkyDriveSync 23.114.0530.0001 ship; Windows NT 10.0 (19042)                                69.130.255.13         TDS-AS, US                      US               1   \n",
       "                                            Microsoft SkyDriveSync 23.124.0613.0001 ship; Windows NT 10.0 (19042)                                216.56.240.114        WISCNET1-AS, US                 US               1   \n",
       "                     FileSyncUploadedFull   Microsoft SkyDriveSync 23.114.0530.0001 ship; Windows NT 10.0 (19042)                                69.130.255.13         TDS-AS, US                      US               1   \n",
       "                     HardDelete                                                                                                                  69.130.255.13         TDS-AS, US                      US               3   \n",
       "                     ListViewed             Mozilla/5.0 (Windows NT 10.0; Win64; x64) AppleWebKit/537.36 (KHTML, like Gecko) Chrome/114.0.0.0... 69.130.255.13         TDS-AS, US                      US               9   \n",
       "                     MailItemsAccessed                                                                                                           144.92.154.82         WISC-MADISON-AS, US             US               2   \n",
       "                                                                                                                                                 20.190.157.160        MICROSOFT-CORP-MSN-AS-BLOCK, US US              14   \n",
       "                                                                                                                                                 20.190.157.27         MICROSOFT-CORP-MSN-AS-BLOCK, US US              11   \n",
       "                                                                                                                                                 20.190.157.30         MICROSOFT-CORP-MSN-AS-BLOCK, US US              22   \n",
       "                                                                                                                                                 20.190.157.96         MICROSOFT-CORP-MSN-AS-BLOCK, US US              18   \n",
       "                                                                                                                                                 20.190.157.97         MICROSOFT-CORP-MSN-AS-BLOCK, US US              20   \n",
       "                                                                                                                                                 2600:387:c:5516::3    ATT-INTERNET4, US               US              12   \n",
       "                                                                                                                                                 2603:10b6:208:23d::15 NA                              US               1   \n",
       "                                                                                                                                                 2603:10b6:208:3ac::10 NA                              US               1   \n",
       "                                                                                                                                                 2603:10b6:208:3da::13 NA                              US              20   \n",
       "                                                                                                                                                 2603:10b6:208:481::10 NA                              US               9   \n",
       "                                                                                                                                                 2603:10b6:208:48a::21 NA                              US              12   \n",
       "                                                                                                                                                 2603:10b6:208:48c::19 NA                              US              11   \n",
       "                                                                                                                                                 40.126.29.96          MICROSOFT-CORP-MSN-AS-BLOCK, US US              22   \n",
       "                                                                                                                                                 69.130.255.13         TDS-AS, US                      US             235   \n",
       "                     Move                                                                                                                        69.130.255.13         TDS-AS, US                      US               4   \n",
       "                     MoveToDeletedItems                                                                                                          69.130.255.13         TDS-AS, US                      US               8   \n",
       "                     PageViewed             Mozilla/5.0 (Windows NT 10.0; Win64; x64) AppleWebKit/537.36 (KHTML, like Gecko) Chrome/114.0.0.0... 69.130.255.13         TDS-AS, US                      US               7   \n",
       "                     SignInEvent            Mozilla/5.0 (Windows NT 10.0; Win64; x64) AppleWebKit/537.36 (KHTML, like Gecko) Chrome/114.0.0.0... 69.130.255.13         TDS-AS, US                      US               2   \n",
       "                     SoftDelete                                                                                                                  69.130.255.13         TDS-AS, US                      US              13   \n",
       "                     Update                                                                                                                      69.130.255.13         TDS-AS, US                      US               2   \n",
       "\n",
       "                                                                                                                                                                                                                                         FirstOperation  \\\n",
       "Source               Operation              UserAgent                                                                                            IpAddress             AsnDescription                  CountryCode                                        \n",
       "AzureActiveDirectory Sign-in activity       Mozilla/5.0 (Windows NT 10.0; Win64; x64) AppleWebKit/537.36 (KHTML, like Gecko) Chrome/114.0.0.0... 69.130.255.13         TDS-AS, US                      US              2023-06-22 13:35:04.431741+00:00   \n",
       "                                            Windows-AzureAD-Authentication-Provider/1.0                                                          216.56.240.114        WISCNET1-AS, US                 US           2023-06-22 21:55:33.408320900+00:00   \n",
       "                                                                                                                                                 69.130.255.13         TDS-AS, US                      US           2023-06-22 13:20:13.016097500+00:00   \n",
       "Office365            AddedToGroup           Mozilla/5.0 (Windows NT 10.0; Win64; x64) AppleWebKit/537.36 (KHTML, like Gecko) Chrome/114.0.0.0... 69.130.255.13         TDS-AS, US                      US                     2023-06-22 16:49:04+00:00   \n",
       "                     CompanyLinkUsed        Mozilla/5.0 (Windows NT 10.0; Win64; x64) AppleWebKit/537.36 (KHTML, like Gecko) Chrome/114.0.0.0... 69.130.255.13         TDS-AS, US                      US                     2023-06-22 16:49:04+00:00   \n",
       "                     Create                                                                                                                      2603:10b6:208:481::10 NA                              US                     2023-06-22 23:36:50+00:00   \n",
       "                                                                                                                                                 69.130.255.13         TDS-AS, US                      US                     2023-06-21 20:58:19+00:00   \n",
       "                     FileAccessed           Mozilla/5.0 (Windows NT 10.0; Win64; x64) AppleWebKit/537.36 (KHTML, like Gecko) Chrome/114.0.0.0... 69.130.255.13         TDS-AS, US                      US                     2023-06-22 16:49:04+00:00   \n",
       "                                            OneDriveMpc-Transform_Thumbnail/1.0                                                                  52.104.99.174         MICROSOFT-CORP-MSN-AS-BLOCK, US US                     2023-06-23 15:18:15+00:00   \n",
       "                     FileModified           Microsoft SkyDriveSync 23.114.0530.0001 ship; Windows NT 10.0 (19042)                                69.130.255.13         TDS-AS, US                      US                     2023-06-22 22:12:17+00:00   \n",
       "                     FilePreviewed          Microsoft SkyDriveSync 23.114.0530.0001 ship; Windows NT 10.0 (19042)                                69.130.255.13         TDS-AS, US                      US                     2023-06-22 19:55:48+00:00   \n",
       "                                            OneDriveMpc-Transform_Thumbnail/1.0                                                                  52.104.99.160         MICROSOFT-CORP-MSN-AS-BLOCK, US US                     2023-06-22 12:33:23+00:00   \n",
       "                                                                                                                                                 52.104.99.161         MICROSOFT-CORP-MSN-AS-BLOCK, US US                     2023-06-22 21:53:53+00:00   \n",
       "                                                                                                                                                 52.104.99.164         MICROSOFT-CORP-MSN-AS-BLOCK, US US                     2023-06-23 15:30:11+00:00   \n",
       "                                                                                                                                                 52.104.99.165         MICROSOFT-CORP-MSN-AS-BLOCK, US US                     2023-06-23 17:02:56+00:00   \n",
       "                                                                                                                                                 52.104.99.166         MICROSOFT-CORP-MSN-AS-BLOCK, US US                     2023-06-22 12:33:23+00:00   \n",
       "                                                                                                                                                 52.104.99.169         MICROSOFT-CORP-MSN-AS-BLOCK, US US                     2023-06-23 16:08:47+00:00   \n",
       "                                                                                                                                                 52.104.99.170         MICROSOFT-CORP-MSN-AS-BLOCK, US US                     2023-06-23 17:02:56+00:00   \n",
       "                                                                                                                                                 52.104.99.171         MICROSOFT-CORP-MSN-AS-BLOCK, US US                     2023-06-23 16:08:48+00:00   \n",
       "                                                                                                                                                 52.104.99.172         MICROSOFT-CORP-MSN-AS-BLOCK, US US                     2023-06-22 21:53:53+00:00   \n",
       "                                                                                                                                                 52.104.99.175         MICROSOFT-CORP-MSN-AS-BLOCK, US US                     2023-06-22 12:33:23+00:00   \n",
       "                                                                                                                                                 52.104.99.50          MICROSOFT-CORP-MSN-AS-BLOCK, US US                     2023-06-23 16:08:47+00:00   \n",
       "                     FileSyncDownloadedFull Microsoft SkyDriveSync 23.114.0530.0001 ship; Windows NT 10.0 (19042)                                69.130.255.13         TDS-AS, US                      US                     2023-06-22 14:34:41+00:00   \n",
       "                                            Microsoft SkyDriveSync 23.124.0613.0001 ship; Windows NT 10.0 (19042)                                216.56.240.114        WISCNET1-AS, US                 US                     2023-06-22 16:12:32+00:00   \n",
       "                     FileSyncUploadedFull   Microsoft SkyDriveSync 23.114.0530.0001 ship; Windows NT 10.0 (19042)                                69.130.255.13         TDS-AS, US                      US                     2023-06-22 16:12:29+00:00   \n",
       "                     HardDelete                                                                                                                  69.130.255.13         TDS-AS, US                      US                     2023-06-21 20:58:17+00:00   \n",
       "                     ListViewed             Mozilla/5.0 (Windows NT 10.0; Win64; x64) AppleWebKit/537.36 (KHTML, like Gecko) Chrome/114.0.0.0... 69.130.255.13         TDS-AS, US                      US                     2023-06-23 19:52:47+00:00   \n",
       "                     MailItemsAccessed                                                                                                           144.92.154.82         WISC-MADISON-AS, US             US                     2023-06-23 13:58:35+00:00   \n",
       "                                                                                                                                                 20.190.157.160        MICROSOFT-CORP-MSN-AS-BLOCK, US US                     2023-06-21 22:21:58+00:00   \n",
       "                                                                                                                                                 20.190.157.27         MICROSOFT-CORP-MSN-AS-BLOCK, US US                     2023-06-21 20:21:57+00:00   \n",
       "                                                                                                                                                 20.190.157.30         MICROSOFT-CORP-MSN-AS-BLOCK, US US                     2023-06-21 23:21:59+00:00   \n",
       "                                                                                                                                                 20.190.157.96         MICROSOFT-CORP-MSN-AS-BLOCK, US US                     2023-06-21 21:21:57+00:00   \n",
       "                                                                                                                                                 20.190.157.97         MICROSOFT-CORP-MSN-AS-BLOCK, US US                     2023-06-22 01:58:54+00:00   \n",
       "                                                                                                                                                 2600:387:c:5516::3    ATT-INTERNET4, US               US                     2023-06-21 21:39:29+00:00   \n",
       "                                                                                                                                                 2603:10b6:208:23d::15 NA                              US                     2023-06-22 13:36:04+00:00   \n",
       "                                                                                                                                                 2603:10b6:208:3ac::10 NA                              US                     2023-06-23 18:41:54+00:00   \n",
       "                                                                                                                                                 2603:10b6:208:3da::13 NA                              US                     2023-06-21 21:10:05+00:00   \n",
       "                                                                                                                                                 2603:10b6:208:481::10 NA                              US                     2023-06-21 21:00:40+00:00   \n",
       "                                                                                                                                                 2603:10b6:208:48a::21 NA                              US                     2023-06-23 08:47:28+00:00   \n",
       "                                                                                                                                                 2603:10b6:208:48c::19 NA                              US                     2023-06-22 07:13:05+00:00   \n",
       "                                                                                                                                                 40.126.29.96          MICROSOFT-CORP-MSN-AS-BLOCK, US US                     2023-06-22 04:08:27+00:00   \n",
       "                                                                                                                                                 69.130.255.13         TDS-AS, US                      US                     2023-06-21 20:21:55+00:00   \n",
       "                     Move                                                                                                                        69.130.255.13         TDS-AS, US                      US                     2023-06-22 14:25:12+00:00   \n",
       "                     MoveToDeletedItems                                                                                                          69.130.255.13         TDS-AS, US                      US                     2023-06-21 20:58:30+00:00   \n",
       "                     PageViewed             Mozilla/5.0 (Windows NT 10.0; Win64; x64) AppleWebKit/537.36 (KHTML, like Gecko) Chrome/114.0.0.0... 69.130.255.13         TDS-AS, US                      US                     2023-06-22 16:49:10+00:00   \n",
       "                     SignInEvent            Mozilla/5.0 (Windows NT 10.0; Win64; x64) AppleWebKit/537.36 (KHTML, like Gecko) Chrome/114.0.0.0... 69.130.255.13         TDS-AS, US                      US                     2023-06-22 16:49:04+00:00   \n",
       "                     SoftDelete                                                                                                                  69.130.255.13         TDS-AS, US                      US                     2023-06-22 12:23:11+00:00   \n",
       "                     Update                                                                                                                      69.130.255.13         TDS-AS, US                      US                     2023-06-22 14:06:38+00:00   \n",
       "\n",
       "                                                                                                                                                                                                                                          LastOperation  \n",
       "Source               Operation              UserAgent                                                                                            IpAddress             AsnDescription                  CountryCode                                       \n",
       "AzureActiveDirectory Sign-in activity       Mozilla/5.0 (Windows NT 10.0; Win64; x64) AppleWebKit/537.36 (KHTML, like Gecko) Chrome/114.0.0.0... 69.130.255.13         TDS-AS, US                      US           2023-06-23 19:54:39.132402200+00:00  \n",
       "                                            Windows-AzureAD-Authentication-Provider/1.0                                                          216.56.240.114        WISCNET1-AS, US                 US           2023-06-23 15:31:44.437631800+00:00  \n",
       "                                                                                                                                                 69.130.255.13         TDS-AS, US                      US           2023-06-23 15:06:18.913126500+00:00  \n",
       "Office365            AddedToGroup           Mozilla/5.0 (Windows NT 10.0; Win64; x64) AppleWebKit/537.36 (KHTML, like Gecko) Chrome/114.0.0.0... 69.130.255.13         TDS-AS, US                      US                     2023-06-23 19:52:46+00:00  \n",
       "                     CompanyLinkUsed        Mozilla/5.0 (Windows NT 10.0; Win64; x64) AppleWebKit/537.36 (KHTML, like Gecko) Chrome/114.0.0.0... 69.130.255.13         TDS-AS, US                      US                     2023-06-23 19:52:46+00:00  \n",
       "                     Create                                                                                                                      2603:10b6:208:481::10 NA                              US                     2023-06-23 02:57:05+00:00  \n",
       "                                                                                                                                                 69.130.255.13         TDS-AS, US                      US                     2023-06-23 19:53:07+00:00  \n",
       "                     FileAccessed           Mozilla/5.0 (Windows NT 10.0; Win64; x64) AppleWebKit/537.36 (KHTML, like Gecko) Chrome/114.0.0.0... 69.130.255.13         TDS-AS, US                      US                     2023-06-23 19:52:50+00:00  \n",
       "                                            OneDriveMpc-Transform_Thumbnail/1.0                                                                  52.104.99.174         MICROSOFT-CORP-MSN-AS-BLOCK, US US                     2023-06-23 15:18:15+00:00  \n",
       "                     FileModified           Microsoft SkyDriveSync 23.114.0530.0001 ship; Windows NT 10.0 (19042)                                69.130.255.13         TDS-AS, US                      US                     2023-06-22 22:12:17+00:00  \n",
       "                     FilePreviewed          Microsoft SkyDriveSync 23.114.0530.0001 ship; Windows NT 10.0 (19042)                                69.130.255.13         TDS-AS, US                      US                     2023-06-23 15:18:15+00:00  \n",
       "                                            OneDriveMpc-Transform_Thumbnail/1.0                                                                  52.104.99.160         MICROSOFT-CORP-MSN-AS-BLOCK, US US                     2023-06-23 17:02:57+00:00  \n",
       "                                                                                                                                                 52.104.99.161         MICROSOFT-CORP-MSN-AS-BLOCK, US US                     2023-06-23 15:30:11+00:00  \n",
       "                                                                                                                                                 52.104.99.164         MICROSOFT-CORP-MSN-AS-BLOCK, US US                     2023-06-23 15:30:11+00:00  \n",
       "                                                                                                                                                 52.104.99.165         MICROSOFT-CORP-MSN-AS-BLOCK, US US                     2023-06-23 17:02:56+00:00  \n",
       "                                                                                                                                                 52.104.99.166         MICROSOFT-CORP-MSN-AS-BLOCK, US US                     2023-06-23 15:30:11+00:00  \n",
       "                                                                                                                                                 52.104.99.169         MICROSOFT-CORP-MSN-AS-BLOCK, US US                     2023-06-23 16:08:47+00:00  \n",
       "                                                                                                                                                 52.104.99.170         MICROSOFT-CORP-MSN-AS-BLOCK, US US                     2023-06-23 17:02:56+00:00  \n",
       "                                                                                                                                                 52.104.99.171         MICROSOFT-CORP-MSN-AS-BLOCK, US US                     2023-06-23 16:08:48+00:00  \n",
       "                                                                                                                                                 52.104.99.172         MICROSOFT-CORP-MSN-AS-BLOCK, US US                     2023-06-22 21:53:53+00:00  \n",
       "                                                                                                                                                 52.104.99.175         MICROSOFT-CORP-MSN-AS-BLOCK, US US                     2023-06-22 21:53:53+00:00  \n",
       "                                                                                                                                                 52.104.99.50          MICROSOFT-CORP-MSN-AS-BLOCK, US US                     2023-06-23 16:08:47+00:00  \n",
       "                     FileSyncDownloadedFull Microsoft SkyDriveSync 23.114.0530.0001 ship; Windows NT 10.0 (19042)                                69.130.255.13         TDS-AS, US                      US                     2023-06-22 14:34:41+00:00  \n",
       "                                            Microsoft SkyDriveSync 23.124.0613.0001 ship; Windows NT 10.0 (19042)                                216.56.240.114        WISCNET1-AS, US                 US                     2023-06-22 16:12:32+00:00  \n",
       "                     FileSyncUploadedFull   Microsoft SkyDriveSync 23.114.0530.0001 ship; Windows NT 10.0 (19042)                                69.130.255.13         TDS-AS, US                      US                     2023-06-22 16:12:29+00:00  \n",
       "                     HardDelete                                                                                                                  69.130.255.13         TDS-AS, US                      US                     2023-06-23 19:53:06+00:00  \n",
       "                     ListViewed             Mozilla/5.0 (Windows NT 10.0; Win64; x64) AppleWebKit/537.36 (KHTML, like Gecko) Chrome/114.0.0.0... 69.130.255.13         TDS-AS, US                      US                     2023-06-23 19:53:23+00:00  \n",
       "                     MailItemsAccessed                                                                                                           144.92.154.82         WISC-MADISON-AS, US             US                     2023-06-23 14:06:24+00:00  \n",
       "                                                                                                                                                 20.190.157.160        MICROSOFT-CORP-MSN-AS-BLOCK, US US                     2023-06-23 19:02:12+00:00  \n",
       "                                                                                                                                                 20.190.157.27         MICROSOFT-CORP-MSN-AS-BLOCK, US US                     2023-06-23 17:36:27+00:00  \n",
       "                                                                                                                                                 20.190.157.30         MICROSOFT-CORP-MSN-AS-BLOCK, US US                     2023-06-23 18:42:58+00:00  \n",
       "                                                                                                                                                 20.190.157.96         MICROSOFT-CORP-MSN-AS-BLOCK, US US                     2023-06-23 17:38:53+00:00  \n",
       "                                                                                                                                                 20.190.157.97         MICROSOFT-CORP-MSN-AS-BLOCK, US US                     2023-06-23 18:45:26+00:00  \n",
       "                                                                                                                                                 2600:387:c:5516::3    ATT-INTERNET4, US               US                     2023-06-23 14:59:07+00:00  \n",
       "                                                                                                                                                 2603:10b6:208:23d::15 NA                              US                     2023-06-22 13:36:04+00:00  \n",
       "                                                                                                                                                 2603:10b6:208:3ac::10 NA                              US                     2023-06-23 18:41:54+00:00  \n",
       "                                                                                                                                                 2603:10b6:208:3da::13 NA                              US                     2023-06-23 17:51:02+00:00  \n",
       "                                                                                                                                                 2603:10b6:208:481::10 NA                              US                     2023-06-23 19:52:28+00:00  \n",
       "                                                                                                                                                 2603:10b6:208:48a::21 NA                              US                     2023-06-23 08:47:28+00:00  \n",
       "                                                                                                                                                 2603:10b6:208:48c::19 NA                              US                     2023-06-22 07:13:05+00:00  \n",
       "                                                                                                                                                 40.126.29.96          MICROSOFT-CORP-MSN-AS-BLOCK, US US                     2023-06-23 18:41:58+00:00  \n",
       "                                                                                                                                                 69.130.255.13         TDS-AS, US                      US                     2023-06-23 19:53:09+00:00  \n",
       "                     Move                                                                                                                        69.130.255.13         TDS-AS, US                      US                     2023-06-22 17:11:27+00:00  \n",
       "                     MoveToDeletedItems                                                                                                          69.130.255.13         TDS-AS, US                      US                     2023-06-23 19:53:06+00:00  \n",
       "                     PageViewed             Mozilla/5.0 (Windows NT 10.0; Win64; x64) AppleWebKit/537.36 (KHTML, like Gecko) Chrome/114.0.0.0... 69.130.255.13         TDS-AS, US                      US                     2023-06-23 19:52:49+00:00  \n",
       "                     SignInEvent            Mozilla/5.0 (Windows NT 10.0; Win64; x64) AppleWebKit/537.36 (KHTML, like Gecko) Chrome/114.0.0.0... 69.130.255.13         TDS-AS, US                      US                     2023-06-23 16:08:44+00:00  \n",
       "                     SoftDelete                                                                                                                  69.130.255.13         TDS-AS, US                      US                     2023-06-23 19:02:21+00:00  \n",
       "                     Update                                                                                                                      69.130.255.13         TDS-AS, US                      US                     2023-06-22 14:07:10+00:00  "
      ]
     },
     "metadata": {},
     "output_type": "display_data"
    }
   ],
   "source": [
    "acc_result.get_additional_data()"
   ]
  },
  {
   "attachments": {},
   "cell_type": "markdown",
   "metadata": {},
   "source": [
    "# Browse alerts\n",
    "If there are any alerts referencing this account name they can be viewed\n",
    "by calling the `acc_result.browse_alerts()` function."
   ]
  },
  {
   "cell_type": "code",
   "execution_count": 11,
   "metadata": {},
   "outputs": [
    {
     "name": "stdout",
     "output_type": "stream",
     "text": [
      "No data is available for last_result.related_alerts.\n"
     ]
    }
   ],
   "source": [
    "acc_result.notebooklet.browse_alerts()\n"
   ]
  },
  {
   "attachments": {},
   "cell_type": "markdown",
   "metadata": {},
   "source": [
    "# Appendix - Additional properties from the Notebooklet result\n",
    "\n",
    "---"
   ]
  },
  {
   "attachments": {},
   "cell_type": "markdown",
   "metadata": {},
   "source": [
    "## Browse other event data\n",
    "\n",
    "You can use a simple view to make it easier to see the details of individual events\n",
    "by calling the \"view_events\" method.\n",
    "\n",
    "You need to supply the name of the result attribute that you want to view plus\n",
    "one or more summary columns (as a list of strings)."
   ]
  },
  {
   "cell_type": "code",
   "execution_count": 12,
   "metadata": {},
   "outputs": [
    {
     "data": {
      "application/vnd.jupyter.widget-view+json": {
       "model_id": "20695d7d3f9f4dcc9691a97b5e34d9da",
       "version_major": 2,
       "version_minor": 0
      },
      "text/plain": [
       "VBox(children=(Text(value='account_activity', description='Filter:', style=DescriptionStyle(description_width=…"
      ]
     },
     "metadata": {},
     "output_type": "display_data"
    },
    {
     "data": {
      "text/html": [
       "<hr>"
      ],
      "text/plain": [
       "<IPython.core.display.HTML object>"
      ]
     },
     "metadata": {},
     "output_type": "display_data"
    }
   ],
   "source": [
    "data_source = nbwidgets.SelectItem(\n",
    "    description=\"Available data properties\\n\",\n",
    "    item_list=acc_result.data_properties()\n",
    ")\n",
    "data_source"
   ]
  },
  {
   "attachments": {},
   "cell_type": "markdown",
   "metadata": {},
   "source": [
    "Running the following cell will use the data property selected above\n",
    "to browse through the data (if any)."
   ]
  },
  {
   "cell_type": "code",
   "execution_count": 13,
   "metadata": {},
   "outputs": [
    {
     "data": {
      "application/vnd.jupyter.widget-view+json": {
       "model_id": "df820924920542b987261211d6e2f717",
       "version_major": 2,
       "version_minor": 0
      },
      "text/plain": [
       "VBox(children=(Text(value='2023-06-23 19:54:39.132402200+00:00 - a97557b5-b341-450d-ac71-cdd5658a7e03 - Azure …"
      ]
     },
     "metadata": {},
     "output_type": "display_data"
    },
    {
     "data": {
      "text/html": [
       "<hr>"
      ],
      "text/plain": [
       "<IPython.core.display.HTML object>"
      ]
     },
     "metadata": {},
     "output_type": "display_data"
    },
    {
     "data": {
      "text/html": [
       "<div>\n",
       "<style scoped>\n",
       "    .dataframe tbody tr th:only-of-type {\n",
       "        vertical-align: middle;\n",
       "    }\n",
       "\n",
       "    .dataframe tbody tr th {\n",
       "        vertical-align: top;\n",
       "    }\n",
       "\n",
       "    .dataframe thead th {\n",
       "        text-align: right;\n",
       "    }\n",
       "</style>\n",
       "<table border=\"1\" class=\"dataframe\">\n",
       "  <thead>\n",
       "    <tr style=\"text-align: right;\">\n",
       "      <th></th>\n",
       "      <th>0</th>\n",
       "    </tr>\n",
       "  </thead>\n",
       "  <tbody>\n",
       "    <tr>\n",
       "      <th>TimeGenerated</th>\n",
       "      <td>2023-06-23 19:54:39.132402200+00:00</td>\n",
       "    </tr>\n",
       "    <tr>\n",
       "      <th>TenantId</th>\n",
       "      <td>a97557b5-b341-450d-ac71-cdd5658a7e03</td>\n",
       "    </tr>\n",
       "    <tr>\n",
       "      <th>SourceSystem</th>\n",
       "      <td>Azure AD</td>\n",
       "    </tr>\n",
       "    <tr>\n",
       "      <th>ResourceId</th>\n",
       "      <td>/tenants/a4d0c603-9c7f-4293-b89c-a08c1a8eb571/providers/Microsoft.aadiam</td>\n",
       "    </tr>\n",
       "    <tr>\n",
       "      <th>OperationName</th>\n",
       "      <td>Sign-in activity</td>\n",
       "    </tr>\n",
       "    <tr>\n",
       "      <th>OperationVersion</th>\n",
       "      <td>1.0</td>\n",
       "    </tr>\n",
       "    <tr>\n",
       "      <th>Category</th>\n",
       "      <td>SignInLogs</td>\n",
       "    </tr>\n",
       "    <tr>\n",
       "      <th>ResultType</th>\n",
       "      <td>0</td>\n",
       "    </tr>\n",
       "    <tr>\n",
       "      <th>ResultSignature</th>\n",
       "      <td>None</td>\n",
       "    </tr>\n",
       "    <tr>\n",
       "      <th>DurationMs</th>\n",
       "      <td>0</td>\n",
       "    </tr>\n",
       "    <tr>\n",
       "      <th>CorrelationId</th>\n",
       "      <td>afce81f3-0eab-427f-9151-5effe253ab90</td>\n",
       "    </tr>\n",
       "    <tr>\n",
       "      <th>Resource</th>\n",
       "      <td>Microsoft.aadiam</td>\n",
       "    </tr>\n",
       "    <tr>\n",
       "      <th>ResourceGroup</th>\n",
       "      <td>Microsoft.aadiam</td>\n",
       "    </tr>\n",
       "    <tr>\n",
       "      <th>Identity</th>\n",
       "      <td>Griffin Cass</td>\n",
       "    </tr>\n",
       "    <tr>\n",
       "      <th>Level</th>\n",
       "      <td>4</td>\n",
       "    </tr>\n",
       "    <tr>\n",
       "      <th>Location</th>\n",
       "      <td>US</td>\n",
       "    </tr>\n",
       "    <tr>\n",
       "      <th>AppDisplayName</th>\n",
       "      <td>Office365 Shell WCSS-Client</td>\n",
       "    </tr>\n",
       "    <tr>\n",
       "      <th>AppId</th>\n",
       "      <td>89bee1f7-5e6e-4d8a-9f3d-ecd601259da7</td>\n",
       "    </tr>\n",
       "    <tr>\n",
       "      <th>AuthenticationContextClassReferences</th>\n",
       "      <td>[{\"id\":\"c1\",\"detail\":\"previouslySatisfied\"}]</td>\n",
       "    </tr>\n",
       "    <tr>\n",
       "      <th>AuthenticationDetails</th>\n",
       "      <td>[{\"authenticationStepDateTime\":\"2023-06-23T19:52:51.7802923+00:00\",\"authenticationMethod\":\"Previ...</td>\n",
       "    </tr>\n",
       "    <tr>\n",
       "      <th>AuthenticationProcessingDetails</th>\n",
       "      <td>[{\"key\":\"Login Hint Present\",\"value\":\"True\"},{\"key\":\"Legacy TLS (TLS 1.0, 1.1, 3DES)\",\"value\":\"F...</td>\n",
       "    </tr>\n",
       "    <tr>\n",
       "      <th>AuthenticationRequirement</th>\n",
       "      <td>singleFactorAuthentication</td>\n",
       "    </tr>\n",
       "    <tr>\n",
       "      <th>AuthenticationRequirementPolicies</th>\n",
       "      <td>[]</td>\n",
       "    </tr>\n",
       "    <tr>\n",
       "      <th>ClientAppUsed</th>\n",
       "      <td>Browser</td>\n",
       "    </tr>\n",
       "    <tr>\n",
       "      <th>ConditionalAccessPolicies</th>\n",
       "      <td>[{'id': '70849896-4031-47ee-9931-66265231f287', 'displayName': 'Protect SMTP', 'enforcedGrantCon...</td>\n",
       "    </tr>\n",
       "    <tr>\n",
       "      <th>ConditionalAccessStatus</th>\n",
       "      <td>success</td>\n",
       "    </tr>\n",
       "    <tr>\n",
       "      <th>CreatedDateTime</th>\n",
       "      <td>2023-06-23 19:52:51.780292300+00:00</td>\n",
       "    </tr>\n",
       "    <tr>\n",
       "      <th>DeviceDetail</th>\n",
       "      <td>{'deviceId': 'f5aab843-4156-41b8-96fc-6e5ab3d7769c', 'displayName': 'LT178', 'operatingSystem': ...</td>\n",
       "    </tr>\n",
       "    <tr>\n",
       "      <th>IsInteractive</th>\n",
       "      <td>True</td>\n",
       "    </tr>\n",
       "    <tr>\n",
       "      <th>Id</th>\n",
       "      <td>f7103f6d-6aae-413e-b59d-22403ae05000</td>\n",
       "    </tr>\n",
       "    <tr>\n",
       "      <th>IPAddress</th>\n",
       "      <td>69.130.255.13</td>\n",
       "    </tr>\n",
       "    <tr>\n",
       "      <th>LocationDetails</th>\n",
       "      <td>{'city': 'Middleton', 'state': 'Wisconsin', 'countryOrRegion': 'US', 'geoCoordinates': {'latitud...</td>\n",
       "    </tr>\n",
       "    <tr>\n",
       "      <th>MfaDetail</th>\n",
       "      <td>{}</td>\n",
       "    </tr>\n",
       "    <tr>\n",
       "      <th>NetworkLocationDetails</th>\n",
       "      <td>[{\"networkType\":\"namedNetwork\",\"networkNames\":[\"Griffin Test Location\"]}]</td>\n",
       "    </tr>\n",
       "    <tr>\n",
       "      <th>OriginalRequestId</th>\n",
       "      <td>f7103f6d-6aae-413e-b59d-22403ae05000</td>\n",
       "    </tr>\n",
       "    <tr>\n",
       "      <th>ProcessingTimeInMilliseconds</th>\n",
       "      <td>70</td>\n",
       "    </tr>\n",
       "    <tr>\n",
       "      <th>RiskDetail</th>\n",
       "      <td>none</td>\n",
       "    </tr>\n",
       "    <tr>\n",
       "      <th>RiskEventTypes</th>\n",
       "      <td>[]</td>\n",
       "    </tr>\n",
       "    <tr>\n",
       "      <th>RiskEventTypes_V2</th>\n",
       "      <td>[]</td>\n",
       "    </tr>\n",
       "    <tr>\n",
       "      <th>RiskLevelAggregated</th>\n",
       "      <td>none</td>\n",
       "    </tr>\n",
       "    <tr>\n",
       "      <th>RiskLevelDuringSignIn</th>\n",
       "      <td>none</td>\n",
       "    </tr>\n",
       "    <tr>\n",
       "      <th>RiskState</th>\n",
       "      <td>none</td>\n",
       "    </tr>\n",
       "    <tr>\n",
       "      <th>ResourceDisplayName</th>\n",
       "      <td>Office365 Shell WCSS-Server</td>\n",
       "    </tr>\n",
       "    <tr>\n",
       "      <th>ResourceIdentity</th>\n",
       "      <td>5f09333a-842c-47da-a157-57da27fcbca5</td>\n",
       "    </tr>\n",
       "    <tr>\n",
       "      <th>Status</th>\n",
       "      <td>{'errorCode': 0, 'additionalDetails': 'MFA requirement satisfied by claim in the token'}</td>\n",
       "    </tr>\n",
       "    <tr>\n",
       "      <th>TokenIssuerType</th>\n",
       "      <td>AzureAD</td>\n",
       "    </tr>\n",
       "    <tr>\n",
       "      <th>UserAgent</th>\n",
       "      <td>Mozilla/5.0 (Windows NT 10.0; Win64; x64) AppleWebKit/537.36 (KHTML, like Gecko) Chrome/114.0.0....</td>\n",
       "    </tr>\n",
       "    <tr>\n",
       "      <th>UserDisplayName</th>\n",
       "      <td>Griffin Cass</td>\n",
       "    </tr>\n",
       "    <tr>\n",
       "      <th>UserId</th>\n",
       "      <td>36a4c34a-dd20-4357-b32c-77007b86bbc4</td>\n",
       "    </tr>\n",
       "    <tr>\n",
       "      <th>UserPrincipalName</th>\n",
       "      <td>griffin.cass@wedc.org</td>\n",
       "    </tr>\n",
       "    <tr>\n",
       "      <th>AADTenantId</th>\n",
       "      <td>a4d0c603-9c7f-4293-b89c-a08c1a8eb571</td>\n",
       "    </tr>\n",
       "    <tr>\n",
       "      <th>UserType</th>\n",
       "      <td>Member</td>\n",
       "    </tr>\n",
       "    <tr>\n",
       "      <th>ResourceTenantId</th>\n",
       "      <td>a4d0c603-9c7f-4293-b89c-a08c1a8eb571</td>\n",
       "    </tr>\n",
       "    <tr>\n",
       "      <th>HomeTenantId</th>\n",
       "      <td>a4d0c603-9c7f-4293-b89c-a08c1a8eb571</td>\n",
       "    </tr>\n",
       "    <tr>\n",
       "      <th>UniqueTokenIdentifier</th>\n",
       "      <td>bT8Q965qPkG1nSJAOuBQAA</td>\n",
       "    </tr>\n",
       "    <tr>\n",
       "      <th>SessionLifetimePolicies</th>\n",
       "      <td>[]</td>\n",
       "    </tr>\n",
       "    <tr>\n",
       "      <th>AutonomousSystemNumber</th>\n",
       "      <td>4181</td>\n",
       "    </tr>\n",
       "    <tr>\n",
       "      <th>AuthenticationProtocol</th>\n",
       "      <td>none</td>\n",
       "    </tr>\n",
       "    <tr>\n",
       "      <th>CrossTenantAccessType</th>\n",
       "      <td>none</td>\n",
       "    </tr>\n",
       "    <tr>\n",
       "      <th>Type</th>\n",
       "      <td>SigninLogs</td>\n",
       "    </tr>\n",
       "    <tr>\n",
       "      <th>AccountName</th>\n",
       "      <td>griffin.cass@wedc.org</td>\n",
       "    </tr>\n",
       "    <tr>\n",
       "      <th>Source</th>\n",
       "      <td>AzureActiveDirectory</td>\n",
       "    </tr>\n",
       "  </tbody>\n",
       "</table>\n",
       "</div>"
      ],
      "text/plain": [
       "                                                                                                                                        0\n",
       "TimeGenerated                                                                                         2023-06-23 19:54:39.132402200+00:00\n",
       "TenantId                                                                                             a97557b5-b341-450d-ac71-cdd5658a7e03\n",
       "SourceSystem                                                                                                                     Azure AD\n",
       "ResourceId                                                       /tenants/a4d0c603-9c7f-4293-b89c-a08c1a8eb571/providers/Microsoft.aadiam\n",
       "OperationName                                                                                                            Sign-in activity\n",
       "OperationVersion                                                                                                                      1.0\n",
       "Category                                                                                                                       SignInLogs\n",
       "ResultType                                                                                                                              0\n",
       "ResultSignature                                                                                                                      None\n",
       "DurationMs                                                                                                                              0\n",
       "CorrelationId                                                                                        afce81f3-0eab-427f-9151-5effe253ab90\n",
       "Resource                                                                                                                 Microsoft.aadiam\n",
       "ResourceGroup                                                                                                            Microsoft.aadiam\n",
       "Identity                                                                                                                     Griffin Cass\n",
       "Level                                                                                                                                   4\n",
       "Location                                                                                                                               US\n",
       "AppDisplayName                                                                                                Office365 Shell WCSS-Client\n",
       "AppId                                                                                                89bee1f7-5e6e-4d8a-9f3d-ecd601259da7\n",
       "AuthenticationContextClassReferences                                                         [{\"id\":\"c1\",\"detail\":\"previouslySatisfied\"}]\n",
       "AuthenticationDetails                 [{\"authenticationStepDateTime\":\"2023-06-23T19:52:51.7802923+00:00\",\"authenticationMethod\":\"Previ...\n",
       "AuthenticationProcessingDetails       [{\"key\":\"Login Hint Present\",\"value\":\"True\"},{\"key\":\"Legacy TLS (TLS 1.0, 1.1, 3DES)\",\"value\":\"F...\n",
       "AuthenticationRequirement                                                                                      singleFactorAuthentication\n",
       "AuthenticationRequirementPolicies                                                                                                      []\n",
       "ClientAppUsed                                                                                                                     Browser\n",
       "ConditionalAccessPolicies             [{'id': '70849896-4031-47ee-9931-66265231f287', 'displayName': 'Protect SMTP', 'enforcedGrantCon...\n",
       "ConditionalAccessStatus                                                                                                           success\n",
       "CreatedDateTime                                                                                       2023-06-23 19:52:51.780292300+00:00\n",
       "DeviceDetail                          {'deviceId': 'f5aab843-4156-41b8-96fc-6e5ab3d7769c', 'displayName': 'LT178', 'operatingSystem': ...\n",
       "IsInteractive                                                                                                                        True\n",
       "Id                                                                                                   f7103f6d-6aae-413e-b59d-22403ae05000\n",
       "IPAddress                                                                                                                   69.130.255.13\n",
       "LocationDetails                       {'city': 'Middleton', 'state': 'Wisconsin', 'countryOrRegion': 'US', 'geoCoordinates': {'latitud...\n",
       "MfaDetail                                                                                                                              {}\n",
       "NetworkLocationDetails                                          [{\"networkType\":\"namedNetwork\",\"networkNames\":[\"Griffin Test Location\"]}]\n",
       "OriginalRequestId                                                                                    f7103f6d-6aae-413e-b59d-22403ae05000\n",
       "ProcessingTimeInMilliseconds                                                                                                           70\n",
       "RiskDetail                                                                                                                           none\n",
       "RiskEventTypes                                                                                                                         []\n",
       "RiskEventTypes_V2                                                                                                                      []\n",
       "RiskLevelAggregated                                                                                                                  none\n",
       "RiskLevelDuringSignIn                                                                                                                none\n",
       "RiskState                                                                                                                            none\n",
       "ResourceDisplayName                                                                                           Office365 Shell WCSS-Server\n",
       "ResourceIdentity                                                                                     5f09333a-842c-47da-a157-57da27fcbca5\n",
       "Status                                           {'errorCode': 0, 'additionalDetails': 'MFA requirement satisfied by claim in the token'}\n",
       "TokenIssuerType                                                                                                                   AzureAD\n",
       "UserAgent                             Mozilla/5.0 (Windows NT 10.0; Win64; x64) AppleWebKit/537.36 (KHTML, like Gecko) Chrome/114.0.0....\n",
       "UserDisplayName                                                                                                              Griffin Cass\n",
       "UserId                                                                                               36a4c34a-dd20-4357-b32c-77007b86bbc4\n",
       "UserPrincipalName                                                                                                   griffin.cass@wedc.org\n",
       "AADTenantId                                                                                          a4d0c603-9c7f-4293-b89c-a08c1a8eb571\n",
       "UserType                                                                                                                           Member\n",
       "ResourceTenantId                                                                                     a4d0c603-9c7f-4293-b89c-a08c1a8eb571\n",
       "HomeTenantId                                                                                         a4d0c603-9c7f-4293-b89c-a08c1a8eb571\n",
       "UniqueTokenIdentifier                                                                                              bT8Q965qPkG1nSJAOuBQAA\n",
       "SessionLifetimePolicies                                                                                                                []\n",
       "AutonomousSystemNumber                                                                                                               4181\n",
       "AuthenticationProtocol                                                                                                               none\n",
       "CrossTenantAccessType                                                                                                                none\n",
       "Type                                                                                                                           SigninLogs\n",
       "AccountName                                                                                                         griffin.cass@wedc.org\n",
       "Source                                                                                                               AzureActiveDirectory"
      ]
     },
     "metadata": {},
     "output_type": "display_data"
    }
   ],
   "source": [
    "acc_result.view_events(\n",
    "    attrib=data_source.value,  # the result attribute to view\n",
    "    # summary_cols controls which cols are use to create the summary\n",
    "    # for the select list\n",
    "    summary_cols = list(getattr(acc_result, data_source.value).columns)[:3]\n",
    "    # Add specific columns here to customize the list items\n",
    "    # summary_cols=[\"SourceSystem\", \"Operation\", \"IPAddress\"]\n",
    ")"
   ]
  },
  {
   "attachments": {},
   "cell_type": "markdown",
   "metadata": {},
   "source": [
    "You can also access the DataFrames properties directly"
   ]
  },
  {
   "cell_type": "code",
   "execution_count": 14,
   "metadata": {},
   "outputs": [
    {
     "data": {
      "text/html": [
       "<div>\n",
       "<style scoped>\n",
       "    .dataframe tbody tr th:only-of-type {\n",
       "        vertical-align: middle;\n",
       "    }\n",
       "\n",
       "    .dataframe tbody tr th {\n",
       "        vertical-align: top;\n",
       "    }\n",
       "\n",
       "    .dataframe thead th {\n",
       "        text-align: right;\n",
       "    }\n",
       "</style>\n",
       "<table border=\"1\" class=\"dataframe\">\n",
       "  <thead>\n",
       "    <tr style=\"text-align: right;\">\n",
       "      <th></th>\n",
       "      <th>IPAddress_orig</th>\n",
       "      <th>IPAddress_x</th>\n",
       "      <th>CountryCode</th>\n",
       "      <th>CountryName</th>\n",
       "      <th>State</th>\n",
       "      <th>City</th>\n",
       "      <th>Longitude</th>\n",
       "      <th>Latitude</th>\n",
       "      <th>IpAddress</th>\n",
       "      <th>asn</th>\n",
       "      <th>query</th>\n",
       "      <th>asn_cidr</th>\n",
       "      <th>asn_country_code</th>\n",
       "      <th>asn_registry</th>\n",
       "      <th>asn_date</th>\n",
       "      <th>asn_description</th>\n",
       "      <th>nets</th>\n",
       "      <th>Whois_data</th>\n",
       "      <th>AsnDescription</th>\n",
       "      <th>TenantId</th>\n",
       "      <th>SourceSystem</th>\n",
       "      <th>TimeGenerated</th>\n",
       "      <th>ResourceId</th>\n",
       "      <th>Operation</th>\n",
       "      <th>OperationVersion</th>\n",
       "      <th>...</th>\n",
       "      <th>ExtraProperties</th>\n",
       "      <th>AddOnType</th>\n",
       "      <th>AddonName</th>\n",
       "      <th>TabType</th>\n",
       "      <th>Name</th>\n",
       "      <th>OldValue</th>\n",
       "      <th>NewValue</th>\n",
       "      <th>ItemName</th>\n",
       "      <th>ChatThreadId</th>\n",
       "      <th>ChatName</th>\n",
       "      <th>CommunicationType</th>\n",
       "      <th>AADGroupId</th>\n",
       "      <th>AddOnGuid</th>\n",
       "      <th>AppDistributionMode</th>\n",
       "      <th>TargetUserId</th>\n",
       "      <th>OperationScope</th>\n",
       "      <th>AzureADAppId</th>\n",
       "      <th>OperationProperties</th>\n",
       "      <th>ClientAppId</th>\n",
       "      <th>ApplicationId</th>\n",
       "      <th>SRPolicyId</th>\n",
       "      <th>SRPolicyName</th>\n",
       "      <th>SRRuleMatchDetails</th>\n",
       "      <th>IsManagedDevice</th>\n",
       "      <th>ActorContextId_</th>\n",
       "    </tr>\n",
       "  </thead>\n",
       "  <tbody>\n",
       "    <tr>\n",
       "      <th>0</th>\n",
       "      <td>69.130.255.13</td>\n",
       "      <td>69.130.255.13</td>\n",
       "      <td>US</td>\n",
       "      <td>United States</td>\n",
       "      <td>Wisconsin</td>\n",
       "      <td>Middleton</td>\n",
       "      <td>-89.5073</td>\n",
       "      <td>43.103</td>\n",
       "      <td>69.130.255.13</td>\n",
       "      <td>4181</td>\n",
       "      <td>69.130.255.13</td>\n",
       "      <td>69.130.240.0/20</td>\n",
       "      <td>US</td>\n",
       "      <td>arin</td>\n",
       "      <td>2003-03-25</td>\n",
       "      <td>TDS-AS, US</td>\n",
       "      <td>[{'cidr': '69.128.0.0/14', 'handle': 'NET-69-128-0-0-1', 'name': 'NETBLK-TDSNET-BLK', 'startAddr...</td>\n",
       "      <td>{'asn': '4181', 'query': '69.130.255.13', 'asn_cidr': '69.130.240.0/20', 'asn_country_code': 'US...</td>\n",
       "      <td>TDS-AS, US</td>\n",
       "      <td>a97557b5-b341-450d-ac71-cdd5658a7e03</td>\n",
       "      <td>OfficeActivityManager</td>\n",
       "      <td>2023-06-21 20:21:55+00:00</td>\n",
       "      <td></td>\n",
       "      <td>MailItemsAccessed</td>\n",
       "      <td>NaN</td>\n",
       "      <td>...</td>\n",
       "      <td>None</td>\n",
       "      <td></td>\n",
       "      <td></td>\n",
       "      <td></td>\n",
       "      <td></td>\n",
       "      <td></td>\n",
       "      <td></td>\n",
       "      <td></td>\n",
       "      <td></td>\n",
       "      <td></td>\n",
       "      <td></td>\n",
       "      <td></td>\n",
       "      <td></td>\n",
       "      <td></td>\n",
       "      <td></td>\n",
       "      <td></td>\n",
       "      <td></td>\n",
       "      <td>[{'Name': 'MailAccessType', 'Value': 'Bind'}, {'Name': 'IsThrottled', 'Value': 'False'}]</td>\n",
       "      <td></td>\n",
       "      <td></td>\n",
       "      <td></td>\n",
       "      <td></td>\n",
       "      <td>None</td>\n",
       "      <td>None</td>\n",
       "      <td></td>\n",
       "    </tr>\n",
       "    <tr>\n",
       "      <th>1</th>\n",
       "      <td>69.130.255.13</td>\n",
       "      <td>69.130.255.13</td>\n",
       "      <td>US</td>\n",
       "      <td>United States</td>\n",
       "      <td>Wisconsin</td>\n",
       "      <td>Middleton</td>\n",
       "      <td>-89.5073</td>\n",
       "      <td>43.103</td>\n",
       "      <td>69.130.255.13</td>\n",
       "      <td>4181</td>\n",
       "      <td>69.130.255.13</td>\n",
       "      <td>69.130.240.0/20</td>\n",
       "      <td>US</td>\n",
       "      <td>arin</td>\n",
       "      <td>2003-03-25</td>\n",
       "      <td>TDS-AS, US</td>\n",
       "      <td>[{'cidr': '69.128.0.0/14', 'handle': 'NET-69-128-0-0-1', 'name': 'NETBLK-TDSNET-BLK', 'startAddr...</td>\n",
       "      <td>{'asn': '4181', 'query': '69.130.255.13', 'asn_cidr': '69.130.240.0/20', 'asn_country_code': 'US...</td>\n",
       "      <td>TDS-AS, US</td>\n",
       "      <td>a97557b5-b341-450d-ac71-cdd5658a7e03</td>\n",
       "      <td>OfficeActivityManager</td>\n",
       "      <td>2023-06-21 20:54:24+00:00</td>\n",
       "      <td></td>\n",
       "      <td>MailItemsAccessed</td>\n",
       "      <td>NaN</td>\n",
       "      <td>...</td>\n",
       "      <td>None</td>\n",
       "      <td></td>\n",
       "      <td></td>\n",
       "      <td></td>\n",
       "      <td></td>\n",
       "      <td></td>\n",
       "      <td></td>\n",
       "      <td></td>\n",
       "      <td></td>\n",
       "      <td></td>\n",
       "      <td></td>\n",
       "      <td></td>\n",
       "      <td></td>\n",
       "      <td></td>\n",
       "      <td></td>\n",
       "      <td></td>\n",
       "      <td></td>\n",
       "      <td>[{'Name': 'MailAccessType', 'Value': 'Bind'}, {'Name': 'IsThrottled', 'Value': 'False'}]</td>\n",
       "      <td></td>\n",
       "      <td></td>\n",
       "      <td></td>\n",
       "      <td></td>\n",
       "      <td>None</td>\n",
       "      <td>None</td>\n",
       "      <td></td>\n",
       "    </tr>\n",
       "    <tr>\n",
       "      <th>2</th>\n",
       "      <td>69.130.255.13</td>\n",
       "      <td>69.130.255.13</td>\n",
       "      <td>US</td>\n",
       "      <td>United States</td>\n",
       "      <td>Wisconsin</td>\n",
       "      <td>Middleton</td>\n",
       "      <td>-89.5073</td>\n",
       "      <td>43.103</td>\n",
       "      <td>69.130.255.13</td>\n",
       "      <td>4181</td>\n",
       "      <td>69.130.255.13</td>\n",
       "      <td>69.130.240.0/20</td>\n",
       "      <td>US</td>\n",
       "      <td>arin</td>\n",
       "      <td>2003-03-25</td>\n",
       "      <td>TDS-AS, US</td>\n",
       "      <td>[{'cidr': '69.128.0.0/14', 'handle': 'NET-69-128-0-0-1', 'name': 'NETBLK-TDSNET-BLK', 'startAddr...</td>\n",
       "      <td>{'asn': '4181', 'query': '69.130.255.13', 'asn_cidr': '69.130.240.0/20', 'asn_country_code': 'US...</td>\n",
       "      <td>TDS-AS, US</td>\n",
       "      <td>a97557b5-b341-450d-ac71-cdd5658a7e03</td>\n",
       "      <td>OfficeActivityManager</td>\n",
       "      <td>2023-06-21 20:54:24+00:00</td>\n",
       "      <td></td>\n",
       "      <td>MailItemsAccessed</td>\n",
       "      <td>NaN</td>\n",
       "      <td>...</td>\n",
       "      <td>None</td>\n",
       "      <td></td>\n",
       "      <td></td>\n",
       "      <td></td>\n",
       "      <td></td>\n",
       "      <td></td>\n",
       "      <td></td>\n",
       "      <td></td>\n",
       "      <td></td>\n",
       "      <td></td>\n",
       "      <td></td>\n",
       "      <td></td>\n",
       "      <td></td>\n",
       "      <td></td>\n",
       "      <td></td>\n",
       "      <td></td>\n",
       "      <td></td>\n",
       "      <td>[{'Name': 'MailAccessType', 'Value': 'Bind'}, {'Name': 'IsThrottled', 'Value': 'False'}]</td>\n",
       "      <td></td>\n",
       "      <td></td>\n",
       "      <td></td>\n",
       "      <td></td>\n",
       "      <td>None</td>\n",
       "      <td>None</td>\n",
       "      <td></td>\n",
       "    </tr>\n",
       "    <tr>\n",
       "      <th>3</th>\n",
       "      <td>69.130.255.13</td>\n",
       "      <td>69.130.255.13</td>\n",
       "      <td>US</td>\n",
       "      <td>United States</td>\n",
       "      <td>Wisconsin</td>\n",
       "      <td>Middleton</td>\n",
       "      <td>-89.5073</td>\n",
       "      <td>43.103</td>\n",
       "      <td>69.130.255.13</td>\n",
       "      <td>4181</td>\n",
       "      <td>69.130.255.13</td>\n",
       "      <td>69.130.240.0/20</td>\n",
       "      <td>US</td>\n",
       "      <td>arin</td>\n",
       "      <td>2003-03-25</td>\n",
       "      <td>TDS-AS, US</td>\n",
       "      <td>[{'cidr': '69.128.0.0/14', 'handle': 'NET-69-128-0-0-1', 'name': 'NETBLK-TDSNET-BLK', 'startAddr...</td>\n",
       "      <td>{'asn': '4181', 'query': '69.130.255.13', 'asn_cidr': '69.130.240.0/20', 'asn_country_code': 'US...</td>\n",
       "      <td>TDS-AS, US</td>\n",
       "      <td>a97557b5-b341-450d-ac71-cdd5658a7e03</td>\n",
       "      <td>OfficeActivityManager</td>\n",
       "      <td>2023-06-21 20:54:24+00:00</td>\n",
       "      <td></td>\n",
       "      <td>MailItemsAccessed</td>\n",
       "      <td>NaN</td>\n",
       "      <td>...</td>\n",
       "      <td>None</td>\n",
       "      <td></td>\n",
       "      <td></td>\n",
       "      <td></td>\n",
       "      <td></td>\n",
       "      <td></td>\n",
       "      <td></td>\n",
       "      <td></td>\n",
       "      <td></td>\n",
       "      <td></td>\n",
       "      <td></td>\n",
       "      <td></td>\n",
       "      <td></td>\n",
       "      <td></td>\n",
       "      <td></td>\n",
       "      <td></td>\n",
       "      <td></td>\n",
       "      <td>[{'Name': 'MailAccessType', 'Value': 'Bind'}, {'Name': 'IsThrottled', 'Value': 'False'}]</td>\n",
       "      <td></td>\n",
       "      <td></td>\n",
       "      <td></td>\n",
       "      <td></td>\n",
       "      <td>None</td>\n",
       "      <td>None</td>\n",
       "      <td></td>\n",
       "    </tr>\n",
       "    <tr>\n",
       "      <th>4</th>\n",
       "      <td>69.130.255.13</td>\n",
       "      <td>69.130.255.13</td>\n",
       "      <td>US</td>\n",
       "      <td>United States</td>\n",
       "      <td>Wisconsin</td>\n",
       "      <td>Middleton</td>\n",
       "      <td>-89.5073</td>\n",
       "      <td>43.103</td>\n",
       "      <td>69.130.255.13</td>\n",
       "      <td>4181</td>\n",
       "      <td>69.130.255.13</td>\n",
       "      <td>69.130.240.0/20</td>\n",
       "      <td>US</td>\n",
       "      <td>arin</td>\n",
       "      <td>2003-03-25</td>\n",
       "      <td>TDS-AS, US</td>\n",
       "      <td>[{'cidr': '69.128.0.0/14', 'handle': 'NET-69-128-0-0-1', 'name': 'NETBLK-TDSNET-BLK', 'startAddr...</td>\n",
       "      <td>{'asn': '4181', 'query': '69.130.255.13', 'asn_cidr': '69.130.240.0/20', 'asn_country_code': 'US...</td>\n",
       "      <td>TDS-AS, US</td>\n",
       "      <td>a97557b5-b341-450d-ac71-cdd5658a7e03</td>\n",
       "      <td>OfficeActivityManager</td>\n",
       "      <td>2023-06-21 20:58:17+00:00</td>\n",
       "      <td></td>\n",
       "      <td>HardDelete</td>\n",
       "      <td>NaN</td>\n",
       "      <td>...</td>\n",
       "      <td>None</td>\n",
       "      <td></td>\n",
       "      <td></td>\n",
       "      <td></td>\n",
       "      <td></td>\n",
       "      <td></td>\n",
       "      <td></td>\n",
       "      <td></td>\n",
       "      <td></td>\n",
       "      <td></td>\n",
       "      <td></td>\n",
       "      <td></td>\n",
       "      <td></td>\n",
       "      <td></td>\n",
       "      <td></td>\n",
       "      <td></td>\n",
       "      <td></td>\n",
       "      <td>None</td>\n",
       "      <td></td>\n",
       "      <td></td>\n",
       "      <td></td>\n",
       "      <td></td>\n",
       "      <td>None</td>\n",
       "      <td>None</td>\n",
       "      <td></td>\n",
       "    </tr>\n",
       "    <tr>\n",
       "      <th>...</th>\n",
       "      <td>...</td>\n",
       "      <td>...</td>\n",
       "      <td>...</td>\n",
       "      <td>...</td>\n",
       "      <td>...</td>\n",
       "      <td>...</td>\n",
       "      <td>...</td>\n",
       "      <td>...</td>\n",
       "      <td>...</td>\n",
       "      <td>...</td>\n",
       "      <td>...</td>\n",
       "      <td>...</td>\n",
       "      <td>...</td>\n",
       "      <td>...</td>\n",
       "      <td>...</td>\n",
       "      <td>...</td>\n",
       "      <td>...</td>\n",
       "      <td>...</td>\n",
       "      <td>...</td>\n",
       "      <td>...</td>\n",
       "      <td>...</td>\n",
       "      <td>...</td>\n",
       "      <td>...</td>\n",
       "      <td>...</td>\n",
       "      <td>...</td>\n",
       "      <td>...</td>\n",
       "      <td>...</td>\n",
       "      <td>...</td>\n",
       "      <td>...</td>\n",
       "      <td>...</td>\n",
       "      <td>...</td>\n",
       "      <td>...</td>\n",
       "      <td>...</td>\n",
       "      <td>...</td>\n",
       "      <td>...</td>\n",
       "      <td>...</td>\n",
       "      <td>...</td>\n",
       "      <td>...</td>\n",
       "      <td>...</td>\n",
       "      <td>...</td>\n",
       "      <td>...</td>\n",
       "      <td>...</td>\n",
       "      <td>...</td>\n",
       "      <td>...</td>\n",
       "      <td>...</td>\n",
       "      <td>...</td>\n",
       "      <td>...</td>\n",
       "      <td>...</td>\n",
       "      <td>...</td>\n",
       "      <td>...</td>\n",
       "      <td>...</td>\n",
       "    </tr>\n",
       "    <tr>\n",
       "      <th>630</th>\n",
       "      <td>NaN</td>\n",
       "      <td>2603:10b6:208:48a::21</td>\n",
       "      <td>US</td>\n",
       "      <td>United States</td>\n",
       "      <td>NaN</td>\n",
       "      <td>NaN</td>\n",
       "      <td>-97.8220</td>\n",
       "      <td>37.751</td>\n",
       "      <td>2603:10b6:208:48a::21</td>\n",
       "      <td>NA</td>\n",
       "      <td>2603:10b6:208:48a::21</td>\n",
       "      <td>NA</td>\n",
       "      <td>US</td>\n",
       "      <td>arin</td>\n",
       "      <td>2014-06-05</td>\n",
       "      <td>NA</td>\n",
       "      <td>[{'cidr': '2603:1000::/24', 'handle': 'NET6-2603-1000-1', 'name': 'MSFT', 'startAddress': '2603:...</td>\n",
       "      <td>{'asn': 'NA', 'query': '2603:10b6:208:48a::21', 'asn_cidr': 'NA', 'asn_country_code': 'US', 'asn...</td>\n",
       "      <td>NA</td>\n",
       "      <td>a97557b5-b341-450d-ac71-cdd5658a7e03</td>\n",
       "      <td>OfficeActivityManager</td>\n",
       "      <td>2023-06-23 08:47:28+00:00</td>\n",
       "      <td></td>\n",
       "      <td>MailItemsAccessed</td>\n",
       "      <td>NaN</td>\n",
       "      <td>...</td>\n",
       "      <td>None</td>\n",
       "      <td></td>\n",
       "      <td></td>\n",
       "      <td></td>\n",
       "      <td></td>\n",
       "      <td></td>\n",
       "      <td></td>\n",
       "      <td></td>\n",
       "      <td></td>\n",
       "      <td></td>\n",
       "      <td></td>\n",
       "      <td></td>\n",
       "      <td></td>\n",
       "      <td></td>\n",
       "      <td></td>\n",
       "      <td></td>\n",
       "      <td></td>\n",
       "      <td>[{'Name': 'MailAccessType', 'Value': 'Bind'}, {'Name': 'IsThrottled', 'Value': 'False'}]</td>\n",
       "      <td>a3883eba-fbe9-48bd-9ed3-dca3e0e84250</td>\n",
       "      <td></td>\n",
       "      <td></td>\n",
       "      <td></td>\n",
       "      <td>None</td>\n",
       "      <td>None</td>\n",
       "      <td></td>\n",
       "    </tr>\n",
       "    <tr>\n",
       "      <th>631</th>\n",
       "      <td>NaN</td>\n",
       "      <td>2603:10b6:208:48a::21</td>\n",
       "      <td>US</td>\n",
       "      <td>United States</td>\n",
       "      <td>NaN</td>\n",
       "      <td>NaN</td>\n",
       "      <td>-97.8220</td>\n",
       "      <td>37.751</td>\n",
       "      <td>2603:10b6:208:48a::21</td>\n",
       "      <td>NA</td>\n",
       "      <td>2603:10b6:208:48a::21</td>\n",
       "      <td>NA</td>\n",
       "      <td>US</td>\n",
       "      <td>arin</td>\n",
       "      <td>2014-06-05</td>\n",
       "      <td>NA</td>\n",
       "      <td>[{'cidr': '2603:1000::/24', 'handle': 'NET6-2603-1000-1', 'name': 'MSFT', 'startAddress': '2603:...</td>\n",
       "      <td>{'asn': 'NA', 'query': '2603:10b6:208:48a::21', 'asn_cidr': 'NA', 'asn_country_code': 'US', 'asn...</td>\n",
       "      <td>NA</td>\n",
       "      <td>a97557b5-b341-450d-ac71-cdd5658a7e03</td>\n",
       "      <td>OfficeActivityManager</td>\n",
       "      <td>2023-06-23 08:47:28+00:00</td>\n",
       "      <td></td>\n",
       "      <td>MailItemsAccessed</td>\n",
       "      <td>NaN</td>\n",
       "      <td>...</td>\n",
       "      <td>None</td>\n",
       "      <td></td>\n",
       "      <td></td>\n",
       "      <td></td>\n",
       "      <td></td>\n",
       "      <td></td>\n",
       "      <td></td>\n",
       "      <td></td>\n",
       "      <td></td>\n",
       "      <td></td>\n",
       "      <td></td>\n",
       "      <td></td>\n",
       "      <td></td>\n",
       "      <td></td>\n",
       "      <td></td>\n",
       "      <td></td>\n",
       "      <td></td>\n",
       "      <td>[{'Name': 'MailAccessType', 'Value': 'Bind'}, {'Name': 'IsThrottled', 'Value': 'False'}]</td>\n",
       "      <td>a3883eba-fbe9-48bd-9ed3-dca3e0e84250</td>\n",
       "      <td></td>\n",
       "      <td></td>\n",
       "      <td></td>\n",
       "      <td>None</td>\n",
       "      <td>None</td>\n",
       "      <td></td>\n",
       "    </tr>\n",
       "    <tr>\n",
       "      <th>632</th>\n",
       "      <td>NaN</td>\n",
       "      <td>2603:10b6:208:48a::21</td>\n",
       "      <td>US</td>\n",
       "      <td>United States</td>\n",
       "      <td>NaN</td>\n",
       "      <td>NaN</td>\n",
       "      <td>-97.8220</td>\n",
       "      <td>37.751</td>\n",
       "      <td>2603:10b6:208:48a::21</td>\n",
       "      <td>NA</td>\n",
       "      <td>2603:10b6:208:48a::21</td>\n",
       "      <td>NA</td>\n",
       "      <td>US</td>\n",
       "      <td>arin</td>\n",
       "      <td>2014-06-05</td>\n",
       "      <td>NA</td>\n",
       "      <td>[{'cidr': '2603:1000::/24', 'handle': 'NET6-2603-1000-1', 'name': 'MSFT', 'startAddress': '2603:...</td>\n",
       "      <td>{'asn': 'NA', 'query': '2603:10b6:208:48a::21', 'asn_cidr': 'NA', 'asn_country_code': 'US', 'asn...</td>\n",
       "      <td>NA</td>\n",
       "      <td>a97557b5-b341-450d-ac71-cdd5658a7e03</td>\n",
       "      <td>OfficeActivityManager</td>\n",
       "      <td>2023-06-23 08:47:28+00:00</td>\n",
       "      <td></td>\n",
       "      <td>MailItemsAccessed</td>\n",
       "      <td>NaN</td>\n",
       "      <td>...</td>\n",
       "      <td>None</td>\n",
       "      <td></td>\n",
       "      <td></td>\n",
       "      <td></td>\n",
       "      <td></td>\n",
       "      <td></td>\n",
       "      <td></td>\n",
       "      <td></td>\n",
       "      <td></td>\n",
       "      <td></td>\n",
       "      <td></td>\n",
       "      <td></td>\n",
       "      <td></td>\n",
       "      <td></td>\n",
       "      <td></td>\n",
       "      <td></td>\n",
       "      <td></td>\n",
       "      <td>[{'Name': 'MailAccessType', 'Value': 'Bind'}, {'Name': 'IsThrottled', 'Value': 'False'}]</td>\n",
       "      <td>a3883eba-fbe9-48bd-9ed3-dca3e0e84250</td>\n",
       "      <td></td>\n",
       "      <td></td>\n",
       "      <td></td>\n",
       "      <td>None</td>\n",
       "      <td>None</td>\n",
       "      <td></td>\n",
       "    </tr>\n",
       "    <tr>\n",
       "      <th>633</th>\n",
       "      <td>NaN</td>\n",
       "      <td>2603:10b6:208:48a::21</td>\n",
       "      <td>US</td>\n",
       "      <td>United States</td>\n",
       "      <td>NaN</td>\n",
       "      <td>NaN</td>\n",
       "      <td>-97.8220</td>\n",
       "      <td>37.751</td>\n",
       "      <td>2603:10b6:208:48a::21</td>\n",
       "      <td>NA</td>\n",
       "      <td>2603:10b6:208:48a::21</td>\n",
       "      <td>NA</td>\n",
       "      <td>US</td>\n",
       "      <td>arin</td>\n",
       "      <td>2014-06-05</td>\n",
       "      <td>NA</td>\n",
       "      <td>[{'cidr': '2603:1000::/24', 'handle': 'NET6-2603-1000-1', 'name': 'MSFT', 'startAddress': '2603:...</td>\n",
       "      <td>{'asn': 'NA', 'query': '2603:10b6:208:48a::21', 'asn_cidr': 'NA', 'asn_country_code': 'US', 'asn...</td>\n",
       "      <td>NA</td>\n",
       "      <td>a97557b5-b341-450d-ac71-cdd5658a7e03</td>\n",
       "      <td>OfficeActivityManager</td>\n",
       "      <td>2023-06-23 08:47:28+00:00</td>\n",
       "      <td></td>\n",
       "      <td>MailItemsAccessed</td>\n",
       "      <td>NaN</td>\n",
       "      <td>...</td>\n",
       "      <td>None</td>\n",
       "      <td></td>\n",
       "      <td></td>\n",
       "      <td></td>\n",
       "      <td></td>\n",
       "      <td></td>\n",
       "      <td></td>\n",
       "      <td></td>\n",
       "      <td></td>\n",
       "      <td></td>\n",
       "      <td></td>\n",
       "      <td></td>\n",
       "      <td></td>\n",
       "      <td></td>\n",
       "      <td></td>\n",
       "      <td></td>\n",
       "      <td></td>\n",
       "      <td>[{'Name': 'MailAccessType', 'Value': 'Bind'}, {'Name': 'IsThrottled', 'Value': 'False'}]</td>\n",
       "      <td>a3883eba-fbe9-48bd-9ed3-dca3e0e84250</td>\n",
       "      <td></td>\n",
       "      <td></td>\n",
       "      <td></td>\n",
       "      <td>None</td>\n",
       "      <td>None</td>\n",
       "      <td></td>\n",
       "    </tr>\n",
       "    <tr>\n",
       "      <th>634</th>\n",
       "      <td>NaN</td>\n",
       "      <td>2603:10b6:208:3ac::10</td>\n",
       "      <td>US</td>\n",
       "      <td>United States</td>\n",
       "      <td>NaN</td>\n",
       "      <td>NaN</td>\n",
       "      <td>-97.8220</td>\n",
       "      <td>37.751</td>\n",
       "      <td>2603:10b6:208:3ac::10</td>\n",
       "      <td>NA</td>\n",
       "      <td>2603:10b6:208:3ac::10</td>\n",
       "      <td>NA</td>\n",
       "      <td>US</td>\n",
       "      <td>arin</td>\n",
       "      <td>2014-06-05</td>\n",
       "      <td>NA</td>\n",
       "      <td>[{'cidr': '2603:1000::/24', 'handle': 'NET6-2603-1000-1', 'name': 'MSFT', 'startAddress': '2603:...</td>\n",
       "      <td>{'asn': 'NA', 'query': '2603:10b6:208:3ac::10', 'asn_cidr': 'NA', 'asn_country_code': 'US', 'asn...</td>\n",
       "      <td>NA</td>\n",
       "      <td>a97557b5-b341-450d-ac71-cdd5658a7e03</td>\n",
       "      <td>OfficeActivityManager</td>\n",
       "      <td>2023-06-23 18:41:54+00:00</td>\n",
       "      <td></td>\n",
       "      <td>MailItemsAccessed</td>\n",
       "      <td>NaN</td>\n",
       "      <td>...</td>\n",
       "      <td>None</td>\n",
       "      <td></td>\n",
       "      <td></td>\n",
       "      <td></td>\n",
       "      <td></td>\n",
       "      <td></td>\n",
       "      <td></td>\n",
       "      <td></td>\n",
       "      <td></td>\n",
       "      <td></td>\n",
       "      <td></td>\n",
       "      <td></td>\n",
       "      <td></td>\n",
       "      <td></td>\n",
       "      <td></td>\n",
       "      <td></td>\n",
       "      <td></td>\n",
       "      <td>[{'Name': 'MailAccessType', 'Value': 'Bind'}, {'Name': 'IsThrottled', 'Value': 'False'}]</td>\n",
       "      <td>b669c6ea-1adf-453f-b8bc-6d526592b419</td>\n",
       "      <td></td>\n",
       "      <td></td>\n",
       "      <td></td>\n",
       "      <td>None</td>\n",
       "      <td>None</td>\n",
       "      <td></td>\n",
       "    </tr>\n",
       "  </tbody>\n",
       "</table>\n",
       "<p>635 rows × 243 columns</p>\n",
       "</div>"
      ],
      "text/plain": [
       "    IPAddress_orig            IPAddress_x CountryCode    CountryName  \\\n",
       "0    69.130.255.13          69.130.255.13          US  United States   \n",
       "1    69.130.255.13          69.130.255.13          US  United States   \n",
       "2    69.130.255.13          69.130.255.13          US  United States   \n",
       "3    69.130.255.13          69.130.255.13          US  United States   \n",
       "4    69.130.255.13          69.130.255.13          US  United States   \n",
       "..             ...                    ...         ...            ...   \n",
       "630            NaN  2603:10b6:208:48a::21          US  United States   \n",
       "631            NaN  2603:10b6:208:48a::21          US  United States   \n",
       "632            NaN  2603:10b6:208:48a::21          US  United States   \n",
       "633            NaN  2603:10b6:208:48a::21          US  United States   \n",
       "634            NaN  2603:10b6:208:3ac::10          US  United States   \n",
       "\n",
       "         State       City  Longitude  Latitude              IpAddress   asn  \\\n",
       "0    Wisconsin  Middleton   -89.5073    43.103          69.130.255.13  4181   \n",
       "1    Wisconsin  Middleton   -89.5073    43.103          69.130.255.13  4181   \n",
       "2    Wisconsin  Middleton   -89.5073    43.103          69.130.255.13  4181   \n",
       "3    Wisconsin  Middleton   -89.5073    43.103          69.130.255.13  4181   \n",
       "4    Wisconsin  Middleton   -89.5073    43.103          69.130.255.13  4181   \n",
       "..         ...        ...        ...       ...                    ...   ...   \n",
       "630        NaN        NaN   -97.8220    37.751  2603:10b6:208:48a::21    NA   \n",
       "631        NaN        NaN   -97.8220    37.751  2603:10b6:208:48a::21    NA   \n",
       "632        NaN        NaN   -97.8220    37.751  2603:10b6:208:48a::21    NA   \n",
       "633        NaN        NaN   -97.8220    37.751  2603:10b6:208:48a::21    NA   \n",
       "634        NaN        NaN   -97.8220    37.751  2603:10b6:208:3ac::10    NA   \n",
       "\n",
       "                     query         asn_cidr asn_country_code asn_registry  \\\n",
       "0            69.130.255.13  69.130.240.0/20               US         arin   \n",
       "1            69.130.255.13  69.130.240.0/20               US         arin   \n",
       "2            69.130.255.13  69.130.240.0/20               US         arin   \n",
       "3            69.130.255.13  69.130.240.0/20               US         arin   \n",
       "4            69.130.255.13  69.130.240.0/20               US         arin   \n",
       "..                     ...              ...              ...          ...   \n",
       "630  2603:10b6:208:48a::21               NA               US         arin   \n",
       "631  2603:10b6:208:48a::21               NA               US         arin   \n",
       "632  2603:10b6:208:48a::21               NA               US         arin   \n",
       "633  2603:10b6:208:48a::21               NA               US         arin   \n",
       "634  2603:10b6:208:3ac::10               NA               US         arin   \n",
       "\n",
       "       asn_date asn_description  \\\n",
       "0    2003-03-25      TDS-AS, US   \n",
       "1    2003-03-25      TDS-AS, US   \n",
       "2    2003-03-25      TDS-AS, US   \n",
       "3    2003-03-25      TDS-AS, US   \n",
       "4    2003-03-25      TDS-AS, US   \n",
       "..          ...             ...   \n",
       "630  2014-06-05              NA   \n",
       "631  2014-06-05              NA   \n",
       "632  2014-06-05              NA   \n",
       "633  2014-06-05              NA   \n",
       "634  2014-06-05              NA   \n",
       "\n",
       "                                                                                                    nets  \\\n",
       "0    [{'cidr': '69.128.0.0/14', 'handle': 'NET-69-128-0-0-1', 'name': 'NETBLK-TDSNET-BLK', 'startAddr...   \n",
       "1    [{'cidr': '69.128.0.0/14', 'handle': 'NET-69-128-0-0-1', 'name': 'NETBLK-TDSNET-BLK', 'startAddr...   \n",
       "2    [{'cidr': '69.128.0.0/14', 'handle': 'NET-69-128-0-0-1', 'name': 'NETBLK-TDSNET-BLK', 'startAddr...   \n",
       "3    [{'cidr': '69.128.0.0/14', 'handle': 'NET-69-128-0-0-1', 'name': 'NETBLK-TDSNET-BLK', 'startAddr...   \n",
       "4    [{'cidr': '69.128.0.0/14', 'handle': 'NET-69-128-0-0-1', 'name': 'NETBLK-TDSNET-BLK', 'startAddr...   \n",
       "..                                                                                                   ...   \n",
       "630  [{'cidr': '2603:1000::/24', 'handle': 'NET6-2603-1000-1', 'name': 'MSFT', 'startAddress': '2603:...   \n",
       "631  [{'cidr': '2603:1000::/24', 'handle': 'NET6-2603-1000-1', 'name': 'MSFT', 'startAddress': '2603:...   \n",
       "632  [{'cidr': '2603:1000::/24', 'handle': 'NET6-2603-1000-1', 'name': 'MSFT', 'startAddress': '2603:...   \n",
       "633  [{'cidr': '2603:1000::/24', 'handle': 'NET6-2603-1000-1', 'name': 'MSFT', 'startAddress': '2603:...   \n",
       "634  [{'cidr': '2603:1000::/24', 'handle': 'NET6-2603-1000-1', 'name': 'MSFT', 'startAddress': '2603:...   \n",
       "\n",
       "                                                                                              Whois_data  \\\n",
       "0    {'asn': '4181', 'query': '69.130.255.13', 'asn_cidr': '69.130.240.0/20', 'asn_country_code': 'US...   \n",
       "1    {'asn': '4181', 'query': '69.130.255.13', 'asn_cidr': '69.130.240.0/20', 'asn_country_code': 'US...   \n",
       "2    {'asn': '4181', 'query': '69.130.255.13', 'asn_cidr': '69.130.240.0/20', 'asn_country_code': 'US...   \n",
       "3    {'asn': '4181', 'query': '69.130.255.13', 'asn_cidr': '69.130.240.0/20', 'asn_country_code': 'US...   \n",
       "4    {'asn': '4181', 'query': '69.130.255.13', 'asn_cidr': '69.130.240.0/20', 'asn_country_code': 'US...   \n",
       "..                                                                                                   ...   \n",
       "630  {'asn': 'NA', 'query': '2603:10b6:208:48a::21', 'asn_cidr': 'NA', 'asn_country_code': 'US', 'asn...   \n",
       "631  {'asn': 'NA', 'query': '2603:10b6:208:48a::21', 'asn_cidr': 'NA', 'asn_country_code': 'US', 'asn...   \n",
       "632  {'asn': 'NA', 'query': '2603:10b6:208:48a::21', 'asn_cidr': 'NA', 'asn_country_code': 'US', 'asn...   \n",
       "633  {'asn': 'NA', 'query': '2603:10b6:208:48a::21', 'asn_cidr': 'NA', 'asn_country_code': 'US', 'asn...   \n",
       "634  {'asn': 'NA', 'query': '2603:10b6:208:3ac::10', 'asn_cidr': 'NA', 'asn_country_code': 'US', 'asn...   \n",
       "\n",
       "    AsnDescription                              TenantId  \\\n",
       "0       TDS-AS, US  a97557b5-b341-450d-ac71-cdd5658a7e03   \n",
       "1       TDS-AS, US  a97557b5-b341-450d-ac71-cdd5658a7e03   \n",
       "2       TDS-AS, US  a97557b5-b341-450d-ac71-cdd5658a7e03   \n",
       "3       TDS-AS, US  a97557b5-b341-450d-ac71-cdd5658a7e03   \n",
       "4       TDS-AS, US  a97557b5-b341-450d-ac71-cdd5658a7e03   \n",
       "..             ...                                   ...   \n",
       "630             NA  a97557b5-b341-450d-ac71-cdd5658a7e03   \n",
       "631             NA  a97557b5-b341-450d-ac71-cdd5658a7e03   \n",
       "632             NA  a97557b5-b341-450d-ac71-cdd5658a7e03   \n",
       "633             NA  a97557b5-b341-450d-ac71-cdd5658a7e03   \n",
       "634             NA  a97557b5-b341-450d-ac71-cdd5658a7e03   \n",
       "\n",
       "              SourceSystem              TimeGenerated ResourceId  \\\n",
       "0    OfficeActivityManager  2023-06-21 20:21:55+00:00              \n",
       "1    OfficeActivityManager  2023-06-21 20:54:24+00:00              \n",
       "2    OfficeActivityManager  2023-06-21 20:54:24+00:00              \n",
       "3    OfficeActivityManager  2023-06-21 20:54:24+00:00              \n",
       "4    OfficeActivityManager  2023-06-21 20:58:17+00:00              \n",
       "..                     ...                        ...        ...   \n",
       "630  OfficeActivityManager  2023-06-23 08:47:28+00:00              \n",
       "631  OfficeActivityManager  2023-06-23 08:47:28+00:00              \n",
       "632  OfficeActivityManager  2023-06-23 08:47:28+00:00              \n",
       "633  OfficeActivityManager  2023-06-23 08:47:28+00:00              \n",
       "634  OfficeActivityManager  2023-06-23 18:41:54+00:00              \n",
       "\n",
       "             Operation OperationVersion  ... ExtraProperties AddOnType  \\\n",
       "0    MailItemsAccessed              NaN  ...            None             \n",
       "1    MailItemsAccessed              NaN  ...            None             \n",
       "2    MailItemsAccessed              NaN  ...            None             \n",
       "3    MailItemsAccessed              NaN  ...            None             \n",
       "4           HardDelete              NaN  ...            None             \n",
       "..                 ...              ...  ...             ...       ...   \n",
       "630  MailItemsAccessed              NaN  ...            None             \n",
       "631  MailItemsAccessed              NaN  ...            None             \n",
       "632  MailItemsAccessed              NaN  ...            None             \n",
       "633  MailItemsAccessed              NaN  ...            None             \n",
       "634  MailItemsAccessed              NaN  ...            None             \n",
       "\n",
       "    AddonName TabType  Name OldValue NewValue ItemName ChatThreadId ChatName  \\\n",
       "0                                                                              \n",
       "1                                                                              \n",
       "2                                                                              \n",
       "3                                                                              \n",
       "4                                                                              \n",
       "..        ...     ...   ...      ...      ...      ...          ...      ...   \n",
       "630                                                                            \n",
       "631                                                                            \n",
       "632                                                                            \n",
       "633                                                                            \n",
       "634                                                                            \n",
       "\n",
       "    CommunicationType AADGroupId AddOnGuid AppDistributionMode TargetUserId  \\\n",
       "0                                                                             \n",
       "1                                                                             \n",
       "2                                                                             \n",
       "3                                                                             \n",
       "4                                                                             \n",
       "..                ...        ...       ...                 ...          ...   \n",
       "630                                                                           \n",
       "631                                                                           \n",
       "632                                                                           \n",
       "633                                                                           \n",
       "634                                                                           \n",
       "\n",
       "    OperationScope AzureADAppId  \\\n",
       "0                                 \n",
       "1                                 \n",
       "2                                 \n",
       "3                                 \n",
       "4                                 \n",
       "..             ...          ...   \n",
       "630                               \n",
       "631                               \n",
       "632                               \n",
       "633                               \n",
       "634                               \n",
       "\n",
       "                                                                          OperationProperties  \\\n",
       "0    [{'Name': 'MailAccessType', 'Value': 'Bind'}, {'Name': 'IsThrottled', 'Value': 'False'}]   \n",
       "1    [{'Name': 'MailAccessType', 'Value': 'Bind'}, {'Name': 'IsThrottled', 'Value': 'False'}]   \n",
       "2    [{'Name': 'MailAccessType', 'Value': 'Bind'}, {'Name': 'IsThrottled', 'Value': 'False'}]   \n",
       "3    [{'Name': 'MailAccessType', 'Value': 'Bind'}, {'Name': 'IsThrottled', 'Value': 'False'}]   \n",
       "4                                                                                        None   \n",
       "..                                                                                        ...   \n",
       "630  [{'Name': 'MailAccessType', 'Value': 'Bind'}, {'Name': 'IsThrottled', 'Value': 'False'}]   \n",
       "631  [{'Name': 'MailAccessType', 'Value': 'Bind'}, {'Name': 'IsThrottled', 'Value': 'False'}]   \n",
       "632  [{'Name': 'MailAccessType', 'Value': 'Bind'}, {'Name': 'IsThrottled', 'Value': 'False'}]   \n",
       "633  [{'Name': 'MailAccessType', 'Value': 'Bind'}, {'Name': 'IsThrottled', 'Value': 'False'}]   \n",
       "634  [{'Name': 'MailAccessType', 'Value': 'Bind'}, {'Name': 'IsThrottled', 'Value': 'False'}]   \n",
       "\n",
       "                              ClientAppId ApplicationId SRPolicyId  \\\n",
       "0                                                                    \n",
       "1                                                                    \n",
       "2                                                                    \n",
       "3                                                                    \n",
       "4                                                                    \n",
       "..                                    ...           ...        ...   \n",
       "630  a3883eba-fbe9-48bd-9ed3-dca3e0e84250                            \n",
       "631  a3883eba-fbe9-48bd-9ed3-dca3e0e84250                            \n",
       "632  a3883eba-fbe9-48bd-9ed3-dca3e0e84250                            \n",
       "633  a3883eba-fbe9-48bd-9ed3-dca3e0e84250                            \n",
       "634  b669c6ea-1adf-453f-b8bc-6d526592b419                            \n",
       "\n",
       "    SRPolicyName SRRuleMatchDetails IsManagedDevice ActorContextId_  \n",
       "0                              None            None                  \n",
       "1                              None            None                  \n",
       "2                              None            None                  \n",
       "3                              None            None                  \n",
       "4                              None            None                  \n",
       "..           ...                ...             ...             ...  \n",
       "630                            None            None                  \n",
       "631                            None            None                  \n",
       "632                            None            None                  \n",
       "633                            None            None                  \n",
       "634                            None            None                  \n",
       "\n",
       "[635 rows x 243 columns]"
      ]
     },
     "execution_count": 14,
     "metadata": {},
     "output_type": "execute_result"
    }
   ],
   "source": [
    "acc_result.ip_all_data"
   ]
  },
  {
   "attachments": {},
   "cell_type": "markdown",
   "metadata": {},
   "source": [
    "## Browse events with alternative sorting\n",
    "You can pass a DataFrame to *result*`.view_events()` instead of an attribute name.\n",
    "\n",
    "This means that you can apply sorting or filtering of the data before viewing it.\n",
    "Here is an example sorting by IPAddress.\n",
    "\n",
    "```python\n",
    "acc_result.view_events(\n",
    "    data=acc_result.azure_activity.sort_values(\"IPAddress\"),\n",
    "    summary_cols=[\"SourceSystem\", \"Operation\", \"IPAddress\"]\n",
    ")\n",
    "```"
   ]
  },
  {
   "attachments": {},
   "cell_type": "markdown",
   "metadata": {},
   "source": [
    "## Additional properties and methods of the result object\n",
    "\n",
    "These are static properties - usually DataFrames or visualizations. \n",
    "You can access each of these to see or manipulate the retrieved data.\n",
    "\n",
    "To see help on the available attributes type:\n",
    "```python\n",
    ">>> help(acc_result)\n",
    "```\n",
    "To see the available methods type:\n",
    "```python\n",
    ">>> acc_result.list_methods()\n",
    "```\n",
    "> Note, for the AccountSummary notebooklet, the two main data retrieval methods are:<br>\n",
    "> - run<br>\n",
    "> - get_additional_data<br>\n",
    "> There are several other methods that allow you to view individual plots\n",
    "> or subsets of the data (such as alerts).\n",
    "\n",
    "To view help on a specific method type:\n",
    "```python\n",
    ">>> help(acc_result.method_name)\n",
    "```\n",
    "\n",
    "To run a method\n",
    "```python\n",
    "acc_result.display_alert_timeline()\n",
    "```"
   ]
  },
  {
   "cell_type": "code",
   "execution_count": 15,
   "metadata": {},
   "outputs": [
    {
     "data": {
      "text/plain": [
       "[\"az_activity_timeline_by_ip - 'Display Azure activity timeline by IP address.'\",\n",
       " \"az_activity_timeline_by_operation - 'Display Azure activity timeline by operation.'\",\n",
       " \"az_activity_timeline_by_provider - 'Display Azure activity timeline by provider.'\",\n",
       " \"browse_accounts - 'Return the accounts browser/viewer.'\",\n",
       " \"browse_alerts - 'Return alert browser/viewer.'\",\n",
       " \"browse_bookmarks - 'Return bookmark browser/viewer.'\",\n",
       " \"display_alert_timeline - 'Display the alert timeline.'\",\n",
       " \"get_additional_data - 'Find additional data for the selected account.'\",\n",
       " \"get_geoip_map - 'Return Folium map of IP activity.'\",\n",
       " \"host_logon_timeline - 'Display IP address summary.'\",\n",
       " \"run - 'Return account activity summary.'\",\n",
       " \"show_ip_summary - 'Display Azure activity timeline by operation.'\"]"
      ]
     },
     "execution_count": 15,
     "metadata": {},
     "output_type": "execute_result"
    }
   ],
   "source": [
    "acc_result.list_methods()"
   ]
  },
  {
   "attachments": {},
   "cell_type": "markdown",
   "metadata": {},
   "source": [
    "---\n",
    "\n",
    "## Viewing the Result class\n",
    "You can view all of the data in the results class by \"running\" it in a cell\n",
    "\n",
    "> Note: This produces a lot of output.<br>\n",
    "> Due to the way Jupyter display Javascript objects the plots may\n",
    "> appear out of order.\n",
    "\n",
    "```ipython\n",
    "  acc_result\n",
    "```\n",
    "\n",
    "Most of the properties of the results class are pandas DataFrames - \n",
    "you can use these directly for further analysis. Other property types\n",
    "include entities and visualizations.\n",
    "\n",
    "The DataFrames displayed by running the result object are truncated\n",
    "to the first five rows.\n",
    "\n",
    "You can also access individual data properties of the result as follows:\n",
    "```ipython\n",
    "  result.data_property\n",
    "```"
   ]
  },
  {
   "cell_type": "code",
   "execution_count": 16,
   "metadata": {},
   "outputs": [
    {
     "data": {
      "text/plain": [
       "['account_activity',\n",
       " 'azure_activity',\n",
       " 'azure_activity_summary',\n",
       " 'ip_summary',\n",
       " 'ip_all_data']"
      ]
     },
     "execution_count": 16,
     "metadata": {},
     "output_type": "execute_result"
    }
   ],
   "source": [
    "acc_result.data_properties()"
   ]
  },
  {
   "attachments": {},
   "cell_type": "markdown",
   "metadata": {},
   "source": [
    "---\n",
    "\n",
    "## Using Pivots to get more context information\n",
    "\n",
    "You can run a pivot function on the account summary results\n",
    "to get additional context on the data.\n",
    "\n",
    "Here is an example of looking up Whois information for Azure IPAddress requests.\n",
    "\n",
    "```python\n",
    "whois_df = (\n",
    "    acc_result                      # the results object\n",
    "    .azure_activity[[\"IPAddress\"]]  # the property and the column we want\n",
    "    .drop_duplicates()              # drop duplicates\n",
    "    .mp_pivot.run(                  # run the pivot function IpAddress 'whois' function\n",
    "        IpAddress.util.whois, column=\"IPAddress\" \n",
    "    )\n",
    ")\n",
    "whois_df\n",
    "```"
   ]
  },
  {
   "attachments": {},
   "cell_type": "markdown",
   "metadata": {},
   "source": [
    "---\n",
    "\n",
    "## Use other notebooklets and pivots functions to drill down on other entities\n",
    "\n",
    "You may want to drill down on other entities in the Account data.\n",
    "You can use methods of the IpAddress or Host entities, for example,\n",
    "to look at these in more detail.\n",
    "\n",
    "Run the ip_address_summary notebooklet pivot\n",
    "```python\n",
    "IpAddress = entities.IpAddress\n",
    "ip_result = IpAddress.nblt.ip_address_summary(\"157.56.162.53\")\n",
    "```\n",
    "\n",
    "View the TI results\n",
    "```python\n",
    "ip_result.browse_ti_results()\n",
    "```"
   ]
  },
  {
   "attachments": {},
   "cell_type": "markdown",
   "metadata": {},
   "source": [
    "---\n",
    "\n",
    "# More information:\n",
    "\n",
    "## Notebooklets and Pivots\n",
    "[Notebooklets](https://msticnb.readthedocs.io/en/latest/)\n",
    "\n",
    "[Pivot functions](https://msticpy.readthedocs.io/en/latest/data_analysis/PivotFunctions.html)\n",
    "\n",
    "## Notebook/MSTICPy configuration\n",
    "[Getting Started](https://github.com/Azure/Azure-Sentinel-Notebooks/blob/master/A%20Getting%20Started%20Guide%20For%20Azure%20Sentinel%20ML%20Notebooks.ipynb)\n",
    "[MSTICPy Configuration guide](https://msticpy.readthedocs.io/en/latest/getting_started/msticpyconfig.html)\n",
    "\n",
    "[ConfigureNotebookEnvironment notebook](https://github.com/Azure/Azure-Sentinel-Notebooks/blob/master/ConfiguringNotebookEnvironment.ipynb)"
   ]
  }
 ],
 "metadata": {
  "celltoolbar": "Tags",
  "hide_input": false,
  "kernelspec": {
   "display_name": ".venv",
   "language": "python",
   "name": "python3"
  },
  "language_info": {
   "codemirror_mode": {
    "name": "ipython",
    "version": 3
   },
   "file_extension": ".py",
   "mimetype": "text/x-python",
   "name": "python",
   "nbconvert_exporter": "python",
   "pygments_lexer": "ipython3",
   "version": "3.9.13"
  },
  "latex_envs": {
   "LaTeX_envs_menu_present": true,
   "autoclose": false,
   "autocomplete": true,
   "bibliofile": "biblio.bib",
   "cite_by": "apalike",
   "current_citInitial": 1,
   "eqLabelWithNumbers": true,
   "eqNumInitial": 1,
   "hotkeys": {
    "equation": "Ctrl-E",
    "itemize": "Ctrl-I"
   },
   "labels_anchors": false,
   "latex_user_defs": false,
   "report_style_numbering": false,
   "user_envs_cfg": false
  },
  "toc": {
   "base_numbering": 1,
   "nav_menu": {},
   "number_sections": true,
   "sideBar": true,
   "skip_h1_title": true,
   "title_cell": "Contents",
   "title_sidebar": "Contents",
   "toc_cell": true,
   "toc_position": {
    "height": "calc(100% - 180px)",
    "left": "10px",
    "top": "150px",
    "width": "512px"
   },
   "toc_section_display": true,
   "toc_window_display": true
  },
  "varInspector": {
   "cols": {
    "lenName": 16,
    "lenType": 16,
    "lenVar": 40
   },
   "kernels_config": {
    "python": {
     "delete_cmd_postfix": "",
     "delete_cmd_prefix": "del ",
     "library": "var_list.py",
     "varRefreshCmd": "print(var_dic_list())"
    },
    "r": {
     "delete_cmd_postfix": ") ",
     "delete_cmd_prefix": "rm(",
     "library": "var_list.r",
     "varRefreshCmd": "cat(var_dic_list()) "
    }
   },
   "types_to_exclude": [
    "module",
    "function",
    "builtin_function_or_method",
    "instance",
    "_Feature"
   ],
   "window_display": false
  },
  "widgets": {
   "application/vnd.jupyter.widget-state+json": {
    "state": {
     "0391d8c0878e465dabc638d75cf02694": {
      "model_module": "@jupyter-widgets/base",
      "model_module_version": "1.2.0",
      "model_name": "LayoutModel",
      "state": {}
     },
     "0529135519104bc392e2a044a106c0b1": {
      "model_module": "@jupyter-widgets/controls",
      "model_module_version": "1.5.0",
      "model_name": "DescriptionStyleModel",
      "state": {
       "description_width": "initial"
      }
     },
     "0548b0503d3340a58ea08e1f1f705865": {
      "model_module": "@jupyter-widgets/base",
      "model_module_version": "1.2.0",
      "model_name": "LayoutModel",
      "state": {}
     },
     "05a30ea1531d42e1ae8cdcdb771daeff": {
      "model_module": "@jupyter-widgets/controls",
      "model_module_version": "1.5.0",
      "model_name": "DescriptionStyleModel",
      "state": {
       "description_width": ""
      }
     },
     "0633587e3a0f4d319027ea14c3fc1a78": {
      "model_module": "@jupyter-widgets/controls",
      "model_module_version": "1.5.0",
      "model_name": "TextModel",
      "state": {
       "description": "Workspace Name",
       "layout": "IPY_MODEL_cfda608bcf5c4399904a369dae615573",
       "style": "IPY_MODEL_b58dd8f2634d4099b5ceb30350db33fd",
       "value": "Default"
      }
     },
     "06d7adc128794d99a85ae77b226b04d9": {
      "model_module": "@jupyter-widgets/controls",
      "model_module_version": "1.5.0",
      "model_name": "DescriptionStyleModel",
      "state": {
       "description_width": "initial"
      }
     },
     "099c0792526244a8b736bb295c59d80e": {
      "model_module": "@jupyter-widgets/controls",
      "model_module_version": "1.5.0",
      "model_name": "CheckboxModel",
      "state": {
       "description": "Display details",
       "disabled": false,
       "layout": "IPY_MODEL_e1218c3b438f4bacbfb911bcd092e3d7",
       "style": "IPY_MODEL_bae596916ee94ce39c973012dffd20a7",
       "value": true
      }
     },
     "0aa56ea80d5c4c4a873eafdd6729f65e": {
      "model_module": "@jupyter-widgets/base",
      "model_module_version": "1.2.0",
      "model_name": "LayoutModel",
      "state": {}
     },
     "0b835e4f4e384468a4888e60c8f3797f": {
      "model_module": "@jupyter-widgets/base",
      "model_module_version": "1.2.0",
      "model_name": "LayoutModel",
      "state": {}
     },
     "0c35ce564cc44b6ba6cc6becb3faef02": {
      "model_module": "@jupyter-widgets/controls",
      "model_module_version": "1.5.0",
      "model_name": "TextModel",
      "state": {
       "description": "Time (24hr)",
       "layout": "IPY_MODEL_7703f35231ed4df9bde200fb8d49ea68",
       "style": "IPY_MODEL_6de457e02b534472a42cd5e2fc58cdf0",
       "value": "02:49:14.277968"
      }
     },
     "0f93833c73a64c0cb0f4f03db3bb37cc": {
      "model_module": "@jupyter-widgets/controls",
      "model_module_version": "1.5.0",
      "model_name": "DescriptionStyleModel",
      "state": {
       "description_width": "initial"
      }
     },
     "0fa5a927c4ad47e19c135307b1dea85c": {
      "model_module": "@jupyter-widgets/base",
      "model_module_version": "1.2.0",
      "model_name": "LayoutModel",
      "state": {
       "width": "100px"
      }
     },
     "11da86ceb7ef4d7ca6616be7de97103b": {
      "model_module": "@jupyter-widgets/controls",
      "model_module_version": "1.5.0",
      "model_name": "VBoxModel",
      "state": {
       "children": [
        "IPY_MODEL_9ad524ba87b549d9a653a50b75dd0c8e",
        "IPY_MODEL_c1a73ef4c1ba4a0faa6e102d2838040f",
        "IPY_MODEL_5b836f6df54c4e06bb03339619f4f900"
       ],
       "layout": "IPY_MODEL_3d9c175e99d546ffaf2e45f5187a432d"
      }
     },
     "1578a8b4ceb44210a8ed720331423f55": {
      "model_module": "@jupyter-widgets/controls",
      "model_module_version": "1.5.0",
      "model_name": "DescriptionStyleModel",
      "state": {
       "description_width": ""
      }
     },
     "1851cda4fc144f1ab2c99a865cd78316": {
      "model_module": "@jupyter-widgets/controls",
      "model_module_version": "1.5.0",
      "model_name": "DescriptionStyleModel",
      "state": {
       "description_width": ""
      }
     },
     "1943a5eb70314738b53982644b8963ce": {
      "model_module": "@jupyter-widgets/controls",
      "model_module_version": "1.5.0",
      "model_name": "TextModel",
      "state": {
       "description": "Query end time (UTC) :  ",
       "layout": "IPY_MODEL_3e8cb228b0ca4fdf90694445cc13011a",
       "style": "IPY_MODEL_609239bc9d2e4561a9edf11472142ea0",
       "value": "2022-04-05 02:49:14.277968+00:00"
      }
     },
     "1c29a43ba30c40efaaceefefce2c0805": {
      "model_module": "@jupyter-widgets/base",
      "model_module_version": "1.2.0",
      "model_name": "LayoutModel",
      "state": {
       "width": "99%"
      }
     },
     "1db1c2902d634d849b7aeac8c5dfa58a": {
      "model_module": "@jupyter-widgets/base",
      "model_module_version": "1.2.0",
      "model_name": "LayoutModel",
      "state": {
       "width": "95%"
      }
     },
     "1e25f2b432894d048d96c8dacf07543d": {
      "model_module": "@jupyter-widgets/base",
      "model_module_version": "1.2.0",
      "model_name": "LayoutModel",
      "state": {}
     },
     "21bc0aaac5d2438c9fe56e0d4d2f5a2e": {
      "model_module": "@jupyter-widgets/base",
      "model_module_version": "1.2.0",
      "model_name": "LayoutModel",
      "state": {}
     },
     "22209d4eaaa541e781f4e998e577a8c1": {
      "model_module": "@jupyter-widgets/controls",
      "model_module_version": "1.5.0",
      "model_name": "TextModel",
      "state": {
       "description": "Filter:",
       "layout": "IPY_MODEL_0b835e4f4e384468a4888e60c8f3797f",
       "style": "IPY_MODEL_31f753a921154c22a2228cf9070b2d55",
       "value": "kelsea@seccxp.ninja"
      }
     },
     "232af7b022fc45b0a7d78aed9b647516": {
      "model_module": "@jupyter-widgets/base",
      "model_module_version": "1.2.0",
      "model_name": "LayoutModel",
      "state": {
       "width": "100px"
      }
     },
     "237b52fe08e94898a8d04003af101c75": {
      "model_module": "@jupyter-widgets/controls",
      "model_module_version": "1.5.0",
      "model_name": "DescriptionStyleModel",
      "state": {
       "description_width": "initial"
      }
     },
     "2972752ff3344731b3368a194cd70477": {
      "model_module": "@jupyter-widgets/base",
      "model_module_version": "1.2.0",
      "model_name": "LayoutModel",
      "state": {}
     },
     "2ab6fddd5f5f4e6f98213776ee5040a9": {
      "model_module": "@jupyter-widgets/base",
      "model_module_version": "1.2.0",
      "model_name": "LayoutModel",
      "state": {
       "width": "95%"
      }
     },
     "2b0fca70840e4e65be7f5a028056bbaf": {
      "model_module": "@jupyter-widgets/controls",
      "model_module_version": "1.5.0",
      "model_name": "TextModel",
      "state": {
       "description": "Query start time (UTC):",
       "layout": "IPY_MODEL_fed0fb69f87d4c3dbc5aa6f486a8c443",
       "style": "IPY_MODEL_0529135519104bc392e2a044a106c0b1",
       "value": "2022-04-04 02:49:12.745984"
      }
     },
     "2c4aedcf664f47459a660038672fd03b": {
      "model_module": "@jupyter-widgets/controls",
      "model_module_version": "1.5.0",
      "model_name": "SelectModel",
      "state": {
       "_options_labels": [
        "2022-03-30 08:08:28.284000+00:00 - Suspicious URL clicked - Microsoft Defender Advanced Threat Protection",
        "2022-04-02 22:00:42.111000+00:00 - Anomalous sign-in location by user account and authenticating application - with sign-in details - Azure Sentinel",
        "2022-04-02 22:10:42.111000+00:00 - Anomalous sign-in location by user account and authenticating application - with sign-in details - Azure Sentinel",
        "2022-04-02 22:25:42.111000+00:00 - Anomalous sign-in location by user account and authenticating application - with sign-in details - Azure Sentinel",
        "2022-04-02 23:55:42.111000+00:00 - Anomalous sign-in location by user account and authenticating application - with sign-in details - Azure Sentinel",
        "2022-04-03 00:45:42.111000+00:00 - Anomalous sign-in location by user account and authenticating application - with sign-in details - Azure Sentinel",
        "2022-04-03 00:50:42.111000+00:00 - Anomalous sign-in location by user account and authenticating application - with sign-in details - Azure Sentinel",
        "2022-04-03 19:45:42.111000+00:00 - Anomalous sign-in location by user account and authenticating application - with sign-in details - Azure Sentinel",
        "2022-04-03 19:50:42.111000+00:00 - Anomalous sign-in location by user account and authenticating application - with sign-in details - Azure Sentinel",
        "2022-04-03 19:55:42.111000+00:00 - Anomalous sign-in location by user account and authenticating application - with sign-in details - Azure Sentinel",
        "2022-04-03 20:00:42.111000+00:00 - Anomalous sign-in location by user account and authenticating application - with sign-in details - Azure Sentinel",
        "2022-04-03 20:15:42.111000+00:00 - Anomalous sign-in location by user account and authenticating application - with sign-in details - Azure Sentinel",
        "2022-04-03 20:20:42.111000+00:00 - Anomalous sign-in location by user account and authenticating application - with sign-in details - Azure Sentinel",
        "2022-04-03 23:45:42.111000+00:00 - Anomalous sign-in location by user account and authenticating application - with sign-in details - Azure Sentinel",
        "2022-04-04 21:20:42.111000+00:00 - Anomalous sign-in location by user account and authenticating application - with sign-in details - Azure Sentinel",
        "2022-04-04 21:25:42.111000+00:00 - Anomalous sign-in location by user account and authenticating application - with sign-in details - Azure Sentinel",
        "2022-04-05 00:07:47.169000+00:00 - Impossible Travel Activity by User - Azure Sentinel"
       ],
       "description": "Select alert :",
       "index": 0,
       "layout": "IPY_MODEL_4a6345df150d4573b3b128adac1f2aea",
       "style": "IPY_MODEL_237b52fe08e94898a8d04003af101c75"
      }
     },
     "301c68021a244f829ff989954ca747a4": {
      "model_module": "@jupyter-widgets/base",
      "model_module_version": "1.2.0",
      "model_name": "LayoutModel",
      "state": {}
     },
     "31f753a921154c22a2228cf9070b2d55": {
      "model_module": "@jupyter-widgets/controls",
      "model_module_version": "1.5.0",
      "model_name": "DescriptionStyleModel",
      "state": {
       "description_width": "initial"
      }
     },
     "35619cf6194a44b4b8a7702a26cf7251": {
      "model_module": "@jupyter-widgets/controls",
      "model_module_version": "1.5.0",
      "model_name": "DescriptionStyleModel",
      "state": {
       "description_width": "initial"
      }
     },
     "35d3189e5ed34fccaa98ae5778006ed4": {
      "model_module": "@jupyter-widgets/base",
      "model_module_version": "1.2.0",
      "model_name": "LayoutModel",
      "state": {
       "height": "200px",
       "width": "100%"
      }
     },
     "39ac65c3089f4e03abf815e59307a896": {
      "model_module": "@jupyter-widgets/controls",
      "model_module_version": "1.5.0",
      "model_name": "SelectModel",
      "state": {
       "_options_labels": [
        "2022-03-30 08:08:28.284000+00:00 - Suspicious URL clicked - Microsoft Defender Advanced Threat Protection",
        "2022-04-02 22:00:42.111000+00:00 - Anomalous sign-in location by user account and authenticating application - with sign-in details - Azure Sentinel",
        "2022-04-02 22:10:42.111000+00:00 - Anomalous sign-in location by user account and authenticating application - with sign-in details - Azure Sentinel",
        "2022-04-02 22:25:42.111000+00:00 - Anomalous sign-in location by user account and authenticating application - with sign-in details - Azure Sentinel",
        "2022-04-02 23:55:42.111000+00:00 - Anomalous sign-in location by user account and authenticating application - with sign-in details - Azure Sentinel",
        "2022-04-03 00:45:42.111000+00:00 - Anomalous sign-in location by user account and authenticating application - with sign-in details - Azure Sentinel",
        "2022-04-03 00:50:42.111000+00:00 - Anomalous sign-in location by user account and authenticating application - with sign-in details - Azure Sentinel",
        "2022-04-03 19:45:42.111000+00:00 - Anomalous sign-in location by user account and authenticating application - with sign-in details - Azure Sentinel",
        "2022-04-03 19:50:42.111000+00:00 - Anomalous sign-in location by user account and authenticating application - with sign-in details - Azure Sentinel",
        "2022-04-03 19:55:42.111000+00:00 - Anomalous sign-in location by user account and authenticating application - with sign-in details - Azure Sentinel",
        "2022-04-03 20:00:42.111000+00:00 - Anomalous sign-in location by user account and authenticating application - with sign-in details - Azure Sentinel",
        "2022-04-03 20:15:42.111000+00:00 - Anomalous sign-in location by user account and authenticating application - with sign-in details - Azure Sentinel",
        "2022-04-03 20:20:42.111000+00:00 - Anomalous sign-in location by user account and authenticating application - with sign-in details - Azure Sentinel",
        "2022-04-03 23:45:42.111000+00:00 - Anomalous sign-in location by user account and authenticating application - with sign-in details - Azure Sentinel",
        "2022-04-04 21:20:42.111000+00:00 - Anomalous sign-in location by user account and authenticating application - with sign-in details - Azure Sentinel",
        "2022-04-04 21:25:42.111000+00:00 - Anomalous sign-in location by user account and authenticating application - with sign-in details - Azure Sentinel",
        "2022-04-05 00:07:47.169000+00:00 - Impossible Travel Activity by User - Azure Sentinel"
       ],
       "description": "Select alert :",
       "index": 13,
       "layout": "IPY_MODEL_477d6ebc104645f8a223263c69255820",
       "style": "IPY_MODEL_46c784bd1df04ca5a4fef3e8c425d631"
      }
     },
     "3c4c84ecc3b546fd84287420469a2ab2": {
      "model_module": "@jupyter-widgets/base",
      "model_module_version": "1.2.0",
      "model_name": "LayoutModel",
      "state": {
       "height": "300px",
       "width": "70%"
      }
     },
     "3d9c175e99d546ffaf2e45f5187a432d": {
      "model_module": "@jupyter-widgets/base",
      "model_module_version": "1.2.0",
      "model_name": "LayoutModel",
      "state": {}
     },
     "3dfb7850a68a4a52a0f3db2ea62a19eb": {
      "model_module": "@jupyter-widgets/controls",
      "model_module_version": "1.5.0",
      "model_name": "DescriptionStyleModel",
      "state": {
       "description_width": ""
      }
     },
     "3e8cb228b0ca4fdf90694445cc13011a": {
      "model_module": "@jupyter-widgets/base",
      "model_module_version": "1.2.0",
      "model_name": "LayoutModel",
      "state": {
       "width": "50%"
      }
     },
     "3f2e9c2d013649d399c171f77a53953c": {
      "model_module": "@jupyter-widgets/controls",
      "model_module_version": "1.5.0",
      "model_name": "DescriptionStyleModel",
      "state": {
       "description_width": ""
      }
     },
     "401f09992d2f494dbf5e657ff37b8be0": {
      "model_module": "@jupyter-widgets/base",
      "model_module_version": "1.2.0",
      "model_name": "LayoutModel",
      "state": {
       "height": "150px",
       "width": "300px"
      }
     },
     "43536d481d654bd8a8111afc3c06ef9c": {
      "model_module": "@jupyter-widgets/controls",
      "model_module_version": "1.5.0",
      "model_name": "CheckboxModel",
      "state": {
       "description": "Display details",
       "disabled": false,
       "layout": "IPY_MODEL_9f611bb4c62745088b61c68de982f3ec",
       "style": "IPY_MODEL_3f2e9c2d013649d399c171f77a53953c",
       "value": true
      }
     },
     "445239701cf94bb2a13fea7f4f8a339a": {
      "model_module": "@jupyter-widgets/base",
      "model_module_version": "1.2.0",
      "model_name": "LayoutModel",
      "state": {}
     },
     "4546255dbb324c2c8fc1e9b7f24be26a": {
      "model_module": "@jupyter-widgets/controls",
      "model_module_version": "1.5.0",
      "model_name": "HBoxModel",
      "state": {
       "children": [
        "IPY_MODEL_e20d8cd48b9a48d3a0fc105cf34ed6f8",
        "IPY_MODEL_d4992c8b9df046f3b6a8334405566eda"
       ],
       "layout": "IPY_MODEL_21bc0aaac5d2438c9fe56e0d4d2f5a2e"
      }
     },
     "463132c93eb84152a393f357c790154d": {
      "model_module": "@jupyter-widgets/controls",
      "model_module_version": "1.5.0",
      "model_name": "SliderStyleModel",
      "state": {
       "description_width": "initial"
      }
     },
     "46c784bd1df04ca5a4fef3e8c425d631": {
      "model_module": "@jupyter-widgets/controls",
      "model_module_version": "1.5.0",
      "model_name": "DescriptionStyleModel",
      "state": {
       "description_width": "initial"
      }
     },
     "477d6ebc104645f8a223263c69255820": {
      "model_module": "@jupyter-widgets/base",
      "model_module_version": "1.2.0",
      "model_name": "LayoutModel",
      "state": {
       "height": "300px",
       "width": "95%"
      }
     },
     "48ccee7d58314dea942ffe0a7c9bd456": {
      "model_module": "@jupyter-widgets/controls",
      "model_module_version": "1.5.0",
      "model_name": "VBoxModel",
      "state": {
       "children": [
        "IPY_MODEL_7c2be47abba34eec97cc9eb66cf25892",
        "IPY_MODEL_2b0fca70840e4e65be7f5a028056bbaf",
        "IPY_MODEL_7b4f933bce6a440c8ab9414be69dccea"
       ],
       "layout": "IPY_MODEL_820f4ed4ac874dbb93572466b9544a7d"
      }
     },
     "494fc091484445509d13c0dcf29ad549": {
      "model_module": "@jupyter-widgets/controls",
      "model_module_version": "1.5.0",
      "model_name": "DescriptionStyleModel",
      "state": {
       "description_width": "initial"
      }
     },
     "4a6345df150d4573b3b128adac1f2aea": {
      "model_module": "@jupyter-widgets/base",
      "model_module_version": "1.2.0",
      "model_name": "LayoutModel",
      "state": {
       "height": "300px",
       "width": "95%"
      }
     },
     "509231cd6ea143f68c937a09a669c270": {
      "model_module": "@jupyter-widgets/controls",
      "model_module_version": "1.5.0",
      "model_name": "SelectModel",
      "state": {
       "_options_labels": [
        "2022-04-03 03:06:17.286000+00:00 - Azure AD - Sign-in activity - 20.37.253.233",
        "2022-04-03 03:07:06.743000+00:00 - Azure AD - Sign-in activity - 20.37.212.69",
        "2022-04-03 03:17:10.481000+00:00 - Azure AD - Sign-in activity - 20.37.212.69",
        "2022-04-03 03:36:15.953000+00:00 - Azure AD - Sign-in activity - 20.37.213.236",
        "2022-04-03 03:43:10.489000+00:00 - Azure AD - Sign-in activity - 20.37.255.76",
        "2022-04-03 03:43:15+00:00 - OfficeActivityManager - Send - 20.190.142.172",
        "2022-04-03 03:52:20.288000+00:00 - Azure AD - Sign-in activity - 20.53.9.84",
        "2022-04-03 03:55:56.128000+00:00 - Azure AD - Sign-in activity - 20.37.253.233",
        "2022-04-03 03:58:21.557000+00:00 - Azure AD - Sign-in activity - 20.70.208.63",
        "2022-04-03 03:58:25+00:00 - OfficeActivityManager - Send - 20.190.142.170",
        "2022-04-03 04:36:08.358000+00:00 - Azure AD - Sign-in activity - 20.53.9.84",
        "2022-04-03 04:36:13+00:00 - OfficeActivityManager - Send - 20.190.142.170",
        "2022-04-03 04:52:12.918000+00:00 - Azure AD - Sign-in activity - 20.37.253.233",
        "2022-04-03 04:58:34.847000+00:00 - Azure AD - Sign-in activity - 20.53.9.84",
        "2022-04-03 04:58:41+00:00 - OfficeActivityManager - Send - 20.190.142.169",
        "2022-04-03 05:12:09.392000+00:00 - Azure AD - Sign-in activity - 20.37.213.236",
        "2022-04-03 05:36:19.908000+00:00 - Azure AD - Sign-in activity - 20.37.213.236",
        "2022-04-03 05:44:37.620000+00:00 - Azure AD - Sign-in activity - 20.37.255.76",
        "2022-04-03 06:46:26.392000+00:00 - Azure AD - Sign-in activity - 20.37.212.69",
        "2022-04-03 06:56:14.665000+00:00 - Azure AD - Sign-in activity - 20.37.213.236",
        "2022-04-03 06:56:19+00:00 - OfficeActivityManager - Send - 20.190.142.169",
        "2022-04-03 07:03:29.784000+00:00 - Azure AD - Sign-in activity - 20.37.255.76",
        "2022-04-03 07:04:19.599000+00:00 - Azure AD - Sign-in activity - 20.37.255.76",
        "2022-04-03 07:10:25.723000+00:00 - Azure AD - Sign-in activity - 20.37.213.236",
        "2022-04-03 07:10:29+00:00 - OfficeActivityManager - Send - 20.190.142.169",
        "2022-04-03 07:23:30.067000+00:00 - Azure AD - Sign-in activity - 20.37.255.76",
        "2022-04-03 07:23:34.434000+00:00 - Azure AD - Sign-in activity - 20.37.255.76",
        "2022-04-03 07:23:45+00:00 - OfficeActivityManager - MailItemsAccessed - 20.190.142.170",
        "2022-04-03 07:23:45+00:00 - OfficeActivityManager - MailItemsAccessed - 20.190.142.169",
        "2022-04-03 07:23:46+00:00 - OfficeActivityManager - MailItemsAccessed - 20.190.142.172",
        "2022-04-03 07:39:17.749000+00:00 - Azure AD - Sign-in activity - 20.37.213.236",
        "2022-04-03 07:39:20+00:00 - OfficeActivityManager - Send - 20.190.142.172",
        "2022-04-03 07:39:22.591000+00:00 - Azure AD - Sign-in activity - 20.37.253.233",
        "2022-04-03 07:42:25.590000+00:00 - Azure AD - Sign-in activity - 20.37.255.76",
        "2022-04-03 07:50:29.282000+00:00 - Azure AD - Sign-in activity - 20.70.208.63",
        "2022-04-03 07:50:31+00:00 - OfficeActivityManager - Send - 20.190.142.170",
        "2022-04-03 08:11:42.423000+00:00 - Azure AD - Sign-in activity - 20.37.213.236",
        "2022-04-03 08:11:45+00:00 - OfficeActivityManager - Send - 20.190.142.172",
        "2022-04-03 08:20:24.310000+00:00 - Azure AD - Sign-in activity - 20.37.212.69",
        "2022-04-03 08:20:27+00:00 - OfficeActivityManager - Send - 20.190.142.169",
        "2022-04-03 08:52:00.098000+00:00 - Azure AD - Sign-in activity - 20.37.253.233",
        "2022-04-03 09:00:38.959000+00:00 - Azure AD - Sign-in activity - 20.53.9.84",
        "2022-04-03 09:20:34.335000+00:00 - Azure AD - Sign-in activity - 20.70.208.63",
        "2022-04-03 09:20:37+00:00 - OfficeActivityManager - Send - 20.190.142.169",
        "2022-04-03 09:40:50.615000+00:00 - Azure AD - Sign-in activity - 20.53.9.84",
        "2022-04-03 09:40:54+00:00 - OfficeActivityManager - Send - 20.190.142.170",
        "2022-04-03 10:01:54.940000+00:00 - Azure AD - Sign-in activity - 20.37.255.76",
        "2022-04-03 10:09:55.620000+00:00 - Azure AD - Sign-in activity - 20.37.255.76",
        "2022-04-03 10:21:53.284000+00:00 - Azure AD - Sign-in activity - 20.53.9.84",
        "2022-04-03 10:22:04.902000+00:00 - Azure AD - Sign-in activity - 20.37.213.236",
        "2022-04-03 10:22:08+00:00 - OfficeActivityManager - Send - 20.190.142.169",
        "2022-04-03 10:25:59.246000+00:00 - Azure AD - Sign-in activity - 20.37.213.236",
        "2022-04-03 10:34:49.904000+00:00 - Azure AD - Sign-in activity - 20.37.255.76",
        "2022-04-03 10:43:56.971000+00:00 - Azure AD - Sign-in activity - 20.53.9.84",
        "2022-04-03 10:44:00+00:00 - OfficeActivityManager - Send - 20.190.142.170",
        "2022-04-03 11:10:43.663000+00:00 - Azure AD - Sign-in activity - 20.37.212.69",
        "2022-04-03 11:21:06.835000+00:00 - Azure AD - Sign-in activity - 20.37.212.69",
        "2022-04-03 11:24:53.297000+00:00 - Azure AD - Sign-in activity - 20.37.255.76",
        "2022-04-03 11:49:51.463000+00:00 - Azure AD - Sign-in activity - 20.37.255.76",
        "2022-04-03 11:49:54+00:00 - OfficeActivityManager - Send - 20.190.142.170",
        "2022-04-03 13:00:07.080000+00:00 - Azure AD - Sign-in activity - 20.37.213.236",
        "2022-04-03 13:00:10+00:00 - OfficeActivityManager - Send - 20.190.142.170",
        "2022-04-03 13:11:09.123000+00:00 - Azure AD - Sign-in activity - 20.37.253.233",
        "2022-04-03 13:30:15.271000+00:00 - Azure AD - Sign-in activity - 20.37.253.233",
        "2022-04-03 13:34:10.670000+00:00 - Azure AD - Sign-in activity - 20.37.213.236",
        "2022-04-03 13:50:21.789000+00:00 - Azure AD - Sign-in activity - 20.37.253.233",
        "2022-04-03 13:50:25+00:00 - OfficeActivityManager - Send - 20.190.142.169",
        "2022-04-03 14:06:08.335000+00:00 - Azure AD - Sign-in activity - 20.37.255.76",
        "2022-04-03 14:06:11+00:00 - OfficeActivityManager - Send - 20.190.142.169",
        "2022-04-03 14:13:10.917000+00:00 - Azure AD - Sign-in activity - 20.37.255.76",
        "2022-04-03 14:14:29.382000+00:00 - Azure AD - Sign-in activity - 20.70.208.63",
        "2022-04-03 14:37:20.689000+00:00 - Azure AD - Sign-in activity - 20.70.208.63",
        "2022-04-03 14:37:24+00:00 - OfficeActivityManager - Send - 20.190.142.170",
        "2022-04-03 14:55:19.622000+00:00 - Azure AD - Sign-in activity - 20.37.212.69",
        "2022-04-03 15:11:18.802000+00:00 - Azure AD - Sign-in activity - 20.37.255.76",
        "2022-04-03 15:16:14.089000+00:00 - Azure AD - Sign-in activity - 20.53.9.84",
        "2022-04-03 15:16:18+00:00 - OfficeActivityManager - Send - 20.190.142.172",
        "2022-04-03 15:16:18.212000+00:00 - Azure AD - Sign-in activity - 20.37.213.236",
        "2022-04-03 15:33:16.036000+00:00 - Azure AD - Sign-in activity - 20.53.9.84",
        "2022-04-03 15:33:19+00:00 - OfficeActivityManager - Send - 20.190.142.170",
        "2022-04-03 15:42:22.504000+00:00 - Azure AD - Sign-in activity - 20.37.212.69",
        "2022-04-03 16:11:19.555000+00:00 - Azure AD - Sign-in activity - 20.37.253.233",
        "2022-04-03 16:42:22.919000+00:00 - Azure AD - Sign-in activity - 20.37.253.233",
        "2022-04-03 16:52:26.891000+00:00 - Azure AD - Sign-in activity - 20.37.212.69",
        "2022-04-03 16:56:47.359000+00:00 - Azure AD - Sign-in activity - 20.70.208.63",
        "2022-04-03 17:06:29.389000+00:00 - Azure AD - Sign-in activity - 20.37.253.233",
        "2022-04-03 17:06:32+00:00 - OfficeActivityManager - Send - 20.190.142.169",
        "2022-04-03 17:18:26.254000+00:00 - Azure AD - Sign-in activity - 20.37.213.236",
        "2022-04-03 17:27:26.654000+00:00 - Azure AD - Sign-in activity - 20.37.213.236",
        "2022-04-03 17:27:30+00:00 - OfficeActivityManager - Send - 20.190.142.172",
        "2022-04-03 18:36:42.335000+00:00 - Azure AD - Sign-in activity - 20.37.213.236",
        "2022-04-03 18:36:45+00:00 - OfficeActivityManager - Send - 20.190.142.172",
        "2022-04-03 18:42:32.753000+00:00 - Azure AD - Sign-in activity - 20.37.212.69",
        "2022-04-03 18:52:29.080000+00:00 - Azure AD - Sign-in activity - 20.53.9.84",
        "2022-04-03 19:40:36.216000+00:00 - Azure AD - Sign-in activity - 20.37.253.233",
        "2022-04-03 19:40:39+00:00 - OfficeActivityManager - Send - 20.190.142.172",
        "2022-04-03 19:45:41.195000+00:00 - Azure AD - Sign-in activity - 20.70.208.63",
        "2022-04-03 19:45:44+00:00 - OfficeActivityManager - Send - 20.190.142.170",
        "2022-04-03 20:14:59.891000+00:00 - Azure AD - Sign-in activity - 20.70.208.63",
        "2022-04-03 20:15:03+00:00 - OfficeActivityManager - Send - 20.190.142.172",
        "2022-04-03 20:18:39.107000+00:00 - Azure AD - Sign-in activity - 20.37.213.236",
        "2022-04-03 20:20:43.267000+00:00 - Azure AD - Sign-in activity - 20.37.253.233",
        "2022-04-03 20:20:46+00:00 - OfficeActivityManager - Send - 20.190.142.169",
        "2022-04-03 20:29:35.990000+00:00 - Azure AD - Sign-in activity - 20.37.253.233",
        "2022-04-03 20:29:39+00:00 - OfficeActivityManager - Send - 20.190.142.170",
        "2022-04-03 20:47:12+00:00 - OfficeActivityManager - MailItemsAccessed - 20.190.142.172",
        "2022-04-03 20:47:12+00:00 - OfficeActivityManager - MailItemsAccessed - 20.190.142.170",
        "2022-04-03 20:47:12+00:00 - OfficeActivityManager - Create - 2603:10b6:408:138:cafe::f1",
        "2022-04-03 21:39:15.190000+00:00 - Azure AD - Sign-in activity - 20.37.255.76",
        "2022-04-03 21:39:42.871000+00:00 - Azure AD - Sign-in activity - 20.37.212.69",
        "2022-04-03 21:39:44+00:00 - OfficeActivityManager - MailItemsAccessed - 20.190.142.169",
        "2022-04-03 21:47:08.419000+00:00 - Azure AD - Sign-in activity - 20.53.9.84",
        "2022-04-03 21:47:10+00:00 - OfficeActivityManager - Send - 20.190.142.172",
        "2022-04-03 21:47:12+00:00 - OfficeActivityManager - MailItemsAccessed - 20.190.142.172",
        "2022-04-03 21:47:13+00:00 - OfficeActivityManager - MailItemsAccessed - 20.190.142.170",
        "2022-04-03 21:56:54.162000+00:00 - Azure AD - Sign-in activity - 20.70.208.63",
        "2022-04-03 21:59:46.342000+00:00 - Azure AD - Sign-in activity - 20.37.212.69",
        "2022-04-03 22:29:11.496000+00:00 - Azure AD - Sign-in activity - 20.53.9.84",
        "2022-04-03 22:29:18.289000+00:00 - Azure AD - Sign-in activity - 20.53.9.84",
        "2022-04-03 22:36:26+00:00 - OfficeActivityManager - Create - 2603:10b6:408:106:cafe::35",
        "2022-04-03 22:36:26+00:00 - OfficeActivityManager - MailItemsAccessed - 20.190.142.169",
        "2022-04-03 22:36:27+00:00 - OfficeActivityManager - MailItemsAccessed - 20.190.142.172",
        "2022-04-03 22:36:27+00:00 - OfficeActivityManager - MailItemsAccessed - 20.190.142.170",
        "2022-04-03 22:39:45+00:00 - OfficeActivityManager - MailItemsAccessed - 20.190.142.169",
        "2022-04-03 22:45:15.897000+00:00 - Azure AD - Sign-in activity - 20.37.253.233",
        "2022-04-03 22:47:13+00:00 - OfficeActivityManager - MailItemsAccessed - 20.190.142.170",
        "2022-04-03 22:47:13+00:00 - OfficeActivityManager - MailItemsAccessed - 20.190.142.172",
        "2022-04-03 22:50:13.146000+00:00 - Azure AD - Sign-in activity - 20.37.253.233",
        "2022-04-03 22:50:16+00:00 - OfficeActivityManager - Send - 20.190.142.169",
        "2022-04-03 22:58:13.377000+00:00 - Azure AD - Sign-in activity - 20.53.9.84",
        "2022-04-03 22:58:17.303000+00:00 - Azure AD - Sign-in activity - 20.53.9.84",
        "2022-04-03 22:58:27+00:00 - OfficeActivityManager - MailItemsAccessed - 20.190.142.172",
        "2022-04-03 22:58:27+00:00 - OfficeActivityManager - MailItemsAccessed - 20.190.142.170",
        "2022-04-03 22:58:27+00:00 - OfficeActivityManager - MailItemsAccessed - 20.190.142.169",
        "2022-04-03 23:05:02.016000+00:00 - Azure AD - Sign-in activity - 20.37.213.236",
        "2022-04-03 23:09:11.261000+00:00 - Azure AD - Sign-in activity - 20.37.255.76",
        "2022-04-03 23:09:15.285000+00:00 - Azure AD - Sign-in activity - 20.37.255.76",
        "2022-04-03 23:09:25+00:00 - OfficeActivityManager - MailItemsAccessed - 20.190.142.170",
        "2022-04-03 23:17:29.985000+00:00 - Azure AD - Sign-in activity - 20.53.9.84",
        "2022-04-03 23:17:33+00:00 - OfficeActivityManager - Send - 20.190.142.170",
        "2022-04-03 23:17:35.319000+00:00 - Azure AD - Sign-in activity - 20.37.253.233",
        "2022-04-03 23:17:39.823000+00:00 - Azure AD - Sign-in activity - 20.37.253.233",
        "2022-04-03 23:18:39.820000+00:00 - Azure AD - Sign-in activity - 20.37.255.76",
        "2022-04-03 23:18:42+00:00 - OfficeActivityManager - MailItemsAccessed - 20.190.142.169",
        "2022-04-03 23:25:41.688000+00:00 - Azure AD - Sign-in activity - 20.70.208.63",
        "2022-04-03 23:25:45.308000+00:00 - Azure AD - Sign-in activity - 20.70.208.63",
        "2022-04-03 23:29:25.190000+00:00 - Azure AD - Sign-in activity - 20.37.253.233",
        "2022-04-03 23:29:29.143000+00:00 - Azure AD - Sign-in activity - 20.37.253.233",
        "2022-04-03 23:31:26.453000+00:00 - Azure AD - Sign-in activity - 20.37.212.69",
        "2022-04-03 23:31:36.643000+00:00 - Azure AD - Sign-in activity - 20.37.255.76",
        "2022-04-03 23:32:35.953000+00:00 - Azure AD - Sign-in activity - 20.70.208.63",
        "2022-04-03 23:33:28.758000+00:00 - Azure AD - Sign-in activity - 20.37.255.76",
        "2022-04-03 23:33:32.508000+00:00 - Azure AD - Sign-in activity - 20.37.255.76",
        "2022-04-03 23:33:45+00:00 - OfficeActivityManager - MailItemsAccessed - 20.190.142.170",
        "2022-04-03 23:33:45+00:00 - OfficeActivityManager - MailItemsAccessed - 20.190.142.169",
        "2022-04-03 23:38:34.981000+00:00 - Azure AD - Sign-in activity - 20.37.212.69",
        "2022-04-03 23:38:35+00:00 - OfficeActivityManager - MailItemsAccessed - 20.190.142.172",
        "2022-04-03 23:38:35.103000+00:00 - Azure AD - Sign-in activity - 20.53.9.84",
        "2022-04-03 23:41:35.577000+00:00 - Azure AD - Sign-in activity - 20.37.253.233",
        "2022-04-03 23:41:40.405000+00:00 - Azure AD - Sign-in activity - 20.37.253.233",
        "2022-04-03 23:43:24.976000+00:00 - Azure AD - Sign-in activity - 20.37.253.233",
        "2022-04-03 23:44:15.850000+00:00 - Azure AD - Sign-in activity - 20.37.255.76",
        "2022-04-03 23:44:21.200000+00:00 - Azure AD - Sign-in activity - 20.37.255.76",
        "2022-04-03 23:44:35+00:00 - OfficeActivityManager - MailItemsAccessed - 20.190.142.172",
        "2022-04-03 23:50:44.263000+00:00 - Azure AD - Sign-in activity - 20.37.253.233",
        "2022-04-03 23:50:49.182000+00:00 - Azure AD - Sign-in activity - 20.37.253.233",
        "2022-04-03 23:51:25.963000+00:00 - Azure AD - Sign-in activity - 20.53.9.84",
        "2022-04-03 23:51:27+00:00 - OfficeActivityManager - MailItemsAccessed - 20.190.142.169",
        "2022-04-03 23:51:46.855000+00:00 - Azure AD - Sign-in activity - 20.37.213.236",
        "2022-04-03 23:51:50.680000+00:00 - Azure AD - Sign-in activity - 20.37.213.236",
        "2022-04-03 23:52:35.388000+00:00 - Azure AD - Sign-in activity - 20.37.253.233",
        "2022-04-03 23:54:45.943000+00:00 - Azure AD - Sign-in activity - 20.37.255.76",
        "2022-04-03 23:54:49.570000+00:00 - Azure AD - Sign-in activity - 20.37.255.76",
        "2022-04-03 23:56:30.170000+00:00 - Azure AD - Sign-in activity - 20.37.213.236",
        "2022-04-03 23:56:32.789000+00:00 - Azure AD - Sign-in activity - 20.37.213.236",
        "2022-04-03 23:57:30.351000+00:00 - Azure AD - Sign-in activity - 20.53.9.84",
        "2022-04-03 23:57:33.873000+00:00 - Azure AD - Sign-in activity - 20.53.9.84",
        "2022-04-04 00:02:19.732000+00:00 - Azure AD - Sign-in activity - 20.37.255.76",
        "2022-04-04 00:02:20.992000+00:00 - Azure AD - Sign-in activity - 20.37.255.76",
        "2022-04-04 00:02:22+00:00 - OfficeActivityManager - MailItemsAccessed - 20.190.142.172",
        "2022-04-04 00:02:22.088000+00:00 - Azure AD - Sign-in activity - 20.37.255.76",
        "2022-04-04 00:07:19.710000+00:00 - Azure AD - Sign-in activity - 20.37.253.233",
        "2022-04-04 00:09:46.903000+00:00 - Azure AD - Sign-in activity - 20.37.213.236",
        "2022-04-04 00:09:50+00:00 - OfficeActivityManager - Send - 20.190.142.172",
        "2022-04-04 00:10:35.827000+00:00 - Azure AD - Sign-in activity - 20.37.213.236",
        "2022-04-04 00:10:37+00:00 - OfficeActivityManager - MailItemsAccessed - 20.190.142.172",
        "2022-04-04 00:15:23.766000+00:00 - Azure AD - Sign-in activity - 20.70.208.63",
        "2022-04-04 00:15:27.887000+00:00 - Azure AD - Sign-in activity - 20.70.208.63",
        "2022-04-04 00:15:39.758000+00:00 - Azure AD - Sign-in activity - 20.37.255.76",
        "2022-04-04 00:15:42+00:00 - OfficeActivityManager - Send - 20.190.142.169",
        "2022-04-04 00:29:50.015000+00:00 - Azure AD - Sign-in activity - 20.37.253.233",
        "2022-04-04 00:29:53+00:00 - OfficeActivityManager - Send - 20.190.142.170",
        "2022-04-04 00:32:52.168000+00:00 - Azure AD - Sign-in activity - 20.70.208.63",
        "2022-04-04 00:32:56.528000+00:00 - Azure AD - Sign-in activity - 20.70.208.63",
        "2022-04-04 01:13:50.933000+00:00 - Azure AD - Sign-in activity - 20.37.255.76",
        "2022-04-04 01:24:03.686000+00:00 - Azure AD - Sign-in activity - 20.37.212.69",
        "2022-04-04 01:36:37.372000+00:00 - Azure AD - Sign-in activity - 20.37.213.236",
        "2022-04-04 01:36:40+00:00 - OfficeActivityManager - Send - 20.190.142.169",
        "2022-04-04 01:46:02.423000+00:00 - Azure AD - Sign-in activity - 20.37.253.233",
        "2022-04-04 01:46:05+00:00 - OfficeActivityManager - Send - 20.190.142.172",
        "2022-04-04 01:49:52.674000+00:00 - Azure AD - Sign-in activity - 20.37.213.236",
        "2022-04-04 01:49:54+00:00 - OfficeActivityManager - MailItemsAccessed - 20.190.142.172",
        "2022-04-04 02:15:39.844000+00:00 - Azure AD - Sign-in activity - 20.37.213.236",
        "2022-04-04 02:15:43+00:00 - OfficeActivityManager - Send - 20.190.142.172",
        "2022-04-04 02:16:05.605000+00:00 - Azure AD - Sign-in activity - 20.37.253.233",
        "2022-04-04 02:49:54+00:00 - OfficeActivityManager - MailItemsAccessed - 20.190.142.172",
        "2022-04-04 02:52:06.255000+00:00 - Azure AD - Sign-in activity - 20.37.212.69",
        "2022-04-04 02:53:56.237000+00:00 - Azure AD - Sign-in activity - 20.37.255.76",
        "2022-04-04 03:04:47.124000+00:00 - Azure AD - Sign-in activity - 20.70.208.63",
        "2022-04-04 03:04:48+00:00 - OfficeActivityManager - MailItemsAccessed - 20.190.142.169",
        "2022-04-04 03:17:16.200000+00:00 - Azure AD - Sign-in activity - 20.37.213.236",
        "2022-04-04 03:17:17+00:00 - OfficeActivityManager - MailItemsAccessed - 20.190.142.170",
        "2022-04-04 03:24:19.449000+00:00 - Azure AD - Sign-in activity - 20.37.212.69",
        "2022-04-04 03:24:22+00:00 - OfficeActivityManager - Send - 20.190.142.170",
        "2022-04-04 03:31:10.152000+00:00 - Azure AD - Sign-in activity - 20.53.9.84",
        "2022-04-04 03:31:13+00:00 - OfficeActivityManager - Send - 20.190.142.172",
        "2022-04-04 03:34:15.351000+00:00 - Azure AD - Sign-in activity - 20.37.212.69",
        "2022-04-04 03:34:18+00:00 - OfficeActivityManager - Send - 20.190.142.170",
        "2022-04-04 03:38:17.705000+00:00 - Azure AD - Sign-in activity - 20.37.213.236",
        "2022-04-04 03:41:10.989000+00:00 - Azure AD - Sign-in activity - 20.37.212.69",
        "2022-04-04 03:44:18.549000+00:00 - Azure AD - Sign-in activity - 20.37.213.236",
        "2022-04-04 03:49:54+00:00 - OfficeActivityManager - MailItemsAccessed - 20.190.142.172",
        "2022-04-04 04:04:49+00:00 - OfficeActivityManager - MailItemsAccessed - 20.190.142.169",
        "2022-04-04 04:17:19+00:00 - OfficeActivityManager - MailItemsAccessed - 20.190.142.170",
        "2022-04-04 04:32:21.547000+00:00 - Azure AD - Sign-in activity - 20.37.213.236",
        "2022-04-04 04:32:25.335000+00:00 - Azure AD - Sign-in activity - 20.37.213.236",
        "2022-04-04 04:32:34+00:00 - OfficeActivityManager - MailItemsAccessed - 20.190.142.169",
        "2022-04-04 04:32:34+00:00 - OfficeActivityManager - MailItemsAccessed - 20.190.142.170",
        "2022-04-04 04:32:34+00:00 - OfficeActivityManager - MailItemsAccessed - 20.190.142.172",
        "2022-04-04 04:35:08.165000+00:00 - Azure AD - Sign-in activity - 20.53.9.84",
        "2022-04-04 04:46:20.960000+00:00 - Azure AD - Sign-in activity - 20.37.213.236",
        "2022-04-04 05:24:18.718000+00:00 - Azure AD - Sign-in activity - 20.53.9.84",
        "2022-04-04 05:24:23+00:00 - OfficeActivityManager - Send - 20.190.142.170",
        "2022-04-04 05:27:20.966000+00:00 - Azure AD - Sign-in activity - 20.37.255.76",
        "2022-04-04 05:29:14.756000+00:00 - Azure AD - Sign-in activity - 20.37.212.69",
        "2022-04-04 05:29:17+00:00 - OfficeActivityManager - Send - 20.190.142.172",
        "2022-04-04 05:32:20.574000+00:00 - Azure AD - Sign-in activity - 20.37.253.233",
        "2022-04-04 05:40:21.756000+00:00 - Azure AD - Sign-in activity - 20.37.213.236",
        "2022-04-04 05:40:25+00:00 - OfficeActivityManager - Send - 20.190.142.170",
        "2022-04-04 05:48:28.797000+00:00 - Azure AD - Sign-in activity - 20.70.208.63",
        "2022-04-04 05:48:30+00:00 - OfficeActivityManager - MailItemsAccessed - 20.190.142.172",
        "2022-04-04 06:25:40.160000+00:00 - Azure AD - Sign-in activity - 20.70.208.63",
        "2022-04-04 06:25:43+00:00 - OfficeActivityManager - Send - 20.190.142.170",
        "2022-04-04 06:40:28.176000+00:00 - Azure AD - Sign-in activity - 20.37.213.236",
        "2022-04-04 06:48:31+00:00 - OfficeActivityManager - MailItemsAccessed - 20.190.142.172",
        "2022-04-04 06:57:30.396000+00:00 - Azure AD - Sign-in activity - 20.37.255.76",
        "2022-04-04 07:03:23.469000+00:00 - Azure AD - Sign-in activity - 20.37.253.233",
        "2022-04-04 07:05:22.167000+00:00 - Azure AD - Sign-in activity - 20.37.253.233",
        "2022-04-04 07:05:25+00:00 - OfficeActivityManager - Send - 20.190.142.169",
        "2022-04-04 07:23:33.855000+00:00 - Azure AD - Sign-in activity - 20.37.253.233",
        "2022-04-04 07:23:36+00:00 - OfficeActivityManager - Send - 20.190.142.169",
        "2022-04-04 07:34:43.187000+00:00 - Azure AD - Sign-in activity - 20.37.213.236",
        "2022-04-04 07:38:50.571000+00:00 - Azure AD - Sign-in activity - 20.37.213.236",
        "2022-04-04 07:38:53+00:00 - OfficeActivityManager - Send - 20.190.142.172",
        "2022-04-04 07:48:31+00:00 - OfficeActivityManager - MailItemsAccessed - 20.190.142.172",
        "2022-04-04 07:53:25.076000+00:00 - Azure AD - Sign-in activity - 20.37.212.69",
        "2022-04-04 08:11:25.394000+00:00 - Azure AD - Sign-in activity - 20.37.212.69",
        "2022-04-04 08:17:26.160000+00:00 - Azure AD - Sign-in activity - 20.37.212.69",
        "2022-04-04 08:38:35.518000+00:00 - Azure AD - Sign-in activity - 20.37.212.69",
        "2022-04-04 08:39:39.692000+00:00 - Azure AD - Sign-in activity - 20.53.9.84",
        "2022-04-04 08:39:43+00:00 - OfficeActivityManager - Send - 20.190.142.172",
        "2022-04-04 08:48:32+00:00 - OfficeActivityManager - MailItemsAccessed - 20.190.142.172",
        "2022-04-04 08:48:43.434000+00:00 - Azure AD - Sign-in activity - 20.53.9.84",
        "2022-04-04 08:48:48.858000+00:00 - Azure AD - Sign-in activity - 20.53.9.84",
        "2022-04-04 09:17:49.407000+00:00 - Azure AD - Sign-in activity - 20.70.208.63",
        "2022-04-04 09:17:52+00:00 - OfficeActivityManager - Send - 20.190.142.170",
        "2022-04-04 09:37:44.500000+00:00 - Azure AD - Sign-in activity - 20.37.253.233",
        "2022-04-04 09:56:32.011000+00:00 - Azure AD - Sign-in activity - 20.37.212.69",
        "2022-04-04 10:15:44.157000+00:00 - Azure AD - Sign-in activity - 20.53.9.84",
        "2022-04-04 10:20:34.517000+00:00 - Azure AD - Sign-in activity - 20.37.212.69",
        "2022-04-04 10:47:44.983000+00:00 - Azure AD - Sign-in activity - 20.37.213.236",
        "2022-04-04 10:47:48+00:00 - OfficeActivityManager - Send - 20.190.142.169",
        "2022-04-04 11:02:57.717000+00:00 - Azure AD - Sign-in activity - 20.37.253.233",
        "2022-04-04 11:03:04+00:00 - OfficeActivityManager - Send - 20.190.142.169",
        "2022-04-04 11:05:40.149000+00:00 - Azure AD - Sign-in activity - 20.37.255.76",
        "2022-04-04 11:05:46.002000+00:00 - Azure AD - Sign-in activity - 20.37.255.76",
        "2022-04-04 11:14:54.758000+00:00 - Azure AD - Sign-in activity - 20.37.253.233",
        "2022-04-04 11:44:00.937000+00:00 - Azure AD - Sign-in activity - 20.37.255.76",
        "2022-04-04 11:44:07+00:00 - OfficeActivityManager - Send - 20.190.142.169",
        "2022-04-04 12:06:49.166000+00:00 - Azure AD - Sign-in activity - 20.37.213.236",
        "2022-04-04 12:10:40.944000+00:00 - Azure AD - Sign-in activity - 20.37.212.69",
        "2022-04-04 12:12:44.932000+00:00 - Azure AD - Sign-in activity - 20.53.9.84",
        "2022-04-04 14:08:03.320000+00:00 - Azure AD - Sign-in activity - 20.53.9.84",
        "2022-04-04 14:17:02.501000+00:00 - Azure AD - Sign-in activity - 20.70.208.63",
        "2022-04-04 14:17:04+00:00 - OfficeActivityManager - Send - 20.190.142.170",
        "2022-04-04 14:25:14.333000+00:00 - Azure AD - Sign-in activity - 20.37.255.76",
        "2022-04-04 14:36:34.066000+00:00 - Azure AD - Sign-in activity - 20.37.255.76",
        "2022-04-04 14:36:40+00:00 - OfficeActivityManager - Send - 20.190.142.170",
        "2022-04-04 15:02:10.229000+00:00 - Azure AD - Sign-in activity - 20.70.208.63",
        "2022-04-04 15:04:01.581000+00:00 - Azure AD - Sign-in activity - 20.37.213.236",
        "2022-04-04 15:04:05+00:00 - OfficeActivityManager - Send - 20.190.142.169",
        "2022-04-04 15:21:28.063000+00:00 - Azure AD - Sign-in activity - 20.37.255.76",
        "2022-04-04 15:21:33+00:00 - OfficeActivityManager - Send - 20.190.142.172",
        "2022-04-04 15:42:00.533000+00:00 - Azure AD - Sign-in activity - 20.37.212.69",
        "2022-04-04 15:52:24.007000+00:00 - Azure AD - Sign-in activity - 20.37.255.76",
        "2022-04-04 15:52:26+00:00 - OfficeActivityManager - MailItemsAccessed - 20.190.142.172",
        "2022-04-04 16:07:22.332000+00:00 - Azure AD - Sign-in activity - 20.70.208.63",
        "2022-04-04 16:11:04.312000+00:00 - Azure AD - Sign-in activity - 20.53.9.84",
        "2022-04-04 16:11:13+00:00 - OfficeActivityManager - Send - 20.190.142.169",
        "2022-04-04 16:25:08.670000+00:00 - Azure AD - Sign-in activity - 20.37.212.69",
        "2022-04-04 16:26:27.774000+00:00 - Azure AD - Sign-in activity - 20.37.253.233",
        "2022-04-04 16:38:42.210000+00:00 - Azure AD - Sign-in activity - 20.37.253.233",
        "2022-04-04 16:41:12.515000+00:00 - Azure AD - Sign-in activity - 20.53.9.84",
        "2022-04-04 16:41:22+00:00 - OfficeActivityManager - Send - 20.190.142.169",
        "2022-04-04 16:42:11.329000+00:00 - Azure AD - Sign-in activity - 20.37.213.236",
        "2022-04-04 16:42:14+00:00 - OfficeActivityManager - Send - 20.190.142.170",
        "2022-04-04 16:52:27+00:00 - OfficeActivityManager - MailItemsAccessed - 20.190.142.172",
        "2022-04-04 17:10:35.917000+00:00 - Azure AD - Sign-in activity - 20.37.253.233",
        "2022-04-04 17:19:24.487000+00:00 - Azure AD - Sign-in activity - 20.37.255.76",
        "2022-04-04 17:36:37.243000+00:00 - Azure AD - Sign-in activity - 20.37.253.233",
        "2022-04-04 17:36:46+00:00 - OfficeActivityManager - Send - 20.190.142.169",
        "2022-04-04 17:38:34.334000+00:00 - Azure AD - Sign-in activity - 20.70.208.63",
        "2022-04-04 17:38:38+00:00 - OfficeActivityManager - Send - 20.190.142.169",
        "2022-04-04 17:52:27+00:00 - OfficeActivityManager - MailItemsAccessed - 20.190.142.172",
        "2022-04-04 18:07:49.383000+00:00 - Azure AD - Sign-in activity - 20.37.213.236",
        "2022-04-04 18:07:52+00:00 - OfficeActivityManager - Send - 20.190.142.170",
        "2022-04-04 18:14:34.766000+00:00 - Azure AD - Sign-in activity - 20.37.255.76",
        "2022-04-04 18:16:24.497000+00:00 - Azure AD - Sign-in activity - 20.37.255.76",
        "2022-04-04 18:21:23.323000+00:00 - Azure AD - Sign-in activity - 20.53.9.84",
        "2022-04-04 18:29:26.149000+00:00 - Azure AD - Sign-in activity - 20.37.212.69",
        "2022-04-04 18:47:26.719000+00:00 - Azure AD - Sign-in activity - 20.37.213.236",
        "2022-04-04 18:47:30+00:00 - OfficeActivityManager - Send - 20.190.142.172",
        "2022-04-04 18:52:27+00:00 - OfficeActivityManager - MailItemsAccessed - 20.190.142.172",
        "2022-04-04 19:33:29.870000+00:00 - Azure AD - Sign-in activity - 20.37.212.69",
        "2022-04-04 19:33:33+00:00 - OfficeActivityManager - Send - 20.190.142.170",
        "2022-04-04 19:40:40.264000+00:00 - Azure AD - Sign-in activity - 20.37.253.233",
        "2022-04-04 19:40:48+00:00 - OfficeActivityManager - Send - 20.190.142.169",
        "2022-04-04 19:52:27+00:00 - OfficeActivityManager - MailItemsAccessed - 20.190.142.172",
        "2022-04-04 19:55:33.620000+00:00 - Azure AD - Sign-in activity - 20.53.9.84",
        "2022-04-04 19:55:41.469000+00:00 - Azure AD - Sign-in activity - 20.53.9.84",
        "2022-04-04 20:04:14.304000+00:00 - Azure AD - Sign-in activity - 20.37.253.233",
        "2022-04-04 20:50:30+00:00 - OfficeActivityManager - Create - 2603:10b6:408:130:cafe::4a",
        "2022-04-04 20:50:30+00:00 - OfficeActivityManager - MailItemsAccessed - 20.190.142.172",
        "2022-04-04 20:50:49.974000+00:00 - Azure AD - Sign-in activity - 20.53.9.84",
        "2022-04-04 20:50:58.841000+00:00 - Azure AD - Sign-in activity - 20.53.9.84",
        "2022-04-04 21:06:33.503000+00:00 - Azure AD - Sign-in activity - 20.37.212.69",
        "2022-04-04 21:06:48.796000+00:00 - Azure AD - Sign-in activity - 20.70.208.63",
        "2022-04-04 21:06:52+00:00 - OfficeActivityManager - Send - 20.190.142.170",
        "2022-04-04 21:09:20.738000+00:00 - Azure AD - Sign-in activity - 20.37.253.233",
        "2022-04-04 21:11:55.631000+00:00 - Azure AD - Sign-in activity - 20.37.253.233",
        "2022-04-04 21:14:51.925000+00:00 - Azure AD - Sign-in activity - 20.37.255.76",
        "2022-04-04 21:14:57+00:00 - OfficeActivityManager - Send - 20.190.142.170",
        "2022-04-04 21:19:14.521000+00:00 - Azure AD - Sign-in activity - 20.53.9.84",
        "2022-04-04 21:19:22.934000+00:00 - Azure AD - Sign-in activity - 20.53.9.84",
        "2022-04-04 21:29:38.089000+00:00 - Azure AD - Sign-in activity - 20.37.255.76",
        "2022-04-04 21:34:52.954000+00:00 - Azure AD - Sign-in activity - 20.37.253.233",
        "2022-04-04 21:35:01.579000+00:00 - Azure AD - Sign-in activity - 20.37.253.233",
        "2022-04-04 21:50:30+00:00 - OfficeActivityManager - MailItemsAccessed - 20.190.142.172",
        "2022-04-04 21:52:28+00:00 - OfficeActivityManager - MailItemsAccessed - 20.190.142.172",
        "2022-04-04 21:58:45.088000+00:00 - Azure AD - Sign-in activity - 20.70.208.63",
        "2022-04-04 21:58:48+00:00 - OfficeActivityManager - Send - 20.190.142.172",
        "2022-04-04 22:08:22.126000+00:00 - Azure AD - Sign-in activity - 20.53.9.84",
        "2022-04-04 22:16:04.409000+00:00 - Azure AD - Sign-in activity - 20.53.9.84",
        "2022-04-04 22:16:12.134000+00:00 - Azure AD - Sign-in activity - 20.53.9.84",
        "2022-04-04 22:22:51.429000+00:00 - Azure AD - Sign-in activity - 20.53.9.84",
        "2022-04-04 22:32:41.306000+00:00 - Azure AD - Sign-in activity - 20.37.213.236",
        "2022-04-04 22:32:43+00:00 - OfficeActivityManager - MailItemsAccessed - 20.190.142.170",
        "2022-04-04 22:44:54.504000+00:00 - Azure AD - Sign-in activity - 20.37.255.76",
        "2022-04-04 22:50:31+00:00 - OfficeActivityManager - MailItemsAccessed - 20.190.142.172",
        "2022-04-04 22:52:28+00:00 - OfficeActivityManager - MailItemsAccessed - 20.190.142.172",
        "2022-04-04 22:56:10.100000+00:00 - Azure AD - Sign-in activity - 20.53.9.84",
        "2022-04-04 23:00:44.735000+00:00 - Azure AD - Sign-in activity - 20.37.213.236",
        "2022-04-04 23:00:49+00:00 - OfficeActivityManager - Send - 20.190.142.169",
        "2022-04-04 23:19:11.931000+00:00 - Azure AD - Sign-in activity - 20.70.208.63",
        "2022-04-04 23:19:18.121000+00:00 - Azure AD - Sign-in activity - 20.70.208.63",
        "2022-04-04 23:21:06.534000+00:00 - Azure AD - Sign-in activity - 20.37.253.233",
        "2022-04-04 23:21:36.696000+00:00 - Azure AD - Sign-in activity - 20.70.208.63",
        "2022-04-04 23:21:38+00:00 - OfficeActivityManager - MailItemsAccessed - 20.190.142.169",
        "2022-04-04 23:24:21.879000+00:00 - Azure AD - Sign-in activity - 20.53.9.84",
        "2022-04-04 23:28:33.399000+00:00 - Azure AD - Sign-in activity - 20.53.9.84",
        "2022-04-04 23:32:32.181000+00:00 - Azure AD - Sign-in activity - 20.37.255.76",
        "2022-04-04 23:32:40.262000+00:00 - Azure AD - Sign-in activity - 20.37.255.76",
        "2022-04-04 23:32:44+00:00 - OfficeActivityManager - MailItemsAccessed - 20.190.142.170",
        "2022-04-04 23:35:32.792000+00:00 - Azure AD - Sign-in activity - 20.53.9.84",
        "2022-04-04 23:36:35.623000+00:00 - Azure AD - Sign-in activity - 20.70.208.63",
        "2022-04-04 23:36:40.409000+00:00 - Azure AD - Sign-in activity - 20.70.208.63",
        "2022-04-04 23:36:45.131000+00:00 - Azure AD - Sign-in activity - 20.37.213.236",
        "2022-04-04 23:36:51.037000+00:00 - Azure AD - Sign-in activity - 20.37.213.236",
        "2022-04-04 23:38:54.216000+00:00 - Azure AD - Sign-in activity - 20.53.9.84",
        "2022-04-04 23:41:54.711000+00:00 - Azure AD - Sign-in activity - 20.37.253.233",
        "2022-04-04 23:42:22.088000+00:00 - Azure AD - Sign-in activity - 20.37.253.233",
        "2022-04-04 23:42:59.343000+00:00 - Azure AD - Sign-in activity - 20.37.255.76",
        "2022-04-04 23:43:08.108000+00:00 - Azure AD - Sign-in activity - 20.37.255.76",
        "2022-04-04 23:49:28.018000+00:00 - Azure AD - Sign-in activity - 20.37.213.236",
        "2022-04-04 23:50:31+00:00 - OfficeActivityManager - MailItemsAccessed - 20.190.142.172",
        "2022-04-04 23:52:28+00:00 - OfficeActivityManager - MailItemsAccessed - 20.190.142.172",
        "2022-04-04 23:53:16.894000+00:00 - Azure AD - Sign-in activity - 20.37.212.69",
        "2022-04-04 23:53:18.325000+00:00 - Azure AD - Sign-in activity - 20.37.213.236",
        "2022-04-04 23:53:21+00:00 - OfficeActivityManager - Send - 20.190.142.172",
        "2022-04-04 23:53:24.104000+00:00 - Azure AD - Sign-in activity - 20.37.213.236",
        "2022-04-04 23:55:17.361000+00:00 - Azure AD - Sign-in activity - 20.37.253.233",
        "2022-04-04 23:55:49.700000+00:00 - Azure AD - Sign-in activity - 20.37.253.233",
        "2022-04-05 00:06:10.781000+00:00 - Azure AD - Sign-in activity - 20.53.9.84",
        "2022-04-05 00:06:46.661000+00:00 - Azure AD - Sign-in activity - 20.37.255.76",
        "2022-04-05 00:06:54.144000+00:00 - Azure AD - Sign-in activity - 20.37.255.76",
        "2022-04-05 00:07:15.637000+00:00 - Azure AD - Sign-in activity - 20.37.253.233",
        "2022-04-05 00:07:47.169000+00:00 - Azure AD - Sign-in activity - 20.37.212.69",
        "2022-04-05 00:07:49.665000+00:00 - Azure AD - Sign-in activity - 20.37.212.69",
        "2022-04-05 00:11:25.234000+00:00 - Azure AD - Sign-in activity - 20.70.208.63",
        "2022-04-05 00:11:29.285000+00:00 - Azure AD - Sign-in activity - 20.70.208.63",
        "2022-04-05 00:13:42.761000+00:00 - Azure AD - Sign-in activity - 20.37.255.76",
        "2022-04-05 00:13:55.987000+00:00 - Azure AD - Sign-in activity - 20.37.255.76",
        "2022-04-05 00:14:50+00:00 - OfficeActivityManager - MailItemsAccessed - 20.190.142.172",
        "2022-04-05 00:14:50+00:00 - OfficeActivityManager - MailItemsAccessed - 20.190.142.170",
        "2022-04-05 00:14:50+00:00 - OfficeActivityManager - MailItemsAccessed - 20.190.142.169",
        "2022-04-05 00:15:28.536000+00:00 - Azure AD - Sign-in activity - 20.70.208.63",
        "2022-04-05 00:15:33.708000+00:00 - Azure AD - Sign-in activity - 20.70.208.63",
        "2022-04-05 00:18:27.541000+00:00 - Azure AD - Sign-in activity - 20.70.208.63",
        "2022-04-05 00:25:09.822000+00:00 - Azure AD - Sign-in activity - 20.37.212.69",
        "2022-04-05 00:26:03.734000+00:00 - Azure AD - Sign-in activity - 20.70.208.63",
        "2022-04-05 00:26:07+00:00 - OfficeActivityManager - Send - 20.190.142.169",
        "2022-04-05 00:27:31.676000+00:00 - Azure AD - Sign-in activity - 20.70.208.63",
        "2022-04-05 00:32:44+00:00 - OfficeActivityManager - MailItemsAccessed - 20.190.142.170",
        "2022-04-05 00:37:10.066000+00:00 - Azure AD - Sign-in activity - 20.37.213.236",
        "2022-04-05 00:43:53.515000+00:00 - Azure AD - Sign-in activity - 20.53.9.84",
        "2022-04-05 00:45:34.377000+00:00 - Azure AD - Sign-in activity - 20.37.255.76",
        "2022-04-05 00:45:44+00:00 - OfficeActivityManager - Send - 20.190.142.172",
        "2022-04-05 00:52:43.901000+00:00 - Azure AD - Sign-in activity - 20.37.212.69",
        "2022-04-05 00:52:48.668000+00:00 - Azure AD - Sign-in activity - 20.37.212.69",
        "2022-04-05 00:53:41+00:00 - OfficeActivityManager - MailItemsAccessed - 20.190.142.170",
        "2022-04-05 01:04:44.953000+00:00 - Azure AD - Sign-in activity - 20.37.213.236",
        "2022-04-05 01:04:46+00:00 - OfficeActivityManager - MailItemsAccessed - 20.190.142.169",
        "2022-04-05 01:10:44.678000+00:00 - Azure AD - Sign-in activity - 20.37.212.69",
        "2022-04-05 01:10:47+00:00 - OfficeActivityManager - Send - 20.190.142.172",
        "2022-04-05 01:36:35.963000+00:00 - Azure AD - Sign-in activity - 20.37.253.233",
        "2022-04-05 01:36:41+00:00 - OfficeActivityManager - MailItemsAccessed - 20.190.142.170",
        "2022-04-05 01:45:34.512000+00:00 - Azure AD - Sign-in activity - 20.53.9.84",
        "2022-04-05 01:46:30.332000+00:00 - Azure AD - Sign-in activity - 20.37.255.76",
        "2022-04-05 01:48:55.857000+00:00 - Azure AD - Sign-in activity - 20.37.212.69",
        "2022-04-05 01:48:59+00:00 - OfficeActivityManager - Send - 20.190.142.172",
        "2022-04-05 02:04:47+00:00 - OfficeActivityManager - MailItemsAccessed - 20.190.142.169",
        "2022-04-05 02:23:00.166000+00:00 - Azure AD - Sign-in activity - 20.37.212.69",
        "2022-04-05 02:36:42+00:00 - OfficeActivityManager - MailItemsAccessed - 20.190.142.170"
       ],
       "description": "Select an item",
       "index": 27,
       "layout": "IPY_MODEL_3c4c84ecc3b546fd84287420469a2ab2",
       "style": "IPY_MODEL_ed5ea1ead65e4d4d887d3bda589804de"
      }
     },
     "51876de3eede4514a16107175cb249cb": {
      "model_module": "@jupyter-widgets/controls",
      "model_module_version": "1.5.0",
      "model_name": "DescriptionStyleModel",
      "state": {
       "description_width": "initial"
      }
     },
     "5745a63b36434da49e1b5985acc0bd3f": {
      "model_module": "@jupyter-widgets/controls",
      "model_module_version": "1.5.0",
      "model_name": "DescriptionStyleModel",
      "state": {
       "description_width": ""
      }
     },
     "57bf7370a095455db8c6ab8a46d5f6b8": {
      "model_module": "@jupyter-widgets/base",
      "model_module_version": "1.2.0",
      "model_name": "LayoutModel",
      "state": {
       "width": "70%"
      }
     },
     "5b836f6df54c4e06bb03339619f4f900": {
      "model_module": "@jupyter-widgets/controls",
      "model_module_version": "1.5.0",
      "model_name": "VBoxModel",
      "state": {
       "children": [
        "IPY_MODEL_91d90a9a7bba455baf47b2943c6f5e44",
        "IPY_MODEL_6fa89ef0db454bafa27773fe1dfb738a",
        "IPY_MODEL_e88d439c233246c4919737c529cd0d3d"
       ],
       "layout": "IPY_MODEL_61b2d1b45c23477095227611ccc9999c"
      }
     },
     "5bd6df6bfa7b48058fd74288e959d53c": {
      "model_module": "@jupyter-widgets/controls",
      "model_module_version": "1.5.0",
      "model_name": "SliderStyleModel",
      "state": {
       "description_width": "initial"
      }
     },
     "5c6a6c44351144be89d6c9d3cd2e6454": {
      "model_module": "@jupyter-widgets/controls",
      "model_module_version": "1.5.0",
      "model_name": "VBoxModel",
      "state": {
       "children": [
        "IPY_MODEL_22209d4eaaa541e781f4e998e577a8c1",
        "IPY_MODEL_69ac956f0aa74f1e927b1f22e6397cfa",
        "IPY_MODEL_640200742d584a29b322d58133b9d687"
       ],
       "layout": "IPY_MODEL_852d631e50864053828d6617a59311ee"
      }
     },
     "5d20a4123e484255818376ddc3db9b40": {
      "model_module": "@jupyter-widgets/controls",
      "model_module_version": "1.5.0",
      "model_name": "IntRangeSliderModel",
      "state": {
       "_model_name": "IntRangeSliderModel",
       "_view_name": "IntRangeSliderView",
       "description": "Time Range",
       "layout": "IPY_MODEL_c92827b4af6249c380008f6ab22f0195",
       "max": 28,
       "min": -28,
       "style": "IPY_MODEL_463132c93eb84152a393f357c790154d",
       "value": [
        -2,
        0
       ]
      }
     },
     "5e1172b862864ea3aaef43357606db37": {
      "model_module": "@jupyter-widgets/base",
      "model_module_version": "1.2.0",
      "model_name": "LayoutModel",
      "state": {}
     },
     "5ea13a16be8644ad92640b97ed6b7e2a": {
      "model_module": "@jupyter-widgets/controls",
      "model_module_version": "1.5.0",
      "model_name": "HTMLModel",
      "state": {
       "layout": "IPY_MODEL_7f08e8a8fbc849a0ba99ca826f0827de",
       "style": "IPY_MODEL_bdc855aa5d434e38a878ade40f764fe5",
       "value": "<h4>Set time range for pivot functions.</h4>"
      }
     },
     "5feb4aff84d14ffda3b14e0dd50f50ac": {
      "model_module": "@jupyter-widgets/controls",
      "model_module_version": "1.5.0",
      "model_name": "VBoxModel",
      "state": {
       "children": [
        "IPY_MODEL_ab355ef97f5843ad89c006fd6ae3c2ea",
        "IPY_MODEL_4546255dbb324c2c8fc1e9b7f24be26a",
        "IPY_MODEL_48ccee7d58314dea942ffe0a7c9bd456"
       ],
       "layout": "IPY_MODEL_0548b0503d3340a58ea08e1f1f705865"
      }
     },
     "609239bc9d2e4561a9edf11472142ea0": {
      "model_module": "@jupyter-widgets/controls",
      "model_module_version": "1.5.0",
      "model_name": "DescriptionStyleModel",
      "state": {
       "description_width": "initial"
      }
     },
     "61b2d1b45c23477095227611ccc9999c": {
      "model_module": "@jupyter-widgets/base",
      "model_module_version": "1.2.0",
      "model_name": "LayoutModel",
      "state": {}
     },
     "63e7f739408a438b89472c46a05397b4": {
      "model_module": "@jupyter-widgets/base",
      "model_module_version": "1.2.0",
      "model_name": "LayoutModel",
      "state": {}
     },
     "640200742d584a29b322d58133b9d687": {
      "model_module": "@jupyter-widgets/controls",
      "model_module_version": "1.5.0",
      "model_name": "CheckboxModel",
      "state": {
       "description": "Display details",
       "disabled": false,
       "layout": "IPY_MODEL_bc80cb94fd0b4b57bf8ef20de227e93c",
       "style": "IPY_MODEL_b79a3c442e094040860b33127c696914",
       "value": true
      }
     },
     "68975f878548486ca11a74c8227f47d3": {
      "model_module": "@jupyter-widgets/controls",
      "model_module_version": "1.5.0",
      "model_name": "SliderStyleModel",
      "state": {
       "description_width": "initial"
      }
     },
     "69ac956f0aa74f1e927b1f22e6397cfa": {
      "model_module": "@jupyter-widgets/controls",
      "model_module_version": "1.5.0",
      "model_name": "SelectModel",
      "state": {
       "_options_labels": [
        "kelsea@seccxp.ninja   AzureActiveDirectory (Last activity: 2022-04-05 02:23:00.166000+00:00)",
        "kelsea@seccxp.ninja   Office365 (Last activity: 2022-04-05 02:36:42+00:00)"
       ],
       "description": "Select an account to explore",
       "index": 0,
       "layout": "IPY_MODEL_35d3189e5ed34fccaa98ae5778006ed4",
       "style": "IPY_MODEL_dd0cf090d4524c2ba5760e72a1a7a214"
      }
     },
     "6a6c6b6657724d159703155f7a7b9043": {
      "model_module": "@jupyter-widgets/controls",
      "model_module_version": "1.5.0",
      "model_name": "TextModel",
      "state": {
       "description": "Filter:",
       "layout": "IPY_MODEL_71f1d2287ec04c5baa3b7dc679e5f400",
       "style": "IPY_MODEL_0f93833c73a64c0cb0f4f03db3bb37cc",
       "value": "2022-04-03 03:06:17.286000+00:00 - Azure AD - Sign-in activity - 20.37.253.233"
      }
     },
     "6ca349824c8849b9b60a5373af1fc257": {
      "model_module": "@jupyter-widgets/base",
      "model_module_version": "1.2.0",
      "model_name": "LayoutModel",
      "state": {
       "width": "99%"
      }
     },
     "6de457e02b534472a42cd5e2fc58cdf0": {
      "model_module": "@jupyter-widgets/controls",
      "model_module_version": "1.5.0",
      "model_name": "DescriptionStyleModel",
      "state": {
       "description_width": ""
      }
     },
     "6f25177ffb77451c847ed17a9322c70c": {
      "model_module": "@jupyter-widgets/base",
      "model_module_version": "1.2.0",
      "model_name": "LayoutModel",
      "state": {}
     },
     "6fa89ef0db454bafa27773fe1dfb738a": {
      "model_module": "@jupyter-widgets/controls",
      "model_module_version": "1.5.0",
      "model_name": "TextModel",
      "state": {
       "description": "Query start time (UTC):",
       "layout": "IPY_MODEL_c9431e6a8caf40e9a35af57df26a91db",
       "style": "IPY_MODEL_ce19925620ba445da9ca56ee2ca9f78b",
       "value": "2022-04-03 02:49:14.277968+00:00"
      }
     },
     "6fb08d781b7541b69a824f9059904f62": {
      "model_module": "@jupyter-widgets/base",
      "model_module_version": "1.2.0",
      "model_name": "LayoutModel",
      "state": {
       "width": "50%"
      }
     },
     "71160649347740eb9ae9eccead29bc9a": {
      "model_module": "@jupyter-widgets/base",
      "model_module_version": "1.2.0",
      "model_name": "LayoutModel",
      "state": {}
     },
     "71f1d2287ec04c5baa3b7dc679e5f400": {
      "model_module": "@jupyter-widgets/base",
      "model_module_version": "1.2.0",
      "model_name": "LayoutModel",
      "state": {}
     },
     "7337d522f7194038bf66323d903a0629": {
      "model_module": "@jupyter-widgets/controls",
      "model_module_version": "1.5.0",
      "model_name": "DescriptionStyleModel",
      "state": {
       "description_width": ""
      }
     },
     "75f5ecf5df7841d680743c4db93d6c12": {
      "model_module": "@jupyter-widgets/controls",
      "model_module_version": "1.5.0",
      "model_name": "LabelModel",
      "state": {
       "layout": "IPY_MODEL_6ca349824c8849b9b60a5373af1fc257",
       "style": "IPY_MODEL_7337d522f7194038bf66323d903a0629"
      }
     },
     "7703f35231ed4df9bde200fb8d49ea68": {
      "model_module": "@jupyter-widgets/base",
      "model_module_version": "1.2.0",
      "model_name": "LayoutModel",
      "state": {}
     },
     "770e358d4f6b45b789841d99d8be6db9": {
      "model_module": "@jupyter-widgets/controls",
      "model_module_version": "1.5.0",
      "model_name": "VBoxModel",
      "state": {
       "children": [
        "IPY_MODEL_5ea13a16be8644ad92640b97ed6b7e2a",
        "IPY_MODEL_c6c003c7b22140bba6ab89dd0ab88744",
        "IPY_MODEL_df752f83ee444adea62f91a9d8403ee1"
       ],
       "layout": "IPY_MODEL_afac1ecc1f724f438eabba3f4dbf190b"
      }
     },
     "7b4f933bce6a440c8ab9414be69dccea": {
      "model_module": "@jupyter-widgets/controls",
      "model_module_version": "1.5.0",
      "model_name": "TextModel",
      "state": {
       "description": "Query end time (UTC) :  ",
       "layout": "IPY_MODEL_fbdfb11a05a24ffc870a67132ad2730d",
       "style": "IPY_MODEL_b508ebe21f1949c8a256571bf92e9e51",
       "value": "2022-04-05 02:49:12.745984"
      }
     },
     "7b560ef77c634974a73b32a868b41554": {
      "model_module": "@jupyter-widgets/controls",
      "model_module_version": "1.5.0",
      "model_name": "SelectMultipleModel",
      "state": {
       "_options_labels": [
        "AzureActiveDirectory",
        "AzureActivity",
        "Office365",
        "Windows",
        "Linux",
        "Azure",
        "All"
       ],
       "description": "Select Account types to search",
       "index": [
        5
       ],
       "layout": "IPY_MODEL_1db1c2902d634d849b7aeac8c5dfa58a",
       "rows": 5,
       "style": "IPY_MODEL_35619cf6194a44b4b8a7702a26cf7251"
      }
     },
     "7c2be47abba34eec97cc9eb66cf25892": {
      "model_module": "@jupyter-widgets/controls",
      "model_module_version": "1.5.0",
      "model_name": "HBoxModel",
      "state": {
       "children": [
        "IPY_MODEL_d3290f3f69654c278ee2fb2711163d06",
        "IPY_MODEL_9c77f19082314286bae8da21d55329aa"
       ],
       "layout": "IPY_MODEL_0aa56ea80d5c4c4a873eafdd6729f65e"
      }
     },
     "7f08e8a8fbc849a0ba99ca826f0827de": {
      "model_module": "@jupyter-widgets/base",
      "model_module_version": "1.2.0",
      "model_name": "LayoutModel",
      "state": {}
     },
     "8053a93a9d324fd4a26390c6356f3d50": {
      "model_module": "@jupyter-widgets/base",
      "model_module_version": "1.2.0",
      "model_name": "LayoutModel",
      "state": {
       "height": "150px",
       "width": "300px"
      }
     },
     "81d81a69512a40aeb33bd1a17b845c74": {
      "model_module": "@jupyter-widgets/controls",
      "model_module_version": "1.5.0",
      "model_name": "DatePickerModel",
      "state": {
       "description": "Origin Date",
       "disabled": false,
       "layout": "IPY_MODEL_1e25f2b432894d048d96c8dacf07543d",
       "style": "IPY_MODEL_d66f1c18ce9247a3aa799a2380726690",
       "value": {
        "date": 5,
        "month": 3,
        "year": 2022
       }
      }
     },
     "820f4ed4ac874dbb93572466b9544a7d": {
      "model_module": "@jupyter-widgets/base",
      "model_module_version": "1.2.0",
      "model_name": "LayoutModel",
      "state": {}
     },
     "843305a90bc643a6826a74992390accb": {
      "model_module": "@jupyter-widgets/controls",
      "model_module_version": "1.5.0",
      "model_name": "VBoxModel",
      "state": {
       "children": [
        "IPY_MODEL_6a6c6b6657724d159703155f7a7b9043",
        "IPY_MODEL_509231cd6ea143f68c937a09a669c270",
        "IPY_MODEL_ff46007cf200482aa928bb3720f7aa00"
       ],
       "layout": "IPY_MODEL_0391d8c0878e465dabc638d75cf02694"
      }
     },
     "852d631e50864053828d6617a59311ee": {
      "model_module": "@jupyter-widgets/base",
      "model_module_version": "1.2.0",
      "model_name": "LayoutModel",
      "state": {}
     },
     "86cbc4dde5db43009c63a517987a0f6d": {
      "model_module": "@jupyter-widgets/controls",
      "model_module_version": "1.5.0",
      "model_name": "DescriptionStyleModel",
      "state": {
       "description_width": ""
      }
     },
     "8887e99f5ac74bdcbca5dc1a52b69891": {
      "model_module": "@jupyter-widgets/base",
      "model_module_version": "1.2.0",
      "model_name": "LayoutModel",
      "state": {
       "width": "50%"
      }
     },
     "8d071160ac074372b5202f03f5b49fe0": {
      "model_module": "@jupyter-widgets/base",
      "model_module_version": "1.2.0",
      "model_name": "LayoutModel",
      "state": {}
     },
     "8d1553864d92408295e116607e6b521e": {
      "model_module": "@jupyter-widgets/controls",
      "model_module_version": "1.5.0",
      "model_name": "DescriptionStyleModel",
      "state": {
       "description_width": ""
      }
     },
     "8d6f3c0da3784d29ba566083a245134f": {
      "model_module": "@jupyter-widgets/controls",
      "model_module_version": "1.5.0",
      "model_name": "DatePickerModel",
      "state": {
       "description": "Origin Date",
       "disabled": false,
       "layout": "IPY_MODEL_f41e38a9024d46fd968351ec4c5a6efc",
       "style": "IPY_MODEL_d97e7d8cabcb4d40a0cae2a051edc6dc",
       "value": {
        "date": 5,
        "month": 3,
        "year": 2022
       }
      }
     },
     "8fc0a2cb78bb42f3aa935b4971b2e4a4": {
      "model_module": "@jupyter-widgets/controls",
      "model_module_version": "1.5.0",
      "model_name": "DropdownModel",
      "state": {
       "_options_labels": [
        "Second",
        "Minute",
        "Hour",
        "Day",
        "Week"
       ],
       "index": 3,
       "layout": "IPY_MODEL_232af7b022fc45b0a7d78aed9b647516",
       "style": "IPY_MODEL_d60e67c25f7244d3b126272d81f033bb"
      }
     },
     "91d90a9a7bba455baf47b2943c6f5e44": {
      "model_module": "@jupyter-widgets/controls",
      "model_module_version": "1.5.0",
      "model_name": "HBoxModel",
      "state": {
       "children": [
        "IPY_MODEL_5d20a4123e484255818376ddc3db9b40",
        "IPY_MODEL_fb0ee7017957455e9f072f9d16606b5c"
       ],
       "layout": "IPY_MODEL_2972752ff3344731b3368a194cd70477"
      }
     },
     "922362a9d2f94729a67b1cff360dd0ed": {
      "model_module": "@jupyter-widgets/controls",
      "model_module_version": "1.5.0",
      "model_name": "IntRangeSliderModel",
      "state": {
       "_model_name": "IntRangeSliderModel",
       "_view_name": "IntRangeSliderView",
       "description": "Time Range",
       "layout": "IPY_MODEL_e9abfe0004bf40fa9f105a62d735a352",
       "max": 28,
       "min": -28,
       "style": "IPY_MODEL_5bd6df6bfa7b48058fd74288e959d53c",
       "value": [
        -2,
        0
       ]
      }
     },
     "9ad524ba87b549d9a653a50b75dd0c8e": {
      "model_module": "@jupyter-widgets/controls",
      "model_module_version": "1.5.0",
      "model_name": "HTMLModel",
      "state": {
       "layout": "IPY_MODEL_e92a092a341f47d88988af022770bd1a",
       "style": "IPY_MODEL_05a30ea1531d42e1ae8cdcdb771daeff",
       "value": "<h4>Set query time boundaries</h4>"
      }
     },
     "9b78355184854f60b0d736efba6d1fbe": {
      "model_module": "@jupyter-widgets/base",
      "model_module_version": "1.2.0",
      "model_name": "LayoutModel",
      "state": {
       "border": "solid gray 1px",
       "margin": "1pt",
       "padding": "5pt",
       "width": "90%"
      }
     },
     "9c77f19082314286bae8da21d55329aa": {
      "model_module": "@jupyter-widgets/controls",
      "model_module_version": "1.5.0",
      "model_name": "DropdownModel",
      "state": {
       "_options_labels": [
        "Second",
        "Minute",
        "Hour",
        "Day",
        "Week"
       ],
       "index": 3,
       "layout": "IPY_MODEL_0fa5a927c4ad47e19c135307b1dea85c",
       "style": "IPY_MODEL_1851cda4fc144f1ab2c99a865cd78316"
      }
     },
     "9e655e7dcab545f5983fdb261a09d215": {
      "model_module": "@jupyter-widgets/base",
      "model_module_version": "1.2.0",
      "model_name": "LayoutModel",
      "state": {}
     },
     "9f611bb4c62745088b61c68de982f3ec": {
      "model_module": "@jupyter-widgets/base",
      "model_module_version": "1.2.0",
      "model_name": "LayoutModel",
      "state": {}
     },
     "ab355ef97f5843ad89c006fd6ae3c2ea": {
      "model_module": "@jupyter-widgets/controls",
      "model_module_version": "1.5.0",
      "model_name": "HTMLModel",
      "state": {
       "layout": "IPY_MODEL_301c68021a244f829ff989954ca747a4",
       "style": "IPY_MODEL_5745a63b36434da49e1b5985acc0bd3f",
       "value": "<h4>Set time range for pivot functions.</h4>"
      }
     },
     "acecf72ad09d4032aea7e599ffb37cb8": {
      "model_module": "@jupyter-widgets/base",
      "model_module_version": "1.2.0",
      "model_name": "LayoutModel",
      "state": {
       "width": "100px"
      }
     },
     "acfeb0da96d7468795f9439f22fb6a0f": {
      "model_module": "@jupyter-widgets/base",
      "model_module_version": "1.2.0",
      "model_name": "LayoutModel",
      "state": {
       "width": "70%"
      }
     },
     "afac1ecc1f724f438eabba3f4dbf190b": {
      "model_module": "@jupyter-widgets/base",
      "model_module_version": "1.2.0",
      "model_name": "LayoutModel",
      "state": {}
     },
     "b28dc6ac660a4b3e871dd31180386ccc": {
      "model_module": "@jupyter-widgets/controls",
      "model_module_version": "1.5.0",
      "model_name": "DescriptionStyleModel",
      "state": {
       "description_width": "initial"
      }
     },
     "b508ebe21f1949c8a256571bf92e9e51": {
      "model_module": "@jupyter-widgets/controls",
      "model_module_version": "1.5.0",
      "model_name": "DescriptionStyleModel",
      "state": {
       "description_width": "initial"
      }
     },
     "b58dd8f2634d4099b5ceb30350db33fd": {
      "model_module": "@jupyter-widgets/controls",
      "model_module_version": "1.5.0",
      "model_name": "DescriptionStyleModel",
      "state": {
       "description_width": "initial"
      }
     },
     "b79a3c442e094040860b33127c696914": {
      "model_module": "@jupyter-widgets/controls",
      "model_module_version": "1.5.0",
      "model_name": "DescriptionStyleModel",
      "state": {
       "description_width": ""
      }
     },
     "b79ff07f3f4747b79f2b1e5ffc50646e": {
      "model_module": "@jupyter-widgets/controls",
      "model_module_version": "1.5.0",
      "model_name": "VBoxModel",
      "state": {
       "children": [
        "IPY_MODEL_f5f26e6094e5420aadff826183743035",
        "IPY_MODEL_39ac65c3089f4e03abf815e59307a896",
        "IPY_MODEL_43536d481d654bd8a8111afc3c06ef9c"
       ],
       "layout": "IPY_MODEL_bfb6cdfe8baa4f1a94b6e87d56ce08e7"
      }
     },
     "bae596916ee94ce39c973012dffd20a7": {
      "model_module": "@jupyter-widgets/controls",
      "model_module_version": "1.5.0",
      "model_name": "DescriptionStyleModel",
      "state": {
       "description_width": ""
      }
     },
     "bc80cb94fd0b4b57bf8ef20de227e93c": {
      "model_module": "@jupyter-widgets/base",
      "model_module_version": "1.2.0",
      "model_name": "LayoutModel",
      "state": {}
     },
     "bdc855aa5d434e38a878ade40f764fe5": {
      "model_module": "@jupyter-widgets/controls",
      "model_module_version": "1.5.0",
      "model_name": "DescriptionStyleModel",
      "state": {
       "description_width": ""
      }
     },
     "bfb6cdfe8baa4f1a94b6e87d56ce08e7": {
      "model_module": "@jupyter-widgets/base",
      "model_module_version": "1.2.0",
      "model_name": "LayoutModel",
      "state": {}
     },
     "c11dd0c299e34715b9473726e09cc1a7": {
      "model_module": "@jupyter-widgets/base",
      "model_module_version": "1.2.0",
      "model_name": "LayoutModel",
      "state": {}
     },
     "c1a73ef4c1ba4a0faa6e102d2838040f": {
      "model_module": "@jupyter-widgets/controls",
      "model_module_version": "1.5.0",
      "model_name": "HBoxModel",
      "state": {
       "children": [
        "IPY_MODEL_81d81a69512a40aeb33bd1a17b845c74",
        "IPY_MODEL_0c35ce564cc44b6ba6cc6becb3faef02"
       ],
       "layout": "IPY_MODEL_6f25177ffb77451c847ed17a9322c70c"
      }
     },
     "c3aaa703494e41508392cd5a414351f8": {
      "model_module": "@jupyter-widgets/base",
      "model_module_version": "1.2.0",
      "model_name": "LayoutModel",
      "state": {}
     },
     "c429d0b73d424181820b5de7ba75f21f": {
      "model_module": "@jupyter-widgets/controls",
      "model_module_version": "1.5.0",
      "model_name": "TextModel",
      "state": {
       "description": "Time (24hr)",
       "layout": "IPY_MODEL_c3aaa703494e41508392cd5a414351f8",
       "style": "IPY_MODEL_8d1553864d92408295e116607e6b521e",
       "value": "02:49:14.277968"
      }
     },
     "c6c003c7b22140bba6ab89dd0ab88744": {
      "model_module": "@jupyter-widgets/controls",
      "model_module_version": "1.5.0",
      "model_name": "HBoxModel",
      "state": {
       "children": [
        "IPY_MODEL_8d6f3c0da3784d29ba566083a245134f",
        "IPY_MODEL_c429d0b73d424181820b5de7ba75f21f"
       ],
       "layout": "IPY_MODEL_63e7f739408a438b89472c46a05397b4"
      }
     },
     "c92827b4af6249c380008f6ab22f0195": {
      "model_module": "@jupyter-widgets/base",
      "model_module_version": "1.2.0",
      "model_name": "LayoutModel",
      "state": {
       "width": "70%"
      }
     },
     "c9431e6a8caf40e9a35af57df26a91db": {
      "model_module": "@jupyter-widgets/base",
      "model_module_version": "1.2.0",
      "model_name": "LayoutModel",
      "state": {
       "width": "50%"
      }
     },
     "ccd7968b5e564c4db4a1c636dff735b9": {
      "model_module": "@jupyter-widgets/base",
      "model_module_version": "1.2.0",
      "model_name": "LayoutModel",
      "state": {
       "width": "50%"
      }
     },
     "ce19925620ba445da9ca56ee2ca9f78b": {
      "model_module": "@jupyter-widgets/controls",
      "model_module_version": "1.5.0",
      "model_name": "DescriptionStyleModel",
      "state": {
       "description_width": "initial"
      }
     },
     "cfda608bcf5c4399904a369dae615573": {
      "model_module": "@jupyter-widgets/base",
      "model_module_version": "1.2.0",
      "model_name": "LayoutModel",
      "state": {
       "width": "50%"
      }
     },
     "d3290f3f69654c278ee2fb2711163d06": {
      "model_module": "@jupyter-widgets/controls",
      "model_module_version": "1.5.0",
      "model_name": "IntRangeSliderModel",
      "state": {
       "_model_name": "IntRangeSliderModel",
       "_view_name": "IntRangeSliderView",
       "description": "Time Range",
       "layout": "IPY_MODEL_57bf7370a095455db8c6ab8a46d5f6b8",
       "max": 28,
       "min": -28,
       "style": "IPY_MODEL_68975f878548486ca11a74c8227f47d3",
       "value": [
        -1,
        0
       ]
      }
     },
     "d4992c8b9df046f3b6a8334405566eda": {
      "model_module": "@jupyter-widgets/controls",
      "model_module_version": "1.5.0",
      "model_name": "TextModel",
      "state": {
       "description": "Time (24hr)",
       "layout": "IPY_MODEL_445239701cf94bb2a13fea7f4f8a339a",
       "style": "IPY_MODEL_3dfb7850a68a4a52a0f3db2ea62a19eb",
       "value": "02:49:12.745984"
      }
     },
     "d60e67c25f7244d3b126272d81f033bb": {
      "model_module": "@jupyter-widgets/controls",
      "model_module_version": "1.5.0",
      "model_name": "DescriptionStyleModel",
      "state": {
       "description_width": ""
      }
     },
     "d66f1c18ce9247a3aa799a2380726690": {
      "model_module": "@jupyter-widgets/controls",
      "model_module_version": "1.5.0",
      "model_name": "DescriptionStyleModel",
      "state": {
       "description_width": ""
      }
     },
     "d6ffaac1ac8645b7aa515c608f42a7b1": {
      "model_module": "@jupyter-widgets/controls",
      "model_module_version": "1.5.0",
      "model_name": "HBoxModel",
      "state": {
       "children": [
        "IPY_MODEL_922362a9d2f94729a67b1cff360dd0ed",
        "IPY_MODEL_8fc0a2cb78bb42f3aa935b4971b2e4a4"
       ],
       "layout": "IPY_MODEL_e7c17434d8c9485682566a16ffd0af5a"
      }
     },
     "d97e7d8cabcb4d40a0cae2a051edc6dc": {
      "model_module": "@jupyter-widgets/controls",
      "model_module_version": "1.5.0",
      "model_name": "DescriptionStyleModel",
      "state": {
       "description_width": ""
      }
     },
     "dd0cf090d4524c2ba5760e72a1a7a214": {
      "model_module": "@jupyter-widgets/controls",
      "model_module_version": "1.5.0",
      "model_name": "DescriptionStyleModel",
      "state": {
       "description_width": "initial"
      }
     },
     "ddaff9bbd74441f68e23823361703007": {
      "model_module": "@jupyter-widgets/controls",
      "model_module_version": "1.5.0",
      "model_name": "DescriptionStyleModel",
      "state": {
       "description_width": "initial"
      }
     },
     "df752f83ee444adea62f91a9d8403ee1": {
      "model_module": "@jupyter-widgets/controls",
      "model_module_version": "1.5.0",
      "model_name": "VBoxModel",
      "state": {
       "children": [
        "IPY_MODEL_d6ffaac1ac8645b7aa515c608f42a7b1",
        "IPY_MODEL_fb06da30ec49421aa88c5e8386964762",
        "IPY_MODEL_1943a5eb70314738b53982644b8963ce"
       ],
       "layout": "IPY_MODEL_71160649347740eb9ae9eccead29bc9a"
      }
     },
     "e1218c3b438f4bacbfb911bcd092e3d7": {
      "model_module": "@jupyter-widgets/base",
      "model_module_version": "1.2.0",
      "model_name": "LayoutModel",
      "state": {}
     },
     "e12d9bfcffda40b5af7ef2e45f15eb28": {
      "model_module": "@jupyter-widgets/base",
      "model_module_version": "1.2.0",
      "model_name": "LayoutModel",
      "state": {
       "width": "70%"
      }
     },
     "e20d8cd48b9a48d3a0fc105cf34ed6f8": {
      "model_module": "@jupyter-widgets/controls",
      "model_module_version": "1.5.0",
      "model_name": "DatePickerModel",
      "state": {
       "description": "Origin Date",
       "disabled": false,
       "layout": "IPY_MODEL_9e655e7dcab545f5983fdb261a09d215",
       "style": "IPY_MODEL_86cbc4dde5db43009c63a517987a0f6d",
       "value": {
        "date": 5,
        "month": 3,
        "year": 2022
       }
      }
     },
     "e7c17434d8c9485682566a16ffd0af5a": {
      "model_module": "@jupyter-widgets/base",
      "model_module_version": "1.2.0",
      "model_name": "LayoutModel",
      "state": {}
     },
     "e88a7284010547aca6142649da4d119e": {
      "model_module": "@jupyter-widgets/base",
      "model_module_version": "1.2.0",
      "model_name": "LayoutModel",
      "state": {}
     },
     "e88d439c233246c4919737c529cd0d3d": {
      "model_module": "@jupyter-widgets/controls",
      "model_module_version": "1.5.0",
      "model_name": "TextModel",
      "state": {
       "description": "Query end time (UTC) :  ",
       "layout": "IPY_MODEL_ccd7968b5e564c4db4a1c636dff735b9",
       "style": "IPY_MODEL_ddaff9bbd74441f68e23823361703007",
       "value": "2022-04-05 02:49:14.277968+00:00"
      }
     },
     "e92a092a341f47d88988af022770bd1a": {
      "model_module": "@jupyter-widgets/base",
      "model_module_version": "1.2.0",
      "model_name": "LayoutModel",
      "state": {}
     },
     "e9abfe0004bf40fa9f105a62d735a352": {
      "model_module": "@jupyter-widgets/base",
      "model_module_version": "1.2.0",
      "model_name": "LayoutModel",
      "state": {
       "width": "70%"
      }
     },
     "ed5ea1ead65e4d4d887d3bda589804de": {
      "model_module": "@jupyter-widgets/controls",
      "model_module_version": "1.5.0",
      "model_name": "DescriptionStyleModel",
      "state": {
       "description_width": "initial"
      }
     },
     "efa7704345e3420aa388221d72bab90e": {
      "model_module": "@jupyter-widgets/controls",
      "model_module_version": "1.5.0",
      "model_name": "TextModel",
      "state": {
       "description": "Enter the Account name to search for:",
       "layout": "IPY_MODEL_8887e99f5ac74bdcbca5dc1a52b69891",
       "style": "IPY_MODEL_b28dc6ac660a4b3e871dd31180386ccc",
       "value": "Kelsea"
      }
     },
     "f36dc46d59634436abc0f870dfa72012": {
      "model_module": "@jupyter-widgets/base",
      "model_module_version": "1.2.0",
      "model_name": "LayoutModel",
      "state": {
       "width": "70%"
      }
     },
     "f41e38a9024d46fd968351ec4c5a6efc": {
      "model_module": "@jupyter-widgets/base",
      "model_module_version": "1.2.0",
      "model_name": "LayoutModel",
      "state": {}
     },
     "f4b67bf1e96048d78591a0c1c52a19bd": {
      "model_module": "@jupyter-widgets/base",
      "model_module_version": "1.2.0",
      "model_name": "LayoutModel",
      "state": {
       "border": "solid gray 1px",
       "margin": "1pt",
       "padding": "5pt",
       "width": "90%"
      }
     },
     "f5f26e6094e5420aadff826183743035": {
      "model_module": "@jupyter-widgets/controls",
      "model_module_version": "1.5.0",
      "model_name": "TextModel",
      "state": {
       "description": "Filter alerts by title:",
       "layout": "IPY_MODEL_c11dd0c299e34715b9473726e09cc1a7",
       "style": "IPY_MODEL_494fc091484445509d13c0dcf29ad549"
      }
     },
     "f7538bef7b144eb3af82d96719df6bdb": {
      "model_module": "@jupyter-widgets/controls",
      "model_module_version": "1.5.0",
      "model_name": "DescriptionStyleModel",
      "state": {
       "description_width": ""
      }
     },
     "fad525b324844c1d9deca225c0aed1b8": {
      "model_module": "@jupyter-widgets/controls",
      "model_module_version": "1.5.0",
      "model_name": "TextModel",
      "state": {
       "description": "Filter alerts by title:",
       "layout": "IPY_MODEL_e88a7284010547aca6142649da4d119e",
       "style": "IPY_MODEL_51876de3eede4514a16107175cb249cb"
      }
     },
     "fb06da30ec49421aa88c5e8386964762": {
      "model_module": "@jupyter-widgets/controls",
      "model_module_version": "1.5.0",
      "model_name": "TextModel",
      "state": {
       "description": "Query start time (UTC):",
       "layout": "IPY_MODEL_6fb08d781b7541b69a824f9059904f62",
       "style": "IPY_MODEL_06d7adc128794d99a85ae77b226b04d9",
       "value": "2022-04-03 02:49:14.277968+00:00"
      }
     },
     "fb0ee7017957455e9f072f9d16606b5c": {
      "model_module": "@jupyter-widgets/controls",
      "model_module_version": "1.5.0",
      "model_name": "DropdownModel",
      "state": {
       "_options_labels": [
        "Second",
        "Minute",
        "Hour",
        "Day",
        "Week"
       ],
       "index": 3,
       "layout": "IPY_MODEL_acecf72ad09d4032aea7e599ffb37cb8",
       "style": "IPY_MODEL_f7538bef7b144eb3af82d96719df6bdb"
      }
     },
     "fbdfb11a05a24ffc870a67132ad2730d": {
      "model_module": "@jupyter-widgets/base",
      "model_module_version": "1.2.0",
      "model_name": "LayoutModel",
      "state": {
       "width": "50%"
      }
     },
     "fcdb4009e7b344fda370b2dc56bd824e": {
      "model_module": "@jupyter-widgets/controls",
      "model_module_version": "1.5.0",
      "model_name": "VBoxModel",
      "state": {
       "children": [
        "IPY_MODEL_fad525b324844c1d9deca225c0aed1b8",
        "IPY_MODEL_2c4aedcf664f47459a660038672fd03b",
        "IPY_MODEL_099c0792526244a8b736bb295c59d80e"
       ],
       "layout": "IPY_MODEL_5e1172b862864ea3aaef43357606db37"
      }
     },
     "fed0fb69f87d4c3dbc5aa6f486a8c443": {
      "model_module": "@jupyter-widgets/base",
      "model_module_version": "1.2.0",
      "model_name": "LayoutModel",
      "state": {
       "width": "50%"
      }
     },
     "ff46007cf200482aa928bb3720f7aa00": {
      "model_module": "@jupyter-widgets/controls",
      "model_module_version": "1.5.0",
      "model_name": "CheckboxModel",
      "state": {
       "description": "Display details",
       "disabled": false,
       "layout": "IPY_MODEL_8d071160ac074372b5202f03f5b49fe0",
       "style": "IPY_MODEL_1578a8b4ceb44210a8ed720331423f55",
       "value": true
      }
     }
    },
    "version_major": 2,
    "version_minor": 0
   }
  }
 },
 "nbformat": 4,
 "nbformat_minor": 4
}
