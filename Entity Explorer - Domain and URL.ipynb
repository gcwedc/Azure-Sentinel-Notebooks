{
 "cells": [
  {
   "attachments": {},
   "cell_type": "markdown",
   "metadata": {
    "ExecuteTime": {
     "end_time": "2019-09-25T19:53:48.349636Z",
     "start_time": "2019-09-25T19:53:48.344638Z"
    }
   },
   "source": [
    "#  Entity Explorer - Domain and URL\n",
    " <details>\n",
    "     <summary> <u>Details...</u></summary>\n",
    "\n",
    " **Notebook Version:** 2.0<br>\n",
    " **Python Version:** Python 3.8 (including Python 3.8 - AzureML)<br>\n",
    " **Required Packages**: msticpy, msticnb<br>\n",
    "\n",
    " **Data Sources Required**:\n",
    " - Log Analytics - SecurityAlerts, Bookmarks, DnsEvents, CommonSecurityLog, DeviceNetworkEvents<br> \n",
    "**TI Proviers Used**\n",
    " - VirusTotal, Open Page Rank, BrowShot(all required for certain elements), AlienVault OTX, IBM XForce (optional) - all providers require accounts and API keys\n",
    " </details>\n",
    "\n",
    "This Notebooks brings together a series of tools and techniques to enable threat hunting within the context of a domain name or URL that has been identified as of interest. It provides a series of techniques to assist in determining whether a domain or URL is malicious. Once this has been established it provides an overview of the scope of the domain or URL across an environment, along with indicators of areas for further investigation such as hosts of interest.  "
   ]
  },
  {
   "attachments": {},
   "cell_type": "markdown",
   "metadata": {
    "toc": true
   },
   "source": [
    "<h1>Table of Contents<span class=\"tocSkip\"></span></h1>\n",
    "<div class=\"toc\">\n",
    "<ul class=\"toc-item\"><li><span><a href=\"#Hunting-Hypothesis:\" data-toc-modified-id=\"Hunting-Hypothesis:-1\"><span class=\"toc-item-num\">1&nbsp;&nbsp;</span>Hunting Hypothesis:</a></span></ul>\n",
    "<ul class=\"toc-item\">\n",
    "<li><span><a href=\"#Notebook-initialization\" data-toc-modified-id=\"Notebook-initialization-2\"><span class=\"toc-item-num\">2&nbsp;&nbsp;</span>Notebook initialization</a></span></li>\n",
    "<ul class=\"toc-item\"><li><span><a href=\"#Authentication\" data-toc-modified-id=\"Authentication-2.1\"><span class=\"toc-item-num\">2.1&nbsp;&nbsp;</span>Authentication</a></span><ul class=\"toc-item\"></li></ul>\n",
    "<li><span><a href=\"#Import & Initalize Notebooklets\" data-toc-modified-id=\"Import-Initialize-Notebooklets-2.2\"><span class=\"toc-item-num\">2.2&nbsp;&nbsp;</span>Import & Initalize Notebooklets</a></span></li></li>\n",
    "<li><span><a href=\"#Select-the-domain-or-URL-you-wish-to-investigate\" data-toc-modified-id=\"Select-the-domain-or-URL-you-wish-to-investigate-2.3\"><span class=\"toc-item-num\">2.3&nbsp;&nbsp;</span>Select the domain or URL you wish to investigate</a></span></li></ul>\n",
    "<li><span><a href=\"#URL-Overview\" data-toc-modified-id=\"URL-Overview-3\"><span class=\"toc-item-num\">3&nbsp;&nbsp;</span>URL Overview</a></span>\n",
    "<li><span><a href=\"#The-URL-in-the-environment\" data-toc-modified-id=\"The-URL-in-the-environment-4\"><span class=\"toc-item-num\">4&nbsp;&nbsp;</span>The URL in the Environmnet</a></span></li>\n",
    "<ul class=\"toc-item\"><li><span><a href=\"#Related-Alerts\" data-toc-modified-id=\"Related-Alerts-4.1\"><span class=\"toc-item-num\">4.1&nbsp;&nbsp;</span>Related Alerts</a></span>\n",
    "<li><span><a href=\"#Related-Bookmarks\" data-toc-modified-id=\"Related-Bookmarks-4.2\"><span class=\"toc-item-num\">4.2&nbsp;&nbsp;</span>Related Bookmakrs</a></span></li>\n",
    "<li><span><a href=\"#Hosts-Observed-Communicating-with-the-URL\" data-toc-modified-id=\"Hosts-Observed-Communicating-with-the-URL-4.3\"><span class=\"toc-item-num\">4.3&nbsp;&nbsp;</span>Hosts Observed Communicating with the URL</a></span></li>\n",
    "<li><span><a href=\"#Additional-Environment-Data\" data-toc-modified-id=\"Additional-Environment-Data-4.4\"><span class=\"toc-item-num\">4.4&nbsp;&nbsp;</span>Additional Environment Data</a></span></li>\n",
    "</ul></div>"
   ]
  },
  {
   "attachments": {},
   "cell_type": "markdown",
   "metadata": {},
   "source": [
    "## Hunting Hypothesis: \n",
    "Our broad initial hunting hypothesis is that a particular URL or domain might be malicious. <br>\n",
    "This notebook is designed to help you explore the data and identify if the URL is malicious and where the URL appears within the environment."
   ]
  },
  {
   "attachments": {},
   "cell_type": "markdown",
   "metadata": {},
   "source": [
    "---\n",
    "### Notebook initialization\n",
    "The next cell:\n",
    "- Checks for the correct Python version\n",
    "- Checks versions and optionally installs required packages\n",
    "- Imports the required packages into the notebook\n",
    "- Sets a number of configuration options.\n",
    "\n",
    "<details>\n",
    "    <summary><u>More details...</u></summary>\n",
    "\n",
    "This should complete without errors. If you encounter errors or warnings look at the following two notebooks:\n",
    "- [TroubleShootingNotebooks](https://github.com/Azure/Azure-Sentinel-Notebooks/blob/master/TroubleShootingNotebooks.ipynb)\n",
    "- [ConfiguringNotebookEnvironment](https://github.com/Azure/Azure-Sentinel-Notebooks/blob/master/ConfiguringNotebookEnvironment.ipynb)\n",
    "\n",
    "If you are running in the Microsoft Sentinel Notebooks environment (Azure Notebooks or Azure ML) you can run live versions of these notebooks:\n",
    "- [Run TroubleShootingNotebooks](./TroubleShootingNotebooks.ipynb)\n",
    "- [Run ConfiguringNotebookEnvironment](./ConfiguringNotebookEnvironment.ipynb)\n",
    "\n",
    "You may also need to do some additional configuration to successfully use functions such as Threat Intelligence service lookup and Geo IP lookup. \n",
    "There are more details about this in the `ConfiguringNotebookEnvironment` notebook and in these documents:\n",
    "- [msticpy configuration](https://msticpy.readthedocs.io/en/latest/getting_started/msticpyconfig.html)\n",
    "- [Threat intelligence provider configuration](https://msticpy.readthedocs.io/en/latest/data_acquisition/TIProviders.html#configuration-file)\n",
    "\n",
    "</details>\n"
   ]
  },
  {
   "cell_type": "code",
   "execution_count": 2,
   "metadata": {
    "ExecuteTime": {
     "end_time": "2020-05-15T23:19:52.320806Z",
     "start_time": "2020-05-15T23:19:48.201597Z"
    }
   },
   "outputs": [
    {
     "data": {
      "text/html": [
       "<h3>Starting Notebook setup...</h3>"
      ],
      "text/plain": [
       "<IPython.core.display.HTML object>"
      ]
     },
     "metadata": {},
     "output_type": "display_data"
    },
    {
     "data": {
      "text/html": [
       "<br><font color='red'>Error import module pyvis.network</font><br> <br>"
      ],
      "text/plain": [
       "<IPython.core.display.HTML object>"
      ]
     },
     "metadata": {},
     "output_type": "display_data"
    },
    {
     "data": {
      "text/html": [
       "For more info and options run:<pre>import msticpy as mp\n",
       "help(mp.nbinit)</pre>"
      ],
      "text/plain": [
       "<IPython.core.display.HTML object>"
      ]
     },
     "metadata": {},
     "output_type": "display_data"
    }
   ],
   "source": [
    "from IPython.display import display, HTML, Image\n",
    "from datetime import datetime, timedelta, timezone\n",
    "\n",
    "\n",
    "display(HTML(\"<h3>Starting Notebook setup...</h3>\"))\n",
    "\n",
    "# If not using Azure Notebooks, install msticpy and msticnb with\n",
    "##%pip install msticpy --upgrade\n",
    "##%pip install msticnb --upgrade\n",
    "\n",
    "import msticpy as mp\n",
    "extra_imports = [\n",
    "    \"msticpy.nbtools, observationlist\",\n",
    "    \"msticpy.sectools, domain_utils\",\n",
    "    \"pyvis.network, pyvis_network\",\n",
    "]\n",
    "mp.init_notebook(\n",
    "    extra_imports=extra_imports,\n",
    "    additional_packages=[\"msticnb>=1.0\"],\n",
    ");"
   ]
  },
  {
   "cell_type": "code",
   "execution_count": 5,
   "metadata": {},
   "outputs": [],
   "source": [
    "#%pip install pyvis.network\n",
    "import pyvis_network\n",
    "import msticpy as mp"
   ]
  },
  {
   "cell_type": "code",
   "execution_count": 6,
   "metadata": {
    "tags": [
     "parameters"
    ]
   },
   "outputs": [],
   "source": [
    "# papermill default parameters\n",
    "ws_name = \"Default\"\n",
    "url = \"\"\n",
    "end = datetime.now(timezone.utc)\n",
    "start = end - timedelta(days=2)"
   ]
  },
  {
   "attachments": {},
   "cell_type": "markdown",
   "metadata": {
    "ExecuteTime": {
     "end_time": "2019-09-25T20:20:04.563899Z",
     "start_time": "2019-09-25T20:20:04.507874Z"
    }
   },
   "source": [
    "### Authentication\n",
    "<details>\n",
    "    <summary><u>Details...</u></summary>\n",
    "If you are using user/device authentication, run the following cell. \n",
    "- Click the 'Copy code to clipboard and authenticate' button.\n",
    "- This will pop up an Azure Active Directory authentication dialog (in a new tab or browser window). The device code will have been copied to the clipboard. \n",
    "- Select the text box and paste (Ctrl-V/Cmd-V) the copied value. \n",
    "- You should then be redirected to a user authentication page where you should authenticate with a user account that has permission to query your Log Analytics workspace.\n",
    "\n",
    "Use the following syntax if you are authenticating using an Azure Active Directory AppId and Secret:\n",
    "```\n",
    "%kql loganalytics://tenant(aad_tenant).workspace(WORKSPACE_ID).clientid(client_id).clientsecret(client_secret)\n",
    "```\n",
    "instead of\n",
    "```\n",
    "%kql loganalytics://code().workspace(WORKSPACE_ID)\n",
    "```\n",
    "\n",
    "Note: you may occasionally see a JavaScript error displayed at the end of the authentication - you can safely ignore this.<br>\n",
    "On successful authentication you should see a ```popup schema``` button.\n",
    "To find your Workspace Id go to [Log Analytics](https://ms.portal.azure.com/#blade/HubsExtension/Resources/resourceType/Microsoft.OperationalInsights%2Fworkspaces). Look at the workspace properties to find the ID.\n",
    "</details>"
   ]
  },
  {
   "cell_type": "code",
   "execution_count": 7,
   "metadata": {},
   "outputs": [
    {
     "name": "stdout",
     "output_type": "stream",
     "text": [
      "Configured workspaces:  Default\n"
     ]
    },
    {
     "data": {
      "application/vnd.jupyter.widget-view+json": {
       "model_id": "d00a94bc0fa14a3db20601e846e196ef",
       "version_major": 2,
       "version_minor": 0
      },
      "text/plain": [
       "Combobox(value='Default', description='Workspace Name', options=('Default',))"
      ]
     },
     "metadata": {},
     "output_type": "display_data"
    }
   ],
   "source": [
    "print(\n",
    "    \"Configured workspaces: \",\n",
    "    \", \".join(msticpy.settings.get_config(\"AzureSentinel.Workspaces\").keys()),\n",
    ")\n",
    "import ipywidgets as widgets\n",
    "\n",
    "ws_param = widgets.Combobox(\n",
    "    description=\"Workspace Name\",\n",
    "    value=ws_name,\n",
    "    options=list(msticpy.settings.get_config(\"AzureSentinel.Workspaces\").keys()),\n",
    ")\n",
    "ws_param"
   ]
  },
  {
   "cell_type": "code",
   "execution_count": 8,
   "metadata": {},
   "outputs": [
    {
     "name": "stdout",
     "output_type": "stream",
     "text": [
      "try_azcli_login=True;enable_add_items_to_help=False\n",
      "{'try_azcli_login': 'True', 'enable_add_items_to_help': 'False'}\n",
      "try_azcli_login=True;enable_add_items_to_help=False\n",
      "Connecting... "
     ]
    },
    {
     "data": {
      "text/html": [
       "<!DOCTYPE html>\n",
       "            <html><body>\n",
       "            <div style=''>\n",
       "            <b>FEDGBJP76</b>&nbsp;<a href='https://microsoft.com/devicelogin' style='padding: 2px 6px 2px 6px; color: #333333; background-color: #EEEEEE; border-top: 1px solid #CCCCCC; border-right: 1px solid #333333; border-bottom: 1px solid #333333; border-left: 1px solid #CCCCCC' target='verification_url'>Copy code to clipboard and authenticate</a>\n",
       "            </div>\n",
       "            </body></html>"
      ],
      "text/plain": [
       "<IPython.core.display.HTML object>"
      ]
     },
     "metadata": {},
     "output_type": "display_data"
    },
    {
     "data": {
      "text/html": [
       "<!DOCTYPE html>\n",
       "                            <html><body><script>\n",
       "\n",
       "                                // close authentication window\n",
       "                                if (kql_MagicUserCodeAuthWindow && kql_MagicUserCodeAuthWindow.opener != null && !kql_MagicUserCodeAuthWindow.closed) {\n",
       "                                    kql_MagicUserCodeAuthWindow.close()\n",
       "                                }\n",
       "                                // TODO: make sure, you clear the right cell. BTW, not sure it is a must to do any clearing\n",
       "\n",
       "                                // clear output cell\n",
       "                                Jupyter.notebook.clear_output(Jupyter.notebook.get_selected_index())\n",
       "\n",
       "                                // TODO: if in run all mode, move to last cell, otherwise move to next cell\n",
       "                                // move to next cell\n",
       "\n",
       "                            </script></body></html>"
      ],
      "text/plain": [
       "<IPython.core.display.HTML object>"
      ]
     },
     "metadata": {},
     "output_type": "display_data"
    },
    {
     "data": {
      "text/html": [
       "<!DOCTYPE html>\n",
       "            <html><body>\n",
       "            <div style=''>\n",
       "            <a href='file:///C:/Users/gcass/.kqlmagic/temp_files/v2-26596wrGaPC6kLODr/_a97557b5-b341-450d-ac71-cdd5658a7e03_at_loganalytics_schema.html' style='padding: 2px 6px 2px 6px; color: #333333; background-color: #EEEEEE; border-top: 1px solid #CCCCCC; border-right: 1px solid #333333; border-bottom: 1px solid #333333; border-left: 1px solid #CCCCCC' target='_a97557b5-b341-450d-ac71-cdd5658a7e03_at_loganalytics_schema'>popup schema a97557b5-b341-450d-ac71-cdd5658a7e03@loganalytics</a>\n",
       "            </div>\n",
       "            </body></html>"
      ],
      "text/plain": [
       "<IPython.core.display.HTML object>"
      ]
     },
     "metadata": {},
     "output_type": "display_data"
    },
    {
     "name": "stdout",
     "output_type": "stream",
     "text": [
      "connected\n"
     ]
    },
    {
     "data": {
      "text/html": [
       "<p style=''><hr></p>"
      ],
      "text/plain": [
       "<IPython.core.display.HTML object>"
      ]
     },
     "metadata": {},
     "output_type": "display_data"
    },
    {
     "data": {
      "text/html": [
       "<p style='font-weight: bold'>Confirm time range to search</p>"
      ],
      "text/plain": [
       "<IPython.core.display.HTML object>"
      ]
     },
     "metadata": {},
     "output_type": "display_data"
    },
    {
     "data": {
      "application/vnd.jupyter.widget-view+json": {
       "model_id": "5fc325da45c7471cb110dc6d14c9194b",
       "version_major": 2,
       "version_minor": 0
      },
      "text/plain": [
       "VBox(children=(HTML(value='<h4>Set query time boundaries</h4>'), HBox(children=(DatePicker(value=datetime.date…"
      ]
     },
     "metadata": {},
     "output_type": "display_data"
    }
   ],
   "source": [
    "from msticpy.common.timespan import TimeSpan\n",
    "\n",
    "# Authentication\n",
    "qry_prov = QueryProvider(data_environment=\"MSSentinel\")\n",
    "qry_prov.connect(WorkspaceConfig(workspace=ws_param.value))\n",
    "\n",
    "nb_timespan = TimeSpan(start, end)\n",
    "qry_prov.query_time.timespan = nb_timespan\n",
    "md(\"<hr>\")\n",
    "md(\"Confirm time range to search\", \"bold\")\n",
    "qry_prov.query_time"
   ]
  },
  {
   "attachments": {},
   "cell_type": "markdown",
   "metadata": {},
   "source": [
    "#### Authentication and Configuration Problems\n",
    "\n",
    "<br>\n",
    "<details>\n",
    "    <summary>Click for details about configuring your authentication parameters</summary>\n",
    "    \n",
    "The notebook is expecting your Microsoft Sentinel Tenant ID and Workspace ID to be configured in one of the following places:\n",
    "- `config.json` in the current folder\n",
    "- `msticpyconfig.yaml` in the current folder or location specified by `MSTICPYCONFIG` environment variable.\n",
    "    \n",
    "For help with setting up your `config.json` file (if this hasn't been done automatically) see the [`ConfiguringNotebookEnvironment`](https://github.com/Azure/Azure-Sentinel-Notebooks/blob/master/ConfiguringNotebookEnvironment.ipynb) notebook in the root folder of your Azure-Sentinel-Notebooks project. This shows you how to obtain your Workspace and Subscription IDs from the Microsoft Sentinel Portal. You can use the SubscriptionID to find your Tenant ID). To view the current `config.json` run the following in a code cell.\n",
    "\n",
    "```%pfile config.json```\n",
    "\n",
    "For help with setting up your `msticpyconfig.yaml` see the [Setup](#Setup) section at the end of this notebook and the [ConfigureNotebookEnvironment notebook](https://github.com/Azure/Azure-Sentinel-Notebooks/blob/master/ConfiguringNotebookEnvironment.ipynb)\n",
    "</details>"
   ]
  },
  {
   "attachments": {},
   "cell_type": "markdown",
   "metadata": {},
   "source": [
    "## Import and initialize notebooklets\n",
    "\n",
    "This imports the **msticnb** package and the notebooklets classes.\n",
    "\n",
    "These are needed for the notebook's operation."
   ]
  },
  {
   "cell_type": "code",
   "execution_count": 9,
   "metadata": {},
   "outputs": [
    {
     "name": "stdout",
     "output_type": "stream",
     "text": [
      "Notebooklets: 11 notebooklets loaded.\n",
      "try_azcli_login=True;enable_add_items_to_help=False\n",
      "{'try_azcli_login': 'True', 'enable_add_items_to_help': 'False'}\n",
      "try_azcli_login=True;enable_add_items_to_help=False\n",
      "Notebooklets: Loaded providers: MSSentinel, geolitelookup, tilookup\n"
     ]
    }
   ],
   "source": [
    "import msticnb as nb\n",
    "\n",
    "nb.init(query_provider=qry_prov)"
   ]
  },
  {
   "attachments": {},
   "cell_type": "markdown",
   "metadata": {},
   "source": [
    "## Select the domain or URL to investigate\n",
    "Enter the domain or URL you wish to investigate. e.g. www.microsoft.com/index.html"
   ]
  },
  {
   "cell_type": "code",
   "execution_count": 47,
   "metadata": {
    "ExecuteTime": {
     "end_time": "2020-05-15T23:20:48.657499Z",
     "start_time": "2020-05-15T23:20:48.634498Z"
    }
   },
   "outputs": [],
   "source": [
    "#import ipywidgets as nbwidgets\n",
    "#url_txt = nbwidgets.Text\n",
    "#url_txt = nbwidgets.GetText(\n",
    "#    prompt=\"Enter the URL to investigate:\", value=url\n",
    "#)\n",
    "#display(url_txt)\n",
    "\n",
    "url_txt = \"https://chat.openai.com\""
   ]
  },
  {
   "attachments": {},
   "cell_type": "markdown",
   "metadata": {},
   "source": [
    "# URL Overview\n",
    "\n",
    "The following cell runs the URL Summary notebooklet the collects relevant information about the URL, its domain, and associated IPs.<br>\n",
    "Use the output to understand the context of the URL and where it appears in the environment. From here you can identify further areas and scopes to hunt on."
   ]
  },
  {
   "cell_type": "code",
   "execution_count": 49,
   "metadata": {},
   "outputs": [
    {
     "name": "stdout",
     "output_type": "stream",
     "text": [
      "Notebooklets: 11 notebooklets loaded.\n",
      "Notebooklets: Loaded providers: MSSentinel, geolitelookup, tilookup, azuredata\n"
     ]
    },
    {
     "data": {
      "text/html": [
       "<h1>URL Summary</h1>"
      ],
      "text/plain": [
       "<IPython.core.display.HTML object>"
      ]
     },
     "metadata": {},
     "output_type": "display_data"
    },
    {
     "data": {
      "text/html": [
       "This shows a summary of the URL and its presence in data. It will display an overview of the URL, its associated domain, IP addresses and TLS certificates. It will also display a screenshot of the URL."
      ],
      "text/plain": [
       "<IPython.core.display.HTML object>"
      ]
     },
     "metadata": {},
     "output_type": "display_data"
    },
    {
     "data": {
      "text/html": [
       "<p style=''>Querying TI for 1 indicators...</p>"
      ],
      "text/plain": [
       "<IPython.core.display.HTML object>"
      ]
     },
     "metadata": {},
     "output_type": "display_data"
    },
    {
     "data": {
      "application/vnd.jupyter.widget-view+json": {
       "model_id": "1f81833167254ef09825997287fd34b2",
       "version_major": 2,
       "version_minor": 0
      },
      "text/plain": [
       "Observables processed:   0%|          | 0/2 [00:00<?, ?obs/s]"
      ]
     },
     "metadata": {},
     "output_type": "display_data"
    },
    {
     "ename": "KeyError",
     "evalue": "None",
     "output_type": "error",
     "traceback": [
      "\u001b[1;31m---------------------------------------------------------------------------\u001b[0m",
      "\u001b[1;31mKeyError\u001b[0m                                  Traceback (most recent call last)",
      "File \u001b[1;32mc:\\WEDCVisualStudio\\Jupyter Notebooks\\Azure-Sentinel-Notebooks\\.venv\\lib\\site-packages\\pandas\\core\\indexes\\base.py:3800\u001b[0m, in \u001b[0;36mIndex.get_loc\u001b[1;34m(self, key, method, tolerance)\u001b[0m\n\u001b[0;32m   3799\u001b[0m \u001b[39mtry\u001b[39;00m:\n\u001b[1;32m-> 3800\u001b[0m     \u001b[39mreturn\u001b[39;00m \u001b[39mself\u001b[39;49m\u001b[39m.\u001b[39;49m_engine\u001b[39m.\u001b[39;49mget_loc(casted_key)\n\u001b[0;32m   3801\u001b[0m \u001b[39mexcept\u001b[39;00m \u001b[39mKeyError\u001b[39;00m \u001b[39mas\u001b[39;00m err:\n",
      "File \u001b[1;32mc:\\WEDCVisualStudio\\Jupyter Notebooks\\Azure-Sentinel-Notebooks\\.venv\\lib\\site-packages\\pandas\\_libs\\index.pyx:138\u001b[0m, in \u001b[0;36mpandas._libs.index.IndexEngine.get_loc\u001b[1;34m()\u001b[0m\n",
      "File \u001b[1;32mc:\\WEDCVisualStudio\\Jupyter Notebooks\\Azure-Sentinel-Notebooks\\.venv\\lib\\site-packages\\pandas\\_libs\\index.pyx:165\u001b[0m, in \u001b[0;36mpandas._libs.index.IndexEngine.get_loc\u001b[1;34m()\u001b[0m\n",
      "File \u001b[1;32mpandas\\_libs\\hashtable_class_helper.pxi:5745\u001b[0m, in \u001b[0;36mpandas._libs.hashtable.PyObjectHashTable.get_item\u001b[1;34m()\u001b[0m\n",
      "File \u001b[1;32mpandas\\_libs\\hashtable_class_helper.pxi:5753\u001b[0m, in \u001b[0;36mpandas._libs.hashtable.PyObjectHashTable.get_item\u001b[1;34m()\u001b[0m\n",
      "\u001b[1;31mKeyError\u001b[0m: None",
      "\nThe above exception was the direct cause of the following exception:\n",
      "\u001b[1;31mKeyError\u001b[0m                                  Traceback (most recent call last)",
      "\u001b[1;32mc:\\WEDCVisualStudio\\Jupyter Notebooks\\Azure-Sentinel-Notebooks\\Entity Explorer - Domain and URL.ipynb Cell 17\u001b[0m in \u001b[0;36m5\n\u001b[0;32m      <a href='vscode-notebook-cell:/c%3A/WEDCVisualStudio/Jupyter%20Notebooks/Azure-Sentinel-Notebooks/Entity%20Explorer%20-%20Domain%20and%20URL.ipynb#X21sZmlsZQ%3D%3D?line=2'>3</a>\u001b[0m \u001b[39m##url_test = nb.nblts.azsent.url.URLSummary\u001b[39;00m\n\u001b[0;32m      <a href='vscode-notebook-cell:/c%3A/WEDCVisualStudio/Jupyter%20Notebooks/Azure-Sentinel-Notebooks/Entity%20Explorer%20-%20Domain%20and%20URL.ipynb#X21sZmlsZQ%3D%3D?line=3'>4</a>\u001b[0m nb\u001b[39m.\u001b[39minit()\n\u001b[1;32m----> <a href='vscode-notebook-cell:/c%3A/WEDCVisualStudio/Jupyter%20Notebooks/Azure-Sentinel-Notebooks/Entity%20Explorer%20-%20Domain%20and%20URL.ipynb#X21sZmlsZQ%3D%3D?line=4'>5</a>\u001b[0m url_result \u001b[39m=\u001b[39m url_nb\u001b[39m.\u001b[39;49mrun(value\u001b[39m=\u001b[39;49murl_txt, timespan\u001b[39m=\u001b[39;49mqry_prov\u001b[39m.\u001b[39;49mquery_time\u001b[39m.\u001b[39;49mtimespan)\n\u001b[0;32m      <a href='vscode-notebook-cell:/c%3A/WEDCVisualStudio/Jupyter%20Notebooks/Azure-Sentinel-Notebooks/Entity%20Explorer%20-%20Domain%20and%20URL.ipynb#X21sZmlsZQ%3D%3D?line=5'>6</a>\u001b[0m \u001b[39mprint\u001b[39m(url_result)\n",
      "File \u001b[1;32mc:\\WEDCVisualStudio\\Jupyter Notebooks\\Azure-Sentinel-Notebooks\\.venv\\lib\\site-packages\\msticnb\\common.py:198\u001b[0m, in \u001b[0;36mset_text.<locals>.text_wrapper.<locals>.print_text\u001b[1;34m(*args, **kwargs)\u001b[0m\n\u001b[0;32m    196\u001b[0m             display(HTML(\u001b[39mf\u001b[39m\u001b[39m\"\u001b[39m\u001b[39m<br><b>\u001b[39m\u001b[39m{\u001b[39;00msec_title\u001b[39m}\u001b[39;00m\u001b[39m</b><br>\u001b[39m\u001b[39m\"\u001b[39m))\n\u001b[0;32m    197\u001b[0m             display(HTML(content\u001b[39m.\u001b[39mreplace(\u001b[39m\"\u001b[39m\u001b[39m\\n\u001b[39;00m\u001b[39m\"\u001b[39m, \u001b[39m\"\u001b[39m\u001b[39m<br>\u001b[39m\u001b[39m\"\u001b[39m)))\n\u001b[1;32m--> 198\u001b[0m \u001b[39mreturn\u001b[39;00m func(\u001b[39m*\u001b[39margs, \u001b[39m*\u001b[39m\u001b[39m*\u001b[39mkwargs)\n",
      "File \u001b[1;32mc:\\WEDCVisualStudio\\Jupyter Notebooks\\Azure-Sentinel-Notebooks\\.venv\\lib\\site-packages\\msticnb\\nb\\azsent\\url\\url_summary.py:178\u001b[0m, in \u001b[0;36mURLSummary.run\u001b[1;34m(self, value, data, timespan, options, **kwargs)\u001b[0m\n\u001b[0;32m    176\u001b[0m \u001b[39melse\u001b[39;00m:\n\u001b[0;32m    177\u001b[0m     \u001b[39mraise\u001b[39;00m MsticnbDataProviderError(\u001b[39m\"\u001b[39m\u001b[39mNo TI providers avaliable\u001b[39m\u001b[39m\"\u001b[39m)\n\u001b[1;32m--> 178\u001b[0m ti_results, ti_results_merged \u001b[39m=\u001b[39m get_ti_results(\n\u001b[0;32m    179\u001b[0m     ti_prov, result\u001b[39m.\u001b[39;49msummary, \u001b[39m\"\u001b[39;49m\u001b[39mURL\u001b[39;49m\u001b[39m\"\u001b[39;49m\n\u001b[0;32m    180\u001b[0m )\n\u001b[0;32m    181\u001b[0m \u001b[39mif\u001b[39;00m \u001b[39misinstance\u001b[39m(ti_results, pd\u001b[39m.\u001b[39mDataFrame) \u001b[39mand\u001b[39;00m \u001b[39mnot\u001b[39;00m ti_results\u001b[39m.\u001b[39mempty:\n\u001b[0;32m    182\u001b[0m     result\u001b[39m.\u001b[39mti_results \u001b[39m=\u001b[39m ti_results_merged\n",
      "File \u001b[1;32mc:\\WEDCVisualStudio\\Jupyter Notebooks\\Azure-Sentinel-Notebooks\\.venv\\lib\\site-packages\\msticnb\\nblib\\ti.py:45\u001b[0m, in \u001b[0;36mget_ti_results\u001b[1;34m(ti_lookup, data, col)\u001b[0m\n\u001b[0;32m     43\u001b[0m iocs \u001b[39m=\u001b[39m data[col]\u001b[39m.\u001b[39mdropna()\u001b[39m.\u001b[39munique()\n\u001b[0;32m     44\u001b[0m nb_markdown(\u001b[39mf\u001b[39m\u001b[39m\"\u001b[39m\u001b[39mQuerying TI for \u001b[39m\u001b[39m{\u001b[39;00m\u001b[39mlen\u001b[39m(iocs)\u001b[39m}\u001b[39;00m\u001b[39m indicators...\u001b[39m\u001b[39m\"\u001b[39m)\n\u001b[1;32m---> 45\u001b[0m ti_results \u001b[39m=\u001b[39m ti_lookup\u001b[39m.\u001b[39;49mlookup_iocs(data\u001b[39m=\u001b[39;49mdata, obs_col\u001b[39m=\u001b[39;49mcol)\n\u001b[0;32m     46\u001b[0m \u001b[39mif\u001b[39;00m \u001b[39misinstance\u001b[39m(ti_results, pd\u001b[39m.\u001b[39mDataFrame) \u001b[39mand\u001b[39;00m \u001b[39mnot\u001b[39;00m ti_results\u001b[39m.\u001b[39mempty:\n\u001b[0;32m     47\u001b[0m     ti_results \u001b[39m=\u001b[39m ti_results[ti_results[\u001b[39m\"\u001b[39m\u001b[39mSeverity\u001b[39m\u001b[39m\"\u001b[39m]\u001b[39m.\u001b[39misin([\u001b[39m\"\u001b[39m\u001b[39mwarning\u001b[39m\u001b[39m\"\u001b[39m, \u001b[39m\"\u001b[39m\u001b[39mhigh\u001b[39m\u001b[39m\"\u001b[39m])]\n",
      "File \u001b[1;32mc:\\WEDCVisualStudio\\Jupyter Notebooks\\Azure-Sentinel-Notebooks\\.venv\\lib\\site-packages\\msticpy\\context\\tilookup.py:148\u001b[0m, in \u001b[0;36mTILookup.lookup_iocs\u001b[1;34m(self, data, ioc_col, ioc_type_col, ioc_query_type, providers, default_providers, prov_scope, **kwargs)\u001b[0m\n\u001b[0;32m    103\u001b[0m \u001b[39mdef\u001b[39;00m \u001b[39mlookup_iocs\u001b[39m(\n\u001b[0;32m    104\u001b[0m     \u001b[39mself\u001b[39m,\n\u001b[0;32m    105\u001b[0m     data: Union[pd\u001b[39m.\u001b[39mDataFrame, Mapping[\u001b[39mstr\u001b[39m, \u001b[39mstr\u001b[39m], Iterable[\u001b[39mstr\u001b[39m]],\n\u001b[1;32m   (...)\u001b[0m\n\u001b[0;32m    112\u001b[0m     \u001b[39m*\u001b[39m\u001b[39m*\u001b[39mkwargs,\n\u001b[0;32m    113\u001b[0m ) \u001b[39m-\u001b[39m\u001b[39m>\u001b[39m pd\u001b[39m.\u001b[39mDataFrame:\n\u001b[0;32m    114\u001b[0m     \u001b[39m\"\"\"\u001b[39;00m\n\u001b[0;32m    115\u001b[0m \u001b[39m    Lookup a collection of IoCs.\u001b[39;00m\n\u001b[0;32m    116\u001b[0m \n\u001b[1;32m   (...)\u001b[0m\n\u001b[0;32m    146\u001b[0m \n\u001b[0;32m    147\u001b[0m \u001b[39m    \"\"\"\u001b[39;00m\n\u001b[1;32m--> 148\u001b[0m     \u001b[39mreturn\u001b[39;00m _make_sync(\n\u001b[0;32m    149\u001b[0m         \u001b[39mself\u001b[39;49m\u001b[39m.\u001b[39;49m_lookup_iocs_async(\n\u001b[0;32m    150\u001b[0m             data\u001b[39m=\u001b[39;49mdata,\n\u001b[0;32m    151\u001b[0m             ioc_col\u001b[39m=\u001b[39;49mioc_col,\n\u001b[0;32m    152\u001b[0m             ioc_type_col\u001b[39m=\u001b[39;49mioc_type_col,\n\u001b[0;32m    153\u001b[0m             ioc_query_type\u001b[39m=\u001b[39;49mioc_query_type,\n\u001b[0;32m    154\u001b[0m             providers\u001b[39m=\u001b[39;49mproviders,\n\u001b[0;32m    155\u001b[0m             default_providers\u001b[39m=\u001b[39;49mdefault_providers,\n\u001b[0;32m    156\u001b[0m             prov_scope\u001b[39m=\u001b[39;49mprov_scope,\n\u001b[0;32m    157\u001b[0m             \u001b[39m*\u001b[39;49m\u001b[39m*\u001b[39;49mkwargs,\n\u001b[0;32m    158\u001b[0m         )\n\u001b[0;32m    159\u001b[0m     )\n",
      "File \u001b[1;32mc:\\WEDCVisualStudio\\Jupyter Notebooks\\Azure-Sentinel-Notebooks\\.venv\\lib\\site-packages\\msticpy\\context\\provider_base.py:478\u001b[0m, in \u001b[0;36m_make_sync\u001b[1;34m(future)\u001b[0m\n\u001b[0;32m    476\u001b[0m     event_loop \u001b[39m=\u001b[39m asyncio\u001b[39m.\u001b[39mnew_event_loop()\n\u001b[0;32m    477\u001b[0m     asyncio\u001b[39m.\u001b[39mset_event_loop(event_loop)\n\u001b[1;32m--> 478\u001b[0m \u001b[39mreturn\u001b[39;00m event_loop\u001b[39m.\u001b[39;49mrun_until_complete(future)\n",
      "File \u001b[1;32mc:\\WEDCVisualStudio\\Jupyter Notebooks\\Azure-Sentinel-Notebooks\\.venv\\lib\\site-packages\\nest_asyncio.py:90\u001b[0m, in \u001b[0;36m_patch_loop.<locals>.run_until_complete\u001b[1;34m(self, future)\u001b[0m\n\u001b[0;32m     87\u001b[0m \u001b[39mif\u001b[39;00m \u001b[39mnot\u001b[39;00m f\u001b[39m.\u001b[39mdone():\n\u001b[0;32m     88\u001b[0m     \u001b[39mraise\u001b[39;00m \u001b[39mRuntimeError\u001b[39;00m(\n\u001b[0;32m     89\u001b[0m         \u001b[39m'\u001b[39m\u001b[39mEvent loop stopped before Future completed.\u001b[39m\u001b[39m'\u001b[39m)\n\u001b[1;32m---> 90\u001b[0m \u001b[39mreturn\u001b[39;00m f\u001b[39m.\u001b[39;49mresult()\n",
      "File \u001b[1;32mC:\\Program Files\\Python39\\lib\\asyncio\\futures.py:201\u001b[0m, in \u001b[0;36mFuture.result\u001b[1;34m(self)\u001b[0m\n\u001b[0;32m    199\u001b[0m \u001b[39mself\u001b[39m\u001b[39m.\u001b[39m__log_traceback \u001b[39m=\u001b[39m \u001b[39mFalse\u001b[39;00m\n\u001b[0;32m    200\u001b[0m \u001b[39mif\u001b[39;00m \u001b[39mself\u001b[39m\u001b[39m.\u001b[39m_exception \u001b[39mis\u001b[39;00m \u001b[39mnot\u001b[39;00m \u001b[39mNone\u001b[39;00m:\n\u001b[1;32m--> 201\u001b[0m     \u001b[39mraise\u001b[39;00m \u001b[39mself\u001b[39m\u001b[39m.\u001b[39m_exception\n\u001b[0;32m    202\u001b[0m \u001b[39mreturn\u001b[39;00m \u001b[39mself\u001b[39m\u001b[39m.\u001b[39m_result\n",
      "File \u001b[1;32mC:\\Program Files\\Python39\\lib\\asyncio\\tasks.py:258\u001b[0m, in \u001b[0;36mTask.__step\u001b[1;34m(***failed resolving arguments***)\u001b[0m\n\u001b[0;32m    256\u001b[0m         result \u001b[39m=\u001b[39m coro\u001b[39m.\u001b[39msend(\u001b[39mNone\u001b[39;00m)\n\u001b[0;32m    257\u001b[0m     \u001b[39melse\u001b[39;00m:\n\u001b[1;32m--> 258\u001b[0m         result \u001b[39m=\u001b[39m coro\u001b[39m.\u001b[39;49mthrow(exc)\n\u001b[0;32m    259\u001b[0m \u001b[39mexcept\u001b[39;00m \u001b[39mStopIteration\u001b[39;00m \u001b[39mas\u001b[39;00m exc:\n\u001b[0;32m    260\u001b[0m     \u001b[39mif\u001b[39;00m \u001b[39mself\u001b[39m\u001b[39m.\u001b[39m_must_cancel:\n\u001b[0;32m    261\u001b[0m         \u001b[39m# Task is cancelled right before coro stops.\u001b[39;00m\n",
      "File \u001b[1;32mc:\\WEDCVisualStudio\\Jupyter Notebooks\\Azure-Sentinel-Notebooks\\.venv\\lib\\site-packages\\msticpy\\context\\tilookup.py:174\u001b[0m, in \u001b[0;36mTILookup._lookup_iocs_async\u001b[1;34m(self, data, ioc_col, ioc_type_col, ioc_query_type, providers, default_providers, prov_scope, **kwargs)\u001b[0m\n\u001b[0;32m    162\u001b[0m \u001b[39masync\u001b[39;00m \u001b[39mdef\u001b[39;00m \u001b[39m_lookup_iocs_async\u001b[39m(\n\u001b[0;32m    163\u001b[0m     \u001b[39mself\u001b[39m,\n\u001b[0;32m    164\u001b[0m     data: Union[pd\u001b[39m.\u001b[39mDataFrame, Mapping[\u001b[39mstr\u001b[39m, \u001b[39mstr\u001b[39m], Iterable[\u001b[39mstr\u001b[39m]],\n\u001b[1;32m   (...)\u001b[0m\n\u001b[0;32m    171\u001b[0m     \u001b[39m*\u001b[39m\u001b[39m*\u001b[39mkwargs,\n\u001b[0;32m    172\u001b[0m ) \u001b[39m-\u001b[39m\u001b[39m>\u001b[39m pd\u001b[39m.\u001b[39mDataFrame:\n\u001b[0;32m    173\u001b[0m     \u001b[39m\"\"\"Lookup IoCs async.\"\"\"\u001b[39;00m\n\u001b[1;32m--> 174\u001b[0m     \u001b[39mreturn\u001b[39;00m \u001b[39mawait\u001b[39;00m \u001b[39mself\u001b[39m\u001b[39m.\u001b[39m_lookup_items_async(\n\u001b[0;32m    175\u001b[0m         data,\n\u001b[0;32m    176\u001b[0m         item_col\u001b[39m=\u001b[39mioc_col,\n\u001b[0;32m    177\u001b[0m         item_type_col\u001b[39m=\u001b[39mioc_type_col,\n\u001b[0;32m    178\u001b[0m         ioc_query_type\u001b[39m=\u001b[39mioc_query_type,\n\u001b[0;32m    179\u001b[0m         providers\u001b[39m=\u001b[39mproviders,\n\u001b[0;32m    180\u001b[0m         default_providers\u001b[39m=\u001b[39mdefault_providers,\n\u001b[0;32m    181\u001b[0m         prov_scope\u001b[39m=\u001b[39mprov_scope,\n\u001b[0;32m    182\u001b[0m         \u001b[39m*\u001b[39m\u001b[39m*\u001b[39mkwargs,\n\u001b[0;32m    183\u001b[0m     )\n",
      "File \u001b[1;32mc:\\WEDCVisualStudio\\Jupyter Notebooks\\Azure-Sentinel-Notebooks\\.venv\\lib\\site-packages\\msticpy\\context\\lookup.py:510\u001b[0m, in \u001b[0;36mLookup._lookup_items_async\u001b[1;34m(self, data, item_col, item_type_col, query_type, providers, default_providers, prov_scope, **kwargs)\u001b[0m\n\u001b[0;32m    508\u001b[0m     prog_task \u001b[39m=\u001b[39m event_loop\u001b[39m.\u001b[39mcreate_task(\u001b[39mself\u001b[39m\u001b[39m.\u001b[39m_track_completion(prog_counter))\n\u001b[0;32m    509\u001b[0m \u001b[39m# collect the return values of the tasks\u001b[39;00m\n\u001b[1;32m--> 510\u001b[0m results \u001b[39m=\u001b[39m \u001b[39mawait\u001b[39;00m asyncio\u001b[39m.\u001b[39mgather(\u001b[39m*\u001b[39mresult_futures)\n\u001b[0;32m    511\u001b[0m \u001b[39m# cancel the progress task if results have completed.\u001b[39;00m\n\u001b[0;32m    512\u001b[0m prog_task\u001b[39m.\u001b[39mcancel()\n",
      "File \u001b[1;32mC:\\Program Files\\Python39\\lib\\asyncio\\tasks.py:328\u001b[0m, in \u001b[0;36mTask.__wakeup\u001b[1;34m(self, future)\u001b[0m\n\u001b[0;32m    326\u001b[0m \u001b[39mdef\u001b[39;00m \u001b[39m__wakeup\u001b[39m(\u001b[39mself\u001b[39m, future):\n\u001b[0;32m    327\u001b[0m     \u001b[39mtry\u001b[39;00m:\n\u001b[1;32m--> 328\u001b[0m         future\u001b[39m.\u001b[39;49mresult()\n\u001b[0;32m    329\u001b[0m     \u001b[39mexcept\u001b[39;00m \u001b[39mBaseException\u001b[39;00m \u001b[39mas\u001b[39;00m exc:\n\u001b[0;32m    330\u001b[0m         \u001b[39m# This may also be a cancellation.\u001b[39;00m\n\u001b[0;32m    331\u001b[0m         \u001b[39mself\u001b[39m\u001b[39m.\u001b[39m__step(exc)\n",
      "File \u001b[1;32mC:\\Program Files\\Python39\\lib\\asyncio\\tasks.py:256\u001b[0m, in \u001b[0;36mTask.__step\u001b[1;34m(***failed resolving arguments***)\u001b[0m\n\u001b[0;32m    252\u001b[0m \u001b[39mtry\u001b[39;00m:\n\u001b[0;32m    253\u001b[0m     \u001b[39mif\u001b[39;00m exc \u001b[39mis\u001b[39;00m \u001b[39mNone\u001b[39;00m:\n\u001b[0;32m    254\u001b[0m         \u001b[39m# We use the `send` method directly, because coroutines\u001b[39;00m\n\u001b[0;32m    255\u001b[0m         \u001b[39m# don't have `__iter__` and `__next__` methods.\u001b[39;00m\n\u001b[1;32m--> 256\u001b[0m         result \u001b[39m=\u001b[39m coro\u001b[39m.\u001b[39;49msend(\u001b[39mNone\u001b[39;49;00m)\n\u001b[0;32m    257\u001b[0m     \u001b[39melse\u001b[39;00m:\n\u001b[0;32m    258\u001b[0m         result \u001b[39m=\u001b[39m coro\u001b[39m.\u001b[39mthrow(exc)\n",
      "File \u001b[1;32mc:\\WEDCVisualStudio\\Jupyter Notebooks\\Azure-Sentinel-Notebooks\\.venv\\lib\\site-packages\\msticpy\\context\\provider_base.py:239\u001b[0m, in \u001b[0;36mProvider.lookup_items_async\u001b[1;34m(self, data, item_col, item_type_col, query_type, **kwargs)\u001b[0m\n\u001b[0;32m    237\u001b[0m results \u001b[39m=\u001b[39m []\n\u001b[0;32m    238\u001b[0m prog_counter \u001b[39m=\u001b[39m kwargs\u001b[39m.\u001b[39mpop(\u001b[39m\"\u001b[39m\u001b[39mprog_counter\u001b[39m\u001b[39m\"\u001b[39m, \u001b[39mNone\u001b[39;00m)\n\u001b[1;32m--> 239\u001b[0m \u001b[39mfor\u001b[39;00m item, item_type \u001b[39min\u001b[39;00m generate_items(data, item_col, item_type_col):\n\u001b[0;32m    240\u001b[0m     item_type \u001b[39m=\u001b[39m kwargs\u001b[39m.\u001b[39mpop(\u001b[39m\"\u001b[39m\u001b[39mitem_type\u001b[39m\u001b[39m\"\u001b[39m, item_type)\n\u001b[0;32m    241\u001b[0m     \u001b[39mif\u001b[39;00m \u001b[39mnot\u001b[39;00m item:\n",
      "File \u001b[1;32mc:\\WEDCVisualStudio\\Jupyter Notebooks\\Azure-Sentinel-Notebooks\\.venv\\lib\\site-packages\\msticpy\\context\\provider_base.py:456\u001b[0m, in \u001b[0;36m_\u001b[1;34m(data, item_col, item_type_col)\u001b[0m\n\u001b[0;32m    454\u001b[0m \u001b[39mfor\u001b[39;00m _, row \u001b[39min\u001b[39;00m data\u001b[39m.\u001b[39miterrows():\n\u001b[0;32m    455\u001b[0m     \u001b[39mif\u001b[39;00m item_type_col \u001b[39mis\u001b[39;00m \u001b[39mNone\u001b[39;00m:\n\u001b[1;32m--> 456\u001b[0m         \u001b[39myield\u001b[39;00m row[item_col], Provider\u001b[39m.\u001b[39mresolve_item_type(row[item_col])\n\u001b[0;32m    457\u001b[0m     \u001b[39melse\u001b[39;00m:\n\u001b[0;32m    458\u001b[0m         \u001b[39myield\u001b[39;00m row[item_col], row[item_type_col]\n",
      "File \u001b[1;32mc:\\WEDCVisualStudio\\Jupyter Notebooks\\Azure-Sentinel-Notebooks\\.venv\\lib\\site-packages\\pandas\\core\\series.py:982\u001b[0m, in \u001b[0;36mSeries.__getitem__\u001b[1;34m(self, key)\u001b[0m\n\u001b[0;32m    979\u001b[0m     \u001b[39mreturn\u001b[39;00m \u001b[39mself\u001b[39m\u001b[39m.\u001b[39m_values[key]\n\u001b[0;32m    981\u001b[0m \u001b[39melif\u001b[39;00m key_is_scalar:\n\u001b[1;32m--> 982\u001b[0m     \u001b[39mreturn\u001b[39;00m \u001b[39mself\u001b[39;49m\u001b[39m.\u001b[39;49m_get_value(key)\n\u001b[0;32m    984\u001b[0m \u001b[39mif\u001b[39;00m is_hashable(key):\n\u001b[0;32m    985\u001b[0m     \u001b[39m# Otherwise index.get_value will raise InvalidIndexError\u001b[39;00m\n\u001b[0;32m    986\u001b[0m     \u001b[39mtry\u001b[39;00m:\n\u001b[0;32m    987\u001b[0m         \u001b[39m# For labels that don't resolve as scalars like tuples and frozensets\u001b[39;00m\n",
      "File \u001b[1;32mc:\\WEDCVisualStudio\\Jupyter Notebooks\\Azure-Sentinel-Notebooks\\.venv\\lib\\site-packages\\pandas\\core\\series.py:1092\u001b[0m, in \u001b[0;36mSeries._get_value\u001b[1;34m(self, label, takeable)\u001b[0m\n\u001b[0;32m   1089\u001b[0m     \u001b[39mreturn\u001b[39;00m \u001b[39mself\u001b[39m\u001b[39m.\u001b[39m_values[label]\n\u001b[0;32m   1091\u001b[0m \u001b[39m# Similar to Index.get_value, but we do not fall back to positional\u001b[39;00m\n\u001b[1;32m-> 1092\u001b[0m loc \u001b[39m=\u001b[39m \u001b[39mself\u001b[39;49m\u001b[39m.\u001b[39;49mindex\u001b[39m.\u001b[39;49mget_loc(label)\n\u001b[0;32m   1093\u001b[0m \u001b[39mreturn\u001b[39;00m \u001b[39mself\u001b[39m\u001b[39m.\u001b[39mindex\u001b[39m.\u001b[39m_get_values_for_loc(\u001b[39mself\u001b[39m, loc, label)\n",
      "File \u001b[1;32mc:\\WEDCVisualStudio\\Jupyter Notebooks\\Azure-Sentinel-Notebooks\\.venv\\lib\\site-packages\\pandas\\core\\indexes\\base.py:3802\u001b[0m, in \u001b[0;36mIndex.get_loc\u001b[1;34m(self, key, method, tolerance)\u001b[0m\n\u001b[0;32m   3800\u001b[0m     \u001b[39mreturn\u001b[39;00m \u001b[39mself\u001b[39m\u001b[39m.\u001b[39m_engine\u001b[39m.\u001b[39mget_loc(casted_key)\n\u001b[0;32m   3801\u001b[0m \u001b[39mexcept\u001b[39;00m \u001b[39mKeyError\u001b[39;00m \u001b[39mas\u001b[39;00m err:\n\u001b[1;32m-> 3802\u001b[0m     \u001b[39mraise\u001b[39;00m \u001b[39mKeyError\u001b[39;00m(key) \u001b[39mfrom\u001b[39;00m \u001b[39merr\u001b[39;00m\n\u001b[0;32m   3803\u001b[0m \u001b[39mexcept\u001b[39;00m \u001b[39mTypeError\u001b[39;00m:\n\u001b[0;32m   3804\u001b[0m     \u001b[39m# If we have a listlike key, _check_indexing_error will raise\u001b[39;00m\n\u001b[0;32m   3805\u001b[0m     \u001b[39m#  InvalidIndexError. Otherwise we fall through and re-raise\u001b[39;00m\n\u001b[0;32m   3806\u001b[0m     \u001b[39m#  the TypeError.\u001b[39;00m\n\u001b[0;32m   3807\u001b[0m     \u001b[39mself\u001b[39m\u001b[39m.\u001b[39m_check_indexing_error(key)\n",
      "\u001b[1;31mKeyError\u001b[0m: None"
     ]
    }
   ],
   "source": [
    "#print(url_txt)\n",
    "url_nb = nb.nblts.azsent.url.URLSummary()\n",
    "##url_test = nb.nblts.azsent.url.URLSummary\n",
    "nb.init()\n",
    "url_result = url_nb.run(value=url_txt, timespan=qry_prov.query_time.timespan)\n",
    "print(url_result)\n"
   ]
  },
  {
   "cell_type": "code",
   "execution_count": 44,
   "metadata": {},
   "outputs": [
    {
     "ename": "AttributeError",
     "evalue": "'dict' object has no attribute 'DataProviders'",
     "output_type": "error",
     "traceback": [
      "\u001b[1;31m---------------------------------------------------------------------------\u001b[0m",
      "\u001b[1;31mAttributeError\u001b[0m                            Traceback (most recent call last)",
      "\u001b[1;32mc:\\WEDCVisualStudio\\Jupyter Notebooks\\Azure-Sentinel-Notebooks\\Entity Explorer - Domain and URL.ipynb Cell 18\u001b[0m in \u001b[0;36m1\n\u001b[1;32m----> <a href='vscode-notebook-cell:/c%3A/WEDCVisualStudio/Jupyter%20Notebooks/Azure-Sentinel-Notebooks/Entity%20Explorer%20-%20Domain%20and%20URL.ipynb#X42sZmlsZQ%3D%3D?line=0'>1</a>\u001b[0m nb\u001b[39m.\u001b[39mnblts\u001b[39m.\u001b[39mazsent\u001b[39m.\u001b[39murl\u001b[39m.\u001b[39mURLSummary(data_providers\u001b[39m=\u001b[39mnb\u001b[39m.\u001b[39;49mdata_providers\u001b[39m.\u001b[39;49mDataProviders)\n",
      "\u001b[1;31mAttributeError\u001b[0m: 'dict' object has no attribute 'DataProviders'"
     ]
    }
   ],
   "source": [
    "nb.nblts.azsent.url.URLSummary(data_providers=nb.data_providers.DataProviders)"
   ]
  },
  {
   "cell_type": "code",
   "execution_count": 42,
   "metadata": {},
   "outputs": [
    {
     "name": "stdout",
     "output_type": "stream",
     "text": [
      "Help on class URLSummary in module msticnb.nb.azsent.url.url_summary:\n",
      "\n",
      "class URLSummary(msticnb.notebooklet.Notebooklet)\n",
      " |  URLSummary(data_providers: Optional[<msticnb.data_providers.SingletonDecorator object at 0x0000018AD23596A0>] = None, **kwargs)\n",
      " |  \n",
      " |  URLSummary Notebooklet class.\n",
      " |  \n",
      " |  Queries and displays information about a URL including:\n",
      " |  \n",
      " |  - Overview of URL and Domain\n",
      " |  - Related alerts\n",
      " |  - TI results\n",
      " |  \n",
      " |  \n",
      " |  Default Options\n",
      " |  ---------------\n",
      " |  - ti: Displays TI results for the URL.\n",
      " |  - whois: Display a summary of the URL.\n",
      " |  - ip_record: Display a summary of the IP address the URL resolves to.\n",
      " |  - cert: Display a summary of TLS certs used by the URL.\n",
      " |  - alerts: Displays a DataFrame of all alerts associated with the URL.\n",
      " |  - bookmarks: Displays a DataFrame of all bookmarks associated with the URL.\n",
      " |  - dns: Displays a DataFrame of all DNS events associated with the URL.\n",
      " |  - hosts: Displays a DataFrame of all hosts associated with the URL.\n",
      " |  \n",
      " |  Other Options\n",
      " |  -------------\n",
      " |  - screenshot: Capture a screenshot of the website using Browshot\n",
      " |  \n",
      " |  Method resolution order:\n",
      " |      URLSummary\n",
      " |      msticnb.notebooklet.Notebooklet\n",
      " |      abc.ABC\n",
      " |      builtins.object\n",
      " |  \n",
      " |  Methods defined here:\n",
      " |  \n",
      " |  browse_alerts(self) -> msticpy.nbwidgets.select_alert.SelectAlert\n",
      " |      Return alert browser/viewer.\n",
      " |  \n",
      " |  display_alert_timeline(self)\n",
      " |      Display the alert timeline.\n",
      " |  \n",
      " |  run(self, value: Any = None, data: Optional[pandas.core.frame.DataFrame] = None, timespan: Optional[msticpy.common.timespan.TimeSpan] = None, options: Optional[Iterable[str]] = None, **kwargs) -> msticnb.nb.azsent.url.url_summary.URLSummaryResult\n",
      " |      Return host summary data.\n",
      " |      \n",
      " |      Parameters\n",
      " |      ----------\n",
      " |      value : str\n",
      " |          URL to investigate\n",
      " |      data : Optional[pd.DataFrame], optional\n",
      " |          Not used, by default None\n",
      " |      timespan : TimeSpan\n",
      " |          Timespan over which operations such as queries will be\n",
      " |          performed, by default None.\n",
      " |          This can be a TimeStamp object or another object that\n",
      " |          has valid `start`, `end`, or `period` attributes.\n",
      " |      options : Optional[Iterable[str]], optional\n",
      " |          List of options to use, by default None\n",
      " |          A value of None means use default options.\n",
      " |          Options prefixed with \"+\" will be added to the default options.\n",
      " |          To see the list of available options type `help(cls)` where\n",
      " |          \"cls\" is the notebooklet class or an instance of this class.\n",
      " |      \n",
      " |      Other Parameters\n",
      " |      ----------------\n",
      " |      start : Union[datetime, datelike-string]\n",
      " |          Alternative to specifying timespan parameter.\n",
      " |      end : Union[datetime, datelike-string]\n",
      " |          Alternative to specifying timespan parameter.\n",
      " |      \n",
      " |      Returns\n",
      " |      -------\n",
      " |      URLSummaryResult\n",
      " |          Result object with attributes for each result type.\n",
      " |      \n",
      " |      Raises\n",
      " |      ------\n",
      " |      MsticnbMissingParameterError\n",
      " |          If required parameters are missing\n",
      " |      \n",
      " |          \n",
      " |      Default Options\n",
      " |      ---------------\n",
      " |      - ti: Displays TI results for the URL.\n",
      " |      - whois: Display a summary of the URL.\n",
      " |      - ip_record: Display a summary of the IP address the URL resolves to.\n",
      " |      - cert: Display a summary of TLS certs used by the URL.\n",
      " |      - alerts: Displays a DataFrame of all alerts associated with the URL.\n",
      " |      - bookmarks: Displays a DataFrame of all bookmarks associated with the URL.\n",
      " |      - dns: Displays a DataFrame of all DNS events associated with the URL.\n",
      " |      - hosts: Displays a DataFrame of all hosts associated with the URL.\n",
      " |      \n",
      " |      Other Options\n",
      " |      -------------\n",
      " |      - screenshot: Capture a screenshot of the website using Browshot\n",
      " |  \n",
      " |  ----------------------------------------------------------------------\n",
      " |  Data and other attributes defined here:\n",
      " |  \n",
      " |  __abstractmethods__ = frozenset()\n",
      " |  \n",
      " |  metadata = NBMetadata(name='URLSummary', mod_name='msticnb....'url'], ...\n",
      " |  \n",
      " |  module_path = WindowsPath('c:/WEDCVisualStudio/Jupyter Noteboo...e-pac...\n",
      " |  \n",
      " |  ----------------------------------------------------------------------\n",
      " |  Methods inherited from msticnb.notebooklet.Notebooklet:\n",
      " |  \n",
      " |  __init__(self, data_providers: Optional[<msticnb.data_providers.SingletonDecorator object at 0x0000018AD23596A0>] = None, **kwargs)\n",
      " |      Initialize a new instance of the notebooklet class.\n",
      " |      \n",
      " |      Parameters\n",
      " |      ----------\n",
      " |      data_providers : DataProviders, Optional\n",
      " |          Optional DataProviders instance to query data.\n",
      " |          Most classes require this.\n",
      " |      \n",
      " |      Raises\n",
      " |      ------\n",
      " |      MsticnbDataProviderError\n",
      " |          If DataProviders has not been initialized.\n",
      " |          If required providers are specified by the notebooklet\n",
      " |          but are not available.\n",
      " |  \n",
      " |  check_table_exists(self, table: str) -> bool\n",
      " |      Check to see if the table exists in the provider.\n",
      " |      \n",
      " |      Parameters\n",
      " |      ----------\n",
      " |      table : str\n",
      " |          Table name\n",
      " |      \n",
      " |      Returns\n",
      " |      -------\n",
      " |      bool\n",
      " |          True if the table exists, otherwise False.\n",
      " |  \n",
      " |  check_valid_result_data(self, attrib: Optional[str] = None, silent: bool = False) -> bool\n",
      " |      Check that the result is valid and `attrib` contains data.\n",
      " |      \n",
      " |      Parameters\n",
      " |      ----------\n",
      " |      attrib : str\n",
      " |          Name of the attribute to check, if None this function\n",
      " |          only checks for a valid _last_result.\n",
      " |      silent : bool\n",
      " |          If True, suppress output.\n",
      " |      \n",
      " |      Returns\n",
      " |      -------\n",
      " |      bool\n",
      " |          Returns True if valid data is available, else False.\n",
      " |  \n",
      " |  get_methods(self) -> Dict[str, Callable[[Any], Any]]\n",
      " |      Return methods available for this class.\n",
      " |  \n",
      " |  get_pivot_run(self, get_timespan: Callable[[], msticpy.common.timespan.TimeSpan])\n",
      " |      Return Pivot-wrappable run function.\n",
      " |  \n",
      " |  get_provider(self, provider_name: str)\n",
      " |      Return data provider for the specified name.\n",
      " |      \n",
      " |      Parameters\n",
      " |      ----------\n",
      " |      provider_name : str\n",
      " |          Name of the provider\n",
      " |      \n",
      " |      Returns\n",
      " |      -------\n",
      " |      Any\n",
      " |          Provider instance.\n",
      " |      \n",
      " |      Raises\n",
      " |      ------\n",
      " |      MsticnbDataProviderError\n",
      " |          If provider is not found.\n",
      " |  \n",
      " |  list_methods(self) -> List[str]\n",
      " |      Return list of methods with descriptions.\n",
      " |  \n",
      " |  ----------------------------------------------------------------------\n",
      " |  Class methods inherited from msticnb.notebooklet.Notebooklet:\n",
      " |  \n",
      " |  all_options() -> List[str] from abc.ABCMeta\n",
      " |      Return supported options for Notebooklet run function.\n",
      " |      \n",
      " |      Returns\n",
      " |      -------\n",
      " |      List[str]\n",
      " |          Supported options.\n",
      " |  \n",
      " |  default_options() -> List[str] from abc.ABCMeta\n",
      " |      Return default options for Notebooklet run function.\n",
      " |      \n",
      " |      Returns\n",
      " |      -------\n",
      " |      List[str]\n",
      " |          Supported options.\n",
      " |  \n",
      " |  description() -> str from abc.ABCMeta\n",
      " |      Return description of the Notebooklet.\n",
      " |      \n",
      " |      Returns\n",
      " |      -------\n",
      " |      str\n",
      " |          Description\n",
      " |  \n",
      " |  entity_types() -> List[str] from abc.ABCMeta\n",
      " |      Entity types supported by the notebooklet.\n",
      " |      \n",
      " |      Returns\n",
      " |      -------\n",
      " |      List[str]\n",
      " |          Entity names\n",
      " |  \n",
      " |  get_help(fmt='html') -> str from abc.ABCMeta\n",
      " |      Return HTML document for class.\n",
      " |  \n",
      " |  get_settings(print_settings=True) -> Optional[str] from abc.ABCMeta\n",
      " |      Print or return metadata for class.\n",
      " |      \n",
      " |      Parameters\n",
      " |      ----------\n",
      " |      print_settings : bool, optional\n",
      " |          Print to standard, by default True\n",
      " |          or return the str formatted content.\n",
      " |      \n",
      " |      Returns\n",
      " |      -------\n",
      " |      Optional[str]\n",
      " |          If `print_settings` is True, returns None.\n",
      " |          If False, returns LF-delimited string of metadata settings.\n",
      " |      \n",
      " |      Notes\n",
      " |      -----\n",
      " |          Use `metadata` attribute to retrieve the metadata directly.\n",
      " |  \n",
      " |  import_cell() from abc.ABCMeta\n",
      " |      Import the text of this module into a new cell.\n",
      " |  \n",
      " |  keywords() -> List[str] from abc.ABCMeta\n",
      " |      Return search keywords for Notebooklet.\n",
      " |      \n",
      " |      Returns\n",
      " |      -------\n",
      " |      List[str]\n",
      " |          Keywords\n",
      " |  \n",
      " |  list_options() -> str from abc.ABCMeta\n",
      " |      Return options document for Notebooklet run function.\n",
      " |      \n",
      " |      Returns\n",
      " |      -------\n",
      " |      List[str]\n",
      " |          Supported options.\n",
      " |  \n",
      " |  match_terms(search_terms: str) -> Tuple[bool, int] from abc.ABCMeta\n",
      " |      Search class definition for `search_terms`.\n",
      " |      \n",
      " |      Parameters\n",
      " |      ----------\n",
      " |      search_terms : str\n",
      " |          One or more search terms, separated by spaces\n",
      " |          or commas.\n",
      " |          Terms can be simple strings or regular expressions.\n",
      " |      \n",
      " |      Returns\n",
      " |      -------\n",
      " |      Tuple[bool, int]\n",
      " |          Returns a tuple of bool (True if all terms match)\n",
      " |          and int (count of matched terms)\n",
      " |  \n",
      " |  name() -> str from abc.ABCMeta\n",
      " |      Return name of the Notebooklet.\n",
      " |      \n",
      " |      Returns\n",
      " |      -------\n",
      " |      str\n",
      " |          Name\n",
      " |  \n",
      " |  print_options() from abc.ABCMeta\n",
      " |      Print options for Notebooklet run function.\n",
      " |  \n",
      " |  show_help() from abc.ABCMeta\n",
      " |      Display Documentation for class.\n",
      " |  \n",
      " |  ----------------------------------------------------------------------\n",
      " |  Readonly properties inherited from msticnb.notebooklet.Notebooklet:\n",
      " |  \n",
      " |  result\n",
      " |      Return result of the most recent notebooklet run.\n",
      " |      \n",
      " |      Returns\n",
      " |      -------\n",
      " |      Optional[NotebookletResult]\n",
      " |          Notebooklet result class or None if nothing has\n",
      " |          been run.\n",
      " |  \n",
      " |  ----------------------------------------------------------------------\n",
      " |  Data descriptors inherited from msticnb.notebooklet.Notebooklet:\n",
      " |  \n",
      " |  __dict__\n",
      " |      dictionary for instance variables (if defined)\n",
      " |  \n",
      " |  __weakref__\n",
      " |      list of weak references to the object (if defined)\n",
      " |  \n",
      " |  silent\n",
      " |      Get the current instance setting for silent running.\n",
      " |      \n",
      " |      Returns\n",
      " |      -------\n",
      " |      Optional[bool]\n",
      " |          Silent running is enabled.\n",
      " |  \n",
      " |  ----------------------------------------------------------------------\n",
      " |  Data and other attributes inherited from msticnb.notebooklet.Notebooklet:\n",
      " |  \n",
      " |  __annotations__ = {'metadata': <class 'msticnb.nb_metadata.NBMetadata'...\n",
      "\n"
     ]
    }
   ],
   "source": [
    "help(nb.nblts.azsent.url.URLSummary)"
   ]
  },
  {
   "cell_type": "code",
   "execution_count": 39,
   "metadata": {},
   "outputs": [
    {
     "name": "stdout",
     "output_type": "stream",
     "text": [
      "Notebooklets: 11 notebooklets loaded.\n",
      "try_azcli_login=True;enable_add_items_to_help=False\n",
      "{'try_azcli_login': 'True', 'enable_add_items_to_help': 'False'}\n",
      "try_azcli_login=True;enable_add_items_to_help=False\n",
      "Connecting... connected\n",
      "try_azcli_login=True;enable_add_items_to_help=False\n",
      "{'try_azcli_login': 'True', 'enable_add_items_to_help': 'False'}\n",
      "try_azcli_login=True;enable_add_items_to_help=False\n",
      "Notebooklets: Loaded providers: MSSentinel, geolitelookup, tilookup\n"
     ]
    }
   ],
   "source": [
    "#help(nb)\n",
    "nb.init()"
   ]
  },
  {
   "attachments": {},
   "cell_type": "markdown",
   "metadata": {
    "ExecuteTime": {
     "end_time": "2019-09-27T00:28:22.232839Z",
     "start_time": "2019-09-27T00:28:22.229839Z"
    }
   },
   "source": [
    "# The URL in the Environment\n",
    "Once we have determined the nature of the domain or URL under investigation we want to see what the scope of impact is in our environment but identifying any presence of the domain or URL in our datasets.<br>\n",
    "If the domain has a high page rank score it is likely that it will be highly prevalent in a large environment, therefore you may wish to consider whether to run these cells for such a domain due to the data volumes involved."
   ]
  },
  {
   "cell_type": "code",
   "execution_count": 33,
   "metadata": {
    "ExecuteTime": {
     "end_time": "2020-05-15T23:23:46.219660Z",
     "start_time": "2020-05-15T23:23:46.205659Z"
    }
   },
   "outputs": [
    {
     "ename": "NameError",
     "evalue": "name 'url_result' is not defined",
     "output_type": "error",
     "traceback": [
      "\u001b[1;31m---------------------------------------------------------------------------\u001b[0m",
      "\u001b[1;31mNameError\u001b[0m                                 Traceback (most recent call last)",
      "\u001b[1;32mc:\\WEDCVisualStudio\\Jupyter Notebooks\\Azure-Sentinel-Notebooks\\Entity Explorer - Domain and URL.ipynb Cell 19\u001b[0m in \u001b[0;36m1\n\u001b[1;32m----> <a href='vscode-notebook-cell:/c%3A/WEDCVisualStudio/Jupyter%20Notebooks/Azure-Sentinel-Notebooks/Entity%20Explorer%20-%20Domain%20and%20URL.ipynb#X23sZmlsZQ%3D%3D?line=0'>1</a>\u001b[0m \u001b[39mif\u001b[39;00m \u001b[39mnot\u001b[39;00m url_result\u001b[39m.\u001b[39mdns_results\u001b[39m.\u001b[39mempty:\n\u001b[0;32m      <a href='vscode-notebook-cell:/c%3A/WEDCVisualStudio/Jupyter%20Notebooks/Azure-Sentinel-Notebooks/Entity%20Explorer%20-%20Domain%20and%20URL.ipynb#X23sZmlsZQ%3D%3D?line=1'>2</a>\u001b[0m     url_result\u001b[39m.\u001b[39mdns_results\u001b[39m.\u001b[39mmp_plot\u001b[39m.\u001b[39mtimeline(title\u001b[39m=\u001b[39m\u001b[39mf\u001b[39m\u001b[39m\"\u001b[39m\u001b[39mDNS lookup events for \u001b[39m\u001b[39m{\u001b[39;00murl_txt\u001b[39m.\u001b[39mvalue\u001b[39m}\u001b[39;00m\u001b[39m\"\u001b[39m)\n\u001b[0;32m      <a href='vscode-notebook-cell:/c%3A/WEDCVisualStudio/Jupyter%20Notebooks/Azure-Sentinel-Notebooks/Entity%20Explorer%20-%20Domain%20and%20URL.ipynb#X23sZmlsZQ%3D%3D?line=2'>3</a>\u001b[0m \u001b[39melse\u001b[39;00m:\n",
      "\u001b[1;31mNameError\u001b[0m: name 'url_result' is not defined"
     ]
    }
   ],
   "source": [
    "if not url_result.dns_results.empty:\n",
    "    url_result.dns_results.mp_plot.timeline(title=f\"DNS lookup events for {url_txt.value}\")\n",
    "else:\n",
    "    md(f\"No dns events found relating to {url_txt.value}\")"
   ]
  },
  {
   "attachments": {},
   "cell_type": "markdown",
   "metadata": {},
   "source": [
    "## Related Alerts\n",
    "Understanding where a URL has appeared in alerts can help provide context on when a URL was first seen in an environment and its link to malicious activity."
   ]
  },
  {
   "cell_type": "code",
   "execution_count": 34,
   "metadata": {
    "ExecuteTime": {
     "end_time": "2020-05-15T23:24:32.411730Z",
     "start_time": "2020-05-15T23:24:30.075322Z"
    }
   },
   "outputs": [
    {
     "ename": "NameError",
     "evalue": "name 'url_result' is not defined",
     "output_type": "error",
     "traceback": [
      "\u001b[1;31m---------------------------------------------------------------------------\u001b[0m",
      "\u001b[1;31mNameError\u001b[0m                                 Traceback (most recent call last)",
      "\u001b[1;32mc:\\WEDCVisualStudio\\Jupyter Notebooks\\Azure-Sentinel-Notebooks\\Entity Explorer - Domain and URL.ipynb Cell 21\u001b[0m in \u001b[0;36m1\n\u001b[1;32m----> <a href='vscode-notebook-cell:/c%3A/WEDCVisualStudio/Jupyter%20Notebooks/Azure-Sentinel-Notebooks/Entity%20Explorer%20-%20Domain%20and%20URL.ipynb#X25sZmlsZQ%3D%3D?line=0'>1</a>\u001b[0m url_result\u001b[39m.\u001b[39mdisplay_alert_timeline()\n\u001b[0;32m      <a href='vscode-notebook-cell:/c%3A/WEDCVisualStudio/Jupyter%20Notebooks/Azure-Sentinel-Notebooks/Entity%20Explorer%20-%20Domain%20and%20URL.ipynb#X25sZmlsZQ%3D%3D?line=1'>2</a>\u001b[0m url_result\u001b[39m.\u001b[39mbrowse_alerts()\n",
      "\u001b[1;31mNameError\u001b[0m: name 'url_result' is not defined"
     ]
    }
   ],
   "source": [
    "url_result.display_alert_timeline()\n",
    "url_result.browse_alerts()"
   ]
  },
  {
   "attachments": {},
   "cell_type": "markdown",
   "metadata": {},
   "source": [
    "## Related Bookmarks\n",
    "As with alerts, understanding where a URL has appeared in bookmarks can help provide context on when a URL has previously been investigated within an environment."
   ]
  },
  {
   "cell_type": "code",
   "execution_count": null,
   "metadata": {},
   "outputs": [],
   "source": [
    "if not url_result.bookmarks.empty:\n",
    "    url_result.bookmarks.mp_plot.timeline()\n",
    "    display(url_result.bookmarks)\n",
    "else:\n",
    "    md(f\"No bookmarks found relating to {url_txt.value}\")"
   ]
  },
  {
   "attachments": {},
   "cell_type": "markdown",
   "metadata": {},
   "source": [
    "### Hosts Observed Communicating with the URL\n",
    "During the cells executed above we have identified hosts communicating with the URL in question.  This cell provides a summary of these hosts. <br>\n",
    "These hosts are potential candidates for further investigation using Microsoft Sentinel or via the host entity explorer Notebook."
   ]
  },
  {
   "cell_type": "code",
   "execution_count": null,
   "metadata": {
    "ExecuteTime": {
     "end_time": "2020-05-15T23:25:44.248494Z",
     "start_time": "2020-05-15T23:25:44.234496Z"
    }
   },
   "outputs": [],
   "source": [
    "if url_result.hosts:\n",
    "    md(f\"{len(url_result.hosts)} hosts observed connecting with {url_txt.value}\")\n",
    "    for host in url_result.hosts:\n",
    "        md(host)"
   ]
  },
  {
   "attachments": {},
   "cell_type": "markdown",
   "metadata": {},
   "source": [
    "## Additional environment data\n",
    "\n",
    "To dig further into data regarding the URL in the environment there are a number of data sources returned by the URL Summary notebooklet. <br>\n",
    "There are:<br>\n",
    "- `dns_results` : shows DNS lookup events for the domain.\n",
    "- `flows` : network flow logs for connections to the URL. \n",
    "\n",
    "They can be accessed by using `url_result.[data_source]` in the cells below."
   ]
  },
  {
   "attachments": {},
   "cell_type": "markdown",
   "metadata": {},
   "source": [
    "---\n",
    "\n",
    "## Use other notebooklets and pivots functions to drill down on other entities\n",
    "\n",
    "You may want to drill down on other entities in the Host data.\n",
    "You can use methods of the IpAddress or Host entities, for example,\n",
    "to look at these in more detail.\n",
    "\n",
    "Run the ip_address_summary notebooklet pivot\n",
    "```python\n",
    "IpAddress = entities.IpAddress\n",
    "ip_result = IpAddress.nblt.ip_address_summary(\"157.56.162.53\")\n",
    "```\n",
    "\n",
    "View the TI results\n",
    "```python\n",
    "ip_result.browse_ti_results()\n",
    "```"
   ]
  },
  {
   "attachments": {},
   "cell_type": "markdown",
   "metadata": {},
   "source": [
    "---\n",
    "\n",
    "# More information:\n",
    "\n",
    "## Notebooklets and Pivots\n",
    "[Notebooklets](https://msticnb.readthedocs.io/en/latest/)\n",
    "\n",
    "[Pivot functions](https://msticpy.readthedocs.io/en/latest/data_analysis/PivotFunctions.html)\n",
    "\n",
    "## Notebook/MSTICPy configuration\n",
    "[Getting Started](https://github.com/Azure/Azure-Sentinel-Notebooks/blob/master/A%20Getting%20Started%20Guide%20For%20Azure%20Sentinel%20ML%20Notebooks.ipynb)<br>\n",
    "[MSTICPy Configuration guide](https://msticpy.readthedocs.io/en/latest/getting_started/msticpyconfig.html)\n",
    "\n",
    "[ConfigureNotebookEnvironment notebook](https://github.com/Azure/Azure-Sentinel-Notebooks/blob/master/ConfiguringNotebookEnvironment.ipynb)"
   ]
  }
 ],
 "metadata": {
  "celltoolbar": "Tags",
  "hide_input": false,
  "kernelspec": {
   "display_name": ".venv",
   "language": "python",
   "name": "python3"
  },
  "language_info": {
   "codemirror_mode": {
    "name": "ipython",
    "version": 3
   },
   "file_extension": ".py",
   "mimetype": "text/x-python",
   "name": "python",
   "nbconvert_exporter": "python",
   "pygments_lexer": "ipython3",
   "version": "3.9.13"
  },
  "latex_envs": {
   "LaTeX_envs_menu_present": true,
   "autoclose": false,
   "autocomplete": true,
   "bibliofile": "biblio.bib",
   "cite_by": "apalike",
   "current_citInitial": 1,
   "eqLabelWithNumbers": true,
   "eqNumInitial": 1,
   "hotkeys": {
    "equation": "Ctrl-E",
    "itemize": "Ctrl-I"
   },
   "labels_anchors": false,
   "latex_user_defs": false,
   "report_style_numbering": false,
   "user_envs_cfg": false
  },
  "toc": {
   "base_numbering": 1,
   "nav_menu": {},
   "number_sections": true,
   "sideBar": true,
   "skip_h1_title": true,
   "title_cell": "Table of Contents",
   "title_sidebar": "Contents",
   "toc_cell": true,
   "toc_position": {
    "height": "calc(100% - 180px)",
    "left": "10px",
    "top": "150px",
    "width": "352.33px"
   },
   "toc_section_display": true,
   "toc_window_display": true
  },
  "varInspector": {
   "cols": {
    "lenName": 16,
    "lenType": 16,
    "lenVar": 40
   },
   "kernels_config": {
    "python": {
     "delete_cmd_postfix": "",
     "delete_cmd_prefix": "del ",
     "library": "var_list.py",
     "varRefreshCmd": "print(var_dic_list())"
    },
    "r": {
     "delete_cmd_postfix": ") ",
     "delete_cmd_prefix": "rm(",
     "library": "var_list.r",
     "varRefreshCmd": "cat(var_dic_list()) "
    }
   },
   "types_to_exclude": [
    "module",
    "function",
    "builtin_function_or_method",
    "instance",
    "_Feature"
   ],
   "window_display": false
  },
  "widgets": {
   "application/vnd.jupyter.widget-state+json": {
    "state": {},
    "version_major": 2,
    "version_minor": 0
   }
  }
 },
 "nbformat": 4,
 "nbformat_minor": 4
}
