{
 "cells": [
  {
   "attachments": {},
   "cell_type": "markdown",
   "metadata": {
    "toc": true
   },
   "source": [
    "<h1>Table of Contents<span class=\"tocSkip\"></span></h1>\n",
    "<div class=\"toc\"><ul class=\"toc-item\"><li><span><a href=\"#Example-Alert-Triage-Notebook\" data-toc-modified-id=\"Example-Alert-Triage-Notebook-1\">Alert Triage Notebook</a></span><ul class=\"toc-item\"><li><ul class=\"toc-item\"><li><span><a href=\"#Notebook-Setup\" data-toc-modified-id=\"Notebook-Setup-1.0.1\">Notebook Setup</a></span></li><li><span><a href=\"#Connect-to-your-Azure-Sentinel-Workspace\" data-toc-modified-id=\"Connect-to-your-Azure-Sentinel-Workspace-1.0.2\">Connect to your Microsoft Sentinel Workspace</a></span></li><li><span><a href=\"#Investigation-Information\" data-toc-modified-id=\"Investigation-Information-1.0.3\">Investigation Information</a></span></li><li><span><a href=\"#Set-the-time-window-you-wish-to-triage-events-from:\" data-toc-modified-id=\"Set-the-time-window-you-wish-to-triage-events-from:-1.0.4\">Set the time window you wish to triage events from:</a></span></li><li><span><a href=\"#Select-the-alert-types-you-are-interested-in:\" data-toc-modified-id=\"Select-the-alert-types-you-are-interested-in:-1.0.5\">Select the alert types you are interested in:</a></span></li><li><span><a href=\"#Lookup-Threat-Intel-reports-for-selected-alerts\" data-toc-modified-id=\"Lookup-Threat-Intel-reports-for-selected-alerts-1.0.6\">Lookup Threat Intel reports for selected alerts</a></span></li><li><span><a href=\"#Pick-an-Alert-to-Examine\" data-toc-modified-id=\"Pick-an-Alert-to-Examine-1.0.7\">Pick an Alert to Examine</a></span></li><li><span><a href=\"#Alerts-Timeline\" data-toc-modified-id=\"Alerts-Timeline-1.0.8\">Alerts Timeline</a></span></li><li><span><a href=\"#Next-Steps\" data-toc-modified-id=\"Next-Steps-1.0.9\">Next Steps</a></span></li></ul></li></ul></li></ul></div>"
   ]
  },
  {
   "attachments": {},
   "cell_type": "markdown",
   "metadata": {},
   "source": [
    "# Alert Triage Notebook\n",
    "\n",
    "**Notebook Version:** 1.1<br>\n",
    "**Python Version:** Python 3.6 (including Python 3.6 - AzureML)<br>\n",
    "**Data Sources Required:** SecurityAlerts<br>\n",
    "\n",
    " \n",
    "This Notebook assists analysts in triage Alerts within Microsoft Sentinel by enriching them with Threat Intelligence and OSINT data. This purpose it to allow analysts to quickly triage a large number of alerts and identify those to focus investigation on.\n",
    "\n",
    "**How to use:**<br>\n",
    "Run the cells in this Notebook in order, at various points in the Notebook flow you will be prompted to enter or select options relevant to the scope of your triage.<br>\n",
    "This Notebook presumes you have Microsoft Sentinel Workspace settings and Threat Intelligence providers configured in a config file. If you do not have this in place please refer https://msticpy.readthedocs.io/en/latest/getting_started/msticpyconfig.html# to https://github.com/Azure/Azure-Sentinel-Notebooks/blob/master/ConfiguringNotebookEnvironment.ipynb  and to set this up."
   ]
  },
  {
   "attachments": {},
   "cell_type": "markdown",
   "metadata": {},
   "source": [
    "---\n",
    "### Notebook initialization\n",
    "The next cell:\n",
    "- Checks for the correct Python version\n",
    "- Checks versions and optionally installs required packages\n",
    "- Imports the required packages into the notebook\n",
    "- Sets a number of configuration options.\n",
    "\n",
    "This should complete without errors. If you encounter errors or warnings look at the following two notebooks:\n",
    "- [TroubleShootingNotebooks](https://github.com/Azure/Azure-Sentinel-Notebooks/blob/master/TroubleShootingNotebooks.ipynb)\n",
    "- [ConfiguringNotebookEnvironment](https://github.com/Azure/Azure-Sentinel-Notebooks/blob/master/ConfiguringNotebookEnvironment.ipynb)\n",
    "\n",
    "If you are running in the Microsoft Sentinel Notebooks environment (Azure Notebooks or Azure ML) you can run live versions of these notebooks:\n",
    "- [Run TroubleShootingNotebooks](./TroubleShootingNotebooks.ipynb)\n",
    "- [Run ConfiguringNotebookEnvironment](./ConfiguringNotebookEnvironment.ipynb)\n",
    "\n",
    "You may also need to do some additional configuration to successfully use functions such as Threat Intelligence service lookup and Geo IP lookup. \n",
    "There are more details about this in the `ConfiguringNotebookEnvironment` notebook and in these documents:\n",
    "- [msticpy configuration](https://msticpy.readthedocs.io/en/latest/getting_started/msticpyconfig.html)\n",
    "- [Threat intelligence provider configuration](https://msticpy.readthedocs.io/en/latest/data_acquisition/TIProviders.html#configuration-file)"
   ]
  },
  {
   "cell_type": "code",
   "execution_count": 1,
   "metadata": {
    "ExecuteTime": {
     "end_time": "2020-03-20T17:27:16.928865Z",
     "start_time": "2020-03-20T17:27:00.160439Z"
    }
   },
   "outputs": [
    {
     "data": {
      "text/html": [
       "<h3>Starting Notebook setup...</h3>"
      ],
      "text/plain": [
       "<IPython.core.display.HTML object>"
      ]
     },
     "metadata": {},
     "output_type": "display_data"
    },
    {
     "data": {
      "application/vnd.jupyter.widget-view+json": {
       "model_id": "2cbcd90e5b704133b1a6cc98fd5b3338",
       "version_major": 2,
       "version_minor": 0
      },
      "text/plain": [
       "Installing...:   0%|          | 0/1 [00:00<?, ?bytes/s]"
      ]
     },
     "metadata": {},
     "output_type": "display_data"
    }
   ],
   "source": [
    "from pathlib import Path\n",
    "from IPython.display import display, HTML\n",
    "\n",
    "REQ_PYTHON_VER=(3, 6)\n",
    "REQ_MSTICPY_VER=(1, 0, 0)\n",
    "\n",
    "\n",
    "display(HTML(\"<h3>Starting Notebook setup...</h3>\"))\n",
    "            \n",
    "\n",
    "# If not using Azure Notebooks, install msticpy with\n",
    "# %pip install msticpy\n",
    "from msticpy.nbtools import nbinit\n",
    "extra_imports = [\n",
    "    \"whois\", \n",
    "    \"datetime,,dt\",\n",
    "    \"msticpy.nbtools.foliummap, get_center_ip_entities\",\n",
    "    \"msticpy.nbtools.observationlist, Observations\",\n",
    "    \"msticpy.nbtools.observationlist, Observation\",\n",
    "    \"msticpy.sectools.ip_utils, convert_to_ip_entities\"\n",
    "]\n",
    "nbinit.init_notebook(\n",
    "    namespace=globals(),\n",
    "    additional_packages=[\"IPWhois\", \"tldextract\", \"python-whois\"],\n",
    "    extra_imports=extra_imports,\n",
    ")\n",
    "pd.options.mode.chained_assignment = None"
   ]
  },
  {
   "attachments": {},
   "cell_type": "markdown",
   "metadata": {},
   "source": [
    "Initialize TI and Observation list"
   ]
  },
  {
   "cell_type": "code",
   "execution_count": 2,
   "metadata": {
    "ExecuteTime": {
     "end_time": "2020-03-20T17:52:34.135544Z",
     "start_time": "2020-03-20T17:52:24.354Z"
    },
    "scrolled": true
   },
   "outputs": [
    {
     "name": "stdout",
     "output_type": "stream",
     "text": [
      "try_azcli_login=True;enable_add_items_to_help=False\n",
      "{'try_azcli_login': 'True', 'enable_add_items_to_help': 'False'}\n",
      "try_azcli_login=True;enable_add_items_to_help=False\n",
      "Observation summary and TILookup loaded.\n"
     ]
    }
   ],
   "source": [
    "# Initialize observations and TI modules\n",
    "summary = Observations()\n",
    "ti = TILookup()\n",
    "print('Observation summary and TILookup loaded.')"
   ]
  },
  {
   "attachments": {},
   "cell_type": "markdown",
   "metadata": {},
   "source": [
    "### Connect to your Microsoft Sentinel Workspace\n",
    "This cell collects Workspace details contained in your msticpyconfig.yaml file and uses them to authenticate."
   ]
  },
  {
   "cell_type": "code",
   "execution_count": 3,
   "metadata": {
    "ExecuteTime": {
     "end_time": "2020-03-20T17:27:56.110152Z",
     "start_time": "2020-03-20T17:27:54.540327Z"
    }
   },
   "outputs": [
    {
     "name": "stdout",
     "output_type": "stream",
     "text": [
      "try_azcli_login=True;enable_add_items_to_help=False\n",
      "{'try_azcli_login': 'True', 'enable_add_items_to_help': 'False'}\n",
      "try_azcli_login=True;enable_add_items_to_help=False\n",
      "done\n"
     ]
    }
   ],
   "source": [
    "# See if we have a Microsoft Sentinel Workspace defined in our config file.\n",
    "# If not, let the user specify Workspace and Tenant IDs\n",
    "\n",
    "ws_config = WorkspaceConfig()\n",
    "if not ws_config.config_loaded:\n",
    "    ws_config.prompt_for_ws()\n",
    "    \n",
    "qry_prov = QueryProvider(data_environment=\"AzureSentinel\")\n",
    "print(\"done\")"
   ]
  },
  {
   "cell_type": "code",
   "execution_count": 4,
   "metadata": {},
   "outputs": [
    {
     "name": "stdout",
     "output_type": "stream",
     "text": [
      "Connecting... "
     ]
    },
    {
     "data": {
      "text/html": [
       "<!DOCTYPE html>\n",
       "            <html><body>\n",
       "            <div style=''>\n",
       "            <b>FK4FHNPHL</b>&nbsp;<a href='https://microsoft.com/devicelogin' style='padding: 2px 6px 2px 6px; color: #333333; background-color: #EEEEEE; border-top: 1px solid #CCCCCC; border-right: 1px solid #333333; border-bottom: 1px solid #333333; border-left: 1px solid #CCCCCC' target='verification_url'>Copy code to clipboard and authenticate</a>\n",
       "            </div>\n",
       "            </body></html>"
      ],
      "text/plain": [
       "<IPython.core.display.HTML object>"
      ]
     },
     "metadata": {},
     "output_type": "display_data"
    },
    {
     "data": {
      "text/html": [
       "<!DOCTYPE html>\n",
       "                            <html><body><script>\n",
       "\n",
       "                                // close authentication window\n",
       "                                if (kql_MagicUserCodeAuthWindow && kql_MagicUserCodeAuthWindow.opener != null && !kql_MagicUserCodeAuthWindow.closed) {\n",
       "                                    kql_MagicUserCodeAuthWindow.close()\n",
       "                                }\n",
       "                                // TODO: make sure, you clear the right cell. BTW, not sure it is a must to do any clearing\n",
       "\n",
       "                                // clear output cell\n",
       "                                Jupyter.notebook.clear_output(Jupyter.notebook.get_selected_index())\n",
       "\n",
       "                                // TODO: if in run all mode, move to last cell, otherwise move to next cell\n",
       "                                // move to next cell\n",
       "\n",
       "                            </script></body></html>"
      ],
      "text/plain": [
       "<IPython.core.display.HTML object>"
      ]
     },
     "metadata": {},
     "output_type": "display_data"
    },
    {
     "data": {
      "text/html": [
       "<!DOCTYPE html>\n",
       "            <html><body>\n",
       "            <div style=''>\n",
       "            <a href='file:///C:/Users/gcass/.kqlmagic/temp_files/v2-265968PEG4CnmRpvP/_a97557b5-b341-450d-ac71-cdd5658a7e03_at_loganalytics_schema.html' style='padding: 2px 6px 2px 6px; color: #333333; background-color: #EEEEEE; border-top: 1px solid #CCCCCC; border-right: 1px solid #333333; border-bottom: 1px solid #333333; border-left: 1px solid #CCCCCC' target='_a97557b5-b341-450d-ac71-cdd5658a7e03_at_loganalytics_schema'>popup schema a97557b5-b341-450d-ac71-cdd5658a7e03@loganalytics</a>\n",
       "            </div>\n",
       "            </body></html>"
      ],
      "text/plain": [
       "<IPython.core.display.HTML object>"
      ]
     },
     "metadata": {},
     "output_type": "display_data"
    },
    {
     "name": "stdout",
     "output_type": "stream",
     "text": [
      "connected\n"
     ]
    }
   ],
   "source": [
    "# Authenticate to Microsoft Sentinel workspace\n",
    "qry_prov.connect(ws_config)"
   ]
  },
  {
   "attachments": {},
   "cell_type": "markdown",
   "metadata": {},
   "source": [
    "### Investigation Information\n",
    "\n",
    "Enter some information relevant to your triage work , this will then be stored as part of this Notebook for future reference and recall. \n",
    "Please also select which Threat Intelligence providers  to use for enrichment. Please note you need to have auth details for each provider in order for this to operate. You can select one or more providers or select \"All\" to use all avaliable providers."
   ]
  },
  {
   "cell_type": "code",
   "execution_count": 5,
   "metadata": {
    "ExecuteTime": {
     "end_time": "2020-03-20T17:27:56.164662Z",
     "start_time": "2020-03-20T17:27:56.111153Z"
    }
   },
   "outputs": [
    {
     "data": {
      "text/html": [
       "<p style=''>Enter Name:</p>"
      ],
      "text/plain": [
       "<IPython.core.display.HTML object>"
      ]
     },
     "metadata": {},
     "output_type": "display_data"
    },
    {
     "data": {
      "application/vnd.jupyter.widget-view+json": {
       "model_id": "25c4b2056d0a4d20a87d073bf137b55e",
       "version_major": 2,
       "version_minor": 0
      },
      "text/plain": [
       "Text(value='')"
      ]
     },
     "metadata": {},
     "output_type": "display_data"
    },
    {
     "data": {
      "text/html": [
       "<p style=''>Enter Ticket ID: </p>"
      ],
      "text/plain": [
       "<IPython.core.display.HTML object>"
      ]
     },
     "metadata": {},
     "output_type": "display_data"
    },
    {
     "data": {
      "application/vnd.jupyter.widget-view+json": {
       "model_id": "e790cb2573a74f6ca8e6e562502696a6",
       "version_major": 2,
       "version_minor": 0
      },
      "text/plain": [
       "Text(value='')"
      ]
     },
     "metadata": {},
     "output_type": "display_data"
    },
    {
     "data": {
      "text/html": [
       "<p style=''>Enter Description:</p>"
      ],
      "text/plain": [
       "<IPython.core.display.HTML object>"
      ]
     },
     "metadata": {},
     "output_type": "display_data"
    },
    {
     "data": {
      "application/vnd.jupyter.widget-view+json": {
       "model_id": "2899522c180b4cbc8c2e8bda14362b64",
       "version_major": 2,
       "version_minor": 0
      },
      "text/plain": [
       "Textarea(value='')"
      ]
     },
     "metadata": {},
     "output_type": "display_data"
    },
    {
     "data": {
      "text/html": [
       "<p style=''>Select TI providers to use for enrichment.</p>"
      ],
      "text/plain": [
       "<IPython.core.display.HTML object>"
      ]
     },
     "metadata": {},
     "output_type": "display_data"
    },
    {
     "data": {
      "application/vnd.jupyter.widget-view+json": {
       "model_id": "87f44e91cfc64d3b89f578402ad0222c",
       "version_major": 2,
       "version_minor": 0
      },
      "text/plain": [
       "SelectMultiple(description='TI providers:', index=(3,), options=('AzSTI', 'VirusTotal', 'XForce', 'All'), valu…"
      ]
     },
     "metadata": {},
     "output_type": "display_data"
    }
   ],
   "source": [
    "#Collect details for triage record\n",
    "md(\"Enter Name:\")\n",
    "name = widgets.Text()\n",
    "display(name)\n",
    "md(\"Enter Ticket ID: \")\n",
    "ticket = widgets.Text()\n",
    "display(ticket)\n",
    "md(\"Enter Description:\")\n",
    "description = widgets.Textarea()\n",
    "display(description)\n",
    "\n",
    "# Get list of configured TI providers and filter out non TI enrichments\n",
    "ti_provs = [x for x in ti.configured_providers if not x == \"OPR\" and not x == \"Tor\"]\n",
    "if not ti_provs:\n",
    "    raise Exception(\"\"\"You do not have any Threat Intelligence providers configured. \n",
    "                    Please refer to https://msticpy.readthedocs.io/en/latest/data_acquisition/TIProviders.html on how to configure them.\"\"\")\n",
    "\n",
    "md(\"Select TI providers to use for enrichment.\")\n",
    "sel_ti_provs = widgets.SelectMultiple(\n",
    "    options=ti_provs + [\"All\"],\n",
    "    value=['All'],\n",
    "    description='TI providers:',\n",
    "    disabled=False\n",
    ")\n",
    "display(sel_ti_provs)"
   ]
  },
  {
   "attachments": {},
   "cell_type": "markdown",
   "metadata": {},
   "source": [
    "### Set the time window you wish to triage events from:\n",
    "\n",
    "Adjust the time slider to select the timeframe for which you wish to triage alerts for."
   ]
  },
  {
   "cell_type": "code",
   "execution_count": 6,
   "metadata": {
    "ExecuteTime": {
     "end_time": "2020-03-20T17:27:56.235659Z",
     "start_time": "2020-03-20T17:27:56.166659Z"
    }
   },
   "outputs": [
    {
     "data": {
      "application/vnd.jupyter.widget-view+json": {
       "model_id": "f8a93ce4c3ae4282b217ecff4cbcc9be",
       "version_major": 2,
       "version_minor": 0
      },
      "text/plain": [
       "VBox(children=(HTML(value='<h4>Set query time boundaries</h4>'), HBox(children=(DatePicker(value=datetime.date…"
      ]
     },
     "metadata": {},
     "output_type": "display_data"
    }
   ],
   "source": [
    "# Set list of TI providers to use and record this in our summary record alongside triage details entered above.\n",
    "if \"All\" in sel_ti_provs.value:\n",
    "    ti_prov_use = ti_provs\n",
    "else:\n",
    "    ti_prov_use = list(sel_ti_provs.value)\n",
    "invest_summary = Observation(caption=\"Investigation Details\", data=\n",
    "                             {\"Analyst\" : name.value, \"Ticket\": ticket.value, \"Investigation Description\" :description.value,\n",
    "                              \"Investigation Date\": dt.datetime.now(), \"TI Providers\": ti_prov_use})\n",
    "summary.add_observation(invest_summary)\n",
    "\n",
    "# Widget to select time window in\n",
    "query_times = nbwidgets.QueryTime(units='day',\n",
    "                                      max_before=30, max_after=1, before=3)\n",
    "query_times.display()"
   ]
  },
  {
   "attachments": {},
   "cell_type": "markdown",
   "metadata": {},
   "source": [
    "### Select the alert types you are interested in:\n",
    "\n",
    "You can choose to select a subset of alerts based on provider in order to narrow your triage scope. You can also select \"All\" to return security alerts from all providers. Once a provider is selected you can additionally filter by Alert Name in order to focus on a specific alert type."
   ]
  },
  {
   "cell_type": "code",
   "execution_count": 29,
   "metadata": {
    "ExecuteTime": {
     "end_time": "2020-03-20T17:28:02.017533Z",
     "start_time": "2020-03-20T17:27:56.236659Z"
    }
   },
   "outputs": [
    {
     "data": {
      "text/html": [
       "<p style='font-size: 130%'>Alert summary</p>"
      ],
      "text/plain": [
       "<IPython.core.display.HTML object>"
      ]
     },
     "metadata": {},
     "output_type": "display_data"
    },
    {
     "data": {
      "text/html": [
       "<div>\n",
       "<style scoped>\n",
       "    .dataframe tbody tr th:only-of-type {\n",
       "        vertical-align: middle;\n",
       "    }\n",
       "\n",
       "    .dataframe tbody tr th {\n",
       "        vertical-align: top;\n",
       "    }\n",
       "\n",
       "    .dataframe thead th {\n",
       "        text-align: right;\n",
       "    }\n",
       "</style>\n",
       "<table border=\"1\" class=\"dataframe\">\n",
       "  <thead>\n",
       "    <tr style=\"text-align: right;\">\n",
       "      <th></th>\n",
       "      <th>ProviderName</th>\n",
       "      <th>Alerts</th>\n",
       "    </tr>\n",
       "  </thead>\n",
       "  <tbody>\n",
       "    <tr>\n",
       "      <th>0</th>\n",
       "      <td>ASI Scheduled Alerts</td>\n",
       "      <td>5</td>\n",
       "    </tr>\n",
       "    <tr>\n",
       "      <th>1</th>\n",
       "      <td>IPC</td>\n",
       "      <td>3</td>\n",
       "    </tr>\n",
       "    <tr>\n",
       "      <th>2</th>\n",
       "      <td>MCAS</td>\n",
       "      <td>6</td>\n",
       "    </tr>\n",
       "    <tr>\n",
       "      <th>3</th>\n",
       "      <td>MDATP</td>\n",
       "      <td>1</td>\n",
       "    </tr>\n",
       "    <tr>\n",
       "      <th>4</th>\n",
       "      <td>MicrosoftEndPointDlp</td>\n",
       "      <td>25</td>\n",
       "    </tr>\n",
       "    <tr>\n",
       "      <th>5</th>\n",
       "      <td>OATP</td>\n",
       "      <td>526</td>\n",
       "    </tr>\n",
       "  </tbody>\n",
       "</table>\n",
       "</div>"
      ],
      "text/plain": [
       "           ProviderName  Alerts\n",
       "0  ASI Scheduled Alerts       5\n",
       "1                   IPC       3\n",
       "2                  MCAS       6\n",
       "3                 MDATP       1\n",
       "4  MicrosoftEndPointDlp      25\n",
       "5                  OATP     526"
      ]
     },
     "metadata": {},
     "output_type": "display_data"
    },
    {
     "data": {
      "text/html": [
       "<p style='font-size: 130%'>Select provider and/or Alert type to triage</p>"
      ],
      "text/plain": [
       "<IPython.core.display.HTML object>"
      ]
     },
     "metadata": {},
     "output_type": "display_data"
    },
    {
     "data": {
      "application/vnd.jupyter.widget-view+json": {
       "model_id": "88be0b4d02914dc69afc77f3b4ba55a9",
       "version_major": 2,
       "version_minor": 0
      },
      "text/plain": [
       "VBox(children=(Dropdown(description='Providers:', layout=Layout(width='400px'), options=('MicrosoftEndPointDlp…"
      ]
     },
     "metadata": {},
     "output_type": "display_data"
    }
   ],
   "source": [
    "# Collect alerts based on the scope set above\n",
    "alerts = qry_prov.SecurityAlert.list_alerts(query_times)\n",
    "alerts_summ = Observation(caption=\"Alerts\", data={\"Data\" : alerts, \"Times\": query_times })\n",
    "summary.add_observation(alerts_summ)\n",
    "# display summary of alerts retrieved\n",
    "md(\"Alert summary\", \"large\")\n",
    "display(alerts.groupby(\"ProviderName\")[[\"AlertName\"]]\n",
    "        .count()\n",
    "        .reset_index()\n",
    "        .rename(columns={\"AlertName\": \"Alerts\"})\n",
    ")\n",
    "def update_alert_names(_):\n",
    "    selected_alert_type = sel_alerts.value\n",
    "    if sel_prov.value != \"All\": \n",
    "        alert_names = alerts[alerts['ProviderName']==sel_prov.value]['AlertName'].unique()\n",
    "    else:\n",
    "        alert_names = alerts['AlertName'].unique()\n",
    "    alert_names = np.append(alert_names, [\"All\"])\n",
    "    sel_alerts.options = alert_names\n",
    "    if selected_alert_type in alert_names:\n",
    "        sel_alerts.value = selected_alert_type\n",
    "    else:\n",
    "        sel_alerts.value = \"All\"\n",
    "    \n",
    "if alerts.empty:\n",
    "    md(f\"No alerts in this Workspace during between {query_times.start} and {query_times.end}\", \"bold\")\n",
    "else:\n",
    "    w_layout = list_layout = widgets.Layout(width=\"400px\")\n",
    "    #Select Provider to filter by\n",
    "    providers = alerts['ProviderName'].unique()\n",
    "    providers = np.append(providers, [\"All\"])\n",
    "    sel_prov = widgets.Dropdown(\n",
    "        options=providers,\n",
    "        description='Providers:',\n",
    "        disabled=False,\n",
    "        layout=w_layout,\n",
    "    )\n",
    "    sel_prov.observe(update_alert_names, names=\"value\")\n",
    "    alert_names = alerts[alerts['ProviderName']==sel_prov.value]['AlertName'].unique()\n",
    "    alert_names = np.append(alert_names, [\"All\"])\n",
    "    sel_alerts = widgets.Dropdown(\n",
    "        options=alert_names,\n",
    "        description='Alert Names:',\n",
    "        disabled=False,\n",
    "        value = \"All\",\n",
    "        layout=w_layout,\n",
    "    )\n",
    "    md(\"Select provider and/or Alert type to triage\", \"large\")\n",
    "    display(widgets.VBox([sel_prov, sel_alerts]))\n",
    "    "
   ]
  },
  {
   "attachments": {},
   "cell_type": "markdown",
   "metadata": {},
   "source": [
    "### Lookup Threat Intel reports for selected alerts\n",
    "Once alerts are collected we can enrich these alerts by looking up the entities associated with these alerts in Threat Intelligence. The TI Risk column in the table below represents an aggregation of results from the selected TI providers."
   ]
  },
  {
   "cell_type": "code",
   "execution_count": 30,
   "metadata": {
    "ExecuteTime": {
     "end_time": "2020-03-20T17:28:10.278108Z",
     "start_time": "2020-03-20T17:28:02.019530Z"
    }
   },
   "outputs": [
    {
     "ename": "TypeError",
     "evalue": "list indices must be integers or slices, not str",
     "output_type": "error",
     "traceback": [
      "\u001b[1;31m---------------------------------------------------------------------------\u001b[0m",
      "\u001b[1;31mTypeError\u001b[0m                                 Traceback (most recent call last)",
      "\u001b[1;32mc:\\WEDCVisualStudio\\Jupyter Notebooks\\Azure-Sentinel-Notebooks\\Guided Triage - Alerts.ipynb Cell 17\u001b[0m in \u001b[0;36m6\n\u001b[0;32m     <a href='vscode-notebook-cell:/c%3A/WEDCVisualStudio/Jupyter%20Notebooks/Azure-Sentinel-Notebooks/Guided%20Triage%20-%20Alerts.ipynb#X22sZmlsZQ%3D%3D?line=63'>64</a>\u001b[0m     \u001b[39mreturn\u001b[39;00m \u001b[39m'\u001b[39m\u001b[39mbackground-color: \u001b[39m\u001b[39m%s\u001b[39;00m\u001b[39m'\u001b[39m \u001b[39m%\u001b[39m color \n\u001b[0;32m     <a href='vscode-notebook-cell:/c%3A/WEDCVisualStudio/Jupyter%20Notebooks/Azure-Sentinel-Notebooks/Guided%20Triage%20-%20Alerts.ipynb#X22sZmlsZQ%3D%3D?line=65'>66</a>\u001b[0m tqdm\u001b[39m.\u001b[39mpandas(desc\u001b[39m=\u001b[39m\u001b[39m\"\u001b[39m\u001b[39mLookup progress\u001b[39m\u001b[39m\"\u001b[39m)\n\u001b[1;32m---> <a href='vscode-notebook-cell:/c%3A/WEDCVisualStudio/Jupyter%20Notebooks/Azure-Sentinel-Notebooks/Guided%20Triage%20-%20Alerts.ipynb#X22sZmlsZQ%3D%3D?line=67'>68</a>\u001b[0m selected_alert_type[\u001b[39m'\u001b[39m\u001b[39mTI Risk\u001b[39m\u001b[39m'\u001b[39m] \u001b[39m=\u001b[39m selected_alert_type\u001b[39m.\u001b[39;49mapply(lookup, axis\u001b[39m=\u001b[39;49m\u001b[39m1\u001b[39;49m)\n\u001b[0;32m     <a href='vscode-notebook-cell:/c%3A/WEDCVisualStudio/Jupyter%20Notebooks/Azure-Sentinel-Notebooks/Guided%20Triage%20-%20Alerts.ipynb#X22sZmlsZQ%3D%3D?line=68'>69</a>\u001b[0m display(selected_alert_type[[\u001b[39m'\u001b[39m\u001b[39mStartTimeUtc\u001b[39m\u001b[39m'\u001b[39m,\u001b[39m'\u001b[39m\u001b[39mAlertName\u001b[39m\u001b[39m'\u001b[39m,\u001b[39m'\u001b[39m\u001b[39mSeverity\u001b[39m\u001b[39m'\u001b[39m,\u001b[39m'\u001b[39m\u001b[39mTI Risk\u001b[39m\u001b[39m'\u001b[39m, \u001b[39m'\u001b[39m\u001b[39mDescription\u001b[39m\u001b[39m'\u001b[39m]]\n\u001b[0;32m     <a href='vscode-notebook-cell:/c%3A/WEDCVisualStudio/Jupyter%20Notebooks/Azure-Sentinel-Notebooks/Guided%20Triage%20-%20Alerts.ipynb#X22sZmlsZQ%3D%3D?line=69'>70</a>\u001b[0m         \u001b[39m.\u001b[39msort_values(by\u001b[39m=\u001b[39m[\u001b[39m'\u001b[39m\u001b[39mStartTimeUtc\u001b[39m\u001b[39m'\u001b[39m])\u001b[39m.\u001b[39mstyle\u001b[39m.\u001b[39mapplymap(color_cells)\u001b[39m.\u001b[39mhide_index())\n",
      "File \u001b[1;32mc:\\WEDCVisualStudio\\Jupyter Notebooks\\Azure-Sentinel-Notebooks\\.venv\\lib\\site-packages\\pandas\\core\\frame.py:9558\u001b[0m, in \u001b[0;36mDataFrame.apply\u001b[1;34m(self, func, axis, raw, result_type, args, **kwargs)\u001b[0m\n\u001b[0;32m   9547\u001b[0m \u001b[39mfrom\u001b[39;00m \u001b[39mpandas\u001b[39;00m\u001b[39m.\u001b[39;00m\u001b[39mcore\u001b[39;00m\u001b[39m.\u001b[39;00m\u001b[39mapply\u001b[39;00m \u001b[39mimport\u001b[39;00m frame_apply\n\u001b[0;32m   9549\u001b[0m op \u001b[39m=\u001b[39m frame_apply(\n\u001b[0;32m   9550\u001b[0m     \u001b[39mself\u001b[39m,\n\u001b[0;32m   9551\u001b[0m     func\u001b[39m=\u001b[39mfunc,\n\u001b[1;32m   (...)\u001b[0m\n\u001b[0;32m   9556\u001b[0m     kwargs\u001b[39m=\u001b[39mkwargs,\n\u001b[0;32m   9557\u001b[0m )\n\u001b[1;32m-> 9558\u001b[0m \u001b[39mreturn\u001b[39;00m op\u001b[39m.\u001b[39;49mapply()\u001b[39m.\u001b[39m__finalize__(\u001b[39mself\u001b[39m, method\u001b[39m=\u001b[39m\u001b[39m\"\u001b[39m\u001b[39mapply\u001b[39m\u001b[39m\"\u001b[39m)\n",
      "File \u001b[1;32mc:\\WEDCVisualStudio\\Jupyter Notebooks\\Azure-Sentinel-Notebooks\\.venv\\lib\\site-packages\\pandas\\core\\apply.py:741\u001b[0m, in \u001b[0;36mFrameApply.apply\u001b[1;34m(self)\u001b[0m\n\u001b[0;32m    738\u001b[0m \u001b[39melif\u001b[39;00m \u001b[39mself\u001b[39m\u001b[39m.\u001b[39mraw:\n\u001b[0;32m    739\u001b[0m     \u001b[39mreturn\u001b[39;00m \u001b[39mself\u001b[39m\u001b[39m.\u001b[39mapply_raw()\n\u001b[1;32m--> 741\u001b[0m \u001b[39mreturn\u001b[39;00m \u001b[39mself\u001b[39;49m\u001b[39m.\u001b[39;49mapply_standard()\n",
      "File \u001b[1;32mc:\\WEDCVisualStudio\\Jupyter Notebooks\\Azure-Sentinel-Notebooks\\.venv\\lib\\site-packages\\pandas\\core\\apply.py:868\u001b[0m, in \u001b[0;36mFrameApply.apply_standard\u001b[1;34m(self)\u001b[0m\n\u001b[0;32m    867\u001b[0m \u001b[39mdef\u001b[39;00m \u001b[39mapply_standard\u001b[39m(\u001b[39mself\u001b[39m):\n\u001b[1;32m--> 868\u001b[0m     results, res_index \u001b[39m=\u001b[39m \u001b[39mself\u001b[39;49m\u001b[39m.\u001b[39;49mapply_series_generator()\n\u001b[0;32m    870\u001b[0m     \u001b[39m# wrap results\u001b[39;00m\n\u001b[0;32m    871\u001b[0m     \u001b[39mreturn\u001b[39;00m \u001b[39mself\u001b[39m\u001b[39m.\u001b[39mwrap_results(results, res_index)\n",
      "File \u001b[1;32mc:\\WEDCVisualStudio\\Jupyter Notebooks\\Azure-Sentinel-Notebooks\\.venv\\lib\\site-packages\\pandas\\core\\apply.py:884\u001b[0m, in \u001b[0;36mFrameApply.apply_series_generator\u001b[1;34m(self)\u001b[0m\n\u001b[0;32m    881\u001b[0m \u001b[39mwith\u001b[39;00m option_context(\u001b[39m\"\u001b[39m\u001b[39mmode.chained_assignment\u001b[39m\u001b[39m\"\u001b[39m, \u001b[39mNone\u001b[39;00m):\n\u001b[0;32m    882\u001b[0m     \u001b[39mfor\u001b[39;00m i, v \u001b[39min\u001b[39;00m \u001b[39menumerate\u001b[39m(series_gen):\n\u001b[0;32m    883\u001b[0m         \u001b[39m# ignore SettingWithCopy here in case the user mutates\u001b[39;00m\n\u001b[1;32m--> 884\u001b[0m         results[i] \u001b[39m=\u001b[39m \u001b[39mself\u001b[39;49m\u001b[39m.\u001b[39;49mf(v)\n\u001b[0;32m    885\u001b[0m         \u001b[39mif\u001b[39;00m \u001b[39misinstance\u001b[39m(results[i], ABCSeries):\n\u001b[0;32m    886\u001b[0m             \u001b[39m# If we have a view on v, we need to make a copy because\u001b[39;00m\n\u001b[0;32m    887\u001b[0m             \u001b[39m#  series_generator will swap out the underlying data\u001b[39;00m\n\u001b[0;32m    888\u001b[0m             results[i] \u001b[39m=\u001b[39m results[i]\u001b[39m.\u001b[39mcopy(deep\u001b[39m=\u001b[39m\u001b[39mFalse\u001b[39;00m)\n",
      "\u001b[1;32mc:\\WEDCVisualStudio\\Jupyter Notebooks\\Azure-Sentinel-Notebooks\\Guided Triage - Alerts.ipynb Cell 17\u001b[0m in \u001b[0;36m4\n\u001b[0;32m     <a href='vscode-notebook-cell:/c%3A/WEDCVisualStudio/Jupyter%20Notebooks/Azure-Sentinel-Notebooks/Guided%20Triage%20-%20Alerts.ipynb#X22sZmlsZQ%3D%3D?line=36'>37</a>\u001b[0m         \u001b[39mexcept\u001b[39;00m \u001b[39mKeyError\u001b[39;00m:\n\u001b[0;32m     <a href='vscode-notebook-cell:/c%3A/WEDCVisualStudio/Jupyter%20Notebooks/Azure-Sentinel-Notebooks/Guided%20Triage%20-%20Alerts.ipynb#X22sZmlsZQ%3D%3D?line=37'>38</a>\u001b[0m             \u001b[39mpass\u001b[39;00m\n\u001b[1;32m---> <a href='vscode-notebook-cell:/c%3A/WEDCVisualStudio/Jupyter%20Notebooks/Azure-Sentinel-Notebooks/Guided%20Triage%20-%20Alerts.ipynb#X22sZmlsZQ%3D%3D?line=39'>40</a>\u001b[0m \u001b[39mif\u001b[39;00m sev[\u001b[39m'\u001b[39;49m\u001b[39mseverity\u001b[39;49m\u001b[39m'\u001b[39;49m]\u001b[39m.\u001b[39meq(\u001b[39m'\u001b[39m\u001b[39mhigh\u001b[39m\u001b[39m'\u001b[39m)\u001b[39m.\u001b[39many():\n\u001b[0;32m     <a href='vscode-notebook-cell:/c%3A/WEDCVisualStudio/Jupyter%20Notebooks/Azure-Sentinel-Notebooks/Guided%20Triage%20-%20Alerts.ipynb#X22sZmlsZQ%3D%3D?line=40'>41</a>\u001b[0m     severity \u001b[39m=\u001b[39m \u001b[39m\"\u001b[39m\u001b[39mHigh\u001b[39m\u001b[39m\"\u001b[39m\n\u001b[0;32m     <a href='vscode-notebook-cell:/c%3A/WEDCVisualStudio/Jupyter%20Notebooks/Azure-Sentinel-Notebooks/Guided%20Triage%20-%20Alerts.ipynb#X22sZmlsZQ%3D%3D?line=41'>42</a>\u001b[0m \u001b[39melif\u001b[39;00m sev[\u001b[39m'\u001b[39m\u001b[39mseverity\u001b[39m\u001b[39m'\u001b[39m]\u001b[39m.\u001b[39meq(\u001b[39m'\u001b[39m\u001b[39mwarning\u001b[39m\u001b[39m'\u001b[39m)\u001b[39m.\u001b[39many():\n",
      "\u001b[1;31mTypeError\u001b[0m: list indices must be integers or slices, not str"
     ]
    }
   ],
   "source": [
    "import json\n",
    "from tqdm.notebook import tqdm\n",
    "\n",
    "# Filter alerts based on AlertName and Provider\n",
    "if sel_prov.value == \"All\":\n",
    "    sent_alerts = alerts\n",
    "else:\n",
    "    sent_alerts = alerts[alerts['ProviderName'] == sel_prov.value]\n",
    "if sel_alerts.value == \"All\":\n",
    "    selected_alert_type = sent_alerts\n",
    "else:\n",
    "    selected_alert_type = sent_alerts[sent_alerts['AlertName']== sel_alerts.value]\n",
    "\n",
    "def entity_load(entity):\n",
    "    try:\n",
    "        return json.loads(entity)\n",
    "    except json.JSONDecodeError:\n",
    "        return None\n",
    "\n",
    "selected_alert_type['Entities'] = selected_alert_type['Entities'].apply(entity_load)\n",
    "\n",
    "# Lookup each entity in TI and aggregate results into a overall severity based on the highest indicator severity.\n",
    "def lookup(row):\n",
    "    sev = []\n",
    "    if row['Entities'] is not None:\n",
    "        for entity in row['Entities']:\n",
    "            try:\n",
    "                if entity[\"Type\"] == 'ip' or entity[\"Type\"] == 'ipaddress':\n",
    "                    resp = ti.lookup_ioc(ioc=entity[\"Address\"], providers=ti_prov_use)\n",
    "                elif entity[\"Type\"] == 'url':\n",
    "                    resp = ti.lookup_ioc(ioc=entity[\"Url\"], providers=ti_prov_use)\n",
    "                else:\n",
    "                    resp = None          \n",
    "                if resp:\n",
    "                    for response in resp[1]:\n",
    "                        sev.append(response[1].severity)\n",
    "            except KeyError:\n",
    "                pass\n",
    "            \n",
    "    if sev['severity'].eq('high').any():\n",
    "        severity = \"High\"\n",
    "    elif sev['severity'].eq('warning').any():\n",
    "        severity = \"Warning\"\n",
    "    elif sev['severity'].eq('information').any():\n",
    "        severity = \"Information\"\n",
    "    else:\n",
    "        severity = \"None\"\n",
    "    return severity\n",
    "\n",
    "\n",
    "# Highlight cells based on Threat Intelligence results.        \n",
    "def color_cells(val):\n",
    "    if isinstance(val, str):\n",
    "        if val.lower() == \"high\":\n",
    "            color = 'Red'\n",
    "        elif val.lower() == 'warning':\n",
    "            color = 'Orange'\n",
    "        elif val.lower() == 'information':\n",
    "            color = 'Green'\n",
    "        else:\n",
    "            color = 'none'\n",
    "    else:\n",
    "        color = 'none'\n",
    "    return 'background-color: %s' % color \n",
    "\n",
    "tqdm.pandas(desc=\"Lookup progress\")\n",
    "\n",
    "selected_alert_type['TI Risk'] = selected_alert_type.apply(lookup, axis=1)\n",
    "display(selected_alert_type[['StartTimeUtc','AlertName','Severity','TI Risk', 'Description']]\n",
    "        .sort_values(by=['StartTimeUtc']).style.applymap(color_cells).hide_index())"
   ]
  },
  {
   "attachments": {},
   "cell_type": "markdown",
   "metadata": {},
   "source": [
    "### Pick an Alert to Examine"
   ]
  },
  {
   "attachments": {},
   "cell_type": "markdown",
   "metadata": {},
   "source": [
    "We can drill down into a specific alert by selecting it from the list below. This will return additional details on the alert as well as details of any threat intelligence matches."
   ]
  },
  {
   "cell_type": "code",
   "execution_count": 31,
   "metadata": {
    "ExecuteTime": {
     "end_time": "2020-03-20T17:28:10.859462Z",
     "start_time": "2020-03-20T17:28:10.280107Z"
    }
   },
   "outputs": [
    {
     "data": {
      "text/html": [
       "<p style='font-size: 130%'>Click on alert to view details.</p>"
      ],
      "text/plain": [
       "<IPython.core.display.HTML object>"
      ]
     },
     "metadata": {},
     "output_type": "display_data"
    },
    {
     "data": {
      "application/vnd.jupyter.widget-view+json": {
       "model_id": "ef123f83c7394b02a07467af8567a1d6",
       "version_major": 2,
       "version_minor": 0
      },
      "text/plain": [
       "VBox(children=(Text(value='', description='Filter alerts by title:', style=DescriptionStyle(description_width=…"
      ]
     },
     "metadata": {},
     "output_type": "display_data"
    },
    {
     "ename": "KeyError",
     "evalue": "'Type'",
     "output_type": "error",
     "traceback": [
      "\u001b[1;31m---------------------------------------------------------------------------\u001b[0m",
      "\u001b[1;31mKeyError\u001b[0m                                  Traceback (most recent call last)",
      "\u001b[1;32mc:\\WEDCVisualStudio\\Jupyter Notebooks\\Azure-Sentinel-Notebooks\\Guided Triage - Alerts.ipynb Cell 20\u001b[0m in \u001b[0;36m4\n\u001b[0;32m     <a href='vscode-notebook-cell:/c%3A/WEDCVisualStudio/Jupyter%20Notebooks/Azure-Sentinel-Notebooks/Guided%20Triage%20-%20Alerts.ipynb#X25sZmlsZQ%3D%3D?line=39'>40</a>\u001b[0m md(\u001b[39m'\u001b[39m\u001b[39mClick on alert to view details.\u001b[39m\u001b[39m'\u001b[39m, \u001b[39m\"\u001b[39m\u001b[39mlarge\u001b[39m\u001b[39m\"\u001b[39m)\n\u001b[0;32m     <a href='vscode-notebook-cell:/c%3A/WEDCVisualStudio/Jupyter%20Notebooks/Azure-Sentinel-Notebooks/Guided%20Triage%20-%20Alerts.ipynb#X25sZmlsZQ%3D%3D?line=40'>41</a>\u001b[0m rel_alert_select \u001b[39m=\u001b[39m nbwidgets\u001b[39m.\u001b[39mSelectAlert(alerts\u001b[39m=\u001b[39mselected_alert_type,\n\u001b[0;32m     <a href='vscode-notebook-cell:/c%3A/WEDCVisualStudio/Jupyter%20Notebooks/Azure-Sentinel-Notebooks/Guided%20Triage%20-%20Alerts.ipynb#X25sZmlsZQ%3D%3D?line=41'>42</a>\u001b[0m                                          action\u001b[39m=\u001b[39mshow_full_alert)\n\u001b[1;32m---> <a href='vscode-notebook-cell:/c%3A/WEDCVisualStudio/Jupyter%20Notebooks/Azure-Sentinel-Notebooks/Guided%20Triage%20-%20Alerts.ipynb#X25sZmlsZQ%3D%3D?line=42'>43</a>\u001b[0m rel_alert_select\u001b[39m.\u001b[39;49mdisplay()\n\u001b[0;32m     <a href='vscode-notebook-cell:/c%3A/WEDCVisualStudio/Jupyter%20Notebooks/Azure-Sentinel-Notebooks/Guided%20Triage%20-%20Alerts.ipynb#X25sZmlsZQ%3D%3D?line=43'>44</a>\u001b[0m \u001b[39m# Add alert details to summary.\u001b[39;00m\n\u001b[0;32m     <a href='vscode-notebook-cell:/c%3A/WEDCVisualStudio/Jupyter%20Notebooks/Azure-Sentinel-Notebooks/Guided%20Triage%20-%20Alerts.ipynb#X25sZmlsZQ%3D%3D?line=44'>45</a>\u001b[0m \u001b[39mif\u001b[39;00m ti_data \u001b[39mis\u001b[39;00m \u001b[39mnot\u001b[39;00m \u001b[39mNone\u001b[39;00m:\n",
      "File \u001b[1;32mc:\\WEDCVisualStudio\\Jupyter Notebooks\\Azure-Sentinel-Notebooks\\.venv\\lib\\site-packages\\msticpy\\nbwidgets\\select_alert.py:149\u001b[0m, in \u001b[0;36mSelectAlert.display\u001b[1;34m(self)\u001b[0m\n\u001b[0;32m    147\u001b[0m \u001b[39m\"\"\"Display the interactive widgets.\"\"\"\u001b[39;00m\n\u001b[0;32m    148\u001b[0m \u001b[39msuper\u001b[39m()\u001b[39m.\u001b[39mdisplay()\n\u001b[1;32m--> 149\u001b[0m \u001b[39mself\u001b[39;49m\u001b[39m.\u001b[39;49m_select_top_alert()\n",
      "File \u001b[1;32mc:\\WEDCVisualStudio\\Jupyter Notebooks\\Azure-Sentinel-Notebooks\\.venv\\lib\\site-packages\\msticpy\\nbwidgets\\select_alert.py:224\u001b[0m, in \u001b[0;36mSelectAlert._select_top_alert\u001b[1;34m(self)\u001b[0m\n\u001b[0;32m    220\u001b[0m     top_alert \u001b[39m=\u001b[39m \u001b[39mself\u001b[39m\u001b[39m.\u001b[39malerts[\n\u001b[0;32m    221\u001b[0m         \u001b[39mself\u001b[39m\u001b[39m.\u001b[39malerts[\u001b[39mself\u001b[39m\u001b[39m.\u001b[39mid_col] \u001b[39m==\u001b[39m \u001b[39mself\u001b[39m\u001b[39m.\u001b[39mdefault_alert\n\u001b[0;32m    222\u001b[0m     ]\u001b[39m.\u001b[39miloc[\u001b[39m0\u001b[39m]\n\u001b[0;32m    223\u001b[0m \u001b[39mif\u001b[39;00m \u001b[39mnot\u001b[39;00m top_alert\u001b[39m.\u001b[39mempty:\n\u001b[1;32m--> 224\u001b[0m     \u001b[39mself\u001b[39;49m\u001b[39m.\u001b[39;49m_w_select_alert\u001b[39m.\u001b[39;49mindex \u001b[39m=\u001b[39m \u001b[39m0\u001b[39m\n\u001b[0;32m    225\u001b[0m     \u001b[39mself\u001b[39m\u001b[39m.\u001b[39malert_id \u001b[39m=\u001b[39m top_alert[\u001b[39mself\u001b[39m\u001b[39m.\u001b[39mid_col]\n\u001b[0;32m    226\u001b[0m     \u001b[39mself\u001b[39m\u001b[39m.\u001b[39mselected_alert \u001b[39m=\u001b[39m \u001b[39mself\u001b[39m\u001b[39m.\u001b[39m_get_alert(\u001b[39mself\u001b[39m\u001b[39m.\u001b[39malert_id)\n",
      "File \u001b[1;32mc:\\WEDCVisualStudio\\Jupyter Notebooks\\Azure-Sentinel-Notebooks\\.venv\\lib\\site-packages\\traitlets\\traitlets.py:732\u001b[0m, in \u001b[0;36mTraitType.__set__\u001b[1;34m(self, obj, value)\u001b[0m\n\u001b[0;32m    730\u001b[0m     \u001b[39mraise\u001b[39;00m TraitError(\u001b[39m'\u001b[39m\u001b[39mThe \u001b[39m\u001b[39m\"\u001b[39m\u001b[39m%s\u001b[39;00m\u001b[39m\"\u001b[39m\u001b[39m trait is read-only.\u001b[39m\u001b[39m'\u001b[39m \u001b[39m%\u001b[39m \u001b[39mself\u001b[39m\u001b[39m.\u001b[39mname)\n\u001b[0;32m    731\u001b[0m \u001b[39melse\u001b[39;00m:\n\u001b[1;32m--> 732\u001b[0m     \u001b[39mself\u001b[39;49m\u001b[39m.\u001b[39;49mset(obj, value)\n",
      "File \u001b[1;32mc:\\WEDCVisualStudio\\Jupyter Notebooks\\Azure-Sentinel-Notebooks\\.venv\\lib\\site-packages\\traitlets\\traitlets.py:721\u001b[0m, in \u001b[0;36mTraitType.set\u001b[1;34m(self, obj, value)\u001b[0m\n\u001b[0;32m    717\u001b[0m     silent \u001b[39m=\u001b[39m \u001b[39mFalse\u001b[39;00m\n\u001b[0;32m    718\u001b[0m \u001b[39mif\u001b[39;00m silent \u001b[39mis\u001b[39;00m \u001b[39mnot\u001b[39;00m \u001b[39mTrue\u001b[39;00m:\n\u001b[0;32m    719\u001b[0m     \u001b[39m# we explicitly compare silent to True just in case the equality\u001b[39;00m\n\u001b[0;32m    720\u001b[0m     \u001b[39m# comparison above returns something other than True/False\u001b[39;00m\n\u001b[1;32m--> 721\u001b[0m     obj\u001b[39m.\u001b[39;49m_notify_trait(\u001b[39mself\u001b[39;49m\u001b[39m.\u001b[39;49mname, old_value, new_value)\n",
      "File \u001b[1;32mc:\\WEDCVisualStudio\\Jupyter Notebooks\\Azure-Sentinel-Notebooks\\.venv\\lib\\site-packages\\traitlets\\traitlets.py:1505\u001b[0m, in \u001b[0;36mHasTraits._notify_trait\u001b[1;34m(self, name, old_value, new_value)\u001b[0m\n\u001b[0;32m   1504\u001b[0m \u001b[39mdef\u001b[39;00m \u001b[39m_notify_trait\u001b[39m(\u001b[39mself\u001b[39m, name, old_value, new_value):\n\u001b[1;32m-> 1505\u001b[0m     \u001b[39mself\u001b[39;49m\u001b[39m.\u001b[39;49mnotify_change(\n\u001b[0;32m   1506\u001b[0m         Bunch(\n\u001b[0;32m   1507\u001b[0m             name\u001b[39m=\u001b[39;49mname,\n\u001b[0;32m   1508\u001b[0m             old\u001b[39m=\u001b[39;49mold_value,\n\u001b[0;32m   1509\u001b[0m             new\u001b[39m=\u001b[39;49mnew_value,\n\u001b[0;32m   1510\u001b[0m             owner\u001b[39m=\u001b[39;49m\u001b[39mself\u001b[39;49m,\n\u001b[0;32m   1511\u001b[0m             \u001b[39mtype\u001b[39;49m\u001b[39m=\u001b[39;49m\u001b[39m\"\u001b[39;49m\u001b[39mchange\u001b[39;49m\u001b[39m\"\u001b[39;49m,\n\u001b[0;32m   1512\u001b[0m         )\n\u001b[0;32m   1513\u001b[0m     )\n",
      "File \u001b[1;32mc:\\WEDCVisualStudio\\Jupyter Notebooks\\Azure-Sentinel-Notebooks\\.venv\\lib\\site-packages\\ipywidgets\\widgets\\widget.py:606\u001b[0m, in \u001b[0;36mWidget.notify_change\u001b[1;34m(self, change)\u001b[0m\n\u001b[0;32m    603\u001b[0m     \u001b[39mif\u001b[39;00m name \u001b[39min\u001b[39;00m \u001b[39mself\u001b[39m\u001b[39m.\u001b[39mkeys \u001b[39mand\u001b[39;00m \u001b[39mself\u001b[39m\u001b[39m.\u001b[39m_should_send_property(name, \u001b[39mgetattr\u001b[39m(\u001b[39mself\u001b[39m, name)):\n\u001b[0;32m    604\u001b[0m         \u001b[39m# Send new state to front-end\u001b[39;00m\n\u001b[0;32m    605\u001b[0m         \u001b[39mself\u001b[39m\u001b[39m.\u001b[39msend_state(key\u001b[39m=\u001b[39mname)\n\u001b[1;32m--> 606\u001b[0m \u001b[39msuper\u001b[39;49m(Widget, \u001b[39mself\u001b[39;49m)\u001b[39m.\u001b[39;49mnotify_change(change)\n",
      "File \u001b[1;32mc:\\WEDCVisualStudio\\Jupyter Notebooks\\Azure-Sentinel-Notebooks\\.venv\\lib\\site-packages\\traitlets\\traitlets.py:1517\u001b[0m, in \u001b[0;36mHasTraits.notify_change\u001b[1;34m(self, change)\u001b[0m\n\u001b[0;32m   1515\u001b[0m \u001b[39mdef\u001b[39;00m \u001b[39mnotify_change\u001b[39m(\u001b[39mself\u001b[39m, change):\n\u001b[0;32m   1516\u001b[0m     \u001b[39m\"\"\"Notify observers of a change event\"\"\"\u001b[39;00m\n\u001b[1;32m-> 1517\u001b[0m     \u001b[39mreturn\u001b[39;00m \u001b[39mself\u001b[39;49m\u001b[39m.\u001b[39;49m_notify_observers(change)\n",
      "File \u001b[1;32mc:\\WEDCVisualStudio\\Jupyter Notebooks\\Azure-Sentinel-Notebooks\\.venv\\lib\\site-packages\\traitlets\\traitlets.py:1564\u001b[0m, in \u001b[0;36mHasTraits._notify_observers\u001b[1;34m(self, event)\u001b[0m\n\u001b[0;32m   1561\u001b[0m \u001b[39melif\u001b[39;00m \u001b[39misinstance\u001b[39m(c, EventHandler) \u001b[39mand\u001b[39;00m c\u001b[39m.\u001b[39mname \u001b[39mis\u001b[39;00m \u001b[39mnot\u001b[39;00m \u001b[39mNone\u001b[39;00m:\n\u001b[0;32m   1562\u001b[0m     c \u001b[39m=\u001b[39m \u001b[39mgetattr\u001b[39m(\u001b[39mself\u001b[39m, c\u001b[39m.\u001b[39mname)\n\u001b[1;32m-> 1564\u001b[0m c(event)\n",
      "File \u001b[1;32mc:\\WEDCVisualStudio\\Jupyter Notebooks\\Azure-Sentinel-Notebooks\\.venv\\lib\\site-packages\\ipywidgets\\widgets\\widget_selection.py:235\u001b[0m, in \u001b[0;36m_Selection._propagate_index\u001b[1;34m(self, change)\u001b[0m\n\u001b[0;32m    233\u001b[0m     \u001b[39mself\u001b[39m\u001b[39m.\u001b[39mlabel \u001b[39m=\u001b[39m label\n\u001b[0;32m    234\u001b[0m \u001b[39mif\u001b[39;00m \u001b[39mself\u001b[39m\u001b[39m.\u001b[39mvalue \u001b[39mis\u001b[39;00m \u001b[39mnot\u001b[39;00m value:\n\u001b[1;32m--> 235\u001b[0m     \u001b[39mself\u001b[39;49m\u001b[39m.\u001b[39;49mvalue \u001b[39m=\u001b[39m value\n",
      "File \u001b[1;32mc:\\WEDCVisualStudio\\Jupyter Notebooks\\Azure-Sentinel-Notebooks\\.venv\\lib\\site-packages\\traitlets\\traitlets.py:732\u001b[0m, in \u001b[0;36mTraitType.__set__\u001b[1;34m(self, obj, value)\u001b[0m\n\u001b[0;32m    730\u001b[0m     \u001b[39mraise\u001b[39;00m TraitError(\u001b[39m'\u001b[39m\u001b[39mThe \u001b[39m\u001b[39m\"\u001b[39m\u001b[39m%s\u001b[39;00m\u001b[39m\"\u001b[39m\u001b[39m trait is read-only.\u001b[39m\u001b[39m'\u001b[39m \u001b[39m%\u001b[39m \u001b[39mself\u001b[39m\u001b[39m.\u001b[39mname)\n\u001b[0;32m    731\u001b[0m \u001b[39melse\u001b[39;00m:\n\u001b[1;32m--> 732\u001b[0m     \u001b[39mself\u001b[39;49m\u001b[39m.\u001b[39;49mset(obj, value)\n",
      "File \u001b[1;32mc:\\WEDCVisualStudio\\Jupyter Notebooks\\Azure-Sentinel-Notebooks\\.venv\\lib\\site-packages\\traitlets\\traitlets.py:721\u001b[0m, in \u001b[0;36mTraitType.set\u001b[1;34m(self, obj, value)\u001b[0m\n\u001b[0;32m    717\u001b[0m     silent \u001b[39m=\u001b[39m \u001b[39mFalse\u001b[39;00m\n\u001b[0;32m    718\u001b[0m \u001b[39mif\u001b[39;00m silent \u001b[39mis\u001b[39;00m \u001b[39mnot\u001b[39;00m \u001b[39mTrue\u001b[39;00m:\n\u001b[0;32m    719\u001b[0m     \u001b[39m# we explicitly compare silent to True just in case the equality\u001b[39;00m\n\u001b[0;32m    720\u001b[0m     \u001b[39m# comparison above returns something other than True/False\u001b[39;00m\n\u001b[1;32m--> 721\u001b[0m     obj\u001b[39m.\u001b[39;49m_notify_trait(\u001b[39mself\u001b[39;49m\u001b[39m.\u001b[39;49mname, old_value, new_value)\n",
      "File \u001b[1;32mc:\\WEDCVisualStudio\\Jupyter Notebooks\\Azure-Sentinel-Notebooks\\.venv\\lib\\site-packages\\traitlets\\traitlets.py:1505\u001b[0m, in \u001b[0;36mHasTraits._notify_trait\u001b[1;34m(self, name, old_value, new_value)\u001b[0m\n\u001b[0;32m   1504\u001b[0m \u001b[39mdef\u001b[39;00m \u001b[39m_notify_trait\u001b[39m(\u001b[39mself\u001b[39m, name, old_value, new_value):\n\u001b[1;32m-> 1505\u001b[0m     \u001b[39mself\u001b[39;49m\u001b[39m.\u001b[39;49mnotify_change(\n\u001b[0;32m   1506\u001b[0m         Bunch(\n\u001b[0;32m   1507\u001b[0m             name\u001b[39m=\u001b[39;49mname,\n\u001b[0;32m   1508\u001b[0m             old\u001b[39m=\u001b[39;49mold_value,\n\u001b[0;32m   1509\u001b[0m             new\u001b[39m=\u001b[39;49mnew_value,\n\u001b[0;32m   1510\u001b[0m             owner\u001b[39m=\u001b[39;49m\u001b[39mself\u001b[39;49m,\n\u001b[0;32m   1511\u001b[0m             \u001b[39mtype\u001b[39;49m\u001b[39m=\u001b[39;49m\u001b[39m\"\u001b[39;49m\u001b[39mchange\u001b[39;49m\u001b[39m\"\u001b[39;49m,\n\u001b[0;32m   1512\u001b[0m         )\n\u001b[0;32m   1513\u001b[0m     )\n",
      "File \u001b[1;32mc:\\WEDCVisualStudio\\Jupyter Notebooks\\Azure-Sentinel-Notebooks\\.venv\\lib\\site-packages\\ipywidgets\\widgets\\widget.py:606\u001b[0m, in \u001b[0;36mWidget.notify_change\u001b[1;34m(self, change)\u001b[0m\n\u001b[0;32m    603\u001b[0m     \u001b[39mif\u001b[39;00m name \u001b[39min\u001b[39;00m \u001b[39mself\u001b[39m\u001b[39m.\u001b[39mkeys \u001b[39mand\u001b[39;00m \u001b[39mself\u001b[39m\u001b[39m.\u001b[39m_should_send_property(name, \u001b[39mgetattr\u001b[39m(\u001b[39mself\u001b[39m, name)):\n\u001b[0;32m    604\u001b[0m         \u001b[39m# Send new state to front-end\u001b[39;00m\n\u001b[0;32m    605\u001b[0m         \u001b[39mself\u001b[39m\u001b[39m.\u001b[39msend_state(key\u001b[39m=\u001b[39mname)\n\u001b[1;32m--> 606\u001b[0m \u001b[39msuper\u001b[39;49m(Widget, \u001b[39mself\u001b[39;49m)\u001b[39m.\u001b[39;49mnotify_change(change)\n",
      "File \u001b[1;32mc:\\WEDCVisualStudio\\Jupyter Notebooks\\Azure-Sentinel-Notebooks\\.venv\\lib\\site-packages\\traitlets\\traitlets.py:1517\u001b[0m, in \u001b[0;36mHasTraits.notify_change\u001b[1;34m(self, change)\u001b[0m\n\u001b[0;32m   1515\u001b[0m \u001b[39mdef\u001b[39;00m \u001b[39mnotify_change\u001b[39m(\u001b[39mself\u001b[39m, change):\n\u001b[0;32m   1516\u001b[0m     \u001b[39m\"\"\"Notify observers of a change event\"\"\"\u001b[39;00m\n\u001b[1;32m-> 1517\u001b[0m     \u001b[39mreturn\u001b[39;00m \u001b[39mself\u001b[39;49m\u001b[39m.\u001b[39;49m_notify_observers(change)\n",
      "File \u001b[1;32mc:\\WEDCVisualStudio\\Jupyter Notebooks\\Azure-Sentinel-Notebooks\\.venv\\lib\\site-packages\\traitlets\\traitlets.py:1564\u001b[0m, in \u001b[0;36mHasTraits._notify_observers\u001b[1;34m(self, event)\u001b[0m\n\u001b[0;32m   1561\u001b[0m \u001b[39melif\u001b[39;00m \u001b[39misinstance\u001b[39m(c, EventHandler) \u001b[39mand\u001b[39;00m c\u001b[39m.\u001b[39mname \u001b[39mis\u001b[39;00m \u001b[39mnot\u001b[39;00m \u001b[39mNone\u001b[39;00m:\n\u001b[0;32m   1562\u001b[0m     c \u001b[39m=\u001b[39m \u001b[39mgetattr\u001b[39m(\u001b[39mself\u001b[39m, c\u001b[39m.\u001b[39mname)\n\u001b[1;32m-> 1564\u001b[0m c(event)\n",
      "File \u001b[1;32mc:\\WEDCVisualStudio\\Jupyter Notebooks\\Azure-Sentinel-Notebooks\\.venv\\lib\\site-packages\\msticpy\\nbwidgets\\select_alert.py:195\u001b[0m, in \u001b[0;36mSelectAlert._select_alert\u001b[1;34m(self, selection)\u001b[0m\n\u001b[0;32m    193\u001b[0m \u001b[39mself\u001b[39m\u001b[39m.\u001b[39mselected_alert \u001b[39m=\u001b[39m \u001b[39mself\u001b[39m\u001b[39m.\u001b[39m_get_alert(\u001b[39mself\u001b[39m\u001b[39m.\u001b[39malert_id)\n\u001b[0;32m    194\u001b[0m \u001b[39mif\u001b[39;00m \u001b[39mself\u001b[39m\u001b[39m.\u001b[39malert_action \u001b[39mis\u001b[39;00m \u001b[39mnot\u001b[39;00m \u001b[39mNone\u001b[39;00m:\n\u001b[1;32m--> 195\u001b[0m     \u001b[39mself\u001b[39;49m\u001b[39m.\u001b[39;49m_run_action()\n",
      "File \u001b[1;32mc:\\WEDCVisualStudio\\Jupyter Notebooks\\Azure-Sentinel-Notebooks\\.venv\\lib\\site-packages\\msticpy\\nbwidgets\\select_alert.py:235\u001b[0m, in \u001b[0;36mSelectAlert._run_action\u001b[1;34m(***failed resolving arguments***)\u001b[0m\n\u001b[0;32m    233\u001b[0m output_objs \u001b[39m=\u001b[39m \u001b[39mNone\u001b[39;00m\n\u001b[0;32m    234\u001b[0m \u001b[39mif\u001b[39;00m \u001b[39mself\u001b[39m\u001b[39m.\u001b[39m_w_display_details\u001b[39m.\u001b[39mvalue:\n\u001b[1;32m--> 235\u001b[0m     output_objs \u001b[39m=\u001b[39m \u001b[39mself\u001b[39;49m\u001b[39m.\u001b[39;49malert_action(\u001b[39mself\u001b[39;49m\u001b[39m.\u001b[39;49mselected_alert)\n\u001b[0;32m    236\u001b[0m \u001b[39mif\u001b[39;00m output_objs \u001b[39mis\u001b[39;00m \u001b[39mNone\u001b[39;00m:\n\u001b[0;32m    237\u001b[0m     \u001b[39mself\u001b[39m\u001b[39m.\u001b[39m_clear_display()\n",
      "\u001b[1;32mc:\\WEDCVisualStudio\\Jupyter Notebooks\\Azure-Sentinel-Notebooks\\Guided Triage - Alerts.ipynb Cell 20\u001b[0m in \u001b[0;36m1\n\u001b[0;32m     <a href='vscode-notebook-cell:/c%3A/WEDCVisualStudio/Jupyter%20Notebooks/Azure-Sentinel-Notebooks/Guided%20Triage%20-%20Alerts.ipynb#X25sZmlsZQ%3D%3D?line=11'>12</a>\u001b[0m \u001b[39mif\u001b[39;00m security_alert[\u001b[39m'\u001b[39m\u001b[39mEntities\u001b[39m\u001b[39m'\u001b[39m] \u001b[39mis\u001b[39;00m \u001b[39mnot\u001b[39;00m \u001b[39mNone\u001b[39;00m:\n\u001b[0;32m     <a href='vscode-notebook-cell:/c%3A/WEDCVisualStudio/Jupyter%20Notebooks/Azure-Sentinel-Notebooks/Guided%20Triage%20-%20Alerts.ipynb#X25sZmlsZQ%3D%3D?line=12'>13</a>\u001b[0m     \u001b[39mfor\u001b[39;00m entity \u001b[39min\u001b[39;00m security_alert[\u001b[39m'\u001b[39m\u001b[39mEntities\u001b[39m\u001b[39m'\u001b[39m]:\n\u001b[1;32m---> <a href='vscode-notebook-cell:/c%3A/WEDCVisualStudio/Jupyter%20Notebooks/Azure-Sentinel-Notebooks/Guided%20Triage%20-%20Alerts.ipynb#X25sZmlsZQ%3D%3D?line=13'>14</a>\u001b[0m         \u001b[39mif\u001b[39;00m entity[\u001b[39m'\u001b[39;49m\u001b[39mType\u001b[39;49m\u001b[39m'\u001b[39;49m] \u001b[39m==\u001b[39m \u001b[39m'\u001b[39m\u001b[39mipaddress\u001b[39m\u001b[39m'\u001b[39m \u001b[39mor\u001b[39;00m entity[\u001b[39m'\u001b[39m\u001b[39mType\u001b[39m\u001b[39m'\u001b[39m] \u001b[39m==\u001b[39m \u001b[39m'\u001b[39m\u001b[39mip\u001b[39m\u001b[39m'\u001b[39m:\n\u001b[0;32m     <a href='vscode-notebook-cell:/c%3A/WEDCVisualStudio/Jupyter%20Notebooks/Azure-Sentinel-Notebooks/Guided%20Triage%20-%20Alerts.ipynb#X25sZmlsZQ%3D%3D?line=14'>15</a>\u001b[0m             ioc_list\u001b[39m.\u001b[39mappend(entity[\u001b[39m'\u001b[39m\u001b[39mAddress\u001b[39m\u001b[39m'\u001b[39m])\n\u001b[0;32m     <a href='vscode-notebook-cell:/c%3A/WEDCVisualStudio/Jupyter%20Notebooks/Azure-Sentinel-Notebooks/Guided%20Triage%20-%20Alerts.ipynb#X25sZmlsZQ%3D%3D?line=15'>16</a>\u001b[0m         \u001b[39melif\u001b[39;00m entity[\u001b[39m\"\u001b[39m\u001b[39mType\u001b[39m\u001b[39m\"\u001b[39m] \u001b[39m==\u001b[39m \u001b[39m'\u001b[39m\u001b[39murl\u001b[39m\u001b[39m'\u001b[39m:\n",
      "\u001b[1;31mKeyError\u001b[0m: 'Type'"
     ]
    }
   ],
   "source": [
    "from msticpy.sectools.ip_utils import convert_to_ip_entities\n",
    "from msticpy.nbtools.foliummap import FoliumMap, get_center_ip_entities\n",
    "\n",
    "#Display full alert details when selected\n",
    "def show_full_alert(selected_alert):\n",
    "    global security_alert, alert_ip_entities\n",
    "    output = []\n",
    "    security_alert = SecurityAlert(\n",
    "        rel_alert_select.selected_alert)\n",
    "    output.append(nbdisplay.format_alert(security_alert, show_entities=True))\n",
    "    ioc_list = []\n",
    "    if security_alert['Entities'] is not None:\n",
    "        for entity in security_alert['Entities']:\n",
    "            if entity['Type'] == 'ipaddress' or entity['Type'] == 'ip':\n",
    "                ioc_list.append(entity['Address'])\n",
    "            elif entity[\"Type\"] == 'url':\n",
    "                ioc_list.append(entity['Url'])\n",
    "        if len(ioc_list) > 0:\n",
    "            ti_data = ti.lookup_iocs(data=ioc_list, providers=ti_prov_use)\n",
    "            output.append(ti_data[['Ioc','IocType','Provider','Result','Severity','Details']].reset_index().style.applymap(color_cells).hide_index())\n",
    "            ti_ips = ti_data[ti_data['IocType'] == 'ipv4']\n",
    "            # If we have IP entities try and plot these on a map\n",
    "            if not ti_ips.empty:\n",
    "                ip_ents = [convert_to_ip_entities(i)[0] for i in ti_ips['Ioc'].unique()]\n",
    "                center = get_center_ip_entities(ip_ents)\n",
    "                ip_map = FoliumMap(location=center, zoom_start=4)\n",
    "                ip_map.add_ip_cluster(ip_ents, color='red')\n",
    "                output.append(ip_map)\n",
    "            else:\n",
    "                output.append(\"\")\n",
    "        else:\n",
    "            output.append(\"No IoCs\")\n",
    "    else:\n",
    "        output.append(\"No Entities with IoCs\")\n",
    "    return output\n",
    "            \n",
    "# Show selected alert when selected\n",
    "if isinstance(alerts, pd.DataFrame) and not alerts.empty:\n",
    "    ti_data = None\n",
    "    md('Click on alert to view details.', \"large\")\n",
    "    rel_alert_select = nbwidgets.SelectAlert(alerts=selected_alert_type,\n",
    "                                             action=show_full_alert)\n",
    "    rel_alert_select.display()\n",
    "    # Add alert details to summary.\n",
    "    if ti_data is not None:\n",
    "        alert_details = Observation(caption=\"Alert Details\", data={\"Alert\":security_alert, \"TI\":ti_data})\n",
    "    else:\n",
    "        alert_details = Observation(caption=\"Alert Details\", data=security_alert)\n",
    "    summary.add_observation(alert_details)\n",
    "else:\n",
    "    md('No alerts found.')\n",
    "    \n"
   ]
  },
  {
   "attachments": {},
   "cell_type": "markdown",
   "metadata": {},
   "source": [
    "### Alerts Timeline\n",
    "The cell below displays a timeline of the alerts you are triaging, with the selected alert highlighted in order to provide context on the alert."
   ]
  },
  {
   "cell_type": "code",
   "execution_count": 32,
   "metadata": {
    "ExecuteTime": {
     "end_time": "2020-03-20T17:28:11.161979Z",
     "start_time": "2020-03-20T17:28:10.862462Z"
    }
   },
   "outputs": [
    {
     "ename": "KeyError",
     "evalue": "\"['TI Risk'] not in index\"",
     "output_type": "error",
     "traceback": [
      "\u001b[1;31m---------------------------------------------------------------------------\u001b[0m",
      "\u001b[1;31mKeyError\u001b[0m                                  Traceback (most recent call last)",
      "\u001b[1;32mc:\\WEDCVisualStudio\\Jupyter Notebooks\\Azure-Sentinel-Notebooks\\Guided Triage - Alerts.ipynb Cell 22\u001b[0m in \u001b[0;36m8\n\u001b[0;32m      <a href='vscode-notebook-cell:/c%3A/WEDCVisualStudio/Jupyter%20Notebooks/Azure-Sentinel-Notebooks/Guided%20Triage%20-%20Alerts.ipynb#X30sZmlsZQ%3D%3D?line=5'>6</a>\u001b[0m     md(\u001b[39m\"\u001b[39m\u001b[39mOnly one alert in selected alert provider/type - can\u001b[39m\u001b[39m'\u001b[39m\u001b[39mt display timeline.\u001b[39m\u001b[39m\"\u001b[39m)\n\u001b[0;32m      <a href='vscode-notebook-cell:/c%3A/WEDCVisualStudio/Jupyter%20Notebooks/Azure-Sentinel-Notebooks/Guided%20Triage%20-%20Alerts.ipynb#X30sZmlsZQ%3D%3D?line=6'>7</a>\u001b[0m \u001b[39melse\u001b[39;00m:\n\u001b[1;32m----> <a href='vscode-notebook-cell:/c%3A/WEDCVisualStudio/Jupyter%20Notebooks/Azure-Sentinel-Notebooks/Guided%20Triage%20-%20Alerts.ipynb#X30sZmlsZQ%3D%3D?line=7'>8</a>\u001b[0m     nbdisplay\u001b[39m.\u001b[39;49mdisplay_timeline(\n\u001b[0;32m      <a href='vscode-notebook-cell:/c%3A/WEDCVisualStudio/Jupyter%20Notebooks/Azure-Sentinel-Notebooks/Guided%20Triage%20-%20Alerts.ipynb#X30sZmlsZQ%3D%3D?line=8'>9</a>\u001b[0m         data\u001b[39m=\u001b[39;49mselected_alert_type, time_column\u001b[39m=\u001b[39;49m\u001b[39m\"\u001b[39;49m\u001b[39mStartTimeUtc\u001b[39;49m\u001b[39m\"\u001b[39;49m,\n\u001b[0;32m     <a href='vscode-notebook-cell:/c%3A/WEDCVisualStudio/Jupyter%20Notebooks/Azure-Sentinel-Notebooks/Guided%20Triage%20-%20Alerts.ipynb#X30sZmlsZQ%3D%3D?line=9'>10</a>\u001b[0m         group_by\u001b[39m=\u001b[39;49m\u001b[39m\"\u001b[39;49m\u001b[39mTI Risk\u001b[39;49m\u001b[39m\"\u001b[39;49m, source_columns\u001b[39m=\u001b[39;49m[\u001b[39m\"\u001b[39;49m\u001b[39mAlertName\u001b[39;49m\u001b[39m\"\u001b[39;49m], \n\u001b[0;32m     <a href='vscode-notebook-cell:/c%3A/WEDCVisualStudio/Jupyter%20Notebooks/Azure-Sentinel-Notebooks/Guided%20Triage%20-%20Alerts.ipynb#X30sZmlsZQ%3D%3D?line=10'>11</a>\u001b[0m         alert\u001b[39m=\u001b[39;49mrel_alert_select\u001b[39m.\u001b[39;49mselected_alert, title\u001b[39m=\u001b[39;49m\u001b[39m\"\u001b[39;49m\u001b[39mAlerts over time grouped by TI risk score\u001b[39;49m\u001b[39m\"\u001b[39;49m)\n",
      "File \u001b[1;32mc:\\WEDCVisualStudio\\Jupyter Notebooks\\Azure-Sentinel-Notebooks\\.venv\\lib\\site-packages\\msticpy\\vis\\timeline.py:216\u001b[0m, in \u001b[0;36mdisplay_timeline\u001b[1;34m(data, time_column, source_columns, **kwargs)\u001b[0m\n\u001b[0;32m    213\u001b[0m         \u001b[39mreturn\u001b[39;00m _display_timeline_dict(data\u001b[39m=\u001b[39maggr_data, param\u001b[39m=\u001b[39mparam)\n\u001b[0;32m    215\u001b[0m     \u001b[39m# Create a dictionary from a grouped or simple series\u001b[39;00m\n\u001b[1;32m--> 216\u001b[0m     series_dict \u001b[39m=\u001b[39m _create_dict_from_grouping(\n\u001b[0;32m    217\u001b[0m         data\u001b[39m=\u001b[39;49mdata,\n\u001b[0;32m    218\u001b[0m         source_columns\u001b[39m=\u001b[39;49mparam\u001b[39m.\u001b[39;49msource_columns,\n\u001b[0;32m    219\u001b[0m         time_column\u001b[39m=\u001b[39;49mparam\u001b[39m.\u001b[39;49mtime_column,\n\u001b[0;32m    220\u001b[0m         group_by\u001b[39m=\u001b[39;49mparam\u001b[39m.\u001b[39;49mgroup_by,\n\u001b[0;32m    221\u001b[0m         color\u001b[39m=\u001b[39;49mparam\u001b[39m.\u001b[39;49mcolor,\n\u001b[0;32m    222\u001b[0m         size\u001b[39m=\u001b[39;49mparam\u001b[39m.\u001b[39;49msize,\n\u001b[0;32m    223\u001b[0m     )\n\u001b[0;32m    224\u001b[0m     \u001b[39mreturn\u001b[39;00m _display_timeline_dict(data\u001b[39m=\u001b[39mseries_dict, param\u001b[39m=\u001b[39mparam)\n\u001b[0;32m    226\u001b[0m \u001b[39mif\u001b[39;00m \u001b[39misinstance\u001b[39m(data, \u001b[39mdict\u001b[39m):\n",
      "File \u001b[1;32mc:\\WEDCVisualStudio\\Jupyter Notebooks\\Azure-Sentinel-Notebooks\\.venv\\lib\\site-packages\\msticpy\\vis\\timeline.py:470\u001b[0m, in \u001b[0;36m_create_dict_from_grouping\u001b[1;34m(data, source_columns, time_column, group_by, color, size)\u001b[0m\n\u001b[0;32m    468\u001b[0m \u001b[39mif\u001b[39;00m group_by:\n\u001b[0;32m    469\u001b[0m     data_columns\u001b[39m.\u001b[39madd(group_by)\n\u001b[1;32m--> 470\u001b[0m     grouped_data \u001b[39m=\u001b[39m data[\u001b[39mlist\u001b[39;49m(data_columns)]\u001b[39m.\u001b[39mgroupby(group_by)\n\u001b[0;32m    472\u001b[0m     series_count \u001b[39m=\u001b[39m \u001b[39mlen\u001b[39m(grouped_data)\n\u001b[0;32m    473\u001b[0m     colors, palette_size \u001b[39m=\u001b[39m get_color_palette(series_count)\n",
      "File \u001b[1;32mc:\\WEDCVisualStudio\\Jupyter Notebooks\\Azure-Sentinel-Notebooks\\.venv\\lib\\site-packages\\pandas\\core\\frame.py:3811\u001b[0m, in \u001b[0;36mDataFrame.__getitem__\u001b[1;34m(self, key)\u001b[0m\n\u001b[0;32m   3809\u001b[0m     \u001b[39mif\u001b[39;00m is_iterator(key):\n\u001b[0;32m   3810\u001b[0m         key \u001b[39m=\u001b[39m \u001b[39mlist\u001b[39m(key)\n\u001b[1;32m-> 3811\u001b[0m     indexer \u001b[39m=\u001b[39m \u001b[39mself\u001b[39;49m\u001b[39m.\u001b[39;49mcolumns\u001b[39m.\u001b[39;49m_get_indexer_strict(key, \u001b[39m\"\u001b[39;49m\u001b[39mcolumns\u001b[39;49m\u001b[39m\"\u001b[39;49m)[\u001b[39m1\u001b[39m]\n\u001b[0;32m   3813\u001b[0m \u001b[39m# take() does not accept boolean indexers\u001b[39;00m\n\u001b[0;32m   3814\u001b[0m \u001b[39mif\u001b[39;00m \u001b[39mgetattr\u001b[39m(indexer, \u001b[39m\"\u001b[39m\u001b[39mdtype\u001b[39m\u001b[39m\"\u001b[39m, \u001b[39mNone\u001b[39;00m) \u001b[39m==\u001b[39m \u001b[39mbool\u001b[39m:\n",
      "File \u001b[1;32mc:\\WEDCVisualStudio\\Jupyter Notebooks\\Azure-Sentinel-Notebooks\\.venv\\lib\\site-packages\\pandas\\core\\indexes\\base.py:6108\u001b[0m, in \u001b[0;36mIndex._get_indexer_strict\u001b[1;34m(self, key, axis_name)\u001b[0m\n\u001b[0;32m   6105\u001b[0m \u001b[39melse\u001b[39;00m:\n\u001b[0;32m   6106\u001b[0m     keyarr, indexer, new_indexer \u001b[39m=\u001b[39m \u001b[39mself\u001b[39m\u001b[39m.\u001b[39m_reindex_non_unique(keyarr)\n\u001b[1;32m-> 6108\u001b[0m \u001b[39mself\u001b[39;49m\u001b[39m.\u001b[39;49m_raise_if_missing(keyarr, indexer, axis_name)\n\u001b[0;32m   6110\u001b[0m keyarr \u001b[39m=\u001b[39m \u001b[39mself\u001b[39m\u001b[39m.\u001b[39mtake(indexer)\n\u001b[0;32m   6111\u001b[0m \u001b[39mif\u001b[39;00m \u001b[39misinstance\u001b[39m(key, Index):\n\u001b[0;32m   6112\u001b[0m     \u001b[39m# GH 42790 - Preserve name from an Index\u001b[39;00m\n",
      "File \u001b[1;32mc:\\WEDCVisualStudio\\Jupyter Notebooks\\Azure-Sentinel-Notebooks\\.venv\\lib\\site-packages\\pandas\\core\\indexes\\base.py:6171\u001b[0m, in \u001b[0;36mIndex._raise_if_missing\u001b[1;34m(self, key, indexer, axis_name)\u001b[0m\n\u001b[0;32m   6168\u001b[0m     \u001b[39mraise\u001b[39;00m \u001b[39mKeyError\u001b[39;00m(\u001b[39mf\u001b[39m\u001b[39m\"\u001b[39m\u001b[39mNone of [\u001b[39m\u001b[39m{\u001b[39;00mkey\u001b[39m}\u001b[39;00m\u001b[39m] are in the [\u001b[39m\u001b[39m{\u001b[39;00maxis_name\u001b[39m}\u001b[39;00m\u001b[39m]\u001b[39m\u001b[39m\"\u001b[39m)\n\u001b[0;32m   6170\u001b[0m not_found \u001b[39m=\u001b[39m \u001b[39mlist\u001b[39m(ensure_index(key)[missing_mask\u001b[39m.\u001b[39mnonzero()[\u001b[39m0\u001b[39m]]\u001b[39m.\u001b[39munique())\n\u001b[1;32m-> 6171\u001b[0m \u001b[39mraise\u001b[39;00m \u001b[39mKeyError\u001b[39;00m(\u001b[39mf\u001b[39m\u001b[39m\"\u001b[39m\u001b[39m{\u001b[39;00mnot_found\u001b[39m}\u001b[39;00m\u001b[39m not in index\u001b[39m\u001b[39m\"\u001b[39m)\n",
      "\u001b[1;31mKeyError\u001b[0m: \"['TI Risk'] not in index\""
     ]
    }
   ],
   "source": [
    "# Display timeline of all alerts grouped by the TI risk score of them\n",
    "selected_alert = Observation(caption=\"Alert Details\", data=rel_alert_select.selected_alert)\n",
    "summary.add_observation(selected_alert)\n",
    "\n",
    "if len(selected_alert_type) == 1:\n",
    "    md(\"Only one alert in selected alert provider/type - can't display timeline.\")\n",
    "else:\n",
    "    nbdisplay.display_timeline(\n",
    "        data=selected_alert_type, time_column=\"StartTimeUtc\",\n",
    "        group_by=\"TI Risk\", source_columns=[\"AlertName\"], \n",
    "        alert=rel_alert_select.selected_alert, title=\"Alerts over time grouped by TI risk score\")"
   ]
  },
  {
   "attachments": {},
   "cell_type": "markdown",
   "metadata": {},
   "source": [
    "### Next Steps\n",
    "\n",
    "Now that we have selected an alert of interest and triage key details we need to identify next investigative steps. The cell below identifies and extracts key entities from the selected alert. It provides additional enrichment to them using OSINT and based on their type recommends an additional Notebook to run for further investigation based on the Notebooks available at https://github.com/Azure/Azure-Sentinel-Notebooks/ or via the Microsoft Sentinel portal."
   ]
  },
  {
   "cell_type": "code",
   "execution_count": 33,
   "metadata": {
    "ExecuteTime": {
     "end_time": "2020-03-20T17:28:11.183976Z",
     "start_time": "2020-03-20T17:28:11.165977Z"
    }
   },
   "outputs": [
    {
     "data": {
      "text/html": [
       "<p style='font-weight: bold'>Entities for further investigation:</p>"
      ],
      "text/plain": [
       "<IPython.core.display.HTML object>"
      ]
     },
     "metadata": {},
     "output_type": "display_data"
    },
    {
     "data": {
      "text/html": [
       "<p style=''>No entities found in this alert</p>"
      ],
      "text/plain": [
       "<IPython.core.display.HTML object>"
      ]
     },
     "metadata": {},
     "output_type": "display_data"
    }
   ],
   "source": [
    "from ipwhois import IPWhois\n",
    "import whois\n",
    "from ipaddress import ip_address\n",
    "import tldextract\n",
    "\n",
    "# Based on the extracted entity enrich it with OSINT\n",
    "def enhance(row):\n",
    "    if row['Type'] == \"ipaddress\":\n",
    "        return whois_desc(row['Entity'])\n",
    "    elif row['Type'] == \"host\":\n",
    "        return host_sum(row['Entity'])\n",
    "    elif row['Type'] == \"url\":\n",
    "        return whois_url(row['Entity'])\n",
    "    \n",
    "# If entity is a hostname, get key details of the host.\n",
    "def host_sum(host):\n",
    "    hb_q = f\"Heartbeat | where TimeGenerated > datetime({query_times.start}) and TimeGenerated < datetime({query_times.end}) | where Computer == '{host}' | take 1\"\n",
    "    hb = qry_prov.exec_query(hb_q)\n",
    "    if not hb.empty:\n",
    "        hb_str = f\"{host} - {hb['ComputerIP'][0]} - {hb['OSType'][0]} - {hb['ComputerEnvironment'][0]}\"\n",
    "    else:\n",
    "        hb_str = \"No host heartbeat\"\n",
    "    return hb_str\n",
    "        \n",
    "# If entity is IP address work out what type of address it is and if a public IP address get ASN name.\n",
    "def whois_desc(ip_lookup, progress=False):\n",
    "    try:\n",
    "        ip = ip_address(ip_lookup)\n",
    "    except ValueError:\n",
    "        return \"Not an IP Address\"\n",
    "    if ip.is_private:\n",
    "        return \"Private address space\"\n",
    "    if not ip.is_global:\n",
    "        return \"Other address space\"\n",
    "    ip_whois = IPWhois(ip)\n",
    "    whois_result = ip_whois.lookup_whois()\n",
    "    return whois_result[\"asn_description\"]\n",
    "        \n",
    "# If entity is a URL get the name of the organisation that registered the domain.\n",
    "def whois_url(url):\n",
    "    _, domain,tld = tldextract.extract(url)\n",
    "    wis = whois.whois(f\"{domain}.{tld}\")\n",
    "    return wis['org']\n",
    "    \n",
    "# Based on the entity type suggest a Notebook for future investigation.\n",
    "def notebook_suggestor(row):\n",
    "    if row['Type'] in notebooks.keys():\n",
    "        return notebooks[row['Type']]\n",
    "    else:\n",
    "        return \"Write your own Notebook\" \n",
    "\n",
    "notebooks = {\"ipaddress\" : \"Entity Explorer - IP Address\",\n",
    "            \"host\" : \"Entity Explorer - Linux Host/Windows Host\",\n",
    "            \"account\" : \"Entity Explorer - Account\",\n",
    "            \"url\" : \"Entity Explorer - Domain and URL\"}\n",
    "    \n",
    "md('Entities for further investigation:', 'bold')\n",
    "ents = security_alert.get_all_entities()\n",
    "if not ents.empty:\n",
    "    ents['Notebook'] = ents.apply(notebook_suggestor, axis=1)\n",
    "    ents['Enrichment'] = ents.apply(enhance, axis=1)\n",
    "    display(ents.style.hide_index())\n",
    "\n",
    "    # Save entity details into our summary.\n",
    "    entities = Observation(caption=\"Entities for further investigation\", data=ents)\n",
    "    summary.add_observation(entities)\n",
    "else:\n",
    "    md('No entities found in this alert')"
   ]
  },
  {
   "cell_type": "code",
   "execution_count": null,
   "metadata": {
    "ExecuteTime": {
     "end_time": "2020-03-20T17:28:11.192978Z",
     "start_time": "2020-03-20T17:28:11.187980Z"
    }
   },
   "outputs": [],
   "source": [
    "#Uncomment the line below to see a summary of this Notebook's output\n",
    "#summary.display_observations()"
   ]
  }
 ],
 "metadata": {
  "hide_input": false,
  "kernelspec": {
   "display_name": ".venv",
   "language": "python",
   "name": "python3"
  },
  "language_info": {
   "codemirror_mode": {
    "name": "ipython",
    "version": 3
   },
   "file_extension": ".py",
   "mimetype": "text/x-python",
   "name": "python",
   "nbconvert_exporter": "python",
   "pygments_lexer": "ipython3",
   "version": "3.9.13"
  },
  "latex_envs": {
   "LaTeX_envs_menu_present": true,
   "autoclose": false,
   "autocomplete": true,
   "bibliofile": "biblio.bib",
   "cite_by": "apalike",
   "current_citInitial": 1,
   "eqLabelWithNumbers": true,
   "eqNumInitial": 1,
   "hotkeys": {
    "equation": "Ctrl-E",
    "itemize": "Ctrl-I"
   },
   "labels_anchors": false,
   "latex_user_defs": false,
   "report_style_numbering": false,
   "user_envs_cfg": false
  },
  "toc": {
   "base_numbering": 1,
   "nav_menu": {},
   "number_sections": false,
   "sideBar": true,
   "skip_h1_title": false,
   "title_cell": "Table of Contents",
   "title_sidebar": "Contents",
   "toc_cell": true,
   "toc_position": {},
   "toc_section_display": true,
   "toc_window_display": false
  },
  "varInspector": {
   "cols": {
    "lenName": 16,
    "lenType": 16,
    "lenVar": 40
   },
   "kernels_config": {
    "python": {
     "delete_cmd_postfix": "",
     "delete_cmd_prefix": "del ",
     "library": "var_list.py",
     "varRefreshCmd": "print(var_dic_list())"
    },
    "r": {
     "delete_cmd_postfix": ") ",
     "delete_cmd_prefix": "rm(",
     "library": "var_list.r",
     "varRefreshCmd": "cat(var_dic_list()) "
    }
   },
   "types_to_exclude": [
    "module",
    "function",
    "builtin_function_or_method",
    "instance",
    "_Feature"
   ],
   "window_display": false
  },
  "widgets": {
   "application/vnd.jupyter.widget-state+json": {
    "state": {},
    "version_major": 2,
    "version_minor": 0
   }
  }
 },
 "nbformat": 4,
 "nbformat_minor": 4
}
